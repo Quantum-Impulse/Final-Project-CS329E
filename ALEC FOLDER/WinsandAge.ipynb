{
 "cells": [
  {
   "cell_type": "code",
   "execution_count": 15,
   "id": "c3cc8d8d-2f73-422b-9371-e2fac641adb4",
   "metadata": {},
   "outputs": [
    {
     "data": {
      "application/vnd.plotly.v1+json": {
       "config": {
        "plotlyServerURL": "https://plot.ly"
       },
       "data": [
        {
         "hovertemplate": "Year=%{x}<br>Percentage of Home Wins=%{y}<extra></extra>",
         "legendgroup": "",
         "line": {
          "color": "#636efa",
          "dash": "solid"
         },
         "marker": {
          "symbol": "circle"
         },
         "mode": "markers+lines",
         "name": "",
         "orientation": "v",
         "showlegend": false,
         "type": "scatter",
         "x": [
          2003,
          2004,
          2005,
          2006,
          2007,
          2008,
          2009,
          2010,
          2011,
          2012,
          2013,
          2014,
          2015,
          2016,
          2017,
          2018,
          2019,
          2020,
          2021,
          2022
         ],
         "xaxis": "x",
         "y": [
          51.77304964539007,
          61.312741312741316,
          59.02439024390244,
          61.88835286009648,
          58.47578347578347,
          59.986130374479885,
          62.745098039215684,
          59.91620111731844,
          61.092896174863384,
          60.25316455696203,
          58.729050279329606,
          56.90492713393477,
          59.61945031712473,
          58.36249125262422,
          58.15102328863797,
          59.62373371924746,
          56.531531531531535,
          52.21130221130221,
          55.144032921810705,
          56.65171898355755
         ],
         "yaxis": "y"
        }
       ],
       "layout": {
        "hovermode": "x",
        "legend": {
         "tracegroupgap": 0
        },
        "template": {
         "data": {
          "bar": [
           {
            "error_x": {
             "color": "#2a3f5f"
            },
            "error_y": {
             "color": "#2a3f5f"
            },
            "marker": {
             "line": {
              "color": "#E5ECF6",
              "width": 0.5
             },
             "pattern": {
              "fillmode": "overlay",
              "size": 10,
              "solidity": 0.2
             }
            },
            "type": "bar"
           }
          ],
          "barpolar": [
           {
            "marker": {
             "line": {
              "color": "#E5ECF6",
              "width": 0.5
             },
             "pattern": {
              "fillmode": "overlay",
              "size": 10,
              "solidity": 0.2
             }
            },
            "type": "barpolar"
           }
          ],
          "carpet": [
           {
            "aaxis": {
             "endlinecolor": "#2a3f5f",
             "gridcolor": "white",
             "linecolor": "white",
             "minorgridcolor": "white",
             "startlinecolor": "#2a3f5f"
            },
            "baxis": {
             "endlinecolor": "#2a3f5f",
             "gridcolor": "white",
             "linecolor": "white",
             "minorgridcolor": "white",
             "startlinecolor": "#2a3f5f"
            },
            "type": "carpet"
           }
          ],
          "choropleth": [
           {
            "colorbar": {
             "outlinewidth": 0,
             "ticks": ""
            },
            "type": "choropleth"
           }
          ],
          "contour": [
           {
            "colorbar": {
             "outlinewidth": 0,
             "ticks": ""
            },
            "colorscale": [
             [
              0,
              "#0d0887"
             ],
             [
              0.1111111111111111,
              "#46039f"
             ],
             [
              0.2222222222222222,
              "#7201a8"
             ],
             [
              0.3333333333333333,
              "#9c179e"
             ],
             [
              0.4444444444444444,
              "#bd3786"
             ],
             [
              0.5555555555555556,
              "#d8576b"
             ],
             [
              0.6666666666666666,
              "#ed7953"
             ],
             [
              0.7777777777777778,
              "#fb9f3a"
             ],
             [
              0.8888888888888888,
              "#fdca26"
             ],
             [
              1,
              "#f0f921"
             ]
            ],
            "type": "contour"
           }
          ],
          "contourcarpet": [
           {
            "colorbar": {
             "outlinewidth": 0,
             "ticks": ""
            },
            "type": "contourcarpet"
           }
          ],
          "heatmap": [
           {
            "colorbar": {
             "outlinewidth": 0,
             "ticks": ""
            },
            "colorscale": [
             [
              0,
              "#0d0887"
             ],
             [
              0.1111111111111111,
              "#46039f"
             ],
             [
              0.2222222222222222,
              "#7201a8"
             ],
             [
              0.3333333333333333,
              "#9c179e"
             ],
             [
              0.4444444444444444,
              "#bd3786"
             ],
             [
              0.5555555555555556,
              "#d8576b"
             ],
             [
              0.6666666666666666,
              "#ed7953"
             ],
             [
              0.7777777777777778,
              "#fb9f3a"
             ],
             [
              0.8888888888888888,
              "#fdca26"
             ],
             [
              1,
              "#f0f921"
             ]
            ],
            "type": "heatmap"
           }
          ],
          "heatmapgl": [
           {
            "colorbar": {
             "outlinewidth": 0,
             "ticks": ""
            },
            "colorscale": [
             [
              0,
              "#0d0887"
             ],
             [
              0.1111111111111111,
              "#46039f"
             ],
             [
              0.2222222222222222,
              "#7201a8"
             ],
             [
              0.3333333333333333,
              "#9c179e"
             ],
             [
              0.4444444444444444,
              "#bd3786"
             ],
             [
              0.5555555555555556,
              "#d8576b"
             ],
             [
              0.6666666666666666,
              "#ed7953"
             ],
             [
              0.7777777777777778,
              "#fb9f3a"
             ],
             [
              0.8888888888888888,
              "#fdca26"
             ],
             [
              1,
              "#f0f921"
             ]
            ],
            "type": "heatmapgl"
           }
          ],
          "histogram": [
           {
            "marker": {
             "pattern": {
              "fillmode": "overlay",
              "size": 10,
              "solidity": 0.2
             }
            },
            "type": "histogram"
           }
          ],
          "histogram2d": [
           {
            "colorbar": {
             "outlinewidth": 0,
             "ticks": ""
            },
            "colorscale": [
             [
              0,
              "#0d0887"
             ],
             [
              0.1111111111111111,
              "#46039f"
             ],
             [
              0.2222222222222222,
              "#7201a8"
             ],
             [
              0.3333333333333333,
              "#9c179e"
             ],
             [
              0.4444444444444444,
              "#bd3786"
             ],
             [
              0.5555555555555556,
              "#d8576b"
             ],
             [
              0.6666666666666666,
              "#ed7953"
             ],
             [
              0.7777777777777778,
              "#fb9f3a"
             ],
             [
              0.8888888888888888,
              "#fdca26"
             ],
             [
              1,
              "#f0f921"
             ]
            ],
            "type": "histogram2d"
           }
          ],
          "histogram2dcontour": [
           {
            "colorbar": {
             "outlinewidth": 0,
             "ticks": ""
            },
            "colorscale": [
             [
              0,
              "#0d0887"
             ],
             [
              0.1111111111111111,
              "#46039f"
             ],
             [
              0.2222222222222222,
              "#7201a8"
             ],
             [
              0.3333333333333333,
              "#9c179e"
             ],
             [
              0.4444444444444444,
              "#bd3786"
             ],
             [
              0.5555555555555556,
              "#d8576b"
             ],
             [
              0.6666666666666666,
              "#ed7953"
             ],
             [
              0.7777777777777778,
              "#fb9f3a"
             ],
             [
              0.8888888888888888,
              "#fdca26"
             ],
             [
              1,
              "#f0f921"
             ]
            ],
            "type": "histogram2dcontour"
           }
          ],
          "mesh3d": [
           {
            "colorbar": {
             "outlinewidth": 0,
             "ticks": ""
            },
            "type": "mesh3d"
           }
          ],
          "parcoords": [
           {
            "line": {
             "colorbar": {
              "outlinewidth": 0,
              "ticks": ""
             }
            },
            "type": "parcoords"
           }
          ],
          "pie": [
           {
            "automargin": true,
            "type": "pie"
           }
          ],
          "scatter": [
           {
            "fillpattern": {
             "fillmode": "overlay",
             "size": 10,
             "solidity": 0.2
            },
            "type": "scatter"
           }
          ],
          "scatter3d": [
           {
            "line": {
             "colorbar": {
              "outlinewidth": 0,
              "ticks": ""
             }
            },
            "marker": {
             "colorbar": {
              "outlinewidth": 0,
              "ticks": ""
             }
            },
            "type": "scatter3d"
           }
          ],
          "scattercarpet": [
           {
            "marker": {
             "colorbar": {
              "outlinewidth": 0,
              "ticks": ""
             }
            },
            "type": "scattercarpet"
           }
          ],
          "scattergeo": [
           {
            "marker": {
             "colorbar": {
              "outlinewidth": 0,
              "ticks": ""
             }
            },
            "type": "scattergeo"
           }
          ],
          "scattergl": [
           {
            "marker": {
             "colorbar": {
              "outlinewidth": 0,
              "ticks": ""
             }
            },
            "type": "scattergl"
           }
          ],
          "scattermapbox": [
           {
            "marker": {
             "colorbar": {
              "outlinewidth": 0,
              "ticks": ""
             }
            },
            "type": "scattermapbox"
           }
          ],
          "scatterpolar": [
           {
            "marker": {
             "colorbar": {
              "outlinewidth": 0,
              "ticks": ""
             }
            },
            "type": "scatterpolar"
           }
          ],
          "scatterpolargl": [
           {
            "marker": {
             "colorbar": {
              "outlinewidth": 0,
              "ticks": ""
             }
            },
            "type": "scatterpolargl"
           }
          ],
          "scatterternary": [
           {
            "marker": {
             "colorbar": {
              "outlinewidth": 0,
              "ticks": ""
             }
            },
            "type": "scatterternary"
           }
          ],
          "surface": [
           {
            "colorbar": {
             "outlinewidth": 0,
             "ticks": ""
            },
            "colorscale": [
             [
              0,
              "#0d0887"
             ],
             [
              0.1111111111111111,
              "#46039f"
             ],
             [
              0.2222222222222222,
              "#7201a8"
             ],
             [
              0.3333333333333333,
              "#9c179e"
             ],
             [
              0.4444444444444444,
              "#bd3786"
             ],
             [
              0.5555555555555556,
              "#d8576b"
             ],
             [
              0.6666666666666666,
              "#ed7953"
             ],
             [
              0.7777777777777778,
              "#fb9f3a"
             ],
             [
              0.8888888888888888,
              "#fdca26"
             ],
             [
              1,
              "#f0f921"
             ]
            ],
            "type": "surface"
           }
          ],
          "table": [
           {
            "cells": {
             "fill": {
              "color": "#EBF0F8"
             },
             "line": {
              "color": "white"
             }
            },
            "header": {
             "fill": {
              "color": "#C8D4E3"
             },
             "line": {
              "color": "white"
             }
            },
            "type": "table"
           }
          ]
         },
         "layout": {
          "annotationdefaults": {
           "arrowcolor": "#2a3f5f",
           "arrowhead": 0,
           "arrowwidth": 1
          },
          "autotypenumbers": "strict",
          "coloraxis": {
           "colorbar": {
            "outlinewidth": 0,
            "ticks": ""
           }
          },
          "colorscale": {
           "diverging": [
            [
             0,
             "#8e0152"
            ],
            [
             0.1,
             "#c51b7d"
            ],
            [
             0.2,
             "#de77ae"
            ],
            [
             0.3,
             "#f1b6da"
            ],
            [
             0.4,
             "#fde0ef"
            ],
            [
             0.5,
             "#f7f7f7"
            ],
            [
             0.6,
             "#e6f5d0"
            ],
            [
             0.7,
             "#b8e186"
            ],
            [
             0.8,
             "#7fbc41"
            ],
            [
             0.9,
             "#4d9221"
            ],
            [
             1,
             "#276419"
            ]
           ],
           "sequential": [
            [
             0,
             "#0d0887"
            ],
            [
             0.1111111111111111,
             "#46039f"
            ],
            [
             0.2222222222222222,
             "#7201a8"
            ],
            [
             0.3333333333333333,
             "#9c179e"
            ],
            [
             0.4444444444444444,
             "#bd3786"
            ],
            [
             0.5555555555555556,
             "#d8576b"
            ],
            [
             0.6666666666666666,
             "#ed7953"
            ],
            [
             0.7777777777777778,
             "#fb9f3a"
            ],
            [
             0.8888888888888888,
             "#fdca26"
            ],
            [
             1,
             "#f0f921"
            ]
           ],
           "sequentialminus": [
            [
             0,
             "#0d0887"
            ],
            [
             0.1111111111111111,
             "#46039f"
            ],
            [
             0.2222222222222222,
             "#7201a8"
            ],
            [
             0.3333333333333333,
             "#9c179e"
            ],
            [
             0.4444444444444444,
             "#bd3786"
            ],
            [
             0.5555555555555556,
             "#d8576b"
            ],
            [
             0.6666666666666666,
             "#ed7953"
            ],
            [
             0.7777777777777778,
             "#fb9f3a"
            ],
            [
             0.8888888888888888,
             "#fdca26"
            ],
            [
             1,
             "#f0f921"
            ]
           ]
          },
          "colorway": [
           "#636efa",
           "#EF553B",
           "#00cc96",
           "#ab63fa",
           "#FFA15A",
           "#19d3f3",
           "#FF6692",
           "#B6E880",
           "#FF97FF",
           "#FECB52"
          ],
          "font": {
           "color": "#2a3f5f"
          },
          "geo": {
           "bgcolor": "white",
           "lakecolor": "white",
           "landcolor": "#E5ECF6",
           "showlakes": true,
           "showland": true,
           "subunitcolor": "white"
          },
          "hoverlabel": {
           "align": "left"
          },
          "hovermode": "closest",
          "mapbox": {
           "style": "light"
          },
          "paper_bgcolor": "white",
          "plot_bgcolor": "#E5ECF6",
          "polar": {
           "angularaxis": {
            "gridcolor": "white",
            "linecolor": "white",
            "ticks": ""
           },
           "bgcolor": "#E5ECF6",
           "radialaxis": {
            "gridcolor": "white",
            "linecolor": "white",
            "ticks": ""
           }
          },
          "scene": {
           "xaxis": {
            "backgroundcolor": "#E5ECF6",
            "gridcolor": "white",
            "gridwidth": 2,
            "linecolor": "white",
            "showbackground": true,
            "ticks": "",
            "zerolinecolor": "white"
           },
           "yaxis": {
            "backgroundcolor": "#E5ECF6",
            "gridcolor": "white",
            "gridwidth": 2,
            "linecolor": "white",
            "showbackground": true,
            "ticks": "",
            "zerolinecolor": "white"
           },
           "zaxis": {
            "backgroundcolor": "#E5ECF6",
            "gridcolor": "white",
            "gridwidth": 2,
            "linecolor": "white",
            "showbackground": true,
            "ticks": "",
            "zerolinecolor": "white"
           }
          },
          "shapedefaults": {
           "line": {
            "color": "#2a3f5f"
           }
          },
          "ternary": {
           "aaxis": {
            "gridcolor": "white",
            "linecolor": "white",
            "ticks": ""
           },
           "baxis": {
            "gridcolor": "white",
            "linecolor": "white",
            "ticks": ""
           },
           "bgcolor": "#E5ECF6",
           "caxis": {
            "gridcolor": "white",
            "linecolor": "white",
            "ticks": ""
           }
          },
          "title": {
           "x": 0.05
          },
          "xaxis": {
           "automargin": true,
           "gridcolor": "white",
           "linecolor": "white",
           "ticks": "",
           "title": {
            "standoff": 15
           },
           "zerolinecolor": "white",
           "zerolinewidth": 2
          },
          "yaxis": {
           "automargin": true,
           "gridcolor": "white",
           "linecolor": "white",
           "ticks": "",
           "title": {
            "standoff": 15
           },
           "zerolinecolor": "white",
           "zerolinewidth": 2
          }
         }
        },
        "title": {
         "text": "Percentage of Home Team Wins Over Time"
        },
        "xaxis": {
         "anchor": "y",
         "domain": [
          0,
          1
         ],
         "tickmode": "linear",
         "title": {
          "text": "Year"
         }
        },
        "yaxis": {
         "anchor": "x",
         "domain": [
          0,
          1
         ],
         "title": {
          "text": "Percentage of Home Wins (%)"
         }
        }
       }
      }
     },
     "metadata": {},
     "output_type": "display_data"
    }
   ],
   "source": [
    "import pandas as pd\n",
    "import plotly.express as px\n",
    "\n",
    "data_path = './games.csv' \n",
    "games_data = pd.read_csv(data_path)\n",
    "games_data['GAME_DATE_EST'] = pd.to_datetime(games_data['GAME_DATE_EST'])\n",
    "games_data['YEAR'] = games_data['GAME_DATE_EST'].dt.year\n",
    "yearly_stats = games_data.groupby('YEAR').agg(\n",
    "    Total_Games=('HOME_TEAM_WINS', 'size'),\n",
    "    Home_Wins=('HOME_TEAM_WINS', 'sum')\n",
    ")\n",
    "\n",
    "yearly_stats['Home_Win_Percentage'] = (yearly_stats['Home_Wins'] / yearly_stats['Total_Games']) * 100\n",
    "\n",
    "#  interactive plot of home win percentage over the years\n",
    "fig = px.line(yearly_stats, y='Home_Win_Percentage', title='Percentage of Home Team Wins Over Time',\n",
    "              labels={'Home_Win_Percentage': 'Percentage of Home Wins', 'YEAR': 'Year'},\n",
    "              markers=True)  \n",
    "fig.update_layout(xaxis_title='Year',\n",
    "                  yaxis_title='Percentage of Home Wins (%)',\n",
    "                  xaxis=dict(tickmode='linear'),\n",
    "                  hovermode='x')\n",
    "fig.show()\n",
    "\n"
   ]
  },
  {
   "cell_type": "markdown",
   "id": "b255f2e6-152f-436a-83f1-28561b6c7955",
   "metadata": {},
   "source": [
    "#### Annotations\n",
    "* This graph shows the total percentage of the time the home team wins of NBA games from 2003-2022.\n",
    "* We can see how the home team wins over 50% of the time for all of the seasons.\n",
    "*  We can also see how in 2020,covid and no fans attending games, impacted the win percentage/ home court advantage."
   ]
  },
  {
   "cell_type": "code",
   "execution_count": 16,
   "id": "67ed9fee-28fa-47e5-b8d9-ebbeb15829f3",
   "metadata": {},
   "outputs": [],
   "source": [
    "all_stats = pd.read_csv('./nba_2022-23_all_stats.csv')"
   ]
  },
  {
   "cell_type": "code",
   "execution_count": 17,
   "id": "ff753aff-1301-40bf-aaf2-39eb55481d4e",
   "metadata": {},
   "outputs": [
    {
     "name": "stdout",
     "output_type": "stream",
     "text": [
      "   Unnamed: 0               Player Name Position  Age Team  GP  GS    MP   FG  \\\n",
      "0           0  Nickeil Alexander-Walker       SG   24  MIN  59   3  15.0  2.2   \n",
      "1           0  Nickeil Alexander-Walker       SG   24  UTA  59   3  15.0  2.2   \n",
      "2           1          Ryan Arcidiacono       PG   28  NYK  20   4   8.6  0.5   \n",
      "3           1          Ryan Arcidiacono       PG   28  POR  20   4   8.6  0.5   \n",
      "4           2                  Mo Bamba        C   24  LAL  49   7  15.7  2.4   \n",
      "\n",
      "   FGA  ...  TOV%  USG%  OWS  DWS   WS  WS/48  OBPM  DBPM  BPM  VORP  \n",
      "0  5.0  ...  14.6  17.9  0.3  0.8  1.1  0.062  -1.4   0.4 -0.9   0.2  \n",
      "1  5.0  ...  14.6  17.9  0.3  0.8  1.1  0.062  -1.4   0.4 -0.9   0.2  \n",
      "2  1.9  ...  15.9  11.1 -0.2  0.1 -0.2 -0.043  -7.3  -1.5 -8.8  -0.3  \n",
      "3  1.9  ...  15.9  11.1 -0.2  0.1 -0.2 -0.043  -7.3  -1.5 -8.8  -0.3  \n",
      "4  4.9  ...  10.1  16.6  1.1  1.1  2.2  0.139  -0.2   0.7  0.5   0.5  \n",
      "\n",
      "[5 rows x 51 columns]\n"
     ]
    }
   ],
   "source": [
    "# Function to expand and duplicate rows for players with multiple teams\n",
    "def expand_teams(data):\n",
    "    # Split the 'Team' column where there are multiple teams (using '/')\n",
    "    expanded_teams = data['Team'].str.split('/', expand=True)\n",
    "\n",
    "    # Create a new DataFrame for each team and concatenate them into a single DataFrame\n",
    "    rows = []\n",
    "    for i in range(expanded_teams.shape[1]):\n",
    "        temp_df = data.copy()\n",
    "        temp_df['Team'] = expanded_teams[i]\n",
    "        temp_df = temp_df[temp_df['Team'].notna()]\n",
    "        rows.append(temp_df)\n",
    "\n",
    "    # Concatenate all the dataframes\n",
    "    return pd.concat(rows, ignore_index=True)\n",
    "\n",
    "# Apply the function to the all_stats DataFrame\n",
    "all_stats = expand_teams(all_stats)\n",
    "\n",
    "# Sort the DataFrame by 'Unnamed: 0' to maintain the original order and then by 'Team'\n",
    "all_stats = all_stats.sort_values(by=['Unnamed: 0', 'Team']).reset_index(drop=True)\n",
    "\n",
    "# Display the first few rows of the updated DataFrame\n",
    "print(all_stats.head())"
   ]
  },
  {
   "cell_type": "code",
   "execution_count": 18,
   "id": "99418436-2461-41c3-9e84-9424e3c6ca2f",
   "metadata": {},
   "outputs": [],
   "source": [
    "mean_ages = all_stats.groupby('Team')['Age'].mean()"
   ]
  },
  {
   "cell_type": "code",
   "execution_count": 19,
   "id": "ce276a14-d7ea-43ac-8e39-964ecfcc17af",
   "metadata": {},
   "outputs": [],
   "source": [
    "median_ages = all_stats.groupby('Team')['Age'].median()"
   ]
  },
  {
   "cell_type": "code",
   "execution_count": 20,
   "id": "574a2ba2-8446-456a-851b-90cd68d8d895",
   "metadata": {},
   "outputs": [],
   "source": [
    "average_age_per_team = all_stats.groupby('Team')['Age'].mean().reset_index()\n",
    "average_age_per_team.rename(columns={'Team': 'abbreviation', 'Age': 'average_age'}, inplace=True)\n"
   ]
  },
  {
   "cell_type": "code",
   "execution_count": 21,
   "id": "690cbfdf-efe5-4467-8fab-f766965f6ae8",
   "metadata": {},
   "outputs": [],
   "source": [
    "summary = pd.read_csv('./Team Summaries.csv')"
   ]
  },
  {
   "cell_type": "code",
   "execution_count": 22,
   "id": "2b8a8a28-8e9d-48f5-8e3b-8a1982f187f5",
   "metadata": {},
   "outputs": [
    {
     "data": {
      "text/html": [
       "<div>\n",
       "<style scoped>\n",
       "    .dataframe tbody tr th:only-of-type {\n",
       "        vertical-align: middle;\n",
       "    }\n",
       "\n",
       "    .dataframe tbody tr th {\n",
       "        vertical-align: top;\n",
       "    }\n",
       "\n",
       "    .dataframe thead th {\n",
       "        text-align: right;\n",
       "    }\n",
       "</style>\n",
       "<table border=\"1\" class=\"dataframe\">\n",
       "  <thead>\n",
       "    <tr style=\"text-align: right;\">\n",
       "      <th></th>\n",
       "      <th>index</th>\n",
       "      <th>season</th>\n",
       "      <th>lg</th>\n",
       "      <th>team</th>\n",
       "      <th>abbreviation</th>\n",
       "      <th>playoffs</th>\n",
       "      <th>age</th>\n",
       "      <th>w</th>\n",
       "      <th>l</th>\n",
       "      <th>pw</th>\n",
       "      <th>...</th>\n",
       "      <th>tov_percent</th>\n",
       "      <th>orb_percent</th>\n",
       "      <th>ft_fga</th>\n",
       "      <th>opp_e_fg_percent</th>\n",
       "      <th>opp_tov_percent</th>\n",
       "      <th>opp_drb_percent</th>\n",
       "      <th>opp_ft_fga</th>\n",
       "      <th>arena</th>\n",
       "      <th>attend</th>\n",
       "      <th>attend_g</th>\n",
       "    </tr>\n",
       "  </thead>\n",
       "  <tbody>\n",
       "    <tr>\n",
       "      <th>0</th>\n",
       "      <td>62</td>\n",
       "      <td>2022</td>\n",
       "      <td>NBA</td>\n",
       "      <td>Atlanta Hawks</td>\n",
       "      <td>ATL</td>\n",
       "      <td>True</td>\n",
       "      <td>26.1</td>\n",
       "      <td>43.0</td>\n",
       "      <td>39.0</td>\n",
       "      <td>45.0</td>\n",
       "      <td>...</td>\n",
       "      <td>10.8</td>\n",
       "      <td>23.0</td>\n",
       "      <td>0.205</td>\n",
       "      <td>0.543</td>\n",
       "      <td>11.5</td>\n",
       "      <td>76.9</td>\n",
       "      <td>0.177</td>\n",
       "      <td>State Farm Arena</td>\n",
       "      <td>672742.0</td>\n",
       "      <td>16408.0</td>\n",
       "    </tr>\n",
       "    <tr>\n",
       "      <th>1</th>\n",
       "      <td>63</td>\n",
       "      <td>2022</td>\n",
       "      <td>NBA</td>\n",
       "      <td>Boston Celtics</td>\n",
       "      <td>BOS</td>\n",
       "      <td>True</td>\n",
       "      <td>26.1</td>\n",
       "      <td>51.0</td>\n",
       "      <td>31.0</td>\n",
       "      <td>59.0</td>\n",
       "      <td>...</td>\n",
       "      <td>12.4</td>\n",
       "      <td>24.0</td>\n",
       "      <td>0.195</td>\n",
       "      <td>0.502</td>\n",
       "      <td>12.5</td>\n",
       "      <td>77.3</td>\n",
       "      <td>0.183</td>\n",
       "      <td>TD Garden</td>\n",
       "      <td>727928.0</td>\n",
       "      <td>17754.0</td>\n",
       "    </tr>\n",
       "    <tr>\n",
       "      <th>2</th>\n",
       "      <td>64</td>\n",
       "      <td>2022</td>\n",
       "      <td>NBA</td>\n",
       "      <td>Brooklyn Nets</td>\n",
       "      <td>BRK</td>\n",
       "      <td>True</td>\n",
       "      <td>29.1</td>\n",
       "      <td>44.0</td>\n",
       "      <td>38.0</td>\n",
       "      <td>43.0</td>\n",
       "      <td>...</td>\n",
       "      <td>12.5</td>\n",
       "      <td>23.9</td>\n",
       "      <td>0.198</td>\n",
       "      <td>0.521</td>\n",
       "      <td>11.7</td>\n",
       "      <td>75.1</td>\n",
       "      <td>0.201</td>\n",
       "      <td>Barclays Center</td>\n",
       "      <td>711539.0</td>\n",
       "      <td>17355.0</td>\n",
       "    </tr>\n",
       "    <tr>\n",
       "      <th>3</th>\n",
       "      <td>65</td>\n",
       "      <td>2022</td>\n",
       "      <td>NBA</td>\n",
       "      <td>Chicago Bulls</td>\n",
       "      <td>CHI</td>\n",
       "      <td>True</td>\n",
       "      <td>26.3</td>\n",
       "      <td>46.0</td>\n",
       "      <td>36.0</td>\n",
       "      <td>40.0</td>\n",
       "      <td>...</td>\n",
       "      <td>11.8</td>\n",
       "      <td>20.4</td>\n",
       "      <td>0.201</td>\n",
       "      <td>0.541</td>\n",
       "      <td>11.9</td>\n",
       "      <td>78.3</td>\n",
       "      <td>0.199</td>\n",
       "      <td>United Center</td>\n",
       "      <td>856148.0</td>\n",
       "      <td>20882.0</td>\n",
       "    </tr>\n",
       "    <tr>\n",
       "      <th>4</th>\n",
       "      <td>66</td>\n",
       "      <td>2022</td>\n",
       "      <td>NBA</td>\n",
       "      <td>Charlotte Hornets</td>\n",
       "      <td>CHO</td>\n",
       "      <td>False</td>\n",
       "      <td>25.5</td>\n",
       "      <td>43.0</td>\n",
       "      <td>39.0</td>\n",
       "      <td>42.0</td>\n",
       "      <td>...</td>\n",
       "      <td>11.6</td>\n",
       "      <td>23.3</td>\n",
       "      <td>0.173</td>\n",
       "      <td>0.544</td>\n",
       "      <td>13.1</td>\n",
       "      <td>74.8</td>\n",
       "      <td>0.187</td>\n",
       "      <td>Spectrum Center</td>\n",
       "      <td>700755.0</td>\n",
       "      <td>17092.0</td>\n",
       "    </tr>\n",
       "    <tr>\n",
       "      <th>5</th>\n",
       "      <td>67</td>\n",
       "      <td>2022</td>\n",
       "      <td>NBA</td>\n",
       "      <td>Cleveland Cavaliers</td>\n",
       "      <td>CLE</td>\n",
       "      <td>False</td>\n",
       "      <td>24.7</td>\n",
       "      <td>44.0</td>\n",
       "      <td>38.0</td>\n",
       "      <td>47.0</td>\n",
       "      <td>...</td>\n",
       "      <td>13.2</td>\n",
       "      <td>24.0</td>\n",
       "      <td>0.198</td>\n",
       "      <td>0.520</td>\n",
       "      <td>12.3</td>\n",
       "      <td>76.5</td>\n",
       "      <td>0.172</td>\n",
       "      <td>Rocket Mortgage Fieldhouse</td>\n",
       "      <td>758228.0</td>\n",
       "      <td>18493.0</td>\n",
       "    </tr>\n",
       "    <tr>\n",
       "      <th>6</th>\n",
       "      <td>68</td>\n",
       "      <td>2022</td>\n",
       "      <td>NBA</td>\n",
       "      <td>Dallas Mavericks</td>\n",
       "      <td>DAL</td>\n",
       "      <td>True</td>\n",
       "      <td>26.7</td>\n",
       "      <td>52.0</td>\n",
       "      <td>30.0</td>\n",
       "      <td>50.0</td>\n",
       "      <td>...</td>\n",
       "      <td>11.7</td>\n",
       "      <td>21.3</td>\n",
       "      <td>0.192</td>\n",
       "      <td>0.521</td>\n",
       "      <td>12.2</td>\n",
       "      <td>78.0</td>\n",
       "      <td>0.185</td>\n",
       "      <td>American Airlines Center</td>\n",
       "      <td>808037.0</td>\n",
       "      <td>19708.0</td>\n",
       "    </tr>\n",
       "    <tr>\n",
       "      <th>7</th>\n",
       "      <td>69</td>\n",
       "      <td>2022</td>\n",
       "      <td>NBA</td>\n",
       "      <td>Denver Nuggets</td>\n",
       "      <td>DEN</td>\n",
       "      <td>True</td>\n",
       "      <td>27.7</td>\n",
       "      <td>48.0</td>\n",
       "      <td>34.0</td>\n",
       "      <td>47.0</td>\n",
       "      <td>...</td>\n",
       "      <td>13.2</td>\n",
       "      <td>21.9</td>\n",
       "      <td>0.194</td>\n",
       "      <td>0.537</td>\n",
       "      <td>11.7</td>\n",
       "      <td>78.3</td>\n",
       "      <td>0.188</td>\n",
       "      <td>Ball Arena</td>\n",
       "      <td>695262.0</td>\n",
       "      <td>16958.0</td>\n",
       "    </tr>\n",
       "    <tr>\n",
       "      <th>8</th>\n",
       "      <td>70</td>\n",
       "      <td>2022</td>\n",
       "      <td>NBA</td>\n",
       "      <td>Detroit Pistons</td>\n",
       "      <td>DET</td>\n",
       "      <td>False</td>\n",
       "      <td>23.6</td>\n",
       "      <td>23.0</td>\n",
       "      <td>59.0</td>\n",
       "      <td>22.0</td>\n",
       "      <td>...</td>\n",
       "      <td>12.6</td>\n",
       "      <td>23.4</td>\n",
       "      <td>0.194</td>\n",
       "      <td>0.541</td>\n",
       "      <td>13.1</td>\n",
       "      <td>75.6</td>\n",
       "      <td>0.226</td>\n",
       "      <td>Little Caesars Arena</td>\n",
       "      <td>663556.0</td>\n",
       "      <td>16184.0</td>\n",
       "    </tr>\n",
       "    <tr>\n",
       "      <th>9</th>\n",
       "      <td>71</td>\n",
       "      <td>2022</td>\n",
       "      <td>NBA</td>\n",
       "      <td>Golden State Warriors</td>\n",
       "      <td>GSW</td>\n",
       "      <td>True</td>\n",
       "      <td>27.6</td>\n",
       "      <td>53.0</td>\n",
       "      <td>29.0</td>\n",
       "      <td>55.0</td>\n",
       "      <td>...</td>\n",
       "      <td>13.5</td>\n",
       "      <td>22.8</td>\n",
       "      <td>0.181</td>\n",
       "      <td>0.509</td>\n",
       "      <td>13.0</td>\n",
       "      <td>78.7</td>\n",
       "      <td>0.201</td>\n",
       "      <td>Chase Center</td>\n",
       "      <td>740624.0</td>\n",
       "      <td>18064.0</td>\n",
       "    </tr>\n",
       "    <tr>\n",
       "      <th>10</th>\n",
       "      <td>72</td>\n",
       "      <td>2022</td>\n",
       "      <td>NBA</td>\n",
       "      <td>Houston Rockets</td>\n",
       "      <td>HOU</td>\n",
       "      <td>False</td>\n",
       "      <td>24.1</td>\n",
       "      <td>20.0</td>\n",
       "      <td>62.0</td>\n",
       "      <td>21.0</td>\n",
       "      <td>...</td>\n",
       "      <td>14.5</td>\n",
       "      <td>21.7</td>\n",
       "      <td>0.202</td>\n",
       "      <td>0.554</td>\n",
       "      <td>12.3</td>\n",
       "      <td>74.4</td>\n",
       "      <td>0.206</td>\n",
       "      <td>Toyota Center</td>\n",
       "      <td>638977.0</td>\n",
       "      <td>15585.0</td>\n",
       "    </tr>\n",
       "    <tr>\n",
       "      <th>11</th>\n",
       "      <td>73</td>\n",
       "      <td>2022</td>\n",
       "      <td>NBA</td>\n",
       "      <td>Indiana Pacers</td>\n",
       "      <td>IND</td>\n",
       "      <td>False</td>\n",
       "      <td>26.0</td>\n",
       "      <td>25.0</td>\n",
       "      <td>57.0</td>\n",
       "      <td>32.0</td>\n",
       "      <td>...</td>\n",
       "      <td>12.7</td>\n",
       "      <td>25.5</td>\n",
       "      <td>0.184</td>\n",
       "      <td>0.552</td>\n",
       "      <td>11.9</td>\n",
       "      <td>76.2</td>\n",
       "      <td>0.204</td>\n",
       "      <td>Gainbridge Fieldhouse</td>\n",
       "      <td>588743.0</td>\n",
       "      <td>14360.0</td>\n",
       "    </tr>\n",
       "    <tr>\n",
       "      <th>12</th>\n",
       "      <td>74</td>\n",
       "      <td>2022</td>\n",
       "      <td>NBA</td>\n",
       "      <td>Los Angeles Clippers</td>\n",
       "      <td>LAC</td>\n",
       "      <td>False</td>\n",
       "      <td>27.5</td>\n",
       "      <td>42.0</td>\n",
       "      <td>40.0</td>\n",
       "      <td>41.0</td>\n",
       "      <td>...</td>\n",
       "      <td>12.5</td>\n",
       "      <td>20.6</td>\n",
       "      <td>0.178</td>\n",
       "      <td>0.514</td>\n",
       "      <td>12.0</td>\n",
       "      <td>74.4</td>\n",
       "      <td>0.167</td>\n",
       "      <td>Crypto.com Arena</td>\n",
       "      <td>694005.0</td>\n",
       "      <td>16927.0</td>\n",
       "    </tr>\n",
       "    <tr>\n",
       "      <th>13</th>\n",
       "      <td>75</td>\n",
       "      <td>2022</td>\n",
       "      <td>NBA</td>\n",
       "      <td>Los Angeles Lakers</td>\n",
       "      <td>LAL</td>\n",
       "      <td>False</td>\n",
       "      <td>30.2</td>\n",
       "      <td>33.0</td>\n",
       "      <td>49.0</td>\n",
       "      <td>33.0</td>\n",
       "      <td>...</td>\n",
       "      <td>12.8</td>\n",
       "      <td>21.1</td>\n",
       "      <td>0.190</td>\n",
       "      <td>0.540</td>\n",
       "      <td>12.2</td>\n",
       "      <td>75.8</td>\n",
       "      <td>0.192</td>\n",
       "      <td>Crypto.com Arena</td>\n",
       "      <td>764631.0</td>\n",
       "      <td>18650.0</td>\n",
       "    </tr>\n",
       "    <tr>\n",
       "      <th>14</th>\n",
       "      <td>76</td>\n",
       "      <td>2022</td>\n",
       "      <td>NBA</td>\n",
       "      <td>Memphis Grizzlies</td>\n",
       "      <td>MEM</td>\n",
       "      <td>True</td>\n",
       "      <td>24.0</td>\n",
       "      <td>56.0</td>\n",
       "      <td>26.0</td>\n",
       "      <td>55.0</td>\n",
       "      <td>...</td>\n",
       "      <td>11.2</td>\n",
       "      <td>30.0</td>\n",
       "      <td>0.180</td>\n",
       "      <td>0.523</td>\n",
       "      <td>13.3</td>\n",
       "      <td>77.8</td>\n",
       "      <td>0.195</td>\n",
       "      <td>FedEx Forum</td>\n",
       "      <td>646785.0</td>\n",
       "      <td>15775.0</td>\n",
       "    </tr>\n",
       "    <tr>\n",
       "      <th>15</th>\n",
       "      <td>77</td>\n",
       "      <td>2022</td>\n",
       "      <td>NBA</td>\n",
       "      <td>Miami Heat</td>\n",
       "      <td>MIA</td>\n",
       "      <td>True</td>\n",
       "      <td>28.2</td>\n",
       "      <td>53.0</td>\n",
       "      <td>29.0</td>\n",
       "      <td>53.0</td>\n",
       "      <td>...</td>\n",
       "      <td>13.4</td>\n",
       "      <td>23.5</td>\n",
       "      <td>0.204</td>\n",
       "      <td>0.524</td>\n",
       "      <td>13.8</td>\n",
       "      <td>78.0</td>\n",
       "      <td>0.209</td>\n",
       "      <td>FTX Arena</td>\n",
       "      <td>804761.0</td>\n",
       "      <td>19628.0</td>\n",
       "    </tr>\n",
       "    <tr>\n",
       "      <th>16</th>\n",
       "      <td>78</td>\n",
       "      <td>2022</td>\n",
       "      <td>NBA</td>\n",
       "      <td>Milwaukee Bucks</td>\n",
       "      <td>MIL</td>\n",
       "      <td>True</td>\n",
       "      <td>28.5</td>\n",
       "      <td>51.0</td>\n",
       "      <td>31.0</td>\n",
       "      <td>49.0</td>\n",
       "      <td>...</td>\n",
       "      <td>11.9</td>\n",
       "      <td>23.0</td>\n",
       "      <td>0.199</td>\n",
       "      <td>0.536</td>\n",
       "      <td>11.6</td>\n",
       "      <td>78.6</td>\n",
       "      <td>0.165</td>\n",
       "      <td>Fiserv Forum</td>\n",
       "      <td>715581.0</td>\n",
       "      <td>17453.0</td>\n",
       "    </tr>\n",
       "    <tr>\n",
       "      <th>17</th>\n",
       "      <td>79</td>\n",
       "      <td>2022</td>\n",
       "      <td>NBA</td>\n",
       "      <td>Minnesota Timberwolves</td>\n",
       "      <td>MIN</td>\n",
       "      <td>True</td>\n",
       "      <td>24.2</td>\n",
       "      <td>46.0</td>\n",
       "      <td>36.0</td>\n",
       "      <td>48.0</td>\n",
       "      <td>...</td>\n",
       "      <td>12.4</td>\n",
       "      <td>24.4</td>\n",
       "      <td>0.198</td>\n",
       "      <td>0.535</td>\n",
       "      <td>14.2</td>\n",
       "      <td>74.9</td>\n",
       "      <td>0.227</td>\n",
       "      <td>Target Center</td>\n",
       "      <td>657148.0</td>\n",
       "      <td>16028.0</td>\n",
       "    </tr>\n",
       "    <tr>\n",
       "      <th>18</th>\n",
       "      <td>80</td>\n",
       "      <td>2022</td>\n",
       "      <td>NBA</td>\n",
       "      <td>New Orleans Pelicans</td>\n",
       "      <td>NOP</td>\n",
       "      <td>True</td>\n",
       "      <td>25.6</td>\n",
       "      <td>36.0</td>\n",
       "      <td>46.0</td>\n",
       "      <td>38.0</td>\n",
       "      <td>...</td>\n",
       "      <td>12.5</td>\n",
       "      <td>26.9</td>\n",
       "      <td>0.208</td>\n",
       "      <td>0.547</td>\n",
       "      <td>13.0</td>\n",
       "      <td>78.2</td>\n",
       "      <td>0.196</td>\n",
       "      <td>Smoothie King Center</td>\n",
       "      <td>635941.0</td>\n",
       "      <td>15511.0</td>\n",
       "    </tr>\n",
       "    <tr>\n",
       "      <th>19</th>\n",
       "      <td>81</td>\n",
       "      <td>2022</td>\n",
       "      <td>NBA</td>\n",
       "      <td>New York Knicks</td>\n",
       "      <td>NYK</td>\n",
       "      <td>False</td>\n",
       "      <td>26.0</td>\n",
       "      <td>37.0</td>\n",
       "      <td>45.0</td>\n",
       "      <td>41.0</td>\n",
       "      <td>...</td>\n",
       "      <td>12.0</td>\n",
       "      <td>25.1</td>\n",
       "      <td>0.208</td>\n",
       "      <td>0.521</td>\n",
       "      <td>11.7</td>\n",
       "      <td>78.8</td>\n",
       "      <td>0.198</td>\n",
       "      <td>Madison Square Garden (IV)</td>\n",
       "      <td>763484.0</td>\n",
       "      <td>18622.0</td>\n",
       "    </tr>\n",
       "    <tr>\n",
       "      <th>20</th>\n",
       "      <td>82</td>\n",
       "      <td>2022</td>\n",
       "      <td>NBA</td>\n",
       "      <td>Oklahoma City Thunder</td>\n",
       "      <td>OKC</td>\n",
       "      <td>False</td>\n",
       "      <td>22.4</td>\n",
       "      <td>24.0</td>\n",
       "      <td>58.0</td>\n",
       "      <td>21.0</td>\n",
       "      <td>...</td>\n",
       "      <td>12.5</td>\n",
       "      <td>21.8</td>\n",
       "      <td>0.169</td>\n",
       "      <td>0.533</td>\n",
       "      <td>11.8</td>\n",
       "      <td>76.1</td>\n",
       "      <td>0.169</td>\n",
       "      <td>Paycom Center</td>\n",
       "      <td>595112.0</td>\n",
       "      <td>14515.0</td>\n",
       "    </tr>\n",
       "    <tr>\n",
       "      <th>21</th>\n",
       "      <td>83</td>\n",
       "      <td>2022</td>\n",
       "      <td>NBA</td>\n",
       "      <td>Orlando Magic</td>\n",
       "      <td>ORL</td>\n",
       "      <td>False</td>\n",
       "      <td>23.3</td>\n",
       "      <td>22.0</td>\n",
       "      <td>60.0</td>\n",
       "      <td>21.0</td>\n",
       "      <td>...</td>\n",
       "      <td>13.0</td>\n",
       "      <td>19.8</td>\n",
       "      <td>0.175</td>\n",
       "      <td>0.532</td>\n",
       "      <td>11.7</td>\n",
       "      <td>77.2</td>\n",
       "      <td>0.196</td>\n",
       "      <td>Amway Center</td>\n",
       "      <td>622881.0</td>\n",
       "      <td>15192.0</td>\n",
       "    </tr>\n",
       "    <tr>\n",
       "      <th>22</th>\n",
       "      <td>84</td>\n",
       "      <td>2022</td>\n",
       "      <td>NBA</td>\n",
       "      <td>Philadelphia 76ers</td>\n",
       "      <td>PHI</td>\n",
       "      <td>True</td>\n",
       "      <td>26.8</td>\n",
       "      <td>51.0</td>\n",
       "      <td>31.0</td>\n",
       "      <td>48.0</td>\n",
       "      <td>...</td>\n",
       "      <td>11.6</td>\n",
       "      <td>20.1</td>\n",
       "      <td>0.232</td>\n",
       "      <td>0.524</td>\n",
       "      <td>12.1</td>\n",
       "      <td>76.8</td>\n",
       "      <td>0.192</td>\n",
       "      <td>Wells Fargo Center</td>\n",
       "      <td>846867.0</td>\n",
       "      <td>20655.0</td>\n",
       "    </tr>\n",
       "    <tr>\n",
       "      <th>23</th>\n",
       "      <td>85</td>\n",
       "      <td>2022</td>\n",
       "      <td>NBA</td>\n",
       "      <td>Phoenix Suns</td>\n",
       "      <td>PHO</td>\n",
       "      <td>True</td>\n",
       "      <td>27.5</td>\n",
       "      <td>64.0</td>\n",
       "      <td>18.0</td>\n",
       "      <td>59.0</td>\n",
       "      <td>...</td>\n",
       "      <td>11.6</td>\n",
       "      <td>22.3</td>\n",
       "      <td>0.176</td>\n",
       "      <td>0.510</td>\n",
       "      <td>13.0</td>\n",
       "      <td>77.1</td>\n",
       "      <td>0.195</td>\n",
       "      <td>Phoenix Suns Arena</td>\n",
       "      <td>663171.0</td>\n",
       "      <td>16175.0</td>\n",
       "    </tr>\n",
       "    <tr>\n",
       "      <th>24</th>\n",
       "      <td>86</td>\n",
       "      <td>2022</td>\n",
       "      <td>NBA</td>\n",
       "      <td>Portland Trail Blazers</td>\n",
       "      <td>POR</td>\n",
       "      <td>False</td>\n",
       "      <td>25.6</td>\n",
       "      <td>27.0</td>\n",
       "      <td>55.0</td>\n",
       "      <td>20.0</td>\n",
       "      <td>...</td>\n",
       "      <td>13.0</td>\n",
       "      <td>22.9</td>\n",
       "      <td>0.188</td>\n",
       "      <td>0.559</td>\n",
       "      <td>12.7</td>\n",
       "      <td>76.9</td>\n",
       "      <td>0.222</td>\n",
       "      <td>Moda Center</td>\n",
       "      <td>705608.0</td>\n",
       "      <td>17210.0</td>\n",
       "    </tr>\n",
       "    <tr>\n",
       "      <th>25</th>\n",
       "      <td>87</td>\n",
       "      <td>2022</td>\n",
       "      <td>NBA</td>\n",
       "      <td>Sacramento Kings</td>\n",
       "      <td>SAC</td>\n",
       "      <td>False</td>\n",
       "      <td>25.8</td>\n",
       "      <td>30.0</td>\n",
       "      <td>52.0</td>\n",
       "      <td>28.0</td>\n",
       "      <td>...</td>\n",
       "      <td>12.5</td>\n",
       "      <td>21.3</td>\n",
       "      <td>0.203</td>\n",
       "      <td>0.551</td>\n",
       "      <td>11.9</td>\n",
       "      <td>76.0</td>\n",
       "      <td>0.176</td>\n",
       "      <td>Golden 1 Center</td>\n",
       "      <td>577583.0</td>\n",
       "      <td>14087.0</td>\n",
       "    </tr>\n",
       "    <tr>\n",
       "      <th>26</th>\n",
       "      <td>88</td>\n",
       "      <td>2022</td>\n",
       "      <td>NBA</td>\n",
       "      <td>San Antonio Spurs</td>\n",
       "      <td>SAS</td>\n",
       "      <td>False</td>\n",
       "      <td>24.5</td>\n",
       "      <td>34.0</td>\n",
       "      <td>48.0</td>\n",
       "      <td>41.0</td>\n",
       "      <td>...</td>\n",
       "      <td>11.1</td>\n",
       "      <td>23.7</td>\n",
       "      <td>0.166</td>\n",
       "      <td>0.532</td>\n",
       "      <td>12.1</td>\n",
       "      <td>75.1</td>\n",
       "      <td>0.176</td>\n",
       "      <td>AT&amp;T Center</td>\n",
       "      <td>615588.0</td>\n",
       "      <td>15014.0</td>\n",
       "    </tr>\n",
       "    <tr>\n",
       "      <th>27</th>\n",
       "      <td>89</td>\n",
       "      <td>2022</td>\n",
       "      <td>NBA</td>\n",
       "      <td>Toronto Raptors</td>\n",
       "      <td>TOR</td>\n",
       "      <td>True</td>\n",
       "      <td>24.8</td>\n",
       "      <td>48.0</td>\n",
       "      <td>34.0</td>\n",
       "      <td>47.0</td>\n",
       "      <td>...</td>\n",
       "      <td>11.0</td>\n",
       "      <td>28.4</td>\n",
       "      <td>0.177</td>\n",
       "      <td>0.535</td>\n",
       "      <td>14.4</td>\n",
       "      <td>75.6</td>\n",
       "      <td>0.199</td>\n",
       "      <td>Scotiabank Arena</td>\n",
       "      <td>547343.0</td>\n",
       "      <td>13350.0</td>\n",
       "    </tr>\n",
       "    <tr>\n",
       "      <th>28</th>\n",
       "      <td>90</td>\n",
       "      <td>2022</td>\n",
       "      <td>NBA</td>\n",
       "      <td>Utah Jazz</td>\n",
       "      <td>UTA</td>\n",
       "      <td>True</td>\n",
       "      <td>29.3</td>\n",
       "      <td>49.0</td>\n",
       "      <td>33.0</td>\n",
       "      <td>56.0</td>\n",
       "      <td>...</td>\n",
       "      <td>12.7</td>\n",
       "      <td>25.4</td>\n",
       "      <td>0.208</td>\n",
       "      <td>0.521</td>\n",
       "      <td>10.9</td>\n",
       "      <td>78.3</td>\n",
       "      <td>0.164</td>\n",
       "      <td>Vivint Smart Home Arena</td>\n",
       "      <td>750546.0</td>\n",
       "      <td>18306.0</td>\n",
       "    </tr>\n",
       "    <tr>\n",
       "      <th>29</th>\n",
       "      <td>91</td>\n",
       "      <td>2022</td>\n",
       "      <td>NBA</td>\n",
       "      <td>Washington Wizards</td>\n",
       "      <td>WAS</td>\n",
       "      <td>False</td>\n",
       "      <td>25.9</td>\n",
       "      <td>35.0</td>\n",
       "      <td>47.0</td>\n",
       "      <td>32.0</td>\n",
       "      <td>...</td>\n",
       "      <td>12.1</td>\n",
       "      <td>20.9</td>\n",
       "      <td>0.197</td>\n",
       "      <td>0.529</td>\n",
       "      <td>10.7</td>\n",
       "      <td>76.9</td>\n",
       "      <td>0.202</td>\n",
       "      <td>Capital One Arena</td>\n",
       "      <td>641499.0</td>\n",
       "      <td>15646.0</td>\n",
       "    </tr>\n",
       "    <tr>\n",
       "      <th>30</th>\n",
       "      <td>92</td>\n",
       "      <td>2022</td>\n",
       "      <td>NBA</td>\n",
       "      <td>League Average</td>\n",
       "      <td>NaN</td>\n",
       "      <td>False</td>\n",
       "      <td>26.3</td>\n",
       "      <td>NaN</td>\n",
       "      <td>NaN</td>\n",
       "      <td>41.0</td>\n",
       "      <td>...</td>\n",
       "      <td>12.3</td>\n",
       "      <td>23.2</td>\n",
       "      <td>0.192</td>\n",
       "      <td>0.532</td>\n",
       "      <td>12.3</td>\n",
       "      <td>76.8</td>\n",
       "      <td>0.192</td>\n",
       "      <td>NaN</td>\n",
       "      <td>693702.0</td>\n",
       "      <td>16920.0</td>\n",
       "    </tr>\n",
       "  </tbody>\n",
       "</table>\n",
       "<p>31 rows × 32 columns</p>\n",
       "</div>"
      ],
      "text/plain": [
       "    index  season   lg                    team abbreviation  playoffs   age  \\\n",
       "0      62    2022  NBA           Atlanta Hawks          ATL      True  26.1   \n",
       "1      63    2022  NBA          Boston Celtics          BOS      True  26.1   \n",
       "2      64    2022  NBA           Brooklyn Nets          BRK      True  29.1   \n",
       "3      65    2022  NBA           Chicago Bulls          CHI      True  26.3   \n",
       "4      66    2022  NBA       Charlotte Hornets          CHO     False  25.5   \n",
       "5      67    2022  NBA     Cleveland Cavaliers          CLE     False  24.7   \n",
       "6      68    2022  NBA        Dallas Mavericks          DAL      True  26.7   \n",
       "7      69    2022  NBA          Denver Nuggets          DEN      True  27.7   \n",
       "8      70    2022  NBA         Detroit Pistons          DET     False  23.6   \n",
       "9      71    2022  NBA   Golden State Warriors          GSW      True  27.6   \n",
       "10     72    2022  NBA         Houston Rockets          HOU     False  24.1   \n",
       "11     73    2022  NBA          Indiana Pacers          IND     False  26.0   \n",
       "12     74    2022  NBA    Los Angeles Clippers          LAC     False  27.5   \n",
       "13     75    2022  NBA      Los Angeles Lakers          LAL     False  30.2   \n",
       "14     76    2022  NBA       Memphis Grizzlies          MEM      True  24.0   \n",
       "15     77    2022  NBA              Miami Heat          MIA      True  28.2   \n",
       "16     78    2022  NBA         Milwaukee Bucks          MIL      True  28.5   \n",
       "17     79    2022  NBA  Minnesota Timberwolves          MIN      True  24.2   \n",
       "18     80    2022  NBA    New Orleans Pelicans          NOP      True  25.6   \n",
       "19     81    2022  NBA         New York Knicks          NYK     False  26.0   \n",
       "20     82    2022  NBA   Oklahoma City Thunder          OKC     False  22.4   \n",
       "21     83    2022  NBA           Orlando Magic          ORL     False  23.3   \n",
       "22     84    2022  NBA      Philadelphia 76ers          PHI      True  26.8   \n",
       "23     85    2022  NBA            Phoenix Suns          PHO      True  27.5   \n",
       "24     86    2022  NBA  Portland Trail Blazers          POR     False  25.6   \n",
       "25     87    2022  NBA        Sacramento Kings          SAC     False  25.8   \n",
       "26     88    2022  NBA       San Antonio Spurs          SAS     False  24.5   \n",
       "27     89    2022  NBA         Toronto Raptors          TOR      True  24.8   \n",
       "28     90    2022  NBA               Utah Jazz          UTA      True  29.3   \n",
       "29     91    2022  NBA      Washington Wizards          WAS     False  25.9   \n",
       "30     92    2022  NBA          League Average          NaN     False  26.3   \n",
       "\n",
       "       w     l    pw  ...  tov_percent  orb_percent  ft_fga  opp_e_fg_percent  \\\n",
       "0   43.0  39.0  45.0  ...         10.8         23.0   0.205             0.543   \n",
       "1   51.0  31.0  59.0  ...         12.4         24.0   0.195             0.502   \n",
       "2   44.0  38.0  43.0  ...         12.5         23.9   0.198             0.521   \n",
       "3   46.0  36.0  40.0  ...         11.8         20.4   0.201             0.541   \n",
       "4   43.0  39.0  42.0  ...         11.6         23.3   0.173             0.544   \n",
       "5   44.0  38.0  47.0  ...         13.2         24.0   0.198             0.520   \n",
       "6   52.0  30.0  50.0  ...         11.7         21.3   0.192             0.521   \n",
       "7   48.0  34.0  47.0  ...         13.2         21.9   0.194             0.537   \n",
       "8   23.0  59.0  22.0  ...         12.6         23.4   0.194             0.541   \n",
       "9   53.0  29.0  55.0  ...         13.5         22.8   0.181             0.509   \n",
       "10  20.0  62.0  21.0  ...         14.5         21.7   0.202             0.554   \n",
       "11  25.0  57.0  32.0  ...         12.7         25.5   0.184             0.552   \n",
       "12  42.0  40.0  41.0  ...         12.5         20.6   0.178             0.514   \n",
       "13  33.0  49.0  33.0  ...         12.8         21.1   0.190             0.540   \n",
       "14  56.0  26.0  55.0  ...         11.2         30.0   0.180             0.523   \n",
       "15  53.0  29.0  53.0  ...         13.4         23.5   0.204             0.524   \n",
       "16  51.0  31.0  49.0  ...         11.9         23.0   0.199             0.536   \n",
       "17  46.0  36.0  48.0  ...         12.4         24.4   0.198             0.535   \n",
       "18  36.0  46.0  38.0  ...         12.5         26.9   0.208             0.547   \n",
       "19  37.0  45.0  41.0  ...         12.0         25.1   0.208             0.521   \n",
       "20  24.0  58.0  21.0  ...         12.5         21.8   0.169             0.533   \n",
       "21  22.0  60.0  21.0  ...         13.0         19.8   0.175             0.532   \n",
       "22  51.0  31.0  48.0  ...         11.6         20.1   0.232             0.524   \n",
       "23  64.0  18.0  59.0  ...         11.6         22.3   0.176             0.510   \n",
       "24  27.0  55.0  20.0  ...         13.0         22.9   0.188             0.559   \n",
       "25  30.0  52.0  28.0  ...         12.5         21.3   0.203             0.551   \n",
       "26  34.0  48.0  41.0  ...         11.1         23.7   0.166             0.532   \n",
       "27  48.0  34.0  47.0  ...         11.0         28.4   0.177             0.535   \n",
       "28  49.0  33.0  56.0  ...         12.7         25.4   0.208             0.521   \n",
       "29  35.0  47.0  32.0  ...         12.1         20.9   0.197             0.529   \n",
       "30   NaN   NaN  41.0  ...         12.3         23.2   0.192             0.532   \n",
       "\n",
       "    opp_tov_percent  opp_drb_percent  opp_ft_fga                       arena  \\\n",
       "0              11.5             76.9       0.177            State Farm Arena   \n",
       "1              12.5             77.3       0.183                   TD Garden   \n",
       "2              11.7             75.1       0.201             Barclays Center   \n",
       "3              11.9             78.3       0.199               United Center   \n",
       "4              13.1             74.8       0.187             Spectrum Center   \n",
       "5              12.3             76.5       0.172  Rocket Mortgage Fieldhouse   \n",
       "6              12.2             78.0       0.185    American Airlines Center   \n",
       "7              11.7             78.3       0.188                  Ball Arena   \n",
       "8              13.1             75.6       0.226        Little Caesars Arena   \n",
       "9              13.0             78.7       0.201                Chase Center   \n",
       "10             12.3             74.4       0.206               Toyota Center   \n",
       "11             11.9             76.2       0.204       Gainbridge Fieldhouse   \n",
       "12             12.0             74.4       0.167            Crypto.com Arena   \n",
       "13             12.2             75.8       0.192            Crypto.com Arena   \n",
       "14             13.3             77.8       0.195                 FedEx Forum   \n",
       "15             13.8             78.0       0.209                   FTX Arena   \n",
       "16             11.6             78.6       0.165                Fiserv Forum   \n",
       "17             14.2             74.9       0.227               Target Center   \n",
       "18             13.0             78.2       0.196        Smoothie King Center   \n",
       "19             11.7             78.8       0.198  Madison Square Garden (IV)   \n",
       "20             11.8             76.1       0.169               Paycom Center   \n",
       "21             11.7             77.2       0.196                Amway Center   \n",
       "22             12.1             76.8       0.192          Wells Fargo Center   \n",
       "23             13.0             77.1       0.195          Phoenix Suns Arena   \n",
       "24             12.7             76.9       0.222                 Moda Center   \n",
       "25             11.9             76.0       0.176             Golden 1 Center   \n",
       "26             12.1             75.1       0.176                 AT&T Center   \n",
       "27             14.4             75.6       0.199            Scotiabank Arena   \n",
       "28             10.9             78.3       0.164     Vivint Smart Home Arena   \n",
       "29             10.7             76.9       0.202           Capital One Arena   \n",
       "30             12.3             76.8       0.192                         NaN   \n",
       "\n",
       "      attend  attend_g  \n",
       "0   672742.0   16408.0  \n",
       "1   727928.0   17754.0  \n",
       "2   711539.0   17355.0  \n",
       "3   856148.0   20882.0  \n",
       "4   700755.0   17092.0  \n",
       "5   758228.0   18493.0  \n",
       "6   808037.0   19708.0  \n",
       "7   695262.0   16958.0  \n",
       "8   663556.0   16184.0  \n",
       "9   740624.0   18064.0  \n",
       "10  638977.0   15585.0  \n",
       "11  588743.0   14360.0  \n",
       "12  694005.0   16927.0  \n",
       "13  764631.0   18650.0  \n",
       "14  646785.0   15775.0  \n",
       "15  804761.0   19628.0  \n",
       "16  715581.0   17453.0  \n",
       "17  657148.0   16028.0  \n",
       "18  635941.0   15511.0  \n",
       "19  763484.0   18622.0  \n",
       "20  595112.0   14515.0  \n",
       "21  622881.0   15192.0  \n",
       "22  846867.0   20655.0  \n",
       "23  663171.0   16175.0  \n",
       "24  705608.0   17210.0  \n",
       "25  577583.0   14087.0  \n",
       "26  615588.0   15014.0  \n",
       "27  547343.0   13350.0  \n",
       "28  750546.0   18306.0  \n",
       "29  641499.0   15646.0  \n",
       "30  693702.0   16920.0  \n",
       "\n",
       "[31 rows x 32 columns]"
      ]
     },
     "execution_count": 22,
     "metadata": {},
     "output_type": "execute_result"
    }
   ],
   "source": [
    "summary_copy = summary.copy()\n",
    "summary_2022 = summary_copy[(summary_copy['season']==2022)]\n",
    "summary_2022.reset_index()"
   ]
  },
  {
   "cell_type": "code",
   "execution_count": 23,
   "id": "3b7f9a2a-fa32-49af-afa2-6321b38dd2ea",
   "metadata": {},
   "outputs": [],
   "source": [
    "# extract necessary columns for merging and visualization\n",
    "wins_per_team = summary_2022[['abbreviation', 'w']]\n"
   ]
  },
  {
   "cell_type": "code",
   "execution_count": 24,
   "id": "39e52f25-a45e-4fe7-ae4a-9404684efcbf",
   "metadata": {},
   "outputs": [],
   "source": [
    "# merge on the abbreviation\n",
    "merged_data = pd.merge(average_age_per_team, wins_per_team, on='abbreviation', how='inner')"
   ]
  },
  {
   "cell_type": "code",
   "execution_count": 25,
   "id": "1d781c01-7b6e-4574-bb70-1bc760b63d55",
   "metadata": {},
   "outputs": [
    {
     "name": "stdout",
     "output_type": "stream",
     "text": [
      "abbreviation    0\n",
      "average_age     0\n",
      "w               0\n",
      "dtype: int64\n",
      "average_age     1.525837\n",
      "w              11.566897\n",
      "dtype: float64\n"
     ]
    }
   ],
   "source": [
    "print(merged_data.isnull().sum())\n",
    "\n",
    "\n",
    "merged_data_clean = merged_data.dropna(subset=['average_age', 'w'])\n",
    "\n",
    "# check the variability (standard deviation) in the data\n",
    "print(merged_data_clean[['average_age', 'w']].std())\n"
   ]
  },
  {
   "cell_type": "code",
   "execution_count": 26,
   "id": "1e919422-caa4-47f3-b1d9-681c6d62d099",
   "metadata": {},
   "outputs": [
    {
     "name": "stdout",
     "output_type": "stream",
     "text": [
      "                            OLS Regression Results                            \n",
      "==============================================================================\n",
      "Dep. Variable:                      w   R-squared:                       0.408\n",
      "Model:                            OLS   Adj. R-squared:                  0.387\n",
      "Method:                 Least Squares   F-statistic:                     19.31\n",
      "Date:                Sun, 21 Apr 2024   Prob (F-statistic):           0.000145\n",
      "Time:                        12:31:49   Log-Likelihood:                -107.64\n",
      "No. Observations:                  30   AIC:                             219.3\n",
      "Df Residuals:                      28   BIC:                             222.1\n",
      "Df Model:                           1                                         \n",
      "Covariance Type:            nonrobust                                         \n",
      "===============================================================================\n",
      "                  coef    std err          t      P>|t|      [0.025      0.975]\n",
      "-------------------------------------------------------------------------------\n",
      "const         -84.3282     28.568     -2.952      0.006    -142.848     -25.809\n",
      "average_age     4.8431      1.102      4.394      0.000       2.586       7.101\n",
      "==============================================================================\n",
      "Omnibus:                        1.309   Durbin-Watson:                   1.986\n",
      "Prob(Omnibus):                  0.520   Jarque-Bera (JB):                1.085\n",
      "Skew:                           0.446   Prob(JB):                        0.581\n",
      "Kurtosis:                       2.731   Cond. No.                         449.\n",
      "==============================================================================\n",
      "\n",
      "Notes:\n",
      "[1] Standard Errors assume that the covariance matrix of the errors is correctly specified.\n"
     ]
    },
    {
     "data": {
      "application/vnd.plotly.v1+json": {
       "config": {
        "plotlyServerURL": "https://plot.ly"
       },
       "data": [
        {
         "hovertemplate": "abbreviation=ATL<br>Average Age=%{x}<br>Wins=%{y}<extra></extra>",
         "legendgroup": "ATL",
         "marker": {
          "color": "#636efa",
          "symbol": "circle"
         },
         "mode": "markers",
         "name": "ATL",
         "orientation": "v",
         "showlegend": true,
         "type": "scatter",
         "x": [
          24.7
         ],
         "xaxis": "x",
         "y": [
          43
         ],
         "yaxis": "y"
        },
        {
         "hovertemplate": "abbreviation=BOS<br>Average Age=%{x}<br>Wins=%{y}<extra></extra>",
         "legendgroup": "BOS",
         "marker": {
          "color": "#EF553B",
          "symbol": "circle"
         },
         "mode": "markers",
         "name": "BOS",
         "orientation": "v",
         "showlegend": true,
         "type": "scatter",
         "x": [
          26.77777777777778
         ],
         "xaxis": "x",
         "y": [
          51
         ],
         "yaxis": "y"
        },
        {
         "hovertemplate": "abbreviation=BRK<br>Average Age=%{x}<br>Wins=%{y}<extra></extra>",
         "legendgroup": "BRK",
         "marker": {
          "color": "#00cc96",
          "symbol": "circle"
         },
         "mode": "markers",
         "name": "BRK",
         "orientation": "v",
         "showlegend": true,
         "type": "scatter",
         "x": [
          27
         ],
         "xaxis": "x",
         "y": [
          44
         ],
         "yaxis": "y"
        },
        {
         "hovertemplate": "abbreviation=CHI<br>Average Age=%{x}<br>Wins=%{y}<extra></extra>",
         "legendgroup": "CHI",
         "marker": {
          "color": "#ab63fa",
          "symbol": "circle"
         },
         "mode": "markers",
         "name": "CHI",
         "orientation": "v",
         "showlegend": true,
         "type": "scatter",
         "x": [
          26.77777777777778
         ],
         "xaxis": "x",
         "y": [
          46
         ],
         "yaxis": "y"
        },
        {
         "hovertemplate": "abbreviation=CHO<br>Average Age=%{x}<br>Wins=%{y}<extra></extra>",
         "legendgroup": "CHO",
         "marker": {
          "color": "#FFA15A",
          "symbol": "circle"
         },
         "mode": "markers",
         "name": "CHO",
         "orientation": "v",
         "showlegend": true,
         "type": "scatter",
         "x": [
          24.57894736842105
         ],
         "xaxis": "x",
         "y": [
          43
         ],
         "yaxis": "y"
        },
        {
         "hovertemplate": "abbreviation=CLE<br>Average Age=%{x}<br>Wins=%{y}<extra></extra>",
         "legendgroup": "CLE",
         "marker": {
          "color": "#19d3f3",
          "symbol": "circle"
         },
         "mode": "markers",
         "name": "CLE",
         "orientation": "v",
         "showlegend": true,
         "type": "scatter",
         "x": [
          27.11111111111111
         ],
         "xaxis": "x",
         "y": [
          44
         ],
         "yaxis": "y"
        },
        {
         "hovertemplate": "abbreviation=DAL<br>Average Age=%{x}<br>Wins=%{y}<extra></extra>",
         "legendgroup": "DAL",
         "marker": {
          "color": "#FF6692",
          "symbol": "circle"
         },
         "mode": "markers",
         "name": "DAL",
         "orientation": "v",
         "showlegend": true,
         "type": "scatter",
         "x": [
          28.08695652173913
         ],
         "xaxis": "x",
         "y": [
          52
         ],
         "yaxis": "y"
        },
        {
         "hovertemplate": "abbreviation=DEN<br>Average Age=%{x}<br>Wins=%{y}<extra></extra>",
         "legendgroup": "DEN",
         "marker": {
          "color": "#B6E880",
          "symbol": "circle"
         },
         "mode": "markers",
         "name": "DEN",
         "orientation": "v",
         "showlegend": true,
         "type": "scatter",
         "x": [
          26.72222222222222
         ],
         "xaxis": "x",
         "y": [
          48
         ],
         "yaxis": "y"
        },
        {
         "hovertemplate": "abbreviation=DET<br>Average Age=%{x}<br>Wins=%{y}<extra></extra>",
         "legendgroup": "DET",
         "marker": {
          "color": "#FF97FF",
          "symbol": "circle"
         },
         "mode": "markers",
         "name": "DET",
         "orientation": "v",
         "showlegend": true,
         "type": "scatter",
         "x": [
          24.272727272727273
         ],
         "xaxis": "x",
         "y": [
          23
         ],
         "yaxis": "y"
        },
        {
         "hovertemplate": "abbreviation=GSW<br>Average Age=%{x}<br>Wins=%{y}<extra></extra>",
         "legendgroup": "GSW",
         "marker": {
          "color": "#FECB52",
          "symbol": "circle"
         },
         "mode": "markers",
         "name": "GSW",
         "orientation": "v",
         "showlegend": true,
         "type": "scatter",
         "x": [
          26.333333333333332
         ],
         "xaxis": "x",
         "y": [
          53
         ],
         "yaxis": "y"
        },
        {
         "hovertemplate": "abbreviation=HOU<br>Average Age=%{x}<br>Wins=%{y}<extra></extra>",
         "legendgroup": "HOU",
         "marker": {
          "color": "#636efa",
          "symbol": "circle"
         },
         "mode": "markers",
         "name": "HOU",
         "orientation": "v",
         "showlegend": true,
         "type": "scatter",
         "x": [
          23.666666666666668
         ],
         "xaxis": "x",
         "y": [
          20
         ],
         "yaxis": "y"
        },
        {
         "hovertemplate": "abbreviation=IND<br>Average Age=%{x}<br>Wins=%{y}<extra></extra>",
         "legendgroup": "IND",
         "marker": {
          "color": "#EF553B",
          "symbol": "circle"
         },
         "mode": "markers",
         "name": "IND",
         "orientation": "v",
         "showlegend": true,
         "type": "scatter",
         "x": [
          25.5
         ],
         "xaxis": "x",
         "y": [
          25
         ],
         "yaxis": "y"
        },
        {
         "hovertemplate": "abbreviation=LAC<br>Average Age=%{x}<br>Wins=%{y}<extra></extra>",
         "legendgroup": "LAC",
         "marker": {
          "color": "#00cc96",
          "symbol": "circle"
         },
         "mode": "markers",
         "name": "LAC",
         "orientation": "v",
         "showlegend": true,
         "type": "scatter",
         "x": [
          28.333333333333332
         ],
         "xaxis": "x",
         "y": [
          42
         ],
         "yaxis": "y"
        },
        {
         "hovertemplate": "abbreviation=LAL<br>Average Age=%{x}<br>Wins=%{y}<extra></extra>",
         "legendgroup": "LAL",
         "marker": {
          "color": "#ab63fa",
          "symbol": "circle"
         },
         "mode": "markers",
         "name": "LAL",
         "orientation": "v",
         "showlegend": true,
         "type": "scatter",
         "x": [
          26.416666666666668
         ],
         "xaxis": "x",
         "y": [
          33
         ],
         "yaxis": "y"
        },
        {
         "hovertemplate": "abbreviation=MEM<br>Average Age=%{x}<br>Wins=%{y}<extra></extra>",
         "legendgroup": "MEM",
         "marker": {
          "color": "#FFA15A",
          "symbol": "circle"
         },
         "mode": "markers",
         "name": "MEM",
         "orientation": "v",
         "showlegend": true,
         "type": "scatter",
         "x": [
          24.210526315789473
         ],
         "xaxis": "x",
         "y": [
          56
         ],
         "yaxis": "y"
        },
        {
         "hovertemplate": "abbreviation=MIA<br>Average Age=%{x}<br>Wins=%{y}<extra></extra>",
         "legendgroup": "MIA",
         "marker": {
          "color": "#19d3f3",
          "symbol": "circle"
         },
         "mode": "markers",
         "name": "MIA",
         "orientation": "v",
         "showlegend": true,
         "type": "scatter",
         "x": [
          27.75
         ],
         "xaxis": "x",
         "y": [
          53
         ],
         "yaxis": "y"
        },
        {
         "hovertemplate": "abbreviation=MIL<br>Average Age=%{x}<br>Wins=%{y}<extra></extra>",
         "legendgroup": "MIL",
         "marker": {
          "color": "#FF6692",
          "symbol": "circle"
         },
         "mode": "markers",
         "name": "MIL",
         "orientation": "v",
         "showlegend": true,
         "type": "scatter",
         "x": [
          29.523809523809526
         ],
         "xaxis": "x",
         "y": [
          51
         ],
         "yaxis": "y"
        },
        {
         "hovertemplate": "abbreviation=MIN<br>Average Age=%{x}<br>Wins=%{y}<extra></extra>",
         "legendgroup": "MIN",
         "marker": {
          "color": "#B6E880",
          "symbol": "circle"
         },
         "mode": "markers",
         "name": "MIN",
         "orientation": "v",
         "showlegend": true,
         "type": "scatter",
         "x": [
          25.5
         ],
         "xaxis": "x",
         "y": [
          46
         ],
         "yaxis": "y"
        },
        {
         "hovertemplate": "abbreviation=NOP<br>Average Age=%{x}<br>Wins=%{y}<extra></extra>",
         "legendgroup": "NOP",
         "marker": {
          "color": "#FF97FF",
          "symbol": "circle"
         },
         "mode": "markers",
         "name": "NOP",
         "orientation": "v",
         "showlegend": true,
         "type": "scatter",
         "x": [
          25.705882352941178
         ],
         "xaxis": "x",
         "y": [
          36
         ],
         "yaxis": "y"
        },
        {
         "hovertemplate": "abbreviation=NYK<br>Average Age=%{x}<br>Wins=%{y}<extra></extra>",
         "legendgroup": "NYK",
         "marker": {
          "color": "#FECB52",
          "symbol": "circle"
         },
         "mode": "markers",
         "name": "NYK",
         "orientation": "v",
         "showlegend": true,
         "type": "scatter",
         "x": [
          25
         ],
         "xaxis": "x",
         "y": [
          37
         ],
         "yaxis": "y"
        },
        {
         "hovertemplate": "abbreviation=OKC<br>Average Age=%{x}<br>Wins=%{y}<extra></extra>",
         "legendgroup": "OKC",
         "marker": {
          "color": "#636efa",
          "symbol": "circle"
         },
         "mode": "markers",
         "name": "OKC",
         "orientation": "v",
         "showlegend": true,
         "type": "scatter",
         "x": [
          23.263157894736842
         ],
         "xaxis": "x",
         "y": [
          24
         ],
         "yaxis": "y"
        },
        {
         "hovertemplate": "abbreviation=ORL<br>Average Age=%{x}<br>Wins=%{y}<extra></extra>",
         "legendgroup": "ORL",
         "marker": {
          "color": "#EF553B",
          "symbol": "circle"
         },
         "mode": "markers",
         "name": "ORL",
         "orientation": "v",
         "showlegend": true,
         "type": "scatter",
         "x": [
          23.9
         ],
         "xaxis": "x",
         "y": [
          22
         ],
         "yaxis": "y"
        },
        {
         "hovertemplate": "abbreviation=PHI<br>Average Age=%{x}<br>Wins=%{y}<extra></extra>",
         "legendgroup": "PHI",
         "marker": {
          "color": "#00cc96",
          "symbol": "circle"
         },
         "mode": "markers",
         "name": "PHI",
         "orientation": "v",
         "showlegend": true,
         "type": "scatter",
         "x": [
          26.142857142857142
         ],
         "xaxis": "x",
         "y": [
          51
         ],
         "yaxis": "y"
        },
        {
         "hovertemplate": "abbreviation=PHO<br>Average Age=%{x}<br>Wins=%{y}<extra></extra>",
         "legendgroup": "PHO",
         "marker": {
          "color": "#ab63fa",
          "symbol": "circle"
         },
         "mode": "markers",
         "name": "PHO",
         "orientation": "v",
         "showlegend": true,
         "type": "scatter",
         "x": [
          27.6
         ],
         "xaxis": "x",
         "y": [
          64
         ],
         "yaxis": "y"
        },
        {
         "hovertemplate": "abbreviation=POR<br>Average Age=%{x}<br>Wins=%{y}<extra></extra>",
         "legendgroup": "POR",
         "marker": {
          "color": "#FFA15A",
          "symbol": "circle"
         },
         "mode": "markers",
         "name": "POR",
         "orientation": "v",
         "showlegend": true,
         "type": "scatter",
         "x": [
          24.5
         ],
         "xaxis": "x",
         "y": [
          27
         ],
         "yaxis": "y"
        },
        {
         "hovertemplate": "abbreviation=SAC<br>Average Age=%{x}<br>Wins=%{y}<extra></extra>",
         "legendgroup": "SAC",
         "marker": {
          "color": "#19d3f3",
          "symbol": "circle"
         },
         "mode": "markers",
         "name": "SAC",
         "orientation": "v",
         "showlegend": true,
         "type": "scatter",
         "x": [
          25.75
         ],
         "xaxis": "x",
         "y": [
          30
         ],
         "yaxis": "y"
        },
        {
         "hovertemplate": "abbreviation=SAS<br>Average Age=%{x}<br>Wins=%{y}<extra></extra>",
         "legendgroup": "SAS",
         "marker": {
          "color": "#FF6692",
          "symbol": "circle"
         },
         "mode": "markers",
         "name": "SAS",
         "orientation": "v",
         "showlegend": true,
         "type": "scatter",
         "x": [
          23.869565217391305
         ],
         "xaxis": "x",
         "y": [
          34
         ],
         "yaxis": "y"
        },
        {
         "hovertemplate": "abbreviation=TOR<br>Average Age=%{x}<br>Wins=%{y}<extra></extra>",
         "legendgroup": "TOR",
         "marker": {
          "color": "#B6E880",
          "symbol": "circle"
         },
         "mode": "markers",
         "name": "TOR",
         "orientation": "v",
         "showlegend": true,
         "type": "scatter",
         "x": [
          25.9
         ],
         "xaxis": "x",
         "y": [
          48
         ],
         "yaxis": "y"
        },
        {
         "hovertemplate": "abbreviation=UTA<br>Average Age=%{x}<br>Wins=%{y}<extra></extra>",
         "legendgroup": "UTA",
         "marker": {
          "color": "#FF97FF",
          "symbol": "circle"
         },
         "mode": "markers",
         "name": "UTA",
         "orientation": "v",
         "showlegend": true,
         "type": "scatter",
         "x": [
          25.782608695652176
         ],
         "xaxis": "x",
         "y": [
          49
         ],
         "yaxis": "y"
        },
        {
         "hovertemplate": "abbreviation=WAS<br>Average Age=%{x}<br>Wins=%{y}<extra></extra>",
         "legendgroup": "WAS",
         "marker": {
          "color": "#FECB52",
          "symbol": "circle"
         },
         "mode": "markers",
         "name": "WAS",
         "orientation": "v",
         "showlegend": true,
         "type": "scatter",
         "x": [
          25.652173913043477
         ],
         "xaxis": "x",
         "y": [
          35
         ],
         "yaxis": "y"
        },
        {
         "mode": "lines",
         "name": "Regression Line",
         "type": "scatter",
         "x": [
          24.7,
          26.77777777777778,
          27,
          26.77777777777778,
          24.57894736842105,
          27.11111111111111,
          28.08695652173913,
          26.72222222222222,
          24.272727272727273,
          26.333333333333332,
          23.666666666666668,
          25.5,
          28.333333333333332,
          26.416666666666668,
          24.210526315789473,
          27.75,
          29.523809523809526,
          25.5,
          25.705882352941178,
          25,
          23.263157894736842,
          23.9,
          26.142857142857142,
          27.6,
          24.5,
          25.75,
          23.869565217391305,
          25.9,
          25.782608695652176,
          25.652173913043477
         ],
         "y": [
          35.29673276182399,
          45.359647175466925,
          46.43589470633782,
          45.359647175466925,
          34.71046108053379,
          46.97401847177327,
          51.70014893342374,
          45.09058529274919,
          33.22740228201313,
          43.207152113725115,
          30.292181743274313,
          39.17122387295924,
          52.89337989156322,
          43.61074493780171,
          32.92615596356361,
          50.068230123027114,
          58.65899166408592,
          39.17122387295924,
          40.16833555597199,
          36.749666928499714,
          28.337942805640303,
          31.422241650688747,
          42.28465423012149,
          49.34176303968926,
          34.32810998404018,
          40.382002345189,
          31.274842532330347,
          41.10846942852685,
          40.53992997200159,
          39.90821946475126
         ]
        }
       ],
       "layout": {
        "legend": {
         "title": {
          "text": "abbreviation"
         },
         "tracegroupgap": 0
        },
        "template": {
         "data": {
          "bar": [
           {
            "error_x": {
             "color": "#2a3f5f"
            },
            "error_y": {
             "color": "#2a3f5f"
            },
            "marker": {
             "line": {
              "color": "#E5ECF6",
              "width": 0.5
             },
             "pattern": {
              "fillmode": "overlay",
              "size": 10,
              "solidity": 0.2
             }
            },
            "type": "bar"
           }
          ],
          "barpolar": [
           {
            "marker": {
             "line": {
              "color": "#E5ECF6",
              "width": 0.5
             },
             "pattern": {
              "fillmode": "overlay",
              "size": 10,
              "solidity": 0.2
             }
            },
            "type": "barpolar"
           }
          ],
          "carpet": [
           {
            "aaxis": {
             "endlinecolor": "#2a3f5f",
             "gridcolor": "white",
             "linecolor": "white",
             "minorgridcolor": "white",
             "startlinecolor": "#2a3f5f"
            },
            "baxis": {
             "endlinecolor": "#2a3f5f",
             "gridcolor": "white",
             "linecolor": "white",
             "minorgridcolor": "white",
             "startlinecolor": "#2a3f5f"
            },
            "type": "carpet"
           }
          ],
          "choropleth": [
           {
            "colorbar": {
             "outlinewidth": 0,
             "ticks": ""
            },
            "type": "choropleth"
           }
          ],
          "contour": [
           {
            "colorbar": {
             "outlinewidth": 0,
             "ticks": ""
            },
            "colorscale": [
             [
              0,
              "#0d0887"
             ],
             [
              0.1111111111111111,
              "#46039f"
             ],
             [
              0.2222222222222222,
              "#7201a8"
             ],
             [
              0.3333333333333333,
              "#9c179e"
             ],
             [
              0.4444444444444444,
              "#bd3786"
             ],
             [
              0.5555555555555556,
              "#d8576b"
             ],
             [
              0.6666666666666666,
              "#ed7953"
             ],
             [
              0.7777777777777778,
              "#fb9f3a"
             ],
             [
              0.8888888888888888,
              "#fdca26"
             ],
             [
              1,
              "#f0f921"
             ]
            ],
            "type": "contour"
           }
          ],
          "contourcarpet": [
           {
            "colorbar": {
             "outlinewidth": 0,
             "ticks": ""
            },
            "type": "contourcarpet"
           }
          ],
          "heatmap": [
           {
            "colorbar": {
             "outlinewidth": 0,
             "ticks": ""
            },
            "colorscale": [
             [
              0,
              "#0d0887"
             ],
             [
              0.1111111111111111,
              "#46039f"
             ],
             [
              0.2222222222222222,
              "#7201a8"
             ],
             [
              0.3333333333333333,
              "#9c179e"
             ],
             [
              0.4444444444444444,
              "#bd3786"
             ],
             [
              0.5555555555555556,
              "#d8576b"
             ],
             [
              0.6666666666666666,
              "#ed7953"
             ],
             [
              0.7777777777777778,
              "#fb9f3a"
             ],
             [
              0.8888888888888888,
              "#fdca26"
             ],
             [
              1,
              "#f0f921"
             ]
            ],
            "type": "heatmap"
           }
          ],
          "heatmapgl": [
           {
            "colorbar": {
             "outlinewidth": 0,
             "ticks": ""
            },
            "colorscale": [
             [
              0,
              "#0d0887"
             ],
             [
              0.1111111111111111,
              "#46039f"
             ],
             [
              0.2222222222222222,
              "#7201a8"
             ],
             [
              0.3333333333333333,
              "#9c179e"
             ],
             [
              0.4444444444444444,
              "#bd3786"
             ],
             [
              0.5555555555555556,
              "#d8576b"
             ],
             [
              0.6666666666666666,
              "#ed7953"
             ],
             [
              0.7777777777777778,
              "#fb9f3a"
             ],
             [
              0.8888888888888888,
              "#fdca26"
             ],
             [
              1,
              "#f0f921"
             ]
            ],
            "type": "heatmapgl"
           }
          ],
          "histogram": [
           {
            "marker": {
             "pattern": {
              "fillmode": "overlay",
              "size": 10,
              "solidity": 0.2
             }
            },
            "type": "histogram"
           }
          ],
          "histogram2d": [
           {
            "colorbar": {
             "outlinewidth": 0,
             "ticks": ""
            },
            "colorscale": [
             [
              0,
              "#0d0887"
             ],
             [
              0.1111111111111111,
              "#46039f"
             ],
             [
              0.2222222222222222,
              "#7201a8"
             ],
             [
              0.3333333333333333,
              "#9c179e"
             ],
             [
              0.4444444444444444,
              "#bd3786"
             ],
             [
              0.5555555555555556,
              "#d8576b"
             ],
             [
              0.6666666666666666,
              "#ed7953"
             ],
             [
              0.7777777777777778,
              "#fb9f3a"
             ],
             [
              0.8888888888888888,
              "#fdca26"
             ],
             [
              1,
              "#f0f921"
             ]
            ],
            "type": "histogram2d"
           }
          ],
          "histogram2dcontour": [
           {
            "colorbar": {
             "outlinewidth": 0,
             "ticks": ""
            },
            "colorscale": [
             [
              0,
              "#0d0887"
             ],
             [
              0.1111111111111111,
              "#46039f"
             ],
             [
              0.2222222222222222,
              "#7201a8"
             ],
             [
              0.3333333333333333,
              "#9c179e"
             ],
             [
              0.4444444444444444,
              "#bd3786"
             ],
             [
              0.5555555555555556,
              "#d8576b"
             ],
             [
              0.6666666666666666,
              "#ed7953"
             ],
             [
              0.7777777777777778,
              "#fb9f3a"
             ],
             [
              0.8888888888888888,
              "#fdca26"
             ],
             [
              1,
              "#f0f921"
             ]
            ],
            "type": "histogram2dcontour"
           }
          ],
          "mesh3d": [
           {
            "colorbar": {
             "outlinewidth": 0,
             "ticks": ""
            },
            "type": "mesh3d"
           }
          ],
          "parcoords": [
           {
            "line": {
             "colorbar": {
              "outlinewidth": 0,
              "ticks": ""
             }
            },
            "type": "parcoords"
           }
          ],
          "pie": [
           {
            "automargin": true,
            "type": "pie"
           }
          ],
          "scatter": [
           {
            "fillpattern": {
             "fillmode": "overlay",
             "size": 10,
             "solidity": 0.2
            },
            "type": "scatter"
           }
          ],
          "scatter3d": [
           {
            "line": {
             "colorbar": {
              "outlinewidth": 0,
              "ticks": ""
             }
            },
            "marker": {
             "colorbar": {
              "outlinewidth": 0,
              "ticks": ""
             }
            },
            "type": "scatter3d"
           }
          ],
          "scattercarpet": [
           {
            "marker": {
             "colorbar": {
              "outlinewidth": 0,
              "ticks": ""
             }
            },
            "type": "scattercarpet"
           }
          ],
          "scattergeo": [
           {
            "marker": {
             "colorbar": {
              "outlinewidth": 0,
              "ticks": ""
             }
            },
            "type": "scattergeo"
           }
          ],
          "scattergl": [
           {
            "marker": {
             "colorbar": {
              "outlinewidth": 0,
              "ticks": ""
             }
            },
            "type": "scattergl"
           }
          ],
          "scattermapbox": [
           {
            "marker": {
             "colorbar": {
              "outlinewidth": 0,
              "ticks": ""
             }
            },
            "type": "scattermapbox"
           }
          ],
          "scatterpolar": [
           {
            "marker": {
             "colorbar": {
              "outlinewidth": 0,
              "ticks": ""
             }
            },
            "type": "scatterpolar"
           }
          ],
          "scatterpolargl": [
           {
            "marker": {
             "colorbar": {
              "outlinewidth": 0,
              "ticks": ""
             }
            },
            "type": "scatterpolargl"
           }
          ],
          "scatterternary": [
           {
            "marker": {
             "colorbar": {
              "outlinewidth": 0,
              "ticks": ""
             }
            },
            "type": "scatterternary"
           }
          ],
          "surface": [
           {
            "colorbar": {
             "outlinewidth": 0,
             "ticks": ""
            },
            "colorscale": [
             [
              0,
              "#0d0887"
             ],
             [
              0.1111111111111111,
              "#46039f"
             ],
             [
              0.2222222222222222,
              "#7201a8"
             ],
             [
              0.3333333333333333,
              "#9c179e"
             ],
             [
              0.4444444444444444,
              "#bd3786"
             ],
             [
              0.5555555555555556,
              "#d8576b"
             ],
             [
              0.6666666666666666,
              "#ed7953"
             ],
             [
              0.7777777777777778,
              "#fb9f3a"
             ],
             [
              0.8888888888888888,
              "#fdca26"
             ],
             [
              1,
              "#f0f921"
             ]
            ],
            "type": "surface"
           }
          ],
          "table": [
           {
            "cells": {
             "fill": {
              "color": "#EBF0F8"
             },
             "line": {
              "color": "white"
             }
            },
            "header": {
             "fill": {
              "color": "#C8D4E3"
             },
             "line": {
              "color": "white"
             }
            },
            "type": "table"
           }
          ]
         },
         "layout": {
          "annotationdefaults": {
           "arrowcolor": "#2a3f5f",
           "arrowhead": 0,
           "arrowwidth": 1
          },
          "autotypenumbers": "strict",
          "coloraxis": {
           "colorbar": {
            "outlinewidth": 0,
            "ticks": ""
           }
          },
          "colorscale": {
           "diverging": [
            [
             0,
             "#8e0152"
            ],
            [
             0.1,
             "#c51b7d"
            ],
            [
             0.2,
             "#de77ae"
            ],
            [
             0.3,
             "#f1b6da"
            ],
            [
             0.4,
             "#fde0ef"
            ],
            [
             0.5,
             "#f7f7f7"
            ],
            [
             0.6,
             "#e6f5d0"
            ],
            [
             0.7,
             "#b8e186"
            ],
            [
             0.8,
             "#7fbc41"
            ],
            [
             0.9,
             "#4d9221"
            ],
            [
             1,
             "#276419"
            ]
           ],
           "sequential": [
            [
             0,
             "#0d0887"
            ],
            [
             0.1111111111111111,
             "#46039f"
            ],
            [
             0.2222222222222222,
             "#7201a8"
            ],
            [
             0.3333333333333333,
             "#9c179e"
            ],
            [
             0.4444444444444444,
             "#bd3786"
            ],
            [
             0.5555555555555556,
             "#d8576b"
            ],
            [
             0.6666666666666666,
             "#ed7953"
            ],
            [
             0.7777777777777778,
             "#fb9f3a"
            ],
            [
             0.8888888888888888,
             "#fdca26"
            ],
            [
             1,
             "#f0f921"
            ]
           ],
           "sequentialminus": [
            [
             0,
             "#0d0887"
            ],
            [
             0.1111111111111111,
             "#46039f"
            ],
            [
             0.2222222222222222,
             "#7201a8"
            ],
            [
             0.3333333333333333,
             "#9c179e"
            ],
            [
             0.4444444444444444,
             "#bd3786"
            ],
            [
             0.5555555555555556,
             "#d8576b"
            ],
            [
             0.6666666666666666,
             "#ed7953"
            ],
            [
             0.7777777777777778,
             "#fb9f3a"
            ],
            [
             0.8888888888888888,
             "#fdca26"
            ],
            [
             1,
             "#f0f921"
            ]
           ]
          },
          "colorway": [
           "#636efa",
           "#EF553B",
           "#00cc96",
           "#ab63fa",
           "#FFA15A",
           "#19d3f3",
           "#FF6692",
           "#B6E880",
           "#FF97FF",
           "#FECB52"
          ],
          "font": {
           "color": "#2a3f5f"
          },
          "geo": {
           "bgcolor": "white",
           "lakecolor": "white",
           "landcolor": "#E5ECF6",
           "showlakes": true,
           "showland": true,
           "subunitcolor": "white"
          },
          "hoverlabel": {
           "align": "left"
          },
          "hovermode": "closest",
          "mapbox": {
           "style": "light"
          },
          "paper_bgcolor": "white",
          "plot_bgcolor": "#E5ECF6",
          "polar": {
           "angularaxis": {
            "gridcolor": "white",
            "linecolor": "white",
            "ticks": ""
           },
           "bgcolor": "#E5ECF6",
           "radialaxis": {
            "gridcolor": "white",
            "linecolor": "white",
            "ticks": ""
           }
          },
          "scene": {
           "xaxis": {
            "backgroundcolor": "#E5ECF6",
            "gridcolor": "white",
            "gridwidth": 2,
            "linecolor": "white",
            "showbackground": true,
            "ticks": "",
            "zerolinecolor": "white"
           },
           "yaxis": {
            "backgroundcolor": "#E5ECF6",
            "gridcolor": "white",
            "gridwidth": 2,
            "linecolor": "white",
            "showbackground": true,
            "ticks": "",
            "zerolinecolor": "white"
           },
           "zaxis": {
            "backgroundcolor": "#E5ECF6",
            "gridcolor": "white",
            "gridwidth": 2,
            "linecolor": "white",
            "showbackground": true,
            "ticks": "",
            "zerolinecolor": "white"
           }
          },
          "shapedefaults": {
           "line": {
            "color": "#2a3f5f"
           }
          },
          "ternary": {
           "aaxis": {
            "gridcolor": "white",
            "linecolor": "white",
            "ticks": ""
           },
           "baxis": {
            "gridcolor": "white",
            "linecolor": "white",
            "ticks": ""
           },
           "bgcolor": "#E5ECF6",
           "caxis": {
            "gridcolor": "white",
            "linecolor": "white",
            "ticks": ""
           }
          },
          "title": {
           "x": 0.05
          },
          "xaxis": {
           "automargin": true,
           "gridcolor": "white",
           "linecolor": "white",
           "ticks": "",
           "title": {
            "standoff": 15
           },
           "zerolinecolor": "white",
           "zerolinewidth": 2
          },
          "yaxis": {
           "automargin": true,
           "gridcolor": "white",
           "linecolor": "white",
           "ticks": "",
           "title": {
            "standoff": 15
           },
           "zerolinecolor": "white",
           "zerolinewidth": 2
          }
         }
        },
        "title": {
         "text": "Comparison of Average Team Age to Wins with Manual Regression Line"
        },
        "xaxis": {
         "anchor": "y",
         "domain": [
          0,
          1
         ],
         "title": {
          "text": "Average Age"
         }
        },
        "yaxis": {
         "anchor": "x",
         "domain": [
          0,
          1
         ],
         "title": {
          "text": "Wins"
         }
        }
       }
      }
     },
     "metadata": {},
     "output_type": "display_data"
    }
   ],
   "source": [
    "import statsmodels.api as sm\n",
    "import plotly.express as px\n",
    "\n",
    "merged_data_clean = merged_data.dropna(subset=['average_age', 'w'])\n",
    "X = merged_data_clean['average_age']\n",
    "y = merged_data_clean['w']\n",
    "X = sm.add_constant(X)\n",
    "\n",
    "# regression model\n",
    "model = sm.OLS(y, X).fit()\n",
    "\n",
    "# regression results\n",
    "print(model.summary())\n",
    "\n",
    "# scatter plot\n",
    "fig = px.scatter(merged_data_clean, x='average_age', y='w', color='abbreviation',\n",
    "                 labels={'average_age': 'Average Age', 'w': 'Wins'},\n",
    "                 title='Comparison of Average Team Age to Wins with Manual Regression Line')\n",
    "\n",
    "# regression line\n",
    "fig.add_scatter(x=merged_data_clean['average_age'], y=model.predict(), mode='lines', name='Regression Line')\n",
    "fig.show()\n"
   ]
  },
  {
   "cell_type": "markdown",
   "id": "bbf9dea4-e727-4c02-b4bb-4e7c31478f23",
   "metadata": {},
   "source": [
    "#### Annotations\n",
    "* This graph shows the average age of teams and the total number of wins each team got for the 2022 season.\n",
    "* We can seee from the linear regression line that age has a positive correlation with the total number of wins.\n",
    "* There are some outliers that we percieve to come from the teams having all star players."
   ]
  },
  {
   "cell_type": "code",
   "execution_count": 27,
   "id": "80e1fe66-3ad3-4aec-89ee-2f923c03aed9",
   "metadata": {},
   "outputs": [
    {
     "data": {
      "application/vnd.plotly.v1+json": {
       "config": {
        "plotlyServerURL": "https://plot.ly"
       },
       "data": [
        {
         "alignmentgroup": "True",
         "hovertemplate": "Year=%{y}<br>Percentage of Home Wins=%{x}<extra></extra>",
         "legendgroup": "",
         "marker": {
          "color": "#636efa",
          "pattern": {
           "shape": ""
          }
         },
         "name": "",
         "offsetgroup": "",
         "orientation": "h",
         "showlegend": false,
         "textposition": "auto",
         "type": "bar",
         "x": [
          51.77304964539007
         ],
         "xaxis": "x",
         "y": [
          2003
         ],
         "yaxis": "y"
        }
       ],
       "frames": [
        {
         "data": [
          {
           "alignmentgroup": "True",
           "hovertemplate": "Year=%{y}<br>Percentage of Home Wins=%{x}<extra></extra>",
           "legendgroup": "",
           "marker": {
            "color": "#636efa",
            "pattern": {
             "shape": ""
            }
           },
           "name": "",
           "offsetgroup": "",
           "orientation": "h",
           "showlegend": false,
           "textposition": "auto",
           "type": "bar",
           "x": [
            51.77304964539007
           ],
           "xaxis": "x",
           "y": [
            2003
           ],
           "yaxis": "y"
          }
         ],
         "name": "2003"
        },
        {
         "data": [
          {
           "alignmentgroup": "True",
           "hovertemplate": "Year=%{y}<br>Percentage of Home Wins=%{x}<extra></extra>",
           "legendgroup": "",
           "marker": {
            "color": "#636efa",
            "pattern": {
             "shape": ""
            }
           },
           "name": "",
           "offsetgroup": "",
           "orientation": "h",
           "showlegend": false,
           "textposition": "auto",
           "type": "bar",
           "x": [
            61.312741312741316
           ],
           "xaxis": "x",
           "y": [
            2004
           ],
           "yaxis": "y"
          }
         ],
         "name": "2004"
        },
        {
         "data": [
          {
           "alignmentgroup": "True",
           "hovertemplate": "Year=%{y}<br>Percentage of Home Wins=%{x}<extra></extra>",
           "legendgroup": "",
           "marker": {
            "color": "#636efa",
            "pattern": {
             "shape": ""
            }
           },
           "name": "",
           "offsetgroup": "",
           "orientation": "h",
           "showlegend": false,
           "textposition": "auto",
           "type": "bar",
           "x": [
            59.02439024390244
           ],
           "xaxis": "x",
           "y": [
            2005
           ],
           "yaxis": "y"
          }
         ],
         "name": "2005"
        },
        {
         "data": [
          {
           "alignmentgroup": "True",
           "hovertemplate": "Year=%{y}<br>Percentage of Home Wins=%{x}<extra></extra>",
           "legendgroup": "",
           "marker": {
            "color": "#636efa",
            "pattern": {
             "shape": ""
            }
           },
           "name": "",
           "offsetgroup": "",
           "orientation": "h",
           "showlegend": false,
           "textposition": "auto",
           "type": "bar",
           "x": [
            61.88835286009648
           ],
           "xaxis": "x",
           "y": [
            2006
           ],
           "yaxis": "y"
          }
         ],
         "name": "2006"
        },
        {
         "data": [
          {
           "alignmentgroup": "True",
           "hovertemplate": "Year=%{y}<br>Percentage of Home Wins=%{x}<extra></extra>",
           "legendgroup": "",
           "marker": {
            "color": "#636efa",
            "pattern": {
             "shape": ""
            }
           },
           "name": "",
           "offsetgroup": "",
           "orientation": "h",
           "showlegend": false,
           "textposition": "auto",
           "type": "bar",
           "x": [
            58.47578347578347
           ],
           "xaxis": "x",
           "y": [
            2007
           ],
           "yaxis": "y"
          }
         ],
         "name": "2007"
        },
        {
         "data": [
          {
           "alignmentgroup": "True",
           "hovertemplate": "Year=%{y}<br>Percentage of Home Wins=%{x}<extra></extra>",
           "legendgroup": "",
           "marker": {
            "color": "#636efa",
            "pattern": {
             "shape": ""
            }
           },
           "name": "",
           "offsetgroup": "",
           "orientation": "h",
           "showlegend": false,
           "textposition": "auto",
           "type": "bar",
           "x": [
            59.986130374479885
           ],
           "xaxis": "x",
           "y": [
            2008
           ],
           "yaxis": "y"
          }
         ],
         "name": "2008"
        },
        {
         "data": [
          {
           "alignmentgroup": "True",
           "hovertemplate": "Year=%{y}<br>Percentage of Home Wins=%{x}<extra></extra>",
           "legendgroup": "",
           "marker": {
            "color": "#636efa",
            "pattern": {
             "shape": ""
            }
           },
           "name": "",
           "offsetgroup": "",
           "orientation": "h",
           "showlegend": false,
           "textposition": "auto",
           "type": "bar",
           "x": [
            62.745098039215684
           ],
           "xaxis": "x",
           "y": [
            2009
           ],
           "yaxis": "y"
          }
         ],
         "name": "2009"
        },
        {
         "data": [
          {
           "alignmentgroup": "True",
           "hovertemplate": "Year=%{y}<br>Percentage of Home Wins=%{x}<extra></extra>",
           "legendgroup": "",
           "marker": {
            "color": "#636efa",
            "pattern": {
             "shape": ""
            }
           },
           "name": "",
           "offsetgroup": "",
           "orientation": "h",
           "showlegend": false,
           "textposition": "auto",
           "type": "bar",
           "x": [
            59.91620111731844
           ],
           "xaxis": "x",
           "y": [
            2010
           ],
           "yaxis": "y"
          }
         ],
         "name": "2010"
        },
        {
         "data": [
          {
           "alignmentgroup": "True",
           "hovertemplate": "Year=%{y}<br>Percentage of Home Wins=%{x}<extra></extra>",
           "legendgroup": "",
           "marker": {
            "color": "#636efa",
            "pattern": {
             "shape": ""
            }
           },
           "name": "",
           "offsetgroup": "",
           "orientation": "h",
           "showlegend": false,
           "textposition": "auto",
           "type": "bar",
           "x": [
            61.092896174863384
           ],
           "xaxis": "x",
           "y": [
            2011
           ],
           "yaxis": "y"
          }
         ],
         "name": "2011"
        },
        {
         "data": [
          {
           "alignmentgroup": "True",
           "hovertemplate": "Year=%{y}<br>Percentage of Home Wins=%{x}<extra></extra>",
           "legendgroup": "",
           "marker": {
            "color": "#636efa",
            "pattern": {
             "shape": ""
            }
           },
           "name": "",
           "offsetgroup": "",
           "orientation": "h",
           "showlegend": false,
           "textposition": "auto",
           "type": "bar",
           "x": [
            60.25316455696203
           ],
           "xaxis": "x",
           "y": [
            2012
           ],
           "yaxis": "y"
          }
         ],
         "name": "2012"
        },
        {
         "data": [
          {
           "alignmentgroup": "True",
           "hovertemplate": "Year=%{y}<br>Percentage of Home Wins=%{x}<extra></extra>",
           "legendgroup": "",
           "marker": {
            "color": "#636efa",
            "pattern": {
             "shape": ""
            }
           },
           "name": "",
           "offsetgroup": "",
           "orientation": "h",
           "showlegend": false,
           "textposition": "auto",
           "type": "bar",
           "x": [
            58.729050279329606
           ],
           "xaxis": "x",
           "y": [
            2013
           ],
           "yaxis": "y"
          }
         ],
         "name": "2013"
        },
        {
         "data": [
          {
           "alignmentgroup": "True",
           "hovertemplate": "Year=%{y}<br>Percentage of Home Wins=%{x}<extra></extra>",
           "legendgroup": "",
           "marker": {
            "color": "#636efa",
            "pattern": {
             "shape": ""
            }
           },
           "name": "",
           "offsetgroup": "",
           "orientation": "h",
           "showlegend": false,
           "textposition": "auto",
           "type": "bar",
           "x": [
            56.90492713393477
           ],
           "xaxis": "x",
           "y": [
            2014
           ],
           "yaxis": "y"
          }
         ],
         "name": "2014"
        },
        {
         "data": [
          {
           "alignmentgroup": "True",
           "hovertemplate": "Year=%{y}<br>Percentage of Home Wins=%{x}<extra></extra>",
           "legendgroup": "",
           "marker": {
            "color": "#636efa",
            "pattern": {
             "shape": ""
            }
           },
           "name": "",
           "offsetgroup": "",
           "orientation": "h",
           "showlegend": false,
           "textposition": "auto",
           "type": "bar",
           "x": [
            59.61945031712473
           ],
           "xaxis": "x",
           "y": [
            2015
           ],
           "yaxis": "y"
          }
         ],
         "name": "2015"
        },
        {
         "data": [
          {
           "alignmentgroup": "True",
           "hovertemplate": "Year=%{y}<br>Percentage of Home Wins=%{x}<extra></extra>",
           "legendgroup": "",
           "marker": {
            "color": "#636efa",
            "pattern": {
             "shape": ""
            }
           },
           "name": "",
           "offsetgroup": "",
           "orientation": "h",
           "showlegend": false,
           "textposition": "auto",
           "type": "bar",
           "x": [
            58.36249125262422
           ],
           "xaxis": "x",
           "y": [
            2016
           ],
           "yaxis": "y"
          }
         ],
         "name": "2016"
        },
        {
         "data": [
          {
           "alignmentgroup": "True",
           "hovertemplate": "Year=%{y}<br>Percentage of Home Wins=%{x}<extra></extra>",
           "legendgroup": "",
           "marker": {
            "color": "#636efa",
            "pattern": {
             "shape": ""
            }
           },
           "name": "",
           "offsetgroup": "",
           "orientation": "h",
           "showlegend": false,
           "textposition": "auto",
           "type": "bar",
           "x": [
            58.15102328863797
           ],
           "xaxis": "x",
           "y": [
            2017
           ],
           "yaxis": "y"
          }
         ],
         "name": "2017"
        },
        {
         "data": [
          {
           "alignmentgroup": "True",
           "hovertemplate": "Year=%{y}<br>Percentage of Home Wins=%{x}<extra></extra>",
           "legendgroup": "",
           "marker": {
            "color": "#636efa",
            "pattern": {
             "shape": ""
            }
           },
           "name": "",
           "offsetgroup": "",
           "orientation": "h",
           "showlegend": false,
           "textposition": "auto",
           "type": "bar",
           "x": [
            59.62373371924746
           ],
           "xaxis": "x",
           "y": [
            2018
           ],
           "yaxis": "y"
          }
         ],
         "name": "2018"
        },
        {
         "data": [
          {
           "alignmentgroup": "True",
           "hovertemplate": "Year=%{y}<br>Percentage of Home Wins=%{x}<extra></extra>",
           "legendgroup": "",
           "marker": {
            "color": "#636efa",
            "pattern": {
             "shape": ""
            }
           },
           "name": "",
           "offsetgroup": "",
           "orientation": "h",
           "showlegend": false,
           "textposition": "auto",
           "type": "bar",
           "x": [
            56.531531531531535
           ],
           "xaxis": "x",
           "y": [
            2019
           ],
           "yaxis": "y"
          }
         ],
         "name": "2019"
        },
        {
         "data": [
          {
           "alignmentgroup": "True",
           "hovertemplate": "Year=%{y}<br>Percentage of Home Wins=%{x}<extra></extra>",
           "legendgroup": "",
           "marker": {
            "color": "#636efa",
            "pattern": {
             "shape": ""
            }
           },
           "name": "",
           "offsetgroup": "",
           "orientation": "h",
           "showlegend": false,
           "textposition": "auto",
           "type": "bar",
           "x": [
            52.21130221130221
           ],
           "xaxis": "x",
           "y": [
            2020
           ],
           "yaxis": "y"
          }
         ],
         "name": "2020"
        },
        {
         "data": [
          {
           "alignmentgroup": "True",
           "hovertemplate": "Year=%{y}<br>Percentage of Home Wins=%{x}<extra></extra>",
           "legendgroup": "",
           "marker": {
            "color": "#636efa",
            "pattern": {
             "shape": ""
            }
           },
           "name": "",
           "offsetgroup": "",
           "orientation": "h",
           "showlegend": false,
           "textposition": "auto",
           "type": "bar",
           "x": [
            55.144032921810705
           ],
           "xaxis": "x",
           "y": [
            2021
           ],
           "yaxis": "y"
          }
         ],
         "name": "2021"
        },
        {
         "data": [
          {
           "alignmentgroup": "True",
           "hovertemplate": "Year=%{y}<br>Percentage of Home Wins=%{x}<extra></extra>",
           "legendgroup": "",
           "marker": {
            "color": "#636efa",
            "pattern": {
             "shape": ""
            }
           },
           "name": "",
           "offsetgroup": "",
           "orientation": "h",
           "showlegend": false,
           "textposition": "auto",
           "type": "bar",
           "x": [
            56.65171898355755
           ],
           "xaxis": "x",
           "y": [
            2022
           ],
           "yaxis": "y"
          }
         ],
         "name": "2022"
        }
       ],
       "layout": {
        "barmode": "relative",
        "height": 800,
        "hovermode": "y",
        "legend": {
         "tracegroupgap": 0
        },
        "sliders": [
         {
          "active": 0,
          "currentvalue": {
           "prefix": "Year="
          },
          "len": 0.9,
          "pad": {
           "b": 10,
           "t": 60
          },
          "steps": [
           {
            "args": [
             [
              "2003"
             ],
             {
              "frame": {
               "duration": 0,
               "redraw": true
              },
              "fromcurrent": true,
              "mode": "immediate",
              "transition": {
               "duration": 0,
               "easing": "linear"
              }
             }
            ],
            "label": "2003",
            "method": "animate"
           },
           {
            "args": [
             [
              "2004"
             ],
             {
              "frame": {
               "duration": 0,
               "redraw": true
              },
              "fromcurrent": true,
              "mode": "immediate",
              "transition": {
               "duration": 0,
               "easing": "linear"
              }
             }
            ],
            "label": "2004",
            "method": "animate"
           },
           {
            "args": [
             [
              "2005"
             ],
             {
              "frame": {
               "duration": 0,
               "redraw": true
              },
              "fromcurrent": true,
              "mode": "immediate",
              "transition": {
               "duration": 0,
               "easing": "linear"
              }
             }
            ],
            "label": "2005",
            "method": "animate"
           },
           {
            "args": [
             [
              "2006"
             ],
             {
              "frame": {
               "duration": 0,
               "redraw": true
              },
              "fromcurrent": true,
              "mode": "immediate",
              "transition": {
               "duration": 0,
               "easing": "linear"
              }
             }
            ],
            "label": "2006",
            "method": "animate"
           },
           {
            "args": [
             [
              "2007"
             ],
             {
              "frame": {
               "duration": 0,
               "redraw": true
              },
              "fromcurrent": true,
              "mode": "immediate",
              "transition": {
               "duration": 0,
               "easing": "linear"
              }
             }
            ],
            "label": "2007",
            "method": "animate"
           },
           {
            "args": [
             [
              "2008"
             ],
             {
              "frame": {
               "duration": 0,
               "redraw": true
              },
              "fromcurrent": true,
              "mode": "immediate",
              "transition": {
               "duration": 0,
               "easing": "linear"
              }
             }
            ],
            "label": "2008",
            "method": "animate"
           },
           {
            "args": [
             [
              "2009"
             ],
             {
              "frame": {
               "duration": 0,
               "redraw": true
              },
              "fromcurrent": true,
              "mode": "immediate",
              "transition": {
               "duration": 0,
               "easing": "linear"
              }
             }
            ],
            "label": "2009",
            "method": "animate"
           },
           {
            "args": [
             [
              "2010"
             ],
             {
              "frame": {
               "duration": 0,
               "redraw": true
              },
              "fromcurrent": true,
              "mode": "immediate",
              "transition": {
               "duration": 0,
               "easing": "linear"
              }
             }
            ],
            "label": "2010",
            "method": "animate"
           },
           {
            "args": [
             [
              "2011"
             ],
             {
              "frame": {
               "duration": 0,
               "redraw": true
              },
              "fromcurrent": true,
              "mode": "immediate",
              "transition": {
               "duration": 0,
               "easing": "linear"
              }
             }
            ],
            "label": "2011",
            "method": "animate"
           },
           {
            "args": [
             [
              "2012"
             ],
             {
              "frame": {
               "duration": 0,
               "redraw": true
              },
              "fromcurrent": true,
              "mode": "immediate",
              "transition": {
               "duration": 0,
               "easing": "linear"
              }
             }
            ],
            "label": "2012",
            "method": "animate"
           },
           {
            "args": [
             [
              "2013"
             ],
             {
              "frame": {
               "duration": 0,
               "redraw": true
              },
              "fromcurrent": true,
              "mode": "immediate",
              "transition": {
               "duration": 0,
               "easing": "linear"
              }
             }
            ],
            "label": "2013",
            "method": "animate"
           },
           {
            "args": [
             [
              "2014"
             ],
             {
              "frame": {
               "duration": 0,
               "redraw": true
              },
              "fromcurrent": true,
              "mode": "immediate",
              "transition": {
               "duration": 0,
               "easing": "linear"
              }
             }
            ],
            "label": "2014",
            "method": "animate"
           },
           {
            "args": [
             [
              "2015"
             ],
             {
              "frame": {
               "duration": 0,
               "redraw": true
              },
              "fromcurrent": true,
              "mode": "immediate",
              "transition": {
               "duration": 0,
               "easing": "linear"
              }
             }
            ],
            "label": "2015",
            "method": "animate"
           },
           {
            "args": [
             [
              "2016"
             ],
             {
              "frame": {
               "duration": 0,
               "redraw": true
              },
              "fromcurrent": true,
              "mode": "immediate",
              "transition": {
               "duration": 0,
               "easing": "linear"
              }
             }
            ],
            "label": "2016",
            "method": "animate"
           },
           {
            "args": [
             [
              "2017"
             ],
             {
              "frame": {
               "duration": 0,
               "redraw": true
              },
              "fromcurrent": true,
              "mode": "immediate",
              "transition": {
               "duration": 0,
               "easing": "linear"
              }
             }
            ],
            "label": "2017",
            "method": "animate"
           },
           {
            "args": [
             [
              "2018"
             ],
             {
              "frame": {
               "duration": 0,
               "redraw": true
              },
              "fromcurrent": true,
              "mode": "immediate",
              "transition": {
               "duration": 0,
               "easing": "linear"
              }
             }
            ],
            "label": "2018",
            "method": "animate"
           },
           {
            "args": [
             [
              "2019"
             ],
             {
              "frame": {
               "duration": 0,
               "redraw": true
              },
              "fromcurrent": true,
              "mode": "immediate",
              "transition": {
               "duration": 0,
               "easing": "linear"
              }
             }
            ],
            "label": "2019",
            "method": "animate"
           },
           {
            "args": [
             [
              "2020"
             ],
             {
              "frame": {
               "duration": 0,
               "redraw": true
              },
              "fromcurrent": true,
              "mode": "immediate",
              "transition": {
               "duration": 0,
               "easing": "linear"
              }
             }
            ],
            "label": "2020",
            "method": "animate"
           },
           {
            "args": [
             [
              "2021"
             ],
             {
              "frame": {
               "duration": 0,
               "redraw": true
              },
              "fromcurrent": true,
              "mode": "immediate",
              "transition": {
               "duration": 0,
               "easing": "linear"
              }
             }
            ],
            "label": "2021",
            "method": "animate"
           },
           {
            "args": [
             [
              "2022"
             ],
             {
              "frame": {
               "duration": 0,
               "redraw": true
              },
              "fromcurrent": true,
              "mode": "immediate",
              "transition": {
               "duration": 0,
               "easing": "linear"
              }
             }
            ],
            "label": "2022",
            "method": "animate"
           }
          ],
          "x": 0.1,
          "xanchor": "left",
          "y": 0,
          "yanchor": "top"
         }
        ],
        "template": {
         "data": {
          "bar": [
           {
            "error_x": {
             "color": "#2a3f5f"
            },
            "error_y": {
             "color": "#2a3f5f"
            },
            "marker": {
             "line": {
              "color": "#E5ECF6",
              "width": 0.5
             },
             "pattern": {
              "fillmode": "overlay",
              "size": 10,
              "solidity": 0.2
             }
            },
            "type": "bar"
           }
          ],
          "barpolar": [
           {
            "marker": {
             "line": {
              "color": "#E5ECF6",
              "width": 0.5
             },
             "pattern": {
              "fillmode": "overlay",
              "size": 10,
              "solidity": 0.2
             }
            },
            "type": "barpolar"
           }
          ],
          "carpet": [
           {
            "aaxis": {
             "endlinecolor": "#2a3f5f",
             "gridcolor": "white",
             "linecolor": "white",
             "minorgridcolor": "white",
             "startlinecolor": "#2a3f5f"
            },
            "baxis": {
             "endlinecolor": "#2a3f5f",
             "gridcolor": "white",
             "linecolor": "white",
             "minorgridcolor": "white",
             "startlinecolor": "#2a3f5f"
            },
            "type": "carpet"
           }
          ],
          "choropleth": [
           {
            "colorbar": {
             "outlinewidth": 0,
             "ticks": ""
            },
            "type": "choropleth"
           }
          ],
          "contour": [
           {
            "colorbar": {
             "outlinewidth": 0,
             "ticks": ""
            },
            "colorscale": [
             [
              0,
              "#0d0887"
             ],
             [
              0.1111111111111111,
              "#46039f"
             ],
             [
              0.2222222222222222,
              "#7201a8"
             ],
             [
              0.3333333333333333,
              "#9c179e"
             ],
             [
              0.4444444444444444,
              "#bd3786"
             ],
             [
              0.5555555555555556,
              "#d8576b"
             ],
             [
              0.6666666666666666,
              "#ed7953"
             ],
             [
              0.7777777777777778,
              "#fb9f3a"
             ],
             [
              0.8888888888888888,
              "#fdca26"
             ],
             [
              1,
              "#f0f921"
             ]
            ],
            "type": "contour"
           }
          ],
          "contourcarpet": [
           {
            "colorbar": {
             "outlinewidth": 0,
             "ticks": ""
            },
            "type": "contourcarpet"
           }
          ],
          "heatmap": [
           {
            "colorbar": {
             "outlinewidth": 0,
             "ticks": ""
            },
            "colorscale": [
             [
              0,
              "#0d0887"
             ],
             [
              0.1111111111111111,
              "#46039f"
             ],
             [
              0.2222222222222222,
              "#7201a8"
             ],
             [
              0.3333333333333333,
              "#9c179e"
             ],
             [
              0.4444444444444444,
              "#bd3786"
             ],
             [
              0.5555555555555556,
              "#d8576b"
             ],
             [
              0.6666666666666666,
              "#ed7953"
             ],
             [
              0.7777777777777778,
              "#fb9f3a"
             ],
             [
              0.8888888888888888,
              "#fdca26"
             ],
             [
              1,
              "#f0f921"
             ]
            ],
            "type": "heatmap"
           }
          ],
          "heatmapgl": [
           {
            "colorbar": {
             "outlinewidth": 0,
             "ticks": ""
            },
            "colorscale": [
             [
              0,
              "#0d0887"
             ],
             [
              0.1111111111111111,
              "#46039f"
             ],
             [
              0.2222222222222222,
              "#7201a8"
             ],
             [
              0.3333333333333333,
              "#9c179e"
             ],
             [
              0.4444444444444444,
              "#bd3786"
             ],
             [
              0.5555555555555556,
              "#d8576b"
             ],
             [
              0.6666666666666666,
              "#ed7953"
             ],
             [
              0.7777777777777778,
              "#fb9f3a"
             ],
             [
              0.8888888888888888,
              "#fdca26"
             ],
             [
              1,
              "#f0f921"
             ]
            ],
            "type": "heatmapgl"
           }
          ],
          "histogram": [
           {
            "marker": {
             "pattern": {
              "fillmode": "overlay",
              "size": 10,
              "solidity": 0.2
             }
            },
            "type": "histogram"
           }
          ],
          "histogram2d": [
           {
            "colorbar": {
             "outlinewidth": 0,
             "ticks": ""
            },
            "colorscale": [
             [
              0,
              "#0d0887"
             ],
             [
              0.1111111111111111,
              "#46039f"
             ],
             [
              0.2222222222222222,
              "#7201a8"
             ],
             [
              0.3333333333333333,
              "#9c179e"
             ],
             [
              0.4444444444444444,
              "#bd3786"
             ],
             [
              0.5555555555555556,
              "#d8576b"
             ],
             [
              0.6666666666666666,
              "#ed7953"
             ],
             [
              0.7777777777777778,
              "#fb9f3a"
             ],
             [
              0.8888888888888888,
              "#fdca26"
             ],
             [
              1,
              "#f0f921"
             ]
            ],
            "type": "histogram2d"
           }
          ],
          "histogram2dcontour": [
           {
            "colorbar": {
             "outlinewidth": 0,
             "ticks": ""
            },
            "colorscale": [
             [
              0,
              "#0d0887"
             ],
             [
              0.1111111111111111,
              "#46039f"
             ],
             [
              0.2222222222222222,
              "#7201a8"
             ],
             [
              0.3333333333333333,
              "#9c179e"
             ],
             [
              0.4444444444444444,
              "#bd3786"
             ],
             [
              0.5555555555555556,
              "#d8576b"
             ],
             [
              0.6666666666666666,
              "#ed7953"
             ],
             [
              0.7777777777777778,
              "#fb9f3a"
             ],
             [
              0.8888888888888888,
              "#fdca26"
             ],
             [
              1,
              "#f0f921"
             ]
            ],
            "type": "histogram2dcontour"
           }
          ],
          "mesh3d": [
           {
            "colorbar": {
             "outlinewidth": 0,
             "ticks": ""
            },
            "type": "mesh3d"
           }
          ],
          "parcoords": [
           {
            "line": {
             "colorbar": {
              "outlinewidth": 0,
              "ticks": ""
             }
            },
            "type": "parcoords"
           }
          ],
          "pie": [
           {
            "automargin": true,
            "type": "pie"
           }
          ],
          "scatter": [
           {
            "fillpattern": {
             "fillmode": "overlay",
             "size": 10,
             "solidity": 0.2
            },
            "type": "scatter"
           }
          ],
          "scatter3d": [
           {
            "line": {
             "colorbar": {
              "outlinewidth": 0,
              "ticks": ""
             }
            },
            "marker": {
             "colorbar": {
              "outlinewidth": 0,
              "ticks": ""
             }
            },
            "type": "scatter3d"
           }
          ],
          "scattercarpet": [
           {
            "marker": {
             "colorbar": {
              "outlinewidth": 0,
              "ticks": ""
             }
            },
            "type": "scattercarpet"
           }
          ],
          "scattergeo": [
           {
            "marker": {
             "colorbar": {
              "outlinewidth": 0,
              "ticks": ""
             }
            },
            "type": "scattergeo"
           }
          ],
          "scattergl": [
           {
            "marker": {
             "colorbar": {
              "outlinewidth": 0,
              "ticks": ""
             }
            },
            "type": "scattergl"
           }
          ],
          "scattermapbox": [
           {
            "marker": {
             "colorbar": {
              "outlinewidth": 0,
              "ticks": ""
             }
            },
            "type": "scattermapbox"
           }
          ],
          "scatterpolar": [
           {
            "marker": {
             "colorbar": {
              "outlinewidth": 0,
              "ticks": ""
             }
            },
            "type": "scatterpolar"
           }
          ],
          "scatterpolargl": [
           {
            "marker": {
             "colorbar": {
              "outlinewidth": 0,
              "ticks": ""
             }
            },
            "type": "scatterpolargl"
           }
          ],
          "scatterternary": [
           {
            "marker": {
             "colorbar": {
              "outlinewidth": 0,
              "ticks": ""
             }
            },
            "type": "scatterternary"
           }
          ],
          "surface": [
           {
            "colorbar": {
             "outlinewidth": 0,
             "ticks": ""
            },
            "colorscale": [
             [
              0,
              "#0d0887"
             ],
             [
              0.1111111111111111,
              "#46039f"
             ],
             [
              0.2222222222222222,
              "#7201a8"
             ],
             [
              0.3333333333333333,
              "#9c179e"
             ],
             [
              0.4444444444444444,
              "#bd3786"
             ],
             [
              0.5555555555555556,
              "#d8576b"
             ],
             [
              0.6666666666666666,
              "#ed7953"
             ],
             [
              0.7777777777777778,
              "#fb9f3a"
             ],
             [
              0.8888888888888888,
              "#fdca26"
             ],
             [
              1,
              "#f0f921"
             ]
            ],
            "type": "surface"
           }
          ],
          "table": [
           {
            "cells": {
             "fill": {
              "color": "#EBF0F8"
             },
             "line": {
              "color": "white"
             }
            },
            "header": {
             "fill": {
              "color": "#C8D4E3"
             },
             "line": {
              "color": "white"
             }
            },
            "type": "table"
           }
          ]
         },
         "layout": {
          "annotationdefaults": {
           "arrowcolor": "#2a3f5f",
           "arrowhead": 0,
           "arrowwidth": 1
          },
          "autotypenumbers": "strict",
          "coloraxis": {
           "colorbar": {
            "outlinewidth": 0,
            "ticks": ""
           }
          },
          "colorscale": {
           "diverging": [
            [
             0,
             "#8e0152"
            ],
            [
             0.1,
             "#c51b7d"
            ],
            [
             0.2,
             "#de77ae"
            ],
            [
             0.3,
             "#f1b6da"
            ],
            [
             0.4,
             "#fde0ef"
            ],
            [
             0.5,
             "#f7f7f7"
            ],
            [
             0.6,
             "#e6f5d0"
            ],
            [
             0.7,
             "#b8e186"
            ],
            [
             0.8,
             "#7fbc41"
            ],
            [
             0.9,
             "#4d9221"
            ],
            [
             1,
             "#276419"
            ]
           ],
           "sequential": [
            [
             0,
             "#0d0887"
            ],
            [
             0.1111111111111111,
             "#46039f"
            ],
            [
             0.2222222222222222,
             "#7201a8"
            ],
            [
             0.3333333333333333,
             "#9c179e"
            ],
            [
             0.4444444444444444,
             "#bd3786"
            ],
            [
             0.5555555555555556,
             "#d8576b"
            ],
            [
             0.6666666666666666,
             "#ed7953"
            ],
            [
             0.7777777777777778,
             "#fb9f3a"
            ],
            [
             0.8888888888888888,
             "#fdca26"
            ],
            [
             1,
             "#f0f921"
            ]
           ],
           "sequentialminus": [
            [
             0,
             "#0d0887"
            ],
            [
             0.1111111111111111,
             "#46039f"
            ],
            [
             0.2222222222222222,
             "#7201a8"
            ],
            [
             0.3333333333333333,
             "#9c179e"
            ],
            [
             0.4444444444444444,
             "#bd3786"
            ],
            [
             0.5555555555555556,
             "#d8576b"
            ],
            [
             0.6666666666666666,
             "#ed7953"
            ],
            [
             0.7777777777777778,
             "#fb9f3a"
            ],
            [
             0.8888888888888888,
             "#fdca26"
            ],
            [
             1,
             "#f0f921"
            ]
           ]
          },
          "colorway": [
           "#636efa",
           "#EF553B",
           "#00cc96",
           "#ab63fa",
           "#FFA15A",
           "#19d3f3",
           "#FF6692",
           "#B6E880",
           "#FF97FF",
           "#FECB52"
          ],
          "font": {
           "color": "#2a3f5f"
          },
          "geo": {
           "bgcolor": "white",
           "lakecolor": "white",
           "landcolor": "#E5ECF6",
           "showlakes": true,
           "showland": true,
           "subunitcolor": "white"
          },
          "hoverlabel": {
           "align": "left"
          },
          "hovermode": "closest",
          "mapbox": {
           "style": "light"
          },
          "paper_bgcolor": "white",
          "plot_bgcolor": "#E5ECF6",
          "polar": {
           "angularaxis": {
            "gridcolor": "white",
            "linecolor": "white",
            "ticks": ""
           },
           "bgcolor": "#E5ECF6",
           "radialaxis": {
            "gridcolor": "white",
            "linecolor": "white",
            "ticks": ""
           }
          },
          "scene": {
           "xaxis": {
            "backgroundcolor": "#E5ECF6",
            "gridcolor": "white",
            "gridwidth": 2,
            "linecolor": "white",
            "showbackground": true,
            "ticks": "",
            "zerolinecolor": "white"
           },
           "yaxis": {
            "backgroundcolor": "#E5ECF6",
            "gridcolor": "white",
            "gridwidth": 2,
            "linecolor": "white",
            "showbackground": true,
            "ticks": "",
            "zerolinecolor": "white"
           },
           "zaxis": {
            "backgroundcolor": "#E5ECF6",
            "gridcolor": "white",
            "gridwidth": 2,
            "linecolor": "white",
            "showbackground": true,
            "ticks": "",
            "zerolinecolor": "white"
           }
          },
          "shapedefaults": {
           "line": {
            "color": "#2a3f5f"
           }
          },
          "ternary": {
           "aaxis": {
            "gridcolor": "white",
            "linecolor": "white",
            "ticks": ""
           },
           "baxis": {
            "gridcolor": "white",
            "linecolor": "white",
            "ticks": ""
           },
           "bgcolor": "#E5ECF6",
           "caxis": {
            "gridcolor": "white",
            "linecolor": "white",
            "ticks": ""
           }
          },
          "title": {
           "x": 0.05
          },
          "xaxis": {
           "automargin": true,
           "gridcolor": "white",
           "linecolor": "white",
           "ticks": "",
           "title": {
            "standoff": 15
           },
           "zerolinecolor": "white",
           "zerolinewidth": 2
          },
          "yaxis": {
           "automargin": true,
           "gridcolor": "white",
           "linecolor": "white",
           "ticks": "",
           "title": {
            "standoff": 15
           },
           "zerolinecolor": "white",
           "zerolinewidth": 2
          }
         }
        },
        "title": {
         "text": "Percentage of Home Team Wins Over Time"
        },
        "updatemenus": [
         {
          "buttons": [
           {
            "args": [
             null,
             {
              "frame": {
               "duration": 500,
               "redraw": true
              },
              "fromcurrent": true,
              "mode": "immediate",
              "transition": {
               "duration": 500,
               "easing": "linear"
              }
             }
            ],
            "label": "&#9654;",
            "method": "animate"
           },
           {
            "args": [
             [
              null
             ],
             {
              "frame": {
               "duration": 0,
               "redraw": true
              },
              "fromcurrent": true,
              "mode": "immediate",
              "transition": {
               "duration": 0,
               "easing": "linear"
              }
             }
            ],
            "label": "&#9724;",
            "method": "animate"
           }
          ],
          "direction": "left",
          "pad": {
           "r": 10,
           "t": 70
          },
          "showactive": false,
          "type": "buttons",
          "x": 0.1,
          "xanchor": "right",
          "y": 0,
          "yanchor": "top"
         }
        ],
        "width": 1200,
        "xaxis": {
         "anchor": "y",
         "domain": [
          0,
          1
         ],
         "range": [
          0,
          100
         ],
         "title": {
          "text": "Percentage of Home Wins (%)"
         }
        },
        "yaxis": {
         "anchor": "x",
         "categoryarray": [
          2022,
          2021,
          2020,
          2019,
          2018,
          2017,
          2016,
          2015,
          2014,
          2013,
          2012,
          2011,
          2010,
          2009,
          2008,
          2007,
          2006,
          2005,
          2004,
          2003
         ],
         "categoryorder": "array",
         "domain": [
          0,
          1
         ],
         "range": [
          2003,
          2022
         ],
         "tickmode": "linear",
         "title": {
          "text": "Year"
         }
        }
       }
      }
     },
     "metadata": {},
     "output_type": "display_data"
    }
   ],
   "source": [
    "import pandas as pd\n",
    "import plotly.express as px\n",
    "\n",
    "data_path = './games.csv'\n",
    "games_data = pd.read_csv(data_path)\n",
    "games_data['GAME_DATE_EST'] = pd.to_datetime(games_data['GAME_DATE_EST'])\n",
    "games_data['YEAR'] = games_data['GAME_DATE_EST'].dt.year\n",
    "\n",
    "# Aggregate the data\n",
    "yearly_stats = games_data.groupby('YEAR').agg(\n",
    "    Total_Games=('HOME_TEAM_WINS', 'size'),\n",
    "    Home_Wins=('HOME_TEAM_WINS', 'sum')\n",
    ").reset_index()  \n",
    "\n",
    "yearly_stats['Home_Win_Percentage'] = (yearly_stats['Home_Wins'] / yearly_stats['Total_Games']) * 100\n",
    "\n",
    "# Create an animated horizontal bar chart\n",
    "fig = px.bar(\n",
    "    yearly_stats,\n",
    "    y='YEAR',  \n",
    "    x='Home_Win_Percentage',\n",
    "    labels={'Home_Win_Percentage': 'Percentage of Home Wins', 'YEAR': 'Year'},\n",
    "    title='Percentage of Home Team Wins Over Time',\n",
    "    animation_frame='YEAR',  \n",
    "    orientation='h',  \n",
    "    range_x=[0, 100]  \n",
    ")\n",
    "\n",
    "fig.update_layout(\n",
    "    height=800,  \n",
    "    width=1200,  \n",
    "    yaxis_title='Year',\n",
    "    xaxis_title='Percentage of Home Wins (%)',\n",
    "    yaxis=dict(\n",
    "        range=[yearly_stats['YEAR'].min(), yearly_stats['YEAR'].max()],\n",
    "        tickmode='linear'\n",
    "    ),\n",
    "    hovermode='y'  \n",
    ")\n",
    "\n",
    "\n",
    "fig.show()"
   ]
  },
  {
   "cell_type": "code",
   "execution_count": null,
   "id": "0602d68a-b16e-40bb-9552-2095c6d8d32c",
   "metadata": {},
   "outputs": [],
   "source": []
  }
 ],
 "metadata": {
  "kernelspec": {
   "display_name": "Python 3 (ipykernel)",
   "language": "python",
   "name": "python3"
  },
  "language_info": {
   "codemirror_mode": {
    "name": "ipython",
    "version": 3
   },
   "file_extension": ".py",
   "mimetype": "text/x-python",
   "name": "python",
   "nbconvert_exporter": "python",
   "pygments_lexer": "ipython3",
   "version": "3.11.0"
  }
 },
 "nbformat": 4,
 "nbformat_minor": 5
}
