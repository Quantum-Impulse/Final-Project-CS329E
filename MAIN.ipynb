{
 "cells": [
  {
   "cell_type": "markdown",
   "metadata": {},
   "source": [
    "# TITLE: \n",
    "\n",
    "# By \n",
    "## Name1:\n",
    "## Name2:\n",
    "## Name3:"
   ]
  },
  {
   "cell_type": "code",
   "execution_count": 1,
   "metadata": {},
   "outputs": [],
   "source": [
    "## Libaries\n",
    "import pandas as pd\n",
    "import numpy as np\n",
    "import plotly.express as px\n",
    "import pytz # get timezone inf\n",
    "import matplotlib.pyplot as plt\n",
    "import datetime\n"
   ]
  },
  {
   "cell_type": "code",
   "execution_count": 2,
   "metadata": {},
   "outputs": [],
   "source": [
    "# Files\n",
    "API_GameLogs = 'gameLogs.csv'\n",
    "data = pd.read_csv(API_GameLogs)\n",
    "\n",
    "data.tail()\n",
    "\n",
    "\n",
    "# read NBA dataset, General Information\n",
    "game_data = pd.read_csv('Datasets/NBA Database Datasets/game.csv')\n",
    "players = pd.read_csv('Datasets/NBA Database Datasets/player.csv')\n",
    "team_data = pd.read_csv('Datasets/NBA Database Datasets/team.csv')\n",
    "\n"
   ]
  },
  {
   "cell_type": "markdown",
   "metadata": {},
   "source": [
    "# Basics Graphs"
   ]
  },
  {
   "cell_type": "code",
   "execution_count": 17,
   "metadata": {},
   "outputs": [
    {
     "name": "stderr",
     "output_type": "stream",
     "text": [
      "/Users/apple/miniconda3/lib/python3.11/site-packages/altair/utils/deprecation.py:65: AltairDeprecationWarning: 'selection_single' is deprecated.  Use 'selection_point'\n",
      "  warnings.warn(message, AltairDeprecationWarning, stacklevel=1)\n",
      "/Users/apple/miniconda3/lib/python3.11/site-packages/altair/utils/deprecation.py:65: AltairDeprecationWarning: 'add_selection' is deprecated. Use 'add_params' instead.\n",
      "  warnings.warn(message, AltairDeprecationWarning, stacklevel=1)\n",
      "/Users/apple/miniconda3/lib/python3.11/site-packages/altair/utils/core.py:395: FutureWarning: the convert_dtype parameter is deprecated and will be removed in a future version.  Do ``ser.astype(object).apply()`` instead if you want ``convert_dtype=False``.\n",
      "  col = df[col_name].apply(to_list_if_array, convert_dtype=False)\n",
      "/Users/apple/miniconda3/lib/python3.11/site-packages/altair/utils/core.py:395: FutureWarning: the convert_dtype parameter is deprecated and will be removed in a future version.  Do ``ser.astype(object).apply()`` instead if you want ``convert_dtype=False``.\n",
      "  col = df[col_name].apply(to_list_if_array, convert_dtype=False)\n",
      "/Users/apple/miniconda3/lib/python3.11/site-packages/altair/utils/core.py:395: FutureWarning: the convert_dtype parameter is deprecated and will be removed in a future version.  Do ``ser.astype(object).apply()`` instead if you want ``convert_dtype=False``.\n",
      "  col = df[col_name].apply(to_list_if_array, convert_dtype=False)\n",
      "/Users/apple/miniconda3/lib/python3.11/site-packages/altair/utils/core.py:395: FutureWarning: the convert_dtype parameter is deprecated and will be removed in a future version.  Do ``ser.astype(object).apply()`` instead if you want ``convert_dtype=False``.\n",
      "  col = df[col_name].apply(to_list_if_array, convert_dtype=False)\n"
     ]
    },
    {
     "data": {
      "text/html": [
       "\n",
       "<style>\n",
       "  #altair-viz-31d5e5fbea2c47008d1a64dd1b7cbd33.vega-embed {\n",
       "    width: 100%;\n",
       "    display: flex;\n",
       "  }\n",
       "\n",
       "  #altair-viz-31d5e5fbea2c47008d1a64dd1b7cbd33.vega-embed details,\n",
       "  #altair-viz-31d5e5fbea2c47008d1a64dd1b7cbd33.vega-embed details summary {\n",
       "    position: relative;\n",
       "  }\n",
       "</style>\n",
       "<div id=\"altair-viz-31d5e5fbea2c47008d1a64dd1b7cbd33\"></div>\n",
       "<script type=\"text/javascript\">\n",
       "  var VEGA_DEBUG = (typeof VEGA_DEBUG == \"undefined\") ? {} : VEGA_DEBUG;\n",
       "  (function(spec, embedOpt){\n",
       "    let outputDiv = document.currentScript.previousElementSibling;\n",
       "    if (outputDiv.id !== \"altair-viz-31d5e5fbea2c47008d1a64dd1b7cbd33\") {\n",
       "      outputDiv = document.getElementById(\"altair-viz-31d5e5fbea2c47008d1a64dd1b7cbd33\");\n",
       "    }\n",
       "    const paths = {\n",
       "      \"vega\": \"https://cdn.jsdelivr.net/npm/vega@5?noext\",\n",
       "      \"vega-lib\": \"https://cdn.jsdelivr.net/npm/vega-lib?noext\",\n",
       "      \"vega-lite\": \"https://cdn.jsdelivr.net/npm/vega-lite@5.8.0?noext\",\n",
       "      \"vega-embed\": \"https://cdn.jsdelivr.net/npm/vega-embed@6?noext\",\n",
       "    };\n",
       "\n",
       "    function maybeLoadScript(lib, version) {\n",
       "      var key = `${lib.replace(\"-\", \"\")}_version`;\n",
       "      return (VEGA_DEBUG[key] == version) ?\n",
       "        Promise.resolve(paths[lib]) :\n",
       "        new Promise(function(resolve, reject) {\n",
       "          var s = document.createElement('script');\n",
       "          document.getElementsByTagName(\"head\")[0].appendChild(s);\n",
       "          s.async = true;\n",
       "          s.onload = () => {\n",
       "            VEGA_DEBUG[key] = version;\n",
       "            return resolve(paths[lib]);\n",
       "          };\n",
       "          s.onerror = () => reject(`Error loading script: ${paths[lib]}`);\n",
       "          s.src = paths[lib];\n",
       "        });\n",
       "    }\n",
       "\n",
       "    function showError(err) {\n",
       "      outputDiv.innerHTML = `<div class=\"error\" style=\"color:red;\">${err}</div>`;\n",
       "      throw err;\n",
       "    }\n",
       "\n",
       "    function displayChart(vegaEmbed) {\n",
       "      vegaEmbed(outputDiv, spec, embedOpt)\n",
       "        .catch(err => showError(`Javascript Error: ${err.message}<br>This usually means there's a typo in your chart specification. See the javascript console for the full traceback.`));\n",
       "    }\n",
       "\n",
       "    if(typeof define === \"function\" && define.amd) {\n",
       "      requirejs.config({paths});\n",
       "      require([\"vega-embed\"], displayChart, err => showError(`Error loading script: ${err.message}`));\n",
       "    } else {\n",
       "      maybeLoadScript(\"vega\", \"5\")\n",
       "        .then(() => maybeLoadScript(\"vega-lite\", \"5.8.0\"))\n",
       "        .then(() => maybeLoadScript(\"vega-embed\", \"6\"))\n",
       "        .catch(showError)\n",
       "        .then(() => displayChart(vegaEmbed));\n",
       "    }\n",
       "  })({\"config\": {\"view\": {\"continuousWidth\": 300, \"continuousHeight\": 300}}, \"hconcat\": [{\"data\": {\"name\": \"data-cee12627aec93146c82eecd1037e6f4c\"}, \"mark\": {\"type\": \"bar\", \"opacity\": 0.7}, \"encoding\": {\"tooltip\": [{\"field\": \"year\", \"type\": \"quantitative\"}, {\"field\": \"stat\", \"type\": \"nominal\"}, {\"field\": \"tov_value\", \"type\": \"quantitative\"}], \"x\": {\"axis\": {\"title\": \"Turnovers\"}, \"field\": \"stat\", \"type\": \"nominal\"}, \"y\": {\"axis\": {\"title\": \"Value\"}, \"field\": \"tov_value\", \"type\": \"quantitative\"}}, \"name\": \"view_21\", \"transform\": [{\"filter\": {\"param\": \"Selector\"}}], \"width\": 200}, {\"data\": {\"name\": \"data-c10b2b9c0715a8c087df9a43ed2db510\"}, \"mark\": {\"type\": \"bar\", \"opacity\": 0.7}, \"encoding\": {\"tooltip\": [{\"field\": \"year\", \"type\": \"quantitative\"}, {\"field\": \"stat\", \"type\": \"nominal\"}, {\"field\": \"fg_pct_value\", \"type\": \"quantitative\"}], \"x\": {\"axis\": {\"title\": \"Field Goal Percentage\"}, \"field\": \"stat\", \"type\": \"nominal\"}, \"y\": {\"axis\": {\"title\": \"Value\"}, \"field\": \"fg_pct_value\", \"type\": \"quantitative\"}}, \"name\": \"view_22\", \"transform\": [{\"filter\": {\"param\": \"Selector\"}}], \"width\": 200}, {\"data\": {\"name\": \"data-32959c8cbfd6f6ef367b02ab95f258c3\"}, \"mark\": {\"type\": \"bar\", \"opacity\": 0.7}, \"encoding\": {\"tooltip\": [{\"field\": \"year\", \"type\": \"quantitative\"}, {\"field\": \"stat\", \"type\": \"nominal\"}, {\"field\": \"reb_value\", \"type\": \"quantitative\"}], \"x\": {\"axis\": {\"title\": \"Rebounds\"}, \"field\": \"stat\", \"type\": \"nominal\"}, \"y\": {\"axis\": {\"title\": \"Value\"}, \"field\": \"reb_value\", \"type\": \"quantitative\"}}, \"name\": \"view_23\", \"transform\": [{\"filter\": {\"param\": \"Selector\"}}], \"width\": 200}, {\"data\": {\"name\": \"data-e43741b36abefef6cf0762a05f1b829d\"}, \"mark\": {\"type\": \"bar\", \"opacity\": 0.7}, \"encoding\": {\"tooltip\": [{\"field\": \"year\", \"type\": \"quantitative\"}, {\"field\": \"stat\", \"type\": \"nominal\"}, {\"field\": \"oreb_value\", \"type\": \"quantitative\"}], \"x\": {\"axis\": {\"title\": \"Offesive Rebounds\"}, \"field\": \"stat\", \"type\": \"nominal\"}, \"y\": {\"axis\": {\"title\": \"Value\"}, \"field\": \"oreb_value\", \"type\": \"quantitative\"}}, \"name\": \"view_24\", \"transform\": [{\"filter\": {\"param\": \"Selector\"}}], \"width\": 200}], \"params\": [{\"name\": \"Selector\", \"select\": {\"type\": \"point\", \"fields\": [\"year\"]}, \"bind\": {\"input\": \"range\", \"max\": 2023, \"min\": 2000, \"name\": \"Year:\", \"step\": 1}, \"views\": [\"view_21\", \"view_22\", \"view_23\", \"view_24\"]}], \"resolve\": {\"scale\": {\"y\": \"independent\"}}, \"title\": \"Average Game Statistics per Year\", \"$schema\": \"https://vega.github.io/schema/vega-lite/v5.8.0.json\", \"datasets\": {\"data-cee12627aec93146c82eecd1037e6f4c\": [{\"year\": 1946, \"stat\": \"tov_home\", \"tov_value\": null}, {\"year\": 1947, \"stat\": \"tov_home\", \"tov_value\": null}, {\"year\": 1948, \"stat\": \"tov_home\", \"tov_value\": null}, {\"year\": 1949, \"stat\": \"tov_home\", \"tov_value\": null}, {\"year\": 1950, \"stat\": \"tov_home\", \"tov_value\": null}, {\"year\": 1951, \"stat\": \"tov_home\", \"tov_value\": null}, {\"year\": 1952, \"stat\": \"tov_home\", \"tov_value\": null}, {\"year\": 1953, \"stat\": \"tov_home\", \"tov_value\": null}, {\"year\": 1954, \"stat\": \"tov_home\", \"tov_value\": null}, {\"year\": 1955, \"stat\": \"tov_home\", \"tov_value\": null}, {\"year\": 1956, \"stat\": \"tov_home\", \"tov_value\": null}, {\"year\": 1957, \"stat\": \"tov_home\", \"tov_value\": null}, {\"year\": 1958, \"stat\": \"tov_home\", \"tov_value\": null}, {\"year\": 1959, \"stat\": \"tov_home\", \"tov_value\": null}, {\"year\": 1960, \"stat\": \"tov_home\", \"tov_value\": null}, {\"year\": 1961, \"stat\": \"tov_home\", \"tov_value\": null}, {\"year\": 1962, \"stat\": \"tov_home\", \"tov_value\": null}, {\"year\": 1963, \"stat\": \"tov_home\", \"tov_value\": null}, {\"year\": 1964, \"stat\": \"tov_home\", \"tov_value\": null}, {\"year\": 1965, \"stat\": \"tov_home\", \"tov_value\": null}, {\"year\": 1966, \"stat\": \"tov_home\", \"tov_value\": null}, {\"year\": 1967, \"stat\": \"tov_home\", \"tov_value\": null}, {\"year\": 1968, \"stat\": \"tov_home\", \"tov_value\": null}, {\"year\": 1969, \"stat\": \"tov_home\", \"tov_value\": null}, {\"year\": 1970, \"stat\": \"tov_home\", \"tov_value\": null}, {\"year\": 1971, \"stat\": \"tov_home\", \"tov_value\": null}, {\"year\": 1972, \"stat\": \"tov_home\", \"tov_value\": null}, {\"year\": 1973, \"stat\": \"tov_home\", \"tov_value\": null}, {\"year\": 1974, \"stat\": \"tov_home\", \"tov_value\": null}, {\"year\": 1975, \"stat\": \"tov_home\", \"tov_value\": null}, {\"year\": 1976, \"stat\": \"tov_home\", \"tov_value\": null}, {\"year\": 1977, \"stat\": \"tov_home\", \"tov_value\": null}, {\"year\": 1978, \"stat\": \"tov_home\", \"tov_value\": 18.444444444444443}, {\"year\": 1979, \"stat\": \"tov_home\", \"tov_value\": 18.0}, {\"year\": 1980, \"stat\": \"tov_home\", \"tov_value\": 21.125}, {\"year\": 1981, \"stat\": \"tov_home\", \"tov_value\": 18.529411764705884}, {\"year\": 1982, \"stat\": \"tov_home\", \"tov_value\": 17.669117647058822}, {\"year\": 1983, \"stat\": \"tov_home\", \"tov_value\": 18.24742268041237}, {\"year\": 1984, \"stat\": \"tov_home\", \"tov_value\": 19.479166666666668}, {\"year\": 1985, \"stat\": \"tov_home\", \"tov_value\": 17.752083333333335}, {\"year\": 1986, \"stat\": \"tov_home\", \"tov_value\": 16.63506625891947}, {\"year\": 1987, \"stat\": \"tov_home\", \"tov_value\": 16.077314343845373}, {\"year\": 1988, \"stat\": \"tov_home\", \"tov_value\": 15.77579737335835}, {\"year\": 1989, \"stat\": \"tov_home\", \"tov_value\": 15.931433659839715}, {\"year\": 1990, \"stat\": \"tov_home\", \"tov_value\": 15.291491154170178}, {\"year\": 1991, \"stat\": \"tov_home\", \"tov_value\": 14.833052276559865}, {\"year\": 1992, \"stat\": \"tov_home\", \"tov_value\": 14.934725848563968}, {\"year\": 1993, \"stat\": \"tov_home\", \"tov_value\": 14.943933054393305}, {\"year\": 1994, \"stat\": \"tov_home\", \"tov_value\": 15.444144144144143}, {\"year\": 1995, \"stat\": \"tov_home\", \"tov_value\": 14.875816993464053}, {\"year\": 1996, \"stat\": \"tov_home\", \"tov_value\": 15.300083125519535}, {\"year\": 1997, \"stat\": \"tov_home\", \"tov_value\": 15.225474683544304}, {\"year\": 1998, \"stat\": \"tov_home\", \"tov_value\": 14.828162291169452}, {\"year\": 1999, \"stat\": \"tov_home\", \"tov_value\": 15.249793899422919}, {\"year\": 2000, \"stat\": \"tov_home\", \"tov_value\": 15.266556291390728}, {\"year\": 2001, \"stat\": \"tov_home\", \"tov_value\": 14.455342902711324}, {\"year\": 2002, \"stat\": \"tov_home\", \"tov_value\": 14.702568351284176}, {\"year\": 2003, \"stat\": \"tov_home\", \"tov_value\": 14.392661982825917}, {\"year\": 2004, \"stat\": \"tov_home\", \"tov_value\": 14.77662129703763}, {\"year\": 2005, \"stat\": \"tov_home\", \"tov_value\": 14.390940766550523}, {\"year\": 2006, \"stat\": \"tov_home\", \"tov_value\": 14.936681222707424}, {\"year\": 2007, \"stat\": \"tov_home\", \"tov_value\": 14.925194071983062}, {\"year\": 2008, \"stat\": \"tov_home\", \"tov_value\": 13.928670360110804}, {\"year\": 2009, \"stat\": \"tov_home\", \"tov_value\": 14.086350974930362}, {\"year\": 2010, \"stat\": \"tov_home\", \"tov_value\": 14.254507628294036}, {\"year\": 2011, \"stat\": \"tov_home\", \"tov_value\": 13.899672846237731}, {\"year\": 2012, \"stat\": \"tov_home\", \"tov_value\": 14.57533039647577}, {\"year\": 2013, \"stat\": \"tov_home\", \"tov_value\": 15.612275449101796}, {\"year\": 2014, \"stat\": \"tov_home\", \"tov_value\": 14.445973847212663}, {\"year\": 2015, \"stat\": \"tov_home\", \"tov_value\": 14.569230769230769}, {\"year\": 2016, \"stat\": \"tov_home\", \"tov_value\": 14.103760445682452}, {\"year\": 2017, \"stat\": \"tov_home\", \"tov_value\": 14.239663629992993}, {\"year\": 2018, \"stat\": \"tov_home\", \"tov_value\": 14.171471927162367}, {\"year\": 2019, \"stat\": \"tov_home\", \"tov_value\": 14.02521670606777}, {\"year\": 2020, \"stat\": \"tov_home\", \"tov_value\": 14.642857142857142}, {\"year\": 2021, \"stat\": \"tov_home\", \"tov_value\": 13.921441228588305}, {\"year\": 2022, \"stat\": \"tov_home\", \"tov_value\": 14.053304904051172}, {\"year\": 2023, \"stat\": \"tov_home\", \"tov_value\": 13.519480519480519}, {\"year\": 1946, \"stat\": \"tov_away\", \"tov_value\": null}, {\"year\": 1947, \"stat\": \"tov_away\", \"tov_value\": null}, {\"year\": 1948, \"stat\": \"tov_away\", \"tov_value\": null}, {\"year\": 1949, \"stat\": \"tov_away\", \"tov_value\": null}, {\"year\": 1950, \"stat\": \"tov_away\", \"tov_value\": null}, {\"year\": 1951, \"stat\": \"tov_away\", \"tov_value\": null}, {\"year\": 1952, \"stat\": \"tov_away\", \"tov_value\": null}, {\"year\": 1953, \"stat\": \"tov_away\", \"tov_value\": null}, {\"year\": 1954, \"stat\": \"tov_away\", \"tov_value\": null}, {\"year\": 1955, \"stat\": \"tov_away\", \"tov_value\": null}, {\"year\": 1956, \"stat\": \"tov_away\", \"tov_value\": null}, {\"year\": 1957, \"stat\": \"tov_away\", \"tov_value\": null}, {\"year\": 1958, \"stat\": \"tov_away\", \"tov_value\": null}, {\"year\": 1959, \"stat\": \"tov_away\", \"tov_value\": null}, {\"year\": 1960, \"stat\": \"tov_away\", \"tov_value\": null}, {\"year\": 1961, \"stat\": \"tov_away\", \"tov_value\": null}, {\"year\": 1962, \"stat\": \"tov_away\", \"tov_value\": null}, {\"year\": 1963, \"stat\": \"tov_away\", \"tov_value\": null}, {\"year\": 1964, \"stat\": \"tov_away\", \"tov_value\": null}, {\"year\": 1965, \"stat\": \"tov_away\", \"tov_value\": null}, {\"year\": 1966, \"stat\": \"tov_away\", \"tov_value\": null}, {\"year\": 1967, \"stat\": \"tov_away\", \"tov_value\": null}, {\"year\": 1968, \"stat\": \"tov_away\", \"tov_value\": null}, {\"year\": 1969, \"stat\": \"tov_away\", \"tov_value\": null}, {\"year\": 1970, \"stat\": \"tov_away\", \"tov_value\": null}, {\"year\": 1971, \"stat\": \"tov_away\", \"tov_value\": null}, {\"year\": 1972, \"stat\": \"tov_away\", \"tov_value\": null}, {\"year\": 1973, \"stat\": \"tov_away\", \"tov_value\": null}, {\"year\": 1974, \"stat\": \"tov_away\", \"tov_value\": null}, {\"year\": 1975, \"stat\": \"tov_away\", \"tov_value\": null}, {\"year\": 1976, \"stat\": \"tov_away\", \"tov_value\": null}, {\"year\": 1977, \"stat\": \"tov_away\", \"tov_value\": null}, {\"year\": 1978, \"stat\": \"tov_away\", \"tov_value\": 17.77777777777778}, {\"year\": 1979, \"stat\": \"tov_away\", \"tov_value\": 12.833333333333334}, {\"year\": 1980, \"stat\": \"tov_away\", \"tov_value\": 20.0}, {\"year\": 1981, \"stat\": \"tov_away\", \"tov_value\": 19.794117647058822}, {\"year\": 1982, \"stat\": \"tov_away\", \"tov_value\": 18.266666666666666}, {\"year\": 1983, \"stat\": \"tov_away\", \"tov_value\": 18.711340206185568}, {\"year\": 1984, \"stat\": \"tov_away\", \"tov_value\": 20.34375}, {\"year\": 1985, \"stat\": \"tov_away\", \"tov_value\": 18.541666666666668}, {\"year\": 1986, \"stat\": \"tov_away\", \"tov_value\": 17.326197757390418}, {\"year\": 1987, \"stat\": \"tov_away\", \"tov_value\": 16.96642929806714}, {\"year\": 1988, \"stat\": \"tov_away\", \"tov_value\": 17.0187617260788}, {\"year\": 1989, \"stat\": \"tov_away\", \"tov_value\": 16.824577025823686}, {\"year\": 1990, \"stat\": \"tov_away\", \"tov_value\": 15.91491154170177}, {\"year\": 1991, \"stat\": \"tov_away\", \"tov_value\": 15.520236087689714}, {\"year\": 1992, \"stat\": \"tov_away\", \"tov_value\": 15.45691906005222}, {\"year\": 1993, \"stat\": \"tov_away\", \"tov_value\": 15.721338912133891}, {\"year\": 1994, \"stat\": \"tov_away\", \"tov_value\": 15.881981981981982}, {\"year\": 1995, \"stat\": \"tov_away\", \"tov_value\": 15.303921568627452}, {\"year\": 1996, \"stat\": \"tov_away\", \"tov_value\": 15.667497921862012}, {\"year\": 1997, \"stat\": \"tov_away\", \"tov_value\": 15.720727848101266}, {\"year\": 1998, \"stat\": \"tov_away\", \"tov_value\": 15.13126491646778}, {\"year\": 1999, \"stat\": \"tov_away\", \"tov_value\": 15.640560593569662}, {\"year\": 2000, \"stat\": \"tov_away\", \"tov_value\": 15.6341059602649}, {\"year\": 2001, \"stat\": \"tov_away\", \"tov_value\": 14.834130781499203}, {\"year\": 2002, \"stat\": \"tov_away\", \"tov_value\": 14.903065451532726}, {\"year\": 2003, \"stat\": \"tov_away\", \"tov_value\": 15.032786885245901}, {\"year\": 2004, \"stat\": \"tov_away\", \"tov_value\": 15.245796637309848}, {\"year\": 2005, \"stat\": \"tov_away\", \"tov_value\": 14.696167247386759}, {\"year\": 2006, \"stat\": \"tov_away\", \"tov_value\": 15.375545851528384}, {\"year\": 2007, \"stat\": \"tov_away\", \"tov_value\": 15.326746647847566}, {\"year\": 2008, \"stat\": \"tov_away\", \"tov_value\": 14.45775623268698}, {\"year\": 2009, \"stat\": \"tov_away\", \"tov_value\": 14.669220055710307}, {\"year\": 2010, \"stat\": \"tov_away\", \"tov_value\": 14.764909847434119}, {\"year\": 2011, \"stat\": \"tov_away\", \"tov_value\": 14.365321701199564}, {\"year\": 2012, \"stat\": \"tov_away\", \"tov_value\": 14.962114537444934}, {\"year\": 2013, \"stat\": \"tov_away\", \"tov_value\": 15.5374251497006}, {\"year\": 2014, \"stat\": \"tov_away\", \"tov_value\": 14.774948382656573}, {\"year\": 2015, \"stat\": \"tov_away\", \"tov_value\": 14.786713286713287}, {\"year\": 2016, \"stat\": \"tov_away\", \"tov_value\": 14.372562674094707}, {\"year\": 2017, \"stat\": \"tov_away\", \"tov_value\": 14.50665732305536}, {\"year\": 2018, \"stat\": \"tov_away\", \"tov_value\": 14.238239757207891}, {\"year\": 2019, \"stat\": \"tov_away\", \"tov_value\": 14.211189913317574}, {\"year\": 2020, \"stat\": \"tov_away\", \"tov_value\": 14.424603174603174}, {\"year\": 2021, \"stat\": \"tov_away\", \"tov_value\": 13.836385115180153}, {\"year\": 2022, \"stat\": \"tov_away\", \"tov_value\": 14.304904051172707}, {\"year\": 2023, \"stat\": \"tov_away\", \"tov_value\": 13.524675324675325}], \"data-c10b2b9c0715a8c087df9a43ed2db510\": [{\"year\": 1946, \"stat\": \"fg_pct_home\", \"fg_pct_value\": 0.2486}, {\"year\": 1947, \"stat\": \"fg_pct_home\", \"fg_pct_value\": 0.25805}, {\"year\": 1948, \"stat\": \"fg_pct_home\", \"fg_pct_value\": 0.2902307692307692}, {\"year\": 1949, \"stat\": \"fg_pct_home\", \"fg_pct_value\": 0.329}, {\"year\": 1950, \"stat\": \"fg_pct_home\", \"fg_pct_value\": 0.3775}, {\"year\": 1951, \"stat\": \"fg_pct_home\", \"fg_pct_value\": 0.38293548387096776}, {\"year\": 1952, \"stat\": \"fg_pct_home\", \"fg_pct_value\": 0.40388372093023256}, {\"year\": 1953, \"stat\": \"fg_pct_home\", \"fg_pct_value\": 0.37551351351351353}, {\"year\": 1954, \"stat\": \"fg_pct_home\", \"fg_pct_value\": 0.397675}, {\"year\": 1955, \"stat\": \"fg_pct_home\", \"fg_pct_value\": 0.3988235294117647}, {\"year\": 1956, \"stat\": \"fg_pct_home\", \"fg_pct_value\": 0.3814347826086956}, {\"year\": 1957, \"stat\": \"fg_pct_home\", \"fg_pct_value\": 0.36933333333333335}, {\"year\": 1958, \"stat\": \"fg_pct_home\", \"fg_pct_value\": 0.4130833333333333}, {\"year\": 1959, \"stat\": \"fg_pct_home\", \"fg_pct_value\": 0.40038095238095234}, {\"year\": 1960, \"stat\": \"fg_pct_home\", \"fg_pct_value\": 0.4185952380952381}, {\"year\": 1961, \"stat\": \"fg_pct_home\", \"fg_pct_value\": 0.419}, {\"year\": 1962, \"stat\": \"fg_pct_home\", \"fg_pct_value\": 0.45919999999999994}, {\"year\": 1963, \"stat\": \"fg_pct_home\", \"fg_pct_value\": 0.461375}, {\"year\": 1964, \"stat\": \"fg_pct_home\", \"fg_pct_value\": 0.4685625}, {\"year\": 1965, \"stat\": \"fg_pct_home\", \"fg_pct_value\": 0.463}, {\"year\": 1966, \"stat\": \"fg_pct_home\", \"fg_pct_value\": 0.45211111111111113}, {\"year\": 1967, \"stat\": \"fg_pct_home\", \"fg_pct_value\": 0.469}, {\"year\": 1968, \"stat\": \"fg_pct_home\", \"fg_pct_value\": 0.586}, {\"year\": 1969, \"stat\": \"fg_pct_home\", \"fg_pct_value\": 0.463}, {\"year\": 1970, \"stat\": \"fg_pct_home\", \"fg_pct_value\": 0.4897777777777777}, {\"year\": 1971, \"stat\": \"fg_pct_home\", \"fg_pct_value\": 0.44042857142857145}, {\"year\": 1972, \"stat\": \"fg_pct_home\", \"fg_pct_value\": 0.44557142857142856}, {\"year\": 1973, \"stat\": \"fg_pct_home\", \"fg_pct_value\": 0.4258571428571428}, {\"year\": 1974, \"stat\": \"fg_pct_home\", \"fg_pct_value\": 0.44325000000000003}, {\"year\": 1975, \"stat\": \"fg_pct_home\", \"fg_pct_value\": 0.42450000000000004}, {\"year\": 1976, \"stat\": \"fg_pct_home\", \"fg_pct_value\": 0.4561428571428571}, {\"year\": 1977, \"stat\": \"fg_pct_home\", \"fg_pct_value\": 0.486875}, {\"year\": 1978, \"stat\": \"fg_pct_home\", \"fg_pct_value\": 0.4423333333333333}, {\"year\": 1979, \"stat\": \"fg_pct_home\", \"fg_pct_value\": 0.46900000000000003}, {\"year\": 1980, \"stat\": \"fg_pct_home\", \"fg_pct_value\": 0.49525}, {\"year\": 1981, \"stat\": \"fg_pct_home\", \"fg_pct_value\": 0.49277777777777776}, {\"year\": 1982, \"stat\": \"fg_pct_home\", \"fg_pct_value\": 0.49134034416826006}, {\"year\": 1983, \"stat\": \"fg_pct_home\", \"fg_pct_value\": 0.4964757575757576}, {\"year\": 1984, \"stat\": \"fg_pct_home\", \"fg_pct_value\": 0.4994013539651837}, {\"year\": 1985, \"stat\": \"fg_pct_home\", \"fg_pct_value\": 0.49618996062992127}, {\"year\": 1986, \"stat\": \"fg_pct_home\", \"fg_pct_value\": 0.4946860346585117}, {\"year\": 1987, \"stat\": \"fg_pct_home\", \"fg_pct_value\": 0.4921861648016277}, {\"year\": 1988, \"stat\": \"fg_pct_home\", \"fg_pct_value\": 0.4912823639774859}, {\"year\": 1989, \"stat\": \"fg_pct_home\", \"fg_pct_value\": 0.4865342831700802}, {\"year\": 1990, \"stat\": \"fg_pct_home\", \"fg_pct_value\": 0.48850210614995787}, {\"year\": 1991, \"stat\": \"fg_pct_home\", \"fg_pct_value\": 0.47898819561551437}, {\"year\": 1992, \"stat\": \"fg_pct_home\", \"fg_pct_value\": 0.4823176675369887}, {\"year\": 1993, \"stat\": \"fg_pct_home\", \"fg_pct_value\": 0.4780560669456067}, {\"year\": 1994, \"stat\": \"fg_pct_home\", \"fg_pct_value\": 0.47490630630630626}, {\"year\": 1995, \"stat\": \"fg_pct_home\", \"fg_pct_value\": 0.47162663398692806}, {\"year\": 1996, \"stat\": \"fg_pct_home\", \"fg_pct_value\": 0.46302826267664177}, {\"year\": 1997, \"stat\": \"fg_pct_home\", \"fg_pct_value\": 0.4603789556962025}, {\"year\": 1998, \"stat\": \"fg_pct_home\", \"fg_pct_value\": 0.45808472553699287}, {\"year\": 1999, \"stat\": \"fg_pct_home\", \"fg_pct_value\": 0.4458755152514427}, {\"year\": 2000, \"stat\": \"fg_pct_home\", \"fg_pct_value\": 0.45548427152317883}, {\"year\": 2001, \"stat\": \"fg_pct_home\", \"fg_pct_value\": 0.45046411483253584}, {\"year\": 2002, \"stat\": \"fg_pct_home\", \"fg_pct_value\": 0.45221209610604807}, {\"year\": 2003, \"stat\": \"fg_pct_home\", \"fg_pct_value\": 0.44982435597189696}, {\"year\": 2004, \"stat\": \"fg_pct_home\", \"fg_pct_value\": 0.4480776621297038}, {\"year\": 2005, \"stat\": \"fg_pct_home\", \"fg_pct_value\": 0.45500278745644596}, {\"year\": 2006, \"stat\": \"fg_pct_home\", \"fg_pct_value\": 0.4636943231441048}, {\"year\": 2007, \"stat\": \"fg_pct_home\", \"fg_pct_value\": 0.4610769230769231}, {\"year\": 2008, \"stat\": \"fg_pct_home\", \"fg_pct_value\": 0.46250207756232686}, {\"year\": 2009, \"stat\": \"fg_pct_home\", \"fg_pct_value\": 0.46744150417827296}, {\"year\": 2010, \"stat\": \"fg_pct_home\", \"fg_pct_value\": 0.46607004160887655}, {\"year\": 2011, \"stat\": \"fg_pct_home\", \"fg_pct_value\": 0.4633031624863686}, {\"year\": 2012, \"stat\": \"fg_pct_home\", \"fg_pct_value\": 0.4532123348017621}, {\"year\": 2013, \"stat\": \"fg_pct_home\", \"fg_pct_value\": 0.45158383233532934}, {\"year\": 2014, \"stat\": \"fg_pct_home\", \"fg_pct_value\": 0.460735030970406}, {\"year\": 2015, \"stat\": \"fg_pct_home\", \"fg_pct_value\": 0.450406993006993}, {\"year\": 2016, \"stat\": \"fg_pct_home\", \"fg_pct_value\": 0.46051601671309195}, {\"year\": 2017, \"stat\": \"fg_pct_home\", \"fg_pct_value\": 0.4660679747722494}, {\"year\": 2018, \"stat\": \"fg_pct_home\", \"fg_pct_value\": 0.46623444613050075}, {\"year\": 2019, \"stat\": \"fg_pct_home\", \"fg_pct_value\": 0.4637431048069346}, {\"year\": 2020, \"stat\": \"fg_pct_home\", \"fg_pct_value\": 0.4661296296296296}, {\"year\": 2021, \"stat\": \"fg_pct_home\", \"fg_pct_value\": 0.46474542232722976}, {\"year\": 2022, \"stat\": \"fg_pct_home\", \"fg_pct_value\": 0.4725685856432125}, {\"year\": 2023, \"stat\": \"fg_pct_home\", \"fg_pct_value\": 0.4819857142857143}, {\"year\": 1946, \"stat\": \"fg_pct_away\", \"fg_pct_value\": 0.2641}, {\"year\": 1947, \"stat\": \"fg_pct_away\", \"fg_pct_value\": 0.26257142857142857}, {\"year\": 1948, \"stat\": \"fg_pct_away\", \"fg_pct_value\": 0.27561538461538465}, {\"year\": 1949, \"stat\": \"fg_pct_away\", \"fg_pct_value\": 0.321}, {\"year\": 1950, \"stat\": \"fg_pct_away\", \"fg_pct_value\": 0.35625}, {\"year\": 1951, \"stat\": \"fg_pct_away\", \"fg_pct_value\": 0.3419677419354839}, {\"year\": 1952, \"stat\": \"fg_pct_away\", \"fg_pct_value\": 0.35386046511627905}, {\"year\": 1953, \"stat\": \"fg_pct_away\", \"fg_pct_value\": 0.3609189189189189}, {\"year\": 1954, \"stat\": \"fg_pct_away\", \"fg_pct_value\": 0.38525}, {\"year\": 1955, \"stat\": \"fg_pct_away\", \"fg_pct_value\": 0.4001176470588235}, {\"year\": 1956, \"stat\": \"fg_pct_away\", \"fg_pct_value\": 0.38117391304347825}, {\"year\": 1957, \"stat\": \"fg_pct_away\", \"fg_pct_value\": 0.36341666666666667}, {\"year\": 1958, \"stat\": \"fg_pct_away\", \"fg_pct_value\": 0.37483333333333335}, {\"year\": 1959, \"stat\": \"fg_pct_away\", \"fg_pct_value\": 0.3802857142857143}, {\"year\": 1960, \"stat\": \"fg_pct_away\", \"fg_pct_value\": 0.4887142857142857}, {\"year\": 1961, \"stat\": \"fg_pct_away\", \"fg_pct_value\": 0.504}, {\"year\": 1962, \"stat\": \"fg_pct_away\", \"fg_pct_value\": 0.4293}, {\"year\": 1963, \"stat\": \"fg_pct_away\", \"fg_pct_value\": 0.433625}, {\"year\": 1964, \"stat\": \"fg_pct_away\", \"fg_pct_value\": 0.4285625}, {\"year\": 1965, \"stat\": \"fg_pct_away\", \"fg_pct_value\": 0.4666666666666666}, {\"year\": 1966, \"stat\": \"fg_pct_away\", \"fg_pct_value\": 0.42500000000000004}, {\"year\": 1967, \"stat\": \"fg_pct_away\", \"fg_pct_value\": 0.5}, {\"year\": 1968, \"stat\": \"fg_pct_away\", \"fg_pct_value\": 0.427}, {\"year\": 1969, \"stat\": \"fg_pct_away\", \"fg_pct_value\": 0.419}, {\"year\": 1970, \"stat\": \"fg_pct_away\", \"fg_pct_value\": 0.47277777777777774}, {\"year\": 1971, \"stat\": \"fg_pct_away\", \"fg_pct_value\": 0.45642857142857146}, {\"year\": 1972, \"stat\": \"fg_pct_away\", \"fg_pct_value\": 0.4454285714285714}, {\"year\": 1973, \"stat\": \"fg_pct_away\", \"fg_pct_value\": 0.4352857142857142}, {\"year\": 1974, \"stat\": \"fg_pct_away\", \"fg_pct_value\": 0.467375}, {\"year\": 1975, \"stat\": \"fg_pct_away\", \"fg_pct_value\": 0.45199999999999996}, {\"year\": 1976, \"stat\": \"fg_pct_away\", \"fg_pct_value\": 0.41571428571428576}, {\"year\": 1977, \"stat\": \"fg_pct_away\", \"fg_pct_value\": 0.458}, {\"year\": 1978, \"stat\": \"fg_pct_away\", \"fg_pct_value\": 0.44633333333333336}, {\"year\": 1979, \"stat\": \"fg_pct_away\", \"fg_pct_value\": 0.43516666666666665}, {\"year\": 1980, \"stat\": \"fg_pct_away\", \"fg_pct_value\": 0.470875}, {\"year\": 1981, \"stat\": \"fg_pct_away\", \"fg_pct_value\": 0.4888333333333333}, {\"year\": 1982, \"stat\": \"fg_pct_away\", \"fg_pct_value\": 0.4831644359464627}, {\"year\": 1983, \"stat\": \"fg_pct_away\", \"fg_pct_value\": 0.47853232323232325}, {\"year\": 1984, \"stat\": \"fg_pct_away\", \"fg_pct_value\": 0.48711411992263054}, {\"year\": 1985, \"stat\": \"fg_pct_away\", \"fg_pct_value\": 0.48476082677165355}, {\"year\": 1986, \"stat\": \"fg_pct_away\", \"fg_pct_value\": 0.4775749235474006}, {\"year\": 1987, \"stat\": \"fg_pct_away\", \"fg_pct_value\": 0.4734394710071211}, {\"year\": 1988, \"stat\": \"fg_pct_away\", \"fg_pct_value\": 0.47136585365853656}, {\"year\": 1989, \"stat\": \"fg_pct_away\", \"fg_pct_value\": 0.4673125556544969}, {\"year\": 1990, \"stat\": \"fg_pct_away\", \"fg_pct_value\": 0.46950294860994096}, {\"year\": 1991, \"stat\": \"fg_pct_away\", \"fg_pct_value\": 0.46685328836424955}, {\"year\": 1992, \"stat\": \"fg_pct_away\", \"fg_pct_value\": 0.4687667536988686}, {\"year\": 1993, \"stat\": \"fg_pct_away\", \"fg_pct_value\": 0.46512301255230126}, {\"year\": 1994, \"stat\": \"fg_pct_away\", \"fg_pct_value\": 0.4604855855855856}, {\"year\": 1995, \"stat\": \"fg_pct_away\", \"fg_pct_value\": 0.46080310457516344}, {\"year\": 1996, \"stat\": \"fg_pct_away\", \"fg_pct_value\": 0.4540091438071488}, {\"year\": 1997, \"stat\": \"fg_pct_away\", \"fg_pct_value\": 0.4495363924050633}, {\"year\": 1998, \"stat\": \"fg_pct_away\", \"fg_pct_value\": 0.448563245823389}, {\"year\": 1999, \"stat\": \"fg_pct_away\", \"fg_pct_value\": 0.43448227535037104}, {\"year\": 2000, \"stat\": \"fg_pct_away\", \"fg_pct_value\": 0.4400322847682119}, {\"year\": 2001, \"stat\": \"fg_pct_away\", \"fg_pct_value\": 0.43738596491228066}, {\"year\": 2002, \"stat\": \"fg_pct_away\", \"fg_pct_value\": 0.436860811930406}, {\"year\": 2003, \"stat\": \"fg_pct_away\", \"fg_pct_value\": 0.43483294301327086}, {\"year\": 2004, \"stat\": \"fg_pct_away\", \"fg_pct_value\": 0.434582065652522}, {\"year\": 2005, \"stat\": \"fg_pct_away\", \"fg_pct_value\": 0.4443247386759582}, {\"year\": 2006, \"stat\": \"fg_pct_away\", \"fg_pct_value\": 0.4502503639010189}, {\"year\": 2007, \"stat\": \"fg_pct_away\", \"fg_pct_value\": 0.449242766407904}, {\"year\": 2008, \"stat\": \"fg_pct_away\", \"fg_pct_value\": 0.4504487534626039}, {\"year\": 2009, \"stat\": \"fg_pct_away\", \"fg_pct_value\": 0.45303899721448465}, {\"year\": 2010, \"stat\": \"fg_pct_away\", \"fg_pct_value\": 0.45325381414701804}, {\"year\": 2011, \"stat\": \"fg_pct_away\", \"fg_pct_value\": 0.4520141766630316}, {\"year\": 2012, \"stat\": \"fg_pct_away\", \"fg_pct_value\": 0.4413894273127753}, {\"year\": 2013, \"stat\": \"fg_pct_away\", \"fg_pct_value\": 0.44187425149700604}, {\"year\": 2014, \"stat\": \"fg_pct_away\", \"fg_pct_value\": 0.45031314521679283}, {\"year\": 2015, \"stat\": \"fg_pct_away\", \"fg_pct_value\": 0.4413685314685315}, {\"year\": 2016, \"stat\": \"fg_pct_away\", \"fg_pct_value\": 0.4470438718662953}, {\"year\": 2017, \"stat\": \"fg_pct_away\", \"fg_pct_value\": 0.45443868255080594}, {\"year\": 2018, \"stat\": \"fg_pct_away\", \"fg_pct_value\": 0.4556039453717754}, {\"year\": 2019, \"stat\": \"fg_pct_away\", \"fg_pct_value\": 0.4535965327029157}, {\"year\": 2020, \"stat\": \"fg_pct_away\", \"fg_pct_value\": 0.460489417989418}, {\"year\": 2021, \"stat\": \"fg_pct_away\", \"fg_pct_value\": 0.45876314235085647}, {\"year\": 2022, \"stat\": \"fg_pct_away\", \"fg_pct_value\": 0.46393319118692256}, {\"year\": 2023, \"stat\": \"fg_pct_away\", \"fg_pct_value\": 0.4745051948051948}], \"data-32959c8cbfd6f6ef367b02ab95f258c3\": [{\"year\": 1946, \"stat\": \"reb_home\", \"reb_value\": null}, {\"year\": 1947, \"stat\": \"reb_home\", \"reb_value\": null}, {\"year\": 1948, \"stat\": \"reb_home\", \"reb_value\": null}, {\"year\": 1949, \"stat\": \"reb_home\", \"reb_value\": null}, {\"year\": 1950, \"stat\": \"reb_home\", \"reb_value\": null}, {\"year\": 1951, \"stat\": \"reb_home\", \"reb_value\": 55.22222222222222}, {\"year\": 1952, \"stat\": \"reb_home\", \"reb_value\": 55.8}, {\"year\": 1953, \"stat\": \"reb_home\", \"reb_value\": 23.2}, {\"year\": 1954, \"stat\": \"reb_home\", \"reb_value\": 15.777777777777779}, {\"year\": 1955, \"stat\": \"reb_home\", \"reb_value\": 60.0}, {\"year\": 1956, \"stat\": \"reb_home\", \"reb_value\": 54.5}, {\"year\": 1957, \"stat\": \"reb_home\", \"reb_value\": 68.27272727272727}, {\"year\": 1958, \"stat\": \"reb_home\", \"reb_value\": 75.66666666666667}, {\"year\": 1959, \"stat\": \"reb_home\", \"reb_value\": 67.89473684210526}, {\"year\": 1960, \"stat\": \"reb_home\", \"reb_value\": 65.925}, {\"year\": 1961, \"stat\": \"reb_home\", \"reb_value\": 63.0}, {\"year\": 1962, \"stat\": \"reb_home\", \"reb_value\": 59.8}, {\"year\": 1963, \"stat\": \"reb_home\", \"reb_value\": 57.125}, {\"year\": 1964, \"stat\": \"reb_home\", \"reb_value\": 57.125}, {\"year\": 1965, \"stat\": \"reb_home\", \"reb_value\": 64.66666666666667}, {\"year\": 1966, \"stat\": \"reb_home\", \"reb_value\": 61.666666666666664}, {\"year\": 1967, \"stat\": \"reb_home\", \"reb_value\": 58.0}, {\"year\": 1968, \"stat\": \"reb_home\", \"reb_value\": 53.0}, {\"year\": 1969, \"stat\": \"reb_home\", \"reb_value\": 60.0}, {\"year\": 1970, \"stat\": \"reb_home\", \"reb_value\": 54.0}, {\"year\": 1971, \"stat\": \"reb_home\", \"reb_value\": 56.57142857142857}, {\"year\": 1972, \"stat\": \"reb_home\", \"reb_value\": 52.857142857142854}, {\"year\": 1973, \"stat\": \"reb_home\", \"reb_value\": 53.142857142857146}, {\"year\": 1974, \"stat\": \"reb_home\", \"reb_value\": 44.625}, {\"year\": 1975, \"stat\": \"reb_home\", \"reb_value\": 49.166666666666664}, {\"year\": 1976, \"stat\": \"reb_home\", \"reb_value\": 50.42857142857143}, {\"year\": 1977, \"stat\": \"reb_home\", \"reb_value\": 47.75}, {\"year\": 1978, \"stat\": \"reb_home\", \"reb_value\": 56.0}, {\"year\": 1979, \"stat\": \"reb_home\", \"reb_value\": 48.666666666666664}, {\"year\": 1980, \"stat\": \"reb_home\", \"reb_value\": 47.75}, {\"year\": 1981, \"stat\": \"reb_home\", \"reb_value\": 43.44444444444444}, {\"year\": 1982, \"stat\": \"reb_home\", \"reb_value\": 45.37686567164179}, {\"year\": 1983, \"stat\": \"reb_home\", \"reb_value\": 45.024767801857585}, {\"year\": 1984, \"stat\": \"reb_home\", \"reb_value\": 45.8486328125}, {\"year\": 1985, \"stat\": \"reb_home\", \"reb_value\": 48.77250247279921}, {\"year\": 1986, \"stat\": \"reb_home\", \"reb_value\": 45.00203873598369}, {\"year\": 1987, \"stat\": \"reb_home\", \"reb_value\": 45.239064089521875}, {\"year\": 1988, \"stat\": \"reb_home\", \"reb_value\": 44.30487804878049}, {\"year\": 1989, \"stat\": \"reb_home\", \"reb_value\": 44.741763134461266}, {\"year\": 1990, \"stat\": \"reb_home\", \"reb_value\": 44.329401853411966}, {\"year\": 1991, \"stat\": \"reb_home\", \"reb_value\": 44.435075885328835}, {\"year\": 1992, \"stat\": \"reb_home\", \"reb_value\": 44.418624891209745}, {\"year\": 1993, \"stat\": \"reb_home\", \"reb_value\": 43.83096234309623}, {\"year\": 1994, \"stat\": \"reb_home\", \"reb_value\": 43.59279279279279}, {\"year\": 1995, \"stat\": \"reb_home\", \"reb_value\": 42.314542483660134}, {\"year\": 1996, \"stat\": \"reb_home\", \"reb_value\": 42.214463840399006}, {\"year\": 1997, \"stat\": \"reb_home\", \"reb_value\": 42.15664556962025}, {\"year\": 1998, \"stat\": \"reb_home\", \"reb_value\": 42.25059665871122}, {\"year\": 1999, \"stat\": \"reb_home\", \"reb_value\": 43.108821104699096}, {\"year\": 2000, \"stat\": \"reb_home\", \"reb_value\": 43.16887417218543}, {\"year\": 2001, \"stat\": \"reb_home\", \"reb_value\": 43.68341307814992}, {\"year\": 2002, \"stat\": \"reb_home\", \"reb_value\": 43.20215410107705}, {\"year\": 2003, \"stat\": \"reb_home\", \"reb_value\": 43.00780640124903}, {\"year\": 2004, \"stat\": \"reb_home\", \"reb_value\": 42.98318654923939}, {\"year\": 2005, \"stat\": \"reb_home\", \"reb_value\": 42.337282229965155}, {\"year\": 2006, \"stat\": \"reb_home\", \"reb_value\": 41.722707423580786}, {\"year\": 2007, \"stat\": \"reb_home\", \"reb_value\": 42.151729004940016}, {\"year\": 2008, \"stat\": \"reb_home\", \"reb_value\": 42.49584487534626}, {\"year\": 2009, \"stat\": \"reb_home\", \"reb_value\": 42.00139275766017}, {\"year\": 2010, \"stat\": \"reb_home\", \"reb_value\": 42.10471567267684}, {\"year\": 2011, \"stat\": \"reb_home\", \"reb_value\": 41.9247546346783}, {\"year\": 2012, \"stat\": \"reb_home\", \"reb_value\": 42.92775330396476}, {\"year\": 2013, \"stat\": \"reb_home\", \"reb_value\": 43.462574850299404}, {\"year\": 2014, \"stat\": \"reb_home\", \"reb_value\": 43.06882312456985}, {\"year\": 2015, \"stat\": \"reb_home\", \"reb_value\": 44.47692307692308}, {\"year\": 2016, \"stat\": \"reb_home\", \"reb_value\": 44.38857938718663}, {\"year\": 2017, \"stat\": \"reb_home\", \"reb_value\": 43.72740014015417}, {\"year\": 2018, \"stat\": \"reb_home\", \"reb_value\": 45.080424886191196}, {\"year\": 2019, \"stat\": \"reb_home\", \"reb_value\": 45.89282899921198}, {\"year\": 2020, \"stat\": \"reb_home\", \"reb_value\": 45.04761904761905}, {\"year\": 2021, \"stat\": \"reb_home\", \"reb_value\": 44.89545186060248}, {\"year\": 2022, \"stat\": \"reb_home\", \"reb_value\": 44.35678749111585}, {\"year\": 2023, \"stat\": \"reb_home\", \"reb_value\": 43.6987012987013}, {\"year\": 1946, \"stat\": \"reb_away\", \"reb_value\": null}, {\"year\": 1947, \"stat\": \"reb_away\", \"reb_value\": null}, {\"year\": 1948, \"stat\": \"reb_away\", \"reb_value\": null}, {\"year\": 1949, \"stat\": \"reb_away\", \"reb_value\": null}, {\"year\": 1950, \"stat\": \"reb_away\", \"reb_value\": null}, {\"year\": 1951, \"stat\": \"reb_away\", \"reb_value\": 47.55555555555556}, {\"year\": 1952, \"stat\": \"reb_away\", \"reb_value\": 55.0}, {\"year\": 1953, \"stat\": \"reb_away\", \"reb_value\": 23.6}, {\"year\": 1954, \"stat\": \"reb_away\", \"reb_value\": 10.666666666666666}, {\"year\": 1955, \"stat\": \"reb_away\", \"reb_value\": 50.0}, {\"year\": 1956, \"stat\": \"reb_away\", \"reb_value\": 58.5}, {\"year\": 1957, \"stat\": \"reb_away\", \"reb_value\": 64.36363636363636}, {\"year\": 1958, \"stat\": \"reb_away\", \"reb_value\": 58.333333333333336}, {\"year\": 1959, \"stat\": \"reb_away\", \"reb_value\": 58.68421052631579}, {\"year\": 1960, \"stat\": \"reb_away\", \"reb_value\": 56.175}, {\"year\": 1961, \"stat\": \"reb_away\", \"reb_value\": 55.0}, {\"year\": 1962, \"stat\": \"reb_away\", \"reb_value\": 60.2}, {\"year\": 1963, \"stat\": \"reb_away\", \"reb_value\": 59.5}, {\"year\": 1964, \"stat\": \"reb_away\", \"reb_value\": 53.0625}, {\"year\": 1965, \"stat\": \"reb_away\", \"reb_value\": 50.666666666666664}, {\"year\": 1966, \"stat\": \"reb_away\", \"reb_value\": 57.55555555555556}, {\"year\": 1967, \"stat\": \"reb_away\", \"reb_value\": 56.0}, {\"year\": 1968, \"stat\": \"reb_away\", \"reb_value\": 61.0}, {\"year\": 1969, \"stat\": \"reb_away\", \"reb_value\": 58.0}, {\"year\": 1970, \"stat\": \"reb_away\", \"reb_value\": 51.0}, {\"year\": 1971, \"stat\": \"reb_away\", \"reb_value\": 48.714285714285715}, {\"year\": 1972, \"stat\": \"reb_away\", \"reb_value\": 51.42857142857143}, {\"year\": 1973, \"stat\": \"reb_away\", \"reb_value\": 51.714285714285715}, {\"year\": 1974, \"stat\": \"reb_away\", \"reb_value\": 44.25}, {\"year\": 1975, \"stat\": \"reb_away\", \"reb_value\": 47.5}, {\"year\": 1976, \"stat\": \"reb_away\", \"reb_value\": 49.714285714285715}, {\"year\": 1977, \"stat\": \"reb_away\", \"reb_value\": 48.875}, {\"year\": 1978, \"stat\": \"reb_away\", \"reb_value\": 44.55555555555556}, {\"year\": 1979, \"stat\": \"reb_away\", \"reb_value\": 44.5}, {\"year\": 1980, \"stat\": \"reb_away\", \"reb_value\": 47.875}, {\"year\": 1981, \"stat\": \"reb_away\", \"reb_value\": 41.05555555555556}, {\"year\": 1982, \"stat\": \"reb_away\", \"reb_value\": 43.0}, {\"year\": 1983, \"stat\": \"reb_away\", \"reb_value\": 43.15567010309278}, {\"year\": 1984, \"stat\": \"reb_away\", \"reb_value\": 43.52878048780488}, {\"year\": 1985, \"stat\": \"reb_away\", \"reb_value\": 46.82823297137216}, {\"year\": 1986, \"stat\": \"reb_away\", \"reb_value\": 42.22018348623853}, {\"year\": 1987, \"stat\": \"reb_away\", \"reb_value\": 42.42217700915565}, {\"year\": 1988, \"stat\": \"reb_away\", \"reb_value\": 42.23170731707317}, {\"year\": 1989, \"stat\": \"reb_away\", \"reb_value\": 42.496883348174535}, {\"year\": 1990, \"stat\": \"reb_away\", \"reb_value\": 42.08424599831508}, {\"year\": 1991, \"stat\": \"reb_away\", \"reb_value\": 42.231028667790895}, {\"year\": 1992, \"stat\": \"reb_away\", \"reb_value\": 42.201914708442125}, {\"year\": 1993, \"stat\": \"reb_away\", \"reb_value\": 41.84435146443515}, {\"year\": 1994, \"stat\": \"reb_away\", \"reb_value\": 41.61711711711712}, {\"year\": 1995, \"stat\": \"reb_away\", \"reb_value\": 40.36683006535948}, {\"year\": 1996, \"stat\": \"reb_away\", \"reb_value\": 40.37240232751455}, {\"year\": 1997, \"stat\": \"reb_away\", \"reb_value\": 40.39636075949367}, {\"year\": 1998, \"stat\": \"reb_away\", \"reb_value\": 40.15871121718377}, {\"year\": 1999, \"stat\": \"reb_away\", \"reb_value\": 41.323165704863975}, {\"year\": 2000, \"stat\": \"reb_away\", \"reb_value\": 41.80960264900662}, {\"year\": 2001, \"stat\": \"reb_away\", \"reb_value\": 41.801435406698566}, {\"year\": 2002, \"stat\": \"reb_away\", \"reb_value\": 41.47141673570837}, {\"year\": 2003, \"stat\": \"reb_away\", \"reb_value\": 41.5800156128025}, {\"year\": 2004, \"stat\": \"reb_away\", \"reb_value\": 41.1048839071257}, {\"year\": 2005, \"stat\": \"reb_away\", \"reb_value\": 40.809059233449474}, {\"year\": 2006, \"stat\": \"reb_away\", \"reb_value\": 40.0160116448326}, {\"year\": 2007, \"stat\": \"reb_away\", \"reb_value\": 40.93225123500353}, {\"year\": 2008, \"stat\": \"reb_away\", \"reb_value\": 40.8898891966759}, {\"year\": 2009, \"stat\": \"reb_away\", \"reb_value\": 40.52715877437326}, {\"year\": 2010, \"stat\": \"reb_away\", \"reb_value\": 40.99722607489598}, {\"year\": 2011, \"stat\": \"reb_away\", \"reb_value\": 40.85932388222464}, {\"year\": 2012, \"stat\": \"reb_away\", \"reb_value\": 41.48898678414097}, {\"year\": 2013, \"stat\": \"reb_away\", \"reb_value\": 42.467065868263475}, {\"year\": 2014, \"stat\": \"reb_away\", \"reb_value\": 41.915347556779075}, {\"year\": 2015, \"stat\": \"reb_away\", \"reb_value\": 43.35944055944056}, {\"year\": 2016, \"stat\": \"reb_away\", \"reb_value\": 43.13091922005571}, {\"year\": 2017, \"stat\": \"reb_away\", \"reb_value\": 42.76944639103014}, {\"year\": 2018, \"stat\": \"reb_away\", \"reb_value\": 43.38846737481032}, {\"year\": 2019, \"stat\": \"reb_away\", \"reb_value\": 44.73522458628842}, {\"year\": 2020, \"stat\": \"reb_away\", \"reb_value\": 44.051587301587304}, {\"year\": 2021, \"stat\": \"reb_away\", \"reb_value\": 44.12640283520378}, {\"year\": 2022, \"stat\": \"reb_away\", \"reb_value\": 43.372423596304195}, {\"year\": 2023, \"stat\": \"reb_away\", \"reb_value\": 42.97922077922078}], \"data-e43741b36abefef6cf0762a05f1b829d\": [{\"year\": 1946, \"stat\": \"oreb_home\", \"oreb_value\": null}, {\"year\": 1947, \"stat\": \"oreb_home\", \"oreb_value\": null}, {\"year\": 1948, \"stat\": \"oreb_home\", \"oreb_value\": null}, {\"year\": 1949, \"stat\": \"oreb_home\", \"oreb_value\": null}, {\"year\": 1950, \"stat\": \"oreb_home\", \"oreb_value\": null}, {\"year\": 1951, \"stat\": \"oreb_home\", \"oreb_value\": null}, {\"year\": 1952, \"stat\": \"oreb_home\", \"oreb_value\": null}, {\"year\": 1953, \"stat\": \"oreb_home\", \"oreb_value\": null}, {\"year\": 1954, \"stat\": \"oreb_home\", \"oreb_value\": null}, {\"year\": 1955, \"stat\": \"oreb_home\", \"oreb_value\": null}, {\"year\": 1956, \"stat\": \"oreb_home\", \"oreb_value\": null}, {\"year\": 1957, \"stat\": \"oreb_home\", \"oreb_value\": null}, {\"year\": 1958, \"stat\": \"oreb_home\", \"oreb_value\": null}, {\"year\": 1959, \"stat\": \"oreb_home\", \"oreb_value\": null}, {\"year\": 1960, \"stat\": \"oreb_home\", \"oreb_value\": null}, {\"year\": 1961, \"stat\": \"oreb_home\", \"oreb_value\": null}, {\"year\": 1962, \"stat\": \"oreb_home\", \"oreb_value\": null}, {\"year\": 1963, \"stat\": \"oreb_home\", \"oreb_value\": null}, {\"year\": 1964, \"stat\": \"oreb_home\", \"oreb_value\": null}, {\"year\": 1965, \"stat\": \"oreb_home\", \"oreb_value\": null}, {\"year\": 1966, \"stat\": \"oreb_home\", \"oreb_value\": null}, {\"year\": 1967, \"stat\": \"oreb_home\", \"oreb_value\": null}, {\"year\": 1968, \"stat\": \"oreb_home\", \"oreb_value\": null}, {\"year\": 1969, \"stat\": \"oreb_home\", \"oreb_value\": null}, {\"year\": 1970, \"stat\": \"oreb_home\", \"oreb_value\": null}, {\"year\": 1971, \"stat\": \"oreb_home\", \"oreb_value\": null}, {\"year\": 1972, \"stat\": \"oreb_home\", \"oreb_value\": null}, {\"year\": 1973, \"stat\": \"oreb_home\", \"oreb_value\": null}, {\"year\": 1974, \"stat\": \"oreb_home\", \"oreb_value\": 13.5}, {\"year\": 1975, \"stat\": \"oreb_home\", \"oreb_value\": 16.333333333333332}, {\"year\": 1976, \"stat\": \"oreb_home\", \"oreb_value\": 14.0}, {\"year\": 1977, \"stat\": \"oreb_home\", \"oreb_value\": 13.0}, {\"year\": 1978, \"stat\": \"oreb_home\", \"oreb_value\": 22.77777777777778}, {\"year\": 1979, \"stat\": \"oreb_home\", \"oreb_value\": 15.166666666666666}, {\"year\": 1980, \"stat\": \"oreb_home\", \"oreb_value\": 16.625}, {\"year\": 1981, \"stat\": \"oreb_home\", \"oreb_value\": 16.6875}, {\"year\": 1982, \"stat\": \"oreb_home\", \"oreb_value\": 16.8}, {\"year\": 1983, \"stat\": \"oreb_home\", \"oreb_value\": 15.6}, {\"year\": 1984, \"stat\": \"oreb_home\", \"oreb_value\": 15.958333333333334}, {\"year\": 1985, \"stat\": \"oreb_home\", \"oreb_value\": 14.628959276018099}, {\"year\": 1986, \"stat\": \"oreb_home\", \"oreb_value\": 14.664627930682977}, {\"year\": 1987, \"stat\": \"oreb_home\", \"oreb_value\": 14.8911495422177}, {\"year\": 1988, \"stat\": \"oreb_home\", \"oreb_value\": 14.26547842401501}, {\"year\": 1989, \"stat\": \"oreb_home\", \"oreb_value\": 14.52359750667854}, {\"year\": 1990, \"stat\": \"oreb_home\", \"oreb_value\": 14.054759898904802}, {\"year\": 1991, \"stat\": \"oreb_home\", \"oreb_value\": 14.476391231028668}, {\"year\": 1992, \"stat\": \"oreb_home\", \"oreb_value\": 14.437771975630984}, {\"year\": 1993, \"stat\": \"oreb_home\", \"oreb_value\": 14.132217573221757}, {\"year\": 1994, \"stat\": \"oreb_home\", \"oreb_value\": 13.947747747747748}, {\"year\": 1995, \"stat\": \"oreb_home\", \"oreb_value\": 13.242647058823529}, {\"year\": 1996, \"stat\": \"oreb_home\", \"oreb_value\": 12.997506234413965}, {\"year\": 1997, \"stat\": \"oreb_home\", \"oreb_value\": 13.120253164556962}, {\"year\": 1998, \"stat\": \"oreb_home\", \"oreb_value\": 13.305489260143197}, {\"year\": 1999, \"stat\": \"oreb_home\", \"oreb_value\": 12.86479802143446}, {\"year\": 2000, \"stat\": \"oreb_home\", \"oreb_value\": 12.22682119205298}, {\"year\": 2001, \"stat\": \"oreb_home\", \"oreb_value\": 12.503189792663477}, {\"year\": 2002, \"stat\": \"oreb_home\", \"oreb_value\": 12.31814415907208}, {\"year\": 2003, \"stat\": \"oreb_home\", \"oreb_value\": 12.246682279469164}, {\"year\": 2004, \"stat\": \"oreb_home\", \"oreb_value\": 12.326661329063251}, {\"year\": 2005, \"stat\": \"oreb_home\", \"oreb_value\": 12.009059233449477}, {\"year\": 2006, \"stat\": \"oreb_home\", \"oreb_value\": 11.384279475982533}, {\"year\": 2007, \"stat\": \"oreb_home\", \"oreb_value\": 11.330275229357799}, {\"year\": 2008, \"stat\": \"oreb_home\", \"oreb_value\": 11.405124653739612}, {\"year\": 2009, \"stat\": \"oreb_home\", \"oreb_value\": 11.149025069637883}, {\"year\": 2010, \"stat\": \"oreb_home\", \"oreb_value\": 10.945214979195562}, {\"year\": 2011, \"stat\": \"oreb_home\", \"oreb_value\": 11.15267175572519}, {\"year\": 2012, \"stat\": \"oreb_home\", \"oreb_value\": 11.502202643171806}, {\"year\": 2013, \"stat\": \"oreb_home\", \"oreb_value\": 10.970059880239521}, {\"year\": 2014, \"stat\": \"oreb_home\", \"oreb_value\": 10.871300757054371}, {\"year\": 2015, \"stat\": \"oreb_home\", \"oreb_value\": 10.888111888111888}, {\"year\": 2016, \"stat\": \"oreb_home\", \"oreb_value\": 10.425487465181059}, {\"year\": 2017, \"stat\": \"oreb_home\", \"oreb_value\": 9.887876664330763}, {\"year\": 2018, \"stat\": \"oreb_home\", \"oreb_value\": 10.188922610015174}, {\"year\": 2019, \"stat\": \"oreb_home\", \"oreb_value\": 10.459416863672184}, {\"year\": 2020, \"stat\": \"oreb_home\", \"oreb_value\": 9.894179894179894}, {\"year\": 2021, \"stat\": \"oreb_home\", \"oreb_value\": 10.046072061429415}, {\"year\": 2022, \"stat\": \"oreb_home\", \"oreb_value\": 10.476190476190476}, {\"year\": 2023, \"stat\": \"oreb_home\", \"oreb_value\": 10.323376623376623}, {\"year\": 1946, \"stat\": \"oreb_away\", \"oreb_value\": null}, {\"year\": 1947, \"stat\": \"oreb_away\", \"oreb_value\": null}, {\"year\": 1948, \"stat\": \"oreb_away\", \"oreb_value\": null}, {\"year\": 1949, \"stat\": \"oreb_away\", \"oreb_value\": null}, {\"year\": 1950, \"stat\": \"oreb_away\", \"oreb_value\": null}, {\"year\": 1951, \"stat\": \"oreb_away\", \"oreb_value\": null}, {\"year\": 1952, \"stat\": \"oreb_away\", \"oreb_value\": null}, {\"year\": 1953, \"stat\": \"oreb_away\", \"oreb_value\": null}, {\"year\": 1954, \"stat\": \"oreb_away\", \"oreb_value\": null}, {\"year\": 1955, \"stat\": \"oreb_away\", \"oreb_value\": null}, {\"year\": 1956, \"stat\": \"oreb_away\", \"oreb_value\": null}, {\"year\": 1957, \"stat\": \"oreb_away\", \"oreb_value\": null}, {\"year\": 1958, \"stat\": \"oreb_away\", \"oreb_value\": null}, {\"year\": 1959, \"stat\": \"oreb_away\", \"oreb_value\": null}, {\"year\": 1960, \"stat\": \"oreb_away\", \"oreb_value\": null}, {\"year\": 1961, \"stat\": \"oreb_away\", \"oreb_value\": null}, {\"year\": 1962, \"stat\": \"oreb_away\", \"oreb_value\": null}, {\"year\": 1963, \"stat\": \"oreb_away\", \"oreb_value\": null}, {\"year\": 1964, \"stat\": \"oreb_away\", \"oreb_value\": null}, {\"year\": 1965, \"stat\": \"oreb_away\", \"oreb_value\": null}, {\"year\": 1966, \"stat\": \"oreb_away\", \"oreb_value\": null}, {\"year\": 1967, \"stat\": \"oreb_away\", \"oreb_value\": null}, {\"year\": 1968, \"stat\": \"oreb_away\", \"oreb_value\": null}, {\"year\": 1969, \"stat\": \"oreb_away\", \"oreb_value\": null}, {\"year\": 1970, \"stat\": \"oreb_away\", \"oreb_value\": null}, {\"year\": 1971, \"stat\": \"oreb_away\", \"oreb_value\": null}, {\"year\": 1972, \"stat\": \"oreb_away\", \"oreb_value\": null}, {\"year\": 1973, \"stat\": \"oreb_away\", \"oreb_value\": null}, {\"year\": 1974, \"stat\": \"oreb_away\", \"oreb_value\": 12.5}, {\"year\": 1975, \"stat\": \"oreb_away\", \"oreb_value\": 13.833333333333334}, {\"year\": 1976, \"stat\": \"oreb_away\", \"oreb_value\": 15.571428571428571}, {\"year\": 1977, \"stat\": \"oreb_away\", \"oreb_value\": 15.0}, {\"year\": 1978, \"stat\": \"oreb_away\", \"oreb_value\": 14.555555555555555}, {\"year\": 1979, \"stat\": \"oreb_away\", \"oreb_value\": 15.666666666666666}, {\"year\": 1980, \"stat\": \"oreb_away\", \"oreb_value\": 17.125}, {\"year\": 1981, \"stat\": \"oreb_away\", \"oreb_value\": 13.0}, {\"year\": 1982, \"stat\": \"oreb_away\", \"oreb_value\": 14.622222222222222}, {\"year\": 1983, \"stat\": \"oreb_away\", \"oreb_value\": 15.457142857142857}, {\"year\": 1984, \"stat\": \"oreb_away\", \"oreb_value\": 13.458333333333334}, {\"year\": 1985, \"stat\": \"oreb_away\", \"oreb_value\": 14.305429864253394}, {\"year\": 1986, \"stat\": \"oreb_away\", \"oreb_value\": 13.955147808358818}, {\"year\": 1987, \"stat\": \"oreb_away\", \"oreb_value\": 14.1617497456765}, {\"year\": 1988, \"stat\": \"oreb_away\", \"oreb_value\": 14.00375234521576}, {\"year\": 1989, \"stat\": \"oreb_away\", \"oreb_value\": 14.17186108637578}, {\"year\": 1990, \"stat\": \"oreb_away\", \"oreb_value\": 13.565290648694187}, {\"year\": 1991, \"stat\": \"oreb_away\", \"oreb_value\": 13.709949409780776}, {\"year\": 1992, \"stat\": \"oreb_away\", \"oreb_value\": 13.838120104438643}, {\"year\": 1993, \"stat\": \"oreb_away\", \"oreb_value\": 13.373221757322176}, {\"year\": 1994, \"stat\": \"oreb_away\", \"oreb_value\": 13.35135135135135}, {\"year\": 1995, \"stat\": \"oreb_away\", \"oreb_value\": 12.47875816993464}, {\"year\": 1996, \"stat\": \"oreb_away\", \"oreb_value\": 12.275145469659185}, {\"year\": 1997, \"stat\": \"oreb_away\", \"oreb_value\": 12.377373417721518}, {\"year\": 1998, \"stat\": \"oreb_away\", \"oreb_value\": 12.449880668257757}, {\"year\": 1999, \"stat\": \"oreb_away\", \"oreb_value\": 12.204451772464964}, {\"year\": 2000, \"stat\": \"oreb_away\", \"oreb_value\": 12.156456953642385}, {\"year\": 2001, \"stat\": \"oreb_away\", \"oreb_value\": 11.87719298245614}, {\"year\": 2002, \"stat\": \"oreb_away\", \"oreb_value\": 11.980944490472245}, {\"year\": 2003, \"stat\": \"oreb_away\", \"oreb_value\": 11.912568306010929}, {\"year\": 2004, \"stat\": \"oreb_away\", \"oreb_value\": 11.77822257806245}, {\"year\": 2005, \"stat\": \"oreb_away\", \"oreb_value\": 11.49616724738676}, {\"year\": 2006, \"stat\": \"oreb_away\", \"oreb_value\": 10.842794759825328}, {\"year\": 2007, \"stat\": \"oreb_away\", \"oreb_value\": 11.049400141143261}, {\"year\": 2008, \"stat\": \"oreb_away\", \"oreb_value\": 10.85387811634349}, {\"year\": 2009, \"stat\": \"oreb_away\", \"oreb_value\": 10.731894150417828}, {\"year\": 2010, \"stat\": \"oreb_away\", \"oreb_value\": 10.72122052704577}, {\"year\": 2011, \"stat\": \"oreb_away\", \"oreb_value\": 10.829880043620502}, {\"year\": 2012, \"stat\": \"oreb_away\", \"oreb_value\": 11.176211453744493}, {\"year\": 2013, \"stat\": \"oreb_away\", \"oreb_value\": 10.931137724550899}, {\"year\": 2014, \"stat\": \"oreb_away\", \"oreb_value\": 10.587061252580867}, {\"year\": 2015, \"stat\": \"oreb_away\", \"oreb_value\": 10.644755244755245}, {\"year\": 2016, \"stat\": \"oreb_away\", \"oreb_value\": 10.266713091922005}, {\"year\": 2017, \"stat\": \"oreb_away\", \"oreb_value\": 9.775753328661528}, {\"year\": 2018, \"stat\": \"oreb_away\", \"oreb_value\": 9.77845220030349}, {\"year\": 2019, \"stat\": \"oreb_away\", \"oreb_value\": 10.167060677698975}, {\"year\": 2020, \"stat\": \"oreb_away\", \"oreb_value\": 9.616402116402117}, {\"year\": 2021, \"stat\": \"oreb_away\", \"oreb_value\": 9.942705256940343}, {\"year\": 2022, \"stat\": \"oreb_away\", \"oreb_value\": 10.30774697938877}, {\"year\": 2023, \"stat\": \"oreb_away\", \"oreb_value\": 10.409090909090908}]}}, {\"mode\": \"vega-lite\"});\n",
       "</script>"
      ],
      "text/plain": [
       "alt.HConcatChart(...)"
      ]
     },
     "execution_count": 17,
     "metadata": {},
     "output_type": "execute_result"
    }
   ],
   "source": [
    "import pandas as pd\n",
    "import altair as alt\n",
    "\n",
    "\n",
    "# Sample code to prepare the game_data_filtered if you've not already:\n",
    "game_data_filtered = pd.read_csv('Datasets/NBA Database Datasets/game.csv')\n",
    "\n",
    "game_data_filtered['year'] = pd.to_datetime(game_data_filtered['game_date']).dt.year\n",
    "\n",
    "# Group by stats for home and away teams combined\n",
    "tov_data = game_data_filtered.groupby('year').agg({\n",
    "    'tov_home': 'mean',\n",
    "    'tov_away': 'mean'\n",
    "}).reset_index().melt('year', var_name='stat', value_name='tov_value')\n",
    "\n",
    "fg_pct_data = game_data_filtered.groupby('year').agg({\n",
    "    'fg_pct_home': 'mean',\n",
    "    'fg_pct_away': 'mean'\n",
    "}).reset_index().melt('year', var_name='stat', value_name='fg_pct_value')\n",
    "\n",
    "reb_home_data = game_data_filtered.groupby('year').agg({\n",
    "    'reb_home': 'mean',\n",
    "    'reb_away': 'mean'\n",
    "}).reset_index().melt('year', var_name='stat', value_name='reb_value')\n",
    "\n",
    "oreb_data = game_data_filtered.groupby('year').agg({\n",
    "    'oreb_home': 'mean',\n",
    "    'oreb_away': 'mean'\n",
    "}).reset_index().melt('year', var_name='stat', value_name='oreb_value')\n",
    "\n",
    "\n",
    "# Create a slider for year selection\n",
    "slider = alt.binding_range(min=2000, max=tov_data['year'].max(), step=1, name='Year:')\n",
    "slider_selection = alt.selection_single(bind=slider, fields=['year'], name='Selector')\n",
    "\n",
    "# graphs for tov, fg_pct, reb, oreb\n",
    "\n",
    "tov_Chart = alt.Chart(tov_data).mark_bar(opacity=0.7).encode(\n",
    "    x=alt.X('stat:N', axis=alt.Axis(title='Turnovers')),\n",
    "    y=alt.Y('tov_value:Q', axis=alt.Axis(title='Value')),\n",
    "    tooltip=['year', 'stat', 'tov_value']\n",
    ").properties(\n",
    "    width=200\n",
    ").add_selection(\n",
    "    slider_selection\n",
    ").transform_filter(\n",
    "    slider_selection\n",
    ")\n",
    "\n",
    "fg_pct_Chart = alt.Chart(fg_pct_data).mark_bar(opacity=0.7).encode(\n",
    "    x=alt.X('stat:N', axis=alt.Axis(title='Field Goal Percentage')),\n",
    "    y=alt.Y('fg_pct_value:Q', axis=alt.Axis(title='Value')),\n",
    "    tooltip=['year', 'stat', 'fg_pct_value']\n",
    ").properties(\n",
    "    width=200\n",
    ").add_selection(\n",
    "    slider_selection\n",
    ").transform_filter(\n",
    "    slider_selection\n",
    ")\n",
    "\n",
    "reb_Chart = alt.Chart(reb_home_data).mark_bar(opacity=0.7).encode(\n",
    "    x=alt.X('stat:N', axis=alt.Axis(title='Rebounds')),\n",
    "    y=alt.Y('reb_value:Q', axis=alt.Axis(title='Value')),\n",
    "    tooltip=['year', 'stat', 'reb_value']\n",
    ").properties(\n",
    "    width=200\n",
    ").add_selection(\n",
    "    slider_selection\n",
    ").transform_filter(\n",
    "    slider_selection\n",
    ")\n",
    "\n",
    "oreb_Chart = alt.Chart(oreb_data).mark_bar(opacity=0.7).encode(\n",
    "    x=alt.X('stat:N', axis=alt.Axis(title='Offesive Rebounds')),\n",
    "    y=alt.Y('oreb_value:Q', axis=alt.Axis(title='Value')),\n",
    "    tooltip=['year', 'stat', 'oreb_value']\n",
    ").properties(\n",
    "    width=200\n",
    ").add_selection(\n",
    "    slider_selection\n",
    ").transform_filter(\n",
    "    slider_selection\n",
    ")\n",
    " \n",
    "# Combine the charts\n",
    "combined_charts = alt.hconcat(tov_Chart, fg_pct_Chart, reb_Chart, oreb_Chart).resolve_scale(y='independent').properties(title='Average Game Statistics per Year')\n",
    "\n",
    "# Display the chart\n",
    "combined_charts\n"
   ]
  },
  {
   "cell_type": "code",
   "execution_count": null,
   "metadata": {},
   "outputs": [],
   "source": [
    "\n",
    "\n"
   ]
  },
  {
   "cell_type": "code",
   "execution_count": 4,
   "metadata": {},
   "outputs": [
    {
     "name": "stderr",
     "output_type": "stream",
     "text": [
      "/var/folders/wj/_8fkb1x10xn9hxrq5p8pfh280000gn/T/ipykernel_72247/2460080567.py:5: SettingWithCopyWarning: \n",
      "A value is trying to be set on a copy of a slice from a DataFrame.\n",
      "Try using .loc[row_indexer,col_indexer] = value instead\n",
      "\n",
      "See the caveats in the documentation: https://pandas.pydata.org/pandas-docs/stable/user_guide/indexing.html#returning-a-view-versus-a-copy\n",
      "  hawks_data['GAME_DATE'] = pd.to_datetime(hawks_data['GAME_DATE'])\n",
      "/Users/apple/miniconda3/lib/python3.11/site-packages/_plotly_utils/basevalidators.py:106: FutureWarning: The behavior of DatetimeProperties.to_pydatetime is deprecated, in a future version this will return a Series containing python datetime objects instead of an ndarray. To retain the old behavior, call `np.array` on the result\n",
      "  v = v.dt.to_pydatetime()\n",
      "/Users/apple/miniconda3/lib/python3.11/site-packages/_plotly_utils/basevalidators.py:106: FutureWarning: The behavior of DatetimeProperties.to_pydatetime is deprecated, in a future version this will return a Series containing python datetime objects instead of an ndarray. To retain the old behavior, call `np.array` on the result\n",
      "  v = v.dt.to_pydatetime()\n"
     ]
    },
    {
     "data": {
      "application/vnd.plotly.v1+json": {
       "config": {
        "plotlyServerURL": "https://plot.ly"
       },
       "data": [
        {
         "hovertemplate": "Game Date=%{x}<br>Total Win Percentage=%{y}<extra></extra>",
         "legendgroup": "",
         "marker": {
          "color": "#636efa",
          "symbol": "circle"
         },
         "mode": "markers",
         "name": "",
         "orientation": "v",
         "showlegend": false,
         "type": "scatter",
         "x": [
          "2020-12-28T00:00:00",
          "2021-01-02T00:00:00",
          "2021-01-04T00:00:00",
          "2021-01-06T00:00:00",
          "2021-01-11T00:00:00",
          "2021-01-18T00:00:00",
          "2021-01-20T00:00:00",
          "2021-01-26T00:00:00",
          "2021-01-27T00:00:00",
          "2021-02-01T00:00:00",
          "2021-02-03T00:00:00",
          "2021-02-04T00:00:00",
          "2021-02-06T00:00:00",
          "2021-02-12T00:00:00",
          "2021-02-13T00:00:00",
          "2021-02-21T00:00:00",
          "2021-02-24T00:00:00",
          "2021-03-13T00:00:00",
          "2021-03-14T00:00:00",
          "2021-03-18T00:00:00",
          "2021-04-04T00:00:00",
          "2021-04-06T00:00:00",
          "2021-04-07T00:00:00",
          "2021-04-09T00:00:00",
          "2021-04-15T00:00:00",
          "2021-04-18T00:00:00",
          "2021-04-20T00:00:00",
          "2021-04-23T00:00:00",
          "2021-04-25T00:00:00",
          "2021-05-01T00:00:00",
          "2021-05-03T00:00:00",
          "2021-05-05T00:00:00",
          "2021-05-10T00:00:00",
          "2021-05-12T00:00:00",
          "2021-05-13T00:00:00",
          "2021-05-16T00:00:00",
          "2021-10-21T00:00:00",
          "2021-10-25T00:00:00",
          "2021-11-01T00:00:00",
          "2021-11-04T00:00:00",
          "2021-11-14T00:00:00",
          "2021-11-15T00:00:00",
          "2021-11-17T00:00:00",
          "2021-11-20T00:00:00",
          "2021-11-22T00:00:00",
          "2021-11-27T00:00:00",
          "2021-12-03T00:00:00",
          "2021-12-05T00:00:00",
          "2021-12-10T00:00:00",
          "2021-12-13T00:00:00",
          "2021-12-17T00:00:00",
          "2021-12-22T00:00:00",
          "2021-12-27T00:00:00",
          "2022-01-12T00:00:00",
          "2022-01-15T00:00:00",
          "2022-01-17T00:00:00",
          "2022-01-19T00:00:00",
          "2022-01-21T00:00:00",
          "2022-01-26T00:00:00",
          "2022-01-28T00:00:00",
          "2022-01-30T00:00:00",
          "2022-01-31T00:00:00",
          "2022-02-03T00:00:00",
          "2022-02-08T00:00:00",
          "2022-02-11T00:00:00",
          "2022-02-15T00:00:00",
          "2022-02-26T00:00:00",
          "2022-03-03T00:00:00",
          "2022-03-11T00:00:00",
          "2022-03-13T00:00:00",
          "2022-03-14T00:00:00",
          "2022-03-18T00:00:00",
          "2022-03-20T00:00:00",
          "2022-03-25T00:00:00",
          "2022-03-31T00:00:00",
          "2022-04-02T00:00:00",
          "2022-04-06T00:00:00",
          "2022-10-19T00:00:00",
          "2022-10-21T00:00:00",
          "2022-10-23T00:00:00",
          "2022-11-05T00:00:00",
          "2022-11-07T00:00:00",
          "2022-11-09T00:00:00",
          "2022-11-10T00:00:00",
          "2022-11-16T00:00:00",
          "2022-11-19T00:00:00",
          "2022-11-23T00:00:00",
          "2022-11-27T00:00:00",
          "2022-12-02T00:00:00",
          "2022-12-05T00:00:00",
          "2022-12-11T00:00:00",
          "2022-12-19T00:00:00",
          "2022-12-21T00:00:00",
          "2022-12-23T00:00:00",
          "2022-12-28T00:00:00",
          "2022-12-30T00:00:00",
          "2023-01-11T00:00:00",
          "2023-01-16T00:00:00",
          "2023-01-20T00:00:00",
          "2023-01-21T00:00:00",
          "2023-01-28T00:00:00",
          "2023-02-09T00:00:00",
          "2023-02-11T00:00:00",
          "2023-02-15T00:00:00",
          "2023-02-24T00:00:00",
          "2023-02-26T00:00:00",
          "2023-02-28T00:00:00",
          "2023-03-03T00:00:00",
          "2023-03-11T00:00:00",
          "2023-03-13T00:00:00",
          "2023-03-17T00:00:00",
          "2023-03-21T00:00:00",
          "2023-03-25T00:00:00",
          "2023-03-26T00:00:00",
          "2023-03-28T00:00:00",
          "2023-04-02T00:00:00",
          "2023-04-05T00:00:00",
          "2023-04-07T00:00:00"
         ],
         "xaxis": "x",
         "y": [
          1,
          0.6666666666666666,
          0.5714285714285714,
          0.5,
          0.5,
          0.4615384615384615,
          0.5,
          0.5294117647058824,
          0.5,
          0.5,
          0.4761904761904761,
          0.4545454545454545,
          0.4782608695652174,
          0.44,
          0.4230769230769231,
          0.4333333333333333,
          0.4375,
          0.4736842105263157,
          0.4871794871794871,
          0.5121951219512195,
          0.52,
          0.5294117647058824,
          0.5192307692307693,
          0.5283018867924528,
          0.5357142857142857,
          0.543859649122807,
          0.5517241379310345,
          0.55,
          0.5573770491803278,
          0.5384615384615384,
          0.5454545454545454,
          0.5522388059701493,
          0.5507246376811594,
          0.5571428571428572,
          0.5633802816901409,
          0.5694444444444444,
          1,
          0.6666666666666666,
          0.5714285714285714,
          0.4444444444444444,
          0.3571428571428571,
          0.4,
          0.4375,
          0.4705882352941176,
          0.5,
          0.5238095238095238,
          0.5217391304347826,
          0.5,
          0.5,
          0.4814814814814814,
          0.4827586206896552,
          0.4666666666666667,
          0.4545454545454545,
          0.425,
          0.4047619047619047,
          0.4186046511627907,
          0.4318181818181818,
          0.4444444444444444,
          0.4680851063829787,
          0.4791666666666667,
          0.4897959183673469,
          0.48,
          0.4901960784313725,
          0.4814814814814814,
          0.4727272727272727,
          0.4736842105263157,
          0.4833333333333333,
          0.4838709677419355,
          0.4848484848484848,
          0.4925373134328358,
          0.5,
          0.5,
          0.4929577464788732,
          0.5,
          0.5194805194805194,
          0.5256410256410257,
          0.525,
          1,
          1,
          0.6666666666666666,
          0.6666666666666666,
          0.7,
          0.6363636363636364,
          0.6666666666666666,
          0.6,
          0.625,
          0.6111111111111112,
          0.55,
          0.5652173913043478,
          0.5416666666666666,
          0.5185185185185185,
          0.5161290322580645,
          0.5,
          0.5151515151515151,
          0.4857142857142857,
          0.4722222222222222,
          0.4634146341463415,
          0.5,
          0.5217391304347826,
          0.5106382978723404,
          0.5,
          0.5,
          0.5087719298245614,
          0.4915254237288136,
          0.5,
          0.5081967213114754,
          0.5,
          0.5079365079365079,
          0.5,
          0.4927536231884058,
          0.5,
          0.5,
          0.5,
          0.4933333333333333,
          0.5,
          0.5,
          0.5125,
          0.5061728395061729
         ],
         "yaxis": "y"
        },
        {
         "hovertemplate": "<b>LOWESS trendline</b><br><br>Game Date=%{x}<br>Total Win Percentage=%{y} <b>(trend)</b><extra></extra>",
         "legendgroup": "",
         "marker": {
          "color": "#636efa",
          "symbol": "circle"
         },
         "mode": "lines",
         "name": "",
         "showlegend": false,
         "type": "scatter",
         "x": [
          "2020-12-28T00:00:00",
          "2021-01-02T00:00:00",
          "2021-01-04T00:00:00",
          "2021-01-06T00:00:00",
          "2021-01-11T00:00:00",
          "2021-01-18T00:00:00",
          "2021-01-20T00:00:00",
          "2021-01-26T00:00:00",
          "2021-01-27T00:00:00",
          "2021-02-01T00:00:00",
          "2021-02-03T00:00:00",
          "2021-02-04T00:00:00",
          "2021-02-06T00:00:00",
          "2021-02-12T00:00:00",
          "2021-02-13T00:00:00",
          "2021-02-21T00:00:00",
          "2021-02-24T00:00:00",
          "2021-03-13T00:00:00",
          "2021-03-14T00:00:00",
          "2021-03-18T00:00:00",
          "2021-04-04T00:00:00",
          "2021-04-06T00:00:00",
          "2021-04-07T00:00:00",
          "2021-04-09T00:00:00",
          "2021-04-15T00:00:00",
          "2021-04-18T00:00:00",
          "2021-04-20T00:00:00",
          "2021-04-23T00:00:00",
          "2021-04-25T00:00:00",
          "2021-05-01T00:00:00",
          "2021-05-03T00:00:00",
          "2021-05-05T00:00:00",
          "2021-05-10T00:00:00",
          "2021-05-12T00:00:00",
          "2021-05-13T00:00:00",
          "2021-05-16T00:00:00",
          "2021-10-21T00:00:00",
          "2021-10-25T00:00:00",
          "2021-11-01T00:00:00",
          "2021-11-04T00:00:00",
          "2021-11-14T00:00:00",
          "2021-11-15T00:00:00",
          "2021-11-17T00:00:00",
          "2021-11-20T00:00:00",
          "2021-11-22T00:00:00",
          "2021-11-27T00:00:00",
          "2021-12-03T00:00:00",
          "2021-12-05T00:00:00",
          "2021-12-10T00:00:00",
          "2021-12-13T00:00:00",
          "2021-12-17T00:00:00",
          "2021-12-22T00:00:00",
          "2021-12-27T00:00:00",
          "2022-01-12T00:00:00",
          "2022-01-15T00:00:00",
          "2022-01-17T00:00:00",
          "2022-01-19T00:00:00",
          "2022-01-21T00:00:00",
          "2022-01-26T00:00:00",
          "2022-01-28T00:00:00",
          "2022-01-30T00:00:00",
          "2022-01-31T00:00:00",
          "2022-02-03T00:00:00",
          "2022-02-08T00:00:00",
          "2022-02-11T00:00:00",
          "2022-02-15T00:00:00",
          "2022-02-26T00:00:00",
          "2022-03-03T00:00:00",
          "2022-03-11T00:00:00",
          "2022-03-13T00:00:00",
          "2022-03-14T00:00:00",
          "2022-03-18T00:00:00",
          "2022-03-20T00:00:00",
          "2022-03-25T00:00:00",
          "2022-03-31T00:00:00",
          "2022-04-02T00:00:00",
          "2022-04-06T00:00:00",
          "2022-10-19T00:00:00",
          "2022-10-21T00:00:00",
          "2022-10-23T00:00:00",
          "2022-11-05T00:00:00",
          "2022-11-07T00:00:00",
          "2022-11-09T00:00:00",
          "2022-11-10T00:00:00",
          "2022-11-16T00:00:00",
          "2022-11-19T00:00:00",
          "2022-11-23T00:00:00",
          "2022-11-27T00:00:00",
          "2022-12-02T00:00:00",
          "2022-12-05T00:00:00",
          "2022-12-11T00:00:00",
          "2022-12-19T00:00:00",
          "2022-12-21T00:00:00",
          "2022-12-23T00:00:00",
          "2022-12-28T00:00:00",
          "2022-12-30T00:00:00",
          "2023-01-11T00:00:00",
          "2023-01-16T00:00:00",
          "2023-01-20T00:00:00",
          "2023-01-21T00:00:00",
          "2023-01-28T00:00:00",
          "2023-02-09T00:00:00",
          "2023-02-11T00:00:00",
          "2023-02-15T00:00:00",
          "2023-02-24T00:00:00",
          "2023-02-26T00:00:00",
          "2023-02-28T00:00:00",
          "2023-03-03T00:00:00",
          "2023-03-11T00:00:00",
          "2023-03-13T00:00:00",
          "2023-03-17T00:00:00",
          "2023-03-21T00:00:00",
          "2023-03-25T00:00:00",
          "2023-03-26T00:00:00",
          "2023-03-28T00:00:00",
          "2023-04-02T00:00:00",
          "2023-04-05T00:00:00",
          "2023-04-07T00:00:00"
         ],
         "xaxis": "x",
         "y": [
          0.5167471505141747,
          0.5164011377921917,
          0.5162618893768244,
          0.5161221557001013,
          0.515770674558998,
          0.5152733715111875,
          0.5151301511282251,
          0.5146974547350248,
          0.5146248968122746,
          0.5142602179018573,
          0.5141134667802884,
          0.5140399034615684,
          0.513892403576084,
          0.5134469768076946,
          0.5133723220736666,
          0.5127710210142977,
          0.5125437703241773,
          0.5112408779877239,
          0.5111635735215616,
          0.5108537925488466,
          0.5095308902742707,
          0.5093750137615628,
          0.5092970874430671,
          0.5091412740573699,
          0.5086743642732778,
          0.5084413563370729,
          0.508286237685093,
          0.5080539456519674,
          0.5078993722856915,
          0.5074372460434069,
          0.5072837959248757,
          0.5071306710372677,
          0.5067493815792184,
          0.5065975119130146,
          0.5065217221049335,
          0.5062949481369674,
          0.4959322143579639,
          0.4957017341424266,
          0.49528543831604827,
          0.49509781911667067,
          0.49438832034676994,
          0.4943063596607434,
          0.49413387715021584,
          0.4938501565324102,
          0.49364137306482164,
          0.4930244920982668,
          0.4922041079191284,
          0.49192934851603987,
          0.49120725554033634,
          0.49073127017055024,
          0.4901080398134469,
          0.48928347109160747,
          0.48850475929061743,
          0.4861904881171838,
          0.4859241840251204,
          0.4857299991043923,
          0.48543413022822995,
          0.4851594830333952,
          0.4848717072353832,
          0.4847030741263779,
          0.48458181034535436,
          0.484541514630504,
          0.484513642473423,
          0.4848723400742573,
          0.4852162524435539,
          0.48574841530637003,
          0.4879650989569027,
          0.4889393709115311,
          0.490167451057544,
          0.49059111242372666,
          0.49074368626867026,
          0.49125112938044974,
          0.4915065975514728,
          0.49195842831361575,
          0.49266228861095507,
          0.49277432330573995,
          0.49290929606495026,
          0.5041940589547901,
          0.5042444174072627,
          0.5042948158011852,
          0.5046201069433268,
          0.5046693765997161,
          0.504718344258569,
          0.5047427057247111,
          0.5048869449865767,
          0.504957677202536,
          0.5050503400716012,
          0.5051409136900036,
          0.5052508322181238,
          0.5053148334240591,
          0.505437898873847,
          0.5055903472845804,
          0.5056261625943227,
          0.5056609987830403,
          0.5057436228356781,
          0.505774816478846,
          0.5059383786955328,
          0.5059940803420961,
          0.5060331949021162,
          0.5060422090677497,
          0.5060966346286225,
          0.5061539536438086,
          0.506159019759964,
          0.506165269035416,
          0.5061603174066676,
          0.5061556353663912,
          0.5061496506778201,
          0.5061382326710954,
          0.5060934962021267,
          0.5060790735010178,
          0.5060463594958344,
          0.5060085156925197,
          0.5059655822692403,
          0.5059540589737239,
          0.5059300701418348,
          0.5058646494525747,
          0.5058217042236799,
          0.5057915542431403
         ],
         "yaxis": "y"
        }
       ],
       "layout": {
        "legend": {
         "tracegroupgap": 0
        },
        "showlegend": false,
        "template": {
         "data": {
          "bar": [
           {
            "error_x": {
             "color": "#2a3f5f"
            },
            "error_y": {
             "color": "#2a3f5f"
            },
            "marker": {
             "line": {
              "color": "#E5ECF6",
              "width": 0.5
             },
             "pattern": {
              "fillmode": "overlay",
              "size": 10,
              "solidity": 0.2
             }
            },
            "type": "bar"
           }
          ],
          "barpolar": [
           {
            "marker": {
             "line": {
              "color": "#E5ECF6",
              "width": 0.5
             },
             "pattern": {
              "fillmode": "overlay",
              "size": 10,
              "solidity": 0.2
             }
            },
            "type": "barpolar"
           }
          ],
          "carpet": [
           {
            "aaxis": {
             "endlinecolor": "#2a3f5f",
             "gridcolor": "white",
             "linecolor": "white",
             "minorgridcolor": "white",
             "startlinecolor": "#2a3f5f"
            },
            "baxis": {
             "endlinecolor": "#2a3f5f",
             "gridcolor": "white",
             "linecolor": "white",
             "minorgridcolor": "white",
             "startlinecolor": "#2a3f5f"
            },
            "type": "carpet"
           }
          ],
          "choropleth": [
           {
            "colorbar": {
             "outlinewidth": 0,
             "ticks": ""
            },
            "type": "choropleth"
           }
          ],
          "contour": [
           {
            "colorbar": {
             "outlinewidth": 0,
             "ticks": ""
            },
            "colorscale": [
             [
              0,
              "#0d0887"
             ],
             [
              0.1111111111111111,
              "#46039f"
             ],
             [
              0.2222222222222222,
              "#7201a8"
             ],
             [
              0.3333333333333333,
              "#9c179e"
             ],
             [
              0.4444444444444444,
              "#bd3786"
             ],
             [
              0.5555555555555556,
              "#d8576b"
             ],
             [
              0.6666666666666666,
              "#ed7953"
             ],
             [
              0.7777777777777778,
              "#fb9f3a"
             ],
             [
              0.8888888888888888,
              "#fdca26"
             ],
             [
              1,
              "#f0f921"
             ]
            ],
            "type": "contour"
           }
          ],
          "contourcarpet": [
           {
            "colorbar": {
             "outlinewidth": 0,
             "ticks": ""
            },
            "type": "contourcarpet"
           }
          ],
          "heatmap": [
           {
            "colorbar": {
             "outlinewidth": 0,
             "ticks": ""
            },
            "colorscale": [
             [
              0,
              "#0d0887"
             ],
             [
              0.1111111111111111,
              "#46039f"
             ],
             [
              0.2222222222222222,
              "#7201a8"
             ],
             [
              0.3333333333333333,
              "#9c179e"
             ],
             [
              0.4444444444444444,
              "#bd3786"
             ],
             [
              0.5555555555555556,
              "#d8576b"
             ],
             [
              0.6666666666666666,
              "#ed7953"
             ],
             [
              0.7777777777777778,
              "#fb9f3a"
             ],
             [
              0.8888888888888888,
              "#fdca26"
             ],
             [
              1,
              "#f0f921"
             ]
            ],
            "type": "heatmap"
           }
          ],
          "heatmapgl": [
           {
            "colorbar": {
             "outlinewidth": 0,
             "ticks": ""
            },
            "colorscale": [
             [
              0,
              "#0d0887"
             ],
             [
              0.1111111111111111,
              "#46039f"
             ],
             [
              0.2222222222222222,
              "#7201a8"
             ],
             [
              0.3333333333333333,
              "#9c179e"
             ],
             [
              0.4444444444444444,
              "#bd3786"
             ],
             [
              0.5555555555555556,
              "#d8576b"
             ],
             [
              0.6666666666666666,
              "#ed7953"
             ],
             [
              0.7777777777777778,
              "#fb9f3a"
             ],
             [
              0.8888888888888888,
              "#fdca26"
             ],
             [
              1,
              "#f0f921"
             ]
            ],
            "type": "heatmapgl"
           }
          ],
          "histogram": [
           {
            "marker": {
             "pattern": {
              "fillmode": "overlay",
              "size": 10,
              "solidity": 0.2
             }
            },
            "type": "histogram"
           }
          ],
          "histogram2d": [
           {
            "colorbar": {
             "outlinewidth": 0,
             "ticks": ""
            },
            "colorscale": [
             [
              0,
              "#0d0887"
             ],
             [
              0.1111111111111111,
              "#46039f"
             ],
             [
              0.2222222222222222,
              "#7201a8"
             ],
             [
              0.3333333333333333,
              "#9c179e"
             ],
             [
              0.4444444444444444,
              "#bd3786"
             ],
             [
              0.5555555555555556,
              "#d8576b"
             ],
             [
              0.6666666666666666,
              "#ed7953"
             ],
             [
              0.7777777777777778,
              "#fb9f3a"
             ],
             [
              0.8888888888888888,
              "#fdca26"
             ],
             [
              1,
              "#f0f921"
             ]
            ],
            "type": "histogram2d"
           }
          ],
          "histogram2dcontour": [
           {
            "colorbar": {
             "outlinewidth": 0,
             "ticks": ""
            },
            "colorscale": [
             [
              0,
              "#0d0887"
             ],
             [
              0.1111111111111111,
              "#46039f"
             ],
             [
              0.2222222222222222,
              "#7201a8"
             ],
             [
              0.3333333333333333,
              "#9c179e"
             ],
             [
              0.4444444444444444,
              "#bd3786"
             ],
             [
              0.5555555555555556,
              "#d8576b"
             ],
             [
              0.6666666666666666,
              "#ed7953"
             ],
             [
              0.7777777777777778,
              "#fb9f3a"
             ],
             [
              0.8888888888888888,
              "#fdca26"
             ],
             [
              1,
              "#f0f921"
             ]
            ],
            "type": "histogram2dcontour"
           }
          ],
          "mesh3d": [
           {
            "colorbar": {
             "outlinewidth": 0,
             "ticks": ""
            },
            "type": "mesh3d"
           }
          ],
          "parcoords": [
           {
            "line": {
             "colorbar": {
              "outlinewidth": 0,
              "ticks": ""
             }
            },
            "type": "parcoords"
           }
          ],
          "pie": [
           {
            "automargin": true,
            "type": "pie"
           }
          ],
          "scatter": [
           {
            "fillpattern": {
             "fillmode": "overlay",
             "size": 10,
             "solidity": 0.2
            },
            "type": "scatter"
           }
          ],
          "scatter3d": [
           {
            "line": {
             "colorbar": {
              "outlinewidth": 0,
              "ticks": ""
             }
            },
            "marker": {
             "colorbar": {
              "outlinewidth": 0,
              "ticks": ""
             }
            },
            "type": "scatter3d"
           }
          ],
          "scattercarpet": [
           {
            "marker": {
             "colorbar": {
              "outlinewidth": 0,
              "ticks": ""
             }
            },
            "type": "scattercarpet"
           }
          ],
          "scattergeo": [
           {
            "marker": {
             "colorbar": {
              "outlinewidth": 0,
              "ticks": ""
             }
            },
            "type": "scattergeo"
           }
          ],
          "scattergl": [
           {
            "marker": {
             "colorbar": {
              "outlinewidth": 0,
              "ticks": ""
             }
            },
            "type": "scattergl"
           }
          ],
          "scattermapbox": [
           {
            "marker": {
             "colorbar": {
              "outlinewidth": 0,
              "ticks": ""
             }
            },
            "type": "scattermapbox"
           }
          ],
          "scatterpolar": [
           {
            "marker": {
             "colorbar": {
              "outlinewidth": 0,
              "ticks": ""
             }
            },
            "type": "scatterpolar"
           }
          ],
          "scatterpolargl": [
           {
            "marker": {
             "colorbar": {
              "outlinewidth": 0,
              "ticks": ""
             }
            },
            "type": "scatterpolargl"
           }
          ],
          "scatterternary": [
           {
            "marker": {
             "colorbar": {
              "outlinewidth": 0,
              "ticks": ""
             }
            },
            "type": "scatterternary"
           }
          ],
          "surface": [
           {
            "colorbar": {
             "outlinewidth": 0,
             "ticks": ""
            },
            "colorscale": [
             [
              0,
              "#0d0887"
             ],
             [
              0.1111111111111111,
              "#46039f"
             ],
             [
              0.2222222222222222,
              "#7201a8"
             ],
             [
              0.3333333333333333,
              "#9c179e"
             ],
             [
              0.4444444444444444,
              "#bd3786"
             ],
             [
              0.5555555555555556,
              "#d8576b"
             ],
             [
              0.6666666666666666,
              "#ed7953"
             ],
             [
              0.7777777777777778,
              "#fb9f3a"
             ],
             [
              0.8888888888888888,
              "#fdca26"
             ],
             [
              1,
              "#f0f921"
             ]
            ],
            "type": "surface"
           }
          ],
          "table": [
           {
            "cells": {
             "fill": {
              "color": "#EBF0F8"
             },
             "line": {
              "color": "white"
             }
            },
            "header": {
             "fill": {
              "color": "#C8D4E3"
             },
             "line": {
              "color": "white"
             }
            },
            "type": "table"
           }
          ]
         },
         "layout": {
          "annotationdefaults": {
           "arrowcolor": "#2a3f5f",
           "arrowhead": 0,
           "arrowwidth": 1
          },
          "autotypenumbers": "strict",
          "coloraxis": {
           "colorbar": {
            "outlinewidth": 0,
            "ticks": ""
           }
          },
          "colorscale": {
           "diverging": [
            [
             0,
             "#8e0152"
            ],
            [
             0.1,
             "#c51b7d"
            ],
            [
             0.2,
             "#de77ae"
            ],
            [
             0.3,
             "#f1b6da"
            ],
            [
             0.4,
             "#fde0ef"
            ],
            [
             0.5,
             "#f7f7f7"
            ],
            [
             0.6,
             "#e6f5d0"
            ],
            [
             0.7,
             "#b8e186"
            ],
            [
             0.8,
             "#7fbc41"
            ],
            [
             0.9,
             "#4d9221"
            ],
            [
             1,
             "#276419"
            ]
           ],
           "sequential": [
            [
             0,
             "#0d0887"
            ],
            [
             0.1111111111111111,
             "#46039f"
            ],
            [
             0.2222222222222222,
             "#7201a8"
            ],
            [
             0.3333333333333333,
             "#9c179e"
            ],
            [
             0.4444444444444444,
             "#bd3786"
            ],
            [
             0.5555555555555556,
             "#d8576b"
            ],
            [
             0.6666666666666666,
             "#ed7953"
            ],
            [
             0.7777777777777778,
             "#fb9f3a"
            ],
            [
             0.8888888888888888,
             "#fdca26"
            ],
            [
             1,
             "#f0f921"
            ]
           ],
           "sequentialminus": [
            [
             0,
             "#0d0887"
            ],
            [
             0.1111111111111111,
             "#46039f"
            ],
            [
             0.2222222222222222,
             "#7201a8"
            ],
            [
             0.3333333333333333,
             "#9c179e"
            ],
            [
             0.4444444444444444,
             "#bd3786"
            ],
            [
             0.5555555555555556,
             "#d8576b"
            ],
            [
             0.6666666666666666,
             "#ed7953"
            ],
            [
             0.7777777777777778,
             "#fb9f3a"
            ],
            [
             0.8888888888888888,
             "#fdca26"
            ],
            [
             1,
             "#f0f921"
            ]
           ]
          },
          "colorway": [
           "#636efa",
           "#EF553B",
           "#00cc96",
           "#ab63fa",
           "#FFA15A",
           "#19d3f3",
           "#FF6692",
           "#B6E880",
           "#FF97FF",
           "#FECB52"
          ],
          "font": {
           "color": "#2a3f5f"
          },
          "geo": {
           "bgcolor": "white",
           "lakecolor": "white",
           "landcolor": "#E5ECF6",
           "showlakes": true,
           "showland": true,
           "subunitcolor": "white"
          },
          "hoverlabel": {
           "align": "left"
          },
          "hovermode": "closest",
          "mapbox": {
           "style": "light"
          },
          "paper_bgcolor": "white",
          "plot_bgcolor": "#E5ECF6",
          "polar": {
           "angularaxis": {
            "gridcolor": "white",
            "linecolor": "white",
            "ticks": ""
           },
           "bgcolor": "#E5ECF6",
           "radialaxis": {
            "gridcolor": "white",
            "linecolor": "white",
            "ticks": ""
           }
          },
          "scene": {
           "xaxis": {
            "backgroundcolor": "#E5ECF6",
            "gridcolor": "white",
            "gridwidth": 2,
            "linecolor": "white",
            "showbackground": true,
            "ticks": "",
            "zerolinecolor": "white"
           },
           "yaxis": {
            "backgroundcolor": "#E5ECF6",
            "gridcolor": "white",
            "gridwidth": 2,
            "linecolor": "white",
            "showbackground": true,
            "ticks": "",
            "zerolinecolor": "white"
           },
           "zaxis": {
            "backgroundcolor": "#E5ECF6",
            "gridcolor": "white",
            "gridwidth": 2,
            "linecolor": "white",
            "showbackground": true,
            "ticks": "",
            "zerolinecolor": "white"
           }
          },
          "shapedefaults": {
           "line": {
            "color": "#2a3f5f"
           }
          },
          "ternary": {
           "aaxis": {
            "gridcolor": "white",
            "linecolor": "white",
            "ticks": ""
           },
           "baxis": {
            "gridcolor": "white",
            "linecolor": "white",
            "ticks": ""
           },
           "bgcolor": "#E5ECF6",
           "caxis": {
            "gridcolor": "white",
            "linecolor": "white",
            "ticks": ""
           }
          },
          "title": {
           "x": 0.05
          },
          "xaxis": {
           "automargin": true,
           "gridcolor": "white",
           "linecolor": "white",
           "ticks": "",
           "title": {
            "standoff": 15
           },
           "zerolinecolor": "white",
           "zerolinewidth": 2
          },
          "yaxis": {
           "automargin": true,
           "gridcolor": "white",
           "linecolor": "white",
           "ticks": "",
           "title": {
            "standoff": 15
           },
           "zerolinecolor": "white",
           "zerolinewidth": 2
          }
         }
        },
        "title": {
         "text": "Atlanta Hawks Total Win Percentage Over Time"
        },
        "xaxis": {
         "anchor": "y",
         "domain": [
          0,
          1
         ],
         "title": {
          "text": "Game Date"
         }
        },
        "yaxis": {
         "anchor": "x",
         "domain": [
          0,
          1
         ],
         "title": {
          "text": "Total Win %"
         }
        }
       }
      }
     },
     "metadata": {},
     "output_type": "display_data"
    }
   ],
   "source": [
    "# Filter data for the Atlanta Hawks\n",
    "hawks_data = data[data['NICKNAME'] == 'Hawks']\n",
    "\n",
    "# Convert 'GAME_DATE' to datetime for better plotting\n",
    "hawks_data['GAME_DATE'] = pd.to_datetime(hawks_data['GAME_DATE'])\n",
    "\n",
    "# Sort the DataFrame by 'GAME_DATE' to ensure correct chronological plotting\n",
    "hawks_data_sorted = hawks_data.sort_values(by='GAME_DATE')\n",
    "\n",
    "# Plotting total win percentage over time, using the sorted DataFrame\n",
    "fig = px.scatter(hawks_data_sorted, x='GAME_DATE', y='TOTAL_WIN_PCTG', title='Atlanta Hawks Total Win Percentage Over Time',\n",
    "              labels={'TOTAL_WIN_PCTG': 'Total Win Percentage', 'GAME_DATE': 'Game Date'}, trendline='lowess')\n",
    "\n",
    "fig.update_layout(xaxis_title='Game Date', yaxis_title='Total Win %', showlegend=False)\n",
    "fig.show()\n"
   ]
  },
  {
   "cell_type": "code",
   "execution_count": 5,
   "metadata": {},
   "outputs": [
    {
     "data": {
      "application/vnd.plotly.v1+json": {
       "config": {
        "plotlyServerURL": "https://plot.ly"
       },
       "data": [
        {
         "hovertemplate": "Field Goals Attempted=%{x}<br>Field Goals Made=%{y}<extra></extra>",
         "legendgroup": "",
         "marker": {
          "color": "#636efa",
          "symbol": "circle"
         },
         "mode": "markers",
         "name": "",
         "orientation": "v",
         "showlegend": false,
         "type": "scatter",
         "x": [
          82,
          85,
          87,
          96,
          99,
          79,
          100,
          80,
          94,
          78,
          90,
          98,
          74,
          90,
          90,
          81,
          85,
          84,
          71,
          87,
          81,
          88,
          101,
          84,
          86,
          92,
          94,
          80,
          88,
          74,
          84,
          84,
          96,
          86,
          94,
          90,
          94,
          90,
          83,
          82,
          97,
          85,
          81,
          82,
          87,
          93,
          76,
          93,
          94,
          85,
          88,
          80,
          89,
          82,
          80,
          86,
          86,
          68,
          90,
          89,
          84,
          81,
          84,
          90,
          103,
          80,
          83,
          84,
          90,
          84,
          109,
          91,
          87,
          89,
          91,
          86,
          92,
          90,
          89,
          95,
          103,
          99,
          109,
          88,
          101,
          92,
          92,
          88,
          88,
          102,
          98,
          94,
          91,
          92,
          97,
          101,
          87,
          76,
          100,
          83,
          95,
          95,
          103,
          97,
          85,
          90,
          93,
          91,
          100,
          97,
          100,
          95,
          96,
          98,
          89,
          108,
          84,
          92
         ],
         "xaxis": "x",
         "y": [
          40,
          35,
          40,
          36,
          37,
          37,
          44,
          37,
          45,
          37,
          45,
          32,
          42,
          39,
          43,
          42,
          45,
          43,
          32,
          47,
          35,
          44,
          45,
          47,
          39,
          45,
          39,
          43,
          40,
          37,
          44,
          53,
          46,
          44,
          41,
          49,
          45,
          46,
          38,
          35,
          47,
          47,
          41,
          43,
          42,
          33,
          31,
          48,
          37,
          42,
          41,
          32,
          40,
          31,
          40,
          38,
          45,
          38,
          48,
          41,
          49,
          37,
          44,
          52,
          47,
          43,
          48,
          44,
          43,
          46,
          40,
          45,
          41,
          46,
          45,
          36,
          43,
          45,
          40,
          39,
          47,
          46,
          51,
          39,
          42,
          46,
          41,
          35,
          49,
          44,
          47,
          48,
          39,
          49,
          42,
          48,
          39,
          45,
          56,
          45,
          45,
          43,
          50,
          40,
          50,
          45,
          43,
          52,
          50,
          44,
          47,
          44,
          53,
          45,
          41,
          51,
          43,
          51
         ],
         "yaxis": "y"
        },
        {
         "hovertemplate": "<b>OLS trendline</b><br>FG = 0.264163 * FGA + 19.2851<br>R<sup>2</sup>=0.164969<br><br>Field Goals Attempted=%{x}<br>Field Goals Made=%{y} <b>(trend)</b><extra></extra>",
         "legendgroup": "",
         "marker": {
          "color": "#636efa",
          "symbol": "circle"
         },
         "mode": "lines",
         "name": "",
         "showlegend": false,
         "type": "scatter",
         "x": [
          68,
          71,
          74,
          74,
          76,
          76,
          78,
          79,
          80,
          80,
          80,
          80,
          80,
          81,
          81,
          81,
          81,
          82,
          82,
          82,
          82,
          83,
          83,
          83,
          84,
          84,
          84,
          84,
          84,
          84,
          84,
          84,
          84,
          85,
          85,
          85,
          85,
          85,
          86,
          86,
          86,
          86,
          86,
          87,
          87,
          87,
          87,
          87,
          88,
          88,
          88,
          88,
          88,
          88,
          89,
          89,
          89,
          89,
          89,
          90,
          90,
          90,
          90,
          90,
          90,
          90,
          90,
          90,
          90,
          91,
          91,
          91,
          91,
          92,
          92,
          92,
          92,
          92,
          92,
          93,
          93,
          93,
          94,
          94,
          94,
          94,
          94,
          94,
          95,
          95,
          95,
          95,
          96,
          96,
          96,
          97,
          97,
          97,
          97,
          98,
          98,
          98,
          99,
          99,
          100,
          100,
          100,
          100,
          101,
          101,
          101,
          102,
          103,
          103,
          103,
          108,
          109,
          109
         ],
         "xaxis": "x",
         "y": [
          37.24821762385228,
          38.04070717137346,
          38.83319671889465,
          38.83319671889465,
          39.36152308390877,
          39.36152308390877,
          39.88984944892289,
          40.15401263142995,
          40.41817581393701,
          40.41817581393701,
          40.41817581393701,
          40.41817581393701,
          40.41817581393701,
          40.682338996444074,
          40.682338996444074,
          40.682338996444074,
          40.682338996444074,
          40.946502178951135,
          40.946502178951135,
          40.946502178951135,
          40.946502178951135,
          41.2106653614582,
          41.2106653614582,
          41.2106653614582,
          41.47482854396526,
          41.47482854396526,
          41.47482854396526,
          41.47482854396526,
          41.47482854396526,
          41.47482854396526,
          41.47482854396526,
          41.47482854396526,
          41.47482854396526,
          41.73899172647232,
          41.73899172647232,
          41.73899172647232,
          41.73899172647232,
          41.73899172647232,
          42.00315490897938,
          42.00315490897938,
          42.00315490897938,
          42.00315490897938,
          42.00315490897938,
          42.267318091486445,
          42.267318091486445,
          42.267318091486445,
          42.267318091486445,
          42.267318091486445,
          42.531481273993506,
          42.531481273993506,
          42.531481273993506,
          42.531481273993506,
          42.531481273993506,
          42.531481273993506,
          42.79564445650057,
          42.79564445650057,
          42.79564445650057,
          42.79564445650057,
          42.79564445650057,
          43.05980763900763,
          43.05980763900763,
          43.05980763900763,
          43.05980763900763,
          43.05980763900763,
          43.05980763900763,
          43.05980763900763,
          43.05980763900763,
          43.05980763900763,
          43.05980763900763,
          43.32397082151469,
          43.32397082151469,
          43.32397082151469,
          43.32397082151469,
          43.588134004021754,
          43.588134004021754,
          43.588134004021754,
          43.588134004021754,
          43.588134004021754,
          43.588134004021754,
          43.852297186528816,
          43.852297186528816,
          43.852297186528816,
          44.11646036903588,
          44.11646036903588,
          44.11646036903588,
          44.11646036903588,
          44.11646036903588,
          44.11646036903588,
          44.38062355154294,
          44.38062355154294,
          44.38062355154294,
          44.38062355154294,
          44.64478673405,
          44.64478673405,
          44.64478673405,
          44.90894991655706,
          44.90894991655706,
          44.90894991655706,
          44.90894991655706,
          45.173113099064125,
          45.173113099064125,
          45.173113099064125,
          45.43727628157119,
          45.43727628157119,
          45.70143946407825,
          45.70143946407825,
          45.70143946407825,
          45.70143946407825,
          45.96560264658531,
          45.96560264658531,
          45.96560264658531,
          46.22976582909237,
          46.49392901159943,
          46.49392901159943,
          46.49392901159943,
          47.814744924134736,
          48.0789081066418,
          48.0789081066418
         ],
         "yaxis": "y"
        }
       ],
       "layout": {
        "legend": {
         "tracegroupgap": 0
        },
        "showlegend": false,
        "template": {
         "data": {
          "bar": [
           {
            "error_x": {
             "color": "#2a3f5f"
            },
            "error_y": {
             "color": "#2a3f5f"
            },
            "marker": {
             "line": {
              "color": "#E5ECF6",
              "width": 0.5
             },
             "pattern": {
              "fillmode": "overlay",
              "size": 10,
              "solidity": 0.2
             }
            },
            "type": "bar"
           }
          ],
          "barpolar": [
           {
            "marker": {
             "line": {
              "color": "#E5ECF6",
              "width": 0.5
             },
             "pattern": {
              "fillmode": "overlay",
              "size": 10,
              "solidity": 0.2
             }
            },
            "type": "barpolar"
           }
          ],
          "carpet": [
           {
            "aaxis": {
             "endlinecolor": "#2a3f5f",
             "gridcolor": "white",
             "linecolor": "white",
             "minorgridcolor": "white",
             "startlinecolor": "#2a3f5f"
            },
            "baxis": {
             "endlinecolor": "#2a3f5f",
             "gridcolor": "white",
             "linecolor": "white",
             "minorgridcolor": "white",
             "startlinecolor": "#2a3f5f"
            },
            "type": "carpet"
           }
          ],
          "choropleth": [
           {
            "colorbar": {
             "outlinewidth": 0,
             "ticks": ""
            },
            "type": "choropleth"
           }
          ],
          "contour": [
           {
            "colorbar": {
             "outlinewidth": 0,
             "ticks": ""
            },
            "colorscale": [
             [
              0,
              "#0d0887"
             ],
             [
              0.1111111111111111,
              "#46039f"
             ],
             [
              0.2222222222222222,
              "#7201a8"
             ],
             [
              0.3333333333333333,
              "#9c179e"
             ],
             [
              0.4444444444444444,
              "#bd3786"
             ],
             [
              0.5555555555555556,
              "#d8576b"
             ],
             [
              0.6666666666666666,
              "#ed7953"
             ],
             [
              0.7777777777777778,
              "#fb9f3a"
             ],
             [
              0.8888888888888888,
              "#fdca26"
             ],
             [
              1,
              "#f0f921"
             ]
            ],
            "type": "contour"
           }
          ],
          "contourcarpet": [
           {
            "colorbar": {
             "outlinewidth": 0,
             "ticks": ""
            },
            "type": "contourcarpet"
           }
          ],
          "heatmap": [
           {
            "colorbar": {
             "outlinewidth": 0,
             "ticks": ""
            },
            "colorscale": [
             [
              0,
              "#0d0887"
             ],
             [
              0.1111111111111111,
              "#46039f"
             ],
             [
              0.2222222222222222,
              "#7201a8"
             ],
             [
              0.3333333333333333,
              "#9c179e"
             ],
             [
              0.4444444444444444,
              "#bd3786"
             ],
             [
              0.5555555555555556,
              "#d8576b"
             ],
             [
              0.6666666666666666,
              "#ed7953"
             ],
             [
              0.7777777777777778,
              "#fb9f3a"
             ],
             [
              0.8888888888888888,
              "#fdca26"
             ],
             [
              1,
              "#f0f921"
             ]
            ],
            "type": "heatmap"
           }
          ],
          "heatmapgl": [
           {
            "colorbar": {
             "outlinewidth": 0,
             "ticks": ""
            },
            "colorscale": [
             [
              0,
              "#0d0887"
             ],
             [
              0.1111111111111111,
              "#46039f"
             ],
             [
              0.2222222222222222,
              "#7201a8"
             ],
             [
              0.3333333333333333,
              "#9c179e"
             ],
             [
              0.4444444444444444,
              "#bd3786"
             ],
             [
              0.5555555555555556,
              "#d8576b"
             ],
             [
              0.6666666666666666,
              "#ed7953"
             ],
             [
              0.7777777777777778,
              "#fb9f3a"
             ],
             [
              0.8888888888888888,
              "#fdca26"
             ],
             [
              1,
              "#f0f921"
             ]
            ],
            "type": "heatmapgl"
           }
          ],
          "histogram": [
           {
            "marker": {
             "pattern": {
              "fillmode": "overlay",
              "size": 10,
              "solidity": 0.2
             }
            },
            "type": "histogram"
           }
          ],
          "histogram2d": [
           {
            "colorbar": {
             "outlinewidth": 0,
             "ticks": ""
            },
            "colorscale": [
             [
              0,
              "#0d0887"
             ],
             [
              0.1111111111111111,
              "#46039f"
             ],
             [
              0.2222222222222222,
              "#7201a8"
             ],
             [
              0.3333333333333333,
              "#9c179e"
             ],
             [
              0.4444444444444444,
              "#bd3786"
             ],
             [
              0.5555555555555556,
              "#d8576b"
             ],
             [
              0.6666666666666666,
              "#ed7953"
             ],
             [
              0.7777777777777778,
              "#fb9f3a"
             ],
             [
              0.8888888888888888,
              "#fdca26"
             ],
             [
              1,
              "#f0f921"
             ]
            ],
            "type": "histogram2d"
           }
          ],
          "histogram2dcontour": [
           {
            "colorbar": {
             "outlinewidth": 0,
             "ticks": ""
            },
            "colorscale": [
             [
              0,
              "#0d0887"
             ],
             [
              0.1111111111111111,
              "#46039f"
             ],
             [
              0.2222222222222222,
              "#7201a8"
             ],
             [
              0.3333333333333333,
              "#9c179e"
             ],
             [
              0.4444444444444444,
              "#bd3786"
             ],
             [
              0.5555555555555556,
              "#d8576b"
             ],
             [
              0.6666666666666666,
              "#ed7953"
             ],
             [
              0.7777777777777778,
              "#fb9f3a"
             ],
             [
              0.8888888888888888,
              "#fdca26"
             ],
             [
              1,
              "#f0f921"
             ]
            ],
            "type": "histogram2dcontour"
           }
          ],
          "mesh3d": [
           {
            "colorbar": {
             "outlinewidth": 0,
             "ticks": ""
            },
            "type": "mesh3d"
           }
          ],
          "parcoords": [
           {
            "line": {
             "colorbar": {
              "outlinewidth": 0,
              "ticks": ""
             }
            },
            "type": "parcoords"
           }
          ],
          "pie": [
           {
            "automargin": true,
            "type": "pie"
           }
          ],
          "scatter": [
           {
            "fillpattern": {
             "fillmode": "overlay",
             "size": 10,
             "solidity": 0.2
            },
            "type": "scatter"
           }
          ],
          "scatter3d": [
           {
            "line": {
             "colorbar": {
              "outlinewidth": 0,
              "ticks": ""
             }
            },
            "marker": {
             "colorbar": {
              "outlinewidth": 0,
              "ticks": ""
             }
            },
            "type": "scatter3d"
           }
          ],
          "scattercarpet": [
           {
            "marker": {
             "colorbar": {
              "outlinewidth": 0,
              "ticks": ""
             }
            },
            "type": "scattercarpet"
           }
          ],
          "scattergeo": [
           {
            "marker": {
             "colorbar": {
              "outlinewidth": 0,
              "ticks": ""
             }
            },
            "type": "scattergeo"
           }
          ],
          "scattergl": [
           {
            "marker": {
             "colorbar": {
              "outlinewidth": 0,
              "ticks": ""
             }
            },
            "type": "scattergl"
           }
          ],
          "scattermapbox": [
           {
            "marker": {
             "colorbar": {
              "outlinewidth": 0,
              "ticks": ""
             }
            },
            "type": "scattermapbox"
           }
          ],
          "scatterpolar": [
           {
            "marker": {
             "colorbar": {
              "outlinewidth": 0,
              "ticks": ""
             }
            },
            "type": "scatterpolar"
           }
          ],
          "scatterpolargl": [
           {
            "marker": {
             "colorbar": {
              "outlinewidth": 0,
              "ticks": ""
             }
            },
            "type": "scatterpolargl"
           }
          ],
          "scatterternary": [
           {
            "marker": {
             "colorbar": {
              "outlinewidth": 0,
              "ticks": ""
             }
            },
            "type": "scatterternary"
           }
          ],
          "surface": [
           {
            "colorbar": {
             "outlinewidth": 0,
             "ticks": ""
            },
            "colorscale": [
             [
              0,
              "#0d0887"
             ],
             [
              0.1111111111111111,
              "#46039f"
             ],
             [
              0.2222222222222222,
              "#7201a8"
             ],
             [
              0.3333333333333333,
              "#9c179e"
             ],
             [
              0.4444444444444444,
              "#bd3786"
             ],
             [
              0.5555555555555556,
              "#d8576b"
             ],
             [
              0.6666666666666666,
              "#ed7953"
             ],
             [
              0.7777777777777778,
              "#fb9f3a"
             ],
             [
              0.8888888888888888,
              "#fdca26"
             ],
             [
              1,
              "#f0f921"
             ]
            ],
            "type": "surface"
           }
          ],
          "table": [
           {
            "cells": {
             "fill": {
              "color": "#EBF0F8"
             },
             "line": {
              "color": "white"
             }
            },
            "header": {
             "fill": {
              "color": "#C8D4E3"
             },
             "line": {
              "color": "white"
             }
            },
            "type": "table"
           }
          ]
         },
         "layout": {
          "annotationdefaults": {
           "arrowcolor": "#2a3f5f",
           "arrowhead": 0,
           "arrowwidth": 1
          },
          "autotypenumbers": "strict",
          "coloraxis": {
           "colorbar": {
            "outlinewidth": 0,
            "ticks": ""
           }
          },
          "colorscale": {
           "diverging": [
            [
             0,
             "#8e0152"
            ],
            [
             0.1,
             "#c51b7d"
            ],
            [
             0.2,
             "#de77ae"
            ],
            [
             0.3,
             "#f1b6da"
            ],
            [
             0.4,
             "#fde0ef"
            ],
            [
             0.5,
             "#f7f7f7"
            ],
            [
             0.6,
             "#e6f5d0"
            ],
            [
             0.7,
             "#b8e186"
            ],
            [
             0.8,
             "#7fbc41"
            ],
            [
             0.9,
             "#4d9221"
            ],
            [
             1,
             "#276419"
            ]
           ],
           "sequential": [
            [
             0,
             "#0d0887"
            ],
            [
             0.1111111111111111,
             "#46039f"
            ],
            [
             0.2222222222222222,
             "#7201a8"
            ],
            [
             0.3333333333333333,
             "#9c179e"
            ],
            [
             0.4444444444444444,
             "#bd3786"
            ],
            [
             0.5555555555555556,
             "#d8576b"
            ],
            [
             0.6666666666666666,
             "#ed7953"
            ],
            [
             0.7777777777777778,
             "#fb9f3a"
            ],
            [
             0.8888888888888888,
             "#fdca26"
            ],
            [
             1,
             "#f0f921"
            ]
           ],
           "sequentialminus": [
            [
             0,
             "#0d0887"
            ],
            [
             0.1111111111111111,
             "#46039f"
            ],
            [
             0.2222222222222222,
             "#7201a8"
            ],
            [
             0.3333333333333333,
             "#9c179e"
            ],
            [
             0.4444444444444444,
             "#bd3786"
            ],
            [
             0.5555555555555556,
             "#d8576b"
            ],
            [
             0.6666666666666666,
             "#ed7953"
            ],
            [
             0.7777777777777778,
             "#fb9f3a"
            ],
            [
             0.8888888888888888,
             "#fdca26"
            ],
            [
             1,
             "#f0f921"
            ]
           ]
          },
          "colorway": [
           "#636efa",
           "#EF553B",
           "#00cc96",
           "#ab63fa",
           "#FFA15A",
           "#19d3f3",
           "#FF6692",
           "#B6E880",
           "#FF97FF",
           "#FECB52"
          ],
          "font": {
           "color": "#2a3f5f"
          },
          "geo": {
           "bgcolor": "white",
           "lakecolor": "white",
           "landcolor": "#E5ECF6",
           "showlakes": true,
           "showland": true,
           "subunitcolor": "white"
          },
          "hoverlabel": {
           "align": "left"
          },
          "hovermode": "closest",
          "mapbox": {
           "style": "light"
          },
          "paper_bgcolor": "white",
          "plot_bgcolor": "#E5ECF6",
          "polar": {
           "angularaxis": {
            "gridcolor": "white",
            "linecolor": "white",
            "ticks": ""
           },
           "bgcolor": "#E5ECF6",
           "radialaxis": {
            "gridcolor": "white",
            "linecolor": "white",
            "ticks": ""
           }
          },
          "scene": {
           "xaxis": {
            "backgroundcolor": "#E5ECF6",
            "gridcolor": "white",
            "gridwidth": 2,
            "linecolor": "white",
            "showbackground": true,
            "ticks": "",
            "zerolinecolor": "white"
           },
           "yaxis": {
            "backgroundcolor": "#E5ECF6",
            "gridcolor": "white",
            "gridwidth": 2,
            "linecolor": "white",
            "showbackground": true,
            "ticks": "",
            "zerolinecolor": "white"
           },
           "zaxis": {
            "backgroundcolor": "#E5ECF6",
            "gridcolor": "white",
            "gridwidth": 2,
            "linecolor": "white",
            "showbackground": true,
            "ticks": "",
            "zerolinecolor": "white"
           }
          },
          "shapedefaults": {
           "line": {
            "color": "#2a3f5f"
           }
          },
          "ternary": {
           "aaxis": {
            "gridcolor": "white",
            "linecolor": "white",
            "ticks": ""
           },
           "baxis": {
            "gridcolor": "white",
            "linecolor": "white",
            "ticks": ""
           },
           "bgcolor": "#E5ECF6",
           "caxis": {
            "gridcolor": "white",
            "linecolor": "white",
            "ticks": ""
           }
          },
          "title": {
           "x": 0.05
          },
          "xaxis": {
           "automargin": true,
           "gridcolor": "white",
           "linecolor": "white",
           "ticks": "",
           "title": {
            "standoff": 15
           },
           "zerolinecolor": "white",
           "zerolinewidth": 2
          },
          "yaxis": {
           "automargin": true,
           "gridcolor": "white",
           "linecolor": "white",
           "ticks": "",
           "title": {
            "standoff": 15
           },
           "zerolinecolor": "white",
           "zerolinewidth": 2
          }
         }
        },
        "title": {
         "text": "Field Goals Made vs. Attempted (Shooting Efficiency)"
        },
        "xaxis": {
         "anchor": "y",
         "domain": [
          0,
          1
         ],
         "title": {
          "text": "Field Goals Attempted"
         }
        },
        "yaxis": {
         "anchor": "x",
         "domain": [
          0,
          1
         ],
         "title": {
          "text": "Field Goals Made"
         }
        }
       }
      }
     },
     "metadata": {},
     "output_type": "display_data"
    }
   ],
   "source": [
    "# Scatter plot for shooting efficiency\n",
    "fig = px.scatter(hawks_data_sorted, x='FGA', y='FG', trendline='ols', \n",
    "                 title='Field Goals Made vs. Attempted (Shooting Efficiency)',\n",
    "                 labels={'FG': 'Field Goals Made', 'FGA': 'Field Goals Attempted'})\n",
    "\n",
    "fig.update_layout(xaxis_title='Field Goals Attempted', yaxis_title='Field Goals Made', showlegend=False)\n",
    "fig.show()\n"
   ]
  },
  {
   "cell_type": "code",
   "execution_count": null,
   "metadata": {},
   "outputs": [],
   "source": []
  },
  {
   "cell_type": "code",
   "execution_count": 6,
   "metadata": {},
   "outputs": [
    {
     "name": "stderr",
     "output_type": "stream",
     "text": [
      "/Users/apple/miniconda3/lib/python3.11/site-packages/_plotly_utils/basevalidators.py:106: FutureWarning:\n",
      "\n",
      "The behavior of DatetimeProperties.to_pydatetime is deprecated, in a future version this will return a Series containing python datetime objects instead of an ndarray. To retain the old behavior, call `np.array` on the result\n",
      "\n"
     ]
    },
    {
     "data": {
      "application/vnd.plotly.v1+json": {
       "config": {
        "plotlyServerURL": "https://plot.ly"
       },
       "data": [
        {
         "hovertemplate": "Game Date=%{x}<br>Total Rebounds=%{y}<extra></extra>",
         "legendgroup": "",
         "line": {
          "color": "#636efa",
          "dash": "solid"
         },
         "marker": {
          "symbol": "circle"
         },
         "mode": "lines",
         "name": "",
         "orientation": "v",
         "showlegend": false,
         "type": "scatter",
         "x": [
          "2020-12-28T00:00:00",
          "2021-01-02T00:00:00",
          "2021-01-04T00:00:00",
          "2021-01-06T00:00:00",
          "2021-01-11T00:00:00",
          "2021-01-18T00:00:00",
          "2021-01-20T00:00:00",
          "2021-01-26T00:00:00",
          "2021-01-27T00:00:00",
          "2021-02-01T00:00:00",
          "2021-02-03T00:00:00",
          "2021-02-04T00:00:00",
          "2021-02-06T00:00:00",
          "2021-02-12T00:00:00",
          "2021-02-13T00:00:00",
          "2021-02-21T00:00:00",
          "2021-02-24T00:00:00",
          "2021-03-13T00:00:00",
          "2021-03-14T00:00:00",
          "2021-03-18T00:00:00",
          "2021-04-04T00:00:00",
          "2021-04-06T00:00:00",
          "2021-04-07T00:00:00",
          "2021-04-09T00:00:00",
          "2021-04-15T00:00:00",
          "2021-04-18T00:00:00",
          "2021-04-20T00:00:00",
          "2021-04-23T00:00:00",
          "2021-04-25T00:00:00",
          "2021-05-01T00:00:00",
          "2021-05-03T00:00:00",
          "2021-05-05T00:00:00",
          "2021-05-10T00:00:00",
          "2021-05-12T00:00:00",
          "2021-05-13T00:00:00",
          "2021-05-16T00:00:00",
          "2021-10-21T00:00:00",
          "2021-10-25T00:00:00",
          "2021-11-01T00:00:00",
          "2021-11-04T00:00:00",
          "2021-11-14T00:00:00",
          "2021-11-15T00:00:00",
          "2021-11-17T00:00:00",
          "2021-11-20T00:00:00",
          "2021-11-22T00:00:00",
          "2021-11-27T00:00:00",
          "2021-12-03T00:00:00",
          "2021-12-05T00:00:00",
          "2021-12-10T00:00:00",
          "2021-12-13T00:00:00",
          "2021-12-17T00:00:00",
          "2021-12-22T00:00:00",
          "2021-12-27T00:00:00",
          "2022-01-12T00:00:00",
          "2022-01-15T00:00:00",
          "2022-01-17T00:00:00",
          "2022-01-19T00:00:00",
          "2022-01-21T00:00:00",
          "2022-01-26T00:00:00",
          "2022-01-28T00:00:00",
          "2022-01-30T00:00:00",
          "2022-01-31T00:00:00",
          "2022-02-03T00:00:00",
          "2022-02-08T00:00:00",
          "2022-02-11T00:00:00",
          "2022-02-15T00:00:00",
          "2022-02-26T00:00:00",
          "2022-03-03T00:00:00",
          "2022-03-11T00:00:00",
          "2022-03-13T00:00:00",
          "2022-03-14T00:00:00",
          "2022-03-18T00:00:00",
          "2022-03-20T00:00:00",
          "2022-03-25T00:00:00",
          "2022-03-31T00:00:00",
          "2022-04-02T00:00:00",
          "2022-04-06T00:00:00",
          "2022-10-19T00:00:00",
          "2022-10-21T00:00:00",
          "2022-10-23T00:00:00",
          "2022-11-05T00:00:00",
          "2022-11-07T00:00:00",
          "2022-11-09T00:00:00",
          "2022-11-10T00:00:00",
          "2022-11-16T00:00:00",
          "2022-11-19T00:00:00",
          "2022-11-23T00:00:00",
          "2022-11-27T00:00:00",
          "2022-12-02T00:00:00",
          "2022-12-05T00:00:00",
          "2022-12-11T00:00:00",
          "2022-12-19T00:00:00",
          "2022-12-21T00:00:00",
          "2022-12-23T00:00:00",
          "2022-12-28T00:00:00",
          "2022-12-30T00:00:00",
          "2023-01-11T00:00:00",
          "2023-01-16T00:00:00",
          "2023-01-20T00:00:00",
          "2023-01-21T00:00:00",
          "2023-01-28T00:00:00",
          "2023-02-09T00:00:00",
          "2023-02-11T00:00:00",
          "2023-02-15T00:00:00",
          "2023-02-24T00:00:00",
          "2023-02-26T00:00:00",
          "2023-02-28T00:00:00",
          "2023-03-03T00:00:00",
          "2023-03-11T00:00:00",
          "2023-03-13T00:00:00",
          "2023-03-17T00:00:00",
          "2023-03-21T00:00:00",
          "2023-03-25T00:00:00",
          "2023-03-26T00:00:00",
          "2023-03-28T00:00:00",
          "2023-04-02T00:00:00",
          "2023-04-05T00:00:00",
          "2023-04-07T00:00:00"
         ],
         "xaxis": "x",
         "y": [
          53,
          61,
          46,
          63,
          73,
          57,
          73,
          49,
          49,
          45,
          52,
          54,
          51,
          53,
          47,
          49,
          56,
          55,
          56,
          62,
          58,
          49,
          48,
          46,
          46,
          57,
          68,
          44,
          55,
          49,
          54,
          49,
          60,
          56,
          58,
          63,
          59,
          58,
          50,
          41,
          63,
          57,
          45,
          51,
          46,
          60,
          52,
          53,
          58,
          47,
          49,
          58,
          50,
          47,
          40,
          57,
          48,
          41,
          55,
          54,
          51,
          53,
          49,
          51,
          55,
          43,
          52,
          39,
          53,
          39,
          59,
          49,
          45,
          46,
          54,
          62,
          46,
          47,
          53,
          52,
          58,
          57,
          60,
          59,
          50,
          57,
          52,
          48,
          50,
          61,
          53,
          47,
          51,
          51,
          56,
          46,
          46,
          34,
          47,
          42,
          54,
          70,
          56,
          50,
          47,
          53,
          48,
          50,
          49,
          59,
          56,
          74,
          52,
          58,
          60,
          59,
          56,
          46
         ],
         "yaxis": "y"
        }
       ],
       "layout": {
        "legend": {
         "tracegroupgap": 0
        },
        "showlegend": false,
        "template": {
         "data": {
          "bar": [
           {
            "error_x": {
             "color": "#2a3f5f"
            },
            "error_y": {
             "color": "#2a3f5f"
            },
            "marker": {
             "line": {
              "color": "#E5ECF6",
              "width": 0.5
             },
             "pattern": {
              "fillmode": "overlay",
              "size": 10,
              "solidity": 0.2
             }
            },
            "type": "bar"
           }
          ],
          "barpolar": [
           {
            "marker": {
             "line": {
              "color": "#E5ECF6",
              "width": 0.5
             },
             "pattern": {
              "fillmode": "overlay",
              "size": 10,
              "solidity": 0.2
             }
            },
            "type": "barpolar"
           }
          ],
          "carpet": [
           {
            "aaxis": {
             "endlinecolor": "#2a3f5f",
             "gridcolor": "white",
             "linecolor": "white",
             "minorgridcolor": "white",
             "startlinecolor": "#2a3f5f"
            },
            "baxis": {
             "endlinecolor": "#2a3f5f",
             "gridcolor": "white",
             "linecolor": "white",
             "minorgridcolor": "white",
             "startlinecolor": "#2a3f5f"
            },
            "type": "carpet"
           }
          ],
          "choropleth": [
           {
            "colorbar": {
             "outlinewidth": 0,
             "ticks": ""
            },
            "type": "choropleth"
           }
          ],
          "contour": [
           {
            "colorbar": {
             "outlinewidth": 0,
             "ticks": ""
            },
            "colorscale": [
             [
              0,
              "#0d0887"
             ],
             [
              0.1111111111111111,
              "#46039f"
             ],
             [
              0.2222222222222222,
              "#7201a8"
             ],
             [
              0.3333333333333333,
              "#9c179e"
             ],
             [
              0.4444444444444444,
              "#bd3786"
             ],
             [
              0.5555555555555556,
              "#d8576b"
             ],
             [
              0.6666666666666666,
              "#ed7953"
             ],
             [
              0.7777777777777778,
              "#fb9f3a"
             ],
             [
              0.8888888888888888,
              "#fdca26"
             ],
             [
              1,
              "#f0f921"
             ]
            ],
            "type": "contour"
           }
          ],
          "contourcarpet": [
           {
            "colorbar": {
             "outlinewidth": 0,
             "ticks": ""
            },
            "type": "contourcarpet"
           }
          ],
          "heatmap": [
           {
            "colorbar": {
             "outlinewidth": 0,
             "ticks": ""
            },
            "colorscale": [
             [
              0,
              "#0d0887"
             ],
             [
              0.1111111111111111,
              "#46039f"
             ],
             [
              0.2222222222222222,
              "#7201a8"
             ],
             [
              0.3333333333333333,
              "#9c179e"
             ],
             [
              0.4444444444444444,
              "#bd3786"
             ],
             [
              0.5555555555555556,
              "#d8576b"
             ],
             [
              0.6666666666666666,
              "#ed7953"
             ],
             [
              0.7777777777777778,
              "#fb9f3a"
             ],
             [
              0.8888888888888888,
              "#fdca26"
             ],
             [
              1,
              "#f0f921"
             ]
            ],
            "type": "heatmap"
           }
          ],
          "heatmapgl": [
           {
            "colorbar": {
             "outlinewidth": 0,
             "ticks": ""
            },
            "colorscale": [
             [
              0,
              "#0d0887"
             ],
             [
              0.1111111111111111,
              "#46039f"
             ],
             [
              0.2222222222222222,
              "#7201a8"
             ],
             [
              0.3333333333333333,
              "#9c179e"
             ],
             [
              0.4444444444444444,
              "#bd3786"
             ],
             [
              0.5555555555555556,
              "#d8576b"
             ],
             [
              0.6666666666666666,
              "#ed7953"
             ],
             [
              0.7777777777777778,
              "#fb9f3a"
             ],
             [
              0.8888888888888888,
              "#fdca26"
             ],
             [
              1,
              "#f0f921"
             ]
            ],
            "type": "heatmapgl"
           }
          ],
          "histogram": [
           {
            "marker": {
             "pattern": {
              "fillmode": "overlay",
              "size": 10,
              "solidity": 0.2
             }
            },
            "type": "histogram"
           }
          ],
          "histogram2d": [
           {
            "colorbar": {
             "outlinewidth": 0,
             "ticks": ""
            },
            "colorscale": [
             [
              0,
              "#0d0887"
             ],
             [
              0.1111111111111111,
              "#46039f"
             ],
             [
              0.2222222222222222,
              "#7201a8"
             ],
             [
              0.3333333333333333,
              "#9c179e"
             ],
             [
              0.4444444444444444,
              "#bd3786"
             ],
             [
              0.5555555555555556,
              "#d8576b"
             ],
             [
              0.6666666666666666,
              "#ed7953"
             ],
             [
              0.7777777777777778,
              "#fb9f3a"
             ],
             [
              0.8888888888888888,
              "#fdca26"
             ],
             [
              1,
              "#f0f921"
             ]
            ],
            "type": "histogram2d"
           }
          ],
          "histogram2dcontour": [
           {
            "colorbar": {
             "outlinewidth": 0,
             "ticks": ""
            },
            "colorscale": [
             [
              0,
              "#0d0887"
             ],
             [
              0.1111111111111111,
              "#46039f"
             ],
             [
              0.2222222222222222,
              "#7201a8"
             ],
             [
              0.3333333333333333,
              "#9c179e"
             ],
             [
              0.4444444444444444,
              "#bd3786"
             ],
             [
              0.5555555555555556,
              "#d8576b"
             ],
             [
              0.6666666666666666,
              "#ed7953"
             ],
             [
              0.7777777777777778,
              "#fb9f3a"
             ],
             [
              0.8888888888888888,
              "#fdca26"
             ],
             [
              1,
              "#f0f921"
             ]
            ],
            "type": "histogram2dcontour"
           }
          ],
          "mesh3d": [
           {
            "colorbar": {
             "outlinewidth": 0,
             "ticks": ""
            },
            "type": "mesh3d"
           }
          ],
          "parcoords": [
           {
            "line": {
             "colorbar": {
              "outlinewidth": 0,
              "ticks": ""
             }
            },
            "type": "parcoords"
           }
          ],
          "pie": [
           {
            "automargin": true,
            "type": "pie"
           }
          ],
          "scatter": [
           {
            "fillpattern": {
             "fillmode": "overlay",
             "size": 10,
             "solidity": 0.2
            },
            "type": "scatter"
           }
          ],
          "scatter3d": [
           {
            "line": {
             "colorbar": {
              "outlinewidth": 0,
              "ticks": ""
             }
            },
            "marker": {
             "colorbar": {
              "outlinewidth": 0,
              "ticks": ""
             }
            },
            "type": "scatter3d"
           }
          ],
          "scattercarpet": [
           {
            "marker": {
             "colorbar": {
              "outlinewidth": 0,
              "ticks": ""
             }
            },
            "type": "scattercarpet"
           }
          ],
          "scattergeo": [
           {
            "marker": {
             "colorbar": {
              "outlinewidth": 0,
              "ticks": ""
             }
            },
            "type": "scattergeo"
           }
          ],
          "scattergl": [
           {
            "marker": {
             "colorbar": {
              "outlinewidth": 0,
              "ticks": ""
             }
            },
            "type": "scattergl"
           }
          ],
          "scattermapbox": [
           {
            "marker": {
             "colorbar": {
              "outlinewidth": 0,
              "ticks": ""
             }
            },
            "type": "scattermapbox"
           }
          ],
          "scatterpolar": [
           {
            "marker": {
             "colorbar": {
              "outlinewidth": 0,
              "ticks": ""
             }
            },
            "type": "scatterpolar"
           }
          ],
          "scatterpolargl": [
           {
            "marker": {
             "colorbar": {
              "outlinewidth": 0,
              "ticks": ""
             }
            },
            "type": "scatterpolargl"
           }
          ],
          "scatterternary": [
           {
            "marker": {
             "colorbar": {
              "outlinewidth": 0,
              "ticks": ""
             }
            },
            "type": "scatterternary"
           }
          ],
          "surface": [
           {
            "colorbar": {
             "outlinewidth": 0,
             "ticks": ""
            },
            "colorscale": [
             [
              0,
              "#0d0887"
             ],
             [
              0.1111111111111111,
              "#46039f"
             ],
             [
              0.2222222222222222,
              "#7201a8"
             ],
             [
              0.3333333333333333,
              "#9c179e"
             ],
             [
              0.4444444444444444,
              "#bd3786"
             ],
             [
              0.5555555555555556,
              "#d8576b"
             ],
             [
              0.6666666666666666,
              "#ed7953"
             ],
             [
              0.7777777777777778,
              "#fb9f3a"
             ],
             [
              0.8888888888888888,
              "#fdca26"
             ],
             [
              1,
              "#f0f921"
             ]
            ],
            "type": "surface"
           }
          ],
          "table": [
           {
            "cells": {
             "fill": {
              "color": "#EBF0F8"
             },
             "line": {
              "color": "white"
             }
            },
            "header": {
             "fill": {
              "color": "#C8D4E3"
             },
             "line": {
              "color": "white"
             }
            },
            "type": "table"
           }
          ]
         },
         "layout": {
          "annotationdefaults": {
           "arrowcolor": "#2a3f5f",
           "arrowhead": 0,
           "arrowwidth": 1
          },
          "autotypenumbers": "strict",
          "coloraxis": {
           "colorbar": {
            "outlinewidth": 0,
            "ticks": ""
           }
          },
          "colorscale": {
           "diverging": [
            [
             0,
             "#8e0152"
            ],
            [
             0.1,
             "#c51b7d"
            ],
            [
             0.2,
             "#de77ae"
            ],
            [
             0.3,
             "#f1b6da"
            ],
            [
             0.4,
             "#fde0ef"
            ],
            [
             0.5,
             "#f7f7f7"
            ],
            [
             0.6,
             "#e6f5d0"
            ],
            [
             0.7,
             "#b8e186"
            ],
            [
             0.8,
             "#7fbc41"
            ],
            [
             0.9,
             "#4d9221"
            ],
            [
             1,
             "#276419"
            ]
           ],
           "sequential": [
            [
             0,
             "#0d0887"
            ],
            [
             0.1111111111111111,
             "#46039f"
            ],
            [
             0.2222222222222222,
             "#7201a8"
            ],
            [
             0.3333333333333333,
             "#9c179e"
            ],
            [
             0.4444444444444444,
             "#bd3786"
            ],
            [
             0.5555555555555556,
             "#d8576b"
            ],
            [
             0.6666666666666666,
             "#ed7953"
            ],
            [
             0.7777777777777778,
             "#fb9f3a"
            ],
            [
             0.8888888888888888,
             "#fdca26"
            ],
            [
             1,
             "#f0f921"
            ]
           ],
           "sequentialminus": [
            [
             0,
             "#0d0887"
            ],
            [
             0.1111111111111111,
             "#46039f"
            ],
            [
             0.2222222222222222,
             "#7201a8"
            ],
            [
             0.3333333333333333,
             "#9c179e"
            ],
            [
             0.4444444444444444,
             "#bd3786"
            ],
            [
             0.5555555555555556,
             "#d8576b"
            ],
            [
             0.6666666666666666,
             "#ed7953"
            ],
            [
             0.7777777777777778,
             "#fb9f3a"
            ],
            [
             0.8888888888888888,
             "#fdca26"
            ],
            [
             1,
             "#f0f921"
            ]
           ]
          },
          "colorway": [
           "#636efa",
           "#EF553B",
           "#00cc96",
           "#ab63fa",
           "#FFA15A",
           "#19d3f3",
           "#FF6692",
           "#B6E880",
           "#FF97FF",
           "#FECB52"
          ],
          "font": {
           "color": "#2a3f5f"
          },
          "geo": {
           "bgcolor": "white",
           "lakecolor": "white",
           "landcolor": "#E5ECF6",
           "showlakes": true,
           "showland": true,
           "subunitcolor": "white"
          },
          "hoverlabel": {
           "align": "left"
          },
          "hovermode": "closest",
          "mapbox": {
           "style": "light"
          },
          "paper_bgcolor": "white",
          "plot_bgcolor": "#E5ECF6",
          "polar": {
           "angularaxis": {
            "gridcolor": "white",
            "linecolor": "white",
            "ticks": ""
           },
           "bgcolor": "#E5ECF6",
           "radialaxis": {
            "gridcolor": "white",
            "linecolor": "white",
            "ticks": ""
           }
          },
          "scene": {
           "xaxis": {
            "backgroundcolor": "#E5ECF6",
            "gridcolor": "white",
            "gridwidth": 2,
            "linecolor": "white",
            "showbackground": true,
            "ticks": "",
            "zerolinecolor": "white"
           },
           "yaxis": {
            "backgroundcolor": "#E5ECF6",
            "gridcolor": "white",
            "gridwidth": 2,
            "linecolor": "white",
            "showbackground": true,
            "ticks": "",
            "zerolinecolor": "white"
           },
           "zaxis": {
            "backgroundcolor": "#E5ECF6",
            "gridcolor": "white",
            "gridwidth": 2,
            "linecolor": "white",
            "showbackground": true,
            "ticks": "",
            "zerolinecolor": "white"
           }
          },
          "shapedefaults": {
           "line": {
            "color": "#2a3f5f"
           }
          },
          "ternary": {
           "aaxis": {
            "gridcolor": "white",
            "linecolor": "white",
            "ticks": ""
           },
           "baxis": {
            "gridcolor": "white",
            "linecolor": "white",
            "ticks": ""
           },
           "bgcolor": "#E5ECF6",
           "caxis": {
            "gridcolor": "white",
            "linecolor": "white",
            "ticks": ""
           }
          },
          "title": {
           "x": 0.05
          },
          "xaxis": {
           "automargin": true,
           "gridcolor": "white",
           "linecolor": "white",
           "ticks": "",
           "title": {
            "standoff": 15
           },
           "zerolinecolor": "white",
           "zerolinewidth": 2
          },
          "yaxis": {
           "automargin": true,
           "gridcolor": "white",
           "linecolor": "white",
           "ticks": "",
           "title": {
            "standoff": 15
           },
           "zerolinecolor": "white",
           "zerolinewidth": 2
          }
         }
        },
        "title": {
         "text": "Total Rebounds Over Time"
        },
        "xaxis": {
         "anchor": "y",
         "domain": [
          0,
          1
         ],
         "title": {
          "text": "Game Date"
         }
        },
        "yaxis": {
         "anchor": "x",
         "domain": [
          0,
          1
         ],
         "title": {
          "text": "Total Rebounds"
         }
        }
       }
      }
     },
     "metadata": {},
     "output_type": "display_data"
    }
   ],
   "source": [
    "# Line plot for total rebounds over time\n",
    "fig = px.line(hawks_data_sorted, x='GAME_DATE', y='TOT_REB', \n",
    "              title='Total Rebounds Over Time',\n",
    "              labels={'TOT_REB': 'Total Rebounds', 'GAME_DATE': 'Game Date'})\n",
    "\n",
    "fig.update_layout(xaxis_title='Game Date', yaxis_title='Total Rebounds', showlegend=False)\n",
    "fig.show()\n"
   ]
  },
  {
   "cell_type": "code",
   "execution_count": 7,
   "metadata": {},
   "outputs": [
    {
     "data": {
      "application/vnd.plotly.v1+json": {
       "config": {
        "plotlyServerURL": "https://plot.ly"
       },
       "data": [
        {
         "hovertemplate": "Number of Rest Days=%{x}<br>Points Scored=%{y}<extra></extra>",
         "legendgroup": "",
         "marker": {
          "color": "#636efa",
          "symbol": "circle"
         },
         "mode": "markers",
         "name": "",
         "orientation": "v",
         "showlegend": false,
         "type": "scatter",
         "x": [
          2,
          1,
          2,
          2,
          2,
          2,
          2,
          2,
          1,
          3,
          2,
          1,
          2,
          2,
          1,
          2,
          1,
          2,
          1,
          2,
          2,
          2,
          1,
          2,
          2,
          3,
          2,
          2,
          2,
          1,
          2,
          2,
          4,
          2,
          1,
          3,
          null,
          2,
          2,
          1,
          2,
          1,
          2,
          3,
          2,
          1,
          2,
          2,
          4,
          3,
          2,
          5,
          2,
          3,
          1,
          2,
          2,
          2,
          3,
          2,
          2,
          1,
          3,
          2,
          3,
          2,
          2,
          2,
          2,
          2,
          1,
          2,
          2,
          2,
          1,
          2,
          1,
          null,
          2,
          2,
          3,
          2,
          2,
          1,
          2,
          3,
          2,
          2,
          2,
          3,
          2,
          3,
          2,
          2,
          1,
          2,
          3,
          2,
          2,
          1,
          3,
          2,
          2,
          2,
          9,
          2,
          2,
          3,
          1,
          2,
          4,
          2,
          3,
          1,
          2,
          2,
          1,
          2
         ],
         "xaxis": "x",
         "y": [
          128,
          91,
          108,
          94,
          112,
          108,
          123,
          108,
          128,
          99,
          116,
          91,
          132,
          114,
          113,
          123,
          127,
          121,
          100,
          116,
          117,
          123,
          113,
          120,
          109,
          129,
          112,
          118,
          111,
          108,
          123,
          135,
          125,
          120,
          116,
          124,
          113,
          122,
          118,
          98,
          120,
          129,
          110,
          115,
          113,
          90,
          96,
          127,
          105,
          126,
          115,
          98,
          118,
          91,
          108,
          121,
          134,
          110,
          121,
          108,
          129,
          100,
          124,
          133,
          121,
          124,
          127,
          130,
          112,
          131,
          122,
          120,
          112,
          121,
          131,
          122,
          118,
          117,
          108,
          109,
          124,
          117,
          119,
          104,
          101,
          124,
          115,
          98,
          117,
          114,
          123,
          126,
          108,
          130,
          107,
          121,
          105,
          121,
          139,
          118,
          113,
          116,
          125,
          101,
          136,
          129,
          116,
          129,
          125,
          115,
          127,
          129,
          143,
          119,
          120,
          132,
          134,
          131
         ],
         "yaxis": "y"
        },
        {
         "hovertemplate": "<b>OLS trendline</b><br>PTS = 2.05671 * NUM_REST_DAYS + 113.063<br>R<sup>2</sup>=0.031917<br><br>Number of Rest Days=%{x}<br>Points Scored=%{y} <b>(trend)</b><extra></extra>",
         "legendgroup": "",
         "marker": {
          "color": "#636efa",
          "symbol": "circle"
         },
         "mode": "lines",
         "name": "",
         "showlegend": false,
         "type": "scatter",
         "x": [
          1,
          1,
          1,
          1,
          1,
          1,
          1,
          1,
          1,
          1,
          1,
          1,
          1,
          1,
          1,
          1,
          1,
          1,
          1,
          1,
          1,
          1,
          1,
          2,
          2,
          2,
          2,
          2,
          2,
          2,
          2,
          2,
          2,
          2,
          2,
          2,
          2,
          2,
          2,
          2,
          2,
          2,
          2,
          2,
          2,
          2,
          2,
          2,
          2,
          2,
          2,
          2,
          2,
          2,
          2,
          2,
          2,
          2,
          2,
          2,
          2,
          2,
          2,
          2,
          2,
          2,
          2,
          2,
          2,
          2,
          2,
          2,
          2,
          2,
          2,
          2,
          2,
          2,
          2,
          2,
          2,
          2,
          2,
          2,
          2,
          2,
          2,
          2,
          2,
          2,
          2,
          2,
          2,
          2,
          3,
          3,
          3,
          3,
          3,
          3,
          3,
          3,
          3,
          3,
          3,
          3,
          3,
          3,
          3,
          3,
          3,
          4,
          4,
          4,
          5,
          9
         ],
         "xaxis": "x",
         "y": [
          115.1194312796209,
          115.1194312796209,
          115.1194312796209,
          115.1194312796209,
          115.1194312796209,
          115.1194312796209,
          115.1194312796209,
          115.1194312796209,
          115.1194312796209,
          115.1194312796209,
          115.1194312796209,
          115.1194312796209,
          115.1194312796209,
          115.1194312796209,
          115.1194312796209,
          115.1194312796209,
          115.1194312796209,
          115.1194312796209,
          115.1194312796209,
          115.1194312796209,
          115.1194312796209,
          115.1194312796209,
          115.1194312796209,
          117.17614533965249,
          117.17614533965249,
          117.17614533965249,
          117.17614533965249,
          117.17614533965249,
          117.17614533965249,
          117.17614533965249,
          117.17614533965249,
          117.17614533965249,
          117.17614533965249,
          117.17614533965249,
          117.17614533965249,
          117.17614533965249,
          117.17614533965249,
          117.17614533965249,
          117.17614533965249,
          117.17614533965249,
          117.17614533965249,
          117.17614533965249,
          117.17614533965249,
          117.17614533965249,
          117.17614533965249,
          117.17614533965249,
          117.17614533965249,
          117.17614533965249,
          117.17614533965249,
          117.17614533965249,
          117.17614533965249,
          117.17614533965249,
          117.17614533965249,
          117.17614533965249,
          117.17614533965249,
          117.17614533965249,
          117.17614533965249,
          117.17614533965249,
          117.17614533965249,
          117.17614533965249,
          117.17614533965249,
          117.17614533965249,
          117.17614533965249,
          117.17614533965249,
          117.17614533965249,
          117.17614533965249,
          117.17614533965249,
          117.17614533965249,
          117.17614533965249,
          117.17614533965249,
          117.17614533965249,
          117.17614533965249,
          117.17614533965249,
          117.17614533965249,
          117.17614533965249,
          117.17614533965249,
          117.17614533965249,
          117.17614533965249,
          117.17614533965249,
          117.17614533965249,
          117.17614533965249,
          117.17614533965249,
          117.17614533965249,
          117.17614533965249,
          117.17614533965249,
          117.17614533965249,
          117.17614533965249,
          117.17614533965249,
          117.17614533965249,
          117.17614533965249,
          117.17614533965249,
          117.17614533965249,
          117.17614533965249,
          117.17614533965249,
          119.23285939968409,
          119.23285939968409,
          119.23285939968409,
          119.23285939968409,
          119.23285939968409,
          119.23285939968409,
          119.23285939968409,
          119.23285939968409,
          119.23285939968409,
          119.23285939968409,
          119.23285939968409,
          119.23285939968409,
          119.23285939968409,
          119.23285939968409,
          119.23285939968409,
          119.23285939968409,
          119.23285939968409,
          121.28957345971568,
          121.28957345971568,
          121.28957345971568,
          123.34628751974728,
          131.57314375987366
         ],
         "yaxis": "y"
        }
       ],
       "layout": {
        "legend": {
         "tracegroupgap": 0
        },
        "showlegend": false,
        "template": {
         "data": {
          "bar": [
           {
            "error_x": {
             "color": "#2a3f5f"
            },
            "error_y": {
             "color": "#2a3f5f"
            },
            "marker": {
             "line": {
              "color": "#E5ECF6",
              "width": 0.5
             },
             "pattern": {
              "fillmode": "overlay",
              "size": 10,
              "solidity": 0.2
             }
            },
            "type": "bar"
           }
          ],
          "barpolar": [
           {
            "marker": {
             "line": {
              "color": "#E5ECF6",
              "width": 0.5
             },
             "pattern": {
              "fillmode": "overlay",
              "size": 10,
              "solidity": 0.2
             }
            },
            "type": "barpolar"
           }
          ],
          "carpet": [
           {
            "aaxis": {
             "endlinecolor": "#2a3f5f",
             "gridcolor": "white",
             "linecolor": "white",
             "minorgridcolor": "white",
             "startlinecolor": "#2a3f5f"
            },
            "baxis": {
             "endlinecolor": "#2a3f5f",
             "gridcolor": "white",
             "linecolor": "white",
             "minorgridcolor": "white",
             "startlinecolor": "#2a3f5f"
            },
            "type": "carpet"
           }
          ],
          "choropleth": [
           {
            "colorbar": {
             "outlinewidth": 0,
             "ticks": ""
            },
            "type": "choropleth"
           }
          ],
          "contour": [
           {
            "colorbar": {
             "outlinewidth": 0,
             "ticks": ""
            },
            "colorscale": [
             [
              0,
              "#0d0887"
             ],
             [
              0.1111111111111111,
              "#46039f"
             ],
             [
              0.2222222222222222,
              "#7201a8"
             ],
             [
              0.3333333333333333,
              "#9c179e"
             ],
             [
              0.4444444444444444,
              "#bd3786"
             ],
             [
              0.5555555555555556,
              "#d8576b"
             ],
             [
              0.6666666666666666,
              "#ed7953"
             ],
             [
              0.7777777777777778,
              "#fb9f3a"
             ],
             [
              0.8888888888888888,
              "#fdca26"
             ],
             [
              1,
              "#f0f921"
             ]
            ],
            "type": "contour"
           }
          ],
          "contourcarpet": [
           {
            "colorbar": {
             "outlinewidth": 0,
             "ticks": ""
            },
            "type": "contourcarpet"
           }
          ],
          "heatmap": [
           {
            "colorbar": {
             "outlinewidth": 0,
             "ticks": ""
            },
            "colorscale": [
             [
              0,
              "#0d0887"
             ],
             [
              0.1111111111111111,
              "#46039f"
             ],
             [
              0.2222222222222222,
              "#7201a8"
             ],
             [
              0.3333333333333333,
              "#9c179e"
             ],
             [
              0.4444444444444444,
              "#bd3786"
             ],
             [
              0.5555555555555556,
              "#d8576b"
             ],
             [
              0.6666666666666666,
              "#ed7953"
             ],
             [
              0.7777777777777778,
              "#fb9f3a"
             ],
             [
              0.8888888888888888,
              "#fdca26"
             ],
             [
              1,
              "#f0f921"
             ]
            ],
            "type": "heatmap"
           }
          ],
          "heatmapgl": [
           {
            "colorbar": {
             "outlinewidth": 0,
             "ticks": ""
            },
            "colorscale": [
             [
              0,
              "#0d0887"
             ],
             [
              0.1111111111111111,
              "#46039f"
             ],
             [
              0.2222222222222222,
              "#7201a8"
             ],
             [
              0.3333333333333333,
              "#9c179e"
             ],
             [
              0.4444444444444444,
              "#bd3786"
             ],
             [
              0.5555555555555556,
              "#d8576b"
             ],
             [
              0.6666666666666666,
              "#ed7953"
             ],
             [
              0.7777777777777778,
              "#fb9f3a"
             ],
             [
              0.8888888888888888,
              "#fdca26"
             ],
             [
              1,
              "#f0f921"
             ]
            ],
            "type": "heatmapgl"
           }
          ],
          "histogram": [
           {
            "marker": {
             "pattern": {
              "fillmode": "overlay",
              "size": 10,
              "solidity": 0.2
             }
            },
            "type": "histogram"
           }
          ],
          "histogram2d": [
           {
            "colorbar": {
             "outlinewidth": 0,
             "ticks": ""
            },
            "colorscale": [
             [
              0,
              "#0d0887"
             ],
             [
              0.1111111111111111,
              "#46039f"
             ],
             [
              0.2222222222222222,
              "#7201a8"
             ],
             [
              0.3333333333333333,
              "#9c179e"
             ],
             [
              0.4444444444444444,
              "#bd3786"
             ],
             [
              0.5555555555555556,
              "#d8576b"
             ],
             [
              0.6666666666666666,
              "#ed7953"
             ],
             [
              0.7777777777777778,
              "#fb9f3a"
             ],
             [
              0.8888888888888888,
              "#fdca26"
             ],
             [
              1,
              "#f0f921"
             ]
            ],
            "type": "histogram2d"
           }
          ],
          "histogram2dcontour": [
           {
            "colorbar": {
             "outlinewidth": 0,
             "ticks": ""
            },
            "colorscale": [
             [
              0,
              "#0d0887"
             ],
             [
              0.1111111111111111,
              "#46039f"
             ],
             [
              0.2222222222222222,
              "#7201a8"
             ],
             [
              0.3333333333333333,
              "#9c179e"
             ],
             [
              0.4444444444444444,
              "#bd3786"
             ],
             [
              0.5555555555555556,
              "#d8576b"
             ],
             [
              0.6666666666666666,
              "#ed7953"
             ],
             [
              0.7777777777777778,
              "#fb9f3a"
             ],
             [
              0.8888888888888888,
              "#fdca26"
             ],
             [
              1,
              "#f0f921"
             ]
            ],
            "type": "histogram2dcontour"
           }
          ],
          "mesh3d": [
           {
            "colorbar": {
             "outlinewidth": 0,
             "ticks": ""
            },
            "type": "mesh3d"
           }
          ],
          "parcoords": [
           {
            "line": {
             "colorbar": {
              "outlinewidth": 0,
              "ticks": ""
             }
            },
            "type": "parcoords"
           }
          ],
          "pie": [
           {
            "automargin": true,
            "type": "pie"
           }
          ],
          "scatter": [
           {
            "fillpattern": {
             "fillmode": "overlay",
             "size": 10,
             "solidity": 0.2
            },
            "type": "scatter"
           }
          ],
          "scatter3d": [
           {
            "line": {
             "colorbar": {
              "outlinewidth": 0,
              "ticks": ""
             }
            },
            "marker": {
             "colorbar": {
              "outlinewidth": 0,
              "ticks": ""
             }
            },
            "type": "scatter3d"
           }
          ],
          "scattercarpet": [
           {
            "marker": {
             "colorbar": {
              "outlinewidth": 0,
              "ticks": ""
             }
            },
            "type": "scattercarpet"
           }
          ],
          "scattergeo": [
           {
            "marker": {
             "colorbar": {
              "outlinewidth": 0,
              "ticks": ""
             }
            },
            "type": "scattergeo"
           }
          ],
          "scattergl": [
           {
            "marker": {
             "colorbar": {
              "outlinewidth": 0,
              "ticks": ""
             }
            },
            "type": "scattergl"
           }
          ],
          "scattermapbox": [
           {
            "marker": {
             "colorbar": {
              "outlinewidth": 0,
              "ticks": ""
             }
            },
            "type": "scattermapbox"
           }
          ],
          "scatterpolar": [
           {
            "marker": {
             "colorbar": {
              "outlinewidth": 0,
              "ticks": ""
             }
            },
            "type": "scatterpolar"
           }
          ],
          "scatterpolargl": [
           {
            "marker": {
             "colorbar": {
              "outlinewidth": 0,
              "ticks": ""
             }
            },
            "type": "scatterpolargl"
           }
          ],
          "scatterternary": [
           {
            "marker": {
             "colorbar": {
              "outlinewidth": 0,
              "ticks": ""
             }
            },
            "type": "scatterternary"
           }
          ],
          "surface": [
           {
            "colorbar": {
             "outlinewidth": 0,
             "ticks": ""
            },
            "colorscale": [
             [
              0,
              "#0d0887"
             ],
             [
              0.1111111111111111,
              "#46039f"
             ],
             [
              0.2222222222222222,
              "#7201a8"
             ],
             [
              0.3333333333333333,
              "#9c179e"
             ],
             [
              0.4444444444444444,
              "#bd3786"
             ],
             [
              0.5555555555555556,
              "#d8576b"
             ],
             [
              0.6666666666666666,
              "#ed7953"
             ],
             [
              0.7777777777777778,
              "#fb9f3a"
             ],
             [
              0.8888888888888888,
              "#fdca26"
             ],
             [
              1,
              "#f0f921"
             ]
            ],
            "type": "surface"
           }
          ],
          "table": [
           {
            "cells": {
             "fill": {
              "color": "#EBF0F8"
             },
             "line": {
              "color": "white"
             }
            },
            "header": {
             "fill": {
              "color": "#C8D4E3"
             },
             "line": {
              "color": "white"
             }
            },
            "type": "table"
           }
          ]
         },
         "layout": {
          "annotationdefaults": {
           "arrowcolor": "#2a3f5f",
           "arrowhead": 0,
           "arrowwidth": 1
          },
          "autotypenumbers": "strict",
          "coloraxis": {
           "colorbar": {
            "outlinewidth": 0,
            "ticks": ""
           }
          },
          "colorscale": {
           "diverging": [
            [
             0,
             "#8e0152"
            ],
            [
             0.1,
             "#c51b7d"
            ],
            [
             0.2,
             "#de77ae"
            ],
            [
             0.3,
             "#f1b6da"
            ],
            [
             0.4,
             "#fde0ef"
            ],
            [
             0.5,
             "#f7f7f7"
            ],
            [
             0.6,
             "#e6f5d0"
            ],
            [
             0.7,
             "#b8e186"
            ],
            [
             0.8,
             "#7fbc41"
            ],
            [
             0.9,
             "#4d9221"
            ],
            [
             1,
             "#276419"
            ]
           ],
           "sequential": [
            [
             0,
             "#0d0887"
            ],
            [
             0.1111111111111111,
             "#46039f"
            ],
            [
             0.2222222222222222,
             "#7201a8"
            ],
            [
             0.3333333333333333,
             "#9c179e"
            ],
            [
             0.4444444444444444,
             "#bd3786"
            ],
            [
             0.5555555555555556,
             "#d8576b"
            ],
            [
             0.6666666666666666,
             "#ed7953"
            ],
            [
             0.7777777777777778,
             "#fb9f3a"
            ],
            [
             0.8888888888888888,
             "#fdca26"
            ],
            [
             1,
             "#f0f921"
            ]
           ],
           "sequentialminus": [
            [
             0,
             "#0d0887"
            ],
            [
             0.1111111111111111,
             "#46039f"
            ],
            [
             0.2222222222222222,
             "#7201a8"
            ],
            [
             0.3333333333333333,
             "#9c179e"
            ],
            [
             0.4444444444444444,
             "#bd3786"
            ],
            [
             0.5555555555555556,
             "#d8576b"
            ],
            [
             0.6666666666666666,
             "#ed7953"
            ],
            [
             0.7777777777777778,
             "#fb9f3a"
            ],
            [
             0.8888888888888888,
             "#fdca26"
            ],
            [
             1,
             "#f0f921"
            ]
           ]
          },
          "colorway": [
           "#636efa",
           "#EF553B",
           "#00cc96",
           "#ab63fa",
           "#FFA15A",
           "#19d3f3",
           "#FF6692",
           "#B6E880",
           "#FF97FF",
           "#FECB52"
          ],
          "font": {
           "color": "#2a3f5f"
          },
          "geo": {
           "bgcolor": "white",
           "lakecolor": "white",
           "landcolor": "#E5ECF6",
           "showlakes": true,
           "showland": true,
           "subunitcolor": "white"
          },
          "hoverlabel": {
           "align": "left"
          },
          "hovermode": "closest",
          "mapbox": {
           "style": "light"
          },
          "paper_bgcolor": "white",
          "plot_bgcolor": "#E5ECF6",
          "polar": {
           "angularaxis": {
            "gridcolor": "white",
            "linecolor": "white",
            "ticks": ""
           },
           "bgcolor": "#E5ECF6",
           "radialaxis": {
            "gridcolor": "white",
            "linecolor": "white",
            "ticks": ""
           }
          },
          "scene": {
           "xaxis": {
            "backgroundcolor": "#E5ECF6",
            "gridcolor": "white",
            "gridwidth": 2,
            "linecolor": "white",
            "showbackground": true,
            "ticks": "",
            "zerolinecolor": "white"
           },
           "yaxis": {
            "backgroundcolor": "#E5ECF6",
            "gridcolor": "white",
            "gridwidth": 2,
            "linecolor": "white",
            "showbackground": true,
            "ticks": "",
            "zerolinecolor": "white"
           },
           "zaxis": {
            "backgroundcolor": "#E5ECF6",
            "gridcolor": "white",
            "gridwidth": 2,
            "linecolor": "white",
            "showbackground": true,
            "ticks": "",
            "zerolinecolor": "white"
           }
          },
          "shapedefaults": {
           "line": {
            "color": "#2a3f5f"
           }
          },
          "ternary": {
           "aaxis": {
            "gridcolor": "white",
            "linecolor": "white",
            "ticks": ""
           },
           "baxis": {
            "gridcolor": "white",
            "linecolor": "white",
            "ticks": ""
           },
           "bgcolor": "#E5ECF6",
           "caxis": {
            "gridcolor": "white",
            "linecolor": "white",
            "ticks": ""
           }
          },
          "title": {
           "x": 0.05
          },
          "xaxis": {
           "automargin": true,
           "gridcolor": "white",
           "linecolor": "white",
           "ticks": "",
           "title": {
            "standoff": 15
           },
           "zerolinecolor": "white",
           "zerolinewidth": 2
          },
          "yaxis": {
           "automargin": true,
           "gridcolor": "white",
           "linecolor": "white",
           "ticks": "",
           "title": {
            "standoff": 15
           },
           "zerolinecolor": "white",
           "zerolinewidth": 2
          }
         }
        },
        "title": {
         "text": "Impact of Rest Days on Points Scored"
        },
        "xaxis": {
         "anchor": "y",
         "domain": [
          0,
          1
         ],
         "title": {
          "text": "Number of Rest Days"
         }
        },
        "yaxis": {
         "anchor": "x",
         "domain": [
          0,
          1
         ],
         "title": {
          "text": "Points Scored"
         }
        }
       }
      }
     },
     "metadata": {},
     "output_type": "display_data"
    }
   ],
   "source": [
    "# Scatter plot to observe the impact of rest days on points scored\n",
    "fig = px.scatter(hawks_data_sorted, x='NUM_REST_DAYS', y='PTS', trendline='ols',\n",
    "                 title='Impact of Rest Days on Points Scored',\n",
    "                 labels={'NUM_REST_DAYS': 'Number of Rest Days', 'PTS': 'Points Scored'})\n",
    "\n",
    "fig.update_layout(xaxis_title='Number of Rest Days', yaxis_title='Points Scored', showlegend=False)\n",
    "fig.show()\n"
   ]
  },
  {
   "cell_type": "code",
   "execution_count": 8,
   "metadata": {},
   "outputs": [
    {
     "name": "stderr",
     "output_type": "stream",
     "text": [
      "/Users/apple/miniconda3/lib/python3.11/site-packages/_plotly_utils/basevalidators.py:106: FutureWarning:\n",
      "\n",
      "The behavior of DatetimeProperties.to_pydatetime is deprecated, in a future version this will return a Series containing python datetime objects instead of an ndarray. To retain the old behavior, call `np.array` on the result\n",
      "\n"
     ]
    },
    {
     "data": {
      "application/vnd.plotly.v1+json": {
       "config": {
        "plotlyServerURL": "https://plot.ly"
       },
       "data": [
        {
         "name": "Total Win Percentage",
         "type": "scatter",
         "x": [
          "2020-12-28T00:00:00",
          "2021-01-02T00:00:00",
          "2021-01-04T00:00:00",
          "2021-01-06T00:00:00",
          "2021-01-11T00:00:00",
          "2021-01-18T00:00:00",
          "2021-01-20T00:00:00",
          "2021-01-26T00:00:00",
          "2021-01-27T00:00:00",
          "2021-02-01T00:00:00",
          "2021-02-03T00:00:00",
          "2021-02-04T00:00:00",
          "2021-02-06T00:00:00",
          "2021-02-12T00:00:00",
          "2021-02-13T00:00:00",
          "2021-02-21T00:00:00",
          "2021-02-24T00:00:00",
          "2021-03-13T00:00:00",
          "2021-03-14T00:00:00",
          "2021-03-18T00:00:00",
          "2021-04-04T00:00:00",
          "2021-04-06T00:00:00",
          "2021-04-07T00:00:00",
          "2021-04-09T00:00:00",
          "2021-04-15T00:00:00",
          "2021-04-18T00:00:00",
          "2021-04-20T00:00:00",
          "2021-04-23T00:00:00",
          "2021-04-25T00:00:00",
          "2021-05-01T00:00:00",
          "2021-05-03T00:00:00",
          "2021-05-05T00:00:00",
          "2021-05-10T00:00:00",
          "2021-05-12T00:00:00",
          "2021-05-13T00:00:00",
          "2021-05-16T00:00:00",
          "2021-10-21T00:00:00",
          "2021-10-25T00:00:00",
          "2021-11-01T00:00:00",
          "2021-11-04T00:00:00",
          "2021-11-14T00:00:00",
          "2021-11-15T00:00:00",
          "2021-11-17T00:00:00",
          "2021-11-20T00:00:00",
          "2021-11-22T00:00:00",
          "2021-11-27T00:00:00",
          "2021-12-03T00:00:00",
          "2021-12-05T00:00:00",
          "2021-12-10T00:00:00",
          "2021-12-13T00:00:00",
          "2021-12-17T00:00:00",
          "2021-12-22T00:00:00",
          "2021-12-27T00:00:00",
          "2022-01-12T00:00:00",
          "2022-01-15T00:00:00",
          "2022-01-17T00:00:00",
          "2022-01-19T00:00:00",
          "2022-01-21T00:00:00",
          "2022-01-26T00:00:00",
          "2022-01-28T00:00:00",
          "2022-01-30T00:00:00",
          "2022-01-31T00:00:00",
          "2022-02-03T00:00:00",
          "2022-02-08T00:00:00",
          "2022-02-11T00:00:00",
          "2022-02-15T00:00:00",
          "2022-02-26T00:00:00",
          "2022-03-03T00:00:00",
          "2022-03-11T00:00:00",
          "2022-03-13T00:00:00",
          "2022-03-14T00:00:00",
          "2022-03-18T00:00:00",
          "2022-03-20T00:00:00",
          "2022-03-25T00:00:00",
          "2022-03-31T00:00:00",
          "2022-04-02T00:00:00",
          "2022-04-06T00:00:00",
          "2022-10-19T00:00:00",
          "2022-10-21T00:00:00",
          "2022-10-23T00:00:00",
          "2022-11-05T00:00:00",
          "2022-11-07T00:00:00",
          "2022-11-09T00:00:00",
          "2022-11-10T00:00:00",
          "2022-11-16T00:00:00",
          "2022-11-19T00:00:00",
          "2022-11-23T00:00:00",
          "2022-11-27T00:00:00",
          "2022-12-02T00:00:00",
          "2022-12-05T00:00:00",
          "2022-12-11T00:00:00",
          "2022-12-19T00:00:00",
          "2022-12-21T00:00:00",
          "2022-12-23T00:00:00",
          "2022-12-28T00:00:00",
          "2022-12-30T00:00:00",
          "2023-01-11T00:00:00",
          "2023-01-16T00:00:00",
          "2023-01-20T00:00:00",
          "2023-01-21T00:00:00",
          "2023-01-28T00:00:00",
          "2023-02-09T00:00:00",
          "2023-02-11T00:00:00",
          "2023-02-15T00:00:00",
          "2023-02-24T00:00:00",
          "2023-02-26T00:00:00",
          "2023-02-28T00:00:00",
          "2023-03-03T00:00:00",
          "2023-03-11T00:00:00",
          "2023-03-13T00:00:00",
          "2023-03-17T00:00:00",
          "2023-03-21T00:00:00",
          "2023-03-25T00:00:00",
          "2023-03-26T00:00:00",
          "2023-03-28T00:00:00",
          "2023-04-02T00:00:00",
          "2023-04-05T00:00:00",
          "2023-04-07T00:00:00"
         ],
         "xaxis": "x",
         "y": [
          1,
          0.6666666666666666,
          0.5714285714285714,
          0.5,
          0.5,
          0.4615384615384615,
          0.5,
          0.5294117647058824,
          0.5,
          0.5,
          0.4761904761904761,
          0.4545454545454545,
          0.4782608695652174,
          0.44,
          0.4230769230769231,
          0.4333333333333333,
          0.4375,
          0.4736842105263157,
          0.4871794871794871,
          0.5121951219512195,
          0.52,
          0.5294117647058824,
          0.5192307692307693,
          0.5283018867924528,
          0.5357142857142857,
          0.543859649122807,
          0.5517241379310345,
          0.55,
          0.5573770491803278,
          0.5384615384615384,
          0.5454545454545454,
          0.5522388059701493,
          0.5507246376811594,
          0.5571428571428572,
          0.5633802816901409,
          0.5694444444444444,
          1,
          0.6666666666666666,
          0.5714285714285714,
          0.4444444444444444,
          0.3571428571428571,
          0.4,
          0.4375,
          0.4705882352941176,
          0.5,
          0.5238095238095238,
          0.5217391304347826,
          0.5,
          0.5,
          0.4814814814814814,
          0.4827586206896552,
          0.4666666666666667,
          0.4545454545454545,
          0.425,
          0.4047619047619047,
          0.4186046511627907,
          0.4318181818181818,
          0.4444444444444444,
          0.4680851063829787,
          0.4791666666666667,
          0.4897959183673469,
          0.48,
          0.4901960784313725,
          0.4814814814814814,
          0.4727272727272727,
          0.4736842105263157,
          0.4833333333333333,
          0.4838709677419355,
          0.4848484848484848,
          0.4925373134328358,
          0.5,
          0.5,
          0.4929577464788732,
          0.5,
          0.5194805194805194,
          0.5256410256410257,
          0.525,
          1,
          1,
          0.6666666666666666,
          0.6666666666666666,
          0.7,
          0.6363636363636364,
          0.6666666666666666,
          0.6,
          0.625,
          0.6111111111111112,
          0.55,
          0.5652173913043478,
          0.5416666666666666,
          0.5185185185185185,
          0.5161290322580645,
          0.5,
          0.5151515151515151,
          0.4857142857142857,
          0.4722222222222222,
          0.4634146341463415,
          0.5,
          0.5217391304347826,
          0.5106382978723404,
          0.5,
          0.5,
          0.5087719298245614,
          0.4915254237288136,
          0.5,
          0.5081967213114754,
          0.5,
          0.5079365079365079,
          0.5,
          0.4927536231884058,
          0.5,
          0.5,
          0.5,
          0.4933333333333333,
          0.5,
          0.5,
          0.5125,
          0.5061728395061729
         ],
         "yaxis": "y"
        },
        {
         "name": "Offensive Efficiency",
         "type": "scatter",
         "x": [
          "2020-12-28T00:00:00",
          "2021-01-02T00:00:00",
          "2021-01-04T00:00:00",
          "2021-01-06T00:00:00",
          "2021-01-11T00:00:00",
          "2021-01-18T00:00:00",
          "2021-01-20T00:00:00",
          "2021-01-26T00:00:00",
          "2021-01-27T00:00:00",
          "2021-02-01T00:00:00",
          "2021-02-03T00:00:00",
          "2021-02-04T00:00:00",
          "2021-02-06T00:00:00",
          "2021-02-12T00:00:00",
          "2021-02-13T00:00:00",
          "2021-02-21T00:00:00",
          "2021-02-24T00:00:00",
          "2021-03-13T00:00:00",
          "2021-03-14T00:00:00",
          "2021-03-18T00:00:00",
          "2021-04-04T00:00:00",
          "2021-04-06T00:00:00",
          "2021-04-07T00:00:00",
          "2021-04-09T00:00:00",
          "2021-04-15T00:00:00",
          "2021-04-18T00:00:00",
          "2021-04-20T00:00:00",
          "2021-04-23T00:00:00",
          "2021-04-25T00:00:00",
          "2021-05-01T00:00:00",
          "2021-05-03T00:00:00",
          "2021-05-05T00:00:00",
          "2021-05-10T00:00:00",
          "2021-05-12T00:00:00",
          "2021-05-13T00:00:00",
          "2021-05-16T00:00:00",
          "2021-10-21T00:00:00",
          "2021-10-25T00:00:00",
          "2021-11-01T00:00:00",
          "2021-11-04T00:00:00",
          "2021-11-14T00:00:00",
          "2021-11-15T00:00:00",
          "2021-11-17T00:00:00",
          "2021-11-20T00:00:00",
          "2021-11-22T00:00:00",
          "2021-11-27T00:00:00",
          "2021-12-03T00:00:00",
          "2021-12-05T00:00:00",
          "2021-12-10T00:00:00",
          "2021-12-13T00:00:00",
          "2021-12-17T00:00:00",
          "2021-12-22T00:00:00",
          "2021-12-27T00:00:00",
          "2022-01-12T00:00:00",
          "2022-01-15T00:00:00",
          "2022-01-17T00:00:00",
          "2022-01-19T00:00:00",
          "2022-01-21T00:00:00",
          "2022-01-26T00:00:00",
          "2022-01-28T00:00:00",
          "2022-01-30T00:00:00",
          "2022-01-31T00:00:00",
          "2022-02-03T00:00:00",
          "2022-02-08T00:00:00",
          "2022-02-11T00:00:00",
          "2022-02-15T00:00:00",
          "2022-02-26T00:00:00",
          "2022-03-03T00:00:00",
          "2022-03-11T00:00:00",
          "2022-03-13T00:00:00",
          "2022-03-14T00:00:00",
          "2022-03-18T00:00:00",
          "2022-03-20T00:00:00",
          "2022-03-25T00:00:00",
          "2022-03-31T00:00:00",
          "2022-04-02T00:00:00",
          "2022-04-06T00:00:00",
          "2022-10-19T00:00:00",
          "2022-10-21T00:00:00",
          "2022-10-23T00:00:00",
          "2022-11-05T00:00:00",
          "2022-11-07T00:00:00",
          "2022-11-09T00:00:00",
          "2022-11-10T00:00:00",
          "2022-11-16T00:00:00",
          "2022-11-19T00:00:00",
          "2022-11-23T00:00:00",
          "2022-11-27T00:00:00",
          "2022-12-02T00:00:00",
          "2022-12-05T00:00:00",
          "2022-12-11T00:00:00",
          "2022-12-19T00:00:00",
          "2022-12-21T00:00:00",
          "2022-12-23T00:00:00",
          "2022-12-28T00:00:00",
          "2022-12-30T00:00:00",
          "2023-01-11T00:00:00",
          "2023-01-16T00:00:00",
          "2023-01-20T00:00:00",
          "2023-01-21T00:00:00",
          "2023-01-28T00:00:00",
          "2023-02-09T00:00:00",
          "2023-02-11T00:00:00",
          "2023-02-15T00:00:00",
          "2023-02-24T00:00:00",
          "2023-02-26T00:00:00",
          "2023-02-28T00:00:00",
          "2023-03-03T00:00:00",
          "2023-03-11T00:00:00",
          "2023-03-13T00:00:00",
          "2023-03-17T00:00:00",
          "2023-03-21T00:00:00",
          "2023-03-25T00:00:00",
          "2023-03-26T00:00:00",
          "2023-03-28T00:00:00",
          "2023-04-02T00:00:00",
          "2023-04-05T00:00:00",
          "2023-04-07T00:00:00"
         ],
         "xaxis": "x",
         "y": [
          0.5654678425576258,
          0.5597889527011253,
          0.5430667063138072,
          0.52046783625731,
          0.5119854367641978,
          0.5174501424501424,
          0.5470136345136346,
          0.5648055323493919,
          0.5848925592670199,
          0.5592588040837554,
          0.5613740870028459,
          0.5396374902662491,
          0.5616243075920494,
          0.5753432494279175,
          0.574115859247039,
          0.5926919464540824,
          0.6045276045276045,
          0.5691525425436317,
          0.5617338519566242,
          0.5853858113084035,
          0.5752853207398662,
          0.5758752912413411,
          0.5644304660492875,
          0.6072876089064304,
          0.5528556478358125,
          0.5666913225910276,
          0.5622960181957232,
          0.5823390151515151,
          0.584585619122257,
          0.5071238775884185,
          0.5619963730346845,
          0.6330810515959986,
          0.6405915291818558,
          0.5894716345837003,
          0.5714047872485603,
          0.5942314684951432,
          0.5757575757575758,
          0.5605378105378106,
          0.5701736715604203,
          0.545968900380665,
          0.5486022769890674,
          0.5973761725121888,
          0.6132720108379338,
          0.620900015017662,
          0.5990162615162615,
          0.5908506308506308,
          0.5273070607553366,
          0.5740743855714419,
          0.5722518010339724,
          0.5531821607962856,
          0.5630943330185452,
          0.5466945009144498,
          0.5291915713952113,
          0.5165987555751336,
          0.5394660894660895,
          0.5691311612364244,
          0.5910205621580834,
          0.5978339793488591,
          0.5984219844918246,
          0.5773443030367847,
          0.6146523296957241,
          0.5863426451661745,
          0.6010777192232825,
          0.594463092937307,
          0.5886261676499508,
          0.5566559007198723,
          0.5962419909788331,
          0.5947731400805835,
          0.602450744589604,
          0.6246442063861719,
          0.6056855193459908,
          0.5680416005640754,
          0.5632120033342595,
          0.5718101210503315,
          0.6318438003220612,
          0.5906171776597949,
          0.5769848107131016,
          0.6,
          0.5682926829268293,
          0.5601483383254885,
          0.5599421330648525,
          0.5668949075106298,
          0.5747689232586612,
          0.5549656271395756,
          0.553102173791829,
          0.5739656916127505,
          0.5492095143142003,
          0.5202029852088298,
          0.6212861212861213,
          0.6122638115748352,
          0.5324968775072997,
          0.607655293088364,
          0.5729680848717439,
          0.5888150794072631,
          0.5976275328377966,
          0.5746180038670157,
          0.5583597811562414,
          0.5791181041181042,
          0.6513700351935646,
          0.6395191409897293,
          0.5984012158418448,
          0.5714682787853519,
          0.5874955484330484,
          0.5903660983624218,
          0.5977516857941159,
          0.5869279962093643,
          0.5987945610171056,
          0.5992214735854117,
          0.5960320912474023,
          0.5699773711137347,
          0.5827377016922471,
          0.6092979295084558,
          0.6370339233617687,
          0.6251708205895751,
          0.6153732400410065,
          0.581924606014102,
          0.6076853967716482,
          0.6028850791566481
         ],
         "yaxis": "y2"
        }
       ],
       "layout": {
        "template": {
         "data": {
          "bar": [
           {
            "error_x": {
             "color": "#2a3f5f"
            },
            "error_y": {
             "color": "#2a3f5f"
            },
            "marker": {
             "line": {
              "color": "#E5ECF6",
              "width": 0.5
             },
             "pattern": {
              "fillmode": "overlay",
              "size": 10,
              "solidity": 0.2
             }
            },
            "type": "bar"
           }
          ],
          "barpolar": [
           {
            "marker": {
             "line": {
              "color": "#E5ECF6",
              "width": 0.5
             },
             "pattern": {
              "fillmode": "overlay",
              "size": 10,
              "solidity": 0.2
             }
            },
            "type": "barpolar"
           }
          ],
          "carpet": [
           {
            "aaxis": {
             "endlinecolor": "#2a3f5f",
             "gridcolor": "white",
             "linecolor": "white",
             "minorgridcolor": "white",
             "startlinecolor": "#2a3f5f"
            },
            "baxis": {
             "endlinecolor": "#2a3f5f",
             "gridcolor": "white",
             "linecolor": "white",
             "minorgridcolor": "white",
             "startlinecolor": "#2a3f5f"
            },
            "type": "carpet"
           }
          ],
          "choropleth": [
           {
            "colorbar": {
             "outlinewidth": 0,
             "ticks": ""
            },
            "type": "choropleth"
           }
          ],
          "contour": [
           {
            "colorbar": {
             "outlinewidth": 0,
             "ticks": ""
            },
            "colorscale": [
             [
              0,
              "#0d0887"
             ],
             [
              0.1111111111111111,
              "#46039f"
             ],
             [
              0.2222222222222222,
              "#7201a8"
             ],
             [
              0.3333333333333333,
              "#9c179e"
             ],
             [
              0.4444444444444444,
              "#bd3786"
             ],
             [
              0.5555555555555556,
              "#d8576b"
             ],
             [
              0.6666666666666666,
              "#ed7953"
             ],
             [
              0.7777777777777778,
              "#fb9f3a"
             ],
             [
              0.8888888888888888,
              "#fdca26"
             ],
             [
              1,
              "#f0f921"
             ]
            ],
            "type": "contour"
           }
          ],
          "contourcarpet": [
           {
            "colorbar": {
             "outlinewidth": 0,
             "ticks": ""
            },
            "type": "contourcarpet"
           }
          ],
          "heatmap": [
           {
            "colorbar": {
             "outlinewidth": 0,
             "ticks": ""
            },
            "colorscale": [
             [
              0,
              "#0d0887"
             ],
             [
              0.1111111111111111,
              "#46039f"
             ],
             [
              0.2222222222222222,
              "#7201a8"
             ],
             [
              0.3333333333333333,
              "#9c179e"
             ],
             [
              0.4444444444444444,
              "#bd3786"
             ],
             [
              0.5555555555555556,
              "#d8576b"
             ],
             [
              0.6666666666666666,
              "#ed7953"
             ],
             [
              0.7777777777777778,
              "#fb9f3a"
             ],
             [
              0.8888888888888888,
              "#fdca26"
             ],
             [
              1,
              "#f0f921"
             ]
            ],
            "type": "heatmap"
           }
          ],
          "heatmapgl": [
           {
            "colorbar": {
             "outlinewidth": 0,
             "ticks": ""
            },
            "colorscale": [
             [
              0,
              "#0d0887"
             ],
             [
              0.1111111111111111,
              "#46039f"
             ],
             [
              0.2222222222222222,
              "#7201a8"
             ],
             [
              0.3333333333333333,
              "#9c179e"
             ],
             [
              0.4444444444444444,
              "#bd3786"
             ],
             [
              0.5555555555555556,
              "#d8576b"
             ],
             [
              0.6666666666666666,
              "#ed7953"
             ],
             [
              0.7777777777777778,
              "#fb9f3a"
             ],
             [
              0.8888888888888888,
              "#fdca26"
             ],
             [
              1,
              "#f0f921"
             ]
            ],
            "type": "heatmapgl"
           }
          ],
          "histogram": [
           {
            "marker": {
             "pattern": {
              "fillmode": "overlay",
              "size": 10,
              "solidity": 0.2
             }
            },
            "type": "histogram"
           }
          ],
          "histogram2d": [
           {
            "colorbar": {
             "outlinewidth": 0,
             "ticks": ""
            },
            "colorscale": [
             [
              0,
              "#0d0887"
             ],
             [
              0.1111111111111111,
              "#46039f"
             ],
             [
              0.2222222222222222,
              "#7201a8"
             ],
             [
              0.3333333333333333,
              "#9c179e"
             ],
             [
              0.4444444444444444,
              "#bd3786"
             ],
             [
              0.5555555555555556,
              "#d8576b"
             ],
             [
              0.6666666666666666,
              "#ed7953"
             ],
             [
              0.7777777777777778,
              "#fb9f3a"
             ],
             [
              0.8888888888888888,
              "#fdca26"
             ],
             [
              1,
              "#f0f921"
             ]
            ],
            "type": "histogram2d"
           }
          ],
          "histogram2dcontour": [
           {
            "colorbar": {
             "outlinewidth": 0,
             "ticks": ""
            },
            "colorscale": [
             [
              0,
              "#0d0887"
             ],
             [
              0.1111111111111111,
              "#46039f"
             ],
             [
              0.2222222222222222,
              "#7201a8"
             ],
             [
              0.3333333333333333,
              "#9c179e"
             ],
             [
              0.4444444444444444,
              "#bd3786"
             ],
             [
              0.5555555555555556,
              "#d8576b"
             ],
             [
              0.6666666666666666,
              "#ed7953"
             ],
             [
              0.7777777777777778,
              "#fb9f3a"
             ],
             [
              0.8888888888888888,
              "#fdca26"
             ],
             [
              1,
              "#f0f921"
             ]
            ],
            "type": "histogram2dcontour"
           }
          ],
          "mesh3d": [
           {
            "colorbar": {
             "outlinewidth": 0,
             "ticks": ""
            },
            "type": "mesh3d"
           }
          ],
          "parcoords": [
           {
            "line": {
             "colorbar": {
              "outlinewidth": 0,
              "ticks": ""
             }
            },
            "type": "parcoords"
           }
          ],
          "pie": [
           {
            "automargin": true,
            "type": "pie"
           }
          ],
          "scatter": [
           {
            "fillpattern": {
             "fillmode": "overlay",
             "size": 10,
             "solidity": 0.2
            },
            "type": "scatter"
           }
          ],
          "scatter3d": [
           {
            "line": {
             "colorbar": {
              "outlinewidth": 0,
              "ticks": ""
             }
            },
            "marker": {
             "colorbar": {
              "outlinewidth": 0,
              "ticks": ""
             }
            },
            "type": "scatter3d"
           }
          ],
          "scattercarpet": [
           {
            "marker": {
             "colorbar": {
              "outlinewidth": 0,
              "ticks": ""
             }
            },
            "type": "scattercarpet"
           }
          ],
          "scattergeo": [
           {
            "marker": {
             "colorbar": {
              "outlinewidth": 0,
              "ticks": ""
             }
            },
            "type": "scattergeo"
           }
          ],
          "scattergl": [
           {
            "marker": {
             "colorbar": {
              "outlinewidth": 0,
              "ticks": ""
             }
            },
            "type": "scattergl"
           }
          ],
          "scattermapbox": [
           {
            "marker": {
             "colorbar": {
              "outlinewidth": 0,
              "ticks": ""
             }
            },
            "type": "scattermapbox"
           }
          ],
          "scatterpolar": [
           {
            "marker": {
             "colorbar": {
              "outlinewidth": 0,
              "ticks": ""
             }
            },
            "type": "scatterpolar"
           }
          ],
          "scatterpolargl": [
           {
            "marker": {
             "colorbar": {
              "outlinewidth": 0,
              "ticks": ""
             }
            },
            "type": "scatterpolargl"
           }
          ],
          "scatterternary": [
           {
            "marker": {
             "colorbar": {
              "outlinewidth": 0,
              "ticks": ""
             }
            },
            "type": "scatterternary"
           }
          ],
          "surface": [
           {
            "colorbar": {
             "outlinewidth": 0,
             "ticks": ""
            },
            "colorscale": [
             [
              0,
              "#0d0887"
             ],
             [
              0.1111111111111111,
              "#46039f"
             ],
             [
              0.2222222222222222,
              "#7201a8"
             ],
             [
              0.3333333333333333,
              "#9c179e"
             ],
             [
              0.4444444444444444,
              "#bd3786"
             ],
             [
              0.5555555555555556,
              "#d8576b"
             ],
             [
              0.6666666666666666,
              "#ed7953"
             ],
             [
              0.7777777777777778,
              "#fb9f3a"
             ],
             [
              0.8888888888888888,
              "#fdca26"
             ],
             [
              1,
              "#f0f921"
             ]
            ],
            "type": "surface"
           }
          ],
          "table": [
           {
            "cells": {
             "fill": {
              "color": "#EBF0F8"
             },
             "line": {
              "color": "white"
             }
            },
            "header": {
             "fill": {
              "color": "#C8D4E3"
             },
             "line": {
              "color": "white"
             }
            },
            "type": "table"
           }
          ]
         },
         "layout": {
          "annotationdefaults": {
           "arrowcolor": "#2a3f5f",
           "arrowhead": 0,
           "arrowwidth": 1
          },
          "autotypenumbers": "strict",
          "coloraxis": {
           "colorbar": {
            "outlinewidth": 0,
            "ticks": ""
           }
          },
          "colorscale": {
           "diverging": [
            [
             0,
             "#8e0152"
            ],
            [
             0.1,
             "#c51b7d"
            ],
            [
             0.2,
             "#de77ae"
            ],
            [
             0.3,
             "#f1b6da"
            ],
            [
             0.4,
             "#fde0ef"
            ],
            [
             0.5,
             "#f7f7f7"
            ],
            [
             0.6,
             "#e6f5d0"
            ],
            [
             0.7,
             "#b8e186"
            ],
            [
             0.8,
             "#7fbc41"
            ],
            [
             0.9,
             "#4d9221"
            ],
            [
             1,
             "#276419"
            ]
           ],
           "sequential": [
            [
             0,
             "#0d0887"
            ],
            [
             0.1111111111111111,
             "#46039f"
            ],
            [
             0.2222222222222222,
             "#7201a8"
            ],
            [
             0.3333333333333333,
             "#9c179e"
            ],
            [
             0.4444444444444444,
             "#bd3786"
            ],
            [
             0.5555555555555556,
             "#d8576b"
            ],
            [
             0.6666666666666666,
             "#ed7953"
            ],
            [
             0.7777777777777778,
             "#fb9f3a"
            ],
            [
             0.8888888888888888,
             "#fdca26"
            ],
            [
             1,
             "#f0f921"
            ]
           ],
           "sequentialminus": [
            [
             0,
             "#0d0887"
            ],
            [
             0.1111111111111111,
             "#46039f"
            ],
            [
             0.2222222222222222,
             "#7201a8"
            ],
            [
             0.3333333333333333,
             "#9c179e"
            ],
            [
             0.4444444444444444,
             "#bd3786"
            ],
            [
             0.5555555555555556,
             "#d8576b"
            ],
            [
             0.6666666666666666,
             "#ed7953"
            ],
            [
             0.7777777777777778,
             "#fb9f3a"
            ],
            [
             0.8888888888888888,
             "#fdca26"
            ],
            [
             1,
             "#f0f921"
            ]
           ]
          },
          "colorway": [
           "#636efa",
           "#EF553B",
           "#00cc96",
           "#ab63fa",
           "#FFA15A",
           "#19d3f3",
           "#FF6692",
           "#B6E880",
           "#FF97FF",
           "#FECB52"
          ],
          "font": {
           "color": "#2a3f5f"
          },
          "geo": {
           "bgcolor": "white",
           "lakecolor": "white",
           "landcolor": "#E5ECF6",
           "showlakes": true,
           "showland": true,
           "subunitcolor": "white"
          },
          "hoverlabel": {
           "align": "left"
          },
          "hovermode": "closest",
          "mapbox": {
           "style": "light"
          },
          "paper_bgcolor": "white",
          "plot_bgcolor": "#E5ECF6",
          "polar": {
           "angularaxis": {
            "gridcolor": "white",
            "linecolor": "white",
            "ticks": ""
           },
           "bgcolor": "#E5ECF6",
           "radialaxis": {
            "gridcolor": "white",
            "linecolor": "white",
            "ticks": ""
           }
          },
          "scene": {
           "xaxis": {
            "backgroundcolor": "#E5ECF6",
            "gridcolor": "white",
            "gridwidth": 2,
            "linecolor": "white",
            "showbackground": true,
            "ticks": "",
            "zerolinecolor": "white"
           },
           "yaxis": {
            "backgroundcolor": "#E5ECF6",
            "gridcolor": "white",
            "gridwidth": 2,
            "linecolor": "white",
            "showbackground": true,
            "ticks": "",
            "zerolinecolor": "white"
           },
           "zaxis": {
            "backgroundcolor": "#E5ECF6",
            "gridcolor": "white",
            "gridwidth": 2,
            "linecolor": "white",
            "showbackground": true,
            "ticks": "",
            "zerolinecolor": "white"
           }
          },
          "shapedefaults": {
           "line": {
            "color": "#2a3f5f"
           }
          },
          "ternary": {
           "aaxis": {
            "gridcolor": "white",
            "linecolor": "white",
            "ticks": ""
           },
           "baxis": {
            "gridcolor": "white",
            "linecolor": "white",
            "ticks": ""
           },
           "bgcolor": "#E5ECF6",
           "caxis": {
            "gridcolor": "white",
            "linecolor": "white",
            "ticks": ""
           }
          },
          "title": {
           "x": 0.05
          },
          "xaxis": {
           "automargin": true,
           "gridcolor": "white",
           "linecolor": "white",
           "ticks": "",
           "title": {
            "standoff": 15
           },
           "zerolinecolor": "white",
           "zerolinewidth": 2
          },
          "yaxis": {
           "automargin": true,
           "gridcolor": "white",
           "linecolor": "white",
           "ticks": "",
           "title": {
            "standoff": 15
           },
           "zerolinecolor": "white",
           "zerolinewidth": 2
          }
         }
        },
        "title": {
         "text": "Total Win Percentage and Offensive Efficiency Over Time"
        },
        "xaxis": {
         "anchor": "y",
         "domain": [
          0,
          0.94
         ],
         "title": {
          "text": "Game Date"
         }
        },
        "yaxis": {
         "anchor": "x",
         "domain": [
          0,
          1
         ],
         "title": {
          "text": "Total Win Percentage"
         }
        },
        "yaxis2": {
         "anchor": "x",
         "overlaying": "y",
         "side": "right",
         "title": {
          "text": "Offensive Efficiency"
         }
        }
       }
      }
     },
     "metadata": {},
     "output_type": "display_data"
    }
   ],
   "source": [
    "from plotly.subplots import make_subplots\n",
    "import plotly.graph_objects as go\n",
    "\n",
    "# Create a figure with secondary y-axis\n",
    "fig = make_subplots(specs=[[{\"secondary_y\": True}]])\n",
    "\n",
    "# Add traces\n",
    "fig.add_trace(\n",
    "    go.Scatter(x=hawks_data_sorted['GAME_DATE'], y=hawks_data_sorted['TOTAL_WIN_PCTG'], name=\"Total Win Percentage\"),\n",
    "    secondary_y=False,\n",
    ")\n",
    "\n",
    "fig.add_trace(\n",
    "    go.Scatter(x=hawks_data_sorted['GAME_DATE'], y=hawks_data_sorted['ROLLING_OE'], name=\"Offensive Efficiency\"),\n",
    "    secondary_y=True,\n",
    ")\n",
    "\n",
    "# Add figure title\n",
    "fig.update_layout(title_text=\"Total Win Percentage and Offensive Efficiency Over Time\")\n",
    "\n",
    "# Set x-axis title\n",
    "fig.update_xaxes(title_text=\"Game Date\")\n",
    "\n",
    "# Set y-axes titles\n",
    "fig.update_yaxes(title_text=\"Total Win Percentage\", secondary_y=False)\n",
    "fig.update_yaxes(title_text=\"Offensive Efficiency\", secondary_y=True)\n",
    "\n",
    "fig.show()\n"
   ]
  },
  {
   "cell_type": "code",
   "execution_count": null,
   "metadata": {},
   "outputs": [],
   "source": []
  },
  {
   "cell_type": "markdown",
   "metadata": {},
   "source": [
    "# Model"
   ]
  },
  {
   "cell_type": "markdown",
   "metadata": {},
   "source": []
  }
 ],
 "metadata": {
  "kernelspec": {
   "display_name": "base",
   "language": "python",
   "name": "python3"
  },
  "language_info": {
   "codemirror_mode": {
    "name": "ipython",
    "version": 3
   },
   "file_extension": ".py",
   "mimetype": "text/x-python",
   "name": "python",
   "nbconvert_exporter": "python",
   "pygments_lexer": "ipython3",
   "version": "3.11.0"
  }
 },
 "nbformat": 4,
 "nbformat_minor": 2
}
