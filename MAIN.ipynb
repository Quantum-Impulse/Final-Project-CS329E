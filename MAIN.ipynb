{
 "cells": [
  {
   "cell_type": "markdown",
   "metadata": {},
   "source": [
    "# TITLE: NBA Wins Analysis  \n",
    "\n",
    "## Name1: Alec\n",
    "## Name2: Enrique\n",
    "## Name3: Jackson"
   ]
  },
  {
   "cell_type": "code",
   "execution_count": 1,
   "metadata": {},
   "outputs": [],
   "source": [
    "## Libaries\n",
    "import pandas as pd\n",
    "import numpy as np\n",
    "import plotly.express as px\n",
    "import pytz # get timezone inf\n",
    "import matplotlib.pyplot as plt\n",
    "import datetime\n",
    "import plotly.graph_objects as go\n",
    "import altair as alt\n"
   ]
  },
  {
   "cell_type": "code",
   "execution_count": 2,
   "metadata": {},
   "outputs": [],
   "source": [
    "# Files\n",
    "API_GameLogs = 'gameLogs.csv'\n",
    "data = pd.read_csv(API_GameLogs)\n",
    "\n",
    "data.tail()\n",
    "\n",
    "\n",
    "# Enrique's Datasets\n",
    "game_data = pd.read_csv('Datasets/NBA Database Datasets/game.csv')\n",
    "players = pd.read_csv('Datasets/NBA Database Datasets/player.csv')\n",
    "team_data = pd.read_csv('Datasets/NBA Database Datasets/team.csv')\n"
   ]
  },
  {
   "cell_type": "code",
   "execution_count": 3,
   "metadata": {},
   "outputs": [],
   "source": [
    "# Jackson's Datasets\n",
    "merged = pd.read_csv('Datasets/Jackson Data/merged.csv')\n",
    "teamsum_df = pd.read_csv('Datasets/Jackson Data/teamsum.csv')"
   ]
  },
  {
   "cell_type": "code",
   "execution_count": 4,
   "metadata": {},
   "outputs": [],
   "source": [
    "# Alec's Datasets\n",
    "games_data = pd.read_csv('./ALEC FOLDER/games.csv' )\n",
    "all_stats = pd.read_csv('.//ALEC FOLDER/nba_2022-23_all_stats.csv')\n",
    "summary = pd.read_csv('./ALEC FOLDER/Team Summaries.csv')"
   ]
  },
  {
   "cell_type": "markdown",
   "metadata": {},
   "source": [
    "# Basics Graphs"
   ]
  },
  {
   "cell_type": "markdown",
   "metadata": {},
   "source": [
    "### Alec's"
   ]
  },
  {
   "cell_type": "code",
   "execution_count": 5,
   "metadata": {},
   "outputs": [
    {
     "data": {
      "application/vnd.plotly.v1+json": {
       "config": {
        "plotlyServerURL": "https://plot.ly"
       },
       "data": [
        {
         "hovertemplate": "Year=%{x}<br>Percentage of Home Wins=%{y}<extra></extra>",
         "legendgroup": "",
         "line": {
          "color": "#636efa",
          "dash": "solid"
         },
         "marker": {
          "symbol": "circle"
         },
         "mode": "markers+lines",
         "name": "",
         "orientation": "v",
         "showlegend": false,
         "type": "scatter",
         "x": [
          2003,
          2004,
          2005,
          2006,
          2007,
          2008,
          2009,
          2010,
          2011,
          2012,
          2013,
          2014,
          2015,
          2016,
          2017,
          2018,
          2019,
          2020,
          2021,
          2022
         ],
         "xaxis": "x",
         "y": [
          51.77304964539007,
          61.312741312741316,
          59.02439024390244,
          61.88835286009648,
          58.47578347578347,
          59.986130374479885,
          62.745098039215684,
          59.91620111731844,
          61.092896174863384,
          60.25316455696203,
          58.729050279329606,
          56.90492713393477,
          59.61945031712473,
          58.36249125262422,
          58.15102328863797,
          59.62373371924746,
          56.531531531531535,
          52.21130221130221,
          55.144032921810705,
          56.65171898355755
         ],
         "yaxis": "y"
        }
       ],
       "layout": {
        "hovermode": "x",
        "legend": {
         "tracegroupgap": 0
        },
        "template": {
         "data": {
          "bar": [
           {
            "error_x": {
             "color": "#2a3f5f"
            },
            "error_y": {
             "color": "#2a3f5f"
            },
            "marker": {
             "line": {
              "color": "#E5ECF6",
              "width": 0.5
             },
             "pattern": {
              "fillmode": "overlay",
              "size": 10,
              "solidity": 0.2
             }
            },
            "type": "bar"
           }
          ],
          "barpolar": [
           {
            "marker": {
             "line": {
              "color": "#E5ECF6",
              "width": 0.5
             },
             "pattern": {
              "fillmode": "overlay",
              "size": 10,
              "solidity": 0.2
             }
            },
            "type": "barpolar"
           }
          ],
          "carpet": [
           {
            "aaxis": {
             "endlinecolor": "#2a3f5f",
             "gridcolor": "white",
             "linecolor": "white",
             "minorgridcolor": "white",
             "startlinecolor": "#2a3f5f"
            },
            "baxis": {
             "endlinecolor": "#2a3f5f",
             "gridcolor": "white",
             "linecolor": "white",
             "minorgridcolor": "white",
             "startlinecolor": "#2a3f5f"
            },
            "type": "carpet"
           }
          ],
          "choropleth": [
           {
            "colorbar": {
             "outlinewidth": 0,
             "ticks": ""
            },
            "type": "choropleth"
           }
          ],
          "contour": [
           {
            "colorbar": {
             "outlinewidth": 0,
             "ticks": ""
            },
            "colorscale": [
             [
              0,
              "#0d0887"
             ],
             [
              0.1111111111111111,
              "#46039f"
             ],
             [
              0.2222222222222222,
              "#7201a8"
             ],
             [
              0.3333333333333333,
              "#9c179e"
             ],
             [
              0.4444444444444444,
              "#bd3786"
             ],
             [
              0.5555555555555556,
              "#d8576b"
             ],
             [
              0.6666666666666666,
              "#ed7953"
             ],
             [
              0.7777777777777778,
              "#fb9f3a"
             ],
             [
              0.8888888888888888,
              "#fdca26"
             ],
             [
              1,
              "#f0f921"
             ]
            ],
            "type": "contour"
           }
          ],
          "contourcarpet": [
           {
            "colorbar": {
             "outlinewidth": 0,
             "ticks": ""
            },
            "type": "contourcarpet"
           }
          ],
          "heatmap": [
           {
            "colorbar": {
             "outlinewidth": 0,
             "ticks": ""
            },
            "colorscale": [
             [
              0,
              "#0d0887"
             ],
             [
              0.1111111111111111,
              "#46039f"
             ],
             [
              0.2222222222222222,
              "#7201a8"
             ],
             [
              0.3333333333333333,
              "#9c179e"
             ],
             [
              0.4444444444444444,
              "#bd3786"
             ],
             [
              0.5555555555555556,
              "#d8576b"
             ],
             [
              0.6666666666666666,
              "#ed7953"
             ],
             [
              0.7777777777777778,
              "#fb9f3a"
             ],
             [
              0.8888888888888888,
              "#fdca26"
             ],
             [
              1,
              "#f0f921"
             ]
            ],
            "type": "heatmap"
           }
          ],
          "heatmapgl": [
           {
            "colorbar": {
             "outlinewidth": 0,
             "ticks": ""
            },
            "colorscale": [
             [
              0,
              "#0d0887"
             ],
             [
              0.1111111111111111,
              "#46039f"
             ],
             [
              0.2222222222222222,
              "#7201a8"
             ],
             [
              0.3333333333333333,
              "#9c179e"
             ],
             [
              0.4444444444444444,
              "#bd3786"
             ],
             [
              0.5555555555555556,
              "#d8576b"
             ],
             [
              0.6666666666666666,
              "#ed7953"
             ],
             [
              0.7777777777777778,
              "#fb9f3a"
             ],
             [
              0.8888888888888888,
              "#fdca26"
             ],
             [
              1,
              "#f0f921"
             ]
            ],
            "type": "heatmapgl"
           }
          ],
          "histogram": [
           {
            "marker": {
             "pattern": {
              "fillmode": "overlay",
              "size": 10,
              "solidity": 0.2
             }
            },
            "type": "histogram"
           }
          ],
          "histogram2d": [
           {
            "colorbar": {
             "outlinewidth": 0,
             "ticks": ""
            },
            "colorscale": [
             [
              0,
              "#0d0887"
             ],
             [
              0.1111111111111111,
              "#46039f"
             ],
             [
              0.2222222222222222,
              "#7201a8"
             ],
             [
              0.3333333333333333,
              "#9c179e"
             ],
             [
              0.4444444444444444,
              "#bd3786"
             ],
             [
              0.5555555555555556,
              "#d8576b"
             ],
             [
              0.6666666666666666,
              "#ed7953"
             ],
             [
              0.7777777777777778,
              "#fb9f3a"
             ],
             [
              0.8888888888888888,
              "#fdca26"
             ],
             [
              1,
              "#f0f921"
             ]
            ],
            "type": "histogram2d"
           }
          ],
          "histogram2dcontour": [
           {
            "colorbar": {
             "outlinewidth": 0,
             "ticks": ""
            },
            "colorscale": [
             [
              0,
              "#0d0887"
             ],
             [
              0.1111111111111111,
              "#46039f"
             ],
             [
              0.2222222222222222,
              "#7201a8"
             ],
             [
              0.3333333333333333,
              "#9c179e"
             ],
             [
              0.4444444444444444,
              "#bd3786"
             ],
             [
              0.5555555555555556,
              "#d8576b"
             ],
             [
              0.6666666666666666,
              "#ed7953"
             ],
             [
              0.7777777777777778,
              "#fb9f3a"
             ],
             [
              0.8888888888888888,
              "#fdca26"
             ],
             [
              1,
              "#f0f921"
             ]
            ],
            "type": "histogram2dcontour"
           }
          ],
          "mesh3d": [
           {
            "colorbar": {
             "outlinewidth": 0,
             "ticks": ""
            },
            "type": "mesh3d"
           }
          ],
          "parcoords": [
           {
            "line": {
             "colorbar": {
              "outlinewidth": 0,
              "ticks": ""
             }
            },
            "type": "parcoords"
           }
          ],
          "pie": [
           {
            "automargin": true,
            "type": "pie"
           }
          ],
          "scatter": [
           {
            "fillpattern": {
             "fillmode": "overlay",
             "size": 10,
             "solidity": 0.2
            },
            "type": "scatter"
           }
          ],
          "scatter3d": [
           {
            "line": {
             "colorbar": {
              "outlinewidth": 0,
              "ticks": ""
             }
            },
            "marker": {
             "colorbar": {
              "outlinewidth": 0,
              "ticks": ""
             }
            },
            "type": "scatter3d"
           }
          ],
          "scattercarpet": [
           {
            "marker": {
             "colorbar": {
              "outlinewidth": 0,
              "ticks": ""
             }
            },
            "type": "scattercarpet"
           }
          ],
          "scattergeo": [
           {
            "marker": {
             "colorbar": {
              "outlinewidth": 0,
              "ticks": ""
             }
            },
            "type": "scattergeo"
           }
          ],
          "scattergl": [
           {
            "marker": {
             "colorbar": {
              "outlinewidth": 0,
              "ticks": ""
             }
            },
            "type": "scattergl"
           }
          ],
          "scattermapbox": [
           {
            "marker": {
             "colorbar": {
              "outlinewidth": 0,
              "ticks": ""
             }
            },
            "type": "scattermapbox"
           }
          ],
          "scatterpolar": [
           {
            "marker": {
             "colorbar": {
              "outlinewidth": 0,
              "ticks": ""
             }
            },
            "type": "scatterpolar"
           }
          ],
          "scatterpolargl": [
           {
            "marker": {
             "colorbar": {
              "outlinewidth": 0,
              "ticks": ""
             }
            },
            "type": "scatterpolargl"
           }
          ],
          "scatterternary": [
           {
            "marker": {
             "colorbar": {
              "outlinewidth": 0,
              "ticks": ""
             }
            },
            "type": "scatterternary"
           }
          ],
          "surface": [
           {
            "colorbar": {
             "outlinewidth": 0,
             "ticks": ""
            },
            "colorscale": [
             [
              0,
              "#0d0887"
             ],
             [
              0.1111111111111111,
              "#46039f"
             ],
             [
              0.2222222222222222,
              "#7201a8"
             ],
             [
              0.3333333333333333,
              "#9c179e"
             ],
             [
              0.4444444444444444,
              "#bd3786"
             ],
             [
              0.5555555555555556,
              "#d8576b"
             ],
             [
              0.6666666666666666,
              "#ed7953"
             ],
             [
              0.7777777777777778,
              "#fb9f3a"
             ],
             [
              0.8888888888888888,
              "#fdca26"
             ],
             [
              1,
              "#f0f921"
             ]
            ],
            "type": "surface"
           }
          ],
          "table": [
           {
            "cells": {
             "fill": {
              "color": "#EBF0F8"
             },
             "line": {
              "color": "white"
             }
            },
            "header": {
             "fill": {
              "color": "#C8D4E3"
             },
             "line": {
              "color": "white"
             }
            },
            "type": "table"
           }
          ]
         },
         "layout": {
          "annotationdefaults": {
           "arrowcolor": "#2a3f5f",
           "arrowhead": 0,
           "arrowwidth": 1
          },
          "autotypenumbers": "strict",
          "coloraxis": {
           "colorbar": {
            "outlinewidth": 0,
            "ticks": ""
           }
          },
          "colorscale": {
           "diverging": [
            [
             0,
             "#8e0152"
            ],
            [
             0.1,
             "#c51b7d"
            ],
            [
             0.2,
             "#de77ae"
            ],
            [
             0.3,
             "#f1b6da"
            ],
            [
             0.4,
             "#fde0ef"
            ],
            [
             0.5,
             "#f7f7f7"
            ],
            [
             0.6,
             "#e6f5d0"
            ],
            [
             0.7,
             "#b8e186"
            ],
            [
             0.8,
             "#7fbc41"
            ],
            [
             0.9,
             "#4d9221"
            ],
            [
             1,
             "#276419"
            ]
           ],
           "sequential": [
            [
             0,
             "#0d0887"
            ],
            [
             0.1111111111111111,
             "#46039f"
            ],
            [
             0.2222222222222222,
             "#7201a8"
            ],
            [
             0.3333333333333333,
             "#9c179e"
            ],
            [
             0.4444444444444444,
             "#bd3786"
            ],
            [
             0.5555555555555556,
             "#d8576b"
            ],
            [
             0.6666666666666666,
             "#ed7953"
            ],
            [
             0.7777777777777778,
             "#fb9f3a"
            ],
            [
             0.8888888888888888,
             "#fdca26"
            ],
            [
             1,
             "#f0f921"
            ]
           ],
           "sequentialminus": [
            [
             0,
             "#0d0887"
            ],
            [
             0.1111111111111111,
             "#46039f"
            ],
            [
             0.2222222222222222,
             "#7201a8"
            ],
            [
             0.3333333333333333,
             "#9c179e"
            ],
            [
             0.4444444444444444,
             "#bd3786"
            ],
            [
             0.5555555555555556,
             "#d8576b"
            ],
            [
             0.6666666666666666,
             "#ed7953"
            ],
            [
             0.7777777777777778,
             "#fb9f3a"
            ],
            [
             0.8888888888888888,
             "#fdca26"
            ],
            [
             1,
             "#f0f921"
            ]
           ]
          },
          "colorway": [
           "#636efa",
           "#EF553B",
           "#00cc96",
           "#ab63fa",
           "#FFA15A",
           "#19d3f3",
           "#FF6692",
           "#B6E880",
           "#FF97FF",
           "#FECB52"
          ],
          "font": {
           "color": "#2a3f5f"
          },
          "geo": {
           "bgcolor": "white",
           "lakecolor": "white",
           "landcolor": "#E5ECF6",
           "showlakes": true,
           "showland": true,
           "subunitcolor": "white"
          },
          "hoverlabel": {
           "align": "left"
          },
          "hovermode": "closest",
          "mapbox": {
           "style": "light"
          },
          "paper_bgcolor": "white",
          "plot_bgcolor": "#E5ECF6",
          "polar": {
           "angularaxis": {
            "gridcolor": "white",
            "linecolor": "white",
            "ticks": ""
           },
           "bgcolor": "#E5ECF6",
           "radialaxis": {
            "gridcolor": "white",
            "linecolor": "white",
            "ticks": ""
           }
          },
          "scene": {
           "xaxis": {
            "backgroundcolor": "#E5ECF6",
            "gridcolor": "white",
            "gridwidth": 2,
            "linecolor": "white",
            "showbackground": true,
            "ticks": "",
            "zerolinecolor": "white"
           },
           "yaxis": {
            "backgroundcolor": "#E5ECF6",
            "gridcolor": "white",
            "gridwidth": 2,
            "linecolor": "white",
            "showbackground": true,
            "ticks": "",
            "zerolinecolor": "white"
           },
           "zaxis": {
            "backgroundcolor": "#E5ECF6",
            "gridcolor": "white",
            "gridwidth": 2,
            "linecolor": "white",
            "showbackground": true,
            "ticks": "",
            "zerolinecolor": "white"
           }
          },
          "shapedefaults": {
           "line": {
            "color": "#2a3f5f"
           }
          },
          "ternary": {
           "aaxis": {
            "gridcolor": "white",
            "linecolor": "white",
            "ticks": ""
           },
           "baxis": {
            "gridcolor": "white",
            "linecolor": "white",
            "ticks": ""
           },
           "bgcolor": "#E5ECF6",
           "caxis": {
            "gridcolor": "white",
            "linecolor": "white",
            "ticks": ""
           }
          },
          "title": {
           "x": 0.05
          },
          "xaxis": {
           "automargin": true,
           "gridcolor": "white",
           "linecolor": "white",
           "ticks": "",
           "title": {
            "standoff": 15
           },
           "zerolinecolor": "white",
           "zerolinewidth": 2
          },
          "yaxis": {
           "automargin": true,
           "gridcolor": "white",
           "linecolor": "white",
           "ticks": "",
           "title": {
            "standoff": 15
           },
           "zerolinecolor": "white",
           "zerolinewidth": 2
          }
         }
        },
        "title": {
         "text": "Percentage of Home Team Wins Over Time"
        },
        "xaxis": {
         "anchor": "y",
         "domain": [
          0,
          1
         ],
         "tickmode": "linear",
         "title": {
          "text": "Year"
         }
        },
        "yaxis": {
         "anchor": "x",
         "domain": [
          0,
          1
         ],
         "title": {
          "text": "Percentage of Home Wins (%)"
         }
        }
       }
      }
     },
     "metadata": {},
     "output_type": "display_data"
    }
   ],
   "source": [
    "games_data['GAME_DATE_EST'] = pd.to_datetime(games_data['GAME_DATE_EST'])\n",
    "games_data['YEAR'] = games_data['GAME_DATE_EST'].dt.year\n",
    "yearly_stats = games_data.groupby('YEAR').agg(\n",
    "    Total_Games=('HOME_TEAM_WINS', 'size'),\n",
    "    Home_Wins=('HOME_TEAM_WINS', 'sum')\n",
    ")\n",
    "\n",
    "yearly_stats['Home_Win_Percentage'] = (yearly_stats['Home_Wins'] / yearly_stats['Total_Games']) * 100\n",
    "\n",
    "#  interactive plot of home win percentage over the years\n",
    "win_over_time_chart = px.line(yearly_stats, y='Home_Win_Percentage', title='Percentage of Home Team Wins Over Time',\n",
    "              labels={'Home_Win_Percentage': 'Percentage of Home Wins', 'YEAR': 'Year'},\n",
    "              markers=True)  \n",
    "win_over_time_chart.update_layout(xaxis_title='Year',\n",
    "                  yaxis_title='Percentage of Home Wins (%)',\n",
    "                  xaxis=dict(tickmode='linear'),\n",
    "                  hovermode='x')\n",
    "\n",
    "win_over_time_chart\n"
   ]
  },
  {
   "cell_type": "code",
   "execution_count": 6,
   "metadata": {},
   "outputs": [
    {
     "name": "stdout",
     "output_type": "stream",
     "text": [
      "                            OLS Regression Results                            \n",
      "==============================================================================\n",
      "Dep. Variable:                      w   R-squared:                       0.408\n",
      "Model:                            OLS   Adj. R-squared:                  0.387\n",
      "Method:                 Least Squares   F-statistic:                     19.31\n",
      "Date:                Sun, 21 Apr 2024   Prob (F-statistic):           0.000145\n",
      "Time:                        13:45:01   Log-Likelihood:                -107.64\n",
      "No. Observations:                  30   AIC:                             219.3\n",
      "Df Residuals:                      28   BIC:                             222.1\n",
      "Df Model:                           1                                         \n",
      "Covariance Type:            nonrobust                                         \n",
      "===============================================================================\n",
      "                  coef    std err          t      P>|t|      [0.025      0.975]\n",
      "-------------------------------------------------------------------------------\n",
      "const         -84.3282     28.568     -2.952      0.006    -142.848     -25.809\n",
      "average_age     4.8431      1.102      4.394      0.000       2.586       7.101\n",
      "==============================================================================\n",
      "Omnibus:                        1.309   Durbin-Watson:                   1.986\n",
      "Prob(Omnibus):                  0.520   Jarque-Bera (JB):                1.085\n",
      "Skew:                           0.446   Prob(JB):                        0.581\n",
      "Kurtosis:                       2.731   Cond. No.                         449.\n",
      "==============================================================================\n",
      "\n",
      "Notes:\n",
      "[1] Standard Errors assume that the covariance matrix of the errors is correctly specified.\n"
     ]
    },
    {
     "data": {
      "application/vnd.plotly.v1+json": {
       "config": {
        "plotlyServerURL": "https://plot.ly"
       },
       "data": [
        {
         "hovertemplate": "abbreviation=ATL<br>Average Age=%{x}<br>Wins=%{y}<extra></extra>",
         "legendgroup": "ATL",
         "marker": {
          "color": "#636efa",
          "symbol": "circle"
         },
         "mode": "markers",
         "name": "ATL",
         "orientation": "v",
         "showlegend": true,
         "type": "scatter",
         "x": [
          24.7
         ],
         "xaxis": "x",
         "y": [
          43
         ],
         "yaxis": "y"
        },
        {
         "hovertemplate": "abbreviation=BOS<br>Average Age=%{x}<br>Wins=%{y}<extra></extra>",
         "legendgroup": "BOS",
         "marker": {
          "color": "#EF553B",
          "symbol": "circle"
         },
         "mode": "markers",
         "name": "BOS",
         "orientation": "v",
         "showlegend": true,
         "type": "scatter",
         "x": [
          26.77777777777778
         ],
         "xaxis": "x",
         "y": [
          51
         ],
         "yaxis": "y"
        },
        {
         "hovertemplate": "abbreviation=BRK<br>Average Age=%{x}<br>Wins=%{y}<extra></extra>",
         "legendgroup": "BRK",
         "marker": {
          "color": "#00cc96",
          "symbol": "circle"
         },
         "mode": "markers",
         "name": "BRK",
         "orientation": "v",
         "showlegend": true,
         "type": "scatter",
         "x": [
          27
         ],
         "xaxis": "x",
         "y": [
          44
         ],
         "yaxis": "y"
        },
        {
         "hovertemplate": "abbreviation=CHI<br>Average Age=%{x}<br>Wins=%{y}<extra></extra>",
         "legendgroup": "CHI",
         "marker": {
          "color": "#ab63fa",
          "symbol": "circle"
         },
         "mode": "markers",
         "name": "CHI",
         "orientation": "v",
         "showlegend": true,
         "type": "scatter",
         "x": [
          26.77777777777778
         ],
         "xaxis": "x",
         "y": [
          46
         ],
         "yaxis": "y"
        },
        {
         "hovertemplate": "abbreviation=CHO<br>Average Age=%{x}<br>Wins=%{y}<extra></extra>",
         "legendgroup": "CHO",
         "marker": {
          "color": "#FFA15A",
          "symbol": "circle"
         },
         "mode": "markers",
         "name": "CHO",
         "orientation": "v",
         "showlegend": true,
         "type": "scatter",
         "x": [
          24.57894736842105
         ],
         "xaxis": "x",
         "y": [
          43
         ],
         "yaxis": "y"
        },
        {
         "hovertemplate": "abbreviation=CLE<br>Average Age=%{x}<br>Wins=%{y}<extra></extra>",
         "legendgroup": "CLE",
         "marker": {
          "color": "#19d3f3",
          "symbol": "circle"
         },
         "mode": "markers",
         "name": "CLE",
         "orientation": "v",
         "showlegend": true,
         "type": "scatter",
         "x": [
          27.11111111111111
         ],
         "xaxis": "x",
         "y": [
          44
         ],
         "yaxis": "y"
        },
        {
         "hovertemplate": "abbreviation=DAL<br>Average Age=%{x}<br>Wins=%{y}<extra></extra>",
         "legendgroup": "DAL",
         "marker": {
          "color": "#FF6692",
          "symbol": "circle"
         },
         "mode": "markers",
         "name": "DAL",
         "orientation": "v",
         "showlegend": true,
         "type": "scatter",
         "x": [
          28.08695652173913
         ],
         "xaxis": "x",
         "y": [
          52
         ],
         "yaxis": "y"
        },
        {
         "hovertemplate": "abbreviation=DEN<br>Average Age=%{x}<br>Wins=%{y}<extra></extra>",
         "legendgroup": "DEN",
         "marker": {
          "color": "#B6E880",
          "symbol": "circle"
         },
         "mode": "markers",
         "name": "DEN",
         "orientation": "v",
         "showlegend": true,
         "type": "scatter",
         "x": [
          26.72222222222222
         ],
         "xaxis": "x",
         "y": [
          48
         ],
         "yaxis": "y"
        },
        {
         "hovertemplate": "abbreviation=DET<br>Average Age=%{x}<br>Wins=%{y}<extra></extra>",
         "legendgroup": "DET",
         "marker": {
          "color": "#FF97FF",
          "symbol": "circle"
         },
         "mode": "markers",
         "name": "DET",
         "orientation": "v",
         "showlegend": true,
         "type": "scatter",
         "x": [
          24.272727272727273
         ],
         "xaxis": "x",
         "y": [
          23
         ],
         "yaxis": "y"
        },
        {
         "hovertemplate": "abbreviation=GSW<br>Average Age=%{x}<br>Wins=%{y}<extra></extra>",
         "legendgroup": "GSW",
         "marker": {
          "color": "#FECB52",
          "symbol": "circle"
         },
         "mode": "markers",
         "name": "GSW",
         "orientation": "v",
         "showlegend": true,
         "type": "scatter",
         "x": [
          26.333333333333332
         ],
         "xaxis": "x",
         "y": [
          53
         ],
         "yaxis": "y"
        },
        {
         "hovertemplate": "abbreviation=HOU<br>Average Age=%{x}<br>Wins=%{y}<extra></extra>",
         "legendgroup": "HOU",
         "marker": {
          "color": "#636efa",
          "symbol": "circle"
         },
         "mode": "markers",
         "name": "HOU",
         "orientation": "v",
         "showlegend": true,
         "type": "scatter",
         "x": [
          23.666666666666668
         ],
         "xaxis": "x",
         "y": [
          20
         ],
         "yaxis": "y"
        },
        {
         "hovertemplate": "abbreviation=IND<br>Average Age=%{x}<br>Wins=%{y}<extra></extra>",
         "legendgroup": "IND",
         "marker": {
          "color": "#EF553B",
          "symbol": "circle"
         },
         "mode": "markers",
         "name": "IND",
         "orientation": "v",
         "showlegend": true,
         "type": "scatter",
         "x": [
          25.5
         ],
         "xaxis": "x",
         "y": [
          25
         ],
         "yaxis": "y"
        },
        {
         "hovertemplate": "abbreviation=LAC<br>Average Age=%{x}<br>Wins=%{y}<extra></extra>",
         "legendgroup": "LAC",
         "marker": {
          "color": "#00cc96",
          "symbol": "circle"
         },
         "mode": "markers",
         "name": "LAC",
         "orientation": "v",
         "showlegend": true,
         "type": "scatter",
         "x": [
          28.333333333333332
         ],
         "xaxis": "x",
         "y": [
          42
         ],
         "yaxis": "y"
        },
        {
         "hovertemplate": "abbreviation=LAL<br>Average Age=%{x}<br>Wins=%{y}<extra></extra>",
         "legendgroup": "LAL",
         "marker": {
          "color": "#ab63fa",
          "symbol": "circle"
         },
         "mode": "markers",
         "name": "LAL",
         "orientation": "v",
         "showlegend": true,
         "type": "scatter",
         "x": [
          26.416666666666668
         ],
         "xaxis": "x",
         "y": [
          33
         ],
         "yaxis": "y"
        },
        {
         "hovertemplate": "abbreviation=MEM<br>Average Age=%{x}<br>Wins=%{y}<extra></extra>",
         "legendgroup": "MEM",
         "marker": {
          "color": "#FFA15A",
          "symbol": "circle"
         },
         "mode": "markers",
         "name": "MEM",
         "orientation": "v",
         "showlegend": true,
         "type": "scatter",
         "x": [
          24.210526315789473
         ],
         "xaxis": "x",
         "y": [
          56
         ],
         "yaxis": "y"
        },
        {
         "hovertemplate": "abbreviation=MIA<br>Average Age=%{x}<br>Wins=%{y}<extra></extra>",
         "legendgroup": "MIA",
         "marker": {
          "color": "#19d3f3",
          "symbol": "circle"
         },
         "mode": "markers",
         "name": "MIA",
         "orientation": "v",
         "showlegend": true,
         "type": "scatter",
         "x": [
          27.75
         ],
         "xaxis": "x",
         "y": [
          53
         ],
         "yaxis": "y"
        },
        {
         "hovertemplate": "abbreviation=MIL<br>Average Age=%{x}<br>Wins=%{y}<extra></extra>",
         "legendgroup": "MIL",
         "marker": {
          "color": "#FF6692",
          "symbol": "circle"
         },
         "mode": "markers",
         "name": "MIL",
         "orientation": "v",
         "showlegend": true,
         "type": "scatter",
         "x": [
          29.523809523809526
         ],
         "xaxis": "x",
         "y": [
          51
         ],
         "yaxis": "y"
        },
        {
         "hovertemplate": "abbreviation=MIN<br>Average Age=%{x}<br>Wins=%{y}<extra></extra>",
         "legendgroup": "MIN",
         "marker": {
          "color": "#B6E880",
          "symbol": "circle"
         },
         "mode": "markers",
         "name": "MIN",
         "orientation": "v",
         "showlegend": true,
         "type": "scatter",
         "x": [
          25.5
         ],
         "xaxis": "x",
         "y": [
          46
         ],
         "yaxis": "y"
        },
        {
         "hovertemplate": "abbreviation=NOP<br>Average Age=%{x}<br>Wins=%{y}<extra></extra>",
         "legendgroup": "NOP",
         "marker": {
          "color": "#FF97FF",
          "symbol": "circle"
         },
         "mode": "markers",
         "name": "NOP",
         "orientation": "v",
         "showlegend": true,
         "type": "scatter",
         "x": [
          25.705882352941178
         ],
         "xaxis": "x",
         "y": [
          36
         ],
         "yaxis": "y"
        },
        {
         "hovertemplate": "abbreviation=NYK<br>Average Age=%{x}<br>Wins=%{y}<extra></extra>",
         "legendgroup": "NYK",
         "marker": {
          "color": "#FECB52",
          "symbol": "circle"
         },
         "mode": "markers",
         "name": "NYK",
         "orientation": "v",
         "showlegend": true,
         "type": "scatter",
         "x": [
          25
         ],
         "xaxis": "x",
         "y": [
          37
         ],
         "yaxis": "y"
        },
        {
         "hovertemplate": "abbreviation=OKC<br>Average Age=%{x}<br>Wins=%{y}<extra></extra>",
         "legendgroup": "OKC",
         "marker": {
          "color": "#636efa",
          "symbol": "circle"
         },
         "mode": "markers",
         "name": "OKC",
         "orientation": "v",
         "showlegend": true,
         "type": "scatter",
         "x": [
          23.263157894736842
         ],
         "xaxis": "x",
         "y": [
          24
         ],
         "yaxis": "y"
        },
        {
         "hovertemplate": "abbreviation=ORL<br>Average Age=%{x}<br>Wins=%{y}<extra></extra>",
         "legendgroup": "ORL",
         "marker": {
          "color": "#EF553B",
          "symbol": "circle"
         },
         "mode": "markers",
         "name": "ORL",
         "orientation": "v",
         "showlegend": true,
         "type": "scatter",
         "x": [
          23.9
         ],
         "xaxis": "x",
         "y": [
          22
         ],
         "yaxis": "y"
        },
        {
         "hovertemplate": "abbreviation=PHI<br>Average Age=%{x}<br>Wins=%{y}<extra></extra>",
         "legendgroup": "PHI",
         "marker": {
          "color": "#00cc96",
          "symbol": "circle"
         },
         "mode": "markers",
         "name": "PHI",
         "orientation": "v",
         "showlegend": true,
         "type": "scatter",
         "x": [
          26.142857142857142
         ],
         "xaxis": "x",
         "y": [
          51
         ],
         "yaxis": "y"
        },
        {
         "hovertemplate": "abbreviation=PHO<br>Average Age=%{x}<br>Wins=%{y}<extra></extra>",
         "legendgroup": "PHO",
         "marker": {
          "color": "#ab63fa",
          "symbol": "circle"
         },
         "mode": "markers",
         "name": "PHO",
         "orientation": "v",
         "showlegend": true,
         "type": "scatter",
         "x": [
          27.6
         ],
         "xaxis": "x",
         "y": [
          64
         ],
         "yaxis": "y"
        },
        {
         "hovertemplate": "abbreviation=POR<br>Average Age=%{x}<br>Wins=%{y}<extra></extra>",
         "legendgroup": "POR",
         "marker": {
          "color": "#FFA15A",
          "symbol": "circle"
         },
         "mode": "markers",
         "name": "POR",
         "orientation": "v",
         "showlegend": true,
         "type": "scatter",
         "x": [
          24.5
         ],
         "xaxis": "x",
         "y": [
          27
         ],
         "yaxis": "y"
        },
        {
         "hovertemplate": "abbreviation=SAC<br>Average Age=%{x}<br>Wins=%{y}<extra></extra>",
         "legendgroup": "SAC",
         "marker": {
          "color": "#19d3f3",
          "symbol": "circle"
         },
         "mode": "markers",
         "name": "SAC",
         "orientation": "v",
         "showlegend": true,
         "type": "scatter",
         "x": [
          25.75
         ],
         "xaxis": "x",
         "y": [
          30
         ],
         "yaxis": "y"
        },
        {
         "hovertemplate": "abbreviation=SAS<br>Average Age=%{x}<br>Wins=%{y}<extra></extra>",
         "legendgroup": "SAS",
         "marker": {
          "color": "#FF6692",
          "symbol": "circle"
         },
         "mode": "markers",
         "name": "SAS",
         "orientation": "v",
         "showlegend": true,
         "type": "scatter",
         "x": [
          23.869565217391305
         ],
         "xaxis": "x",
         "y": [
          34
         ],
         "yaxis": "y"
        },
        {
         "hovertemplate": "abbreviation=TOR<br>Average Age=%{x}<br>Wins=%{y}<extra></extra>",
         "legendgroup": "TOR",
         "marker": {
          "color": "#B6E880",
          "symbol": "circle"
         },
         "mode": "markers",
         "name": "TOR",
         "orientation": "v",
         "showlegend": true,
         "type": "scatter",
         "x": [
          25.9
         ],
         "xaxis": "x",
         "y": [
          48
         ],
         "yaxis": "y"
        },
        {
         "hovertemplate": "abbreviation=UTA<br>Average Age=%{x}<br>Wins=%{y}<extra></extra>",
         "legendgroup": "UTA",
         "marker": {
          "color": "#FF97FF",
          "symbol": "circle"
         },
         "mode": "markers",
         "name": "UTA",
         "orientation": "v",
         "showlegend": true,
         "type": "scatter",
         "x": [
          25.782608695652176
         ],
         "xaxis": "x",
         "y": [
          49
         ],
         "yaxis": "y"
        },
        {
         "hovertemplate": "abbreviation=WAS<br>Average Age=%{x}<br>Wins=%{y}<extra></extra>",
         "legendgroup": "WAS",
         "marker": {
          "color": "#FECB52",
          "symbol": "circle"
         },
         "mode": "markers",
         "name": "WAS",
         "orientation": "v",
         "showlegend": true,
         "type": "scatter",
         "x": [
          25.652173913043477
         ],
         "xaxis": "x",
         "y": [
          35
         ],
         "yaxis": "y"
        },
        {
         "mode": "lines",
         "name": "Regression Line",
         "type": "scatter",
         "x": [
          24.7,
          26.77777777777778,
          27,
          26.77777777777778,
          24.57894736842105,
          27.11111111111111,
          28.08695652173913,
          26.72222222222222,
          24.272727272727273,
          26.333333333333332,
          23.666666666666668,
          25.5,
          28.333333333333332,
          26.416666666666668,
          24.210526315789473,
          27.75,
          29.523809523809526,
          25.5,
          25.705882352941178,
          25,
          23.263157894736842,
          23.9,
          26.142857142857142,
          27.6,
          24.5,
          25.75,
          23.869565217391305,
          25.9,
          25.782608695652176,
          25.652173913043477
         ],
         "y": [
          35.29673276182399,
          45.359647175466925,
          46.43589470633782,
          45.359647175466925,
          34.71046108053379,
          46.97401847177327,
          51.70014893342374,
          45.09058529274919,
          33.22740228201313,
          43.207152113725115,
          30.292181743274313,
          39.17122387295924,
          52.89337989156322,
          43.61074493780171,
          32.92615596356361,
          50.068230123027114,
          58.65899166408592,
          39.17122387295924,
          40.16833555597199,
          36.749666928499714,
          28.337942805640303,
          31.422241650688747,
          42.28465423012149,
          49.34176303968926,
          34.32810998404018,
          40.382002345189,
          31.274842532330347,
          41.10846942852685,
          40.53992997200159,
          39.90821946475126
         ]
        }
       ],
       "layout": {
        "legend": {
         "title": {
          "text": "abbreviation"
         },
         "tracegroupgap": 0
        },
        "template": {
         "data": {
          "bar": [
           {
            "error_x": {
             "color": "#2a3f5f"
            },
            "error_y": {
             "color": "#2a3f5f"
            },
            "marker": {
             "line": {
              "color": "#E5ECF6",
              "width": 0.5
             },
             "pattern": {
              "fillmode": "overlay",
              "size": 10,
              "solidity": 0.2
             }
            },
            "type": "bar"
           }
          ],
          "barpolar": [
           {
            "marker": {
             "line": {
              "color": "#E5ECF6",
              "width": 0.5
             },
             "pattern": {
              "fillmode": "overlay",
              "size": 10,
              "solidity": 0.2
             }
            },
            "type": "barpolar"
           }
          ],
          "carpet": [
           {
            "aaxis": {
             "endlinecolor": "#2a3f5f",
             "gridcolor": "white",
             "linecolor": "white",
             "minorgridcolor": "white",
             "startlinecolor": "#2a3f5f"
            },
            "baxis": {
             "endlinecolor": "#2a3f5f",
             "gridcolor": "white",
             "linecolor": "white",
             "minorgridcolor": "white",
             "startlinecolor": "#2a3f5f"
            },
            "type": "carpet"
           }
          ],
          "choropleth": [
           {
            "colorbar": {
             "outlinewidth": 0,
             "ticks": ""
            },
            "type": "choropleth"
           }
          ],
          "contour": [
           {
            "colorbar": {
             "outlinewidth": 0,
             "ticks": ""
            },
            "colorscale": [
             [
              0,
              "#0d0887"
             ],
             [
              0.1111111111111111,
              "#46039f"
             ],
             [
              0.2222222222222222,
              "#7201a8"
             ],
             [
              0.3333333333333333,
              "#9c179e"
             ],
             [
              0.4444444444444444,
              "#bd3786"
             ],
             [
              0.5555555555555556,
              "#d8576b"
             ],
             [
              0.6666666666666666,
              "#ed7953"
             ],
             [
              0.7777777777777778,
              "#fb9f3a"
             ],
             [
              0.8888888888888888,
              "#fdca26"
             ],
             [
              1,
              "#f0f921"
             ]
            ],
            "type": "contour"
           }
          ],
          "contourcarpet": [
           {
            "colorbar": {
             "outlinewidth": 0,
             "ticks": ""
            },
            "type": "contourcarpet"
           }
          ],
          "heatmap": [
           {
            "colorbar": {
             "outlinewidth": 0,
             "ticks": ""
            },
            "colorscale": [
             [
              0,
              "#0d0887"
             ],
             [
              0.1111111111111111,
              "#46039f"
             ],
             [
              0.2222222222222222,
              "#7201a8"
             ],
             [
              0.3333333333333333,
              "#9c179e"
             ],
             [
              0.4444444444444444,
              "#bd3786"
             ],
             [
              0.5555555555555556,
              "#d8576b"
             ],
             [
              0.6666666666666666,
              "#ed7953"
             ],
             [
              0.7777777777777778,
              "#fb9f3a"
             ],
             [
              0.8888888888888888,
              "#fdca26"
             ],
             [
              1,
              "#f0f921"
             ]
            ],
            "type": "heatmap"
           }
          ],
          "heatmapgl": [
           {
            "colorbar": {
             "outlinewidth": 0,
             "ticks": ""
            },
            "colorscale": [
             [
              0,
              "#0d0887"
             ],
             [
              0.1111111111111111,
              "#46039f"
             ],
             [
              0.2222222222222222,
              "#7201a8"
             ],
             [
              0.3333333333333333,
              "#9c179e"
             ],
             [
              0.4444444444444444,
              "#bd3786"
             ],
             [
              0.5555555555555556,
              "#d8576b"
             ],
             [
              0.6666666666666666,
              "#ed7953"
             ],
             [
              0.7777777777777778,
              "#fb9f3a"
             ],
             [
              0.8888888888888888,
              "#fdca26"
             ],
             [
              1,
              "#f0f921"
             ]
            ],
            "type": "heatmapgl"
           }
          ],
          "histogram": [
           {
            "marker": {
             "pattern": {
              "fillmode": "overlay",
              "size": 10,
              "solidity": 0.2
             }
            },
            "type": "histogram"
           }
          ],
          "histogram2d": [
           {
            "colorbar": {
             "outlinewidth": 0,
             "ticks": ""
            },
            "colorscale": [
             [
              0,
              "#0d0887"
             ],
             [
              0.1111111111111111,
              "#46039f"
             ],
             [
              0.2222222222222222,
              "#7201a8"
             ],
             [
              0.3333333333333333,
              "#9c179e"
             ],
             [
              0.4444444444444444,
              "#bd3786"
             ],
             [
              0.5555555555555556,
              "#d8576b"
             ],
             [
              0.6666666666666666,
              "#ed7953"
             ],
             [
              0.7777777777777778,
              "#fb9f3a"
             ],
             [
              0.8888888888888888,
              "#fdca26"
             ],
             [
              1,
              "#f0f921"
             ]
            ],
            "type": "histogram2d"
           }
          ],
          "histogram2dcontour": [
           {
            "colorbar": {
             "outlinewidth": 0,
             "ticks": ""
            },
            "colorscale": [
             [
              0,
              "#0d0887"
             ],
             [
              0.1111111111111111,
              "#46039f"
             ],
             [
              0.2222222222222222,
              "#7201a8"
             ],
             [
              0.3333333333333333,
              "#9c179e"
             ],
             [
              0.4444444444444444,
              "#bd3786"
             ],
             [
              0.5555555555555556,
              "#d8576b"
             ],
             [
              0.6666666666666666,
              "#ed7953"
             ],
             [
              0.7777777777777778,
              "#fb9f3a"
             ],
             [
              0.8888888888888888,
              "#fdca26"
             ],
             [
              1,
              "#f0f921"
             ]
            ],
            "type": "histogram2dcontour"
           }
          ],
          "mesh3d": [
           {
            "colorbar": {
             "outlinewidth": 0,
             "ticks": ""
            },
            "type": "mesh3d"
           }
          ],
          "parcoords": [
           {
            "line": {
             "colorbar": {
              "outlinewidth": 0,
              "ticks": ""
             }
            },
            "type": "parcoords"
           }
          ],
          "pie": [
           {
            "automargin": true,
            "type": "pie"
           }
          ],
          "scatter": [
           {
            "fillpattern": {
             "fillmode": "overlay",
             "size": 10,
             "solidity": 0.2
            },
            "type": "scatter"
           }
          ],
          "scatter3d": [
           {
            "line": {
             "colorbar": {
              "outlinewidth": 0,
              "ticks": ""
             }
            },
            "marker": {
             "colorbar": {
              "outlinewidth": 0,
              "ticks": ""
             }
            },
            "type": "scatter3d"
           }
          ],
          "scattercarpet": [
           {
            "marker": {
             "colorbar": {
              "outlinewidth": 0,
              "ticks": ""
             }
            },
            "type": "scattercarpet"
           }
          ],
          "scattergeo": [
           {
            "marker": {
             "colorbar": {
              "outlinewidth": 0,
              "ticks": ""
             }
            },
            "type": "scattergeo"
           }
          ],
          "scattergl": [
           {
            "marker": {
             "colorbar": {
              "outlinewidth": 0,
              "ticks": ""
             }
            },
            "type": "scattergl"
           }
          ],
          "scattermapbox": [
           {
            "marker": {
             "colorbar": {
              "outlinewidth": 0,
              "ticks": ""
             }
            },
            "type": "scattermapbox"
           }
          ],
          "scatterpolar": [
           {
            "marker": {
             "colorbar": {
              "outlinewidth": 0,
              "ticks": ""
             }
            },
            "type": "scatterpolar"
           }
          ],
          "scatterpolargl": [
           {
            "marker": {
             "colorbar": {
              "outlinewidth": 0,
              "ticks": ""
             }
            },
            "type": "scatterpolargl"
           }
          ],
          "scatterternary": [
           {
            "marker": {
             "colorbar": {
              "outlinewidth": 0,
              "ticks": ""
             }
            },
            "type": "scatterternary"
           }
          ],
          "surface": [
           {
            "colorbar": {
             "outlinewidth": 0,
             "ticks": ""
            },
            "colorscale": [
             [
              0,
              "#0d0887"
             ],
             [
              0.1111111111111111,
              "#46039f"
             ],
             [
              0.2222222222222222,
              "#7201a8"
             ],
             [
              0.3333333333333333,
              "#9c179e"
             ],
             [
              0.4444444444444444,
              "#bd3786"
             ],
             [
              0.5555555555555556,
              "#d8576b"
             ],
             [
              0.6666666666666666,
              "#ed7953"
             ],
             [
              0.7777777777777778,
              "#fb9f3a"
             ],
             [
              0.8888888888888888,
              "#fdca26"
             ],
             [
              1,
              "#f0f921"
             ]
            ],
            "type": "surface"
           }
          ],
          "table": [
           {
            "cells": {
             "fill": {
              "color": "#EBF0F8"
             },
             "line": {
              "color": "white"
             }
            },
            "header": {
             "fill": {
              "color": "#C8D4E3"
             },
             "line": {
              "color": "white"
             }
            },
            "type": "table"
           }
          ]
         },
         "layout": {
          "annotationdefaults": {
           "arrowcolor": "#2a3f5f",
           "arrowhead": 0,
           "arrowwidth": 1
          },
          "autotypenumbers": "strict",
          "coloraxis": {
           "colorbar": {
            "outlinewidth": 0,
            "ticks": ""
           }
          },
          "colorscale": {
           "diverging": [
            [
             0,
             "#8e0152"
            ],
            [
             0.1,
             "#c51b7d"
            ],
            [
             0.2,
             "#de77ae"
            ],
            [
             0.3,
             "#f1b6da"
            ],
            [
             0.4,
             "#fde0ef"
            ],
            [
             0.5,
             "#f7f7f7"
            ],
            [
             0.6,
             "#e6f5d0"
            ],
            [
             0.7,
             "#b8e186"
            ],
            [
             0.8,
             "#7fbc41"
            ],
            [
             0.9,
             "#4d9221"
            ],
            [
             1,
             "#276419"
            ]
           ],
           "sequential": [
            [
             0,
             "#0d0887"
            ],
            [
             0.1111111111111111,
             "#46039f"
            ],
            [
             0.2222222222222222,
             "#7201a8"
            ],
            [
             0.3333333333333333,
             "#9c179e"
            ],
            [
             0.4444444444444444,
             "#bd3786"
            ],
            [
             0.5555555555555556,
             "#d8576b"
            ],
            [
             0.6666666666666666,
             "#ed7953"
            ],
            [
             0.7777777777777778,
             "#fb9f3a"
            ],
            [
             0.8888888888888888,
             "#fdca26"
            ],
            [
             1,
             "#f0f921"
            ]
           ],
           "sequentialminus": [
            [
             0,
             "#0d0887"
            ],
            [
             0.1111111111111111,
             "#46039f"
            ],
            [
             0.2222222222222222,
             "#7201a8"
            ],
            [
             0.3333333333333333,
             "#9c179e"
            ],
            [
             0.4444444444444444,
             "#bd3786"
            ],
            [
             0.5555555555555556,
             "#d8576b"
            ],
            [
             0.6666666666666666,
             "#ed7953"
            ],
            [
             0.7777777777777778,
             "#fb9f3a"
            ],
            [
             0.8888888888888888,
             "#fdca26"
            ],
            [
             1,
             "#f0f921"
            ]
           ]
          },
          "colorway": [
           "#636efa",
           "#EF553B",
           "#00cc96",
           "#ab63fa",
           "#FFA15A",
           "#19d3f3",
           "#FF6692",
           "#B6E880",
           "#FF97FF",
           "#FECB52"
          ],
          "font": {
           "color": "#2a3f5f"
          },
          "geo": {
           "bgcolor": "white",
           "lakecolor": "white",
           "landcolor": "#E5ECF6",
           "showlakes": true,
           "showland": true,
           "subunitcolor": "white"
          },
          "hoverlabel": {
           "align": "left"
          },
          "hovermode": "closest",
          "mapbox": {
           "style": "light"
          },
          "paper_bgcolor": "white",
          "plot_bgcolor": "#E5ECF6",
          "polar": {
           "angularaxis": {
            "gridcolor": "white",
            "linecolor": "white",
            "ticks": ""
           },
           "bgcolor": "#E5ECF6",
           "radialaxis": {
            "gridcolor": "white",
            "linecolor": "white",
            "ticks": ""
           }
          },
          "scene": {
           "xaxis": {
            "backgroundcolor": "#E5ECF6",
            "gridcolor": "white",
            "gridwidth": 2,
            "linecolor": "white",
            "showbackground": true,
            "ticks": "",
            "zerolinecolor": "white"
           },
           "yaxis": {
            "backgroundcolor": "#E5ECF6",
            "gridcolor": "white",
            "gridwidth": 2,
            "linecolor": "white",
            "showbackground": true,
            "ticks": "",
            "zerolinecolor": "white"
           },
           "zaxis": {
            "backgroundcolor": "#E5ECF6",
            "gridcolor": "white",
            "gridwidth": 2,
            "linecolor": "white",
            "showbackground": true,
            "ticks": "",
            "zerolinecolor": "white"
           }
          },
          "shapedefaults": {
           "line": {
            "color": "#2a3f5f"
           }
          },
          "ternary": {
           "aaxis": {
            "gridcolor": "white",
            "linecolor": "white",
            "ticks": ""
           },
           "baxis": {
            "gridcolor": "white",
            "linecolor": "white",
            "ticks": ""
           },
           "bgcolor": "#E5ECF6",
           "caxis": {
            "gridcolor": "white",
            "linecolor": "white",
            "ticks": ""
           }
          },
          "title": {
           "x": 0.05
          },
          "xaxis": {
           "automargin": true,
           "gridcolor": "white",
           "linecolor": "white",
           "ticks": "",
           "title": {
            "standoff": 15
           },
           "zerolinecolor": "white",
           "zerolinewidth": 2
          },
          "yaxis": {
           "automargin": true,
           "gridcolor": "white",
           "linecolor": "white",
           "ticks": "",
           "title": {
            "standoff": 15
           },
           "zerolinecolor": "white",
           "zerolinewidth": 2
          }
         }
        },
        "title": {
         "text": "Comparison of Average Team Age to Wins with Manual Regression Line"
        },
        "xaxis": {
         "anchor": "y",
         "domain": [
          0,
          1
         ],
         "title": {
          "text": "Average Age"
         }
        },
        "yaxis": {
         "anchor": "x",
         "domain": [
          0,
          1
         ],
         "title": {
          "text": "Wins"
         }
        }
       }
      }
     },
     "metadata": {},
     "output_type": "display_data"
    }
   ],
   "source": [
    "import statsmodels.api as sm\n",
    "import plotly.express as px\n",
    "\n",
    "# Function to expand and duplicate rows for players with multiple teams\n",
    "def expand_teams(data):\n",
    "    # Split the 'Team' column where there are multiple teams (using '/')\n",
    "    expanded_teams = data['Team'].str.split('/', expand=True)\n",
    "\n",
    "    # Create a new DataFrame for each team and concatenate them into a single DataFrame\n",
    "    rows = []\n",
    "    for i in range(expanded_teams.shape[1]):\n",
    "        temp_df = data.copy()\n",
    "        temp_df['Team'] = expanded_teams[i]\n",
    "        temp_df = temp_df[temp_df['Team'].notna()]\n",
    "        rows.append(temp_df)\n",
    "\n",
    "    # Concatenate all the dataframes\n",
    "    return pd.concat(rows, ignore_index=True)\n",
    "\n",
    "# Apply the function to the all_stats DataFrame\n",
    "all_stats = expand_teams(all_stats)\n",
    "\n",
    "# Sort the DataFrame by 'Unnamed: 0' to maintain the original order and then by 'Team'\n",
    "all_stats = all_stats.sort_values(by=['Unnamed: 0', 'Team']).reset_index(drop=True)\n",
    "\n",
    "mean_ages = all_stats.groupby('Team')['Age'].mean()\n",
    "\n",
    "median_ages = all_stats.groupby('Team')['Age'].median()\n",
    "\n",
    "average_age_per_team = all_stats.groupby('Team')['Age'].mean().reset_index()\n",
    "average_age_per_team.rename(columns={'Team': 'abbreviation', 'Age': 'average_age'}, inplace=True)\n",
    "\n",
    "summary_copy = summary.copy()\n",
    "summary_2022 = summary_copy[(summary_copy['season']==2022)]\n",
    "\n",
    "wins_per_team = summary_2022[['abbreviation', 'w']]\n",
    "\n",
    "merged_data = pd.merge(average_age_per_team, wins_per_team, on='abbreviation', how='inner')\n",
    "\n",
    "merged_data_clean = merged_data.dropna(subset=['average_age', 'w'])\n",
    "\n",
    "\n",
    "merged_data_clean = merged_data.dropna(subset=['average_age', 'w'])\n",
    "X = merged_data_clean['average_age']\n",
    "y = merged_data_clean['w']\n",
    "X = sm.add_constant(X)\n",
    "\n",
    "# regression model\n",
    "model = sm.OLS(y, X).fit()\n",
    "\n",
    "# regression results\n",
    "print(model.summary())\n",
    "\n",
    "# scatter plot\n",
    "fig = px.scatter(merged_data_clean, x='average_age', y='w', color='abbreviation',\n",
    "                 labels={'average_age': 'Average Age', 'w': 'Wins'},\n",
    "                 title='Comparison of Average Team Age to Wins with Manual Regression Line')\n",
    "\n",
    "# regression line\n",
    "fig.add_scatter(x=merged_data_clean['average_age'], y=model.predict(), mode='lines', name='Regression Line')\n",
    "fig.show()\n",
    "\n"
   ]
  },
  {
   "cell_type": "code",
   "execution_count": 7,
   "metadata": {},
   "outputs": [
    {
     "data": {
      "application/vnd.plotly.v1+json": {
       "config": {
        "plotlyServerURL": "https://plot.ly"
       },
       "data": [
        {
         "alignmentgroup": "True",
         "hovertemplate": "Year=%{y}<br>Percentage of Home Wins=%{x}<extra></extra>",
         "legendgroup": "",
         "marker": {
          "color": "#636efa",
          "pattern": {
           "shape": ""
          }
         },
         "name": "",
         "offsetgroup": "",
         "orientation": "h",
         "showlegend": false,
         "textposition": "auto",
         "type": "bar",
         "x": [
          51.77304964539007
         ],
         "xaxis": "x",
         "y": [
          2003
         ],
         "yaxis": "y"
        }
       ],
       "frames": [
        {
         "data": [
          {
           "alignmentgroup": "True",
           "hovertemplate": "Year=%{y}<br>Percentage of Home Wins=%{x}<extra></extra>",
           "legendgroup": "",
           "marker": {
            "color": "#636efa",
            "pattern": {
             "shape": ""
            }
           },
           "name": "",
           "offsetgroup": "",
           "orientation": "h",
           "showlegend": false,
           "textposition": "auto",
           "type": "bar",
           "x": [
            51.77304964539007
           ],
           "xaxis": "x",
           "y": [
            2003
           ],
           "yaxis": "y"
          }
         ],
         "name": "2003"
        },
        {
         "data": [
          {
           "alignmentgroup": "True",
           "hovertemplate": "Year=%{y}<br>Percentage of Home Wins=%{x}<extra></extra>",
           "legendgroup": "",
           "marker": {
            "color": "#636efa",
            "pattern": {
             "shape": ""
            }
           },
           "name": "",
           "offsetgroup": "",
           "orientation": "h",
           "showlegend": false,
           "textposition": "auto",
           "type": "bar",
           "x": [
            61.312741312741316
           ],
           "xaxis": "x",
           "y": [
            2004
           ],
           "yaxis": "y"
          }
         ],
         "name": "2004"
        },
        {
         "data": [
          {
           "alignmentgroup": "True",
           "hovertemplate": "Year=%{y}<br>Percentage of Home Wins=%{x}<extra></extra>",
           "legendgroup": "",
           "marker": {
            "color": "#636efa",
            "pattern": {
             "shape": ""
            }
           },
           "name": "",
           "offsetgroup": "",
           "orientation": "h",
           "showlegend": false,
           "textposition": "auto",
           "type": "bar",
           "x": [
            59.02439024390244
           ],
           "xaxis": "x",
           "y": [
            2005
           ],
           "yaxis": "y"
          }
         ],
         "name": "2005"
        },
        {
         "data": [
          {
           "alignmentgroup": "True",
           "hovertemplate": "Year=%{y}<br>Percentage of Home Wins=%{x}<extra></extra>",
           "legendgroup": "",
           "marker": {
            "color": "#636efa",
            "pattern": {
             "shape": ""
            }
           },
           "name": "",
           "offsetgroup": "",
           "orientation": "h",
           "showlegend": false,
           "textposition": "auto",
           "type": "bar",
           "x": [
            61.88835286009648
           ],
           "xaxis": "x",
           "y": [
            2006
           ],
           "yaxis": "y"
          }
         ],
         "name": "2006"
        },
        {
         "data": [
          {
           "alignmentgroup": "True",
           "hovertemplate": "Year=%{y}<br>Percentage of Home Wins=%{x}<extra></extra>",
           "legendgroup": "",
           "marker": {
            "color": "#636efa",
            "pattern": {
             "shape": ""
            }
           },
           "name": "",
           "offsetgroup": "",
           "orientation": "h",
           "showlegend": false,
           "textposition": "auto",
           "type": "bar",
           "x": [
            58.47578347578347
           ],
           "xaxis": "x",
           "y": [
            2007
           ],
           "yaxis": "y"
          }
         ],
         "name": "2007"
        },
        {
         "data": [
          {
           "alignmentgroup": "True",
           "hovertemplate": "Year=%{y}<br>Percentage of Home Wins=%{x}<extra></extra>",
           "legendgroup": "",
           "marker": {
            "color": "#636efa",
            "pattern": {
             "shape": ""
            }
           },
           "name": "",
           "offsetgroup": "",
           "orientation": "h",
           "showlegend": false,
           "textposition": "auto",
           "type": "bar",
           "x": [
            59.986130374479885
           ],
           "xaxis": "x",
           "y": [
            2008
           ],
           "yaxis": "y"
          }
         ],
         "name": "2008"
        },
        {
         "data": [
          {
           "alignmentgroup": "True",
           "hovertemplate": "Year=%{y}<br>Percentage of Home Wins=%{x}<extra></extra>",
           "legendgroup": "",
           "marker": {
            "color": "#636efa",
            "pattern": {
             "shape": ""
            }
           },
           "name": "",
           "offsetgroup": "",
           "orientation": "h",
           "showlegend": false,
           "textposition": "auto",
           "type": "bar",
           "x": [
            62.745098039215684
           ],
           "xaxis": "x",
           "y": [
            2009
           ],
           "yaxis": "y"
          }
         ],
         "name": "2009"
        },
        {
         "data": [
          {
           "alignmentgroup": "True",
           "hovertemplate": "Year=%{y}<br>Percentage of Home Wins=%{x}<extra></extra>",
           "legendgroup": "",
           "marker": {
            "color": "#636efa",
            "pattern": {
             "shape": ""
            }
           },
           "name": "",
           "offsetgroup": "",
           "orientation": "h",
           "showlegend": false,
           "textposition": "auto",
           "type": "bar",
           "x": [
            59.91620111731844
           ],
           "xaxis": "x",
           "y": [
            2010
           ],
           "yaxis": "y"
          }
         ],
         "name": "2010"
        },
        {
         "data": [
          {
           "alignmentgroup": "True",
           "hovertemplate": "Year=%{y}<br>Percentage of Home Wins=%{x}<extra></extra>",
           "legendgroup": "",
           "marker": {
            "color": "#636efa",
            "pattern": {
             "shape": ""
            }
           },
           "name": "",
           "offsetgroup": "",
           "orientation": "h",
           "showlegend": false,
           "textposition": "auto",
           "type": "bar",
           "x": [
            61.092896174863384
           ],
           "xaxis": "x",
           "y": [
            2011
           ],
           "yaxis": "y"
          }
         ],
         "name": "2011"
        },
        {
         "data": [
          {
           "alignmentgroup": "True",
           "hovertemplate": "Year=%{y}<br>Percentage of Home Wins=%{x}<extra></extra>",
           "legendgroup": "",
           "marker": {
            "color": "#636efa",
            "pattern": {
             "shape": ""
            }
           },
           "name": "",
           "offsetgroup": "",
           "orientation": "h",
           "showlegend": false,
           "textposition": "auto",
           "type": "bar",
           "x": [
            60.25316455696203
           ],
           "xaxis": "x",
           "y": [
            2012
           ],
           "yaxis": "y"
          }
         ],
         "name": "2012"
        },
        {
         "data": [
          {
           "alignmentgroup": "True",
           "hovertemplate": "Year=%{y}<br>Percentage of Home Wins=%{x}<extra></extra>",
           "legendgroup": "",
           "marker": {
            "color": "#636efa",
            "pattern": {
             "shape": ""
            }
           },
           "name": "",
           "offsetgroup": "",
           "orientation": "h",
           "showlegend": false,
           "textposition": "auto",
           "type": "bar",
           "x": [
            58.729050279329606
           ],
           "xaxis": "x",
           "y": [
            2013
           ],
           "yaxis": "y"
          }
         ],
         "name": "2013"
        },
        {
         "data": [
          {
           "alignmentgroup": "True",
           "hovertemplate": "Year=%{y}<br>Percentage of Home Wins=%{x}<extra></extra>",
           "legendgroup": "",
           "marker": {
            "color": "#636efa",
            "pattern": {
             "shape": ""
            }
           },
           "name": "",
           "offsetgroup": "",
           "orientation": "h",
           "showlegend": false,
           "textposition": "auto",
           "type": "bar",
           "x": [
            56.90492713393477
           ],
           "xaxis": "x",
           "y": [
            2014
           ],
           "yaxis": "y"
          }
         ],
         "name": "2014"
        },
        {
         "data": [
          {
           "alignmentgroup": "True",
           "hovertemplate": "Year=%{y}<br>Percentage of Home Wins=%{x}<extra></extra>",
           "legendgroup": "",
           "marker": {
            "color": "#636efa",
            "pattern": {
             "shape": ""
            }
           },
           "name": "",
           "offsetgroup": "",
           "orientation": "h",
           "showlegend": false,
           "textposition": "auto",
           "type": "bar",
           "x": [
            59.61945031712473
           ],
           "xaxis": "x",
           "y": [
            2015
           ],
           "yaxis": "y"
          }
         ],
         "name": "2015"
        },
        {
         "data": [
          {
           "alignmentgroup": "True",
           "hovertemplate": "Year=%{y}<br>Percentage of Home Wins=%{x}<extra></extra>",
           "legendgroup": "",
           "marker": {
            "color": "#636efa",
            "pattern": {
             "shape": ""
            }
           },
           "name": "",
           "offsetgroup": "",
           "orientation": "h",
           "showlegend": false,
           "textposition": "auto",
           "type": "bar",
           "x": [
            58.36249125262422
           ],
           "xaxis": "x",
           "y": [
            2016
           ],
           "yaxis": "y"
          }
         ],
         "name": "2016"
        },
        {
         "data": [
          {
           "alignmentgroup": "True",
           "hovertemplate": "Year=%{y}<br>Percentage of Home Wins=%{x}<extra></extra>",
           "legendgroup": "",
           "marker": {
            "color": "#636efa",
            "pattern": {
             "shape": ""
            }
           },
           "name": "",
           "offsetgroup": "",
           "orientation": "h",
           "showlegend": false,
           "textposition": "auto",
           "type": "bar",
           "x": [
            58.15102328863797
           ],
           "xaxis": "x",
           "y": [
            2017
           ],
           "yaxis": "y"
          }
         ],
         "name": "2017"
        },
        {
         "data": [
          {
           "alignmentgroup": "True",
           "hovertemplate": "Year=%{y}<br>Percentage of Home Wins=%{x}<extra></extra>",
           "legendgroup": "",
           "marker": {
            "color": "#636efa",
            "pattern": {
             "shape": ""
            }
           },
           "name": "",
           "offsetgroup": "",
           "orientation": "h",
           "showlegend": false,
           "textposition": "auto",
           "type": "bar",
           "x": [
            59.62373371924746
           ],
           "xaxis": "x",
           "y": [
            2018
           ],
           "yaxis": "y"
          }
         ],
         "name": "2018"
        },
        {
         "data": [
          {
           "alignmentgroup": "True",
           "hovertemplate": "Year=%{y}<br>Percentage of Home Wins=%{x}<extra></extra>",
           "legendgroup": "",
           "marker": {
            "color": "#636efa",
            "pattern": {
             "shape": ""
            }
           },
           "name": "",
           "offsetgroup": "",
           "orientation": "h",
           "showlegend": false,
           "textposition": "auto",
           "type": "bar",
           "x": [
            56.531531531531535
           ],
           "xaxis": "x",
           "y": [
            2019
           ],
           "yaxis": "y"
          }
         ],
         "name": "2019"
        },
        {
         "data": [
          {
           "alignmentgroup": "True",
           "hovertemplate": "Year=%{y}<br>Percentage of Home Wins=%{x}<extra></extra>",
           "legendgroup": "",
           "marker": {
            "color": "#636efa",
            "pattern": {
             "shape": ""
            }
           },
           "name": "",
           "offsetgroup": "",
           "orientation": "h",
           "showlegend": false,
           "textposition": "auto",
           "type": "bar",
           "x": [
            52.21130221130221
           ],
           "xaxis": "x",
           "y": [
            2020
           ],
           "yaxis": "y"
          }
         ],
         "name": "2020"
        },
        {
         "data": [
          {
           "alignmentgroup": "True",
           "hovertemplate": "Year=%{y}<br>Percentage of Home Wins=%{x}<extra></extra>",
           "legendgroup": "",
           "marker": {
            "color": "#636efa",
            "pattern": {
             "shape": ""
            }
           },
           "name": "",
           "offsetgroup": "",
           "orientation": "h",
           "showlegend": false,
           "textposition": "auto",
           "type": "bar",
           "x": [
            55.144032921810705
           ],
           "xaxis": "x",
           "y": [
            2021
           ],
           "yaxis": "y"
          }
         ],
         "name": "2021"
        },
        {
         "data": [
          {
           "alignmentgroup": "True",
           "hovertemplate": "Year=%{y}<br>Percentage of Home Wins=%{x}<extra></extra>",
           "legendgroup": "",
           "marker": {
            "color": "#636efa",
            "pattern": {
             "shape": ""
            }
           },
           "name": "",
           "offsetgroup": "",
           "orientation": "h",
           "showlegend": false,
           "textposition": "auto",
           "type": "bar",
           "x": [
            56.65171898355755
           ],
           "xaxis": "x",
           "y": [
            2022
           ],
           "yaxis": "y"
          }
         ],
         "name": "2022"
        }
       ],
       "layout": {
        "barmode": "relative",
        "height": 800,
        "hovermode": "y",
        "legend": {
         "tracegroupgap": 0
        },
        "sliders": [
         {
          "active": 0,
          "currentvalue": {
           "prefix": "Year="
          },
          "len": 0.9,
          "pad": {
           "b": 10,
           "t": 60
          },
          "steps": [
           {
            "args": [
             [
              "2003"
             ],
             {
              "frame": {
               "duration": 0,
               "redraw": true
              },
              "fromcurrent": true,
              "mode": "immediate",
              "transition": {
               "duration": 0,
               "easing": "linear"
              }
             }
            ],
            "label": "2003",
            "method": "animate"
           },
           {
            "args": [
             [
              "2004"
             ],
             {
              "frame": {
               "duration": 0,
               "redraw": true
              },
              "fromcurrent": true,
              "mode": "immediate",
              "transition": {
               "duration": 0,
               "easing": "linear"
              }
             }
            ],
            "label": "2004",
            "method": "animate"
           },
           {
            "args": [
             [
              "2005"
             ],
             {
              "frame": {
               "duration": 0,
               "redraw": true
              },
              "fromcurrent": true,
              "mode": "immediate",
              "transition": {
               "duration": 0,
               "easing": "linear"
              }
             }
            ],
            "label": "2005",
            "method": "animate"
           },
           {
            "args": [
             [
              "2006"
             ],
             {
              "frame": {
               "duration": 0,
               "redraw": true
              },
              "fromcurrent": true,
              "mode": "immediate",
              "transition": {
               "duration": 0,
               "easing": "linear"
              }
             }
            ],
            "label": "2006",
            "method": "animate"
           },
           {
            "args": [
             [
              "2007"
             ],
             {
              "frame": {
               "duration": 0,
               "redraw": true
              },
              "fromcurrent": true,
              "mode": "immediate",
              "transition": {
               "duration": 0,
               "easing": "linear"
              }
             }
            ],
            "label": "2007",
            "method": "animate"
           },
           {
            "args": [
             [
              "2008"
             ],
             {
              "frame": {
               "duration": 0,
               "redraw": true
              },
              "fromcurrent": true,
              "mode": "immediate",
              "transition": {
               "duration": 0,
               "easing": "linear"
              }
             }
            ],
            "label": "2008",
            "method": "animate"
           },
           {
            "args": [
             [
              "2009"
             ],
             {
              "frame": {
               "duration": 0,
               "redraw": true
              },
              "fromcurrent": true,
              "mode": "immediate",
              "transition": {
               "duration": 0,
               "easing": "linear"
              }
             }
            ],
            "label": "2009",
            "method": "animate"
           },
           {
            "args": [
             [
              "2010"
             ],
             {
              "frame": {
               "duration": 0,
               "redraw": true
              },
              "fromcurrent": true,
              "mode": "immediate",
              "transition": {
               "duration": 0,
               "easing": "linear"
              }
             }
            ],
            "label": "2010",
            "method": "animate"
           },
           {
            "args": [
             [
              "2011"
             ],
             {
              "frame": {
               "duration": 0,
               "redraw": true
              },
              "fromcurrent": true,
              "mode": "immediate",
              "transition": {
               "duration": 0,
               "easing": "linear"
              }
             }
            ],
            "label": "2011",
            "method": "animate"
           },
           {
            "args": [
             [
              "2012"
             ],
             {
              "frame": {
               "duration": 0,
               "redraw": true
              },
              "fromcurrent": true,
              "mode": "immediate",
              "transition": {
               "duration": 0,
               "easing": "linear"
              }
             }
            ],
            "label": "2012",
            "method": "animate"
           },
           {
            "args": [
             [
              "2013"
             ],
             {
              "frame": {
               "duration": 0,
               "redraw": true
              },
              "fromcurrent": true,
              "mode": "immediate",
              "transition": {
               "duration": 0,
               "easing": "linear"
              }
             }
            ],
            "label": "2013",
            "method": "animate"
           },
           {
            "args": [
             [
              "2014"
             ],
             {
              "frame": {
               "duration": 0,
               "redraw": true
              },
              "fromcurrent": true,
              "mode": "immediate",
              "transition": {
               "duration": 0,
               "easing": "linear"
              }
             }
            ],
            "label": "2014",
            "method": "animate"
           },
           {
            "args": [
             [
              "2015"
             ],
             {
              "frame": {
               "duration": 0,
               "redraw": true
              },
              "fromcurrent": true,
              "mode": "immediate",
              "transition": {
               "duration": 0,
               "easing": "linear"
              }
             }
            ],
            "label": "2015",
            "method": "animate"
           },
           {
            "args": [
             [
              "2016"
             ],
             {
              "frame": {
               "duration": 0,
               "redraw": true
              },
              "fromcurrent": true,
              "mode": "immediate",
              "transition": {
               "duration": 0,
               "easing": "linear"
              }
             }
            ],
            "label": "2016",
            "method": "animate"
           },
           {
            "args": [
             [
              "2017"
             ],
             {
              "frame": {
               "duration": 0,
               "redraw": true
              },
              "fromcurrent": true,
              "mode": "immediate",
              "transition": {
               "duration": 0,
               "easing": "linear"
              }
             }
            ],
            "label": "2017",
            "method": "animate"
           },
           {
            "args": [
             [
              "2018"
             ],
             {
              "frame": {
               "duration": 0,
               "redraw": true
              },
              "fromcurrent": true,
              "mode": "immediate",
              "transition": {
               "duration": 0,
               "easing": "linear"
              }
             }
            ],
            "label": "2018",
            "method": "animate"
           },
           {
            "args": [
             [
              "2019"
             ],
             {
              "frame": {
               "duration": 0,
               "redraw": true
              },
              "fromcurrent": true,
              "mode": "immediate",
              "transition": {
               "duration": 0,
               "easing": "linear"
              }
             }
            ],
            "label": "2019",
            "method": "animate"
           },
           {
            "args": [
             [
              "2020"
             ],
             {
              "frame": {
               "duration": 0,
               "redraw": true
              },
              "fromcurrent": true,
              "mode": "immediate",
              "transition": {
               "duration": 0,
               "easing": "linear"
              }
             }
            ],
            "label": "2020",
            "method": "animate"
           },
           {
            "args": [
             [
              "2021"
             ],
             {
              "frame": {
               "duration": 0,
               "redraw": true
              },
              "fromcurrent": true,
              "mode": "immediate",
              "transition": {
               "duration": 0,
               "easing": "linear"
              }
             }
            ],
            "label": "2021",
            "method": "animate"
           },
           {
            "args": [
             [
              "2022"
             ],
             {
              "frame": {
               "duration": 0,
               "redraw": true
              },
              "fromcurrent": true,
              "mode": "immediate",
              "transition": {
               "duration": 0,
               "easing": "linear"
              }
             }
            ],
            "label": "2022",
            "method": "animate"
           }
          ],
          "x": 0.1,
          "xanchor": "left",
          "y": 0,
          "yanchor": "top"
         }
        ],
        "template": {
         "data": {
          "bar": [
           {
            "error_x": {
             "color": "#2a3f5f"
            },
            "error_y": {
             "color": "#2a3f5f"
            },
            "marker": {
             "line": {
              "color": "#E5ECF6",
              "width": 0.5
             },
             "pattern": {
              "fillmode": "overlay",
              "size": 10,
              "solidity": 0.2
             }
            },
            "type": "bar"
           }
          ],
          "barpolar": [
           {
            "marker": {
             "line": {
              "color": "#E5ECF6",
              "width": 0.5
             },
             "pattern": {
              "fillmode": "overlay",
              "size": 10,
              "solidity": 0.2
             }
            },
            "type": "barpolar"
           }
          ],
          "carpet": [
           {
            "aaxis": {
             "endlinecolor": "#2a3f5f",
             "gridcolor": "white",
             "linecolor": "white",
             "minorgridcolor": "white",
             "startlinecolor": "#2a3f5f"
            },
            "baxis": {
             "endlinecolor": "#2a3f5f",
             "gridcolor": "white",
             "linecolor": "white",
             "minorgridcolor": "white",
             "startlinecolor": "#2a3f5f"
            },
            "type": "carpet"
           }
          ],
          "choropleth": [
           {
            "colorbar": {
             "outlinewidth": 0,
             "ticks": ""
            },
            "type": "choropleth"
           }
          ],
          "contour": [
           {
            "colorbar": {
             "outlinewidth": 0,
             "ticks": ""
            },
            "colorscale": [
             [
              0,
              "#0d0887"
             ],
             [
              0.1111111111111111,
              "#46039f"
             ],
             [
              0.2222222222222222,
              "#7201a8"
             ],
             [
              0.3333333333333333,
              "#9c179e"
             ],
             [
              0.4444444444444444,
              "#bd3786"
             ],
             [
              0.5555555555555556,
              "#d8576b"
             ],
             [
              0.6666666666666666,
              "#ed7953"
             ],
             [
              0.7777777777777778,
              "#fb9f3a"
             ],
             [
              0.8888888888888888,
              "#fdca26"
             ],
             [
              1,
              "#f0f921"
             ]
            ],
            "type": "contour"
           }
          ],
          "contourcarpet": [
           {
            "colorbar": {
             "outlinewidth": 0,
             "ticks": ""
            },
            "type": "contourcarpet"
           }
          ],
          "heatmap": [
           {
            "colorbar": {
             "outlinewidth": 0,
             "ticks": ""
            },
            "colorscale": [
             [
              0,
              "#0d0887"
             ],
             [
              0.1111111111111111,
              "#46039f"
             ],
             [
              0.2222222222222222,
              "#7201a8"
             ],
             [
              0.3333333333333333,
              "#9c179e"
             ],
             [
              0.4444444444444444,
              "#bd3786"
             ],
             [
              0.5555555555555556,
              "#d8576b"
             ],
             [
              0.6666666666666666,
              "#ed7953"
             ],
             [
              0.7777777777777778,
              "#fb9f3a"
             ],
             [
              0.8888888888888888,
              "#fdca26"
             ],
             [
              1,
              "#f0f921"
             ]
            ],
            "type": "heatmap"
           }
          ],
          "heatmapgl": [
           {
            "colorbar": {
             "outlinewidth": 0,
             "ticks": ""
            },
            "colorscale": [
             [
              0,
              "#0d0887"
             ],
             [
              0.1111111111111111,
              "#46039f"
             ],
             [
              0.2222222222222222,
              "#7201a8"
             ],
             [
              0.3333333333333333,
              "#9c179e"
             ],
             [
              0.4444444444444444,
              "#bd3786"
             ],
             [
              0.5555555555555556,
              "#d8576b"
             ],
             [
              0.6666666666666666,
              "#ed7953"
             ],
             [
              0.7777777777777778,
              "#fb9f3a"
             ],
             [
              0.8888888888888888,
              "#fdca26"
             ],
             [
              1,
              "#f0f921"
             ]
            ],
            "type": "heatmapgl"
           }
          ],
          "histogram": [
           {
            "marker": {
             "pattern": {
              "fillmode": "overlay",
              "size": 10,
              "solidity": 0.2
             }
            },
            "type": "histogram"
           }
          ],
          "histogram2d": [
           {
            "colorbar": {
             "outlinewidth": 0,
             "ticks": ""
            },
            "colorscale": [
             [
              0,
              "#0d0887"
             ],
             [
              0.1111111111111111,
              "#46039f"
             ],
             [
              0.2222222222222222,
              "#7201a8"
             ],
             [
              0.3333333333333333,
              "#9c179e"
             ],
             [
              0.4444444444444444,
              "#bd3786"
             ],
             [
              0.5555555555555556,
              "#d8576b"
             ],
             [
              0.6666666666666666,
              "#ed7953"
             ],
             [
              0.7777777777777778,
              "#fb9f3a"
             ],
             [
              0.8888888888888888,
              "#fdca26"
             ],
             [
              1,
              "#f0f921"
             ]
            ],
            "type": "histogram2d"
           }
          ],
          "histogram2dcontour": [
           {
            "colorbar": {
             "outlinewidth": 0,
             "ticks": ""
            },
            "colorscale": [
             [
              0,
              "#0d0887"
             ],
             [
              0.1111111111111111,
              "#46039f"
             ],
             [
              0.2222222222222222,
              "#7201a8"
             ],
             [
              0.3333333333333333,
              "#9c179e"
             ],
             [
              0.4444444444444444,
              "#bd3786"
             ],
             [
              0.5555555555555556,
              "#d8576b"
             ],
             [
              0.6666666666666666,
              "#ed7953"
             ],
             [
              0.7777777777777778,
              "#fb9f3a"
             ],
             [
              0.8888888888888888,
              "#fdca26"
             ],
             [
              1,
              "#f0f921"
             ]
            ],
            "type": "histogram2dcontour"
           }
          ],
          "mesh3d": [
           {
            "colorbar": {
             "outlinewidth": 0,
             "ticks": ""
            },
            "type": "mesh3d"
           }
          ],
          "parcoords": [
           {
            "line": {
             "colorbar": {
              "outlinewidth": 0,
              "ticks": ""
             }
            },
            "type": "parcoords"
           }
          ],
          "pie": [
           {
            "automargin": true,
            "type": "pie"
           }
          ],
          "scatter": [
           {
            "fillpattern": {
             "fillmode": "overlay",
             "size": 10,
             "solidity": 0.2
            },
            "type": "scatter"
           }
          ],
          "scatter3d": [
           {
            "line": {
             "colorbar": {
              "outlinewidth": 0,
              "ticks": ""
             }
            },
            "marker": {
             "colorbar": {
              "outlinewidth": 0,
              "ticks": ""
             }
            },
            "type": "scatter3d"
           }
          ],
          "scattercarpet": [
           {
            "marker": {
             "colorbar": {
              "outlinewidth": 0,
              "ticks": ""
             }
            },
            "type": "scattercarpet"
           }
          ],
          "scattergeo": [
           {
            "marker": {
             "colorbar": {
              "outlinewidth": 0,
              "ticks": ""
             }
            },
            "type": "scattergeo"
           }
          ],
          "scattergl": [
           {
            "marker": {
             "colorbar": {
              "outlinewidth": 0,
              "ticks": ""
             }
            },
            "type": "scattergl"
           }
          ],
          "scattermapbox": [
           {
            "marker": {
             "colorbar": {
              "outlinewidth": 0,
              "ticks": ""
             }
            },
            "type": "scattermapbox"
           }
          ],
          "scatterpolar": [
           {
            "marker": {
             "colorbar": {
              "outlinewidth": 0,
              "ticks": ""
             }
            },
            "type": "scatterpolar"
           }
          ],
          "scatterpolargl": [
           {
            "marker": {
             "colorbar": {
              "outlinewidth": 0,
              "ticks": ""
             }
            },
            "type": "scatterpolargl"
           }
          ],
          "scatterternary": [
           {
            "marker": {
             "colorbar": {
              "outlinewidth": 0,
              "ticks": ""
             }
            },
            "type": "scatterternary"
           }
          ],
          "surface": [
           {
            "colorbar": {
             "outlinewidth": 0,
             "ticks": ""
            },
            "colorscale": [
             [
              0,
              "#0d0887"
             ],
             [
              0.1111111111111111,
              "#46039f"
             ],
             [
              0.2222222222222222,
              "#7201a8"
             ],
             [
              0.3333333333333333,
              "#9c179e"
             ],
             [
              0.4444444444444444,
              "#bd3786"
             ],
             [
              0.5555555555555556,
              "#d8576b"
             ],
             [
              0.6666666666666666,
              "#ed7953"
             ],
             [
              0.7777777777777778,
              "#fb9f3a"
             ],
             [
              0.8888888888888888,
              "#fdca26"
             ],
             [
              1,
              "#f0f921"
             ]
            ],
            "type": "surface"
           }
          ],
          "table": [
           {
            "cells": {
             "fill": {
              "color": "#EBF0F8"
             },
             "line": {
              "color": "white"
             }
            },
            "header": {
             "fill": {
              "color": "#C8D4E3"
             },
             "line": {
              "color": "white"
             }
            },
            "type": "table"
           }
          ]
         },
         "layout": {
          "annotationdefaults": {
           "arrowcolor": "#2a3f5f",
           "arrowhead": 0,
           "arrowwidth": 1
          },
          "autotypenumbers": "strict",
          "coloraxis": {
           "colorbar": {
            "outlinewidth": 0,
            "ticks": ""
           }
          },
          "colorscale": {
           "diverging": [
            [
             0,
             "#8e0152"
            ],
            [
             0.1,
             "#c51b7d"
            ],
            [
             0.2,
             "#de77ae"
            ],
            [
             0.3,
             "#f1b6da"
            ],
            [
             0.4,
             "#fde0ef"
            ],
            [
             0.5,
             "#f7f7f7"
            ],
            [
             0.6,
             "#e6f5d0"
            ],
            [
             0.7,
             "#b8e186"
            ],
            [
             0.8,
             "#7fbc41"
            ],
            [
             0.9,
             "#4d9221"
            ],
            [
             1,
             "#276419"
            ]
           ],
           "sequential": [
            [
             0,
             "#0d0887"
            ],
            [
             0.1111111111111111,
             "#46039f"
            ],
            [
             0.2222222222222222,
             "#7201a8"
            ],
            [
             0.3333333333333333,
             "#9c179e"
            ],
            [
             0.4444444444444444,
             "#bd3786"
            ],
            [
             0.5555555555555556,
             "#d8576b"
            ],
            [
             0.6666666666666666,
             "#ed7953"
            ],
            [
             0.7777777777777778,
             "#fb9f3a"
            ],
            [
             0.8888888888888888,
             "#fdca26"
            ],
            [
             1,
             "#f0f921"
            ]
           ],
           "sequentialminus": [
            [
             0,
             "#0d0887"
            ],
            [
             0.1111111111111111,
             "#46039f"
            ],
            [
             0.2222222222222222,
             "#7201a8"
            ],
            [
             0.3333333333333333,
             "#9c179e"
            ],
            [
             0.4444444444444444,
             "#bd3786"
            ],
            [
             0.5555555555555556,
             "#d8576b"
            ],
            [
             0.6666666666666666,
             "#ed7953"
            ],
            [
             0.7777777777777778,
             "#fb9f3a"
            ],
            [
             0.8888888888888888,
             "#fdca26"
            ],
            [
             1,
             "#f0f921"
            ]
           ]
          },
          "colorway": [
           "#636efa",
           "#EF553B",
           "#00cc96",
           "#ab63fa",
           "#FFA15A",
           "#19d3f3",
           "#FF6692",
           "#B6E880",
           "#FF97FF",
           "#FECB52"
          ],
          "font": {
           "color": "#2a3f5f"
          },
          "geo": {
           "bgcolor": "white",
           "lakecolor": "white",
           "landcolor": "#E5ECF6",
           "showlakes": true,
           "showland": true,
           "subunitcolor": "white"
          },
          "hoverlabel": {
           "align": "left"
          },
          "hovermode": "closest",
          "mapbox": {
           "style": "light"
          },
          "paper_bgcolor": "white",
          "plot_bgcolor": "#E5ECF6",
          "polar": {
           "angularaxis": {
            "gridcolor": "white",
            "linecolor": "white",
            "ticks": ""
           },
           "bgcolor": "#E5ECF6",
           "radialaxis": {
            "gridcolor": "white",
            "linecolor": "white",
            "ticks": ""
           }
          },
          "scene": {
           "xaxis": {
            "backgroundcolor": "#E5ECF6",
            "gridcolor": "white",
            "gridwidth": 2,
            "linecolor": "white",
            "showbackground": true,
            "ticks": "",
            "zerolinecolor": "white"
           },
           "yaxis": {
            "backgroundcolor": "#E5ECF6",
            "gridcolor": "white",
            "gridwidth": 2,
            "linecolor": "white",
            "showbackground": true,
            "ticks": "",
            "zerolinecolor": "white"
           },
           "zaxis": {
            "backgroundcolor": "#E5ECF6",
            "gridcolor": "white",
            "gridwidth": 2,
            "linecolor": "white",
            "showbackground": true,
            "ticks": "",
            "zerolinecolor": "white"
           }
          },
          "shapedefaults": {
           "line": {
            "color": "#2a3f5f"
           }
          },
          "ternary": {
           "aaxis": {
            "gridcolor": "white",
            "linecolor": "white",
            "ticks": ""
           },
           "baxis": {
            "gridcolor": "white",
            "linecolor": "white",
            "ticks": ""
           },
           "bgcolor": "#E5ECF6",
           "caxis": {
            "gridcolor": "white",
            "linecolor": "white",
            "ticks": ""
           }
          },
          "title": {
           "x": 0.05
          },
          "xaxis": {
           "automargin": true,
           "gridcolor": "white",
           "linecolor": "white",
           "ticks": "",
           "title": {
            "standoff": 15
           },
           "zerolinecolor": "white",
           "zerolinewidth": 2
          },
          "yaxis": {
           "automargin": true,
           "gridcolor": "white",
           "linecolor": "white",
           "ticks": "",
           "title": {
            "standoff": 15
           },
           "zerolinecolor": "white",
           "zerolinewidth": 2
          }
         }
        },
        "title": {
         "text": "Percentage of Home Team Wins Over Time"
        },
        "updatemenus": [
         {
          "buttons": [
           {
            "args": [
             null,
             {
              "frame": {
               "duration": 500,
               "redraw": true
              },
              "fromcurrent": true,
              "mode": "immediate",
              "transition": {
               "duration": 500,
               "easing": "linear"
              }
             }
            ],
            "label": "&#9654;",
            "method": "animate"
           },
           {
            "args": [
             [
              null
             ],
             {
              "frame": {
               "duration": 0,
               "redraw": true
              },
              "fromcurrent": true,
              "mode": "immediate",
              "transition": {
               "duration": 0,
               "easing": "linear"
              }
             }
            ],
            "label": "&#9724;",
            "method": "animate"
           }
          ],
          "direction": "left",
          "pad": {
           "r": 10,
           "t": 70
          },
          "showactive": false,
          "type": "buttons",
          "x": 0.1,
          "xanchor": "right",
          "y": 0,
          "yanchor": "top"
         }
        ],
        "width": 1200,
        "xaxis": {
         "anchor": "y",
         "domain": [
          0,
          1
         ],
         "range": [
          0,
          100
         ],
         "title": {
          "text": "Percentage of Home Wins (%)"
         }
        },
        "yaxis": {
         "anchor": "x",
         "categoryarray": [
          2022,
          2021,
          2020,
          2019,
          2018,
          2017,
          2016,
          2015,
          2014,
          2013,
          2012,
          2011,
          2010,
          2009,
          2008,
          2007,
          2006,
          2005,
          2004,
          2003
         ],
         "categoryorder": "array",
         "domain": [
          0,
          1
         ],
         "range": [
          2003,
          2022
         ],
         "tickmode": "linear",
         "title": {
          "text": "Year"
         }
        }
       }
      }
     },
     "metadata": {},
     "output_type": "display_data"
    }
   ],
   "source": [
    "\n",
    "games_data = pd.read_csv('./ALEC FOLDER/games.csv' )\n",
    "games_data['GAME_DATE_EST'] = pd.to_datetime(games_data['GAME_DATE_EST'])\n",
    "games_data['YEAR'] = games_data['GAME_DATE_EST'].dt.year\n",
    "\n",
    "# Aggregate the data\n",
    "yearly_stats = games_data.groupby('YEAR').agg(\n",
    "    Total_Games=('HOME_TEAM_WINS', 'size'),\n",
    "    Home_Wins=('HOME_TEAM_WINS', 'sum')\n",
    ").reset_index()  \n",
    "\n",
    "yearly_stats['Home_Win_Percentage'] = (yearly_stats['Home_Wins'] / yearly_stats['Total_Games']) * 100\n",
    "\n",
    "# Create an animated horizontal bar chart\n",
    "fig = px.bar(\n",
    "    yearly_stats,\n",
    "    y='YEAR',  \n",
    "    x='Home_Win_Percentage',\n",
    "    labels={'Home_Win_Percentage': 'Percentage of Home Wins', 'YEAR': 'Year'},\n",
    "    title='Percentage of Home Team Wins Over Time',\n",
    "    animation_frame='YEAR',  \n",
    "    orientation='h',  \n",
    "    range_x=[0, 100]  \n",
    ")\n",
    "\n",
    "fig.update_layout(\n",
    "    height=800,  \n",
    "    width=1200,  \n",
    "    yaxis_title='Year',\n",
    "    xaxis_title='Percentage of Home Wins (%)',\n",
    "    yaxis=dict(\n",
    "        range=[yearly_stats['YEAR'].min(), yearly_stats['YEAR'].max()],\n",
    "        tickmode='linear'\n",
    "    ),\n",
    "    hovermode='y'  \n",
    ")\n",
    "\n",
    "\n",
    "fig.show()"
   ]
  },
  {
   "cell_type": "code",
   "execution_count": 8,
   "metadata": {},
   "outputs": [
    {
     "name": "stderr",
     "output_type": "stream",
     "text": [
      "/var/folders/wj/_8fkb1x10xn9hxrq5p8pfh280000gn/T/ipykernel_27302/1889672992.py:19: SettingWithCopyWarning:\n",
      "\n",
      "\n",
      "A value is trying to be set on a copy of a slice from a DataFrame.\n",
      "Try using .loc[row_indexer,col_indexer] = value instead\n",
      "\n",
      "See the caveats in the documentation: https://pandas.pydata.org/pandas-docs/stable/user_guide/indexing.html#returning-a-view-versus-a-copy\n",
      "\n"
     ]
    },
    {
     "name": "stdout",
     "output_type": "stream",
     "text": [
      "       season_id     season\n",
      "50906      22011  2010-2011\n",
      "51870      42011  2010-2011\n",
      "51954      32011  2010-2011\n",
      "51955      12012  2011-2012\n",
      "52071      42012  2011-2012\n",
      "52156      32012  2011-2012\n",
      "52158      22013  2012-2013\n",
      "53388      12013  2012-2013\n",
      "53503      42013  2012-2013\n",
      "53592      32013  2012-2013\n",
      "53593      22014  2013-2014\n",
      "54823      12014  2013-2014\n",
      "54941      42014  2013-2014\n",
      "55022      32014  2013-2014\n",
      "55024      22015  2014-2015\n",
      "56254      12015  2014-2015\n",
      "56363      42015  2014-2015\n",
      "56449      32015  2014-2015\n",
      "56451      22016  2015-2016\n",
      "57681      12016  2015-2016\n",
      "57782      42016  2015-2016\n",
      "57861      32016  2015-2016\n",
      "57863      22017  2016-2017\n",
      "59093      12017  2016-2017\n",
      "59171      42017  2016-2017\n",
      "59253      32017  2016-2017\n",
      "59255      22018  2017-2018\n",
      "60485      42018  2017-2018\n",
      "60567      32018  2017-2018\n",
      "60569      22019  2018-2019\n",
      "61628      42019  2018-2019\n",
      "61711      32019  2018-2019\n",
      "61712      22020  2019-2020\n",
      "62792      12020  2019-2020\n",
      "62841      42020  2019-2020\n",
      "62926      32020  2019-2020\n",
      "62928      22021  2020-2021\n",
      "64158      12021  2020-2021\n",
      "64224      42021  2020-2021\n",
      "64311      32021  2020-2021\n",
      "64312      22022  2021-2022\n",
      "65542      12022  2021-2022\n",
      "65612      42022  2021-2022\n",
      "65696      32022  2021-2022\n"
     ]
    },
    {
     "data": {
      "application/vnd.plotly.v1+json": {
       "config": {
        "plotlyServerURL": "https://plot.ly"
       },
       "data": [
        {
         "customdata": [
          [
           "2010-2011"
          ]
         ],
         "hovertemplate": "team_abbreviation=ATL<br>season=%{customdata[0]}<br>Total Personal Fouls=%{x}<br>Average Defensive Efficiency=%{y}<extra></extra>",
         "legendgroup": "ATL",
         "marker": {
          "color": "#636efa",
          "symbol": "circle"
         },
         "mode": "markers",
         "name": "ATL",
         "orientation": "v",
         "showlegend": true,
         "type": "scatter",
         "x": [
          596
         ],
         "xaxis": "x",
         "y": [
          88.93900847346248
         ],
         "yaxis": "y"
        },
        {
         "customdata": [
          [
           "2010-2011"
          ]
         ],
         "hovertemplate": "team_abbreviation=BOS<br>season=%{customdata[0]}<br>Total Personal Fouls=%{x}<br>Average Defensive Efficiency=%{y}<extra></extra>",
         "legendgroup": "BOS",
         "marker": {
          "color": "#EF553B",
          "symbol": "circle"
         },
         "mode": "markers",
         "name": "BOS",
         "orientation": "v",
         "showlegend": true,
         "type": "scatter",
         "x": [
          769
         ],
         "xaxis": "x",
         "y": [
          80.85952060607788
         ],
         "yaxis": "y"
        },
        {
         "customdata": [
          [
           "2010-2011"
          ]
         ],
         "hovertemplate": "team_abbreviation=CHA<br>season=%{customdata[0]}<br>Total Personal Fouls=%{x}<br>Average Defensive Efficiency=%{y}<extra></extra>",
         "legendgroup": "CHA",
         "marker": {
          "color": "#00cc96",
          "symbol": "circle"
         },
         "mode": "markers",
         "name": "CHA",
         "orientation": "v",
         "showlegend": true,
         "type": "scatter",
         "x": [
          513
         ],
         "xaxis": "x",
         "y": [
          96.12982109364478
         ],
         "yaxis": "y"
        },
        {
         "customdata": [
          [
           "2010-2011"
          ]
         ],
         "hovertemplate": "team_abbreviation=CHI<br>season=%{customdata[0]}<br>Total Personal Fouls=%{x}<br>Average Defensive Efficiency=%{y}<extra></extra>",
         "legendgroup": "CHI",
         "marker": {
          "color": "#ab63fa",
          "symbol": "circle"
         },
         "mode": "markers",
         "name": "CHI",
         "orientation": "v",
         "showlegend": true,
         "type": "scatter",
         "x": [
          563
         ],
         "xaxis": "x",
         "y": [
          84.5346468993661
         ],
         "yaxis": "y"
        },
        {
         "customdata": [
          [
           "2010-2011"
          ]
         ],
         "hovertemplate": "team_abbreviation=CLE<br>season=%{customdata[0]}<br>Total Personal Fouls=%{x}<br>Average Defensive Efficiency=%{y}<extra></extra>",
         "legendgroup": "CLE",
         "marker": {
          "color": "#FFA15A",
          "symbol": "circle"
         },
         "mode": "markers",
         "name": "CLE",
         "orientation": "v",
         "showlegend": true,
         "type": "scatter",
         "x": [
          544
         ],
         "xaxis": "x",
         "y": [
          95.41268907666743
         ],
         "yaxis": "y"
        },
        {
         "customdata": [
          [
           "2010-2011"
          ]
         ],
         "hovertemplate": "team_abbreviation=DAL<br>season=%{customdata[0]}<br>Total Personal Fouls=%{x}<br>Average Defensive Efficiency=%{y}<extra></extra>",
         "legendgroup": "DAL",
         "marker": {
          "color": "#19d3f3",
          "symbol": "circle"
         },
         "mode": "markers",
         "name": "DAL",
         "orientation": "v",
         "showlegend": true,
         "type": "scatter",
         "x": [
          537
         ],
         "xaxis": "x",
         "y": [
          87.99485726608997
         ],
         "yaxis": "y"
        },
        {
         "customdata": [
          [
           "2010-2011"
          ]
         ],
         "hovertemplate": "team_abbreviation=DEN<br>season=%{customdata[0]}<br>Total Personal Fouls=%{x}<br>Average Defensive Efficiency=%{y}<extra></extra>",
         "legendgroup": "DEN",
         "marker": {
          "color": "#FF6692",
          "symbol": "circle"
         },
         "mode": "markers",
         "name": "DEN",
         "orientation": "v",
         "showlegend": true,
         "type": "scatter",
         "x": [
          631
         ],
         "xaxis": "x",
         "y": [
          90.67549987801355
         ],
         "yaxis": "y"
        },
        {
         "customdata": [
          [
           "2010-2011"
          ]
         ],
         "hovertemplate": "team_abbreviation=DET<br>season=%{customdata[0]}<br>Total Personal Fouls=%{x}<br>Average Defensive Efficiency=%{y}<extra></extra>",
         "legendgroup": "DET",
         "marker": {
          "color": "#B6E880",
          "symbol": "circle"
         },
         "mode": "markers",
         "name": "DET",
         "orientation": "v",
         "showlegend": true,
         "type": "scatter",
         "x": [
          557
         ],
         "xaxis": "x",
         "y": [
          91.26122033883809
         ],
         "yaxis": "y"
        },
        {
         "customdata": [
          [
           "2010-2011"
          ]
         ],
         "hovertemplate": "team_abbreviation=GSW<br>season=%{customdata[0]}<br>Total Personal Fouls=%{x}<br>Average Defensive Efficiency=%{y}<extra></extra>",
         "legendgroup": "GSW",
         "marker": {
          "color": "#FF97FF",
          "symbol": "circle"
         },
         "mode": "markers",
         "name": "GSW",
         "orientation": "v",
         "showlegend": true,
         "type": "scatter",
         "x": [
          551
         ],
         "xaxis": "x",
         "y": [
          93.79348462342665
         ],
         "yaxis": "y"
        },
        {
         "customdata": [
          [
           "2010-2011"
          ]
         ],
         "hovertemplate": "team_abbreviation=HOU<br>season=%{customdata[0]}<br>Total Personal Fouls=%{x}<br>Average Defensive Efficiency=%{y}<extra></extra>",
         "legendgroup": "HOU",
         "marker": {
          "color": "#FECB52",
          "symbol": "circle"
         },
         "mode": "markers",
         "name": "HOU",
         "orientation": "v",
         "showlegend": true,
         "type": "scatter",
         "x": [
          579
         ],
         "xaxis": "x",
         "y": [
          89.93974663502165
         ],
         "yaxis": "y"
        },
        {
         "customdata": [
          [
           "2010-2011"
          ]
         ],
         "hovertemplate": "team_abbreviation=IND<br>season=%{customdata[0]}<br>Total Personal Fouls=%{x}<br>Average Defensive Efficiency=%{y}<extra></extra>",
         "legendgroup": "IND",
         "marker": {
          "color": "#636efa",
          "symbol": "circle"
         },
         "mode": "markers",
         "name": "IND",
         "orientation": "v",
         "showlegend": true,
         "type": "scatter",
         "x": [
          737
         ],
         "xaxis": "x",
         "y": [
          88.14633081925804
         ],
         "yaxis": "y"
        },
        {
         "customdata": [
          [
           "2010-2011"
          ]
         ],
         "hovertemplate": "team_abbreviation=LAC<br>season=%{customdata[0]}<br>Total Personal Fouls=%{x}<br>Average Defensive Efficiency=%{y}<extra></extra>",
         "legendgroup": "LAC",
         "marker": {
          "color": "#EF553B",
          "symbol": "circle"
         },
         "mode": "markers",
         "name": "LAC",
         "orientation": "v",
         "showlegend": true,
         "type": "scatter",
         "x": [
          720
         ],
         "xaxis": "x",
         "y": [
          90.15452482563192
         ],
         "yaxis": "y"
        },
        {
         "customdata": [
          [
           "2010-2011"
          ]
         ],
         "hovertemplate": "team_abbreviation=LAL<br>season=%{customdata[0]}<br>Total Personal Fouls=%{x}<br>Average Defensive Efficiency=%{y}<extra></extra>",
         "legendgroup": "LAL",
         "marker": {
          "color": "#00cc96",
          "symbol": "circle"
         },
         "mode": "markers",
         "name": "LAL",
         "orientation": "v",
         "showlegend": true,
         "type": "scatter",
         "x": [
          558
         ],
         "xaxis": "x",
         "y": [
          88.78337050027845
         ],
         "yaxis": "y"
        },
        {
         "customdata": [
          [
           "2010-2011"
          ]
         ],
         "hovertemplate": "team_abbreviation=MEM<br>season=%{customdata[0]}<br>Total Personal Fouls=%{x}<br>Average Defensive Efficiency=%{y}<extra></extra>",
         "legendgroup": "MEM",
         "marker": {
          "color": "#ab63fa",
          "symbol": "circle"
         },
         "mode": "markers",
         "name": "MEM",
         "orientation": "v",
         "showlegend": true,
         "type": "scatter",
         "x": [
          637
         ],
         "xaxis": "x",
         "y": [
          86.88451689234559
         ],
         "yaxis": "y"
        },
        {
         "customdata": [
          [
           "2010-2011"
          ]
         ],
         "hovertemplate": "team_abbreviation=MIA<br>season=%{customdata[0]}<br>Total Personal Fouls=%{x}<br>Average Defensive Efficiency=%{y}<extra></extra>",
         "legendgroup": "MIA",
         "marker": {
          "color": "#FFA15A",
          "symbol": "circle"
         },
         "mode": "markers",
         "name": "MIA",
         "orientation": "v",
         "showlegend": true,
         "type": "scatter",
         "x": [
          805
         ],
         "xaxis": "x",
         "y": [
          85.8386698297236
         ],
         "yaxis": "y"
        },
        {
         "customdata": [
          [
           "2010-2011"
          ]
         ],
         "hovertemplate": "team_abbreviation=MIL<br>season=%{customdata[0]}<br>Total Personal Fouls=%{x}<br>Average Defensive Efficiency=%{y}<extra></extra>",
         "legendgroup": "MIL",
         "marker": {
          "color": "#19d3f3",
          "symbol": "circle"
         },
         "mode": "markers",
         "name": "MIL",
         "orientation": "v",
         "showlegend": true,
         "type": "scatter",
         "x": [
          506
         ],
         "xaxis": "x",
         "y": [
          93.3489340485036
         ],
         "yaxis": "y"
        },
        {
         "customdata": [
          [
           "2010-2011"
          ]
         ],
         "hovertemplate": "team_abbreviation=MIN<br>season=%{customdata[0]}<br>Total Personal Fouls=%{x}<br>Average Defensive Efficiency=%{y}<extra></extra>",
         "legendgroup": "MIN",
         "marker": {
          "color": "#FF6692",
          "symbol": "circle"
         },
         "mode": "markers",
         "name": "MIN",
         "orientation": "v",
         "showlegend": true,
         "type": "scatter",
         "x": [
          519
         ],
         "xaxis": "x",
         "y": [
          91.53399792300426
         ],
         "yaxis": "y"
        },
        {
         "customdata": [
          [
           "2010-2011"
          ]
         ],
         "hovertemplate": "team_abbreviation=NYK<br>season=%{customdata[0]}<br>Total Personal Fouls=%{x}<br>Average Defensive Efficiency=%{y}<extra></extra>",
         "legendgroup": "NYK",
         "marker": {
          "color": "#B6E880",
          "symbol": "circle"
         },
         "mode": "markers",
         "name": "NYK",
         "orientation": "v",
         "showlegend": true,
         "type": "scatter",
         "x": [
          659
         ],
         "xaxis": "x",
         "y": [
          86.8592386487718
         ],
         "yaxis": "y"
        },
        {
         "customdata": [
          [
           "2010-2011"
          ]
         ],
         "hovertemplate": "team_abbreviation=OKC<br>season=%{customdata[0]}<br>Total Personal Fouls=%{x}<br>Average Defensive Efficiency=%{y}<extra></extra>",
         "legendgroup": "OKC",
         "marker": {
          "color": "#FF97FF",
          "symbol": "circle"
         },
         "mode": "markers",
         "name": "OKC",
         "orientation": "v",
         "showlegend": true,
         "type": "scatter",
         "x": [
          748
         ],
         "xaxis": "x",
         "y": [
          89.25380439716568
         ],
         "yaxis": "y"
        },
        {
         "customdata": [
          [
           "2010-2011"
          ]
         ],
         "hovertemplate": "team_abbreviation=ORL<br>season=%{customdata[0]}<br>Total Personal Fouls=%{x}<br>Average Defensive Efficiency=%{y}<extra></extra>",
         "legendgroup": "ORL",
         "marker": {
          "color": "#FECB52",
          "symbol": "circle"
         },
         "mode": "markers",
         "name": "ORL",
         "orientation": "v",
         "showlegend": true,
         "type": "scatter",
         "x": [
          563
         ],
         "xaxis": "x",
         "y": [
          91.83580092050764
         ],
         "yaxis": "y"
        },
        {
         "customdata": [
          [
           "2010-2011"
          ]
         ],
         "hovertemplate": "team_abbreviation=PHI<br>season=%{customdata[0]}<br>Total Personal Fouls=%{x}<br>Average Defensive Efficiency=%{y}<extra></extra>",
         "legendgroup": "PHI",
         "marker": {
          "color": "#636efa",
          "symbol": "circle"
         },
         "mode": "markers",
         "name": "PHI",
         "orientation": "v",
         "showlegend": true,
         "type": "scatter",
         "x": [
          624
         ],
         "xaxis": "x",
         "y": [
          83.5580314435048
         ],
         "yaxis": "y"
        },
        {
         "customdata": [
          [
           "2010-2011"
          ]
         ],
         "hovertemplate": "team_abbreviation=PHX<br>season=%{customdata[0]}<br>Total Personal Fouls=%{x}<br>Average Defensive Efficiency=%{y}<extra></extra>",
         "legendgroup": "PHX",
         "marker": {
          "color": "#EF553B",
          "symbol": "circle"
         },
         "mode": "markers",
         "name": "PHX",
         "orientation": "v",
         "showlegend": true,
         "type": "scatter",
         "x": [
          513
         ],
         "xaxis": "x",
         "y": [
          92.30822235251333
         ],
         "yaxis": "y"
        },
        {
         "customdata": [
          [
           "2010-2011"
          ]
         ],
         "hovertemplate": "team_abbreviation=POR<br>season=%{customdata[0]}<br>Total Personal Fouls=%{x}<br>Average Defensive Efficiency=%{y}<extra></extra>",
         "legendgroup": "POR",
         "marker": {
          "color": "#00cc96",
          "symbol": "circle"
         },
         "mode": "markers",
         "name": "POR",
         "orientation": "v",
         "showlegend": true,
         "type": "scatter",
         "x": [
          499
         ],
         "xaxis": "x",
         "y": [
          92.29274711478291
         ],
         "yaxis": "y"
        },
        {
         "customdata": [
          [
           "2010-2011"
          ]
         ],
         "hovertemplate": "team_abbreviation=SAC<br>season=%{customdata[0]}<br>Total Personal Fouls=%{x}<br>Average Defensive Efficiency=%{y}<extra></extra>",
         "legendgroup": "SAC",
         "marker": {
          "color": "#ab63fa",
          "symbol": "circle"
         },
         "mode": "markers",
         "name": "SAC",
         "orientation": "v",
         "showlegend": true,
         "type": "scatter",
         "x": [
          499
         ],
         "xaxis": "x",
         "y": [
          96.22988272013257
         ],
         "yaxis": "y"
        },
        {
         "customdata": [
          [
           "2010-2011"
          ]
         ],
         "hovertemplate": "team_abbreviation=SAS<br>season=%{customdata[0]}<br>Total Personal Fouls=%{x}<br>Average Defensive Efficiency=%{y}<extra></extra>",
         "legendgroup": "SAS",
         "marker": {
          "color": "#FFA15A",
          "symbol": "circle"
         },
         "mode": "markers",
         "name": "SAS",
         "orientation": "v",
         "showlegend": true,
         "type": "scatter",
         "x": [
          626
         ],
         "xaxis": "x",
         "y": [
          88.82032176625779
         ],
         "yaxis": "y"
        },
        {
         "customdata": [
          [
           "2010-2011"
          ]
         ],
         "hovertemplate": "team_abbreviation=TOR<br>season=%{customdata[0]}<br>Total Personal Fouls=%{x}<br>Average Defensive Efficiency=%{y}<extra></extra>",
         "legendgroup": "TOR",
         "marker": {
          "color": "#19d3f3",
          "symbol": "circle"
         },
         "mode": "markers",
         "name": "TOR",
         "orientation": "v",
         "showlegend": true,
         "type": "scatter",
         "x": [
          682
         ],
         "xaxis": "x",
         "y": [
          91.56528384808345
         ],
         "yaxis": "y"
        },
        {
         "customdata": [
          [
           "2010-2011"
          ]
         ],
         "hovertemplate": "team_abbreviation=UTA<br>season=%{customdata[0]}<br>Total Personal Fouls=%{x}<br>Average Defensive Efficiency=%{y}<extra></extra>",
         "legendgroup": "UTA",
         "marker": {
          "color": "#FF6692",
          "symbol": "circle"
         },
         "mode": "markers",
         "name": "UTA",
         "orientation": "v",
         "showlegend": true,
         "type": "scatter",
         "x": [
          655
         ],
         "xaxis": "x",
         "y": [
          89.62699137319248
         ],
         "yaxis": "y"
        },
        {
         "customdata": [
          [
           "2010-2011"
          ]
         ],
         "hovertemplate": "team_abbreviation=WAS<br>season=%{customdata[0]}<br>Total Personal Fouls=%{x}<br>Average Defensive Efficiency=%{y}<extra></extra>",
         "legendgroup": "WAS",
         "marker": {
          "color": "#B6E880",
          "symbol": "circle"
         },
         "mode": "markers",
         "name": "WAS",
         "orientation": "v",
         "showlegend": true,
         "type": "scatter",
         "x": [
          690
         ],
         "xaxis": "x",
         "y": [
          91.73475448584229
         ],
         "yaxis": "y"
        }
       ],
       "frames": [
        {
         "data": [
          {
           "customdata": [
            [
             "2010-2011"
            ]
           ],
           "hovertemplate": "team_abbreviation=ATL<br>season=%{customdata[0]}<br>Total Personal Fouls=%{x}<br>Average Defensive Efficiency=%{y}<extra></extra>",
           "legendgroup": "ATL",
           "marker": {
            "color": "#636efa",
            "symbol": "circle"
           },
           "mode": "markers",
           "name": "ATL",
           "orientation": "v",
           "showlegend": true,
           "type": "scatter",
           "x": [
            596
           ],
           "xaxis": "x",
           "y": [
            88.93900847346248
           ],
           "yaxis": "y"
          },
          {
           "customdata": [
            [
             "2010-2011"
            ]
           ],
           "hovertemplate": "team_abbreviation=BOS<br>season=%{customdata[0]}<br>Total Personal Fouls=%{x}<br>Average Defensive Efficiency=%{y}<extra></extra>",
           "legendgroup": "BOS",
           "marker": {
            "color": "#EF553B",
            "symbol": "circle"
           },
           "mode": "markers",
           "name": "BOS",
           "orientation": "v",
           "showlegend": true,
           "type": "scatter",
           "x": [
            769
           ],
           "xaxis": "x",
           "y": [
            80.85952060607788
           ],
           "yaxis": "y"
          },
          {
           "customdata": [
            [
             "2010-2011"
            ]
           ],
           "hovertemplate": "team_abbreviation=CHA<br>season=%{customdata[0]}<br>Total Personal Fouls=%{x}<br>Average Defensive Efficiency=%{y}<extra></extra>",
           "legendgroup": "CHA",
           "marker": {
            "color": "#00cc96",
            "symbol": "circle"
           },
           "mode": "markers",
           "name": "CHA",
           "orientation": "v",
           "showlegend": true,
           "type": "scatter",
           "x": [
            513
           ],
           "xaxis": "x",
           "y": [
            96.12982109364478
           ],
           "yaxis": "y"
          },
          {
           "customdata": [
            [
             "2010-2011"
            ]
           ],
           "hovertemplate": "team_abbreviation=CHI<br>season=%{customdata[0]}<br>Total Personal Fouls=%{x}<br>Average Defensive Efficiency=%{y}<extra></extra>",
           "legendgroup": "CHI",
           "marker": {
            "color": "#ab63fa",
            "symbol": "circle"
           },
           "mode": "markers",
           "name": "CHI",
           "orientation": "v",
           "showlegend": true,
           "type": "scatter",
           "x": [
            563
           ],
           "xaxis": "x",
           "y": [
            84.5346468993661
           ],
           "yaxis": "y"
          },
          {
           "customdata": [
            [
             "2010-2011"
            ]
           ],
           "hovertemplate": "team_abbreviation=CLE<br>season=%{customdata[0]}<br>Total Personal Fouls=%{x}<br>Average Defensive Efficiency=%{y}<extra></extra>",
           "legendgroup": "CLE",
           "marker": {
            "color": "#FFA15A",
            "symbol": "circle"
           },
           "mode": "markers",
           "name": "CLE",
           "orientation": "v",
           "showlegend": true,
           "type": "scatter",
           "x": [
            544
           ],
           "xaxis": "x",
           "y": [
            95.41268907666743
           ],
           "yaxis": "y"
          },
          {
           "customdata": [
            [
             "2010-2011"
            ]
           ],
           "hovertemplate": "team_abbreviation=DAL<br>season=%{customdata[0]}<br>Total Personal Fouls=%{x}<br>Average Defensive Efficiency=%{y}<extra></extra>",
           "legendgroup": "DAL",
           "marker": {
            "color": "#19d3f3",
            "symbol": "circle"
           },
           "mode": "markers",
           "name": "DAL",
           "orientation": "v",
           "showlegend": true,
           "type": "scatter",
           "x": [
            537
           ],
           "xaxis": "x",
           "y": [
            87.99485726608997
           ],
           "yaxis": "y"
          },
          {
           "customdata": [
            [
             "2010-2011"
            ]
           ],
           "hovertemplate": "team_abbreviation=DEN<br>season=%{customdata[0]}<br>Total Personal Fouls=%{x}<br>Average Defensive Efficiency=%{y}<extra></extra>",
           "legendgroup": "DEN",
           "marker": {
            "color": "#FF6692",
            "symbol": "circle"
           },
           "mode": "markers",
           "name": "DEN",
           "orientation": "v",
           "showlegend": true,
           "type": "scatter",
           "x": [
            631
           ],
           "xaxis": "x",
           "y": [
            90.67549987801355
           ],
           "yaxis": "y"
          },
          {
           "customdata": [
            [
             "2010-2011"
            ]
           ],
           "hovertemplate": "team_abbreviation=DET<br>season=%{customdata[0]}<br>Total Personal Fouls=%{x}<br>Average Defensive Efficiency=%{y}<extra></extra>",
           "legendgroup": "DET",
           "marker": {
            "color": "#B6E880",
            "symbol": "circle"
           },
           "mode": "markers",
           "name": "DET",
           "orientation": "v",
           "showlegend": true,
           "type": "scatter",
           "x": [
            557
           ],
           "xaxis": "x",
           "y": [
            91.26122033883809
           ],
           "yaxis": "y"
          },
          {
           "customdata": [
            [
             "2010-2011"
            ]
           ],
           "hovertemplate": "team_abbreviation=GSW<br>season=%{customdata[0]}<br>Total Personal Fouls=%{x}<br>Average Defensive Efficiency=%{y}<extra></extra>",
           "legendgroup": "GSW",
           "marker": {
            "color": "#FF97FF",
            "symbol": "circle"
           },
           "mode": "markers",
           "name": "GSW",
           "orientation": "v",
           "showlegend": true,
           "type": "scatter",
           "x": [
            551
           ],
           "xaxis": "x",
           "y": [
            93.79348462342665
           ],
           "yaxis": "y"
          },
          {
           "customdata": [
            [
             "2010-2011"
            ]
           ],
           "hovertemplate": "team_abbreviation=HOU<br>season=%{customdata[0]}<br>Total Personal Fouls=%{x}<br>Average Defensive Efficiency=%{y}<extra></extra>",
           "legendgroup": "HOU",
           "marker": {
            "color": "#FECB52",
            "symbol": "circle"
           },
           "mode": "markers",
           "name": "HOU",
           "orientation": "v",
           "showlegend": true,
           "type": "scatter",
           "x": [
            579
           ],
           "xaxis": "x",
           "y": [
            89.93974663502165
           ],
           "yaxis": "y"
          },
          {
           "customdata": [
            [
             "2010-2011"
            ]
           ],
           "hovertemplate": "team_abbreviation=IND<br>season=%{customdata[0]}<br>Total Personal Fouls=%{x}<br>Average Defensive Efficiency=%{y}<extra></extra>",
           "legendgroup": "IND",
           "marker": {
            "color": "#636efa",
            "symbol": "circle"
           },
           "mode": "markers",
           "name": "IND",
           "orientation": "v",
           "showlegend": true,
           "type": "scatter",
           "x": [
            737
           ],
           "xaxis": "x",
           "y": [
            88.14633081925804
           ],
           "yaxis": "y"
          },
          {
           "customdata": [
            [
             "2010-2011"
            ]
           ],
           "hovertemplate": "team_abbreviation=LAC<br>season=%{customdata[0]}<br>Total Personal Fouls=%{x}<br>Average Defensive Efficiency=%{y}<extra></extra>",
           "legendgroup": "LAC",
           "marker": {
            "color": "#EF553B",
            "symbol": "circle"
           },
           "mode": "markers",
           "name": "LAC",
           "orientation": "v",
           "showlegend": true,
           "type": "scatter",
           "x": [
            720
           ],
           "xaxis": "x",
           "y": [
            90.15452482563192
           ],
           "yaxis": "y"
          },
          {
           "customdata": [
            [
             "2010-2011"
            ]
           ],
           "hovertemplate": "team_abbreviation=LAL<br>season=%{customdata[0]}<br>Total Personal Fouls=%{x}<br>Average Defensive Efficiency=%{y}<extra></extra>",
           "legendgroup": "LAL",
           "marker": {
            "color": "#00cc96",
            "symbol": "circle"
           },
           "mode": "markers",
           "name": "LAL",
           "orientation": "v",
           "showlegend": true,
           "type": "scatter",
           "x": [
            558
           ],
           "xaxis": "x",
           "y": [
            88.78337050027845
           ],
           "yaxis": "y"
          },
          {
           "customdata": [
            [
             "2010-2011"
            ]
           ],
           "hovertemplate": "team_abbreviation=MEM<br>season=%{customdata[0]}<br>Total Personal Fouls=%{x}<br>Average Defensive Efficiency=%{y}<extra></extra>",
           "legendgroup": "MEM",
           "marker": {
            "color": "#ab63fa",
            "symbol": "circle"
           },
           "mode": "markers",
           "name": "MEM",
           "orientation": "v",
           "showlegend": true,
           "type": "scatter",
           "x": [
            637
           ],
           "xaxis": "x",
           "y": [
            86.88451689234559
           ],
           "yaxis": "y"
          },
          {
           "customdata": [
            [
             "2010-2011"
            ]
           ],
           "hovertemplate": "team_abbreviation=MIA<br>season=%{customdata[0]}<br>Total Personal Fouls=%{x}<br>Average Defensive Efficiency=%{y}<extra></extra>",
           "legendgroup": "MIA",
           "marker": {
            "color": "#FFA15A",
            "symbol": "circle"
           },
           "mode": "markers",
           "name": "MIA",
           "orientation": "v",
           "showlegend": true,
           "type": "scatter",
           "x": [
            805
           ],
           "xaxis": "x",
           "y": [
            85.8386698297236
           ],
           "yaxis": "y"
          },
          {
           "customdata": [
            [
             "2010-2011"
            ]
           ],
           "hovertemplate": "team_abbreviation=MIL<br>season=%{customdata[0]}<br>Total Personal Fouls=%{x}<br>Average Defensive Efficiency=%{y}<extra></extra>",
           "legendgroup": "MIL",
           "marker": {
            "color": "#19d3f3",
            "symbol": "circle"
           },
           "mode": "markers",
           "name": "MIL",
           "orientation": "v",
           "showlegend": true,
           "type": "scatter",
           "x": [
            506
           ],
           "xaxis": "x",
           "y": [
            93.3489340485036
           ],
           "yaxis": "y"
          },
          {
           "customdata": [
            [
             "2010-2011"
            ]
           ],
           "hovertemplate": "team_abbreviation=MIN<br>season=%{customdata[0]}<br>Total Personal Fouls=%{x}<br>Average Defensive Efficiency=%{y}<extra></extra>",
           "legendgroup": "MIN",
           "marker": {
            "color": "#FF6692",
            "symbol": "circle"
           },
           "mode": "markers",
           "name": "MIN",
           "orientation": "v",
           "showlegend": true,
           "type": "scatter",
           "x": [
            519
           ],
           "xaxis": "x",
           "y": [
            91.53399792300426
           ],
           "yaxis": "y"
          },
          {
           "customdata": [
            [
             "2010-2011"
            ]
           ],
           "hovertemplate": "team_abbreviation=NYK<br>season=%{customdata[0]}<br>Total Personal Fouls=%{x}<br>Average Defensive Efficiency=%{y}<extra></extra>",
           "legendgroup": "NYK",
           "marker": {
            "color": "#B6E880",
            "symbol": "circle"
           },
           "mode": "markers",
           "name": "NYK",
           "orientation": "v",
           "showlegend": true,
           "type": "scatter",
           "x": [
            659
           ],
           "xaxis": "x",
           "y": [
            86.8592386487718
           ],
           "yaxis": "y"
          },
          {
           "customdata": [
            [
             "2010-2011"
            ]
           ],
           "hovertemplate": "team_abbreviation=OKC<br>season=%{customdata[0]}<br>Total Personal Fouls=%{x}<br>Average Defensive Efficiency=%{y}<extra></extra>",
           "legendgroup": "OKC",
           "marker": {
            "color": "#FF97FF",
            "symbol": "circle"
           },
           "mode": "markers",
           "name": "OKC",
           "orientation": "v",
           "showlegend": true,
           "type": "scatter",
           "x": [
            748
           ],
           "xaxis": "x",
           "y": [
            89.25380439716568
           ],
           "yaxis": "y"
          },
          {
           "customdata": [
            [
             "2010-2011"
            ]
           ],
           "hovertemplate": "team_abbreviation=ORL<br>season=%{customdata[0]}<br>Total Personal Fouls=%{x}<br>Average Defensive Efficiency=%{y}<extra></extra>",
           "legendgroup": "ORL",
           "marker": {
            "color": "#FECB52",
            "symbol": "circle"
           },
           "mode": "markers",
           "name": "ORL",
           "orientation": "v",
           "showlegend": true,
           "type": "scatter",
           "x": [
            563
           ],
           "xaxis": "x",
           "y": [
            91.83580092050764
           ],
           "yaxis": "y"
          },
          {
           "customdata": [
            [
             "2010-2011"
            ]
           ],
           "hovertemplate": "team_abbreviation=PHI<br>season=%{customdata[0]}<br>Total Personal Fouls=%{x}<br>Average Defensive Efficiency=%{y}<extra></extra>",
           "legendgroup": "PHI",
           "marker": {
            "color": "#636efa",
            "symbol": "circle"
           },
           "mode": "markers",
           "name": "PHI",
           "orientation": "v",
           "showlegend": true,
           "type": "scatter",
           "x": [
            624
           ],
           "xaxis": "x",
           "y": [
            83.5580314435048
           ],
           "yaxis": "y"
          },
          {
           "customdata": [
            [
             "2010-2011"
            ]
           ],
           "hovertemplate": "team_abbreviation=PHX<br>season=%{customdata[0]}<br>Total Personal Fouls=%{x}<br>Average Defensive Efficiency=%{y}<extra></extra>",
           "legendgroup": "PHX",
           "marker": {
            "color": "#EF553B",
            "symbol": "circle"
           },
           "mode": "markers",
           "name": "PHX",
           "orientation": "v",
           "showlegend": true,
           "type": "scatter",
           "x": [
            513
           ],
           "xaxis": "x",
           "y": [
            92.30822235251333
           ],
           "yaxis": "y"
          },
          {
           "customdata": [
            [
             "2010-2011"
            ]
           ],
           "hovertemplate": "team_abbreviation=POR<br>season=%{customdata[0]}<br>Total Personal Fouls=%{x}<br>Average Defensive Efficiency=%{y}<extra></extra>",
           "legendgroup": "POR",
           "marker": {
            "color": "#00cc96",
            "symbol": "circle"
           },
           "mode": "markers",
           "name": "POR",
           "orientation": "v",
           "showlegend": true,
           "type": "scatter",
           "x": [
            499
           ],
           "xaxis": "x",
           "y": [
            92.29274711478291
           ],
           "yaxis": "y"
          },
          {
           "customdata": [
            [
             "2010-2011"
            ]
           ],
           "hovertemplate": "team_abbreviation=SAC<br>season=%{customdata[0]}<br>Total Personal Fouls=%{x}<br>Average Defensive Efficiency=%{y}<extra></extra>",
           "legendgroup": "SAC",
           "marker": {
            "color": "#ab63fa",
            "symbol": "circle"
           },
           "mode": "markers",
           "name": "SAC",
           "orientation": "v",
           "showlegend": true,
           "type": "scatter",
           "x": [
            499
           ],
           "xaxis": "x",
           "y": [
            96.22988272013257
           ],
           "yaxis": "y"
          },
          {
           "customdata": [
            [
             "2010-2011"
            ]
           ],
           "hovertemplate": "team_abbreviation=SAS<br>season=%{customdata[0]}<br>Total Personal Fouls=%{x}<br>Average Defensive Efficiency=%{y}<extra></extra>",
           "legendgroup": "SAS",
           "marker": {
            "color": "#FFA15A",
            "symbol": "circle"
           },
           "mode": "markers",
           "name": "SAS",
           "orientation": "v",
           "showlegend": true,
           "type": "scatter",
           "x": [
            626
           ],
           "xaxis": "x",
           "y": [
            88.82032176625779
           ],
           "yaxis": "y"
          },
          {
           "customdata": [
            [
             "2010-2011"
            ]
           ],
           "hovertemplate": "team_abbreviation=TOR<br>season=%{customdata[0]}<br>Total Personal Fouls=%{x}<br>Average Defensive Efficiency=%{y}<extra></extra>",
           "legendgroup": "TOR",
           "marker": {
            "color": "#19d3f3",
            "symbol": "circle"
           },
           "mode": "markers",
           "name": "TOR",
           "orientation": "v",
           "showlegend": true,
           "type": "scatter",
           "x": [
            682
           ],
           "xaxis": "x",
           "y": [
            91.56528384808345
           ],
           "yaxis": "y"
          },
          {
           "customdata": [
            [
             "2010-2011"
            ]
           ],
           "hovertemplate": "team_abbreviation=UTA<br>season=%{customdata[0]}<br>Total Personal Fouls=%{x}<br>Average Defensive Efficiency=%{y}<extra></extra>",
           "legendgroup": "UTA",
           "marker": {
            "color": "#FF6692",
            "symbol": "circle"
           },
           "mode": "markers",
           "name": "UTA",
           "orientation": "v",
           "showlegend": true,
           "type": "scatter",
           "x": [
            655
           ],
           "xaxis": "x",
           "y": [
            89.62699137319248
           ],
           "yaxis": "y"
          },
          {
           "customdata": [
            [
             "2010-2011"
            ]
           ],
           "hovertemplate": "team_abbreviation=WAS<br>season=%{customdata[0]}<br>Total Personal Fouls=%{x}<br>Average Defensive Efficiency=%{y}<extra></extra>",
           "legendgroup": "WAS",
           "marker": {
            "color": "#B6E880",
            "symbol": "circle"
           },
           "mode": "markers",
           "name": "WAS",
           "orientation": "v",
           "showlegend": true,
           "type": "scatter",
           "x": [
            690
           ],
           "xaxis": "x",
           "y": [
            91.73475448584229
           ],
           "yaxis": "y"
          }
         ],
         "name": "2010-2011"
        },
        {
         "data": [
          {
           "customdata": [
            [
             "2011-2012"
            ]
           ],
           "hovertemplate": "team_abbreviation=ATL<br>season=%{customdata[0]}<br>Total Personal Fouls=%{x}<br>Average Defensive Efficiency=%{y}<extra></extra>",
           "legendgroup": "ATL",
           "marker": {
            "color": "#636efa",
            "symbol": "circle"
           },
           "mode": "markers",
           "name": "ATL",
           "orientation": "v",
           "showlegend": true,
           "type": "scatter",
           "x": [
            117
           ],
           "xaxis": "x",
           "y": [
            76.3493330296961
           ],
           "yaxis": "y"
          },
          {
           "customdata": [
            [
             "2011-2012"
            ]
           ],
           "hovertemplate": "team_abbreviation=BOS<br>season=%{customdata[0]}<br>Total Personal Fouls=%{x}<br>Average Defensive Efficiency=%{y}<extra></extra>",
           "legendgroup": "BOS",
           "marker": {
            "color": "#EF553B",
            "symbol": "circle"
           },
           "mode": "markers",
           "name": "BOS",
           "orientation": "v",
           "showlegend": true,
           "type": "scatter",
           "x": [
            151
           ],
           "xaxis": "x",
           "y": [
            86.82072847385238
           ],
           "yaxis": "y"
          },
          {
           "customdata": [
            [
             "2011-2012"
            ]
           ],
           "hovertemplate": "team_abbreviation=CHA<br>season=%{customdata[0]}<br>Total Personal Fouls=%{x}<br>Average Defensive Efficiency=%{y}<extra></extra>",
           "legendgroup": "CHA",
           "marker": {
            "color": "#00cc96",
            "symbol": "circle"
           },
           "mode": "markers",
           "name": "CHA",
           "orientation": "v",
           "showlegend": true,
           "type": "scatter",
           "x": [
            60
           ],
           "xaxis": "x",
           "y": [
            84.29903208467795
           ],
           "yaxis": "y"
          },
          {
           "customdata": [
            [
             "2011-2012"
            ]
           ],
           "hovertemplate": "team_abbreviation=CHI<br>season=%{customdata[0]}<br>Total Personal Fouls=%{x}<br>Average Defensive Efficiency=%{y}<extra></extra>",
           "legendgroup": "CHI",
           "marker": {
            "color": "#ab63fa",
            "symbol": "circle"
           },
           "mode": "markers",
           "name": "CHI",
           "orientation": "v",
           "showlegend": true,
           "type": "scatter",
           "x": [
            254
           ],
           "xaxis": "x",
           "y": [
            86.89218426597272
           ],
           "yaxis": "y"
          },
          {
           "customdata": [
            [
             "2011-2012"
            ]
           ],
           "hovertemplate": "team_abbreviation=CLE<br>season=%{customdata[0]}<br>Total Personal Fouls=%{x}<br>Average Defensive Efficiency=%{y}<extra></extra>",
           "legendgroup": "CLE",
           "marker": {
            "color": "#FFA15A",
            "symbol": "circle"
           },
           "mode": "markers",
           "name": "CLE",
           "orientation": "v",
           "showlegend": true,
           "type": "scatter",
           "x": [
            90
           ],
           "xaxis": "x",
           "y": [
            93.23366123874906
           ],
           "yaxis": "y"
          },
          {
           "customdata": [
            [
             "2011-2012"
            ]
           ],
           "hovertemplate": "team_abbreviation=DAL<br>season=%{customdata[0]}<br>Total Personal Fouls=%{x}<br>Average Defensive Efficiency=%{y}<extra></extra>",
           "legendgroup": "DAL",
           "marker": {
            "color": "#19d3f3",
            "symbol": "circle"
           },
           "mode": "markers",
           "name": "DAL",
           "orientation": "v",
           "showlegend": true,
           "type": "scatter",
           "x": [
            61
           ],
           "xaxis": "x",
           "y": [
            77.83680546724874
           ],
           "yaxis": "y"
          },
          {
           "customdata": [
            [
             "2011-2012"
            ]
           ],
           "hovertemplate": "team_abbreviation=DEN<br>season=%{customdata[0]}<br>Total Personal Fouls=%{x}<br>Average Defensive Efficiency=%{y}<extra></extra>",
           "legendgroup": "DEN",
           "marker": {
            "color": "#FF6692",
            "symbol": "circle"
           },
           "mode": "markers",
           "name": "DEN",
           "orientation": "v",
           "showlegend": true,
           "type": "scatter",
           "x": [
            107
           ],
           "xaxis": "x",
           "y": [
            99.18030423176691
           ],
           "yaxis": "y"
          },
          {
           "customdata": [
            [
             "2011-2012"
            ]
           ],
           "hovertemplate": "team_abbreviation=DET<br>season=%{customdata[0]}<br>Total Personal Fouls=%{x}<br>Average Defensive Efficiency=%{y}<extra></extra>",
           "legendgroup": "DET",
           "marker": {
            "color": "#B6E880",
            "symbol": "circle"
           },
           "mode": "markers",
           "name": "DET",
           "orientation": "v",
           "showlegend": true,
           "type": "scatter",
           "x": [
            90
           ],
           "xaxis": "x",
           "y": [
            84.22385657954376
           ],
           "yaxis": "y"
          },
          {
           "customdata": [
            [
             "2011-2012"
            ]
           ],
           "hovertemplate": "team_abbreviation=GSW<br>season=%{customdata[0]}<br>Total Personal Fouls=%{x}<br>Average Defensive Efficiency=%{y}<extra></extra>",
           "legendgroup": "GSW",
           "marker": {
            "color": "#FF97FF",
            "symbol": "circle"
           },
           "mode": "markers",
           "name": "GSW",
           "orientation": "v",
           "showlegend": true,
           "type": "scatter",
           "x": [
            181
           ],
           "xaxis": "x",
           "y": [
            86.77667815083525
           ],
           "yaxis": "y"
          },
          {
           "customdata": [
            [
             "2011-2012"
            ]
           ],
           "hovertemplate": "team_abbreviation=HOU<br>season=%{customdata[0]}<br>Total Personal Fouls=%{x}<br>Average Defensive Efficiency=%{y}<extra></extra>",
           "legendgroup": "HOU",
           "marker": {
            "color": "#FECB52",
            "symbol": "circle"
           },
           "mode": "markers",
           "name": "HOU",
           "orientation": "v",
           "showlegend": true,
           "type": "scatter",
           "x": [
            134
           ],
           "xaxis": "x",
           "y": [
            96.19375106473926
           ],
           "yaxis": "y"
          },
          {
           "customdata": [
            [
             "2011-2012"
            ]
           ],
           "hovertemplate": "team_abbreviation=IND<br>season=%{customdata[0]}<br>Total Personal Fouls=%{x}<br>Average Defensive Efficiency=%{y}<extra></extra>",
           "legendgroup": "IND",
           "marker": {
            "color": "#636efa",
            "symbol": "circle"
           },
           "mode": "markers",
           "name": "IND",
           "orientation": "v",
           "showlegend": true,
           "type": "scatter",
           "x": [
            263
           ],
           "xaxis": "x",
           "y": [
            89.76568175168485
           ],
           "yaxis": "y"
          },
          {
           "customdata": [
            [
             "2011-2012"
            ]
           ],
           "hovertemplate": "team_abbreviation=LAC<br>season=%{customdata[0]}<br>Total Personal Fouls=%{x}<br>Average Defensive Efficiency=%{y}<extra></extra>",
           "legendgroup": "LAC",
           "marker": {
            "color": "#EF553B",
            "symbol": "circle"
           },
           "mode": "markers",
           "name": "LAC",
           "orientation": "v",
           "showlegend": true,
           "type": "scatter",
           "x": [
            179
           ],
           "xaxis": "x",
           "y": [
            89.02448994674977
           ],
           "yaxis": "y"
          },
          {
           "customdata": [
            [
             "2011-2012"
            ]
           ],
           "hovertemplate": "team_abbreviation=LAL<br>season=%{customdata[0]}<br>Total Personal Fouls=%{x}<br>Average Defensive Efficiency=%{y}<extra></extra>",
           "legendgroup": "LAL",
           "marker": {
            "color": "#00cc96",
            "symbol": "circle"
           },
           "mode": "markers",
           "name": "LAL",
           "orientation": "v",
           "showlegend": true,
           "type": "scatter",
           "x": [
            185
           ],
           "xaxis": "x",
           "y": [
            99.17498462975733
           ],
           "yaxis": "y"
          },
          {
           "customdata": [
            [
             "2011-2012"
            ]
           ],
           "hovertemplate": "team_abbreviation=MEM<br>season=%{customdata[0]}<br>Total Personal Fouls=%{x}<br>Average Defensive Efficiency=%{y}<extra></extra>",
           "legendgroup": "MEM",
           "marker": {
            "color": "#ab63fa",
            "symbol": "circle"
           },
           "mode": "markers",
           "name": "MEM",
           "orientation": "v",
           "showlegend": true,
           "type": "scatter",
           "x": [
            224
           ],
           "xaxis": "x",
           "y": [
            92.79215954011836
           ],
           "yaxis": "y"
          },
          {
           "customdata": [
            [
             "2011-2012"
            ]
           ],
           "hovertemplate": "team_abbreviation=MIA<br>season=%{customdata[0]}<br>Total Personal Fouls=%{x}<br>Average Defensive Efficiency=%{y}<extra></extra>",
           "legendgroup": "MIA",
           "marker": {
            "color": "#FFA15A",
            "symbol": "circle"
           },
           "mode": "markers",
           "name": "MIA",
           "orientation": "v",
           "showlegend": true,
           "type": "scatter",
           "x": [
            357
           ],
           "xaxis": "x",
           "y": [
            86.01588513507046
           ],
           "yaxis": "y"
          },
          {
           "customdata": [
            [
             "2011-2012"
            ]
           ],
           "hovertemplate": "team_abbreviation=MIL<br>season=%{customdata[0]}<br>Total Personal Fouls=%{x}<br>Average Defensive Efficiency=%{y}<extra></extra>",
           "legendgroup": "MIL",
           "marker": {
            "color": "#19d3f3",
            "symbol": "circle"
           },
           "mode": "markers",
           "name": "MIL",
           "orientation": "v",
           "showlegend": true,
           "type": "scatter",
           "x": [
            122
           ],
           "xaxis": "x",
           "y": [
            90.2113153720669
           ],
           "yaxis": "y"
          },
          {
           "customdata": [
            [
             "2011-2012"
            ]
           ],
           "hovertemplate": "team_abbreviation=MIN<br>season=%{customdata[0]}<br>Total Personal Fouls=%{x}<br>Average Defensive Efficiency=%{y}<extra></extra>",
           "legendgroup": "MIN",
           "marker": {
            "color": "#FF6692",
            "symbol": "circle"
           },
           "mode": "markers",
           "name": "MIN",
           "orientation": "v",
           "showlegend": true,
           "type": "scatter",
           "x": [
            76
           ],
           "xaxis": "x",
           "y": [
            72.00270645507842
           ],
           "yaxis": "y"
          },
          {
           "customdata": [
            [
             "2011-2012"
            ]
           ],
           "hovertemplate": "team_abbreviation=NYK<br>season=%{customdata[0]}<br>Total Personal Fouls=%{x}<br>Average Defensive Efficiency=%{y}<extra></extra>",
           "legendgroup": "NYK",
           "marker": {
            "color": "#B6E880",
            "symbol": "circle"
           },
           "mode": "markers",
           "name": "NYK",
           "orientation": "v",
           "showlegend": true,
           "type": "scatter",
           "x": [
            130
           ],
           "xaxis": "x",
           "y": [
            85.66477548634616
           ],
           "yaxis": "y"
          },
          {
           "customdata": [
            [
             "2011-2012"
            ]
           ],
           "hovertemplate": "team_abbreviation=OKC<br>season=%{customdata[0]}<br>Total Personal Fouls=%{x}<br>Average Defensive Efficiency=%{y}<extra></extra>",
           "legendgroup": "OKC",
           "marker": {
            "color": "#FF97FF",
            "symbol": "circle"
           },
           "mode": "markers",
           "name": "OKC",
           "orientation": "v",
           "showlegend": true,
           "type": "scatter",
           "x": [
            226
           ],
           "xaxis": "x",
           "y": [
            88.27993593360281
           ],
           "yaxis": "y"
          },
          {
           "customdata": [
            [
             "2011-2012"
            ]
           ],
           "hovertemplate": "team_abbreviation=ORL<br>season=%{customdata[0]}<br>Total Personal Fouls=%{x}<br>Average Defensive Efficiency=%{y}<extra></extra>",
           "legendgroup": "ORL",
           "marker": {
            "color": "#FECB52",
            "symbol": "circle"
           },
           "mode": "markers",
           "name": "ORL",
           "orientation": "v",
           "showlegend": true,
           "type": "scatter",
           "x": [
            90
           ],
           "xaxis": "x",
           "y": [
            93.53745944556664
           ],
           "yaxis": "y"
          },
          {
           "customdata": [
            [
             "2011-2012"
            ]
           ],
           "hovertemplate": "team_abbreviation=PHI<br>season=%{customdata[0]}<br>Total Personal Fouls=%{x}<br>Average Defensive Efficiency=%{y}<extra></extra>",
           "legendgroup": "PHI",
           "marker": {
            "color": "#636efa",
            "symbol": "circle"
           },
           "mode": "markers",
           "name": "PHI",
           "orientation": "v",
           "showlegend": true,
           "type": "scatter",
           "x": [
            86
           ],
           "xaxis": "x",
           "y": [
            84.32594731722173
           ],
           "yaxis": "y"
          },
          {
           "customdata": [
            [
             "2011-2012"
            ]
           ],
           "hovertemplate": "team_abbreviation=PHX<br>season=%{customdata[0]}<br>Total Personal Fouls=%{x}<br>Average Defensive Efficiency=%{y}<extra></extra>",
           "legendgroup": "PHX",
           "marker": {
            "color": "#EF553B",
            "symbol": "circle"
           },
           "mode": "markers",
           "name": "PHX",
           "orientation": "v",
           "showlegend": true,
           "type": "scatter",
           "x": [
            59
           ],
           "xaxis": "x",
           "y": [
            72.66178759981615
           ],
           "yaxis": "y"
          },
          {
           "customdata": [
            [
             "2011-2012"
            ]
           ],
           "hovertemplate": "team_abbreviation=POR<br>season=%{customdata[0]}<br>Total Personal Fouls=%{x}<br>Average Defensive Efficiency=%{y}<extra></extra>",
           "legendgroup": "POR",
           "marker": {
            "color": "#00cc96",
            "symbol": "circle"
           },
           "mode": "markers",
           "name": "POR",
           "orientation": "v",
           "showlegend": true,
           "type": "scatter",
           "x": [
            75
           ],
           "xaxis": "x",
           "y": [
            89.84678366563777
           ],
           "yaxis": "y"
          },
          {
           "customdata": [
            [
             "2011-2012"
            ]
           ],
           "hovertemplate": "team_abbreviation=SAC<br>season=%{customdata[0]}<br>Total Personal Fouls=%{x}<br>Average Defensive Efficiency=%{y}<extra></extra>",
           "legendgroup": "SAC",
           "marker": {
            "color": "#ab63fa",
            "symbol": "circle"
           },
           "mode": "markers",
           "name": "SAC",
           "orientation": "v",
           "showlegend": true,
           "type": "scatter",
           "x": [
            76
           ],
           "xaxis": "x",
           "y": [
            85.79300677977831
           ],
           "yaxis": "y"
          },
          {
           "customdata": [
            [
             "2011-2012"
            ]
           ],
           "hovertemplate": "team_abbreviation=SAS<br>season=%{customdata[0]}<br>Total Personal Fouls=%{x}<br>Average Defensive Efficiency=%{y}<extra></extra>",
           "legendgroup": "SAS",
           "marker": {
            "color": "#FFA15A",
            "symbol": "circle"
           },
           "mode": "markers",
           "name": "SAS",
           "orientation": "v",
           "showlegend": true,
           "type": "scatter",
           "x": [
            253
           ],
           "xaxis": "x",
           "y": [
            87.69337151414918
           ],
           "yaxis": "y"
          },
          {
           "customdata": [
            [
             "2011-2012"
            ]
           ],
           "hovertemplate": "team_abbreviation=TOR<br>season=%{customdata[0]}<br>Total Personal Fouls=%{x}<br>Average Defensive Efficiency=%{y}<extra></extra>",
           "legendgroup": "TOR",
           "marker": {
            "color": "#19d3f3",
            "symbol": "circle"
           },
           "mode": "markers",
           "name": "TOR",
           "orientation": "v",
           "showlegend": true,
           "type": "scatter",
           "x": [
            86
           ],
           "xaxis": "x",
           "y": [
            81.66372972562627
           ],
           "yaxis": "y"
          },
          {
           "customdata": [
            [
             "2011-2012"
            ]
           ],
           "hovertemplate": "team_abbreviation=UTA<br>season=%{customdata[0]}<br>Total Personal Fouls=%{x}<br>Average Defensive Efficiency=%{y}<extra></extra>",
           "legendgroup": "UTA",
           "marker": {
            "color": "#FF6692",
            "symbol": "circle"
           },
           "mode": "markers",
           "name": "UTA",
           "orientation": "v",
           "showlegend": true,
           "type": "scatter",
           "x": [
            69
           ],
           "xaxis": "x",
           "y": [
            81.93277912425039
           ],
           "yaxis": "y"
          },
          {
           "customdata": [
            [
             "2011-2012"
            ]
           ],
           "hovertemplate": "team_abbreviation=WAS<br>season=%{customdata[0]}<br>Total Personal Fouls=%{x}<br>Average Defensive Efficiency=%{y}<extra></extra>",
           "legendgroup": "WAS",
           "marker": {
            "color": "#B6E880",
            "symbol": "circle"
           },
           "mode": "markers",
           "name": "WAS",
           "orientation": "v",
           "showlegend": true,
           "type": "scatter",
           "x": [
            26
           ],
           "xaxis": "x",
           "y": [
            106.59297275957364
           ],
           "yaxis": "y"
          },
          {
           "customdata": [
            [
             "2011-2012"
            ]
           ],
           "hovertemplate": "team_abbreviation=BKN<br>season=%{customdata[0]}<br>Total Personal Fouls=%{x}<br>Average Defensive Efficiency=%{y}<extra></extra>",
           "legendgroup": "BKN",
           "marker": {
            "color": "#FF97FF",
            "symbol": "circle"
           },
           "mode": "markers",
           "name": "BKN",
           "orientation": "v",
           "showlegend": true,
           "type": "scatter",
           "x": [
            161
           ],
           "xaxis": "x",
           "y": [
            95.4479835690746
           ],
           "yaxis": "y"
          }
         ],
         "name": "2011-2012"
        },
        {
         "data": [
          {
           "customdata": [
            [
             "2012-2013"
            ]
           ],
           "hovertemplate": "team_abbreviation=ATL<br>season=%{customdata[0]}<br>Total Personal Fouls=%{x}<br>Average Defensive Efficiency=%{y}<extra></extra>",
           "legendgroup": "ATL",
           "marker": {
            "color": "#636efa",
            "symbol": "circle"
           },
           "mode": "markers",
           "name": "ATL",
           "orientation": "v",
           "showlegend": true,
           "type": "scatter",
           "x": [
            880
           ],
           "xaxis": "x",
           "y": [
            91.31939088064769
           ],
           "yaxis": "y"
          },
          {
           "customdata": [
            [
             "2012-2013"
            ]
           ],
           "hovertemplate": "team_abbreviation=BOS<br>season=%{customdata[0]}<br>Total Personal Fouls=%{x}<br>Average Defensive Efficiency=%{y}<extra></extra>",
           "legendgroup": "BOS",
           "marker": {
            "color": "#EF553B",
            "symbol": "circle"
           },
           "mode": "markers",
           "name": "BOS",
           "orientation": "v",
           "showlegend": true,
           "type": "scatter",
           "x": [
            930
           ],
           "xaxis": "x",
           "y": [
            93.34478754126498
           ],
           "yaxis": "y"
          },
          {
           "customdata": [
            [
             "2012-2013"
            ]
           ],
           "hovertemplate": "team_abbreviation=CHA<br>season=%{customdata[0]}<br>Total Personal Fouls=%{x}<br>Average Defensive Efficiency=%{y}<extra></extra>",
           "legendgroup": "CHA",
           "marker": {
            "color": "#00cc96",
            "symbol": "circle"
           },
           "mode": "markers",
           "name": "CHA",
           "orientation": "v",
           "showlegend": true,
           "type": "scatter",
           "x": [
            854
           ],
           "xaxis": "x",
           "y": [
            90.2441474294067
           ],
           "yaxis": "y"
          },
          {
           "customdata": [
            [
             "2012-2013"
            ]
           ],
           "hovertemplate": "team_abbreviation=CHI<br>season=%{customdata[0]}<br>Total Personal Fouls=%{x}<br>Average Defensive Efficiency=%{y}<extra></extra>",
           "legendgroup": "CHI",
           "marker": {
            "color": "#ab63fa",
            "symbol": "circle"
           },
           "mode": "markers",
           "name": "CHI",
           "orientation": "v",
           "showlegend": true,
           "type": "scatter",
           "x": [
            980
           ],
           "xaxis": "x",
           "y": [
            86.21601725241439
           ],
           "yaxis": "y"
          },
          {
           "customdata": [
            [
             "2012-2013"
            ]
           ],
           "hovertemplate": "team_abbreviation=CLE<br>season=%{customdata[0]}<br>Total Personal Fouls=%{x}<br>Average Defensive Efficiency=%{y}<extra></extra>",
           "legendgroup": "CLE",
           "marker": {
            "color": "#FFA15A",
            "symbol": "circle"
           },
           "mode": "markers",
           "name": "CLE",
           "orientation": "v",
           "showlegend": true,
           "type": "scatter",
           "x": [
            991
           ],
           "xaxis": "x",
           "y": [
            90.24597548368156
           ],
           "yaxis": "y"
          },
          {
           "customdata": [
            [
             "2012-2013"
            ]
           ],
           "hovertemplate": "team_abbreviation=DAL<br>season=%{customdata[0]}<br>Total Personal Fouls=%{x}<br>Average Defensive Efficiency=%{y}<extra></extra>",
           "legendgroup": "DAL",
           "marker": {
            "color": "#19d3f3",
            "symbol": "circle"
           },
           "mode": "markers",
           "name": "DAL",
           "orientation": "v",
           "showlegend": true,
           "type": "scatter",
           "x": [
            964
           ],
           "xaxis": "x",
           "y": [
            95.43676097995014
           ],
           "yaxis": "y"
          },
          {
           "customdata": [
            [
             "2012-2013"
            ]
           ],
           "hovertemplate": "team_abbreviation=DEN<br>season=%{customdata[0]}<br>Total Personal Fouls=%{x}<br>Average Defensive Efficiency=%{y}<extra></extra>",
           "legendgroup": "DEN",
           "marker": {
            "color": "#FF6692",
            "symbol": "circle"
           },
           "mode": "markers",
           "name": "DEN",
           "orientation": "v",
           "showlegend": true,
           "type": "scatter",
           "x": [
            997
           ],
           "xaxis": "x",
           "y": [
            92.48121482380968
           ],
           "yaxis": "y"
          },
          {
           "customdata": [
            [
             "2012-2013"
            ]
           ],
           "hovertemplate": "team_abbreviation=DET<br>season=%{customdata[0]}<br>Total Personal Fouls=%{x}<br>Average Defensive Efficiency=%{y}<extra></extra>",
           "legendgroup": "DET",
           "marker": {
            "color": "#B6E880",
            "symbol": "circle"
           },
           "mode": "markers",
           "name": "DET",
           "orientation": "v",
           "showlegend": true,
           "type": "scatter",
           "x": [
            925
           ],
           "xaxis": "x",
           "y": [
            95.99246920503452
           ],
           "yaxis": "y"
          },
          {
           "customdata": [
            [
             "2012-2013"
            ]
           ],
           "hovertemplate": "team_abbreviation=GSW<br>season=%{customdata[0]}<br>Total Personal Fouls=%{x}<br>Average Defensive Efficiency=%{y}<extra></extra>",
           "legendgroup": "GSW",
           "marker": {
            "color": "#FF97FF",
            "symbol": "circle"
           },
           "mode": "markers",
           "name": "GSW",
           "orientation": "v",
           "showlegend": true,
           "type": "scatter",
           "x": [
            1014
           ],
           "xaxis": "x",
           "y": [
            87.99416002269358
           ],
           "yaxis": "y"
          },
          {
           "customdata": [
            [
             "2012-2013"
            ]
           ],
           "hovertemplate": "team_abbreviation=HOU<br>season=%{customdata[0]}<br>Total Personal Fouls=%{x}<br>Average Defensive Efficiency=%{y}<extra></extra>",
           "legendgroup": "HOU",
           "marker": {
            "color": "#FECB52",
            "symbol": "circle"
           },
           "mode": "markers",
           "name": "HOU",
           "orientation": "v",
           "showlegend": true,
           "type": "scatter",
           "x": [
            983
           ],
           "xaxis": "x",
           "y": [
            89.83155986138968
           ],
           "yaxis": "y"
          },
          {
           "customdata": [
            [
             "2012-2013"
            ]
           ],
           "hovertemplate": "team_abbreviation=IND<br>season=%{customdata[0]}<br>Total Personal Fouls=%{x}<br>Average Defensive Efficiency=%{y}<extra></extra>",
           "legendgroup": "IND",
           "marker": {
            "color": "#636efa",
            "symbol": "circle"
           },
           "mode": "markers",
           "name": "IND",
           "orientation": "v",
           "showlegend": true,
           "type": "scatter",
           "x": [
            1082
           ],
           "xaxis": "x",
           "y": [
            85.43030759330048
           ],
           "yaxis": "y"
          },
          {
           "customdata": [
            [
             "2012-2013"
            ]
           ],
           "hovertemplate": "team_abbreviation=LAC<br>season=%{customdata[0]}<br>Total Personal Fouls=%{x}<br>Average Defensive Efficiency=%{y}<extra></extra>",
           "legendgroup": "LAC",
           "marker": {
            "color": "#EF553B",
            "symbol": "circle"
           },
           "mode": "markers",
           "name": "LAC",
           "orientation": "v",
           "showlegend": true,
           "type": "scatter",
           "x": [
            1147
           ],
           "xaxis": "x",
           "y": [
            90.76916093319834
           ],
           "yaxis": "y"
          },
          {
           "customdata": [
            [
             "2012-2013"
            ]
           ],
           "hovertemplate": "team_abbreviation=LAL<br>season=%{customdata[0]}<br>Total Personal Fouls=%{x}<br>Average Defensive Efficiency=%{y}<extra></extra>",
           "legendgroup": "LAL",
           "marker": {
            "color": "#00cc96",
            "symbol": "circle"
           },
           "mode": "markers",
           "name": "LAL",
           "orientation": "v",
           "showlegend": true,
           "type": "scatter",
           "x": [
            970
           ],
           "xaxis": "x",
           "y": [
            93.63289347536757
           ],
           "yaxis": "y"
          },
          {
           "customdata": [
            [
             "2012-2013"
            ]
           ],
           "hovertemplate": "team_abbreviation=MEM<br>season=%{customdata[0]}<br>Total Personal Fouls=%{x}<br>Average Defensive Efficiency=%{y}<extra></extra>",
           "legendgroup": "MEM",
           "marker": {
            "color": "#ab63fa",
            "symbol": "circle"
           },
           "mode": "markers",
           "name": "MEM",
           "orientation": "v",
           "showlegend": true,
           "type": "scatter",
           "x": [
            933
           ],
           "xaxis": "x",
           "y": [
            92.32655493668837
           ],
           "yaxis": "y"
          },
          {
           "customdata": [
            [
             "2012-2013"
            ]
           ],
           "hovertemplate": "team_abbreviation=MIA<br>season=%{customdata[0]}<br>Total Personal Fouls=%{x}<br>Average Defensive Efficiency=%{y}<extra></extra>",
           "legendgroup": "MIA",
           "marker": {
            "color": "#FFA15A",
            "symbol": "circle"
           },
           "mode": "markers",
           "name": "MIA",
           "orientation": "v",
           "showlegend": true,
           "type": "scatter",
           "x": [
            1047
           ],
           "xaxis": "x",
           "y": [
            92.86520382847871
           ],
           "yaxis": "y"
          },
          {
           "customdata": [
            [
             "2012-2013"
            ]
           ],
           "hovertemplate": "team_abbreviation=MIL<br>season=%{customdata[0]}<br>Total Personal Fouls=%{x}<br>Average Defensive Efficiency=%{y}<extra></extra>",
           "legendgroup": "MIL",
           "marker": {
            "color": "#19d3f3",
            "symbol": "circle"
           },
           "mode": "markers",
           "name": "MIL",
           "orientation": "v",
           "showlegend": true,
           "type": "scatter",
           "x": [
            892
           ],
           "xaxis": "x",
           "y": [
            95.5046051215352
           ],
           "yaxis": "y"
          },
          {
           "customdata": [
            [
             "2012-2013"
            ]
           ],
           "hovertemplate": "team_abbreviation=MIN<br>season=%{customdata[0]}<br>Total Personal Fouls=%{x}<br>Average Defensive Efficiency=%{y}<extra></extra>",
           "legendgroup": "MIN",
           "marker": {
            "color": "#FF6692",
            "symbol": "circle"
           },
           "mode": "markers",
           "name": "MIN",
           "orientation": "v",
           "showlegend": true,
           "type": "scatter",
           "x": [
            854
           ],
           "xaxis": "x",
           "y": [
            91.0721661379355
           ],
           "yaxis": "y"
          },
          {
           "customdata": [
            [
             "2012-2013"
            ]
           ],
           "hovertemplate": "team_abbreviation=NYK<br>season=%{customdata[0]}<br>Total Personal Fouls=%{x}<br>Average Defensive Efficiency=%{y}<extra></extra>",
           "legendgroup": "NYK",
           "marker": {
            "color": "#B6E880",
            "symbol": "circle"
           },
           "mode": "markers",
           "name": "NYK",
           "orientation": "v",
           "showlegend": true,
           "type": "scatter",
           "x": [
            921
           ],
           "xaxis": "x",
           "y": [
            94.96634091342692
           ],
           "yaxis": "y"
          },
          {
           "customdata": [
            [
             "2012-2013"
            ]
           ],
           "hovertemplate": "team_abbreviation=OKC<br>season=%{customdata[0]}<br>Total Personal Fouls=%{x}<br>Average Defensive Efficiency=%{y}<extra></extra>",
           "legendgroup": "OKC",
           "marker": {
            "color": "#FF97FF",
            "symbol": "circle"
           },
           "mode": "markers",
           "name": "OKC",
           "orientation": "v",
           "showlegend": true,
           "type": "scatter",
           "x": [
            1232
           ],
           "xaxis": "x",
           "y": [
            90.24500379081361
           ],
           "yaxis": "y"
          },
          {
           "customdata": [
            [
             "2012-2013"
            ]
           ],
           "hovertemplate": "team_abbreviation=ORL<br>season=%{customdata[0]}<br>Total Personal Fouls=%{x}<br>Average Defensive Efficiency=%{y}<extra></extra>",
           "legendgroup": "ORL",
           "marker": {
            "color": "#FECB52",
            "symbol": "circle"
           },
           "mode": "markers",
           "name": "ORL",
           "orientation": "v",
           "showlegend": true,
           "type": "scatter",
           "x": [
            946
           ],
           "xaxis": "x",
           "y": [
            93.03882751226178
           ],
           "yaxis": "y"
          },
          {
           "customdata": [
            [
             "2012-2013"
            ]
           ],
           "hovertemplate": "team_abbreviation=PHI<br>season=%{customdata[0]}<br>Total Personal Fouls=%{x}<br>Average Defensive Efficiency=%{y}<extra></extra>",
           "legendgroup": "PHI",
           "marker": {
            "color": "#636efa",
            "symbol": "circle"
           },
           "mode": "markers",
           "name": "PHI",
           "orientation": "v",
           "showlegend": true,
           "type": "scatter",
           "x": [
            983
           ],
           "xaxis": "x",
           "y": [
            96.32263348846735
           ],
           "yaxis": "y"
          },
          {
           "customdata": [
            [
             "2012-2013"
            ]
           ],
           "hovertemplate": "team_abbreviation=PHX<br>season=%{customdata[0]}<br>Total Personal Fouls=%{x}<br>Average Defensive Efficiency=%{y}<extra></extra>",
           "legendgroup": "PHX",
           "marker": {
            "color": "#EF553B",
            "symbol": "circle"
           },
           "mode": "markers",
           "name": "PHX",
           "orientation": "v",
           "showlegend": true,
           "type": "scatter",
           "x": [
            943
           ],
           "xaxis": "x",
           "y": [
            93.00335049472676
           ],
           "yaxis": "y"
          },
          {
           "customdata": [
            [
             "2012-2013"
            ]
           ],
           "hovertemplate": "team_abbreviation=POR<br>season=%{customdata[0]}<br>Total Personal Fouls=%{x}<br>Average Defensive Efficiency=%{y}<extra></extra>",
           "legendgroup": "POR",
           "marker": {
            "color": "#00cc96",
            "symbol": "circle"
           },
           "mode": "markers",
           "name": "POR",
           "orientation": "v",
           "showlegend": true,
           "type": "scatter",
           "x": [
            944
           ],
           "xaxis": "x",
           "y": [
            92.41804908819957
           ],
           "yaxis": "y"
          },
          {
           "customdata": [
            [
             "2012-2013"
            ]
           ],
           "hovertemplate": "team_abbreviation=SAC<br>season=%{customdata[0]}<br>Total Personal Fouls=%{x}<br>Average Defensive Efficiency=%{y}<extra></extra>",
           "legendgroup": "SAC",
           "marker": {
            "color": "#ab63fa",
            "symbol": "circle"
           },
           "mode": "markers",
           "name": "SAC",
           "orientation": "v",
           "showlegend": true,
           "type": "scatter",
           "x": [
            1011
           ],
           "xaxis": "x",
           "y": [
            94.23304140654736
           ],
           "yaxis": "y"
          },
          {
           "customdata": [
            [
             "2012-2013"
            ]
           ],
           "hovertemplate": "team_abbreviation=SAS<br>season=%{customdata[0]}<br>Total Personal Fouls=%{x}<br>Average Defensive Efficiency=%{y}<extra></extra>",
           "legendgroup": "SAS",
           "marker": {
            "color": "#FFA15A",
            "symbol": "circle"
           },
           "mode": "markers",
           "name": "SAS",
           "orientation": "v",
           "showlegend": true,
           "type": "scatter",
           "x": [
            984
           ],
           "xaxis": "x",
           "y": [
            90.46119691379592
           ],
           "yaxis": "y"
          },
          {
           "customdata": [
            [
             "2012-2013"
            ]
           ],
           "hovertemplate": "team_abbreviation=TOR<br>season=%{customdata[0]}<br>Total Personal Fouls=%{x}<br>Average Defensive Efficiency=%{y}<extra></extra>",
           "legendgroup": "TOR",
           "marker": {
            "color": "#19d3f3",
            "symbol": "circle"
           },
           "mode": "markers",
           "name": "TOR",
           "orientation": "v",
           "showlegend": true,
           "type": "scatter",
           "x": [
            1141
           ],
           "xaxis": "x",
           "y": [
            92.38258255882322
           ],
           "yaxis": "y"
          },
          {
           "customdata": [
            [
             "2012-2013"
            ]
           ],
           "hovertemplate": "team_abbreviation=UTA<br>season=%{customdata[0]}<br>Total Personal Fouls=%{x}<br>Average Defensive Efficiency=%{y}<extra></extra>",
           "legendgroup": "UTA",
           "marker": {
            "color": "#FF6692",
            "symbol": "circle"
           },
           "mode": "markers",
           "name": "UTA",
           "orientation": "v",
           "showlegend": true,
           "type": "scatter",
           "x": [
            891
           ],
           "xaxis": "x",
           "y": [
            96.81481090869443
           ],
           "yaxis": "y"
          },
          {
           "customdata": [
            [
             "2012-2013"
            ]
           ],
           "hovertemplate": "team_abbreviation=WAS<br>season=%{customdata[0]}<br>Total Personal Fouls=%{x}<br>Average Defensive Efficiency=%{y}<extra></extra>",
           "legendgroup": "WAS",
           "marker": {
            "color": "#B6E880",
            "symbol": "circle"
           },
           "mode": "markers",
           "name": "WAS",
           "orientation": "v",
           "showlegend": true,
           "type": "scatter",
           "x": [
            1010
           ],
           "xaxis": "x",
           "y": [
            91.99579892535344
           ],
           "yaxis": "y"
          },
          {
           "customdata": [
            [
             "2012-2013"
            ]
           ],
           "hovertemplate": "team_abbreviation=BKN<br>season=%{customdata[0]}<br>Total Personal Fouls=%{x}<br>Average Defensive Efficiency=%{y}<extra></extra>",
           "legendgroup": "BKN",
           "marker": {
            "color": "#FF97FF",
            "symbol": "circle"
           },
           "mode": "markers",
           "name": "BKN",
           "orientation": "v",
           "showlegend": true,
           "type": "scatter",
           "x": [
            1096
           ],
           "xaxis": "x",
           "y": [
            91.58691062844173
           ],
           "yaxis": "y"
          },
          {
           "customdata": [
            [
             "2012-2013"
            ]
           ],
           "hovertemplate": "team_abbreviation=NOP<br>season=%{customdata[0]}<br>Total Personal Fouls=%{x}<br>Average Defensive Efficiency=%{y}<extra></extra>",
           "legendgroup": "NOP",
           "marker": {
            "color": "#FECB52",
            "symbol": "circle"
           },
           "mode": "markers",
           "name": "NOP",
           "orientation": "v",
           "showlegend": true,
           "type": "scatter",
           "x": [
            973
           ],
           "xaxis": "x",
           "y": [
            94.12453760762124
           ],
           "yaxis": "y"
          }
         ],
         "name": "2012-2013"
        },
        {
         "data": [
          {
           "customdata": [
            [
             "2013-2014"
            ]
           ],
           "hovertemplate": "team_abbreviation=ATL<br>season=%{customdata[0]}<br>Total Personal Fouls=%{x}<br>Average Defensive Efficiency=%{y}<extra></extra>",
           "legendgroup": "ATL",
           "marker": {
            "color": "#636efa",
            "symbol": "circle"
           },
           "mode": "markers",
           "name": "ATL",
           "orientation": "v",
           "showlegend": true,
           "type": "scatter",
           "x": [
            914
           ],
           "xaxis": "x",
           "y": [
            89.0170555748965
           ],
           "yaxis": "y"
          },
          {
           "customdata": [
            [
             "2013-2014"
            ]
           ],
           "hovertemplate": "team_abbreviation=BOS<br>season=%{customdata[0]}<br>Total Personal Fouls=%{x}<br>Average Defensive Efficiency=%{y}<extra></extra>",
           "legendgroup": "BOS",
           "marker": {
            "color": "#EF553B",
            "symbol": "circle"
           },
           "mode": "markers",
           "name": "BOS",
           "orientation": "v",
           "showlegend": true,
           "type": "scatter",
           "x": [
            1043
           ],
           "xaxis": "x",
           "y": [
            90.67935428547962
           ],
           "yaxis": "y"
          },
          {
           "customdata": [
            [
             "2013-2014"
            ]
           ],
           "hovertemplate": "team_abbreviation=CHA<br>season=%{customdata[0]}<br>Total Personal Fouls=%{x}<br>Average Defensive Efficiency=%{y}<extra></extra>",
           "legendgroup": "CHA",
           "marker": {
            "color": "#00cc96",
            "symbol": "circle"
           },
           "mode": "markers",
           "name": "CHA",
           "orientation": "v",
           "showlegend": true,
           "type": "scatter",
           "x": [
            850
           ],
           "xaxis": "x",
           "y": [
            91.76996323903846
           ],
           "yaxis": "y"
          },
          {
           "customdata": [
            [
             "2013-2014"
            ]
           ],
           "hovertemplate": "team_abbreviation=CHI<br>season=%{customdata[0]}<br>Total Personal Fouls=%{x}<br>Average Defensive Efficiency=%{y}<extra></extra>",
           "legendgroup": "CHI",
           "marker": {
            "color": "#ab63fa",
            "symbol": "circle"
           },
           "mode": "markers",
           "name": "CHI",
           "orientation": "v",
           "showlegend": true,
           "type": "scatter",
           "x": [
            961
           ],
           "xaxis": "x",
           "y": [
            89.93056053863333
           ],
           "yaxis": "y"
          },
          {
           "customdata": [
            [
             "2013-2014"
            ]
           ],
           "hovertemplate": "team_abbreviation=CLE<br>season=%{customdata[0]}<br>Total Personal Fouls=%{x}<br>Average Defensive Efficiency=%{y}<extra></extra>",
           "legendgroup": "CLE",
           "marker": {
            "color": "#FFA15A",
            "symbol": "circle"
           },
           "mode": "markers",
           "name": "CLE",
           "orientation": "v",
           "showlegend": true,
           "type": "scatter",
           "x": [
            1010
           ],
           "xaxis": "x",
           "y": [
            92.06416758060492
           ],
           "yaxis": "y"
          },
          {
           "customdata": [
            [
             "2013-2014"
            ]
           ],
           "hovertemplate": "team_abbreviation=DAL<br>season=%{customdata[0]}<br>Total Personal Fouls=%{x}<br>Average Defensive Efficiency=%{y}<extra></extra>",
           "legendgroup": "DAL",
           "marker": {
            "color": "#19d3f3",
            "symbol": "circle"
           },
           "mode": "markers",
           "name": "DAL",
           "orientation": "v",
           "showlegend": true,
           "type": "scatter",
           "x": [
            987
           ],
           "xaxis": "x",
           "y": [
            93.06801106649807
           ],
           "yaxis": "y"
          },
          {
           "customdata": [
            [
             "2013-2014"
            ]
           ],
           "hovertemplate": "team_abbreviation=DEN<br>season=%{customdata[0]}<br>Total Personal Fouls=%{x}<br>Average Defensive Efficiency=%{y}<extra></extra>",
           "legendgroup": "DEN",
           "marker": {
            "color": "#FF6692",
            "symbol": "circle"
           },
           "mode": "markers",
           "name": "DEN",
           "orientation": "v",
           "showlegend": true,
           "type": "scatter",
           "x": [
            1002
           ],
           "xaxis": "x",
           "y": [
            93.25483590024062
           ],
           "yaxis": "y"
          },
          {
           "customdata": [
            [
             "2013-2014"
            ]
           ],
           "hovertemplate": "team_abbreviation=DET<br>season=%{customdata[0]}<br>Total Personal Fouls=%{x}<br>Average Defensive Efficiency=%{y}<extra></extra>",
           "legendgroup": "DET",
           "marker": {
            "color": "#B6E880",
            "symbol": "circle"
           },
           "mode": "markers",
           "name": "DET",
           "orientation": "v",
           "showlegend": true,
           "type": "scatter",
           "x": [
            857
           ],
           "xaxis": "x",
           "y": [
            95.4525740839331
           ],
           "yaxis": "y"
          },
          {
           "customdata": [
            [
             "2013-2014"
            ]
           ],
           "hovertemplate": "team_abbreviation=GSW<br>season=%{customdata[0]}<br>Total Personal Fouls=%{x}<br>Average Defensive Efficiency=%{y}<extra></extra>",
           "legendgroup": "GSW",
           "marker": {
            "color": "#FF97FF",
            "symbol": "circle"
           },
           "mode": "markers",
           "name": "GSW",
           "orientation": "v",
           "showlegend": true,
           "type": "scatter",
           "x": [
            1083
           ],
           "xaxis": "x",
           "y": [
            87.2117172620353
           ],
           "yaxis": "y"
          },
          {
           "customdata": [
            [
             "2013-2014"
            ]
           ],
           "hovertemplate": "team_abbreviation=HOU<br>season=%{customdata[0]}<br>Total Personal Fouls=%{x}<br>Average Defensive Efficiency=%{y}<extra></extra>",
           "legendgroup": "HOU",
           "marker": {
            "color": "#FECB52",
            "symbol": "circle"
           },
           "mode": "markers",
           "name": "HOU",
           "orientation": "v",
           "showlegend": true,
           "type": "scatter",
           "x": [
            1167
           ],
           "xaxis": "x",
           "y": [
            87.71718106868313
           ],
           "yaxis": "y"
          },
          {
           "customdata": [
            [
             "2013-2014"
            ]
           ],
           "hovertemplate": "team_abbreviation=IND<br>season=%{customdata[0]}<br>Total Personal Fouls=%{x}<br>Average Defensive Efficiency=%{y}<extra></extra>",
           "legendgroup": "IND",
           "marker": {
            "color": "#636efa",
            "symbol": "circle"
           },
           "mode": "markers",
           "name": "IND",
           "orientation": "v",
           "showlegend": true,
           "type": "scatter",
           "x": [
            877
           ],
           "xaxis": "x",
           "y": [
            89.58484888794708
           ],
           "yaxis": "y"
          },
          {
           "customdata": [
            [
             "2013-2014"
            ]
           ],
           "hovertemplate": "team_abbreviation=LAC<br>season=%{customdata[0]}<br>Total Personal Fouls=%{x}<br>Average Defensive Efficiency=%{y}<extra></extra>",
           "legendgroup": "LAC",
           "marker": {
            "color": "#EF553B",
            "symbol": "circle"
           },
           "mode": "markers",
           "name": "LAC",
           "orientation": "v",
           "showlegend": true,
           "type": "scatter",
           "x": [
            1157
           ],
           "xaxis": "x",
           "y": [
            90.8960810991075
           ],
           "yaxis": "y"
          },
          {
           "customdata": [
            [
             "2013-2014"
            ]
           ],
           "hovertemplate": "team_abbreviation=LAL<br>season=%{customdata[0]}<br>Total Personal Fouls=%{x}<br>Average Defensive Efficiency=%{y}<extra></extra>",
           "legendgroup": "LAL",
           "marker": {
            "color": "#00cc96",
            "symbol": "circle"
           },
           "mode": "markers",
           "name": "LAL",
           "orientation": "v",
           "showlegend": true,
           "type": "scatter",
           "x": [
            1106
           ],
           "xaxis": "x",
           "y": [
            96.82969780043997
           ],
           "yaxis": "y"
          },
          {
           "customdata": [
            [
             "2013-2014"
            ]
           ],
           "hovertemplate": "team_abbreviation=MEM<br>season=%{customdata[0]}<br>Total Personal Fouls=%{x}<br>Average Defensive Efficiency=%{y}<extra></extra>",
           "legendgroup": "MEM",
           "marker": {
            "color": "#ab63fa",
            "symbol": "circle"
           },
           "mode": "markers",
           "name": "MEM",
           "orientation": "v",
           "showlegend": true,
           "type": "scatter",
           "x": [
            947
           ],
           "xaxis": "x",
           "y": [
            88.12701203940506
           ],
           "yaxis": "y"
          },
          {
           "customdata": [
            [
             "2013-2014"
            ]
           ],
           "hovertemplate": "team_abbreviation=MIA<br>season=%{customdata[0]}<br>Total Personal Fouls=%{x}<br>Average Defensive Efficiency=%{y}<extra></extra>",
           "legendgroup": "MIA",
           "marker": {
            "color": "#FFA15A",
            "symbol": "circle"
           },
           "mode": "markers",
           "name": "MIA",
           "orientation": "v",
           "showlegend": true,
           "type": "scatter",
           "x": [
            964
           ],
           "xaxis": "x",
           "y": [
            93.93686899028343
           ],
           "yaxis": "y"
          },
          {
           "customdata": [
            [
             "2013-2014"
            ]
           ],
           "hovertemplate": "team_abbreviation=MIL<br>season=%{customdata[0]}<br>Total Personal Fouls=%{x}<br>Average Defensive Efficiency=%{y}<extra></extra>",
           "legendgroup": "MIL",
           "marker": {
            "color": "#19d3f3",
            "symbol": "circle"
           },
           "mode": "markers",
           "name": "MIL",
           "orientation": "v",
           "showlegend": true,
           "type": "scatter",
           "x": [
            1015
           ],
           "xaxis": "x",
           "y": [
            89.00584443110964
           ],
           "yaxis": "y"
          },
          {
           "customdata": [
            [
             "2013-2014"
            ]
           ],
           "hovertemplate": "team_abbreviation=MIN<br>season=%{customdata[0]}<br>Total Personal Fouls=%{x}<br>Average Defensive Efficiency=%{y}<extra></extra>",
           "legendgroup": "MIN",
           "marker": {
            "color": "#FF6692",
            "symbol": "circle"
           },
           "mode": "markers",
           "name": "MIN",
           "orientation": "v",
           "showlegend": true,
           "type": "scatter",
           "x": [
            834
           ],
           "xaxis": "x",
           "y": [
            96.16094635525324
           ],
           "yaxis": "y"
          },
          {
           "customdata": [
            [
             "2013-2014"
            ]
           ],
           "hovertemplate": "team_abbreviation=NYK<br>season=%{customdata[0]}<br>Total Personal Fouls=%{x}<br>Average Defensive Efficiency=%{y}<extra></extra>",
           "legendgroup": "NYK",
           "marker": {
            "color": "#B6E880",
            "symbol": "circle"
           },
           "mode": "markers",
           "name": "NYK",
           "orientation": "v",
           "showlegend": true,
           "type": "scatter",
           "x": [
            937
           ],
           "xaxis": "x",
           "y": [
            95.40016864297196
           ],
           "yaxis": "y"
          },
          {
           "customdata": [
            [
             "2013-2014"
            ]
           ],
           "hovertemplate": "team_abbreviation=OKC<br>season=%{customdata[0]}<br>Total Personal Fouls=%{x}<br>Average Defensive Efficiency=%{y}<extra></extra>",
           "legendgroup": "OKC",
           "marker": {
            "color": "#FF97FF",
            "symbol": "circle"
           },
           "mode": "markers",
           "name": "OKC",
           "orientation": "v",
           "showlegend": true,
           "type": "scatter",
           "x": [
            1028
           ],
           "xaxis": "x",
           "y": [
            91.38944785506297
           ],
           "yaxis": "y"
          },
          {
           "customdata": [
            [
             "2013-2014"
            ]
           ],
           "hovertemplate": "team_abbreviation=ORL<br>season=%{customdata[0]}<br>Total Personal Fouls=%{x}<br>Average Defensive Efficiency=%{y}<extra></extra>",
           "legendgroup": "ORL",
           "marker": {
            "color": "#FECB52",
            "symbol": "circle"
           },
           "mode": "markers",
           "name": "ORL",
           "orientation": "v",
           "showlegend": true,
           "type": "scatter",
           "x": [
            923
           ],
           "xaxis": "x",
           "y": [
            95.50905691133671
           ],
           "yaxis": "y"
          },
          {
           "customdata": [
            [
             "2013-2014"
            ]
           ],
           "hovertemplate": "team_abbreviation=PHI<br>season=%{customdata[0]}<br>Total Personal Fouls=%{x}<br>Average Defensive Efficiency=%{y}<extra></extra>",
           "legendgroup": "PHI",
           "marker": {
            "color": "#636efa",
            "symbol": "circle"
           },
           "mode": "markers",
           "name": "PHI",
           "orientation": "v",
           "showlegend": true,
           "type": "scatter",
           "x": [
            995
           ],
           "xaxis": "x",
           "y": [
            89.93473832381939
           ],
           "yaxis": "y"
          },
          {
           "customdata": [
            [
             "2013-2014"
            ]
           ],
           "hovertemplate": "team_abbreviation=PHX<br>season=%{customdata[0]}<br>Total Personal Fouls=%{x}<br>Average Defensive Efficiency=%{y}<extra></extra>",
           "legendgroup": "PHX",
           "marker": {
            "color": "#EF553B",
            "symbol": "circle"
           },
           "mode": "markers",
           "name": "PHX",
           "orientation": "v",
           "showlegend": true,
           "type": "scatter",
           "x": [
            916
           ],
           "xaxis": "x",
           "y": [
            91.51417561589432
           ],
           "yaxis": "y"
          },
          {
           "customdata": [
            [
             "2013-2014"
            ]
           ],
           "hovertemplate": "team_abbreviation=POR<br>season=%{customdata[0]}<br>Total Personal Fouls=%{x}<br>Average Defensive Efficiency=%{y}<extra></extra>",
           "legendgroup": "POR",
           "marker": {
            "color": "#00cc96",
            "symbol": "circle"
           },
           "mode": "markers",
           "name": "POR",
           "orientation": "v",
           "showlegend": true,
           "type": "scatter",
           "x": [
            803
           ],
           "xaxis": "x",
           "y": [
            90.41603868708063
           ],
           "yaxis": "y"
          },
          {
           "customdata": [
            [
             "2013-2014"
            ]
           ],
           "hovertemplate": "team_abbreviation=SAC<br>season=%{customdata[0]}<br>Total Personal Fouls=%{x}<br>Average Defensive Efficiency=%{y}<extra></extra>",
           "legendgroup": "SAC",
           "marker": {
            "color": "#ab63fa",
            "symbol": "circle"
           },
           "mode": "markers",
           "name": "SAC",
           "orientation": "v",
           "showlegend": true,
           "type": "scatter",
           "x": [
            890
           ],
           "xaxis": "x",
           "y": [
            93.26326159573998
           ],
           "yaxis": "y"
          },
          {
           "customdata": [
            [
             "2013-2014"
            ]
           ],
           "hovertemplate": "team_abbreviation=SAS<br>season=%{customdata[0]}<br>Total Personal Fouls=%{x}<br>Average Defensive Efficiency=%{y}<extra></extra>",
           "legendgroup": "SAS",
           "marker": {
            "color": "#FFA15A",
            "symbol": "circle"
           },
           "mode": "markers",
           "name": "SAS",
           "orientation": "v",
           "showlegend": true,
           "type": "scatter",
           "x": [
            889
           ],
           "xaxis": "x",
           "y": [
            90.95540614543468
           ],
           "yaxis": "y"
          },
          {
           "customdata": [
            [
             "2013-2014"
            ]
           ],
           "hovertemplate": "team_abbreviation=TOR<br>season=%{customdata[0]}<br>Total Personal Fouls=%{x}<br>Average Defensive Efficiency=%{y}<extra></extra>",
           "legendgroup": "TOR",
           "marker": {
            "color": "#19d3f3",
            "symbol": "circle"
           },
           "mode": "markers",
           "name": "TOR",
           "orientation": "v",
           "showlegend": true,
           "type": "scatter",
           "x": [
            947
           ],
           "xaxis": "x",
           "y": [
            92.73200364276673
           ],
           "yaxis": "y"
          },
          {
           "customdata": [
            [
             "2013-2014"
            ]
           ],
           "hovertemplate": "team_abbreviation=UTA<br>season=%{customdata[0]}<br>Total Personal Fouls=%{x}<br>Average Defensive Efficiency=%{y}<extra></extra>",
           "legendgroup": "UTA",
           "marker": {
            "color": "#FF6692",
            "symbol": "circle"
           },
           "mode": "markers",
           "name": "UTA",
           "orientation": "v",
           "showlegend": true,
           "type": "scatter",
           "x": [
            886
           ],
           "xaxis": "x",
           "y": [
            91.03074222667728
           ],
           "yaxis": "y"
          },
          {
           "customdata": [
            [
             "2013-2014"
            ]
           ],
           "hovertemplate": "team_abbreviation=WAS<br>season=%{customdata[0]}<br>Total Personal Fouls=%{x}<br>Average Defensive Efficiency=%{y}<extra></extra>",
           "legendgroup": "WAS",
           "marker": {
            "color": "#B6E880",
            "symbol": "circle"
           },
           "mode": "markers",
           "name": "WAS",
           "orientation": "v",
           "showlegend": true,
           "type": "scatter",
           "x": [
            1021
           ],
           "xaxis": "x",
           "y": [
            88.28451431656609
           ],
           "yaxis": "y"
          },
          {
           "customdata": [
            [
             "2013-2014"
            ]
           ],
           "hovertemplate": "team_abbreviation=BKN<br>season=%{customdata[0]}<br>Total Personal Fouls=%{x}<br>Average Defensive Efficiency=%{y}<extra></extra>",
           "legendgroup": "BKN",
           "marker": {
            "color": "#FF97FF",
            "symbol": "circle"
           },
           "mode": "markers",
           "name": "BKN",
           "orientation": "v",
           "showlegend": true,
           "type": "scatter",
           "x": [
            912
           ],
           "xaxis": "x",
           "y": [
            92.54119645123836
           ],
           "yaxis": "y"
          },
          {
           "customdata": [
            [
             "2013-2014"
            ]
           ],
           "hovertemplate": "team_abbreviation=NOP<br>season=%{customdata[0]}<br>Total Personal Fouls=%{x}<br>Average Defensive Efficiency=%{y}<extra></extra>",
           "legendgroup": "NOP",
           "marker": {
            "color": "#FECB52",
            "symbol": "circle"
           },
           "mode": "markers",
           "name": "NOP",
           "orientation": "v",
           "showlegend": true,
           "type": "scatter",
           "x": [
            866
           ],
           "xaxis": "x",
           "y": [
            92.55840840690834
           ],
           "yaxis": "y"
          }
         ],
         "name": "2013-2014"
        },
        {
         "data": [
          {
           "customdata": [
            [
             "2014-2015"
            ]
           ],
           "hovertemplate": "team_abbreviation=ATL<br>season=%{customdata[0]}<br>Total Personal Fouls=%{x}<br>Average Defensive Efficiency=%{y}<extra></extra>",
           "legendgroup": "ATL",
           "marker": {
            "color": "#636efa",
            "symbol": "circle"
           },
           "mode": "markers",
           "name": "ATL",
           "orientation": "v",
           "showlegend": true,
           "type": "scatter",
           "x": [
            948
           ],
           "xaxis": "x",
           "y": [
            86.59550152822344
           ],
           "yaxis": "y"
          },
          {
           "customdata": [
            [
             "2014-2015"
            ]
           ],
           "hovertemplate": "team_abbreviation=BOS<br>season=%{customdata[0]}<br>Total Personal Fouls=%{x}<br>Average Defensive Efficiency=%{y}<extra></extra>",
           "legendgroup": "BOS",
           "marker": {
            "color": "#EF553B",
            "symbol": "circle"
           },
           "mode": "markers",
           "name": "BOS",
           "orientation": "v",
           "showlegend": true,
           "type": "scatter",
           "x": [
            1006
           ],
           "xaxis": "x",
           "y": [
            87.54786921106532
           ],
           "yaxis": "y"
          },
          {
           "customdata": [
            [
             "2014-2015"
            ]
           ],
           "hovertemplate": "team_abbreviation=CHA<br>season=%{customdata[0]}<br>Total Personal Fouls=%{x}<br>Average Defensive Efficiency=%{y}<extra></extra>",
           "legendgroup": "CHA",
           "marker": {
            "color": "#00cc96",
            "symbol": "circle"
           },
           "mode": "markers",
           "name": "CHA",
           "orientation": "v",
           "showlegend": true,
           "type": "scatter",
           "x": [
            850
           ],
           "xaxis": "x",
           "y": [
            90.5025977790495
           ],
           "yaxis": "y"
          },
          {
           "customdata": [
            [
             "2014-2015"
            ]
           ],
           "hovertemplate": "team_abbreviation=CHI<br>season=%{customdata[0]}<br>Total Personal Fouls=%{x}<br>Average Defensive Efficiency=%{y}<extra></extra>",
           "legendgroup": "CHI",
           "marker": {
            "color": "#ab63fa",
            "symbol": "circle"
           },
           "mode": "markers",
           "name": "CHI",
           "orientation": "v",
           "showlegend": true,
           "type": "scatter",
           "x": [
            861
           ],
           "xaxis": "x",
           "y": [
            91.48991439334813
           ],
           "yaxis": "y"
          },
          {
           "customdata": [
            [
             "2014-2015"
            ]
           ],
           "hovertemplate": "team_abbreviation=CLE<br>season=%{customdata[0]}<br>Total Personal Fouls=%{x}<br>Average Defensive Efficiency=%{y}<extra></extra>",
           "legendgroup": "CLE",
           "marker": {
            "color": "#FFA15A",
            "symbol": "circle"
           },
           "mode": "markers",
           "name": "CLE",
           "orientation": "v",
           "showlegend": true,
           "type": "scatter",
           "x": [
            1165
           ],
           "xaxis": "x",
           "y": [
            93.29184873597684
           ],
           "yaxis": "y"
          },
          {
           "customdata": [
            [
             "2014-2015"
            ]
           ],
           "hovertemplate": "team_abbreviation=DAL<br>season=%{customdata[0]}<br>Total Personal Fouls=%{x}<br>Average Defensive Efficiency=%{y}<extra></extra>",
           "legendgroup": "DAL",
           "marker": {
            "color": "#19d3f3",
            "symbol": "circle"
           },
           "mode": "markers",
           "name": "DAL",
           "orientation": "v",
           "showlegend": true,
           "type": "scatter",
           "x": [
            888
           ],
           "xaxis": "x",
           "y": [
            93.39628080835392
           ],
           "yaxis": "y"
          },
          {
           "customdata": [
            [
             "2014-2015"
            ]
           ],
           "hovertemplate": "team_abbreviation=DEN<br>season=%{customdata[0]}<br>Total Personal Fouls=%{x}<br>Average Defensive Efficiency=%{y}<extra></extra>",
           "legendgroup": "DEN",
           "marker": {
            "color": "#FF6692",
            "symbol": "circle"
           },
           "mode": "markers",
           "name": "DEN",
           "orientation": "v",
           "showlegend": true,
           "type": "scatter",
           "x": [
            945
           ],
           "xaxis": "x",
           "y": [
            96.60252281268745
           ],
           "yaxis": "y"
          },
          {
           "customdata": [
            [
             "2014-2015"
            ]
           ],
           "hovertemplate": "team_abbreviation=DET<br>season=%{customdata[0]}<br>Total Personal Fouls=%{x}<br>Average Defensive Efficiency=%{y}<extra></extra>",
           "legendgroup": "DET",
           "marker": {
            "color": "#B6E880",
            "symbol": "circle"
           },
           "mode": "markers",
           "name": "DET",
           "orientation": "v",
           "showlegend": true,
           "type": "scatter",
           "x": [
            910
           ],
           "xaxis": "x",
           "y": [
            94.2108930681918
           ],
           "yaxis": "y"
          },
          {
           "customdata": [
            [
             "2014-2015"
            ]
           ],
           "hovertemplate": "team_abbreviation=GSW<br>season=%{customdata[0]}<br>Total Personal Fouls=%{x}<br>Average Defensive Efficiency=%{y}<extra></extra>",
           "legendgroup": "GSW",
           "marker": {
            "color": "#FF97FF",
            "symbol": "circle"
           },
           "mode": "markers",
           "name": "GSW",
           "orientation": "v",
           "showlegend": true,
           "type": "scatter",
           "x": [
            1212
           ],
           "xaxis": "x",
           "y": [
            88.64650713383189
           ],
           "yaxis": "y"
          },
          {
           "customdata": [
            [
             "2014-2015"
            ]
           ],
           "hovertemplate": "team_abbreviation=HOU<br>season=%{customdata[0]}<br>Total Personal Fouls=%{x}<br>Average Defensive Efficiency=%{y}<extra></extra>",
           "legendgroup": "HOU",
           "marker": {
            "color": "#FECB52",
            "symbol": "circle"
           },
           "mode": "markers",
           "name": "HOU",
           "orientation": "v",
           "showlegend": true,
           "type": "scatter",
           "x": [
            1021
           ],
           "xaxis": "x",
           "y": [
            92.74791403417582
           ],
           "yaxis": "y"
          },
          {
           "customdata": [
            [
             "2014-2015"
            ]
           ],
           "hovertemplate": "team_abbreviation=IND<br>season=%{customdata[0]}<br>Total Personal Fouls=%{x}<br>Average Defensive Efficiency=%{y}<extra></extra>",
           "legendgroup": "IND",
           "marker": {
            "color": "#636efa",
            "symbol": "circle"
           },
           "mode": "markers",
           "name": "IND",
           "orientation": "v",
           "showlegend": true,
           "type": "scatter",
           "x": [
            896
           ],
           "xaxis": "x",
           "y": [
            89.11935908552623
           ],
           "yaxis": "y"
          },
          {
           "customdata": [
            [
             "2014-2015"
            ]
           ],
           "hovertemplate": "team_abbreviation=LAC<br>season=%{customdata[0]}<br>Total Personal Fouls=%{x}<br>Average Defensive Efficiency=%{y}<extra></extra>",
           "legendgroup": "LAC",
           "marker": {
            "color": "#EF553B",
            "symbol": "circle"
           },
           "mode": "markers",
           "name": "LAC",
           "orientation": "v",
           "showlegend": true,
           "type": "scatter",
           "x": [
            1023
           ],
           "xaxis": "x",
           "y": [
            88.28044203697613
           ],
           "yaxis": "y"
          },
          {
           "customdata": [
            [
             "2014-2015"
            ]
           ],
           "hovertemplate": "team_abbreviation=LAL<br>season=%{customdata[0]}<br>Total Personal Fouls=%{x}<br>Average Defensive Efficiency=%{y}<extra></extra>",
           "legendgroup": "LAL",
           "marker": {
            "color": "#00cc96",
            "symbol": "circle"
           },
           "mode": "markers",
           "name": "LAL",
           "orientation": "v",
           "showlegend": true,
           "type": "scatter",
           "x": [
            996
           ],
           "xaxis": "x",
           "y": [
            95.67220592224709
           ],
           "yaxis": "y"
          },
          {
           "customdata": [
            [
             "2014-2015"
            ]
           ],
           "hovertemplate": "team_abbreviation=MEM<br>season=%{customdata[0]}<br>Total Personal Fouls=%{x}<br>Average Defensive Efficiency=%{y}<extra></extra>",
           "legendgroup": "MEM",
           "marker": {
            "color": "#ab63fa",
            "symbol": "circle"
           },
           "mode": "markers",
           "name": "MEM",
           "orientation": "v",
           "showlegend": true,
           "type": "scatter",
           "x": [
            1002
           ],
           "xaxis": "x",
           "y": [
            93.85850915876496
           ],
           "yaxis": "y"
          },
          {
           "customdata": [
            [
             "2014-2015"
            ]
           ],
           "hovertemplate": "team_abbreviation=MIA<br>season=%{customdata[0]}<br>Total Personal Fouls=%{x}<br>Average Defensive Efficiency=%{y}<extra></extra>",
           "legendgroup": "MIA",
           "marker": {
            "color": "#FFA15A",
            "symbol": "circle"
           },
           "mode": "markers",
           "name": "MIA",
           "orientation": "v",
           "showlegend": true,
           "type": "scatter",
           "x": [
            996
           ],
           "xaxis": "x",
           "y": [
            91.04941293817569
           ],
           "yaxis": "y"
          },
          {
           "customdata": [
            [
             "2014-2015"
            ]
           ],
           "hovertemplate": "team_abbreviation=MIL<br>season=%{customdata[0]}<br>Total Personal Fouls=%{x}<br>Average Defensive Efficiency=%{y}<extra></extra>",
           "legendgroup": "MIL",
           "marker": {
            "color": "#19d3f3",
            "symbol": "circle"
           },
           "mode": "markers",
           "name": "MIL",
           "orientation": "v",
           "showlegend": true,
           "type": "scatter",
           "x": [
            907
           ],
           "xaxis": "x",
           "y": [
            93.21882063618527
           ],
           "yaxis": "y"
          },
          {
           "customdata": [
            [
             "2014-2015"
            ]
           ],
           "hovertemplate": "team_abbreviation=MIN<br>season=%{customdata[0]}<br>Total Personal Fouls=%{x}<br>Average Defensive Efficiency=%{y}<extra></extra>",
           "legendgroup": "MIN",
           "marker": {
            "color": "#FF6692",
            "symbol": "circle"
           },
           "mode": "markers",
           "name": "MIN",
           "orientation": "v",
           "showlegend": true,
           "type": "scatter",
           "x": [
            898
           ],
           "xaxis": "x",
           "y": [
            97.88336821711455
           ],
           "yaxis": "y"
          },
          {
           "customdata": [
            [
             "2014-2015"
            ]
           ],
           "hovertemplate": "team_abbreviation=NYK<br>season=%{customdata[0]}<br>Total Personal Fouls=%{x}<br>Average Defensive Efficiency=%{y}<extra></extra>",
           "legendgroup": "NYK",
           "marker": {
            "color": "#B6E880",
            "symbol": "circle"
           },
           "mode": "markers",
           "name": "NYK",
           "orientation": "v",
           "showlegend": true,
           "type": "scatter",
           "x": [
            827
           ],
           "xaxis": "x",
           "y": [
            93.22761253873588
           ],
           "yaxis": "y"
          },
          {
           "customdata": [
            [
             "2014-2015"
            ]
           ],
           "hovertemplate": "team_abbreviation=OKC<br>season=%{customdata[0]}<br>Total Personal Fouls=%{x}<br>Average Defensive Efficiency=%{y}<extra></extra>",
           "legendgroup": "OKC",
           "marker": {
            "color": "#FF97FF",
            "symbol": "circle"
           },
           "mode": "markers",
           "name": "OKC",
           "orientation": "v",
           "showlegend": true,
           "type": "scatter",
           "x": [
            1042
           ],
           "xaxis": "x",
           "y": [
            89.92705270253329
           ],
           "yaxis": "y"
          },
          {
           "customdata": [
            [
             "2014-2015"
            ]
           ],
           "hovertemplate": "team_abbreviation=ORL<br>season=%{customdata[0]}<br>Total Personal Fouls=%{x}<br>Average Defensive Efficiency=%{y}<extra></extra>",
           "legendgroup": "ORL",
           "marker": {
            "color": "#FECB52",
            "symbol": "circle"
           },
           "mode": "markers",
           "name": "ORL",
           "orientation": "v",
           "showlegend": true,
           "type": "scatter",
           "x": [
            956
           ],
           "xaxis": "x",
           "y": [
            92.49661054013374
           ],
           "yaxis": "y"
          },
          {
           "customdata": [
            [
             "2014-2015"
            ]
           ],
           "hovertemplate": "team_abbreviation=PHI<br>season=%{customdata[0]}<br>Total Personal Fouls=%{x}<br>Average Defensive Efficiency=%{y}<extra></extra>",
           "legendgroup": "PHI",
           "marker": {
            "color": "#636efa",
            "symbol": "circle"
           },
           "mode": "markers",
           "name": "PHI",
           "orientation": "v",
           "showlegend": true,
           "type": "scatter",
           "x": [
            951
           ],
           "xaxis": "x",
           "y": [
            95.77603465982011
           ],
           "yaxis": "y"
          },
          {
           "customdata": [
            [
             "2014-2015"
            ]
           ],
           "hovertemplate": "team_abbreviation=PHX<br>season=%{customdata[0]}<br>Total Personal Fouls=%{x}<br>Average Defensive Efficiency=%{y}<extra></extra>",
           "legendgroup": "PHX",
           "marker": {
            "color": "#EF553B",
            "symbol": "circle"
           },
           "mode": "markers",
           "name": "PHX",
           "orientation": "v",
           "showlegend": true,
           "type": "scatter",
           "x": [
            1004
           ],
           "xaxis": "x",
           "y": [
            95.65955371432247
           ],
           "yaxis": "y"
          },
          {
           "customdata": [
            [
             "2014-2015"
            ]
           ],
           "hovertemplate": "team_abbreviation=POR<br>season=%{customdata[0]}<br>Total Personal Fouls=%{x}<br>Average Defensive Efficiency=%{y}<extra></extra>",
           "legendgroup": "POR",
           "marker": {
            "color": "#00cc96",
            "symbol": "circle"
           },
           "mode": "markers",
           "name": "POR",
           "orientation": "v",
           "showlegend": true,
           "type": "scatter",
           "x": [
            1033
           ],
           "xaxis": "x",
           "y": [
            92.53691882774896
           ],
           "yaxis": "y"
          },
          {
           "customdata": [
            [
             "2014-2015"
            ]
           ],
           "hovertemplate": "team_abbreviation=SAC<br>season=%{customdata[0]}<br>Total Personal Fouls=%{x}<br>Average Defensive Efficiency=%{y}<extra></extra>",
           "legendgroup": "SAC",
           "marker": {
            "color": "#ab63fa",
            "symbol": "circle"
           },
           "mode": "markers",
           "name": "SAC",
           "orientation": "v",
           "showlegend": true,
           "type": "scatter",
           "x": [
            854
           ],
           "xaxis": "x",
           "y": [
            95.607524845286
           ],
           "yaxis": "y"
          },
          {
           "customdata": [
            [
             "2014-2015"
            ]
           ],
           "hovertemplate": "team_abbreviation=SAS<br>season=%{customdata[0]}<br>Total Personal Fouls=%{x}<br>Average Defensive Efficiency=%{y}<extra></extra>",
           "legendgroup": "SAS",
           "marker": {
            "color": "#FFA15A",
            "symbol": "circle"
           },
           "mode": "markers",
           "name": "SAS",
           "orientation": "v",
           "showlegend": true,
           "type": "scatter",
           "x": [
            847
           ],
           "xaxis": "x",
           "y": [
            86.33831355773006
           ],
           "yaxis": "y"
          },
          {
           "customdata": [
            [
             "2014-2015"
            ]
           ],
           "hovertemplate": "team_abbreviation=TOR<br>season=%{customdata[0]}<br>Total Personal Fouls=%{x}<br>Average Defensive Efficiency=%{y}<extra></extra>",
           "legendgroup": "TOR",
           "marker": {
            "color": "#19d3f3",
            "symbol": "circle"
           },
           "mode": "markers",
           "name": "TOR",
           "orientation": "v",
           "showlegend": true,
           "type": "scatter",
           "x": [
            1123
           ],
           "xaxis": "x",
           "y": [
            93.06315024570672
           ],
           "yaxis": "y"
          },
          {
           "customdata": [
            [
             "2014-2015"
            ]
           ],
           "hovertemplate": "team_abbreviation=UTA<br>season=%{customdata[0]}<br>Total Personal Fouls=%{x}<br>Average Defensive Efficiency=%{y}<extra></extra>",
           "legendgroup": "UTA",
           "marker": {
            "color": "#FF6692",
            "symbol": "circle"
           },
           "mode": "markers",
           "name": "UTA",
           "orientation": "v",
           "showlegend": true,
           "type": "scatter",
           "x": [
            866
           ],
           "xaxis": "x",
           "y": [
            89.45778217343903
           ],
           "yaxis": "y"
          },
          {
           "customdata": [
            [
             "2014-2015"
            ]
           ],
           "hovertemplate": "team_abbreviation=WAS<br>season=%{customdata[0]}<br>Total Personal Fouls=%{x}<br>Average Defensive Efficiency=%{y}<extra></extra>",
           "legendgroup": "WAS",
           "marker": {
            "color": "#B6E880",
            "symbol": "circle"
           },
           "mode": "markers",
           "name": "WAS",
           "orientation": "v",
           "showlegend": true,
           "type": "scatter",
           "x": [
            869
           ],
           "xaxis": "x",
           "y": [
            93.79959408215284
           ],
           "yaxis": "y"
          },
          {
           "customdata": [
            [
             "2014-2015"
            ]
           ],
           "hovertemplate": "team_abbreviation=BKN<br>season=%{customdata[0]}<br>Total Personal Fouls=%{x}<br>Average Defensive Efficiency=%{y}<extra></extra>",
           "legendgroup": "BKN",
           "marker": {
            "color": "#FF97FF",
            "symbol": "circle"
           },
           "mode": "markers",
           "name": "BKN",
           "orientation": "v",
           "showlegend": true,
           "type": "scatter",
           "x": [
            780
           ],
           "xaxis": "x",
           "y": [
            97.33848892274642
           ],
           "yaxis": "y"
          },
          {
           "customdata": [
            [
             "2014-2015"
            ]
           ],
           "hovertemplate": "team_abbreviation=NOP<br>season=%{customdata[0]}<br>Total Personal Fouls=%{x}<br>Average Defensive Efficiency=%{y}<extra></extra>",
           "legendgroup": "NOP",
           "marker": {
            "color": "#FECB52",
            "symbol": "circle"
           },
           "mode": "markers",
           "name": "NOP",
           "orientation": "v",
           "showlegend": true,
           "type": "scatter",
           "x": [
            920
           ],
           "xaxis": "x",
           "y": [
            98.96911063968281
           ],
           "yaxis": "y"
          }
         ],
         "name": "2014-2015"
        },
        {
         "data": [
          {
           "customdata": [
            [
             "2015-2016"
            ]
           ],
           "hovertemplate": "team_abbreviation=ATL<br>season=%{customdata[0]}<br>Total Personal Fouls=%{x}<br>Average Defensive Efficiency=%{y}<extra></extra>",
           "legendgroup": "ATL",
           "marker": {
            "color": "#636efa",
            "symbol": "circle"
           },
           "mode": "markers",
           "name": "ATL",
           "orientation": "v",
           "showlegend": true,
           "type": "scatter",
           "x": [
            890
           ],
           "xaxis": "x",
           "y": [
            93.77953394203946
           ],
           "yaxis": "y"
          },
          {
           "customdata": [
            [
             "2015-2016"
            ]
           ],
           "hovertemplate": "team_abbreviation=BOS<br>season=%{customdata[0]}<br>Total Personal Fouls=%{x}<br>Average Defensive Efficiency=%{y}<extra></extra>",
           "legendgroup": "BOS",
           "marker": {
            "color": "#EF553B",
            "symbol": "circle"
           },
           "mode": "markers",
           "name": "BOS",
           "orientation": "v",
           "showlegend": true,
           "type": "scatter",
           "x": [
            1094
           ],
           "xaxis": "x",
           "y": [
            95.61942365070782
           ],
           "yaxis": "y"
          },
          {
           "customdata": [
            [
             "2015-2016"
            ]
           ],
           "hovertemplate": "team_abbreviation=CHA<br>season=%{customdata[0]}<br>Total Personal Fouls=%{x}<br>Average Defensive Efficiency=%{y}<extra></extra>",
           "legendgroup": "CHA",
           "marker": {
            "color": "#00cc96",
            "symbol": "circle"
           },
           "mode": "markers",
           "name": "CHA",
           "orientation": "v",
           "showlegend": true,
           "type": "scatter",
           "x": [
            698
           ],
           "xaxis": "x",
           "y": [
            95.87748142529485
           ],
           "yaxis": "y"
          },
          {
           "customdata": [
            [
             "2015-2016"
            ]
           ],
           "hovertemplate": "team_abbreviation=CHI<br>season=%{customdata[0]}<br>Total Personal Fouls=%{x}<br>Average Defensive Efficiency=%{y}<extra></extra>",
           "legendgroup": "CHI",
           "marker": {
            "color": "#ab63fa",
            "symbol": "circle"
           },
           "mode": "markers",
           "name": "CHI",
           "orientation": "v",
           "showlegend": true,
           "type": "scatter",
           "x": [
            890
           ],
           "xaxis": "x",
           "y": [
            94.25379880874411
           ],
           "yaxis": "y"
          },
          {
           "customdata": [
            [
             "2015-2016"
            ]
           ],
           "hovertemplate": "team_abbreviation=CLE<br>season=%{customdata[0]}<br>Total Personal Fouls=%{x}<br>Average Defensive Efficiency=%{y}<extra></extra>",
           "legendgroup": "CLE",
           "marker": {
            "color": "#FFA15A",
            "symbol": "circle"
           },
           "mode": "markers",
           "name": "CLE",
           "orientation": "v",
           "showlegend": true,
           "type": "scatter",
           "x": [
            951
           ],
           "xaxis": "x",
           "y": [
            96.28451821504068
           ],
           "yaxis": "y"
          },
          {
           "customdata": [
            [
             "2015-2016"
            ]
           ],
           "hovertemplate": "team_abbreviation=DAL<br>season=%{customdata[0]}<br>Total Personal Fouls=%{x}<br>Average Defensive Efficiency=%{y}<extra></extra>",
           "legendgroup": "DAL",
           "marker": {
            "color": "#19d3f3",
            "symbol": "circle"
           },
           "mode": "markers",
           "name": "DAL",
           "orientation": "v",
           "showlegend": true,
           "type": "scatter",
           "x": [
            822
           ],
           "xaxis": "x",
           "y": [
            93.324164833838
           ],
           "yaxis": "y"
          },
          {
           "customdata": [
            [
             "2015-2016"
            ]
           ],
           "hovertemplate": "team_abbreviation=DEN<br>season=%{customdata[0]}<br>Total Personal Fouls=%{x}<br>Average Defensive Efficiency=%{y}<extra></extra>",
           "legendgroup": "DEN",
           "marker": {
            "color": "#FF6692",
            "symbol": "circle"
           },
           "mode": "markers",
           "name": "DEN",
           "orientation": "v",
           "showlegend": true,
           "type": "scatter",
           "x": [
            820
           ],
           "xaxis": "x",
           "y": [
            100.47912928459512
           ],
           "yaxis": "y"
          },
          {
           "customdata": [
            [
             "2015-2016"
            ]
           ],
           "hovertemplate": "team_abbreviation=DET<br>season=%{customdata[0]}<br>Total Personal Fouls=%{x}<br>Average Defensive Efficiency=%{y}<extra></extra>",
           "legendgroup": "DET",
           "marker": {
            "color": "#B6E880",
            "symbol": "circle"
           },
           "mode": "markers",
           "name": "DET",
           "orientation": "v",
           "showlegend": true,
           "type": "scatter",
           "x": [
            789
           ],
           "xaxis": "x",
           "y": [
            92.58731235336268
           ],
           "yaxis": "y"
          },
          {
           "customdata": [
            [
             "2015-2016"
            ]
           ],
           "hovertemplate": "team_abbreviation=GSW<br>season=%{customdata[0]}<br>Total Personal Fouls=%{x}<br>Average Defensive Efficiency=%{y}<extra></extra>",
           "legendgroup": "GSW",
           "marker": {
            "color": "#FF97FF",
            "symbol": "circle"
           },
           "mode": "markers",
           "name": "GSW",
           "orientation": "v",
           "showlegend": true,
           "type": "scatter",
           "x": [
            999
           ],
           "xaxis": "x",
           "y": [
            88.87762083472643
           ],
           "yaxis": "y"
          },
          {
           "customdata": [
            [
             "2015-2016"
            ]
           ],
           "hovertemplate": "team_abbreviation=HOU<br>season=%{customdata[0]}<br>Total Personal Fouls=%{x}<br>Average Defensive Efficiency=%{y}<extra></extra>",
           "legendgroup": "HOU",
           "marker": {
            "color": "#FECB52",
            "symbol": "circle"
           },
           "mode": "markers",
           "name": "HOU",
           "orientation": "v",
           "showlegend": true,
           "type": "scatter",
           "x": [
            972
           ],
           "xaxis": "x",
           "y": [
            94.78398734320382
           ],
           "yaxis": "y"
          },
          {
           "customdata": [
            [
             "2015-2016"
            ]
           ],
           "hovertemplate": "team_abbreviation=IND<br>season=%{customdata[0]}<br>Total Personal Fouls=%{x}<br>Average Defensive Efficiency=%{y}<extra></extra>",
           "legendgroup": "IND",
           "marker": {
            "color": "#636efa",
            "symbol": "circle"
           },
           "mode": "markers",
           "name": "IND",
           "orientation": "v",
           "showlegend": true,
           "type": "scatter",
           "x": [
            861
           ],
           "xaxis": "x",
           "y": [
            93.11817482547896
           ],
           "yaxis": "y"
          },
          {
           "customdata": [
            [
             "2015-2016"
            ]
           ],
           "hovertemplate": "team_abbreviation=LAC<br>season=%{customdata[0]}<br>Total Personal Fouls=%{x}<br>Average Defensive Efficiency=%{y}<extra></extra>",
           "legendgroup": "LAC",
           "marker": {
            "color": "#EF553B",
            "symbol": "circle"
           },
           "mode": "markers",
           "name": "LAC",
           "orientation": "v",
           "showlegend": true,
           "type": "scatter",
           "x": [
            961
           ],
           "xaxis": "x",
           "y": [
            92.75056834296748
           ],
           "yaxis": "y"
          },
          {
           "customdata": [
            [
             "2015-2016"
            ]
           ],
           "hovertemplate": "team_abbreviation=LAL<br>season=%{customdata[0]}<br>Total Personal Fouls=%{x}<br>Average Defensive Efficiency=%{y}<extra></extra>",
           "legendgroup": "LAL",
           "marker": {
            "color": "#00cc96",
            "symbol": "circle"
           },
           "mode": "markers",
           "name": "LAL",
           "orientation": "v",
           "showlegend": true,
           "type": "scatter",
           "x": [
            1013
           ],
           "xaxis": "x",
           "y": [
            98.14336234843024
           ],
           "yaxis": "y"
          },
          {
           "customdata": [
            [
             "2015-2016"
            ]
           ],
           "hovertemplate": "team_abbreviation=MEM<br>season=%{customdata[0]}<br>Total Personal Fouls=%{x}<br>Average Defensive Efficiency=%{y}<extra></extra>",
           "legendgroup": "MEM",
           "marker": {
            "color": "#ab63fa",
            "symbol": "circle"
           },
           "mode": "markers",
           "name": "MEM",
           "orientation": "v",
           "showlegend": true,
           "type": "scatter",
           "x": [
            1063
           ],
           "xaxis": "x",
           "y": [
            92.6314987565507
           ],
           "yaxis": "y"
          },
          {
           "customdata": [
            [
             "2015-2016"
            ]
           ],
           "hovertemplate": "team_abbreviation=MIA<br>season=%{customdata[0]}<br>Total Personal Fouls=%{x}<br>Average Defensive Efficiency=%{y}<extra></extra>",
           "legendgroup": "MIA",
           "marker": {
            "color": "#FFA15A",
            "symbol": "circle"
           },
           "mode": "markers",
           "name": "MIA",
           "orientation": "v",
           "showlegend": true,
           "type": "scatter",
           "x": [
            961
           ],
           "xaxis": "x",
           "y": [
            93.41194632350154
           ],
           "yaxis": "y"
          },
          {
           "customdata": [
            [
             "2015-2016"
            ]
           ],
           "hovertemplate": "team_abbreviation=MIL<br>season=%{customdata[0]}<br>Total Personal Fouls=%{x}<br>Average Defensive Efficiency=%{y}<extra></extra>",
           "legendgroup": "MIL",
           "marker": {
            "color": "#19d3f3",
            "symbol": "circle"
           },
           "mode": "markers",
           "name": "MIL",
           "orientation": "v",
           "showlegend": true,
           "type": "scatter",
           "x": [
            962
           ],
           "xaxis": "x",
           "y": [
            94.9287876165959
           ],
           "yaxis": "y"
          },
          {
           "customdata": [
            [
             "2015-2016"
            ]
           ],
           "hovertemplate": "team_abbreviation=MIN<br>season=%{customdata[0]}<br>Total Personal Fouls=%{x}<br>Average Defensive Efficiency=%{y}<extra></extra>",
           "legendgroup": "MIN",
           "marker": {
            "color": "#FF6692",
            "symbol": "circle"
           },
           "mode": "markers",
           "name": "MIN",
           "orientation": "v",
           "showlegend": true,
           "type": "scatter",
           "x": [
            904
           ],
           "xaxis": "x",
           "y": [
            96.13070332580934
           ],
           "yaxis": "y"
          },
          {
           "customdata": [
            [
             "2015-2016"
            ]
           ],
           "hovertemplate": "team_abbreviation=NYK<br>season=%{customdata[0]}<br>Total Personal Fouls=%{x}<br>Average Defensive Efficiency=%{y}<extra></extra>",
           "legendgroup": "NYK",
           "marker": {
            "color": "#B6E880",
            "symbol": "circle"
           },
           "mode": "markers",
           "name": "NYK",
           "orientation": "v",
           "showlegend": true,
           "type": "scatter",
           "x": [
            877
           ],
           "xaxis": "x",
           "y": [
            96.84861032653626
           ],
           "yaxis": "y"
          },
          {
           "customdata": [
            [
             "2015-2016"
            ]
           ],
           "hovertemplate": "team_abbreviation=OKC<br>season=%{customdata[0]}<br>Total Personal Fouls=%{x}<br>Average Defensive Efficiency=%{y}<extra></extra>",
           "legendgroup": "OKC",
           "marker": {
            "color": "#FF97FF",
            "symbol": "circle"
           },
           "mode": "markers",
           "name": "OKC",
           "orientation": "v",
           "showlegend": true,
           "type": "scatter",
           "x": [
            949
           ],
           "xaxis": "x",
           "y": [
            93.69080169383308
           ],
           "yaxis": "y"
          },
          {
           "customdata": [
            [
             "2015-2016"
            ]
           ],
           "hovertemplate": "team_abbreviation=ORL<br>season=%{customdata[0]}<br>Total Personal Fouls=%{x}<br>Average Defensive Efficiency=%{y}<extra></extra>",
           "legendgroup": "ORL",
           "marker": {
            "color": "#FECB52",
            "symbol": "circle"
           },
           "mode": "markers",
           "name": "ORL",
           "orientation": "v",
           "showlegend": true,
           "type": "scatter",
           "x": [
            878
           ],
           "xaxis": "x",
           "y": [
            95.29324366176219
           ],
           "yaxis": "y"
          },
          {
           "customdata": [
            [
             "2015-2016"
            ]
           ],
           "hovertemplate": "team_abbreviation=PHI<br>season=%{customdata[0]}<br>Total Personal Fouls=%{x}<br>Average Defensive Efficiency=%{y}<extra></extra>",
           "legendgroup": "PHI",
           "marker": {
            "color": "#636efa",
            "symbol": "circle"
           },
           "mode": "markers",
           "name": "PHI",
           "orientation": "v",
           "showlegend": true,
           "type": "scatter",
           "x": [
            952
           ],
           "xaxis": "x",
           "y": [
            94.84111578413109
           ],
           "yaxis": "y"
          },
          {
           "customdata": [
            [
             "2015-2016"
            ]
           ],
           "hovertemplate": "team_abbreviation=PHX<br>season=%{customdata[0]}<br>Total Personal Fouls=%{x}<br>Average Defensive Efficiency=%{y}<extra></extra>",
           "legendgroup": "PHX",
           "marker": {
            "color": "#EF553B",
            "symbol": "circle"
           },
           "mode": "markers",
           "name": "PHX",
           "orientation": "v",
           "showlegend": true,
           "type": "scatter",
           "x": [
            1071
           ],
           "xaxis": "x",
           "y": [
            97.40300589875356
           ],
           "yaxis": "y"
          },
          {
           "customdata": [
            [
             "2015-2016"
            ]
           ],
           "hovertemplate": "team_abbreviation=POR<br>season=%{customdata[0]}<br>Total Personal Fouls=%{x}<br>Average Defensive Efficiency=%{y}<extra></extra>",
           "legendgroup": "POR",
           "marker": {
            "color": "#00cc96",
            "symbol": "circle"
           },
           "mode": "markers",
           "name": "POR",
           "orientation": "v",
           "showlegend": true,
           "type": "scatter",
           "x": [
            919
           ],
           "xaxis": "x",
           "y": [
            97.59734185792964
           ],
           "yaxis": "y"
          },
          {
           "customdata": [
            [
             "2015-2016"
            ]
           ],
           "hovertemplate": "team_abbreviation=SAC<br>season=%{customdata[0]}<br>Total Personal Fouls=%{x}<br>Average Defensive Efficiency=%{y}<extra></extra>",
           "legendgroup": "SAC",
           "marker": {
            "color": "#ab63fa",
            "symbol": "circle"
           },
           "mode": "markers",
           "name": "SAC",
           "orientation": "v",
           "showlegend": true,
           "type": "scatter",
           "x": [
            868
           ],
           "xaxis": "x",
           "y": [
            99.14613829124907
           ],
           "yaxis": "y"
          },
          {
           "customdata": [
            [
             "2015-2016"
            ]
           ],
           "hovertemplate": "team_abbreviation=SAS<br>season=%{customdata[0]}<br>Total Personal Fouls=%{x}<br>Average Defensive Efficiency=%{y}<extra></extra>",
           "legendgroup": "SAS",
           "marker": {
            "color": "#FFA15A",
            "symbol": "circle"
           },
           "mode": "markers",
           "name": "SAS",
           "orientation": "v",
           "showlegend": true,
           "type": "scatter",
           "x": [
            928
           ],
           "xaxis": "x",
           "y": [
            92.66892715651895
           ],
           "yaxis": "y"
          },
          {
           "customdata": [
            [
             "2015-2016"
            ]
           ],
           "hovertemplate": "team_abbreviation=TOR<br>season=%{customdata[0]}<br>Total Personal Fouls=%{x}<br>Average Defensive Efficiency=%{y}<extra></extra>",
           "legendgroup": "TOR",
           "marker": {
            "color": "#19d3f3",
            "symbol": "circle"
           },
           "mode": "markers",
           "name": "TOR",
           "orientation": "v",
           "showlegend": true,
           "type": "scatter",
           "x": [
            1011
           ],
           "xaxis": "x",
           "y": [
            95.27061783896636
           ],
           "yaxis": "y"
          },
          {
           "customdata": [
            [
             "2015-2016"
            ]
           ],
           "hovertemplate": "team_abbreviation=UTA<br>season=%{customdata[0]}<br>Total Personal Fouls=%{x}<br>Average Defensive Efficiency=%{y}<extra></extra>",
           "legendgroup": "UTA",
           "marker": {
            "color": "#FF6692",
            "symbol": "circle"
           },
           "mode": "markers",
           "name": "UTA",
           "orientation": "v",
           "showlegend": true,
           "type": "scatter",
           "x": [
            934
           ],
           "xaxis": "x",
           "y": [
            93.26296827801939
           ],
           "yaxis": "y"
          },
          {
           "customdata": [
            [
             "2015-2016"
            ]
           ],
           "hovertemplate": "team_abbreviation=WAS<br>season=%{customdata[0]}<br>Total Personal Fouls=%{x}<br>Average Defensive Efficiency=%{y}<extra></extra>",
           "legendgroup": "WAS",
           "marker": {
            "color": "#B6E880",
            "symbol": "circle"
           },
           "mode": "markers",
           "name": "WAS",
           "orientation": "v",
           "showlegend": true,
           "type": "scatter",
           "x": [
            1072
           ],
           "xaxis": "x",
           "y": [
            94.06334376624336
           ],
           "yaxis": "y"
          },
          {
           "customdata": [
            [
             "2015-2016"
            ]
           ],
           "hovertemplate": "team_abbreviation=BKN<br>season=%{customdata[0]}<br>Total Personal Fouls=%{x}<br>Average Defensive Efficiency=%{y}<extra></extra>",
           "legendgroup": "BKN",
           "marker": {
            "color": "#FF97FF",
            "symbol": "circle"
           },
           "mode": "markers",
           "name": "BKN",
           "orientation": "v",
           "showlegend": true,
           "type": "scatter",
           "x": [
            917
           ],
           "xaxis": "x",
           "y": [
            95.10981780882504
           ],
           "yaxis": "y"
          },
          {
           "customdata": [
            [
             "2015-2016"
            ]
           ],
           "hovertemplate": "team_abbreviation=NOP<br>season=%{customdata[0]}<br>Total Personal Fouls=%{x}<br>Average Defensive Efficiency=%{y}<extra></extra>",
           "legendgroup": "NOP",
           "marker": {
            "color": "#FECB52",
            "symbol": "circle"
           },
           "mode": "markers",
           "name": "NOP",
           "orientation": "v",
           "showlegend": true,
           "type": "scatter",
           "x": [
            816
           ],
           "xaxis": "x",
           "y": [
            95.3612813690661
           ],
           "yaxis": "y"
          }
         ],
         "name": "2015-2016"
        },
        {
         "data": [
          {
           "customdata": [
            [
             "2016-2017"
            ]
           ],
           "hovertemplate": "team_abbreviation=ATL<br>season=%{customdata[0]}<br>Total Personal Fouls=%{x}<br>Average Defensive Efficiency=%{y}<extra></extra>",
           "legendgroup": "ATL",
           "marker": {
            "color": "#636efa",
            "symbol": "circle"
           },
           "mode": "markers",
           "name": "ATL",
           "orientation": "v",
           "showlegend": true,
           "type": "scatter",
           "x": [
            831
           ],
           "xaxis": "x",
           "y": [
            99.32435887450409
           ],
           "yaxis": "y"
          },
          {
           "customdata": [
            [
             "2016-2017"
            ]
           ],
           "hovertemplate": "team_abbreviation=BOS<br>season=%{customdata[0]}<br>Total Personal Fouls=%{x}<br>Average Defensive Efficiency=%{y}<extra></extra>",
           "legendgroup": "BOS",
           "marker": {
            "color": "#EF553B",
            "symbol": "circle"
           },
           "mode": "markers",
           "name": "BOS",
           "orientation": "v",
           "showlegend": true,
           "type": "scatter",
           "x": [
            1093
           ],
           "xaxis": "x",
           "y": [
            92.0651157524943
           ],
           "yaxis": "y"
          },
          {
           "customdata": [
            [
             "2016-2017"
            ]
           ],
           "hovertemplate": "team_abbreviation=CHA<br>season=%{customdata[0]}<br>Total Personal Fouls=%{x}<br>Average Defensive Efficiency=%{y}<extra></extra>",
           "legendgroup": "CHA",
           "marker": {
            "color": "#00cc96",
            "symbol": "circle"
           },
           "mode": "markers",
           "name": "CHA",
           "orientation": "v",
           "showlegend": true,
           "type": "scatter",
           "x": [
            745
           ],
           "xaxis": "x",
           "y": [
            98.05535370004955
           ],
           "yaxis": "y"
          },
          {
           "customdata": [
            [
             "2016-2017"
            ]
           ],
           "hovertemplate": "team_abbreviation=CHI<br>season=%{customdata[0]}<br>Total Personal Fouls=%{x}<br>Average Defensive Efficiency=%{y}<extra></extra>",
           "legendgroup": "CHI",
           "marker": {
            "color": "#ab63fa",
            "symbol": "circle"
           },
           "mode": "markers",
           "name": "CHI",
           "orientation": "v",
           "showlegend": true,
           "type": "scatter",
           "x": [
            842
           ],
           "xaxis": "x",
           "y": [
            99.63406398088433
           ],
           "yaxis": "y"
          },
          {
           "customdata": [
            [
             "2016-2017"
            ]
           ],
           "hovertemplate": "team_abbreviation=CLE<br>season=%{customdata[0]}<br>Total Personal Fouls=%{x}<br>Average Defensive Efficiency=%{y}<extra></extra>",
           "legendgroup": "CLE",
           "marker": {
            "color": "#FFA15A",
            "symbol": "circle"
           },
           "mode": "markers",
           "name": "CLE",
           "orientation": "v",
           "showlegend": true,
           "type": "scatter",
           "x": [
            1021
           ],
           "xaxis": "x",
           "y": [
            99.94656733654557
           ],
           "yaxis": "y"
          },
          {
           "customdata": [
            [
             "2016-2017"
            ]
           ],
           "hovertemplate": "team_abbreviation=DAL<br>season=%{customdata[0]}<br>Total Personal Fouls=%{x}<br>Average Defensive Efficiency=%{y}<extra></extra>",
           "legendgroup": "DAL",
           "marker": {
            "color": "#19d3f3",
            "symbol": "circle"
           },
           "mode": "markers",
           "name": "DAL",
           "orientation": "v",
           "showlegend": true,
           "type": "scatter",
           "x": [
            861
           ],
           "xaxis": "x",
           "y": [
            95.23441357541724
           ],
           "yaxis": "y"
          },
          {
           "customdata": [
            [
             "2016-2017"
            ]
           ],
           "hovertemplate": "team_abbreviation=DEN<br>season=%{customdata[0]}<br>Total Personal Fouls=%{x}<br>Average Defensive Efficiency=%{y}<extra></extra>",
           "legendgroup": "DEN",
           "marker": {
            "color": "#FF6692",
            "symbol": "circle"
           },
           "mode": "markers",
           "name": "DEN",
           "orientation": "v",
           "showlegend": true,
           "type": "scatter",
           "x": [
            770
           ],
           "xaxis": "x",
           "y": [
            97.0013897060125
           ],
           "yaxis": "y"
          },
          {
           "customdata": [
            [
             "2016-2017"
            ]
           ],
           "hovertemplate": "team_abbreviation=DET<br>season=%{customdata[0]}<br>Total Personal Fouls=%{x}<br>Average Defensive Efficiency=%{y}<extra></extra>",
           "legendgroup": "DET",
           "marker": {
            "color": "#B6E880",
            "symbol": "circle"
           },
           "mode": "markers",
           "name": "DET",
           "orientation": "v",
           "showlegend": true,
           "type": "scatter",
           "x": [
            780
           ],
           "xaxis": "x",
           "y": [
            94.7429102062329
           ],
           "yaxis": "y"
          },
          {
           "customdata": [
            [
             "2016-2017"
            ]
           ],
           "hovertemplate": "team_abbreviation=GSW<br>season=%{customdata[0]}<br>Total Personal Fouls=%{x}<br>Average Defensive Efficiency=%{y}<extra></extra>",
           "legendgroup": "GSW",
           "marker": {
            "color": "#FF97FF",
            "symbol": "circle"
           },
           "mode": "markers",
           "name": "GSW",
           "orientation": "v",
           "showlegend": true,
           "type": "scatter",
           "x": [
            1056
           ],
           "xaxis": "x",
           "y": [
            93.13583383946217
           ],
           "yaxis": "y"
          },
          {
           "customdata": [
            [
             "2016-2017"
            ]
           ],
           "hovertemplate": "team_abbreviation=HOU<br>season=%{customdata[0]}<br>Total Personal Fouls=%{x}<br>Average Defensive Efficiency=%{y}<extra></extra>",
           "legendgroup": "HOU",
           "marker": {
            "color": "#FECB52",
            "symbol": "circle"
           },
           "mode": "markers",
           "name": "HOU",
           "orientation": "v",
           "showlegend": true,
           "type": "scatter",
           "x": [
            1003
           ],
           "xaxis": "x",
           "y": [
            96.27934149460803
           ],
           "yaxis": "y"
          },
          {
           "customdata": [
            [
             "2016-2017"
            ]
           ],
           "hovertemplate": "team_abbreviation=IND<br>season=%{customdata[0]}<br>Total Personal Fouls=%{x}<br>Average Defensive Efficiency=%{y}<extra></extra>",
           "legendgroup": "IND",
           "marker": {
            "color": "#636efa",
            "symbol": "circle"
           },
           "mode": "markers",
           "name": "IND",
           "orientation": "v",
           "showlegend": true,
           "type": "scatter",
           "x": [
            819
           ],
           "xaxis": "x",
           "y": [
            95.18699632535608
           ],
           "yaxis": "y"
          },
          {
           "customdata": [
            [
             "2016-2017"
            ]
           ],
           "hovertemplate": "team_abbreviation=LAC<br>season=%{customdata[0]}<br>Total Personal Fouls=%{x}<br>Average Defensive Efficiency=%{y}<extra></extra>",
           "legendgroup": "LAC",
           "marker": {
            "color": "#EF553B",
            "symbol": "circle"
           },
           "mode": "markers",
           "name": "LAC",
           "orientation": "v",
           "showlegend": true,
           "type": "scatter",
           "x": [
            905
           ],
           "xaxis": "x",
           "y": [
            96.02526864052417
           ],
           "yaxis": "y"
          },
          {
           "customdata": [
            [
             "2016-2017"
            ]
           ],
           "hovertemplate": "team_abbreviation=LAL<br>season=%{customdata[0]}<br>Total Personal Fouls=%{x}<br>Average Defensive Efficiency=%{y}<extra></extra>",
           "legendgroup": "LAL",
           "marker": {
            "color": "#00cc96",
            "symbol": "circle"
           },
           "mode": "markers",
           "name": "LAL",
           "orientation": "v",
           "showlegend": true,
           "type": "scatter",
           "x": [
            944
           ],
           "xaxis": "x",
           "y": [
            93.06578339802303
           ],
           "yaxis": "y"
          },
          {
           "customdata": [
            [
             "2016-2017"
            ]
           ],
           "hovertemplate": "team_abbreviation=MEM<br>season=%{customdata[0]}<br>Total Personal Fouls=%{x}<br>Average Defensive Efficiency=%{y}<extra></extra>",
           "legendgroup": "MEM",
           "marker": {
            "color": "#ab63fa",
            "symbol": "circle"
           },
           "mode": "markers",
           "name": "MEM",
           "orientation": "v",
           "showlegend": true,
           "type": "scatter",
           "x": [
            1010
           ],
           "xaxis": "x",
           "y": [
            94.99726174087176
           ],
           "yaxis": "y"
          },
          {
           "customdata": [
            [
             "2016-2017"
            ]
           ],
           "hovertemplate": "team_abbreviation=MIA<br>season=%{customdata[0]}<br>Total Personal Fouls=%{x}<br>Average Defensive Efficiency=%{y}<extra></extra>",
           "legendgroup": "MIA",
           "marker": {
            "color": "#FFA15A",
            "symbol": "circle"
           },
           "mode": "markers",
           "name": "MIA",
           "orientation": "v",
           "showlegend": true,
           "type": "scatter",
           "x": [
            933
           ],
           "xaxis": "x",
           "y": [
            95.48847516809478
           ],
           "yaxis": "y"
          },
          {
           "customdata": [
            [
             "2016-2017"
            ]
           ],
           "hovertemplate": "team_abbreviation=MIL<br>season=%{customdata[0]}<br>Total Personal Fouls=%{x}<br>Average Defensive Efficiency=%{y}<extra></extra>",
           "legendgroup": "MIL",
           "marker": {
            "color": "#19d3f3",
            "symbol": "circle"
           },
           "mode": "markers",
           "name": "MIL",
           "orientation": "v",
           "showlegend": true,
           "type": "scatter",
           "x": [
            966
           ],
           "xaxis": "x",
           "y": [
            96.10369166522801
           ],
           "yaxis": "y"
          },
          {
           "customdata": [
            [
             "2016-2017"
            ]
           ],
           "hovertemplate": "team_abbreviation=MIN<br>season=%{customdata[0]}<br>Total Personal Fouls=%{x}<br>Average Defensive Efficiency=%{y}<extra></extra>",
           "legendgroup": "MIN",
           "marker": {
            "color": "#FF6692",
            "symbol": "circle"
           },
           "mode": "markers",
           "name": "MIN",
           "orientation": "v",
           "showlegend": true,
           "type": "scatter",
           "x": [
            803
           ],
           "xaxis": "x",
           "y": [
            98.74645134974594
           ],
           "yaxis": "y"
          },
          {
           "customdata": [
            [
             "2016-2017"
            ]
           ],
           "hovertemplate": "team_abbreviation=NYK<br>season=%{customdata[0]}<br>Total Personal Fouls=%{x}<br>Average Defensive Efficiency=%{y}<extra></extra>",
           "legendgroup": "NYK",
           "marker": {
            "color": "#B6E880",
            "symbol": "circle"
           },
           "mode": "markers",
           "name": "NYK",
           "orientation": "v",
           "showlegend": true,
           "type": "scatter",
           "x": [
            922
           ],
           "xaxis": "x",
           "y": [
            96.33865270098198
           ],
           "yaxis": "y"
          },
          {
           "customdata": [
            [
             "2016-2017"
            ]
           ],
           "hovertemplate": "team_abbreviation=OKC<br>season=%{customdata[0]}<br>Total Personal Fouls=%{x}<br>Average Defensive Efficiency=%{y}<extra></extra>",
           "legendgroup": "OKC",
           "marker": {
            "color": "#FF97FF",
            "symbol": "circle"
           },
           "mode": "markers",
           "name": "OKC",
           "orientation": "v",
           "showlegend": true,
           "type": "scatter",
           "x": [
            931
           ],
           "xaxis": "x",
           "y": [
            94.84395793424675
           ],
           "yaxis": "y"
          },
          {
           "customdata": [
            [
             "2016-2017"
            ]
           ],
           "hovertemplate": "team_abbreviation=ORL<br>season=%{customdata[0]}<br>Total Personal Fouls=%{x}<br>Average Defensive Efficiency=%{y}<extra></extra>",
           "legendgroup": "ORL",
           "marker": {
            "color": "#FECB52",
            "symbol": "circle"
           },
           "mode": "markers",
           "name": "ORL",
           "orientation": "v",
           "showlegend": true,
           "type": "scatter",
           "x": [
            833
           ],
           "xaxis": "x",
           "y": [
            95.01668756875992
           ],
           "yaxis": "y"
          },
          {
           "customdata": [
            [
             "2016-2017"
            ]
           ],
           "hovertemplate": "team_abbreviation=PHI<br>season=%{customdata[0]}<br>Total Personal Fouls=%{x}<br>Average Defensive Efficiency=%{y}<extra></extra>",
           "legendgroup": "PHI",
           "marker": {
            "color": "#636efa",
            "symbol": "circle"
           },
           "mode": "markers",
           "name": "PHI",
           "orientation": "v",
           "showlegend": true,
           "type": "scatter",
           "x": [
            1054
           ],
           "xaxis": "x",
           "y": [
            90.69341124497375
           ],
           "yaxis": "y"
          },
          {
           "customdata": [
            [
             "2016-2017"
            ]
           ],
           "hovertemplate": "team_abbreviation=PHX<br>season=%{customdata[0]}<br>Total Personal Fouls=%{x}<br>Average Defensive Efficiency=%{y}<extra></extra>",
           "legendgroup": "PHX",
           "marker": {
            "color": "#EF553B",
            "symbol": "circle"
           },
           "mode": "markers",
           "name": "PHX",
           "orientation": "v",
           "showlegend": true,
           "type": "scatter",
           "x": [
            963
           ],
           "xaxis": "x",
           "y": [
            99.29737627702777
           ],
           "yaxis": "y"
          },
          {
           "customdata": [
            [
             "2016-2017"
            ]
           ],
           "hovertemplate": "team_abbreviation=POR<br>season=%{customdata[0]}<br>Total Personal Fouls=%{x}<br>Average Defensive Efficiency=%{y}<extra></extra>",
           "legendgroup": "POR",
           "marker": {
            "color": "#00cc96",
            "symbol": "circle"
           },
           "mode": "markers",
           "name": "POR",
           "orientation": "v",
           "showlegend": true,
           "type": "scatter",
           "x": [
            858
           ],
           "xaxis": "x",
           "y": [
            95.76860887981906
           ],
           "yaxis": "y"
          },
          {
           "customdata": [
            [
             "2016-2017"
            ]
           ],
           "hovertemplate": "team_abbreviation=SAC<br>season=%{customdata[0]}<br>Total Personal Fouls=%{x}<br>Average Defensive Efficiency=%{y}<extra></extra>",
           "legendgroup": "SAC",
           "marker": {
            "color": "#ab63fa",
            "symbol": "circle"
           },
           "mode": "markers",
           "name": "SAC",
           "orientation": "v",
           "showlegend": true,
           "type": "scatter",
           "x": [
            857
           ],
           "xaxis": "x",
           "y": [
            99.50048541951419
           ],
           "yaxis": "y"
          },
          {
           "customdata": [
            [
             "2016-2017"
            ]
           ],
           "hovertemplate": "team_abbreviation=SAS<br>season=%{customdata[0]}<br>Total Personal Fouls=%{x}<br>Average Defensive Efficiency=%{y}<extra></extra>",
           "legendgroup": "SAS",
           "marker": {
            "color": "#FFA15A",
            "symbol": "circle"
           },
           "mode": "markers",
           "name": "SAS",
           "orientation": "v",
           "showlegend": true,
           "type": "scatter",
           "x": [
            788
           ],
           "xaxis": "x",
           "y": [
            92.79966549409265
           ],
           "yaxis": "y"
          },
          {
           "customdata": [
            [
             "2016-2017"
            ]
           ],
           "hovertemplate": "team_abbreviation=TOR<br>season=%{customdata[0]}<br>Total Personal Fouls=%{x}<br>Average Defensive Efficiency=%{y}<extra></extra>",
           "legendgroup": "TOR",
           "marker": {
            "color": "#19d3f3",
            "symbol": "circle"
           },
           "mode": "markers",
           "name": "TOR",
           "orientation": "v",
           "showlegend": true,
           "type": "scatter",
           "x": [
            1018
           ],
           "xaxis": "x",
           "y": [
            93.36628149181475
           ],
           "yaxis": "y"
          },
          {
           "customdata": [
            [
             "2016-2017"
            ]
           ],
           "hovertemplate": "team_abbreviation=UTA<br>season=%{customdata[0]}<br>Total Personal Fouls=%{x}<br>Average Defensive Efficiency=%{y}<extra></extra>",
           "legendgroup": "UTA",
           "marker": {
            "color": "#FF6692",
            "symbol": "circle"
           },
           "mode": "markers",
           "name": "UTA",
           "orientation": "v",
           "showlegend": true,
           "type": "scatter",
           "x": [
            938
           ],
           "xaxis": "x",
           "y": [
            91.49759015963365
           ],
           "yaxis": "y"
          },
          {
           "customdata": [
            [
             "2016-2017"
            ]
           ],
           "hovertemplate": "team_abbreviation=WAS<br>season=%{customdata[0]}<br>Total Personal Fouls=%{x}<br>Average Defensive Efficiency=%{y}<extra></extra>",
           "legendgroup": "WAS",
           "marker": {
            "color": "#B6E880",
            "symbol": "circle"
           },
           "mode": "markers",
           "name": "WAS",
           "orientation": "v",
           "showlegend": true,
           "type": "scatter",
           "x": [
            990
           ],
           "xaxis": "x",
           "y": [
            95.27434510996758
           ],
           "yaxis": "y"
          },
          {
           "customdata": [
            [
             "2016-2017"
            ]
           ],
           "hovertemplate": "team_abbreviation=BKN<br>season=%{customdata[0]}<br>Total Personal Fouls=%{x}<br>Average Defensive Efficiency=%{y}<extra></extra>",
           "legendgroup": "BKN",
           "marker": {
            "color": "#FF97FF",
            "symbol": "circle"
           },
           "mode": "markers",
           "name": "BKN",
           "orientation": "v",
           "showlegend": true,
           "type": "scatter",
           "x": [
            925
           ],
           "xaxis": "x",
           "y": [
            96.40839422039684
           ],
           "yaxis": "y"
          },
          {
           "customdata": [
            [
             "2016-2017"
            ]
           ],
           "hovertemplate": "team_abbreviation=NOP<br>season=%{customdata[0]}<br>Total Personal Fouls=%{x}<br>Average Defensive Efficiency=%{y}<extra></extra>",
           "legendgroup": "NOP",
           "marker": {
            "color": "#FECB52",
            "symbol": "circle"
           },
           "mode": "markers",
           "name": "NOP",
           "orientation": "v",
           "showlegend": true,
           "type": "scatter",
           "x": [
            880
           ],
           "xaxis": "x",
           "y": [
            97.7173617252266
           ],
           "yaxis": "y"
          }
         ],
         "name": "2016-2017"
        },
        {
         "data": [
          {
           "customdata": [
            [
             "2017-2018"
            ]
           ],
           "hovertemplate": "team_abbreviation=ATL<br>season=%{customdata[0]}<br>Total Personal Fouls=%{x}<br>Average Defensive Efficiency=%{y}<extra></extra>",
           "legendgroup": "ATL",
           "marker": {
            "color": "#636efa",
            "symbol": "circle"
           },
           "mode": "markers",
           "name": "ATL",
           "orientation": "v",
           "showlegend": true,
           "type": "scatter",
           "x": [
            987
           ],
           "xaxis": "x",
           "y": [
            101.20990529706626
           ],
           "yaxis": "y"
          },
          {
           "customdata": [
            [
             "2017-2018"
            ]
           ],
           "hovertemplate": "team_abbreviation=BOS<br>season=%{customdata[0]}<br>Total Personal Fouls=%{x}<br>Average Defensive Efficiency=%{y}<extra></extra>",
           "legendgroup": "BOS",
           "marker": {
            "color": "#EF553B",
            "symbol": "circle"
           },
           "mode": "markers",
           "name": "BOS",
           "orientation": "v",
           "showlegend": true,
           "type": "scatter",
           "x": [
            900
           ],
           "xaxis": "x",
           "y": [
            94.01289387883082
           ],
           "yaxis": "y"
          },
          {
           "customdata": [
            [
             "2017-2018"
            ]
           ],
           "hovertemplate": "team_abbreviation=CHA<br>season=%{customdata[0]}<br>Total Personal Fouls=%{x}<br>Average Defensive Efficiency=%{y}<extra></extra>",
           "legendgroup": "CHA",
           "marker": {
            "color": "#00cc96",
            "symbol": "circle"
           },
           "mode": "markers",
           "name": "CHA",
           "orientation": "v",
           "showlegend": true,
           "type": "scatter",
           "x": [
            798
           ],
           "xaxis": "x",
           "y": [
            98.18039438322458
           ],
           "yaxis": "y"
          },
          {
           "customdata": [
            [
             "2017-2018"
            ]
           ],
           "hovertemplate": "team_abbreviation=CHI<br>season=%{customdata[0]}<br>Total Personal Fouls=%{x}<br>Average Defensive Efficiency=%{y}<extra></extra>",
           "legendgroup": "CHI",
           "marker": {
            "color": "#ab63fa",
            "symbol": "circle"
           },
           "mode": "markers",
           "name": "CHI",
           "orientation": "v",
           "showlegend": true,
           "type": "scatter",
           "x": [
            809
           ],
           "xaxis": "x",
           "y": [
            102.61598284475085
           ],
           "yaxis": "y"
          },
          {
           "customdata": [
            [
             "2017-2018"
            ]
           ],
           "hovertemplate": "team_abbreviation=CLE<br>season=%{customdata[0]}<br>Total Personal Fouls=%{x}<br>Average Defensive Efficiency=%{y}<extra></extra>",
           "legendgroup": "CLE",
           "marker": {
            "color": "#FFA15A",
            "symbol": "circle"
           },
           "mode": "markers",
           "name": "CLE",
           "orientation": "v",
           "showlegend": true,
           "type": "scatter",
           "x": [
            841
           ],
           "xaxis": "x",
           "y": [
            104.47307472447862
           ],
           "yaxis": "y"
          },
          {
           "customdata": [
            [
             "2017-2018"
            ]
           ],
           "hovertemplate": "team_abbreviation=DAL<br>season=%{customdata[0]}<br>Total Personal Fouls=%{x}<br>Average Defensive Efficiency=%{y}<extra></extra>",
           "legendgroup": "DAL",
           "marker": {
            "color": "#19d3f3",
            "symbol": "circle"
           },
           "mode": "markers",
           "name": "DAL",
           "orientation": "v",
           "showlegend": true,
           "type": "scatter",
           "x": [
            815
           ],
           "xaxis": "x",
           "y": [
            97.14648031171254
           ],
           "yaxis": "y"
          },
          {
           "customdata": [
            [
             "2017-2018"
            ]
           ],
           "hovertemplate": "team_abbreviation=DEN<br>season=%{customdata[0]}<br>Total Personal Fouls=%{x}<br>Average Defensive Efficiency=%{y}<extra></extra>",
           "legendgroup": "DEN",
           "marker": {
            "color": "#FF6692",
            "symbol": "circle"
           },
           "mode": "markers",
           "name": "DEN",
           "orientation": "v",
           "showlegend": true,
           "type": "scatter",
           "x": [
            993
           ],
           "xaxis": "x",
           "y": [
            94.84753946314534
           ],
           "yaxis": "y"
          },
          {
           "customdata": [
            [
             "2017-2018"
            ]
           ],
           "hovertemplate": "team_abbreviation=DET<br>season=%{customdata[0]}<br>Total Personal Fouls=%{x}<br>Average Defensive Efficiency=%{y}<extra></extra>",
           "legendgroup": "DET",
           "marker": {
            "color": "#B6E880",
            "symbol": "circle"
           },
           "mode": "markers",
           "name": "DET",
           "orientation": "v",
           "showlegend": true,
           "type": "scatter",
           "x": [
            934
           ],
           "xaxis": "x",
           "y": [
            96.99312009791504
           ],
           "yaxis": "y"
          },
          {
           "customdata": [
            [
             "2017-2018"
            ]
           ],
           "hovertemplate": "team_abbreviation=GSW<br>season=%{customdata[0]}<br>Total Personal Fouls=%{x}<br>Average Defensive Efficiency=%{y}<extra></extra>",
           "legendgroup": "GSW",
           "marker": {
            "color": "#FF97FF",
            "symbol": "circle"
           },
           "mode": "markers",
           "name": "GSW",
           "orientation": "v",
           "showlegend": true,
           "type": "scatter",
           "x": [
            1140
           ],
           "xaxis": "x",
           "y": [
            98.0335520731264
           ],
           "yaxis": "y"
          },
          {
           "customdata": [
            [
             "2017-2018"
            ]
           ],
           "hovertemplate": "team_abbreviation=HOU<br>season=%{customdata[0]}<br>Total Personal Fouls=%{x}<br>Average Defensive Efficiency=%{y}<extra></extra>",
           "legendgroup": "HOU",
           "marker": {
            "color": "#FECB52",
            "symbol": "circle"
           },
           "mode": "markers",
           "name": "HOU",
           "orientation": "v",
           "showlegend": true,
           "type": "scatter",
           "x": [
            1009
           ],
           "xaxis": "x",
           "y": [
            96.75916580980983
           ],
           "yaxis": "y"
          },
          {
           "customdata": [
            [
             "2017-2018"
            ]
           ],
           "hovertemplate": "team_abbreviation=IND<br>season=%{customdata[0]}<br>Total Personal Fouls=%{x}<br>Average Defensive Efficiency=%{y}<extra></extra>",
           "legendgroup": "IND",
           "marker": {
            "color": "#636efa",
            "symbol": "circle"
           },
           "mode": "markers",
           "name": "IND",
           "orientation": "v",
           "showlegend": true,
           "type": "scatter",
           "x": [
            816
           ],
           "xaxis": "x",
           "y": [
            91.48066929235411
           ],
           "yaxis": "y"
          },
          {
           "customdata": [
            [
             "2017-2018"
            ]
           ],
           "hovertemplate": "team_abbreviation=LAC<br>season=%{customdata[0]}<br>Total Personal Fouls=%{x}<br>Average Defensive Efficiency=%{y}<extra></extra>",
           "legendgroup": "LAC",
           "marker": {
            "color": "#EF553B",
            "symbol": "circle"
           },
           "mode": "markers",
           "name": "LAC",
           "orientation": "v",
           "showlegend": true,
           "type": "scatter",
           "x": [
            1052
           ],
           "xaxis": "x",
           "y": [
            98.70355363781951
           ],
           "yaxis": "y"
          },
          {
           "customdata": [
            [
             "2017-2018"
            ]
           ],
           "hovertemplate": "team_abbreviation=LAL<br>season=%{customdata[0]}<br>Total Personal Fouls=%{x}<br>Average Defensive Efficiency=%{y}<extra></extra>",
           "legendgroup": "LAL",
           "marker": {
            "color": "#00cc96",
            "symbol": "circle"
           },
           "mode": "markers",
           "name": "LAL",
           "orientation": "v",
           "showlegend": true,
           "type": "scatter",
           "x": [
            830
           ],
           "xaxis": "x",
           "y": [
            95.54776265503925
           ],
           "yaxis": "y"
          },
          {
           "customdata": [
            [
             "2017-2018"
            ]
           ],
           "hovertemplate": "team_abbreviation=MEM<br>season=%{customdata[0]}<br>Total Personal Fouls=%{x}<br>Average Defensive Efficiency=%{y}<extra></extra>",
           "legendgroup": "MEM",
           "marker": {
            "color": "#ab63fa",
            "symbol": "circle"
           },
           "mode": "markers",
           "name": "MEM",
           "orientation": "v",
           "showlegend": true,
           "type": "scatter",
           "x": [
            881
           ],
           "xaxis": "x",
           "y": [
            95.17428741721119
           ],
           "yaxis": "y"
          },
          {
           "customdata": [
            [
             "2017-2018"
            ]
           ],
           "hovertemplate": "team_abbreviation=MIA<br>season=%{customdata[0]}<br>Total Personal Fouls=%{x}<br>Average Defensive Efficiency=%{y}<extra></extra>",
           "legendgroup": "MIA",
           "marker": {
            "color": "#FFA15A",
            "symbol": "circle"
           },
           "mode": "markers",
           "name": "MIA",
           "orientation": "v",
           "showlegend": true,
           "type": "scatter",
           "x": [
            867
           ],
           "xaxis": "x",
           "y": [
            95.80262511331733
           ],
           "yaxis": "y"
          },
          {
           "customdata": [
            [
             "2017-2018"
            ]
           ],
           "hovertemplate": "team_abbreviation=MIL<br>season=%{customdata[0]}<br>Total Personal Fouls=%{x}<br>Average Defensive Efficiency=%{y}<extra></extra>",
           "legendgroup": "MIL",
           "marker": {
            "color": "#19d3f3",
            "symbol": "circle"
           },
           "mode": "markers",
           "name": "MIL",
           "orientation": "v",
           "showlegend": true,
           "type": "scatter",
           "x": [
            944
           ],
           "xaxis": "x",
           "y": [
            92.96218446852659
           ],
           "yaxis": "y"
          },
          {
           "customdata": [
            [
             "2017-2018"
            ]
           ],
           "hovertemplate": "team_abbreviation=MIN<br>season=%{customdata[0]}<br>Total Personal Fouls=%{x}<br>Average Defensive Efficiency=%{y}<extra></extra>",
           "legendgroup": "MIN",
           "marker": {
            "color": "#FF6692",
            "symbol": "circle"
           },
           "mode": "markers",
           "name": "MIN",
           "orientation": "v",
           "showlegend": true,
           "type": "scatter",
           "x": [
            822
           ],
           "xaxis": "x",
           "y": [
            97.09707890486487
           ],
           "yaxis": "y"
          },
          {
           "customdata": [
            [
             "2017-2018"
            ]
           ],
           "hovertemplate": "team_abbreviation=NYK<br>season=%{customdata[0]}<br>Total Personal Fouls=%{x}<br>Average Defensive Efficiency=%{y}<extra></extra>",
           "legendgroup": "NYK",
           "marker": {
            "color": "#B6E880",
            "symbol": "circle"
           },
           "mode": "markers",
           "name": "NYK",
           "orientation": "v",
           "showlegend": true,
           "type": "scatter",
           "x": [
            855
           ],
           "xaxis": "x",
           "y": [
            101.00999776920047
           ],
           "yaxis": "y"
          },
          {
           "customdata": [
            [
             "2017-2018"
            ]
           ],
           "hovertemplate": "team_abbreviation=OKC<br>season=%{customdata[0]}<br>Total Personal Fouls=%{x}<br>Average Defensive Efficiency=%{y}<extra></extra>",
           "legendgroup": "OKC",
           "marker": {
            "color": "#FF97FF",
            "symbol": "circle"
           },
           "mode": "markers",
           "name": "OKC",
           "orientation": "v",
           "showlegend": true,
           "type": "scatter",
           "x": [
            941
           ],
           "xaxis": "x",
           "y": [
            94.77509879148919
           ],
           "yaxis": "y"
          },
          {
           "customdata": [
            [
             "2017-2018"
            ]
           ],
           "hovertemplate": "team_abbreviation=ORL<br>season=%{customdata[0]}<br>Total Personal Fouls=%{x}<br>Average Defensive Efficiency=%{y}<extra></extra>",
           "legendgroup": "ORL",
           "marker": {
            "color": "#FECB52",
            "symbol": "circle"
           },
           "mode": "markers",
           "name": "ORL",
           "orientation": "v",
           "showlegend": true,
           "type": "scatter",
           "x": [
            789
           ],
           "xaxis": "x",
           "y": [
            96.74648988751372
           ],
           "yaxis": "y"
          },
          {
           "customdata": [
            [
             "2017-2018"
            ]
           ],
           "hovertemplate": "team_abbreviation=PHI<br>season=%{customdata[0]}<br>Total Personal Fouls=%{x}<br>Average Defensive Efficiency=%{y}<extra></extra>",
           "legendgroup": "PHI",
           "marker": {
            "color": "#636efa",
            "symbol": "circle"
           },
           "mode": "markers",
           "name": "PHI",
           "orientation": "v",
           "showlegend": true,
           "type": "scatter",
           "x": [
            1008
           ],
           "xaxis": "x",
           "y": [
            96.63714196422075
           ],
           "yaxis": "y"
          },
          {
           "customdata": [
            [
             "2017-2018"
            ]
           ],
           "hovertemplate": "team_abbreviation=PHX<br>season=%{customdata[0]}<br>Total Personal Fouls=%{x}<br>Average Defensive Efficiency=%{y}<extra></extra>",
           "legendgroup": "PHX",
           "marker": {
            "color": "#EF553B",
            "symbol": "circle"
           },
           "mode": "markers",
           "name": "PHX",
           "orientation": "v",
           "showlegend": true,
           "type": "scatter",
           "x": [
            952
           ],
           "xaxis": "x",
           "y": [
            99.34927712077165
           ],
           "yaxis": "y"
          },
          {
           "customdata": [
            [
             "2017-2018"
            ]
           ],
           "hovertemplate": "team_abbreviation=POR<br>season=%{customdata[0]}<br>Total Personal Fouls=%{x}<br>Average Defensive Efficiency=%{y}<extra></extra>",
           "legendgroup": "POR",
           "marker": {
            "color": "#00cc96",
            "symbol": "circle"
           },
           "mode": "markers",
           "name": "POR",
           "orientation": "v",
           "showlegend": true,
           "type": "scatter",
           "x": [
            982
           ],
           "xaxis": "x",
           "y": [
            97.32638672479999
           ],
           "yaxis": "y"
          },
          {
           "customdata": [
            [
             "2017-2018"
            ]
           ],
           "hovertemplate": "team_abbreviation=SAC<br>season=%{customdata[0]}<br>Total Personal Fouls=%{x}<br>Average Defensive Efficiency=%{y}<extra></extra>",
           "legendgroup": "SAC",
           "marker": {
            "color": "#ab63fa",
            "symbol": "circle"
           },
           "mode": "markers",
           "name": "SAC",
           "orientation": "v",
           "showlegend": true,
           "type": "scatter",
           "x": [
            839
           ],
           "xaxis": "x",
           "y": [
            96.67781431610109
           ],
           "yaxis": "y"
          },
          {
           "customdata": [
            [
             "2017-2018"
            ]
           ],
           "hovertemplate": "team_abbreviation=SAS<br>season=%{customdata[0]}<br>Total Personal Fouls=%{x}<br>Average Defensive Efficiency=%{y}<extra></extra>",
           "legendgroup": "SAS",
           "marker": {
            "color": "#FFA15A",
            "symbol": "circle"
           },
           "mode": "markers",
           "name": "SAS",
           "orientation": "v",
           "showlegend": true,
           "type": "scatter",
           "x": [
            777
           ],
           "xaxis": "x",
           "y": [
            96.82587648290787
           ],
           "yaxis": "y"
          },
          {
           "customdata": [
            [
             "2017-2018"
            ]
           ],
           "hovertemplate": "team_abbreviation=TOR<br>season=%{customdata[0]}<br>Total Personal Fouls=%{x}<br>Average Defensive Efficiency=%{y}<extra></extra>",
           "legendgroup": "TOR",
           "marker": {
            "color": "#19d3f3",
            "symbol": "circle"
           },
           "mode": "markers",
           "name": "TOR",
           "orientation": "v",
           "showlegend": true,
           "type": "scatter",
           "x": [
            1147
           ],
           "xaxis": "x",
           "y": [
            92.95759139530436
           ],
           "yaxis": "y"
          },
          {
           "customdata": [
            [
             "2017-2018"
            ]
           ],
           "hovertemplate": "team_abbreviation=UTA<br>season=%{customdata[0]}<br>Total Personal Fouls=%{x}<br>Average Defensive Efficiency=%{y}<extra></extra>",
           "legendgroup": "UTA",
           "marker": {
            "color": "#FF6692",
            "symbol": "circle"
           },
           "mode": "markers",
           "name": "UTA",
           "orientation": "v",
           "showlegend": true,
           "type": "scatter",
           "x": [
            899
           ],
           "xaxis": "x",
           "y": [
            93.81043891512509
           ],
           "yaxis": "y"
          },
          {
           "customdata": [
            [
             "2017-2018"
            ]
           ],
           "hovertemplate": "team_abbreviation=WAS<br>season=%{customdata[0]}<br>Total Personal Fouls=%{x}<br>Average Defensive Efficiency=%{y}<extra></extra>",
           "legendgroup": "WAS",
           "marker": {
            "color": "#B6E880",
            "symbol": "circle"
           },
           "mode": "markers",
           "name": "WAS",
           "orientation": "v",
           "showlegend": true,
           "type": "scatter",
           "x": [
            842
           ],
           "xaxis": "x",
           "y": [
            98.82061649714576
           ],
           "yaxis": "y"
          },
          {
           "customdata": [
            [
             "2017-2018"
            ]
           ],
           "hovertemplate": "team_abbreviation=BKN<br>season=%{customdata[0]}<br>Total Personal Fouls=%{x}<br>Average Defensive Efficiency=%{y}<extra></extra>",
           "legendgroup": "BKN",
           "marker": {
            "color": "#FF97FF",
            "symbol": "circle"
           },
           "mode": "markers",
           "name": "BKN",
           "orientation": "v",
           "showlegend": true,
           "type": "scatter",
           "x": [
            952
           ],
           "xaxis": "x",
           "y": [
            96.65585941530234
           ],
           "yaxis": "y"
          },
          {
           "customdata": [
            [
             "2017-2018"
            ]
           ],
           "hovertemplate": "team_abbreviation=NOP<br>season=%{customdata[0]}<br>Total Personal Fouls=%{x}<br>Average Defensive Efficiency=%{y}<extra></extra>",
           "legendgroup": "NOP",
           "marker": {
            "color": "#FECB52",
            "symbol": "circle"
           },
           "mode": "markers",
           "name": "NOP",
           "orientation": "v",
           "showlegend": true,
           "type": "scatter",
           "x": [
            851
           ],
           "xaxis": "x",
           "y": [
            99.83264723130712
           ],
           "yaxis": "y"
          }
         ],
         "name": "2017-2018"
        },
        {
         "data": [
          {
           "customdata": [
            [
             "2018-2019"
            ]
           ],
           "hovertemplate": "team_abbreviation=ATL<br>season=%{customdata[0]}<br>Total Personal Fouls=%{x}<br>Average Defensive Efficiency=%{y}<extra></extra>",
           "legendgroup": "ATL",
           "marker": {
            "color": "#636efa",
            "symbol": "circle"
           },
           "mode": "markers",
           "name": "ATL",
           "orientation": "v",
           "showlegend": true,
           "type": "scatter",
           "x": [
            803
           ],
           "xaxis": "x",
           "y": [
            100.07205483584386
           ],
           "yaxis": "y"
          },
          {
           "customdata": [
            [
             "2018-2019"
            ]
           ],
           "hovertemplate": "team_abbreviation=BOS<br>season=%{customdata[0]}<br>Total Personal Fouls=%{x}<br>Average Defensive Efficiency=%{y}<extra></extra>",
           "legendgroup": "BOS",
           "marker": {
            "color": "#EF553B",
            "symbol": "circle"
           },
           "mode": "markers",
           "name": "BOS",
           "orientation": "v",
           "showlegend": true,
           "type": "scatter",
           "x": [
            928
           ],
           "xaxis": "x",
           "y": [
            95.92419177111395
           ],
           "yaxis": "y"
          },
          {
           "customdata": [
            [
             "2018-2019"
            ]
           ],
           "hovertemplate": "team_abbreviation=CHA<br>season=%{customdata[0]}<br>Total Personal Fouls=%{x}<br>Average Defensive Efficiency=%{y}<extra></extra>",
           "legendgroup": "CHA",
           "marker": {
            "color": "#00cc96",
            "symbol": "circle"
           },
           "mode": "markers",
           "name": "CHA",
           "orientation": "v",
           "showlegend": true,
           "type": "scatter",
           "x": [
            587
           ],
           "xaxis": "x",
           "y": [
            99.77448082768855
           ],
           "yaxis": "y"
          },
          {
           "customdata": [
            [
             "2018-2019"
            ]
           ],
           "hovertemplate": "team_abbreviation=CHI<br>season=%{customdata[0]}<br>Total Personal Fouls=%{x}<br>Average Defensive Efficiency=%{y}<extra></extra>",
           "legendgroup": "CHI",
           "marker": {
            "color": "#ab63fa",
            "symbol": "circle"
           },
           "mode": "markers",
           "name": "CHI",
           "orientation": "v",
           "showlegend": true,
           "type": "scatter",
           "x": [
            747
           ],
           "xaxis": "x",
           "y": [
            96.40681028056063
           ],
           "yaxis": "y"
          },
          {
           "customdata": [
            [
             "2018-2019"
            ]
           ],
           "hovertemplate": "team_abbreviation=CLE<br>season=%{customdata[0]}<br>Total Personal Fouls=%{x}<br>Average Defensive Efficiency=%{y}<extra></extra>",
           "legendgroup": "CLE",
           "marker": {
            "color": "#FFA15A",
            "symbol": "circle"
           },
           "mode": "markers",
           "name": "CLE",
           "orientation": "v",
           "showlegend": true,
           "type": "scatter",
           "x": [
            644
           ],
           "xaxis": "x",
           "y": [
            104.5291832152404
           ],
           "yaxis": "y"
          },
          {
           "customdata": [
            [
             "2018-2019"
            ]
           ],
           "hovertemplate": "team_abbreviation=DAL<br>season=%{customdata[0]}<br>Total Personal Fouls=%{x}<br>Average Defensive Efficiency=%{y}<extra></extra>",
           "legendgroup": "DAL",
           "marker": {
            "color": "#19d3f3",
            "symbol": "circle"
           },
           "mode": "markers",
           "name": "DAL",
           "orientation": "v",
           "showlegend": true,
           "type": "scatter",
           "x": [
            804
           ],
           "xaxis": "x",
           "y": [
            100.69351476640418
           ],
           "yaxis": "y"
          },
          {
           "customdata": [
            [
             "2018-2019"
            ]
           ],
           "hovertemplate": "team_abbreviation=DEN<br>season=%{customdata[0]}<br>Total Personal Fouls=%{x}<br>Average Defensive Efficiency=%{y}<extra></extra>",
           "legendgroup": "DEN",
           "marker": {
            "color": "#FF6692",
            "symbol": "circle"
           },
           "mode": "markers",
           "name": "DEN",
           "orientation": "v",
           "showlegend": true,
           "type": "scatter",
           "x": [
            944
           ],
           "xaxis": "x",
           "y": [
            98.48366528076248
           ],
           "yaxis": "y"
          },
          {
           "customdata": [
            [
             "2018-2019"
            ]
           ],
           "hovertemplate": "team_abbreviation=DET<br>season=%{customdata[0]}<br>Total Personal Fouls=%{x}<br>Average Defensive Efficiency=%{y}<extra></extra>",
           "legendgroup": "DET",
           "marker": {
            "color": "#B6E880",
            "symbol": "circle"
           },
           "mode": "markers",
           "name": "DET",
           "orientation": "v",
           "showlegend": true,
           "type": "scatter",
           "x": [
            645
           ],
           "xaxis": "x",
           "y": [
            100.99819338362694
           ],
           "yaxis": "y"
          },
          {
           "customdata": [
            [
             "2018-2019"
            ]
           ],
           "hovertemplate": "team_abbreviation=GSW<br>season=%{customdata[0]}<br>Total Personal Fouls=%{x}<br>Average Defensive Efficiency=%{y}<extra></extra>",
           "legendgroup": "GSW",
           "marker": {
            "color": "#FF97FF",
            "symbol": "circle"
           },
           "mode": "markers",
           "name": "GSW",
           "orientation": "v",
           "showlegend": true,
           "type": "scatter",
           "x": [
            701
           ],
           "xaxis": "x",
           "y": [
            102.69822018918673
           ],
           "yaxis": "y"
          },
          {
           "customdata": [
            [
             "2018-2019"
            ]
           ],
           "hovertemplate": "team_abbreviation=HOU<br>season=%{customdata[0]}<br>Total Personal Fouls=%{x}<br>Average Defensive Efficiency=%{y}<extra></extra>",
           "legendgroup": "HOU",
           "marker": {
            "color": "#FECB52",
            "symbol": "circle"
           },
           "mode": "markers",
           "name": "HOU",
           "orientation": "v",
           "showlegend": true,
           "type": "scatter",
           "x": [
            909
           ],
           "xaxis": "x",
           "y": [
            94.99865915821404
           ],
           "yaxis": "y"
          },
          {
           "customdata": [
            [
             "2018-2019"
            ]
           ],
           "hovertemplate": "team_abbreviation=IND<br>season=%{customdata[0]}<br>Total Personal Fouls=%{x}<br>Average Defensive Efficiency=%{y}<extra></extra>",
           "legendgroup": "IND",
           "marker": {
            "color": "#636efa",
            "symbol": "circle"
           },
           "mode": "markers",
           "name": "IND",
           "orientation": "v",
           "showlegend": true,
           "type": "scatter",
           "x": [
            744
           ],
           "xaxis": "x",
           "y": [
            94.34092978933388
           ],
           "yaxis": "y"
          },
          {
           "customdata": [
            [
             "2018-2019"
            ]
           ],
           "hovertemplate": "team_abbreviation=LAC<br>season=%{customdata[0]}<br>Total Personal Fouls=%{x}<br>Average Defensive Efficiency=%{y}<extra></extra>",
           "legendgroup": "LAC",
           "marker": {
            "color": "#EF553B",
            "symbol": "circle"
           },
           "mode": "markers",
           "name": "LAC",
           "orientation": "v",
           "showlegend": true,
           "type": "scatter",
           "x": [
            945
           ],
           "xaxis": "x",
           "y": [
            95.87662733784921
           ],
           "yaxis": "y"
          },
          {
           "customdata": [
            [
             "2018-2019"
            ]
           ],
           "hovertemplate": "team_abbreviation=LAL<br>season=%{customdata[0]}<br>Total Personal Fouls=%{x}<br>Average Defensive Efficiency=%{y}<extra></extra>",
           "legendgroup": "LAL",
           "marker": {
            "color": "#00cc96",
            "symbol": "circle"
           },
           "mode": "markers",
           "name": "LAL",
           "orientation": "v",
           "showlegend": true,
           "type": "scatter",
           "x": [
            994
           ],
           "xaxis": "x",
           "y": [
            95.31237506715013
           ],
           "yaxis": "y"
          },
          {
           "customdata": [
            [
             "2018-2019"
            ]
           ],
           "hovertemplate": "team_abbreviation=MEM<br>season=%{customdata[0]}<br>Total Personal Fouls=%{x}<br>Average Defensive Efficiency=%{y}<extra></extra>",
           "legendgroup": "MEM",
           "marker": {
            "color": "#ab63fa",
            "symbol": "circle"
           },
           "mode": "markers",
           "name": "MEM",
           "orientation": "v",
           "showlegend": true,
           "type": "scatter",
           "x": [
            745
           ],
           "xaxis": "x",
           "y": [
            96.55360052857608
           ],
           "yaxis": "y"
          },
          {
           "customdata": [
            [
             "2018-2019"
            ]
           ],
           "hovertemplate": "team_abbreviation=MIA<br>season=%{customdata[0]}<br>Total Personal Fouls=%{x}<br>Average Defensive Efficiency=%{y}<extra></extra>",
           "legendgroup": "MIA",
           "marker": {
            "color": "#FFA15A",
            "symbol": "circle"
           },
           "mode": "markers",
           "name": "MIA",
           "orientation": "v",
           "showlegend": true,
           "type": "scatter",
           "x": [
            895
           ],
           "xaxis": "x",
           "y": [
            97.20846405409767
           ],
           "yaxis": "y"
          },
          {
           "customdata": [
            [
             "2018-2019"
            ]
           ],
           "hovertemplate": "team_abbreviation=MIL<br>season=%{customdata[0]}<br>Total Personal Fouls=%{x}<br>Average Defensive Efficiency=%{y}<extra></extra>",
           "legendgroup": "MIL",
           "marker": {
            "color": "#19d3f3",
            "symbol": "circle"
           },
           "mode": "markers",
           "name": "MIL",
           "orientation": "v",
           "showlegend": true,
           "type": "scatter",
           "x": [
            821
           ],
           "xaxis": "x",
           "y": [
            93.1055813333073
           ],
           "yaxis": "y"
          },
          {
           "customdata": [
            [
             "2018-2019"
            ]
           ],
           "hovertemplate": "team_abbreviation=MIN<br>season=%{customdata[0]}<br>Total Personal Fouls=%{x}<br>Average Defensive Efficiency=%{y}<extra></extra>",
           "legendgroup": "MIN",
           "marker": {
            "color": "#FF6692",
            "symbol": "circle"
           },
           "mode": "markers",
           "name": "MIN",
           "orientation": "v",
           "showlegend": true,
           "type": "scatter",
           "x": [
            679
           ],
           "xaxis": "x",
           "y": [
            99.53975491943051
           ],
           "yaxis": "y"
          },
          {
           "customdata": [
            [
             "2018-2019"
            ]
           ],
           "hovertemplate": "team_abbreviation=NYK<br>season=%{customdata[0]}<br>Total Personal Fouls=%{x}<br>Average Defensive Efficiency=%{y}<extra></extra>",
           "legendgroup": "NYK",
           "marker": {
            "color": "#B6E880",
            "symbol": "circle"
           },
           "mode": "markers",
           "name": "NYK",
           "orientation": "v",
           "showlegend": true,
           "type": "scatter",
           "x": [
            727
           ],
           "xaxis": "x",
           "y": [
            100.43590131514122
           ],
           "yaxis": "y"
          },
          {
           "customdata": [
            [
             "2018-2019"
            ]
           ],
           "hovertemplate": "team_abbreviation=OKC<br>season=%{customdata[0]}<br>Total Personal Fouls=%{x}<br>Average Defensive Efficiency=%{y}<extra></extra>",
           "legendgroup": "OKC",
           "marker": {
            "color": "#FF97FF",
            "symbol": "circle"
           },
           "mode": "markers",
           "name": "OKC",
           "orientation": "v",
           "showlegend": true,
           "type": "scatter",
           "x": [
            774
           ],
           "xaxis": "x",
           "y": [
            97.15151225615116
           ],
           "yaxis": "y"
          },
          {
           "customdata": [
            [
             "2018-2019"
            ]
           ],
           "hovertemplate": "team_abbreviation=ORL<br>season=%{customdata[0]}<br>Total Personal Fouls=%{x}<br>Average Defensive Efficiency=%{y}<extra></extra>",
           "legendgroup": "ORL",
           "marker": {
            "color": "#FECB52",
            "symbol": "circle"
           },
           "mode": "markers",
           "name": "ORL",
           "orientation": "v",
           "showlegend": true,
           "type": "scatter",
           "x": [
            679
           ],
           "xaxis": "x",
           "y": [
            97.71573175970134
           ],
           "yaxis": "y"
          },
          {
           "customdata": [
            [
             "2018-2019"
            ]
           ],
           "hovertemplate": "team_abbreviation=PHI<br>season=%{customdata[0]}<br>Total Personal Fouls=%{x}<br>Average Defensive Efficiency=%{y}<extra></extra>",
           "legendgroup": "PHI",
           "marker": {
            "color": "#636efa",
            "symbol": "circle"
           },
           "mode": "markers",
           "name": "PHI",
           "orientation": "v",
           "showlegend": true,
           "type": "scatter",
           "x": [
            734
           ],
           "xaxis": "x",
           "y": [
            94.42431474077347
           ],
           "yaxis": "y"
          },
          {
           "customdata": [
            [
             "2018-2019"
            ]
           ],
           "hovertemplate": "team_abbreviation=PHX<br>season=%{customdata[0]}<br>Total Personal Fouls=%{x}<br>Average Defensive Efficiency=%{y}<extra></extra>",
           "legendgroup": "PHX",
           "marker": {
            "color": "#EF553B",
            "symbol": "circle"
           },
           "mode": "markers",
           "name": "PHX",
           "orientation": "v",
           "showlegend": true,
           "type": "scatter",
           "x": [
            845
           ],
           "xaxis": "x",
           "y": [
            99.78403833692536
           ],
           "yaxis": "y"
          },
          {
           "customdata": [
            [
             "2018-2019"
            ]
           ],
           "hovertemplate": "team_abbreviation=POR<br>season=%{customdata[0]}<br>Total Personal Fouls=%{x}<br>Average Defensive Efficiency=%{y}<extra></extra>",
           "legendgroup": "POR",
           "marker": {
            "color": "#00cc96",
            "symbol": "circle"
           },
           "mode": "markers",
           "name": "POR",
           "orientation": "v",
           "showlegend": true,
           "type": "scatter",
           "x": [
            820
           ],
           "xaxis": "x",
           "y": [
            100.40692656849139
           ],
           "yaxis": "y"
          },
          {
           "customdata": [
            [
             "2018-2019"
            ]
           ],
           "hovertemplate": "team_abbreviation=SAC<br>season=%{customdata[0]}<br>Total Personal Fouls=%{x}<br>Average Defensive Efficiency=%{y}<extra></extra>",
           "legendgroup": "SAC",
           "marker": {
            "color": "#ab63fa",
            "symbol": "circle"
           },
           "mode": "markers",
           "name": "SAC",
           "orientation": "v",
           "showlegend": true,
           "type": "scatter",
           "x": [
            791
           ],
           "xaxis": "x",
           "y": [
            100.08641722347889
           ],
           "yaxis": "y"
          },
          {
           "customdata": [
            [
             "2018-2019"
            ]
           ],
           "hovertemplate": "team_abbreviation=SAS<br>season=%{customdata[0]}<br>Total Personal Fouls=%{x}<br>Average Defensive Efficiency=%{y}<extra></extra>",
           "legendgroup": "SAS",
           "marker": {
            "color": "#FFA15A",
            "symbol": "circle"
           },
           "mode": "markers",
           "name": "SAS",
           "orientation": "v",
           "showlegend": true,
           "type": "scatter",
           "x": [
            658
           ],
           "xaxis": "x",
           "y": [
            99.3376320897845
           ],
           "yaxis": "y"
          },
          {
           "customdata": [
            [
             "2018-2019"
            ]
           ],
           "hovertemplate": "team_abbreviation=TOR<br>season=%{customdata[0]}<br>Total Personal Fouls=%{x}<br>Average Defensive Efficiency=%{y}<extra></extra>",
           "legendgroup": "TOR",
           "marker": {
            "color": "#19d3f3",
            "symbol": "circle"
           },
           "mode": "markers",
           "name": "TOR",
           "orientation": "v",
           "showlegend": true,
           "type": "scatter",
           "x": [
            907
           ],
           "xaxis": "x",
           "y": [
            92.7361581549316
           ],
           "yaxis": "y"
          },
          {
           "customdata": [
            [
             "2018-2019"
            ]
           ],
           "hovertemplate": "team_abbreviation=UTA<br>season=%{customdata[0]}<br>Total Personal Fouls=%{x}<br>Average Defensive Efficiency=%{y}<extra></extra>",
           "legendgroup": "UTA",
           "marker": {
            "color": "#FF6692",
            "symbol": "circle"
           },
           "mode": "markers",
           "name": "UTA",
           "orientation": "v",
           "showlegend": true,
           "type": "scatter",
           "x": [
            766
           ],
           "xaxis": "x",
           "y": [
            98.50225969531412
           ],
           "yaxis": "y"
          },
          {
           "customdata": [
            [
             "2018-2019"
            ]
           ],
           "hovertemplate": "team_abbreviation=WAS<br>season=%{customdata[0]}<br>Total Personal Fouls=%{x}<br>Average Defensive Efficiency=%{y}<extra></extra>",
           "legendgroup": "WAS",
           "marker": {
            "color": "#B6E880",
            "symbol": "circle"
           },
           "mode": "markers",
           "name": "WAS",
           "orientation": "v",
           "showlegend": true,
           "type": "scatter",
           "x": [
            812
           ],
           "xaxis": "x",
           "y": [
            100.45908912425608
           ],
           "yaxis": "y"
          },
          {
           "customdata": [
            [
             "2018-2019"
            ]
           ],
           "hovertemplate": "team_abbreviation=BKN<br>season=%{customdata[0]}<br>Total Personal Fouls=%{x}<br>Average Defensive Efficiency=%{y}<extra></extra>",
           "legendgroup": "BKN",
           "marker": {
            "color": "#FF97FF",
            "symbol": "circle"
           },
           "mode": "markers",
           "name": "BKN",
           "orientation": "v",
           "showlegend": true,
           "type": "scatter",
           "x": [
            774
           ],
           "xaxis": "x",
           "y": [
            97.15265583277586
           ],
           "yaxis": "y"
          },
          {
           "customdata": [
            [
             "2018-2019"
            ]
           ],
           "hovertemplate": "team_abbreviation=NOP<br>season=%{customdata[0]}<br>Total Personal Fouls=%{x}<br>Average Defensive Efficiency=%{y}<extra></extra>",
           "legendgroup": "NOP",
           "marker": {
            "color": "#FECB52",
            "symbol": "circle"
           },
           "mode": "markers",
           "name": "NOP",
           "orientation": "v",
           "showlegend": true,
           "type": "scatter",
           "x": [
            748
           ],
           "xaxis": "x",
           "y": [
            99.63820331945375
           ],
           "yaxis": "y"
          }
         ],
         "name": "2018-2019"
        },
        {
         "data": [
          {
           "customdata": [
            [
             "2019-2020"
            ]
           ],
           "hovertemplate": "team_abbreviation=ATL<br>season=%{customdata[0]}<br>Total Personal Fouls=%{x}<br>Average Defensive Efficiency=%{y}<extra></extra>",
           "legendgroup": "ATL",
           "marker": {
            "color": "#636efa",
            "symbol": "circle"
           },
           "mode": "markers",
           "name": "ATL",
           "orientation": "v",
           "showlegend": true,
           "type": "scatter",
           "x": [
            908
           ],
           "xaxis": "x",
           "y": [
            97.8090782926828
           ],
           "yaxis": "y"
          },
          {
           "customdata": [
            [
             "2019-2020"
            ]
           ],
           "hovertemplate": "team_abbreviation=BOS<br>season=%{customdata[0]}<br>Total Personal Fouls=%{x}<br>Average Defensive Efficiency=%{y}<extra></extra>",
           "legendgroup": "BOS",
           "marker": {
            "color": "#EF553B",
            "symbol": "circle"
           },
           "mode": "markers",
           "name": "BOS",
           "orientation": "v",
           "showlegend": true,
           "type": "scatter",
           "x": [
            820
           ],
           "xaxis": "x",
           "y": [
            102.19065091460068
           ],
           "yaxis": "y"
          },
          {
           "customdata": [
            [
             "2019-2020"
            ]
           ],
           "hovertemplate": "team_abbreviation=CHA<br>season=%{customdata[0]}<br>Total Personal Fouls=%{x}<br>Average Defensive Efficiency=%{y}<extra></extra>",
           "legendgroup": "CHA",
           "marker": {
            "color": "#00cc96",
            "symbol": "circle"
           },
           "mode": "markers",
           "name": "CHA",
           "orientation": "v",
           "showlegend": true,
           "type": "scatter",
           "x": [
            699
           ],
           "xaxis": "x",
           "y": [
            97.9052520751818
           ],
           "yaxis": "y"
          },
          {
           "customdata": [
            [
             "2019-2020"
            ]
           ],
           "hovertemplate": "team_abbreviation=CHI<br>season=%{customdata[0]}<br>Total Personal Fouls=%{x}<br>Average Defensive Efficiency=%{y}<extra></extra>",
           "legendgroup": "CHI",
           "marker": {
            "color": "#ab63fa",
            "symbol": "circle"
           },
           "mode": "markers",
           "name": "CHI",
           "orientation": "v",
           "showlegend": true,
           "type": "scatter",
           "x": [
            687
           ],
           "xaxis": "x",
           "y": [
            100.86281630673139
           ],
           "yaxis": "y"
          },
          {
           "customdata": [
            [
             "2019-2020"
            ]
           ],
           "hovertemplate": "team_abbreviation=CLE<br>season=%{customdata[0]}<br>Total Personal Fouls=%{x}<br>Average Defensive Efficiency=%{y}<extra></extra>",
           "legendgroup": "CLE",
           "marker": {
            "color": "#FFA15A",
            "symbol": "circle"
           },
           "mode": "markers",
           "name": "CLE",
           "orientation": "v",
           "showlegend": true,
           "type": "scatter",
           "x": [
            685
           ],
           "xaxis": "x",
           "y": [
            102.68225767518042
           ],
           "yaxis": "y"
          },
          {
           "customdata": [
            [
             "2019-2020"
            ]
           ],
           "hovertemplate": "team_abbreviation=DAL<br>season=%{customdata[0]}<br>Total Personal Fouls=%{x}<br>Average Defensive Efficiency=%{y}<extra></extra>",
           "legendgroup": "DAL",
           "marker": {
            "color": "#19d3f3",
            "symbol": "circle"
           },
           "mode": "markers",
           "name": "DAL",
           "orientation": "v",
           "showlegend": true,
           "type": "scatter",
           "x": [
            793
           ],
           "xaxis": "x",
           "y": [
            102.04310539523655
           ],
           "yaxis": "y"
          },
          {
           "customdata": [
            [
             "2019-2020"
            ]
           ],
           "hovertemplate": "team_abbreviation=DEN<br>season=%{customdata[0]}<br>Total Personal Fouls=%{x}<br>Average Defensive Efficiency=%{y}<extra></extra>",
           "legendgroup": "DEN",
           "marker": {
            "color": "#FF6692",
            "symbol": "circle"
           },
           "mode": "markers",
           "name": "DEN",
           "orientation": "v",
           "showlegend": true,
           "type": "scatter",
           "x": [
            886
           ],
           "xaxis": "x",
           "y": [
            101.19916177620233
           ],
           "yaxis": "y"
          },
          {
           "customdata": [
            [
             "2019-2020"
            ]
           ],
           "hovertemplate": "team_abbreviation=DET<br>season=%{customdata[0]}<br>Total Personal Fouls=%{x}<br>Average Defensive Efficiency=%{y}<extra></extra>",
           "legendgroup": "DET",
           "marker": {
            "color": "#B6E880",
            "symbol": "circle"
           },
           "mode": "markers",
           "name": "DET",
           "orientation": "v",
           "showlegend": true,
           "type": "scatter",
           "x": [
            766
           ],
           "xaxis": "x",
           "y": [
            97.09249053032525
           ],
           "yaxis": "y"
          },
          {
           "customdata": [
            [
             "2019-2020"
            ]
           ],
           "hovertemplate": "team_abbreviation=GSW<br>season=%{customdata[0]}<br>Total Personal Fouls=%{x}<br>Average Defensive Efficiency=%{y}<extra></extra>",
           "legendgroup": "GSW",
           "marker": {
            "color": "#FF97FF",
            "symbol": "circle"
           },
           "mode": "markers",
           "name": "GSW",
           "orientation": "v",
           "showlegend": true,
           "type": "scatter",
           "x": [
            781
           ],
           "xaxis": "x",
           "y": [
            97.19909168421243
           ],
           "yaxis": "y"
          },
          {
           "customdata": [
            [
             "2019-2020"
            ]
           ],
           "hovertemplate": "team_abbreviation=HOU<br>season=%{customdata[0]}<br>Total Personal Fouls=%{x}<br>Average Defensive Efficiency=%{y}<extra></extra>",
           "legendgroup": "HOU",
           "marker": {
            "color": "#FECB52",
            "symbol": "circle"
           },
           "mode": "markers",
           "name": "HOU",
           "orientation": "v",
           "showlegend": true,
           "type": "scatter",
           "x": [
            737
           ],
           "xaxis": "x",
           "y": [
            101.00662725977669
           ],
           "yaxis": "y"
          },
          {
           "customdata": [
            [
             "2019-2020"
            ]
           ],
           "hovertemplate": "team_abbreviation=IND<br>season=%{customdata[0]}<br>Total Personal Fouls=%{x}<br>Average Defensive Efficiency=%{y}<extra></extra>",
           "legendgroup": "IND",
           "marker": {
            "color": "#636efa",
            "symbol": "circle"
           },
           "mode": "markers",
           "name": "IND",
           "orientation": "v",
           "showlegend": true,
           "type": "scatter",
           "x": [
            791
           ],
           "xaxis": "x",
           "y": [
            100.34266804223535
           ],
           "yaxis": "y"
          },
          {
           "customdata": [
            [
             "2019-2020"
            ]
           ],
           "hovertemplate": "team_abbreviation=LAC<br>season=%{customdata[0]}<br>Total Personal Fouls=%{x}<br>Average Defensive Efficiency=%{y}<extra></extra>",
           "legendgroup": "LAC",
           "marker": {
            "color": "#EF553B",
            "symbol": "circle"
           },
           "mode": "markers",
           "name": "LAC",
           "orientation": "v",
           "showlegend": true,
           "type": "scatter",
           "x": [
            912
           ],
           "xaxis": "x",
           "y": [
            100.53463426821398
           ],
           "yaxis": "y"
          },
          {
           "customdata": [
            [
             "2019-2020"
            ]
           ],
           "hovertemplate": "team_abbreviation=LAL<br>season=%{customdata[0]}<br>Total Personal Fouls=%{x}<br>Average Defensive Efficiency=%{y}<extra></extra>",
           "legendgroup": "LAL",
           "marker": {
            "color": "#00cc96",
            "symbol": "circle"
           },
           "mode": "markers",
           "name": "LAL",
           "orientation": "v",
           "showlegend": true,
           "type": "scatter",
           "x": [
            780
           ],
           "xaxis": "x",
           "y": [
            96.57107598037291
           ],
           "yaxis": "y"
          },
          {
           "customdata": [
            [
             "2019-2020"
            ]
           ],
           "hovertemplate": "team_abbreviation=MEM<br>season=%{customdata[0]}<br>Total Personal Fouls=%{x}<br>Average Defensive Efficiency=%{y}<extra></extra>",
           "legendgroup": "MEM",
           "marker": {
            "color": "#ab63fa",
            "symbol": "circle"
           },
           "mode": "markers",
           "name": "MEM",
           "orientation": "v",
           "showlegend": true,
           "type": "scatter",
           "x": [
            736
           ],
           "xaxis": "x",
           "y": [
            99.49876006845031
           ],
           "yaxis": "y"
          },
          {
           "customdata": [
            [
             "2019-2020"
            ]
           ],
           "hovertemplate": "team_abbreviation=MIA<br>season=%{customdata[0]}<br>Total Personal Fouls=%{x}<br>Average Defensive Efficiency=%{y}<extra></extra>",
           "legendgroup": "MIA",
           "marker": {
            "color": "#FFA15A",
            "symbol": "circle"
           },
           "mode": "markers",
           "name": "MIA",
           "orientation": "v",
           "showlegend": true,
           "type": "scatter",
           "x": [
            741
           ],
           "xaxis": "x",
           "y": [
            99.42128450208081
           ],
           "yaxis": "y"
          },
          {
           "customdata": [
            [
             "2019-2020"
            ]
           ],
           "hovertemplate": "team_abbreviation=MIL<br>season=%{customdata[0]}<br>Total Personal Fouls=%{x}<br>Average Defensive Efficiency=%{y}<extra></extra>",
           "legendgroup": "MIL",
           "marker": {
            "color": "#19d3f3",
            "symbol": "circle"
           },
           "mode": "markers",
           "name": "MIL",
           "orientation": "v",
           "showlegend": true,
           "type": "scatter",
           "x": [
            836
           ],
           "xaxis": "x",
           "y": [
            97.85068065762675
           ],
           "yaxis": "y"
          },
          {
           "customdata": [
            [
             "2019-2020"
            ]
           ],
           "hovertemplate": "team_abbreviation=MIN<br>season=%{customdata[0]}<br>Total Personal Fouls=%{x}<br>Average Defensive Efficiency=%{y}<extra></extra>",
           "legendgroup": "MIN",
           "marker": {
            "color": "#FF6692",
            "symbol": "circle"
           },
           "mode": "markers",
           "name": "MIN",
           "orientation": "v",
           "showlegend": true,
           "type": "scatter",
           "x": [
            784
           ],
           "xaxis": "x",
           "y": [
            100.97376061323976
           ],
           "yaxis": "y"
          },
          {
           "customdata": [
            [
             "2019-2020"
            ]
           ],
           "hovertemplate": "team_abbreviation=NYK<br>season=%{customdata[0]}<br>Total Personal Fouls=%{x}<br>Average Defensive Efficiency=%{y}<extra></extra>",
           "legendgroup": "NYK",
           "marker": {
            "color": "#B6E880",
            "symbol": "circle"
           },
           "mode": "markers",
           "name": "NYK",
           "orientation": "v",
           "showlegend": true,
           "type": "scatter",
           "x": [
            810
           ],
           "xaxis": "x",
           "y": [
            95.93035288042051
           ],
           "yaxis": "y"
          },
          {
           "customdata": [
            [
             "2019-2020"
            ]
           ],
           "hovertemplate": "team_abbreviation=OKC<br>season=%{customdata[0]}<br>Total Personal Fouls=%{x}<br>Average Defensive Efficiency=%{y}<extra></extra>",
           "legendgroup": "OKC",
           "marker": {
            "color": "#FF97FF",
            "symbol": "circle"
           },
           "mode": "markers",
           "name": "OKC",
           "orientation": "v",
           "showlegend": true,
           "type": "scatter",
           "x": [
            644
           ],
           "xaxis": "x",
           "y": [
            103.21049136356052
           ],
           "yaxis": "y"
          },
          {
           "customdata": [
            [
             "2019-2020"
            ]
           ],
           "hovertemplate": "team_abbreviation=ORL<br>season=%{customdata[0]}<br>Total Personal Fouls=%{x}<br>Average Defensive Efficiency=%{y}<extra></extra>",
           "legendgroup": "ORL",
           "marker": {
            "color": "#FECB52",
            "symbol": "circle"
           },
           "mode": "markers",
           "name": "ORL",
           "orientation": "v",
           "showlegend": true,
           "type": "scatter",
           "x": [
            649
           ],
           "xaxis": "x",
           "y": [
            103.1563817932939
           ],
           "yaxis": "y"
          },
          {
           "customdata": [
            [
             "2019-2020"
            ]
           ],
           "hovertemplate": "team_abbreviation=PHI<br>season=%{customdata[0]}<br>Total Personal Fouls=%{x}<br>Average Defensive Efficiency=%{y}<extra></extra>",
           "legendgroup": "PHI",
           "marker": {
            "color": "#636efa",
            "symbol": "circle"
           },
           "mode": "markers",
           "name": "PHI",
           "orientation": "v",
           "showlegend": true,
           "type": "scatter",
           "x": [
            923
           ],
           "xaxis": "x",
           "y": [
            95.7584023274791
           ],
           "yaxis": "y"
          },
          {
           "customdata": [
            [
             "2019-2020"
            ]
           ],
           "hovertemplate": "team_abbreviation=PHX<br>season=%{customdata[0]}<br>Total Personal Fouls=%{x}<br>Average Defensive Efficiency=%{y}<extra></extra>",
           "legendgroup": "PHX",
           "marker": {
            "color": "#EF553B",
            "symbol": "circle"
           },
           "mode": "markers",
           "name": "PHX",
           "orientation": "v",
           "showlegend": true,
           "type": "scatter",
           "x": [
            955
           ],
           "xaxis": "x",
           "y": [
            98.95398665887582
           ],
           "yaxis": "y"
          },
          {
           "customdata": [
            [
             "2019-2020"
            ]
           ],
           "hovertemplate": "team_abbreviation=POR<br>season=%{customdata[0]}<br>Total Personal Fouls=%{x}<br>Average Defensive Efficiency=%{y}<extra></extra>",
           "legendgroup": "POR",
           "marker": {
            "color": "#00cc96",
            "symbol": "circle"
           },
           "mode": "markers",
           "name": "POR",
           "orientation": "v",
           "showlegend": true,
           "type": "scatter",
           "x": [
            783
           ],
           "xaxis": "x",
           "y": [
            102.23234891640965
           ],
           "yaxis": "y"
          },
          {
           "customdata": [
            [
             "2019-2020"
            ]
           ],
           "hovertemplate": "team_abbreviation=SAC<br>season=%{customdata[0]}<br>Total Personal Fouls=%{x}<br>Average Defensive Efficiency=%{y}<extra></extra>",
           "legendgroup": "SAC",
           "marker": {
            "color": "#ab63fa",
            "symbol": "circle"
           },
           "mode": "markers",
           "name": "SAC",
           "orientation": "v",
           "showlegend": true,
           "type": "scatter",
           "x": [
            717
           ],
           "xaxis": "x",
           "y": [
            105.4384066806532
           ],
           "yaxis": "y"
          },
          {
           "customdata": [
            [
             "2019-2020"
            ]
           ],
           "hovertemplate": "team_abbreviation=SAS<br>season=%{customdata[0]}<br>Total Personal Fouls=%{x}<br>Average Defensive Efficiency=%{y}<extra></extra>",
           "legendgroup": "SAS",
           "marker": {
            "color": "#FFA15A",
            "symbol": "circle"
           },
           "mode": "markers",
           "name": "SAS",
           "orientation": "v",
           "showlegend": true,
           "type": "scatter",
           "x": [
            659
           ],
           "xaxis": "x",
           "y": [
            102.02921213710405
           ],
           "yaxis": "y"
          },
          {
           "customdata": [
            [
             "2019-2020"
            ]
           ],
           "hovertemplate": "team_abbreviation=TOR<br>season=%{customdata[0]}<br>Total Personal Fouls=%{x}<br>Average Defensive Efficiency=%{y}<extra></extra>",
           "legendgroup": "TOR",
           "marker": {
            "color": "#19d3f3",
            "symbol": "circle"
           },
           "mode": "markers",
           "name": "TOR",
           "orientation": "v",
           "showlegend": true,
           "type": "scatter",
           "x": [
            777
           ],
           "xaxis": "x",
           "y": [
            98.2045511304572
           ],
           "yaxis": "y"
          },
          {
           "customdata": [
            [
             "2019-2020"
            ]
           ],
           "hovertemplate": "team_abbreviation=UTA<br>season=%{customdata[0]}<br>Total Personal Fouls=%{x}<br>Average Defensive Efficiency=%{y}<extra></extra>",
           "legendgroup": "UTA",
           "marker": {
            "color": "#FF6692",
            "symbol": "circle"
           },
           "mode": "markers",
           "name": "UTA",
           "orientation": "v",
           "showlegend": true,
           "type": "scatter",
           "x": [
            841
           ],
           "xaxis": "x",
           "y": [
            95.091586035059
           ],
           "yaxis": "y"
          },
          {
           "customdata": [
            [
             "2019-2020"
            ]
           ],
           "hovertemplate": "team_abbreviation=WAS<br>season=%{customdata[0]}<br>Total Personal Fouls=%{x}<br>Average Defensive Efficiency=%{y}<extra></extra>",
           "legendgroup": "WAS",
           "marker": {
            "color": "#B6E880",
            "symbol": "circle"
           },
           "mode": "markers",
           "name": "WAS",
           "orientation": "v",
           "showlegend": true,
           "type": "scatter",
           "x": [
            869
           ],
           "xaxis": "x",
           "y": [
            100.5687765350628
           ],
           "yaxis": "y"
          },
          {
           "customdata": [
            [
             "2019-2020"
            ]
           ],
           "hovertemplate": "team_abbreviation=BKN<br>season=%{customdata[0]}<br>Total Personal Fouls=%{x}<br>Average Defensive Efficiency=%{y}<extra></extra>",
           "legendgroup": "BKN",
           "marker": {
            "color": "#FF97FF",
            "symbol": "circle"
           },
           "mode": "markers",
           "name": "BKN",
           "orientation": "v",
           "showlegend": true,
           "type": "scatter",
           "x": [
            850
           ],
           "xaxis": "x",
           "y": [
            96.99428622058436
           ],
           "yaxis": "y"
          },
          {
           "customdata": [
            [
             "2019-2020"
            ]
           ],
           "hovertemplate": "team_abbreviation=NOP<br>season=%{customdata[0]}<br>Total Personal Fouls=%{x}<br>Average Defensive Efficiency=%{y}<extra></extra>",
           "legendgroup": "NOP",
           "marker": {
            "color": "#FECB52",
            "symbol": "circle"
           },
           "mode": "markers",
           "name": "NOP",
           "orientation": "v",
           "showlegend": true,
           "type": "scatter",
           "x": [
            654
           ],
           "xaxis": "x",
           "y": [
            101.5671862312011
           ],
           "yaxis": "y"
          }
         ],
         "name": "2019-2020"
        },
        {
         "data": [
          {
           "customdata": [
            [
             "2020-2021"
            ]
           ],
           "hovertemplate": "team_abbreviation=ATL<br>season=%{customdata[0]}<br>Total Personal Fouls=%{x}<br>Average Defensive Efficiency=%{y}<extra></extra>",
           "legendgroup": "ATL",
           "marker": {
            "color": "#636efa",
            "symbol": "circle"
           },
           "mode": "markers",
           "name": "ATL",
           "orientation": "v",
           "showlegend": true,
           "type": "scatter",
           "x": [
            860
           ],
           "xaxis": "x",
           "y": [
            99.91488594210229
           ],
           "yaxis": "y"
          },
          {
           "customdata": [
            [
             "2020-2021"
            ]
           ],
           "hovertemplate": "team_abbreviation=BOS<br>season=%{customdata[0]}<br>Total Personal Fouls=%{x}<br>Average Defensive Efficiency=%{y}<extra></extra>",
           "legendgroup": "BOS",
           "marker": {
            "color": "#EF553B",
            "symbol": "circle"
           },
           "mode": "markers",
           "name": "BOS",
           "orientation": "v",
           "showlegend": true,
           "type": "scatter",
           "x": [
            1023
           ],
           "xaxis": "x",
           "y": [
            94.13696356312539
           ],
           "yaxis": "y"
          },
          {
           "customdata": [
            [
             "2020-2021"
            ]
           ],
           "hovertemplate": "team_abbreviation=CHA<br>season=%{customdata[0]}<br>Total Personal Fouls=%{x}<br>Average Defensive Efficiency=%{y}<extra></extra>",
           "legendgroup": "CHA",
           "marker": {
            "color": "#00cc96",
            "symbol": "circle"
           },
           "mode": "markers",
           "name": "CHA",
           "orientation": "v",
           "showlegend": true,
           "type": "scatter",
           "x": [
            860
           ],
           "xaxis": "x",
           "y": [
            98.22081786033947
           ],
           "yaxis": "y"
          },
          {
           "customdata": [
            [
             "2020-2021"
            ]
           ],
           "hovertemplate": "team_abbreviation=CHI<br>season=%{customdata[0]}<br>Total Personal Fouls=%{x}<br>Average Defensive Efficiency=%{y}<extra></extra>",
           "legendgroup": "CHI",
           "marker": {
            "color": "#ab63fa",
            "symbol": "circle"
           },
           "mode": "markers",
           "name": "CHI",
           "orientation": "v",
           "showlegend": true,
           "type": "scatter",
           "x": [
            844
           ],
           "xaxis": "x",
           "y": [
            100.82474002709466
           ],
           "yaxis": "y"
          },
          {
           "customdata": [
            [
             "2020-2021"
            ]
           ],
           "hovertemplate": "team_abbreviation=CLE<br>season=%{customdata[0]}<br>Total Personal Fouls=%{x}<br>Average Defensive Efficiency=%{y}<extra></extra>",
           "legendgroup": "CLE",
           "marker": {
            "color": "#FFA15A",
            "symbol": "circle"
           },
           "mode": "markers",
           "name": "CLE",
           "orientation": "v",
           "showlegend": true,
           "type": "scatter",
           "x": [
            752
           ],
           "xaxis": "x",
           "y": [
            94.97111710404249
           ],
           "yaxis": "y"
          },
          {
           "customdata": [
            [
             "2020-2021"
            ]
           ],
           "hovertemplate": "team_abbreviation=DAL<br>season=%{customdata[0]}<br>Total Personal Fouls=%{x}<br>Average Defensive Efficiency=%{y}<extra></extra>",
           "legendgroup": "DAL",
           "marker": {
            "color": "#19d3f3",
            "symbol": "circle"
           },
           "mode": "markers",
           "name": "DAL",
           "orientation": "v",
           "showlegend": true,
           "type": "scatter",
           "x": [
            996
           ],
           "xaxis": "x",
           "y": [
            94.7132276620551
           ],
           "yaxis": "y"
          },
          {
           "customdata": [
            [
             "2020-2021"
            ]
           ],
           "hovertemplate": "team_abbreviation=DEN<br>season=%{customdata[0]}<br>Total Personal Fouls=%{x}<br>Average Defensive Efficiency=%{y}<extra></extra>",
           "legendgroup": "DEN",
           "marker": {
            "color": "#FF6692",
            "symbol": "circle"
           },
           "mode": "markers",
           "name": "DEN",
           "orientation": "v",
           "showlegend": true,
           "type": "scatter",
           "x": [
            926
           ],
           "xaxis": "x",
           "y": [
            102.86783764443659
           ],
           "yaxis": "y"
          },
          {
           "customdata": [
            [
             "2020-2021"
            ]
           ],
           "hovertemplate": "team_abbreviation=DET<br>season=%{customdata[0]}<br>Total Personal Fouls=%{x}<br>Average Defensive Efficiency=%{y}<extra></extra>",
           "legendgroup": "DET",
           "marker": {
            "color": "#B6E880",
            "symbol": "circle"
           },
           "mode": "markers",
           "name": "DET",
           "orientation": "v",
           "showlegend": true,
           "type": "scatter",
           "x": [
            951
           ],
           "xaxis": "x",
           "y": [
            98.10235172705649
           ],
           "yaxis": "y"
          },
          {
           "customdata": [
            [
             "2020-2021"
            ]
           ],
           "hovertemplate": "team_abbreviation=GSW<br>season=%{customdata[0]}<br>Total Personal Fouls=%{x}<br>Average Defensive Efficiency=%{y}<extra></extra>",
           "legendgroup": "GSW",
           "marker": {
            "color": "#FF97FF",
            "symbol": "circle"
           },
           "mode": "markers",
           "name": "GSW",
           "orientation": "v",
           "showlegend": true,
           "type": "scatter",
           "x": [
            1159
           ],
           "xaxis": "x",
           "y": [
            92.38496770524853
           ],
           "yaxis": "y"
          },
          {
           "customdata": [
            [
             "2020-2021"
            ]
           ],
           "hovertemplate": "team_abbreviation=HOU<br>season=%{customdata[0]}<br>Total Personal Fouls=%{x}<br>Average Defensive Efficiency=%{y}<extra></extra>",
           "legendgroup": "HOU",
           "marker": {
            "color": "#FECB52",
            "symbol": "circle"
           },
           "mode": "markers",
           "name": "HOU",
           "orientation": "v",
           "showlegend": true,
           "type": "scatter",
           "x": [
            920
           ],
           "xaxis": "x",
           "y": [
            102.78152210758721
           ],
           "yaxis": "y"
          },
          {
           "customdata": [
            [
             "2020-2021"
            ]
           ],
           "hovertemplate": "team_abbreviation=IND<br>season=%{customdata[0]}<br>Total Personal Fouls=%{x}<br>Average Defensive Efficiency=%{y}<extra></extra>",
           "legendgroup": "IND",
           "marker": {
            "color": "#636efa",
            "symbol": "circle"
           },
           "mode": "markers",
           "name": "IND",
           "orientation": "v",
           "showlegend": true,
           "type": "scatter",
           "x": [
            860
           ],
           "xaxis": "x",
           "y": [
            103.13173971493308
           ],
           "yaxis": "y"
          },
          {
           "customdata": [
            [
             "2020-2021"
            ]
           ],
           "hovertemplate": "team_abbreviation=LAC<br>season=%{customdata[0]}<br>Total Personal Fouls=%{x}<br>Average Defensive Efficiency=%{y}<extra></extra>",
           "legendgroup": "LAC",
           "marker": {
            "color": "#EF553B",
            "symbol": "circle"
           },
           "mode": "markers",
           "name": "LAC",
           "orientation": "v",
           "showlegend": true,
           "type": "scatter",
           "x": [
            816
           ],
           "xaxis": "x",
           "y": [
            95.58159392729235
           ],
           "yaxis": "y"
          },
          {
           "customdata": [
            [
             "2020-2021"
            ]
           ],
           "hovertemplate": "team_abbreviation=LAL<br>season=%{customdata[0]}<br>Total Personal Fouls=%{x}<br>Average Defensive Efficiency=%{y}<extra></extra>",
           "legendgroup": "LAL",
           "marker": {
            "color": "#00cc96",
            "symbol": "circle"
           },
           "mode": "markers",
           "name": "LAL",
           "orientation": "v",
           "showlegend": true,
           "type": "scatter",
           "x": [
            906
           ],
           "xaxis": "x",
           "y": [
            97.96127220654245
           ],
           "yaxis": "y"
          },
          {
           "customdata": [
            [
             "2020-2021"
            ]
           ],
           "hovertemplate": "team_abbreviation=MEM<br>season=%{customdata[0]}<br>Total Personal Fouls=%{x}<br>Average Defensive Efficiency=%{y}<extra></extra>",
           "legendgroup": "MEM",
           "marker": {
            "color": "#ab63fa",
            "symbol": "circle"
           },
           "mode": "markers",
           "name": "MEM",
           "orientation": "v",
           "showlegend": true,
           "type": "scatter",
           "x": [
            951
           ],
           "xaxis": "x",
           "y": [
            94.71460603330668
           ],
           "yaxis": "y"
          },
          {
           "customdata": [
            [
             "2020-2021"
            ]
           ],
           "hovertemplate": "team_abbreviation=MIA<br>season=%{customdata[0]}<br>Total Personal Fouls=%{x}<br>Average Defensive Efficiency=%{y}<extra></extra>",
           "legendgroup": "MIA",
           "marker": {
            "color": "#FFA15A",
            "symbol": "circle"
           },
           "mode": "markers",
           "name": "MIA",
           "orientation": "v",
           "showlegend": true,
           "type": "scatter",
           "x": [
            1099
           ],
           "xaxis": "x",
           "y": [
            96.72895231239808
           ],
           "yaxis": "y"
          },
          {
           "customdata": [
            [
             "2020-2021"
            ]
           ],
           "hovertemplate": "team_abbreviation=MIL<br>season=%{customdata[0]}<br>Total Personal Fouls=%{x}<br>Average Defensive Efficiency=%{y}<extra></extra>",
           "legendgroup": "MIL",
           "marker": {
            "color": "#19d3f3",
            "symbol": "circle"
           },
           "mode": "markers",
           "name": "MIL",
           "orientation": "v",
           "showlegend": true,
           "type": "scatter",
           "x": [
            912
           ],
           "xaxis": "x",
           "y": [
            98.62884603041768
           ],
           "yaxis": "y"
          },
          {
           "customdata": [
            [
             "2020-2021"
            ]
           ],
           "hovertemplate": "team_abbreviation=MIN<br>season=%{customdata[0]}<br>Total Personal Fouls=%{x}<br>Average Defensive Efficiency=%{y}<extra></extra>",
           "legendgroup": "MIN",
           "marker": {
            "color": "#FF6692",
            "symbol": "circle"
           },
           "mode": "markers",
           "name": "MIN",
           "orientation": "v",
           "showlegend": true,
           "type": "scatter",
           "x": [
            984
           ],
           "xaxis": "x",
           "y": [
            94.64929996378885
           ],
           "yaxis": "y"
          },
          {
           "customdata": [
            [
             "2020-2021"
            ]
           ],
           "hovertemplate": "team_abbreviation=NYK<br>season=%{customdata[0]}<br>Total Personal Fouls=%{x}<br>Average Defensive Efficiency=%{y}<extra></extra>",
           "legendgroup": "NYK",
           "marker": {
            "color": "#B6E880",
            "symbol": "circle"
           },
           "mode": "markers",
           "name": "NYK",
           "orientation": "v",
           "showlegend": true,
           "type": "scatter",
           "x": [
            869
           ],
           "xaxis": "x",
           "y": [
            98.52487956457684
           ],
           "yaxis": "y"
          },
          {
           "customdata": [
            [
             "2020-2021"
            ]
           ],
           "hovertemplate": "team_abbreviation=OKC<br>season=%{customdata[0]}<br>Total Personal Fouls=%{x}<br>Average Defensive Efficiency=%{y}<extra></extra>",
           "legendgroup": "OKC",
           "marker": {
            "color": "#FF97FF",
            "symbol": "circle"
           },
           "mode": "markers",
           "name": "OKC",
           "orientation": "v",
           "showlegend": true,
           "type": "scatter",
           "x": [
            829
           ],
           "xaxis": "x",
           "y": [
            99.75723609585657
           ],
           "yaxis": "y"
          },
          {
           "customdata": [
            [
             "2020-2021"
            ]
           ],
           "hovertemplate": "team_abbreviation=ORL<br>season=%{customdata[0]}<br>Total Personal Fouls=%{x}<br>Average Defensive Efficiency=%{y}<extra></extra>",
           "legendgroup": "ORL",
           "marker": {
            "color": "#FECB52",
            "symbol": "circle"
           },
           "mode": "markers",
           "name": "ORL",
           "orientation": "v",
           "showlegend": true,
           "type": "scatter",
           "x": [
            831
           ],
           "xaxis": "x",
           "y": [
            100.0164229093878
           ],
           "yaxis": "y"
          },
          {
           "customdata": [
            [
             "2020-2021"
            ]
           ],
           "hovertemplate": "team_abbreviation=PHI<br>season=%{customdata[0]}<br>Total Personal Fouls=%{x}<br>Average Defensive Efficiency=%{y}<extra></extra>",
           "legendgroup": "PHI",
           "marker": {
            "color": "#636efa",
            "symbol": "circle"
           },
           "mode": "markers",
           "name": "PHI",
           "orientation": "v",
           "showlegend": true,
           "type": "scatter",
           "x": [
            949
           ],
           "xaxis": "x",
           "y": [
            97.46717909827244
           ],
           "yaxis": "y"
          },
          {
           "customdata": [
            [
             "2020-2021"
            ]
           ],
           "hovertemplate": "team_abbreviation=PHX<br>season=%{customdata[0]}<br>Total Personal Fouls=%{x}<br>Average Defensive Efficiency=%{y}<extra></extra>",
           "legendgroup": "PHX",
           "marker": {
            "color": "#EF553B",
            "symbol": "circle"
           },
           "mode": "markers",
           "name": "PHX",
           "orientation": "v",
           "showlegend": true,
           "type": "scatter",
           "x": [
            979
           ],
           "xaxis": "x",
           "y": [
            94.94111215072371
           ],
           "yaxis": "y"
          },
          {
           "customdata": [
            [
             "2020-2021"
            ]
           ],
           "hovertemplate": "team_abbreviation=POR<br>season=%{customdata[0]}<br>Total Personal Fouls=%{x}<br>Average Defensive Efficiency=%{y}<extra></extra>",
           "legendgroup": "POR",
           "marker": {
            "color": "#00cc96",
            "symbol": "circle"
           },
           "mode": "markers",
           "name": "POR",
           "orientation": "v",
           "showlegend": true,
           "type": "scatter",
           "x": [
            887
           ],
           "xaxis": "x",
           "y": [
            102.5769382191566
           ],
           "yaxis": "y"
          },
          {
           "customdata": [
            [
             "2020-2021"
            ]
           ],
           "hovertemplate": "team_abbreviation=SAC<br>season=%{customdata[0]}<br>Total Personal Fouls=%{x}<br>Average Defensive Efficiency=%{y}<extra></extra>",
           "legendgroup": "SAC",
           "marker": {
            "color": "#ab63fa",
            "symbol": "circle"
           },
           "mode": "markers",
           "name": "SAC",
           "orientation": "v",
           "showlegend": true,
           "type": "scatter",
           "x": [
            828
           ],
           "xaxis": "x",
           "y": [
            101.05681699057986
           ],
           "yaxis": "y"
          },
          {
           "customdata": [
            [
             "2020-2021"
            ]
           ],
           "hovertemplate": "team_abbreviation=SAS<br>season=%{customdata[0]}<br>Total Personal Fouls=%{x}<br>Average Defensive Efficiency=%{y}<extra></extra>",
           "legendgroup": "SAS",
           "marker": {
            "color": "#FFA15A",
            "symbol": "circle"
           },
           "mode": "markers",
           "name": "SAS",
           "orientation": "v",
           "showlegend": true,
           "type": "scatter",
           "x": [
            826
           ],
           "xaxis": "x",
           "y": [
            99.29722333052545
           ],
           "yaxis": "y"
          },
          {
           "customdata": [
            [
             "2020-2021"
            ]
           ],
           "hovertemplate": "team_abbreviation=TOR<br>season=%{customdata[0]}<br>Total Personal Fouls=%{x}<br>Average Defensive Efficiency=%{y}<extra></extra>",
           "legendgroup": "TOR",
           "marker": {
            "color": "#19d3f3",
            "symbol": "circle"
           },
           "mode": "markers",
           "name": "TOR",
           "orientation": "v",
           "showlegend": true,
           "type": "scatter",
           "x": [
            948
           ],
           "xaxis": "x",
           "y": [
            97.82584802253868
           ],
           "yaxis": "y"
          },
          {
           "customdata": [
            [
             "2020-2021"
            ]
           ],
           "hovertemplate": "team_abbreviation=UTA<br>season=%{customdata[0]}<br>Total Personal Fouls=%{x}<br>Average Defensive Efficiency=%{y}<extra></extra>",
           "legendgroup": "UTA",
           "marker": {
            "color": "#FF6692",
            "symbol": "circle"
           },
           "mode": "markers",
           "name": "UTA",
           "orientation": "v",
           "showlegend": true,
           "type": "scatter",
           "x": [
            900
           ],
           "xaxis": "x",
           "y": [
            97.15654927492673
           ],
           "yaxis": "y"
          },
          {
           "customdata": [
            [
             "2020-2021"
            ]
           ],
           "hovertemplate": "team_abbreviation=WAS<br>season=%{customdata[0]}<br>Total Personal Fouls=%{x}<br>Average Defensive Efficiency=%{y}<extra></extra>",
           "legendgroup": "WAS",
           "marker": {
            "color": "#B6E880",
            "symbol": "circle"
           },
           "mode": "markers",
           "name": "WAS",
           "orientation": "v",
           "showlegend": true,
           "type": "scatter",
           "x": [
            818
           ],
           "xaxis": "x",
           "y": [
            100.81406116587277
           ],
           "yaxis": "y"
          },
          {
           "customdata": [
            [
             "2020-2021"
            ]
           ],
           "hovertemplate": "team_abbreviation=BKN<br>season=%{customdata[0]}<br>Total Personal Fouls=%{x}<br>Average Defensive Efficiency=%{y}<extra></extra>",
           "legendgroup": "BKN",
           "marker": {
            "color": "#FF97FF",
            "symbol": "circle"
           },
           "mode": "markers",
           "name": "BKN",
           "orientation": "v",
           "showlegend": true,
           "type": "scatter",
           "x": [
            891
           ],
           "xaxis": "x",
           "y": [
            98.82526268103915
           ],
           "yaxis": "y"
          },
          {
           "customdata": [
            [
             "2020-2021"
            ]
           ],
           "hovertemplate": "team_abbreviation=NOP<br>season=%{customdata[0]}<br>Total Personal Fouls=%{x}<br>Average Defensive Efficiency=%{y}<extra></extra>",
           "legendgroup": "NOP",
           "marker": {
            "color": "#FECB52",
            "symbol": "circle"
           },
           "mode": "markers",
           "name": "NOP",
           "orientation": "v",
           "showlegend": true,
           "type": "scatter",
           "x": [
            900
           ],
           "xaxis": "x",
           "y": [
            101.1622649702271
           ],
           "yaxis": "y"
          }
         ],
         "name": "2020-2021"
        },
        {
         "data": [
          {
           "customdata": [
            [
             "2021-2022"
            ]
           ],
           "hovertemplate": "team_abbreviation=ATL<br>season=%{customdata[0]}<br>Total Personal Fouls=%{x}<br>Average Defensive Efficiency=%{y}<extra></extra>",
           "legendgroup": "ATL",
           "marker": {
            "color": "#636efa",
            "symbol": "circle"
           },
           "mode": "markers",
           "name": "ATL",
           "orientation": "v",
           "showlegend": true,
           "type": "scatter",
           "x": [
            808
           ],
           "xaxis": "x",
           "y": [
            102.74146627466776
           ],
           "yaxis": "y"
          },
          {
           "customdata": [
            [
             "2021-2022"
            ]
           ],
           "hovertemplate": "team_abbreviation=BOS<br>season=%{customdata[0]}<br>Total Personal Fouls=%{x}<br>Average Defensive Efficiency=%{y}<extra></extra>",
           "legendgroup": "BOS",
           "marker": {
            "color": "#EF553B",
            "symbol": "circle"
           },
           "mode": "markers",
           "name": "BOS",
           "orientation": "v",
           "showlegend": true,
           "type": "scatter",
           "x": [
            966
           ],
           "xaxis": "x",
           "y": [
            97.9524711951162
           ],
           "yaxis": "y"
          },
          {
           "customdata": [
            [
             "2021-2022"
            ]
           ],
           "hovertemplate": "team_abbreviation=CHA<br>season=%{customdata[0]}<br>Total Personal Fouls=%{x}<br>Average Defensive Efficiency=%{y}<extra></extra>",
           "legendgroup": "CHA",
           "marker": {
            "color": "#00cc96",
            "symbol": "circle"
           },
           "mode": "markers",
           "name": "CHA",
           "orientation": "v",
           "showlegend": true,
           "type": "scatter",
           "x": [
            880
           ],
           "xaxis": "x",
           "y": [
            101.48278440477284
           ],
           "yaxis": "y"
          },
          {
           "customdata": [
            [
             "2021-2022"
            ]
           ],
           "hovertemplate": "team_abbreviation=CHI<br>season=%{customdata[0]}<br>Total Personal Fouls=%{x}<br>Average Defensive Efficiency=%{y}<extra></extra>",
           "legendgroup": "CHI",
           "marker": {
            "color": "#ab63fa",
            "symbol": "circle"
           },
           "mode": "markers",
           "name": "CHI",
           "orientation": "v",
           "showlegend": true,
           "type": "scatter",
           "x": [
            842
           ],
           "xaxis": "x",
           "y": [
            98.9071259319941
           ],
           "yaxis": "y"
          },
          {
           "customdata": [
            [
             "2021-2022"
            ]
           ],
           "hovertemplate": "team_abbreviation=CLE<br>season=%{customdata[0]}<br>Total Personal Fouls=%{x}<br>Average Defensive Efficiency=%{y}<extra></extra>",
           "legendgroup": "CLE",
           "marker": {
            "color": "#FFA15A",
            "symbol": "circle"
           },
           "mode": "markers",
           "name": "CLE",
           "orientation": "v",
           "showlegend": true,
           "type": "scatter",
           "x": [
            883
           ],
           "xaxis": "x",
           "y": [
            94.97516268288572
           ],
           "yaxis": "y"
          },
          {
           "customdata": [
            [
             "2021-2022"
            ]
           ],
           "hovertemplate": "team_abbreviation=DAL<br>season=%{customdata[0]}<br>Total Personal Fouls=%{x}<br>Average Defensive Efficiency=%{y}<extra></extra>",
           "legendgroup": "DAL",
           "marker": {
            "color": "#19d3f3",
            "symbol": "circle"
           },
           "mode": "markers",
           "name": "DAL",
           "orientation": "v",
           "showlegend": true,
           "type": "scatter",
           "x": [
            884
           ],
           "xaxis": "x",
           "y": [
            102.29010557856066
           ],
           "yaxis": "y"
          },
          {
           "customdata": [
            [
             "2021-2022"
            ]
           ],
           "hovertemplate": "team_abbreviation=DEN<br>season=%{customdata[0]}<br>Total Personal Fouls=%{x}<br>Average Defensive Efficiency=%{y}<extra></extra>",
           "legendgroup": "DEN",
           "marker": {
            "color": "#FF6692",
            "symbol": "circle"
           },
           "mode": "markers",
           "name": "DEN",
           "orientation": "v",
           "showlegend": true,
           "type": "scatter",
           "x": [
            1022
           ],
           "xaxis": "x",
           "y": [
            98.50073050297439
           ],
           "yaxis": "y"
          },
          {
           "customdata": [
            [
             "2021-2022"
            ]
           ],
           "hovertemplate": "team_abbreviation=DET<br>season=%{customdata[0]}<br>Total Personal Fouls=%{x}<br>Average Defensive Efficiency=%{y}<extra></extra>",
           "legendgroup": "DET",
           "marker": {
            "color": "#B6E880",
            "symbol": "circle"
           },
           "mode": "markers",
           "name": "DET",
           "orientation": "v",
           "showlegend": true,
           "type": "scatter",
           "x": [
            956
           ],
           "xaxis": "x",
           "y": [
            104.97430652753164
           ],
           "yaxis": "y"
          },
          {
           "customdata": [
            [
             "2021-2022"
            ]
           ],
           "hovertemplate": "team_abbreviation=GSW<br>season=%{customdata[0]}<br>Total Personal Fouls=%{x}<br>Average Defensive Efficiency=%{y}<extra></extra>",
           "legendgroup": "GSW",
           "marker": {
            "color": "#FF97FF",
            "symbol": "circle"
           },
           "mode": "markers",
           "name": "GSW",
           "orientation": "v",
           "showlegend": true,
           "type": "scatter",
           "x": [
            1085
           ],
           "xaxis": "x",
           "y": [
            96.54927481601798
           ],
           "yaxis": "y"
          },
          {
           "customdata": [
            [
             "2021-2022"
            ]
           ],
           "hovertemplate": "team_abbreviation=HOU<br>season=%{customdata[0]}<br>Total Personal Fouls=%{x}<br>Average Defensive Efficiency=%{y}<extra></extra>",
           "legendgroup": "HOU",
           "marker": {
            "color": "#FECB52",
            "symbol": "circle"
           },
           "mode": "markers",
           "name": "HOU",
           "orientation": "v",
           "showlegend": true,
           "type": "scatter",
           "x": [
            886
           ],
           "xaxis": "x",
           "y": [
            101.74007535725883
           ],
           "yaxis": "y"
          },
          {
           "customdata": [
            [
             "2021-2022"
            ]
           ],
           "hovertemplate": "team_abbreviation=IND<br>season=%{customdata[0]}<br>Total Personal Fouls=%{x}<br>Average Defensive Efficiency=%{y}<extra></extra>",
           "legendgroup": "IND",
           "marker": {
            "color": "#636efa",
            "symbol": "circle"
           },
           "mode": "markers",
           "name": "IND",
           "orientation": "v",
           "showlegend": true,
           "type": "scatter",
           "x": [
            899
           ],
           "xaxis": "x",
           "y": [
            102.99004357565623
           ],
           "yaxis": "y"
          },
          {
           "customdata": [
            [
             "2021-2022"
            ]
           ],
           "hovertemplate": "team_abbreviation=LAC<br>season=%{customdata[0]}<br>Total Personal Fouls=%{x}<br>Average Defensive Efficiency=%{y}<extra></extra>",
           "legendgroup": "LAC",
           "marker": {
            "color": "#EF553B",
            "symbol": "circle"
           },
           "mode": "markers",
           "name": "LAC",
           "orientation": "v",
           "showlegend": true,
           "type": "scatter",
           "x": [
            907
           ],
           "xaxis": "x",
           "y": [
            100.17508042591422
           ],
           "yaxis": "y"
          },
          {
           "customdata": [
            [
             "2021-2022"
            ]
           ],
           "hovertemplate": "team_abbreviation=LAL<br>season=%{customdata[0]}<br>Total Personal Fouls=%{x}<br>Average Defensive Efficiency=%{y}<extra></extra>",
           "legendgroup": "LAL",
           "marker": {
            "color": "#00cc96",
            "symbol": "circle"
           },
           "mode": "markers",
           "name": "LAL",
           "orientation": "v",
           "showlegend": true,
           "type": "scatter",
           "x": [
            979
           ],
           "xaxis": "x",
           "y": [
            97.31097990202346
           ],
           "yaxis": "y"
          },
          {
           "customdata": [
            [
             "2021-2022"
            ]
           ],
           "hovertemplate": "team_abbreviation=MEM<br>season=%{customdata[0]}<br>Total Personal Fouls=%{x}<br>Average Defensive Efficiency=%{y}<extra></extra>",
           "legendgroup": "MEM",
           "marker": {
            "color": "#ab63fa",
            "symbol": "circle"
           },
           "mode": "markers",
           "name": "MEM",
           "orientation": "v",
           "showlegend": true,
           "type": "scatter",
           "x": [
            865
           ],
           "xaxis": "x",
           "y": [
            94.5505928186878
           ],
           "yaxis": "y"
          },
          {
           "customdata": [
            [
             "2021-2022"
            ]
           ],
           "hovertemplate": "team_abbreviation=MIA<br>season=%{customdata[0]}<br>Total Personal Fouls=%{x}<br>Average Defensive Efficiency=%{y}<extra></extra>",
           "legendgroup": "MIA",
           "marker": {
            "color": "#FFA15A",
            "symbol": "circle"
           },
           "mode": "markers",
           "name": "MIA",
           "orientation": "v",
           "showlegend": true,
           "type": "scatter",
           "x": [
            1001
           ],
           "xaxis": "x",
           "y": [
            101.2235174629296
           ],
           "yaxis": "y"
          },
          {
           "customdata": [
            [
             "2021-2022"
            ]
           ],
           "hovertemplate": "team_abbreviation=MIL<br>season=%{customdata[0]}<br>Total Personal Fouls=%{x}<br>Average Defensive Efficiency=%{y}<extra></extra>",
           "legendgroup": "MIL",
           "marker": {
            "color": "#19d3f3",
            "symbol": "circle"
           },
           "mode": "markers",
           "name": "MIL",
           "orientation": "v",
           "showlegend": true,
           "type": "scatter",
           "x": [
            872
           ],
           "xaxis": "x",
           "y": [
            100.20009205514248
           ],
           "yaxis": "y"
          },
          {
           "customdata": [
            [
             "2021-2022"
            ]
           ],
           "hovertemplate": "team_abbreviation=MIN<br>season=%{customdata[0]}<br>Total Personal Fouls=%{x}<br>Average Defensive Efficiency=%{y}<extra></extra>",
           "legendgroup": "MIN",
           "marker": {
            "color": "#FF6692",
            "symbol": "circle"
           },
           "mode": "markers",
           "name": "MIN",
           "orientation": "v",
           "showlegend": true,
           "type": "scatter",
           "x": [
            954
           ],
           "xaxis": "x",
           "y": [
            99.42515903594416
           ],
           "yaxis": "y"
          },
          {
           "customdata": [
            [
             "2021-2022"
            ]
           ],
           "hovertemplate": "team_abbreviation=NYK<br>season=%{customdata[0]}<br>Total Personal Fouls=%{x}<br>Average Defensive Efficiency=%{y}<extra></extra>",
           "legendgroup": "NYK",
           "marker": {
            "color": "#B6E880",
            "symbol": "circle"
           },
           "mode": "markers",
           "name": "NYK",
           "orientation": "v",
           "showlegend": true,
           "type": "scatter",
           "x": [
            998
           ],
           "xaxis": "x",
           "y": [
            99.95309961179913
           ],
           "yaxis": "y"
          },
          {
           "customdata": [
            [
             "2021-2022"
            ]
           ],
           "hovertemplate": "team_abbreviation=OKC<br>season=%{customdata[0]}<br>Total Personal Fouls=%{x}<br>Average Defensive Efficiency=%{y}<extra></extra>",
           "legendgroup": "OKC",
           "marker": {
            "color": "#FF97FF",
            "symbol": "circle"
           },
           "mode": "markers",
           "name": "OKC",
           "orientation": "v",
           "showlegend": true,
           "type": "scatter",
           "x": [
            876
           ],
           "xaxis": "x",
           "y": [
            99.88346529068068
           ],
           "yaxis": "y"
          },
          {
           "customdata": [
            [
             "2021-2022"
            ]
           ],
           "hovertemplate": "team_abbreviation=ORL<br>season=%{customdata[0]}<br>Total Personal Fouls=%{x}<br>Average Defensive Efficiency=%{y}<extra></extra>",
           "legendgroup": "ORL",
           "marker": {
            "color": "#FECB52",
            "symbol": "circle"
           },
           "mode": "markers",
           "name": "ORL",
           "orientation": "v",
           "showlegend": true,
           "type": "scatter",
           "x": [
            869
           ],
           "xaxis": "x",
           "y": [
            102.94647845355637
           ],
           "yaxis": "y"
          },
          {
           "customdata": [
            [
             "2021-2022"
            ]
           ],
           "hovertemplate": "team_abbreviation=PHI<br>season=%{customdata[0]}<br>Total Personal Fouls=%{x}<br>Average Defensive Efficiency=%{y}<extra></extra>",
           "legendgroup": "PHI",
           "marker": {
            "color": "#636efa",
            "symbol": "circle"
           },
           "mode": "markers",
           "name": "PHI",
           "orientation": "v",
           "showlegend": true,
           "type": "scatter",
           "x": [
            981
           ],
           "xaxis": "x",
           "y": [
            99.47617080624606
           ],
           "yaxis": "y"
          },
          {
           "customdata": [
            [
             "2021-2022"
            ]
           ],
           "hovertemplate": "team_abbreviation=PHX<br>season=%{customdata[0]}<br>Total Personal Fouls=%{x}<br>Average Defensive Efficiency=%{y}<extra></extra>",
           "legendgroup": "PHX",
           "marker": {
            "color": "#EF553B",
            "symbol": "circle"
           },
           "mode": "markers",
           "name": "PHX",
           "orientation": "v",
           "showlegend": true,
           "type": "scatter",
           "x": [
            1007
           ],
           "xaxis": "x",
           "y": [
            98.90911150376768
           ],
           "yaxis": "y"
          },
          {
           "customdata": [
            [
             "2021-2022"
            ]
           ],
           "hovertemplate": "team_abbreviation=POR<br>season=%{customdata[0]}<br>Total Personal Fouls=%{x}<br>Average Defensive Efficiency=%{y}<extra></extra>",
           "legendgroup": "POR",
           "marker": {
            "color": "#00cc96",
            "symbol": "circle"
           },
           "mode": "markers",
           "name": "POR",
           "orientation": "v",
           "showlegend": true,
           "type": "scatter",
           "x": [
            820
           ],
           "xaxis": "x",
           "y": [
            106.30240595572802
           ],
           "yaxis": "y"
          },
          {
           "customdata": [
            [
             "2021-2022"
            ]
           ],
           "hovertemplate": "team_abbreviation=SAC<br>season=%{customdata[0]}<br>Total Personal Fouls=%{x}<br>Average Defensive Efficiency=%{y}<extra></extra>",
           "legendgroup": "SAC",
           "marker": {
            "color": "#ab63fa",
            "symbol": "circle"
           },
           "mode": "markers",
           "name": "SAC",
           "orientation": "v",
           "showlegend": true,
           "type": "scatter",
           "x": [
            941
           ],
           "xaxis": "x",
           "y": [
            105.15590990094461
           ],
           "yaxis": "y"
          },
          {
           "customdata": [
            [
             "2021-2022"
            ]
           ],
           "hovertemplate": "team_abbreviation=SAS<br>season=%{customdata[0]}<br>Total Personal Fouls=%{x}<br>Average Defensive Efficiency=%{y}<extra></extra>",
           "legendgroup": "SAS",
           "marker": {
            "color": "#FFA15A",
            "symbol": "circle"
           },
           "mode": "markers",
           "name": "SAS",
           "orientation": "v",
           "showlegend": true,
           "type": "scatter",
           "x": [
            874
           ],
           "xaxis": "x",
           "y": [
            104.84627127981732
           ],
           "yaxis": "y"
          },
          {
           "customdata": [
            [
             "2021-2022"
            ]
           ],
           "hovertemplate": "team_abbreviation=TOR<br>season=%{customdata[0]}<br>Total Personal Fouls=%{x}<br>Average Defensive Efficiency=%{y}<extra></extra>",
           "legendgroup": "TOR",
           "marker": {
            "color": "#19d3f3",
            "symbol": "circle"
           },
           "mode": "markers",
           "name": "TOR",
           "orientation": "v",
           "showlegend": true,
           "type": "scatter",
           "x": [
            910
           ],
           "xaxis": "x",
           "y": [
            100.14525541165476
           ],
           "yaxis": "y"
          },
          {
           "customdata": [
            [
             "2021-2022"
            ]
           ],
           "hovertemplate": "team_abbreviation=UTA<br>season=%{customdata[0]}<br>Total Personal Fouls=%{x}<br>Average Defensive Efficiency=%{y}<extra></extra>",
           "legendgroup": "UTA",
           "marker": {
            "color": "#FF6692",
            "symbol": "circle"
           },
           "mode": "markers",
           "name": "UTA",
           "orientation": "v",
           "showlegend": true,
           "type": "scatter",
           "x": [
            908
           ],
           "xaxis": "x",
           "y": [
            101.307165789373
           ],
           "yaxis": "y"
          },
          {
           "customdata": [
            [
             "2021-2022"
            ]
           ],
           "hovertemplate": "team_abbreviation=WAS<br>season=%{customdata[0]}<br>Total Personal Fouls=%{x}<br>Average Defensive Efficiency=%{y}<extra></extra>",
           "legendgroup": "WAS",
           "marker": {
            "color": "#B6E880",
            "symbol": "circle"
           },
           "mode": "markers",
           "name": "WAS",
           "orientation": "v",
           "showlegend": true,
           "type": "scatter",
           "x": [
            790
           ],
           "xaxis": "x",
           "y": [
            102.5733634404754
           ],
           "yaxis": "y"
          },
          {
           "customdata": [
            [
             "2021-2022"
            ]
           ],
           "hovertemplate": "team_abbreviation=BKN<br>season=%{customdata[0]}<br>Total Personal Fouls=%{x}<br>Average Defensive Efficiency=%{y}<extra></extra>",
           "legendgroup": "BKN",
           "marker": {
            "color": "#FF97FF",
            "symbol": "circle"
           },
           "mode": "markers",
           "name": "BKN",
           "orientation": "v",
           "showlegend": true,
           "type": "scatter",
           "x": [
            927
           ],
           "xaxis": "x",
           "y": [
            97.23697786389263
           ],
           "yaxis": "y"
          },
          {
           "customdata": [
            [
             "2021-2022"
            ]
           ],
           "hovertemplate": "team_abbreviation=NOP<br>season=%{customdata[0]}<br>Total Personal Fouls=%{x}<br>Average Defensive Efficiency=%{y}<extra></extra>",
           "legendgroup": "NOP",
           "marker": {
            "color": "#FECB52",
            "symbol": "circle"
           },
           "mode": "markers",
           "name": "NOP",
           "orientation": "v",
           "showlegend": true,
           "type": "scatter",
           "x": [
            862
           ],
           "xaxis": "x",
           "y": [
            98.93410754481968
           ],
           "yaxis": "y"
          }
         ],
         "name": "2021-2022"
        }
       ],
       "layout": {
        "legend": {
         "title": {
          "text": "team_abbreviation"
         },
         "tracegroupgap": 0
        },
        "sliders": [
         {
          "active": 0,
          "currentvalue": {
           "prefix": "season="
          },
          "len": 0.9,
          "pad": {
           "b": 10,
           "t": 60
          },
          "steps": [
           {
            "args": [
             [
              "2010-2011"
             ],
             {
              "frame": {
               "duration": 0,
               "redraw": false
              },
              "fromcurrent": true,
              "mode": "immediate",
              "transition": {
               "duration": 0,
               "easing": "linear"
              }
             }
            ],
            "label": "2010-2011",
            "method": "animate"
           },
           {
            "args": [
             [
              "2011-2012"
             ],
             {
              "frame": {
               "duration": 0,
               "redraw": false
              },
              "fromcurrent": true,
              "mode": "immediate",
              "transition": {
               "duration": 0,
               "easing": "linear"
              }
             }
            ],
            "label": "2011-2012",
            "method": "animate"
           },
           {
            "args": [
             [
              "2012-2013"
             ],
             {
              "frame": {
               "duration": 0,
               "redraw": false
              },
              "fromcurrent": true,
              "mode": "immediate",
              "transition": {
               "duration": 0,
               "easing": "linear"
              }
             }
            ],
            "label": "2012-2013",
            "method": "animate"
           },
           {
            "args": [
             [
              "2013-2014"
             ],
             {
              "frame": {
               "duration": 0,
               "redraw": false
              },
              "fromcurrent": true,
              "mode": "immediate",
              "transition": {
               "duration": 0,
               "easing": "linear"
              }
             }
            ],
            "label": "2013-2014",
            "method": "animate"
           },
           {
            "args": [
             [
              "2014-2015"
             ],
             {
              "frame": {
               "duration": 0,
               "redraw": false
              },
              "fromcurrent": true,
              "mode": "immediate",
              "transition": {
               "duration": 0,
               "easing": "linear"
              }
             }
            ],
            "label": "2014-2015",
            "method": "animate"
           },
           {
            "args": [
             [
              "2015-2016"
             ],
             {
              "frame": {
               "duration": 0,
               "redraw": false
              },
              "fromcurrent": true,
              "mode": "immediate",
              "transition": {
               "duration": 0,
               "easing": "linear"
              }
             }
            ],
            "label": "2015-2016",
            "method": "animate"
           },
           {
            "args": [
             [
              "2016-2017"
             ],
             {
              "frame": {
               "duration": 0,
               "redraw": false
              },
              "fromcurrent": true,
              "mode": "immediate",
              "transition": {
               "duration": 0,
               "easing": "linear"
              }
             }
            ],
            "label": "2016-2017",
            "method": "animate"
           },
           {
            "args": [
             [
              "2017-2018"
             ],
             {
              "frame": {
               "duration": 0,
               "redraw": false
              },
              "fromcurrent": true,
              "mode": "immediate",
              "transition": {
               "duration": 0,
               "easing": "linear"
              }
             }
            ],
            "label": "2017-2018",
            "method": "animate"
           },
           {
            "args": [
             [
              "2018-2019"
             ],
             {
              "frame": {
               "duration": 0,
               "redraw": false
              },
              "fromcurrent": true,
              "mode": "immediate",
              "transition": {
               "duration": 0,
               "easing": "linear"
              }
             }
            ],
            "label": "2018-2019",
            "method": "animate"
           },
           {
            "args": [
             [
              "2019-2020"
             ],
             {
              "frame": {
               "duration": 0,
               "redraw": false
              },
              "fromcurrent": true,
              "mode": "immediate",
              "transition": {
               "duration": 0,
               "easing": "linear"
              }
             }
            ],
            "label": "2019-2020",
            "method": "animate"
           },
           {
            "args": [
             [
              "2020-2021"
             ],
             {
              "frame": {
               "duration": 0,
               "redraw": false
              },
              "fromcurrent": true,
              "mode": "immediate",
              "transition": {
               "duration": 0,
               "easing": "linear"
              }
             }
            ],
            "label": "2020-2021",
            "method": "animate"
           },
           {
            "args": [
             [
              "2021-2022"
             ],
             {
              "frame": {
               "duration": 0,
               "redraw": false
              },
              "fromcurrent": true,
              "mode": "immediate",
              "transition": {
               "duration": 0,
               "easing": "linear"
              }
             }
            ],
            "label": "2021-2022",
            "method": "animate"
           }
          ],
          "x": 0.1,
          "xanchor": "left",
          "y": 0,
          "yanchor": "top"
         }
        ],
        "template": {
         "data": {
          "bar": [
           {
            "error_x": {
             "color": "#2a3f5f"
            },
            "error_y": {
             "color": "#2a3f5f"
            },
            "marker": {
             "line": {
              "color": "#E5ECF6",
              "width": 0.5
             },
             "pattern": {
              "fillmode": "overlay",
              "size": 10,
              "solidity": 0.2
             }
            },
            "type": "bar"
           }
          ],
          "barpolar": [
           {
            "marker": {
             "line": {
              "color": "#E5ECF6",
              "width": 0.5
             },
             "pattern": {
              "fillmode": "overlay",
              "size": 10,
              "solidity": 0.2
             }
            },
            "type": "barpolar"
           }
          ],
          "carpet": [
           {
            "aaxis": {
             "endlinecolor": "#2a3f5f",
             "gridcolor": "white",
             "linecolor": "white",
             "minorgridcolor": "white",
             "startlinecolor": "#2a3f5f"
            },
            "baxis": {
             "endlinecolor": "#2a3f5f",
             "gridcolor": "white",
             "linecolor": "white",
             "minorgridcolor": "white",
             "startlinecolor": "#2a3f5f"
            },
            "type": "carpet"
           }
          ],
          "choropleth": [
           {
            "colorbar": {
             "outlinewidth": 0,
             "ticks": ""
            },
            "type": "choropleth"
           }
          ],
          "contour": [
           {
            "colorbar": {
             "outlinewidth": 0,
             "ticks": ""
            },
            "colorscale": [
             [
              0,
              "#0d0887"
             ],
             [
              0.1111111111111111,
              "#46039f"
             ],
             [
              0.2222222222222222,
              "#7201a8"
             ],
             [
              0.3333333333333333,
              "#9c179e"
             ],
             [
              0.4444444444444444,
              "#bd3786"
             ],
             [
              0.5555555555555556,
              "#d8576b"
             ],
             [
              0.6666666666666666,
              "#ed7953"
             ],
             [
              0.7777777777777778,
              "#fb9f3a"
             ],
             [
              0.8888888888888888,
              "#fdca26"
             ],
             [
              1,
              "#f0f921"
             ]
            ],
            "type": "contour"
           }
          ],
          "contourcarpet": [
           {
            "colorbar": {
             "outlinewidth": 0,
             "ticks": ""
            },
            "type": "contourcarpet"
           }
          ],
          "heatmap": [
           {
            "colorbar": {
             "outlinewidth": 0,
             "ticks": ""
            },
            "colorscale": [
             [
              0,
              "#0d0887"
             ],
             [
              0.1111111111111111,
              "#46039f"
             ],
             [
              0.2222222222222222,
              "#7201a8"
             ],
             [
              0.3333333333333333,
              "#9c179e"
             ],
             [
              0.4444444444444444,
              "#bd3786"
             ],
             [
              0.5555555555555556,
              "#d8576b"
             ],
             [
              0.6666666666666666,
              "#ed7953"
             ],
             [
              0.7777777777777778,
              "#fb9f3a"
             ],
             [
              0.8888888888888888,
              "#fdca26"
             ],
             [
              1,
              "#f0f921"
             ]
            ],
            "type": "heatmap"
           }
          ],
          "heatmapgl": [
           {
            "colorbar": {
             "outlinewidth": 0,
             "ticks": ""
            },
            "colorscale": [
             [
              0,
              "#0d0887"
             ],
             [
              0.1111111111111111,
              "#46039f"
             ],
             [
              0.2222222222222222,
              "#7201a8"
             ],
             [
              0.3333333333333333,
              "#9c179e"
             ],
             [
              0.4444444444444444,
              "#bd3786"
             ],
             [
              0.5555555555555556,
              "#d8576b"
             ],
             [
              0.6666666666666666,
              "#ed7953"
             ],
             [
              0.7777777777777778,
              "#fb9f3a"
             ],
             [
              0.8888888888888888,
              "#fdca26"
             ],
             [
              1,
              "#f0f921"
             ]
            ],
            "type": "heatmapgl"
           }
          ],
          "histogram": [
           {
            "marker": {
             "pattern": {
              "fillmode": "overlay",
              "size": 10,
              "solidity": 0.2
             }
            },
            "type": "histogram"
           }
          ],
          "histogram2d": [
           {
            "colorbar": {
             "outlinewidth": 0,
             "ticks": ""
            },
            "colorscale": [
             [
              0,
              "#0d0887"
             ],
             [
              0.1111111111111111,
              "#46039f"
             ],
             [
              0.2222222222222222,
              "#7201a8"
             ],
             [
              0.3333333333333333,
              "#9c179e"
             ],
             [
              0.4444444444444444,
              "#bd3786"
             ],
             [
              0.5555555555555556,
              "#d8576b"
             ],
             [
              0.6666666666666666,
              "#ed7953"
             ],
             [
              0.7777777777777778,
              "#fb9f3a"
             ],
             [
              0.8888888888888888,
              "#fdca26"
             ],
             [
              1,
              "#f0f921"
             ]
            ],
            "type": "histogram2d"
           }
          ],
          "histogram2dcontour": [
           {
            "colorbar": {
             "outlinewidth": 0,
             "ticks": ""
            },
            "colorscale": [
             [
              0,
              "#0d0887"
             ],
             [
              0.1111111111111111,
              "#46039f"
             ],
             [
              0.2222222222222222,
              "#7201a8"
             ],
             [
              0.3333333333333333,
              "#9c179e"
             ],
             [
              0.4444444444444444,
              "#bd3786"
             ],
             [
              0.5555555555555556,
              "#d8576b"
             ],
             [
              0.6666666666666666,
              "#ed7953"
             ],
             [
              0.7777777777777778,
              "#fb9f3a"
             ],
             [
              0.8888888888888888,
              "#fdca26"
             ],
             [
              1,
              "#f0f921"
             ]
            ],
            "type": "histogram2dcontour"
           }
          ],
          "mesh3d": [
           {
            "colorbar": {
             "outlinewidth": 0,
             "ticks": ""
            },
            "type": "mesh3d"
           }
          ],
          "parcoords": [
           {
            "line": {
             "colorbar": {
              "outlinewidth": 0,
              "ticks": ""
             }
            },
            "type": "parcoords"
           }
          ],
          "pie": [
           {
            "automargin": true,
            "type": "pie"
           }
          ],
          "scatter": [
           {
            "fillpattern": {
             "fillmode": "overlay",
             "size": 10,
             "solidity": 0.2
            },
            "type": "scatter"
           }
          ],
          "scatter3d": [
           {
            "line": {
             "colorbar": {
              "outlinewidth": 0,
              "ticks": ""
             }
            },
            "marker": {
             "colorbar": {
              "outlinewidth": 0,
              "ticks": ""
             }
            },
            "type": "scatter3d"
           }
          ],
          "scattercarpet": [
           {
            "marker": {
             "colorbar": {
              "outlinewidth": 0,
              "ticks": ""
             }
            },
            "type": "scattercarpet"
           }
          ],
          "scattergeo": [
           {
            "marker": {
             "colorbar": {
              "outlinewidth": 0,
              "ticks": ""
             }
            },
            "type": "scattergeo"
           }
          ],
          "scattergl": [
           {
            "marker": {
             "colorbar": {
              "outlinewidth": 0,
              "ticks": ""
             }
            },
            "type": "scattergl"
           }
          ],
          "scattermapbox": [
           {
            "marker": {
             "colorbar": {
              "outlinewidth": 0,
              "ticks": ""
             }
            },
            "type": "scattermapbox"
           }
          ],
          "scatterpolar": [
           {
            "marker": {
             "colorbar": {
              "outlinewidth": 0,
              "ticks": ""
             }
            },
            "type": "scatterpolar"
           }
          ],
          "scatterpolargl": [
           {
            "marker": {
             "colorbar": {
              "outlinewidth": 0,
              "ticks": ""
             }
            },
            "type": "scatterpolargl"
           }
          ],
          "scatterternary": [
           {
            "marker": {
             "colorbar": {
              "outlinewidth": 0,
              "ticks": ""
             }
            },
            "type": "scatterternary"
           }
          ],
          "surface": [
           {
            "colorbar": {
             "outlinewidth": 0,
             "ticks": ""
            },
            "colorscale": [
             [
              0,
              "#0d0887"
             ],
             [
              0.1111111111111111,
              "#46039f"
             ],
             [
              0.2222222222222222,
              "#7201a8"
             ],
             [
              0.3333333333333333,
              "#9c179e"
             ],
             [
              0.4444444444444444,
              "#bd3786"
             ],
             [
              0.5555555555555556,
              "#d8576b"
             ],
             [
              0.6666666666666666,
              "#ed7953"
             ],
             [
              0.7777777777777778,
              "#fb9f3a"
             ],
             [
              0.8888888888888888,
              "#fdca26"
             ],
             [
              1,
              "#f0f921"
             ]
            ],
            "type": "surface"
           }
          ],
          "table": [
           {
            "cells": {
             "fill": {
              "color": "#EBF0F8"
             },
             "line": {
              "color": "white"
             }
            },
            "header": {
             "fill": {
              "color": "#C8D4E3"
             },
             "line": {
              "color": "white"
             }
            },
            "type": "table"
           }
          ]
         },
         "layout": {
          "annotationdefaults": {
           "arrowcolor": "#2a3f5f",
           "arrowhead": 0,
           "arrowwidth": 1
          },
          "autotypenumbers": "strict",
          "coloraxis": {
           "colorbar": {
            "outlinewidth": 0,
            "ticks": ""
           }
          },
          "colorscale": {
           "diverging": [
            [
             0,
             "#8e0152"
            ],
            [
             0.1,
             "#c51b7d"
            ],
            [
             0.2,
             "#de77ae"
            ],
            [
             0.3,
             "#f1b6da"
            ],
            [
             0.4,
             "#fde0ef"
            ],
            [
             0.5,
             "#f7f7f7"
            ],
            [
             0.6,
             "#e6f5d0"
            ],
            [
             0.7,
             "#b8e186"
            ],
            [
             0.8,
             "#7fbc41"
            ],
            [
             0.9,
             "#4d9221"
            ],
            [
             1,
             "#276419"
            ]
           ],
           "sequential": [
            [
             0,
             "#0d0887"
            ],
            [
             0.1111111111111111,
             "#46039f"
            ],
            [
             0.2222222222222222,
             "#7201a8"
            ],
            [
             0.3333333333333333,
             "#9c179e"
            ],
            [
             0.4444444444444444,
             "#bd3786"
            ],
            [
             0.5555555555555556,
             "#d8576b"
            ],
            [
             0.6666666666666666,
             "#ed7953"
            ],
            [
             0.7777777777777778,
             "#fb9f3a"
            ],
            [
             0.8888888888888888,
             "#fdca26"
            ],
            [
             1,
             "#f0f921"
            ]
           ],
           "sequentialminus": [
            [
             0,
             "#0d0887"
            ],
            [
             0.1111111111111111,
             "#46039f"
            ],
            [
             0.2222222222222222,
             "#7201a8"
            ],
            [
             0.3333333333333333,
             "#9c179e"
            ],
            [
             0.4444444444444444,
             "#bd3786"
            ],
            [
             0.5555555555555556,
             "#d8576b"
            ],
            [
             0.6666666666666666,
             "#ed7953"
            ],
            [
             0.7777777777777778,
             "#fb9f3a"
            ],
            [
             0.8888888888888888,
             "#fdca26"
            ],
            [
             1,
             "#f0f921"
            ]
           ]
          },
          "colorway": [
           "#636efa",
           "#EF553B",
           "#00cc96",
           "#ab63fa",
           "#FFA15A",
           "#19d3f3",
           "#FF6692",
           "#B6E880",
           "#FF97FF",
           "#FECB52"
          ],
          "font": {
           "color": "#2a3f5f"
          },
          "geo": {
           "bgcolor": "white",
           "lakecolor": "white",
           "landcolor": "#E5ECF6",
           "showlakes": true,
           "showland": true,
           "subunitcolor": "white"
          },
          "hoverlabel": {
           "align": "left"
          },
          "hovermode": "closest",
          "mapbox": {
           "style": "light"
          },
          "paper_bgcolor": "white",
          "plot_bgcolor": "#E5ECF6",
          "polar": {
           "angularaxis": {
            "gridcolor": "white",
            "linecolor": "white",
            "ticks": ""
           },
           "bgcolor": "#E5ECF6",
           "radialaxis": {
            "gridcolor": "white",
            "linecolor": "white",
            "ticks": ""
           }
          },
          "scene": {
           "xaxis": {
            "backgroundcolor": "#E5ECF6",
            "gridcolor": "white",
            "gridwidth": 2,
            "linecolor": "white",
            "showbackground": true,
            "ticks": "",
            "zerolinecolor": "white"
           },
           "yaxis": {
            "backgroundcolor": "#E5ECF6",
            "gridcolor": "white",
            "gridwidth": 2,
            "linecolor": "white",
            "showbackground": true,
            "ticks": "",
            "zerolinecolor": "white"
           },
           "zaxis": {
            "backgroundcolor": "#E5ECF6",
            "gridcolor": "white",
            "gridwidth": 2,
            "linecolor": "white",
            "showbackground": true,
            "ticks": "",
            "zerolinecolor": "white"
           }
          },
          "shapedefaults": {
           "line": {
            "color": "#2a3f5f"
           }
          },
          "ternary": {
           "aaxis": {
            "gridcolor": "white",
            "linecolor": "white",
            "ticks": ""
           },
           "baxis": {
            "gridcolor": "white",
            "linecolor": "white",
            "ticks": ""
           },
           "bgcolor": "#E5ECF6",
           "caxis": {
            "gridcolor": "white",
            "linecolor": "white",
            "ticks": ""
           }
          },
          "title": {
           "x": 0.05
          },
          "xaxis": {
           "automargin": true,
           "gridcolor": "white",
           "linecolor": "white",
           "ticks": "",
           "title": {
            "standoff": 15
           },
           "zerolinecolor": "white",
           "zerolinewidth": 2
          },
          "yaxis": {
           "automargin": true,
           "gridcolor": "white",
           "linecolor": "white",
           "ticks": "",
           "title": {
            "standoff": 15
           },
           "zerolinecolor": "white",
           "zerolinewidth": 2
          }
         }
        },
        "title": {
         "text": "Comparison of Total Personal Fouls and Defensive Efficiency by Season and Team"
        },
        "updatemenus": [
         {
          "buttons": [
           {
            "args": [
             null,
             {
              "frame": {
               "duration": 500,
               "redraw": false
              },
              "fromcurrent": true,
              "mode": "immediate",
              "transition": {
               "duration": 500,
               "easing": "linear"
              }
             }
            ],
            "label": "&#9654;",
            "method": "animate"
           },
           {
            "args": [
             [
              null
             ],
             {
              "frame": {
               "duration": 0,
               "redraw": false
              },
              "fromcurrent": true,
              "mode": "immediate",
              "transition": {
               "duration": 0,
               "easing": "linear"
              }
             }
            ],
            "label": "&#9724;",
            "method": "animate"
           }
          ],
          "direction": "left",
          "pad": {
           "r": 10,
           "t": 70
          },
          "showactive": false,
          "type": "buttons",
          "x": 0.1,
          "xanchor": "right",
          "y": 0,
          "yanchor": "top"
         }
        ],
        "xaxis": {
         "anchor": "y",
         "domain": [
          0,
          1
         ],
         "range": [
          0,
          1282
         ],
         "title": {
          "text": "Total Personal Fouls"
         }
        },
        "yaxis": {
         "anchor": "x",
         "domain": [
          0,
          1
         ],
         "range": [
          67.00270645507842,
          111.59297275957364
         ],
         "title": {
          "text": "Average Defensive Efficiency"
         }
        }
       }
      }
     },
     "metadata": {},
     "output_type": "display_data"
    }
   ],
   "source": [
    "# Load the CSV file\n",
    "data = pd.read_csv('./ALEC FOLDER/game 2.csv')\n",
    "\n",
    "# Convert the 'game_date' column to datetime format\n",
    "data['game_date'] = pd.to_datetime(data['game_date'])\n",
    "\n",
    "# Filter the data for games from 2012 onward\n",
    "df = data[data['game_date'].dt.year >= 2012]\n",
    "\n",
    "\n",
    "\n",
    "# Define a function to map season_id to the format \"YYYY-YYYY\"\n",
    "def map_season_id(season_id):\n",
    "    season_str = str(season_id)\n",
    "    start_year = int(season_str[-4:])  # Extract the last four digits\n",
    "    return f\"{start_year-1}-{start_year}\"  # Format it to \"YYYY-YYYY\"\n",
    "\n",
    "# Apply this function to create a 'season' column\n",
    "df['season'] = df['season_id'].apply(map_season_id)\n",
    "\n",
    "# Display the transformed data to check the new 'season' column\n",
    "print(df[['season_id', 'season']].drop_duplicates())\n",
    "\n",
    "\n",
    "\n",
    "\n",
    "# Define the list of 30 NBA teams\n",
    "nba_teams = ['ATL', 'BOS', 'BKN', 'CHA', 'CHI', 'CLE', 'DAL', 'DEN', 'DET', 'GSW',\n",
    "             'HOU', 'IND', 'LAC', 'LAL', 'MEM', 'MIA', 'MIL', 'MIN', 'NOP', 'NYK',\n",
    "             'OKC', 'ORL', 'PHI', 'PHX', 'POR', 'SAC', 'SAS', 'TOR', 'UTA', 'WAS']\n",
    "\n",
    "# Filter the teams\n",
    "df = df[(df['team_abbreviation_home'].isin(nba_teams)) & (df['team_abbreviation_away'].isin(nba_teams))]\n",
    "\n",
    "# Calculate points allowed\n",
    "df['pts_allowed_home'] = df['pts_away']\n",
    "df['pts_allowed_away'] = df['pts_home']\n",
    "\n",
    "# Calculate possessions\n",
    "df['poss_home'] = df['fga_home'] + df['tov_home'] + (0.44 * df['fta_home'])\n",
    "df['poss_away'] = df['fga_away'] + df['tov_away'] + (0.44 * df['fta_away'])\n",
    "\n",
    "# Calculate defensive efficiency\n",
    "df['def_eff_home'] = (df['pts_allowed_home'] / df['poss_away']) * 100\n",
    "df['def_eff_away'] = (df['pts_allowed_away'] / df['poss_home']) * 100\n",
    "\n",
    "# Calculate personal fouls per game\n",
    "df['pf_per_game_home'] = df['pf_home']\n",
    "df['pf_per_game_away'] = df['pf_away']\n",
    "\n",
    "# Calculate seasonal averages for defensive efficiency and personal fouls per game\n",
    "seasonal_stats = df.groupby(['season_id', 'team_name_home']).agg({\n",
    "    'def_eff_home': 'mean',\n",
    "    'pf_per_game_home': 'mean'\n",
    "}).reset_index()\n",
    "\n",
    "\n",
    "\n",
    "\n",
    "# Aggregating data by season and team abbreviation\n",
    "seasonal_team_stats = df.groupby(['season', 'team_abbreviation_home']).agg({\n",
    "    'pf_per_game_home': 'sum',  # Total personal fouls per season\n",
    "    'def_eff_home': 'mean'  # Average defensive efficiency per season\n",
    "}).reset_index()\n",
    "\n",
    "seasonal_team_stats.rename(columns={'team_abbreviation_home': 'team_abbreviation', 'pf_per_game_home': 'total_pf', 'def_eff_home': 'avg_def_eff'}, inplace=True)\n",
    "\n",
    "\n",
    "\n",
    "# Create a scatter plot to visualize the relationship\n",
    "fig = px.scatter(seasonal_team_stats, x='total_pf', y='avg_def_eff',\n",
    "                 color='team_abbreviation', hover_data=['season'],\n",
    "                 labels={'total_pf': 'Total Personal Fouls', 'avg_def_eff': 'Average Defensive Efficiency'},\n",
    "                 title='Comparison of Total Personal Fouls and Defensive Efficiency by Season and Team',\n",
    "                 animation_frame='season')  # Use 'season' for the slider\n",
    "\n",
    "# Update axes ranges\n",
    "# Assuming you know the data ranges, you can set them like this:\n",
    "fig.update_xaxes(range=[0, seasonal_team_stats['total_pf'].max() + 50])  # Add some padding to the maximum value\n",
    "fig.update_yaxes(range=[seasonal_team_stats['avg_def_eff'].min() - 5, seasonal_team_stats['avg_def_eff'].max() + 5])\n",
    "\n",
    "# Show the figure\n",
    "fig.show()\n",
    "\n"
   ]
  },
  {
   "cell_type": "markdown",
   "metadata": {},
   "source": [
    "### Jackson's "
   ]
  },
  {
   "cell_type": "code",
   "execution_count": 9,
   "metadata": {},
   "outputs": [
    {
     "name": "stderr",
     "output_type": "stream",
     "text": [
      "/Users/apple/miniconda3/lib/python3.11/site-packages/altair/utils/deprecation.py:65: AltairDeprecationWarning:\n",
      "\n",
      "'selection' is deprecated.\n",
      "   Use 'selection_point()' or 'selection_interval()' instead; these functions also include more helpful docstrings.\n",
      "\n",
      "/Users/apple/miniconda3/lib/python3.11/site-packages/altair/vegalite/v5/api.py:469: AltairDeprecationWarning:\n",
      "\n",
      "The types 'single' and 'multi' are now\n",
      "        combined and should be specified using \"selection_point()\".\n",
      "\n",
      "/Users/apple/miniconda3/lib/python3.11/site-packages/altair/utils/deprecation.py:65: AltairDeprecationWarning:\n",
      "\n",
      "'add_selection' is deprecated. Use 'add_params' instead.\n",
      "\n"
     ]
    },
    {
     "data": {
      "text/html": [
       "\n",
       "<style>\n",
       "  #altair-viz-408e0f6ea8b242b985929ac75dfc9774.vega-embed {\n",
       "    width: 100%;\n",
       "    display: flex;\n",
       "  }\n",
       "\n",
       "  #altair-viz-408e0f6ea8b242b985929ac75dfc9774.vega-embed details,\n",
       "  #altair-viz-408e0f6ea8b242b985929ac75dfc9774.vega-embed details summary {\n",
       "    position: relative;\n",
       "  }\n",
       "</style>\n",
       "<div id=\"altair-viz-408e0f6ea8b242b985929ac75dfc9774\"></div>\n",
       "<script type=\"text/javascript\">\n",
       "  var VEGA_DEBUG = (typeof VEGA_DEBUG == \"undefined\") ? {} : VEGA_DEBUG;\n",
       "  (function(spec, embedOpt){\n",
       "    let outputDiv = document.currentScript.previousElementSibling;\n",
       "    if (outputDiv.id !== \"altair-viz-408e0f6ea8b242b985929ac75dfc9774\") {\n",
       "      outputDiv = document.getElementById(\"altair-viz-408e0f6ea8b242b985929ac75dfc9774\");\n",
       "    }\n",
       "    const paths = {\n",
       "      \"vega\": \"https://cdn.jsdelivr.net/npm/vega@5?noext\",\n",
       "      \"vega-lib\": \"https://cdn.jsdelivr.net/npm/vega-lib?noext\",\n",
       "      \"vega-lite\": \"https://cdn.jsdelivr.net/npm/vega-lite@5.17.0?noext\",\n",
       "      \"vega-embed\": \"https://cdn.jsdelivr.net/npm/vega-embed@6?noext\",\n",
       "    };\n",
       "\n",
       "    function maybeLoadScript(lib, version) {\n",
       "      var key = `${lib.replace(\"-\", \"\")}_version`;\n",
       "      return (VEGA_DEBUG[key] == version) ?\n",
       "        Promise.resolve(paths[lib]) :\n",
       "        new Promise(function(resolve, reject) {\n",
       "          var s = document.createElement('script');\n",
       "          document.getElementsByTagName(\"head\")[0].appendChild(s);\n",
       "          s.async = true;\n",
       "          s.onload = () => {\n",
       "            VEGA_DEBUG[key] = version;\n",
       "            return resolve(paths[lib]);\n",
       "          };\n",
       "          s.onerror = () => reject(`Error loading script: ${paths[lib]}`);\n",
       "          s.src = paths[lib];\n",
       "        });\n",
       "    }\n",
       "\n",
       "    function showError(err) {\n",
       "      outputDiv.innerHTML = `<div class=\"error\" style=\"color:red;\">${err}</div>`;\n",
       "      throw err;\n",
       "    }\n",
       "\n",
       "    function displayChart(vegaEmbed) {\n",
       "      vegaEmbed(outputDiv, spec, embedOpt)\n",
       "        .catch(err => showError(`Javascript Error: ${err.message}<br>This usually means there's a typo in your chart specification. See the javascript console for the full traceback.`));\n",
       "    }\n",
       "\n",
       "    if(typeof define === \"function\" && define.amd) {\n",
       "      requirejs.config({paths});\n",
       "      require([\"vega-embed\"], displayChart, err => showError(`Error loading script: ${err.message}`));\n",
       "    } else {\n",
       "      maybeLoadScript(\"vega\", \"5\")\n",
       "        .then(() => maybeLoadScript(\"vega-lite\", \"5.17.0\"))\n",
       "        .then(() => maybeLoadScript(\"vega-embed\", \"6\"))\n",
       "        .catch(showError)\n",
       "        .then(() => displayChart(vegaEmbed));\n",
       "    }\n",
       "  })({\"config\": {\"view\": {\"continuousWidth\": 300, \"continuousHeight\": 300}}, \"data\": {\"name\": \"data-27a359531c2dd77e72a37bfc3033ab4a\"}, \"mark\": {\"type\": \"circle\", \"size\": 80}, \"encoding\": {\"color\": {\"field\": \"season\", \"legend\": {\"title\": \"Season\"}, \"scale\": {\"scheme\": \"viridis\"}, \"type\": \"ordinal\"}, \"tooltip\": [{\"field\": \"team\", \"type\": \"nominal\"}, {\"field\": \"arena\", \"type\": \"nominal\"}], \"x\": {\"field\": \"attend_g\", \"scale\": {\"domain\": [10000, 24000]}, \"title\": \"Average Fan Attendace at Home Stadium\", \"type\": \"quantitative\"}, \"y\": {\"field\": \"e_fg_percent\", \"scale\": {\"domain\": [0.43, 0.575]}, \"title\": \"Effective FG Percent\", \"type\": \"quantitative\"}}, \"height\": 400, \"params\": [{\"name\": \"Select\", \"select\": {\"type\": \"point\", \"fields\": [\"season\"]}, \"bind\": {\"input\": \"range\", \"max\": 2022, \"min\": 2012, \"step\": 1}}], \"title\": \"Relationship Between Fan Attendance and Effective Feild Goal Percentage\", \"transform\": [{\"filter\": {\"param\": \"Select\"}}], \"width\": 800, \"$schema\": \"https://vega.github.io/schema/vega-lite/v5.17.0.json\", \"datasets\": {\"data-27a359531c2dd77e72a37bfc3033ab4a\": [{\"Unnamed: 0\": 62, \"season\": 2022, \"lg\": \"NBA\", \"team\": \"Atlanta Hawks\", \"abbreviation\": \"ATL\", \"playoffs\": true, \"age\": 26.1, \"w\": 43.0, \"l\": 39.0, \"pw\": 45.0, \"pl\": 37.0, \"mov\": 1.56, \"sos\": -0.01, \"srs\": 1.55, \"o_rtg\": 116.5, \"d_rtg\": 114.9, \"n_rtg\": 1.6, \"pace\": 97.7, \"f_tr\": 0.253, \"x3p_ar\": 0.39, \"ts_percent\": 0.581, \"e_fg_percent\": 0.543, \"tov_percent\": 10.8, \"orb_percent\": 23.0, \"ft_fga\": 0.205, \"opp_e_fg_percent\": 0.543, \"opp_tov_percent\": 11.5, \"opp_drb_percent\": 76.9, \"opp_ft_fga\": 0.177, \"arena\": \"State Farm Arena\", \"attend\": 672742.0, \"attend_g\": 16408.0}, {\"Unnamed: 0\": 63, \"season\": 2022, \"lg\": \"NBA\", \"team\": \"Boston Celtics\", \"abbreviation\": \"BOS\", \"playoffs\": true, \"age\": 26.1, \"w\": 51.0, \"l\": 31.0, \"pw\": 59.0, \"pl\": 23.0, \"mov\": 7.28, \"sos\": -0.26, \"srs\": 7.02, \"o_rtg\": 114.4, \"d_rtg\": 106.9, \"n_rtg\": 7.5, \"pace\": 96.6, \"f_tr\": 0.239, \"x3p_ar\": 0.425, \"ts_percent\": 0.578, \"e_fg_percent\": 0.542, \"tov_percent\": 12.4, \"orb_percent\": 24.0, \"ft_fga\": 0.195, \"opp_e_fg_percent\": 0.502, \"opp_tov_percent\": 12.5, \"opp_drb_percent\": 77.3, \"opp_ft_fga\": 0.183, \"arena\": \"TD Garden\", \"attend\": 727928.0, \"attend_g\": 17754.0}, {\"Unnamed: 0\": 64, \"season\": 2022, \"lg\": \"NBA\", \"team\": \"Brooklyn Nets\", \"abbreviation\": \"BRK\", \"playoffs\": true, \"age\": 29.1, \"w\": 44.0, \"l\": 38.0, \"pw\": 43.0, \"pl\": 39.0, \"mov\": 0.78, \"sos\": 0.04, \"srs\": 0.82, \"o_rtg\": 113.6, \"d_rtg\": 112.8, \"n_rtg\": 0.8, \"pace\": 99.0, \"f_tr\": 0.246, \"x3p_ar\": 0.359, \"ts_percent\": 0.576, \"e_fg_percent\": 0.54, \"tov_percent\": 12.5, \"orb_percent\": 23.9, \"ft_fga\": 0.198, \"opp_e_fg_percent\": 0.521, \"opp_tov_percent\": 11.7, \"opp_drb_percent\": 75.1, \"opp_ft_fga\": 0.201, \"arena\": \"Barclays Center\", \"attend\": 711539.0, \"attend_g\": 17355.0}, {\"Unnamed: 0\": 65, \"season\": 2022, \"lg\": \"NBA\", \"team\": \"Chicago Bulls\", \"abbreviation\": \"CHI\", \"playoffs\": true, \"age\": 26.3, \"w\": 46.0, \"l\": 36.0, \"pw\": 40.0, \"pl\": 42.0, \"mov\": -0.39, \"sos\": 0.02, \"srs\": -0.38, \"o_rtg\": 113.2, \"d_rtg\": 113.6, \"n_rtg\": -0.4, \"pace\": 98.3, \"f_tr\": 0.248, \"x3p_ar\": 0.332, \"ts_percent\": 0.579, \"e_fg_percent\": 0.541, \"tov_percent\": 11.8, \"orb_percent\": 20.4, \"ft_fga\": 0.201, \"opp_e_fg_percent\": 0.541, \"opp_tov_percent\": 11.9, \"opp_drb_percent\": 78.3, \"opp_ft_fga\": 0.199, \"arena\": \"United Center\", \"attend\": 856148.0, \"attend_g\": 20882.0}, {\"Unnamed: 0\": 66, \"season\": 2022, \"lg\": \"NBA\", \"team\": \"Charlotte Hornets\", \"abbreviation\": \"CHO\", \"playoffs\": false, \"age\": 25.5, \"w\": 43.0, \"l\": 39.0, \"pw\": 42.0, \"pl\": 40.0, \"mov\": 0.44, \"sos\": 0.09, \"srs\": 0.53, \"o_rtg\": 114.1, \"d_rtg\": 113.7, \"n_rtg\": 0.4, \"pace\": 100.0, \"f_tr\": 0.234, \"x3p_ar\": 0.418, \"ts_percent\": 0.572, \"e_fg_percent\": 0.544, \"tov_percent\": 11.6, \"orb_percent\": 23.3, \"ft_fga\": 0.173, \"opp_e_fg_percent\": 0.544, \"opp_tov_percent\": 13.1, \"opp_drb_percent\": 74.8, \"opp_ft_fga\": 0.187, \"arena\": \"Spectrum Center\", \"attend\": 700755.0, \"attend_g\": 17092.0}, {\"Unnamed: 0\": 67, \"season\": 2022, \"lg\": \"NBA\", \"team\": \"Cleveland Cavaliers\", \"abbreviation\": \"CLE\", \"playoffs\": false, \"age\": 24.7, \"w\": 44.0, \"l\": 38.0, \"pw\": 47.0, \"pl\": 35.0, \"mov\": 2.12, \"sos\": -0.08, \"srs\": 2.04, \"o_rtg\": 111.9, \"d_rtg\": 109.7, \"n_rtg\": 2.2, \"pace\": 96.1, \"f_tr\": 0.261, \"x3p_ar\": 0.387, \"ts_percent\": 0.571, \"e_fg_percent\": 0.538, \"tov_percent\": 13.2, \"orb_percent\": 24.0, \"ft_fga\": 0.198, \"opp_e_fg_percent\": 0.52, \"opp_tov_percent\": 12.3, \"opp_drb_percent\": 76.5, \"opp_ft_fga\": 0.172, \"arena\": \"Rocket Mortgage Fieldhouse\", \"attend\": 758228.0, \"attend_g\": 18493.0}, {\"Unnamed: 0\": 68, \"season\": 2022, \"lg\": \"NBA\", \"team\": \"Dallas Mavericks\", \"abbreviation\": \"DAL\", \"playoffs\": true, \"age\": 26.7, \"w\": 52.0, \"l\": 30.0, \"pw\": 50.0, \"pl\": 32.0, \"mov\": 3.3, \"sos\": -0.18, \"srs\": 3.12, \"o_rtg\": 112.8, \"d_rtg\": 109.4, \"n_rtg\": 3.4, \"pace\": 95.4, \"f_tr\": 0.249, \"x3p_ar\": 0.439, \"ts_percent\": 0.572, \"e_fg_percent\": 0.538, \"tov_percent\": 11.7, \"orb_percent\": 21.3, \"ft_fga\": 0.192, \"opp_e_fg_percent\": 0.521, \"opp_tov_percent\": 12.2, \"opp_drb_percent\": 78.0, \"opp_ft_fga\": 0.185, \"arena\": \"American Airlines Center\", \"attend\": 808037.0, \"attend_g\": 19708.0}, {\"Unnamed: 0\": 69, \"season\": 2022, \"lg\": \"NBA\", \"team\": \"Denver Nuggets\", \"abbreviation\": \"DEN\", \"playoffs\": true, \"age\": 27.7, \"w\": 48.0, \"l\": 34.0, \"pw\": 47.0, \"pl\": 35.0, \"mov\": 2.3, \"sos\": -0.15, \"srs\": 2.16, \"o_rtg\": 114.5, \"d_rtg\": 112.1, \"n_rtg\": 2.4, \"pace\": 97.8, \"f_tr\": 0.244, \"x3p_ar\": 0.416, \"ts_percent\": 0.59, \"e_fg_percent\": 0.556, \"tov_percent\": 13.2, \"orb_percent\": 21.9, \"ft_fga\": 0.194, \"opp_e_fg_percent\": 0.537, \"opp_tov_percent\": 11.7, \"opp_drb_percent\": 78.3, \"opp_ft_fga\": 0.188, \"arena\": \"Ball Arena\", \"attend\": 695262.0, \"attend_g\": 16958.0}, {\"Unnamed: 0\": 70, \"season\": 2022, \"lg\": \"NBA\", \"team\": \"Detroit Pistons\", \"abbreviation\": \"DET\", \"playoffs\": false, \"age\": 23.6, \"w\": 23.0, \"l\": 59.0, \"pw\": 22.0, \"pl\": 60.0, \"mov\": -7.72, \"sos\": 0.37, \"srs\": -7.36, \"o_rtg\": 106.0, \"d_rtg\": 113.8, \"n_rtg\": -7.8, \"pace\": 98.4, \"f_tr\": 0.249, \"x3p_ar\": 0.391, \"ts_percent\": 0.533, \"e_fg_percent\": 0.494, \"tov_percent\": 12.6, \"orb_percent\": 23.4, \"ft_fga\": 0.194, \"opp_e_fg_percent\": 0.541, \"opp_tov_percent\": 13.1, \"opp_drb_percent\": 75.6, \"opp_ft_fga\": 0.226, \"arena\": \"Little Caesars Arena\", \"attend\": 663556.0, \"attend_g\": 16184.0}, {\"Unnamed: 0\": 71, \"season\": 2022, \"lg\": \"NBA\", \"team\": \"Golden State Warriors\", \"abbreviation\": \"GSW\", \"playoffs\": true, \"age\": 27.6, \"w\": 53.0, \"l\": 29.0, \"pw\": 55.0, \"pl\": 27.0, \"mov\": 5.54, \"sos\": -0.02, \"srs\": 5.52, \"o_rtg\": 112.5, \"d_rtg\": 106.9, \"n_rtg\": 5.6, \"pace\": 98.4, \"f_tr\": 0.235, \"x3p_ar\": 0.456, \"ts_percent\": 0.582, \"e_fg_percent\": 0.552, \"tov_percent\": 13.5, \"orb_percent\": 22.8, \"ft_fga\": 0.181, \"opp_e_fg_percent\": 0.509, \"opp_tov_percent\": 13.0, \"opp_drb_percent\": 78.7, \"opp_ft_fga\": 0.201, \"arena\": \"Chase Center\", \"attend\": 740624.0, \"attend_g\": 18064.0}, {\"Unnamed: 0\": 72, \"season\": 2022, \"lg\": \"NBA\", \"team\": \"Houston Rockets\", \"abbreviation\": \"HOU\", \"playoffs\": false, \"age\": 24.1, \"w\": 20.0, \"l\": 62.0, \"pw\": 21.0, \"pl\": 61.0, \"mov\": -8.48, \"sos\": 0.22, \"srs\": -8.26, \"o_rtg\": 108.4, \"d_rtg\": 116.7, \"n_rtg\": -8.3, \"pace\": 100.9, \"f_tr\": 0.284, \"x3p_ar\": 0.448, \"ts_percent\": 0.565, \"e_fg_percent\": 0.534, \"tov_percent\": 14.5, \"orb_percent\": 21.7, \"ft_fga\": 0.202, \"opp_e_fg_percent\": 0.554, \"opp_tov_percent\": 12.3, \"opp_drb_percent\": 74.4, \"opp_ft_fga\": 0.206, \"arena\": \"Toyota Center\", \"attend\": 638977.0, \"attend_g\": 15585.0}, {\"Unnamed: 0\": 73, \"season\": 2022, \"lg\": \"NBA\", \"team\": \"Indiana Pacers\", \"abbreviation\": \"IND\", \"playoffs\": false, \"age\": 26.0, \"w\": 25.0, \"l\": 57.0, \"pw\": 32.0, \"pl\": 50.0, \"mov\": -3.48, \"sos\": 0.22, \"srs\": -3.26, \"o_rtg\": 112.6, \"d_rtg\": 116.1, \"n_rtg\": -3.5, \"pace\": 98.0, \"f_tr\": 0.239, \"x3p_ar\": 0.395, \"ts_percent\": 0.564, \"e_fg_percent\": 0.531, \"tov_percent\": 12.7, \"orb_percent\": 25.5, \"ft_fga\": 0.184, \"opp_e_fg_percent\": 0.552, \"opp_tov_percent\": 11.9, \"opp_drb_percent\": 76.2, \"opp_ft_fga\": 0.204, \"arena\": \"Gainbridge Fieldhouse\", \"attend\": 588743.0, \"attend_g\": 14360.0}, {\"Unnamed: 0\": 74, \"season\": 2022, \"lg\": \"NBA\", \"team\": \"Los Angeles Clippers\", \"abbreviation\": \"LAC\", \"playoffs\": false, \"age\": 27.5, \"w\": 42.0, \"l\": 40.0, \"pw\": 41.0, \"pl\": 41.0, \"mov\": 0.02, \"sos\": 0.06, \"srs\": 0.09, \"o_rtg\": 110.1, \"d_rtg\": 110.1, \"n_rtg\": 0.0, \"pace\": 98.0, \"f_tr\": 0.224, \"x3p_ar\": 0.391, \"ts_percent\": 0.564, \"e_fg_percent\": 0.531, \"tov_percent\": 12.5, \"orb_percent\": 20.6, \"ft_fga\": 0.178, \"opp_e_fg_percent\": 0.514, \"opp_tov_percent\": 12.0, \"opp_drb_percent\": 74.4, \"opp_ft_fga\": 0.167, \"arena\": \"Crypto.com Arena\", \"attend\": 694005.0, \"attend_g\": 16927.0}, {\"Unnamed: 0\": 75, \"season\": 2022, \"lg\": \"NBA\", \"team\": \"Los Angeles Lakers\", \"abbreviation\": \"LAL\", \"playoffs\": false, \"age\": 30.2, \"w\": 33.0, \"l\": 49.0, \"pw\": 33.0, \"pl\": 49.0, \"mov\": -3.05, \"sos\": -0.03, \"srs\": -3.08, \"o_rtg\": 110.3, \"d_rtg\": 113.3, \"n_rtg\": -3.0, \"pace\": 100.1, \"f_tr\": 0.259, \"x3p_ar\": 0.388, \"ts_percent\": 0.567, \"e_fg_percent\": 0.537, \"tov_percent\": 12.8, \"orb_percent\": 21.1, \"ft_fga\": 0.19, \"opp_e_fg_percent\": 0.54, \"opp_tov_percent\": 12.2, \"opp_drb_percent\": 75.8, \"opp_ft_fga\": 0.192, \"arena\": \"Crypto.com Arena\", \"attend\": 764631.0, \"attend_g\": 18650.0}, {\"Unnamed: 0\": 76, \"season\": 2022, \"lg\": \"NBA\", \"team\": \"Memphis Grizzlies\", \"abbreviation\": \"MEM\", \"playoffs\": true, \"age\": 24.0, \"w\": 56.0, \"l\": 26.0, \"pw\": 55.0, \"pl\": 27.0, \"mov\": 5.68, \"sos\": -0.32, \"srs\": 5.37, \"o_rtg\": 114.6, \"d_rtg\": 109.0, \"n_rtg\": 5.6, \"pace\": 100.3, \"f_tr\": 0.245, \"x3p_ar\": 0.346, \"ts_percent\": 0.553, \"e_fg_percent\": 0.522, \"tov_percent\": 11.2, \"orb_percent\": 30.0, \"ft_fga\": 0.18, \"opp_e_fg_percent\": 0.523, \"opp_tov_percent\": 13.3, \"opp_drb_percent\": 77.8, \"opp_ft_fga\": 0.195, \"arena\": \"FedEx Forum\", \"attend\": 646785.0, \"attend_g\": 15775.0}, {\"Unnamed: 0\": 77, \"season\": 2022, \"lg\": \"NBA\", \"team\": \"Miami Heat\", \"abbreviation\": \"MIA\", \"playoffs\": true, \"age\": 28.2, \"w\": 53.0, \"l\": 29.0, \"pw\": 53.0, \"pl\": 29.0, \"mov\": 4.45, \"sos\": -0.22, \"srs\": 4.23, \"o_rtg\": 113.7, \"d_rtg\": 109.1, \"n_rtg\": 4.6, \"pace\": 95.9, \"f_tr\": 0.252, \"x3p_ar\": 0.422, \"ts_percent\": 0.584, \"e_fg_percent\": 0.547, \"tov_percent\": 13.4, \"orb_percent\": 23.5, \"ft_fga\": 0.204, \"opp_e_fg_percent\": 0.524, \"opp_tov_percent\": 13.8, \"opp_drb_percent\": 78.0, \"opp_ft_fga\": 0.209, \"arena\": \"FTX Arena\", \"attend\": 804761.0, \"attend_g\": 19628.0}, {\"Unnamed: 0\": 78, \"season\": 2022, \"lg\": \"NBA\", \"team\": \"Milwaukee Bucks\", \"abbreviation\": \"MIL\", \"playoffs\": true, \"age\": 28.5, \"w\": 51.0, \"l\": 31.0, \"pw\": 49.0, \"pl\": 33.0, \"mov\": 3.35, \"sos\": -0.14, \"srs\": 3.22, \"o_rtg\": 115.1, \"d_rtg\": 111.8, \"n_rtg\": 3.3, \"pace\": 99.9, \"f_tr\": 0.257, \"x3p_ar\": 0.43, \"ts_percent\": 0.58, \"e_fg_percent\": 0.546, \"tov_percent\": 11.9, \"orb_percent\": 23.0, \"ft_fga\": 0.199, \"opp_e_fg_percent\": 0.536, \"opp_tov_percent\": 11.6, \"opp_drb_percent\": 78.6, \"opp_ft_fga\": 0.165, \"arena\": \"Fiserv Forum\", \"attend\": 715581.0, \"attend_g\": 17453.0}, {\"Unnamed: 0\": 79, \"season\": 2022, \"lg\": \"NBA\", \"team\": \"Minnesota Timberwolves\", \"abbreviation\": \"MIN\", \"playoffs\": true, \"age\": 24.2, \"w\": 46.0, \"l\": 36.0, \"pw\": 48.0, \"pl\": 34.0, \"mov\": 2.63, \"sos\": -0.1, \"srs\": 2.53, \"o_rtg\": 114.3, \"d_rtg\": 111.7, \"n_rtg\": 2.6, \"pace\": 100.9, \"f_tr\": 0.254, \"x3p_ar\": 0.454, \"ts_percent\": 0.573, \"e_fg_percent\": 0.539, \"tov_percent\": 12.4, \"orb_percent\": 24.4, \"ft_fga\": 0.198, \"opp_e_fg_percent\": 0.535, \"opp_tov_percent\": 14.2, \"opp_drb_percent\": 74.9, \"opp_ft_fga\": 0.227, \"arena\": \"Target Center\", \"attend\": 657148.0, \"attend_g\": 16028.0}, {\"Unnamed: 0\": 80, \"season\": 2022, \"lg\": \"NBA\", \"team\": \"New Orleans Pelicans\", \"abbreviation\": \"NOP\", \"playoffs\": true, \"age\": 25.6, \"w\": 36.0, \"l\": 46.0, \"pw\": 38.0, \"pl\": 44.0, \"mov\": -0.99, \"sos\": 0.15, \"srs\": -0.84, \"o_rtg\": 112.0, \"d_rtg\": 113.0, \"n_rtg\": -1.0, \"pace\": 97.2, \"f_tr\": 0.264, \"x3p_ar\": 0.365, \"ts_percent\": 0.557, \"e_fg_percent\": 0.517, \"tov_percent\": 12.5, \"orb_percent\": 26.9, \"ft_fga\": 0.208, \"opp_e_fg_percent\": 0.547, \"opp_tov_percent\": 13.0, \"opp_drb_percent\": 78.2, \"opp_ft_fga\": 0.196, \"arena\": \"Smoothie King Center\", \"attend\": 635941.0, \"attend_g\": 15511.0}, {\"Unnamed: 0\": 81, \"season\": 2022, \"lg\": \"NBA\", \"team\": \"New York Knicks\", \"abbreviation\": \"NYK\", \"playoffs\": false, \"age\": 26.0, \"w\": 37.0, \"l\": 45.0, \"pw\": 41.0, \"pl\": 41.0, \"mov\": -0.12, \"sos\": 0.11, \"srs\": -0.01, \"o_rtg\": 110.4, \"d_rtg\": 110.5, \"n_rtg\": -0.1, \"pace\": 95.9, \"f_tr\": 0.28, \"x3p_ar\": 0.428, \"ts_percent\": 0.55, \"e_fg_percent\": 0.513, \"tov_percent\": 12.0, \"orb_percent\": 25.1, \"ft_fga\": 0.208, \"opp_e_fg_percent\": 0.521, \"opp_tov_percent\": 11.7, \"opp_drb_percent\": 78.8, \"opp_ft_fga\": 0.198, \"arena\": \"Madison Square Garden (IV)\", \"attend\": 763484.0, \"attend_g\": 18622.0}, {\"Unnamed: 0\": 82, \"season\": 2022, \"lg\": \"NBA\", \"team\": \"Oklahoma City Thunder\", \"abbreviation\": \"OKC\", \"playoffs\": false, \"age\": 22.4, \"w\": 24.0, \"l\": 58.0, \"pw\": 21.0, \"pl\": 61.0, \"mov\": -8.1, \"sos\": 0.2, \"srs\": -7.9, \"o_rtg\": 104.6, \"d_rtg\": 112.8, \"n_rtg\": -8.2, \"pace\": 98.5, \"f_tr\": 0.223, \"x3p_ar\": 0.419, \"ts_percent\": 0.53, \"e_fg_percent\": 0.497, \"tov_percent\": 12.5, \"orb_percent\": 21.8, \"ft_fga\": 0.169, \"opp_e_fg_percent\": 0.533, \"opp_tov_percent\": 11.8, \"opp_drb_percent\": 76.1, \"opp_ft_fga\": 0.169, \"arena\": \"Paycom Center\", \"attend\": 595112.0, \"attend_g\": 14515.0}, {\"Unnamed: 0\": 83, \"season\": 2022, \"lg\": \"NBA\", \"team\": \"Orlando Magic\", \"abbreviation\": \"ORL\", \"playoffs\": false, \"age\": 23.3, \"w\": 22.0, \"l\": 60.0, \"pw\": 21.0, \"pl\": 61.0, \"mov\": -8.0, \"sos\": 0.33, \"srs\": -7.67, \"o_rtg\": 104.5, \"d_rtg\": 112.5, \"n_rtg\": -8.0, \"pace\": 99.2, \"f_tr\": 0.223, \"x3p_ar\": 0.417, \"ts_percent\": 0.538, \"e_fg_percent\": 0.503, \"tov_percent\": 13.0, \"orb_percent\": 19.8, \"ft_fga\": 0.175, \"opp_e_fg_percent\": 0.532, \"opp_tov_percent\": 11.7, \"opp_drb_percent\": 77.2, \"opp_ft_fga\": 0.196, \"arena\": \"Amway Center\", \"attend\": 622881.0, \"attend_g\": 15192.0}, {\"Unnamed: 0\": 84, \"season\": 2022, \"lg\": \"NBA\", \"team\": \"Philadelphia 76ers\", \"abbreviation\": \"PHI\", \"playoffs\": true, \"age\": 26.8, \"w\": 51.0, \"l\": 31.0, \"pw\": 48.0, \"pl\": 34.0, \"mov\": 2.61, \"sos\": -0.04, \"srs\": 2.57, \"o_rtg\": 113.5, \"d_rtg\": 110.8, \"n_rtg\": 2.7, \"pace\": 96.2, \"f_tr\": 0.282, \"x3p_ar\": 0.376, \"ts_percent\": 0.578, \"e_fg_percent\": 0.534, \"tov_percent\": 11.6, \"orb_percent\": 20.1, \"ft_fga\": 0.232, \"opp_e_fg_percent\": 0.524, \"opp_tov_percent\": 12.1, \"opp_drb_percent\": 76.8, \"opp_ft_fga\": 0.192, \"arena\": \"Wells Fargo Center\", \"attend\": 846867.0, \"attend_g\": 20655.0}, {\"Unnamed: 0\": 85, \"season\": 2022, \"lg\": \"NBA\", \"team\": \"Phoenix Suns\", \"abbreviation\": \"PHO\", \"playoffs\": true, \"age\": 27.5, \"w\": 64.0, \"l\": 18.0, \"pw\": 59.0, \"pl\": 23.0, \"mov\": 7.5, \"sos\": -0.56, \"srs\": 6.94, \"o_rtg\": 114.8, \"d_rtg\": 107.3, \"n_rtg\": 7.5, \"pace\": 99.8, \"f_tr\": 0.221, \"x3p_ar\": 0.354, \"ts_percent\": 0.581, \"e_fg_percent\": 0.549, \"tov_percent\": 11.6, \"orb_percent\": 22.3, \"ft_fga\": 0.176, \"opp_e_fg_percent\": 0.51, \"opp_tov_percent\": 13.0, \"opp_drb_percent\": 77.1, \"opp_ft_fga\": 0.195, \"arena\": \"Phoenix Suns Arena\", \"attend\": 663171.0, \"attend_g\": 16175.0}, {\"Unnamed: 0\": 86, \"season\": 2022, \"lg\": \"NBA\", \"team\": \"Portland Trail Blazers\", \"abbreviation\": \"POR\", \"playoffs\": false, \"age\": 25.6, \"w\": 27.0, \"l\": 55.0, \"pw\": 20.0, \"pl\": 62.0, \"mov\": -8.88, \"sos\": 0.33, \"srs\": -8.55, \"o_rtg\": 107.8, \"d_rtg\": 116.9, \"n_rtg\": -9.1, \"pace\": 98.3, \"f_tr\": 0.248, \"x3p_ar\": 0.422, \"ts_percent\": 0.55, \"e_fg_percent\": 0.515, \"tov_percent\": 13.0, \"orb_percent\": 22.9, \"ft_fga\": 0.188, \"opp_e_fg_percent\": 0.559, \"opp_tov_percent\": 12.7, \"opp_drb_percent\": 76.9, \"opp_ft_fga\": 0.222, \"arena\": \"Moda Center\", \"attend\": 705608.0, \"attend_g\": 17210.0}, {\"Unnamed: 0\": 87, \"season\": 2022, \"lg\": \"NBA\", \"team\": \"Sacramento Kings\", \"abbreviation\": \"SAC\", \"playoffs\": false, \"age\": 25.8, \"w\": 30.0, \"l\": 52.0, \"pw\": 28.0, \"pl\": 54.0, \"mov\": -5.46, \"sos\": 0.2, \"srs\": -5.26, \"o_rtg\": 109.9, \"d_rtg\": 115.3, \"n_rtg\": -5.4, \"pace\": 99.8, \"f_tr\": 0.264, \"x3p_ar\": 0.377, \"ts_percent\": 0.561, \"e_fg_percent\": 0.525, \"tov_percent\": 12.5, \"orb_percent\": 21.3, \"ft_fga\": 0.203, \"opp_e_fg_percent\": 0.551, \"opp_tov_percent\": 11.9, \"opp_drb_percent\": 76.0, \"opp_ft_fga\": 0.176, \"arena\": \"Golden 1 Center\", \"attend\": 577583.0, \"attend_g\": 14087.0}, {\"Unnamed: 0\": 88, \"season\": 2022, \"lg\": \"NBA\", \"team\": \"San Antonio Spurs\", \"abbreviation\": \"SAS\", \"playoffs\": false, \"age\": 24.5, \"w\": 34.0, \"l\": 48.0, \"pw\": 41.0, \"pl\": 41.0, \"mov\": 0.12, \"sos\": -0.1, \"srs\": 0.02, \"o_rtg\": 112.4, \"d_rtg\": 112.3, \"n_rtg\": 0.1, \"pace\": 100.0, \"f_tr\": 0.22, \"x3p_ar\": 0.345, \"ts_percent\": 0.556, \"e_fg_percent\": 0.527, \"tov_percent\": 11.1, \"orb_percent\": 23.7, \"ft_fga\": 0.166, \"opp_e_fg_percent\": 0.532, \"opp_tov_percent\": 12.1, \"opp_drb_percent\": 75.1, \"opp_ft_fga\": 0.176, \"arena\": \"AT&T Center\", \"attend\": 615588.0, \"attend_g\": 15014.0}, {\"Unnamed: 0\": 89, \"season\": 2022, \"lg\": \"NBA\", \"team\": \"Toronto Raptors\", \"abbreviation\": \"TOR\", \"playoffs\": true, \"age\": 24.8, \"w\": 48.0, \"l\": 34.0, \"pw\": 47.0, \"pl\": 35.0, \"mov\": 2.29, \"sos\": 0.08, \"srs\": 2.38, \"o_rtg\": 112.9, \"d_rtg\": 110.5, \"n_rtg\": 2.4, \"pace\": 96.0, \"f_tr\": 0.234, \"x3p_ar\": 0.375, \"ts_percent\": 0.543, \"e_fg_percent\": 0.51, \"tov_percent\": 11.0, \"orb_percent\": 28.4, \"ft_fga\": 0.177, \"opp_e_fg_percent\": 0.535, \"opp_tov_percent\": 14.4, \"opp_drb_percent\": 75.6, \"opp_ft_fga\": 0.199, \"arena\": \"Scotiabank Arena\", \"attend\": 547343.0, \"attend_g\": 13350.0}, {\"Unnamed: 0\": 90, \"season\": 2022, \"lg\": \"NBA\", \"team\": \"Utah Jazz\", \"abbreviation\": \"UTA\", \"playoffs\": true, \"age\": 29.3, \"w\": 49.0, \"l\": 33.0, \"pw\": 56.0, \"pl\": 26.0, \"mov\": 6.04, \"sos\": -0.37, \"srs\": 5.67, \"o_rtg\": 116.7, \"d_rtg\": 110.5, \"n_rtg\": 6.2, \"pace\": 97.1, \"f_tr\": 0.271, \"x3p_ar\": 0.468, \"ts_percent\": 0.589, \"e_fg_percent\": 0.555, \"tov_percent\": 12.7, \"orb_percent\": 25.4, \"ft_fga\": 0.208, \"opp_e_fg_percent\": 0.521, \"opp_tov_percent\": 10.9, \"opp_drb_percent\": 78.3, \"opp_ft_fga\": 0.164, \"arena\": \"Vivint Smart Home Arena\", \"attend\": 750546.0, \"attend_g\": 18306.0}, {\"Unnamed: 0\": 91, \"season\": 2022, \"lg\": \"NBA\", \"team\": \"Washington Wizards\", \"abbreviation\": \"WAS\", \"playoffs\": false, \"age\": 25.9, \"w\": 35.0, \"l\": 47.0, \"pw\": 32.0, \"pl\": 50.0, \"mov\": -3.38, \"sos\": 0.15, \"srs\": -3.23, \"o_rtg\": 111.1, \"d_rtg\": 114.5, \"n_rtg\": -3.4, \"pace\": 97.0, \"f_tr\": 0.252, \"x3p_ar\": 0.356, \"ts_percent\": 0.568, \"e_fg_percent\": 0.532, \"tov_percent\": 12.1, \"orb_percent\": 20.9, \"ft_fga\": 0.197, \"opp_e_fg_percent\": 0.529, \"opp_tov_percent\": 10.7, \"opp_drb_percent\": 76.9, \"opp_ft_fga\": 0.202, \"arena\": \"Capital One Arena\", \"attend\": 641499.0, \"attend_g\": 15646.0}, {\"Unnamed: 0\": 92, \"season\": 2022, \"lg\": \"NBA\", \"team\": \"League Average\", \"abbreviation\": null, \"playoffs\": false, \"age\": 26.3, \"w\": null, \"l\": null, \"pw\": 41.0, \"pl\": 41.0, \"mov\": 0.0, \"sos\": 0.0, \"srs\": 0.0, \"o_rtg\": 112.0, \"d_rtg\": 112.0, \"n_rtg\": null, \"pace\": 98.2, \"f_tr\": 0.248, \"x3p_ar\": 0.399, \"ts_percent\": 0.566, \"e_fg_percent\": 0.532, \"tov_percent\": 12.3, \"orb_percent\": 23.2, \"ft_fga\": 0.192, \"opp_e_fg_percent\": 0.532, \"opp_tov_percent\": 12.3, \"opp_drb_percent\": 76.8, \"opp_ft_fga\": 0.192, \"arena\": null, \"attend\": 693702.0, \"attend_g\": 16920.0}, {\"Unnamed: 0\": 124, \"season\": 2020, \"lg\": \"NBA\", \"team\": \"Atlanta Hawks\", \"abbreviation\": \"ATL\", \"playoffs\": false, \"age\": 24.1, \"w\": 20.0, \"l\": 47.0, \"pw\": 18.0, \"pl\": 49.0, \"mov\": -7.97, \"sos\": 0.27, \"srs\": -7.71, \"o_rtg\": 107.2, \"d_rtg\": 114.8, \"n_rtg\": -7.6, \"pace\": 103.0, \"f_tr\": 0.258, \"x3p_ar\": 0.398, \"ts_percent\": 0.554, \"e_fg_percent\": 0.515, \"tov_percent\": 13.8, \"orb_percent\": 21.6, \"ft_fga\": 0.204, \"opp_e_fg_percent\": 0.543, \"opp_tov_percent\": 12.7, \"opp_drb_percent\": 74.9, \"opp_ft_fga\": 0.233, \"arena\": \"State Farm Arena\", \"attend\": 545453.0, \"attend_g\": 16043.0}, {\"Unnamed: 0\": 125, \"season\": 2020, \"lg\": \"NBA\", \"team\": \"Boston Celtics\", \"abbreviation\": \"BOS\", \"playoffs\": true, \"age\": 25.3, \"w\": 48.0, \"l\": 24.0, \"pw\": 50.0, \"pl\": 22.0, \"mov\": 6.31, \"sos\": -0.47, \"srs\": 5.83, \"o_rtg\": 113.3, \"d_rtg\": 107.0, \"n_rtg\": 6.3, \"pace\": 99.5, \"f_tr\": 0.259, \"x3p_ar\": 0.386, \"ts_percent\": 0.57, \"e_fg_percent\": 0.531, \"tov_percent\": 12.2, \"orb_percent\": 23.9, \"ft_fga\": 0.207, \"opp_e_fg_percent\": 0.509, \"opp_tov_percent\": 13.5, \"opp_drb_percent\": 77.4, \"opp_ft_fga\": 0.215, \"arena\": \"TD Garden\", \"attend\": 610864.0, \"attend_g\": 19090.0}, {\"Unnamed: 0\": 126, \"season\": 2020, \"lg\": \"NBA\", \"team\": \"Brooklyn Nets\", \"abbreviation\": \"BRK\", \"playoffs\": true, \"age\": 26.3, \"w\": 35.0, \"l\": 37.0, \"pw\": 35.0, \"pl\": 37.0, \"mov\": -0.57, \"sos\": -0.44, \"srs\": -1.01, \"o_rtg\": 108.9, \"d_rtg\": 109.5, \"n_rtg\": -0.6, \"pace\": 101.4, \"f_tr\": 0.267, \"x3p_ar\": 0.423, \"ts_percent\": 0.554, \"e_fg_percent\": 0.52, \"tov_percent\": 13.1, \"orb_percent\": 23.2, \"ft_fga\": 0.199, \"opp_e_fg_percent\": 0.511, \"opp_tov_percent\": 11.0, \"opp_drb_percent\": 77.8, \"opp_ft_fga\": 0.187, \"arena\": \"Barclays Center\", \"attend\": 524907.0, \"attend_g\": 16403.0}, {\"Unnamed: 0\": 127, \"season\": 2020, \"lg\": \"NBA\", \"team\": \"Chicago Bulls\", \"abbreviation\": \"CHI\", \"playoffs\": false, \"age\": 24.4, \"w\": 22.0, \"l\": 43.0, \"pw\": 26.0, \"pl\": 39.0, \"mov\": -3.08, \"sos\": -0.93, \"srs\": -4.0, \"o_rtg\": 106.7, \"d_rtg\": 109.8, \"n_rtg\": -3.1, \"pace\": 99.7, \"f_tr\": 0.231, \"x3p_ar\": 0.396, \"ts_percent\": 0.547, \"e_fg_percent\": 0.515, \"tov_percent\": 13.7, \"orb_percent\": 22.8, \"ft_fga\": 0.175, \"opp_e_fg_percent\": 0.546, \"opp_tov_percent\": 16.3, \"opp_drb_percent\": 75.6, \"opp_ft_fga\": 0.239, \"arena\": \"United Center\", \"attend\": 639352.0, \"attend_g\": 18804.0}, {\"Unnamed: 0\": 128, \"season\": 2020, \"lg\": \"NBA\", \"team\": \"Charlotte Hornets\", \"abbreviation\": \"CHO\", \"playoffs\": false, \"age\": 24.3, \"w\": 23.0, \"l\": 42.0, \"pw\": 19.0, \"pl\": 46.0, \"mov\": -6.75, \"sos\": -0.28, \"srs\": -7.03, \"o_rtg\": 106.3, \"d_rtg\": 113.3, \"n_rtg\": -7.0, \"pace\": 95.8, \"f_tr\": 0.252, \"x3p_ar\": 0.399, \"ts_percent\": 0.539, \"e_fg_percent\": 0.504, \"tov_percent\": 13.3, \"orb_percent\": 23.9, \"ft_fga\": 0.188, \"opp_e_fg_percent\": 0.546, \"opp_tov_percent\": 13.1, \"opp_drb_percent\": 74.4, \"opp_ft_fga\": 0.159, \"arena\": \"Spectrum Center\", \"attend\": 478591.0, \"attend_g\": 15428.0}, {\"Unnamed: 0\": 129, \"season\": 2020, \"lg\": \"NBA\", \"team\": \"Cleveland Cavaliers\", \"abbreviation\": \"CLE\", \"playoffs\": false, \"age\": 25.0, \"w\": 19.0, \"l\": 46.0, \"pw\": 18.0, \"pl\": 47.0, \"mov\": -7.89, \"sos\": 0.12, \"srs\": -7.77, \"o_rtg\": 107.5, \"d_rtg\": 115.4, \"n_rtg\": -7.9, \"pace\": 98.7, \"f_tr\": 0.227, \"x3p_ar\": 0.362, \"ts_percent\": 0.553, \"e_fg_percent\": 0.522, \"tov_percent\": 14.6, \"orb_percent\": 24.6, \"ft_fga\": 0.172, \"opp_e_fg_percent\": 0.56, \"opp_tov_percent\": 11.7, \"opp_drb_percent\": 77.4, \"opp_ft_fga\": 0.164, \"arena\": \"Rocket Mortgage Fieldhouse\", \"attend\": 643008.0, \"attend_g\": 17861.0}, {\"Unnamed: 0\": 130, \"season\": 2020, \"lg\": \"NBA\", \"team\": \"Dallas Mavericks\", \"abbreviation\": \"DAL\", \"playoffs\": true, \"age\": 26.1, \"w\": 43.0, \"l\": 32.0, \"pw\": 49.0, \"pl\": 26.0, \"mov\": 4.95, \"sos\": -0.07, \"srs\": 4.87, \"o_rtg\": 116.7, \"d_rtg\": 111.7, \"n_rtg\": 5.0, \"pace\": 99.3, \"f_tr\": 0.264, \"x3p_ar\": 0.457, \"ts_percent\": 0.581, \"e_fg_percent\": 0.545, \"tov_percent\": 11.2, \"orb_percent\": 23.2, \"ft_fga\": 0.206, \"opp_e_fg_percent\": 0.525, \"opp_tov_percent\": 10.6, \"opp_drb_percent\": 77.7, \"opp_ft_fga\": 0.175, \"arena\": \"American Airlines Center\", \"attend\": 682096.0, \"attend_g\": 20062.0}, {\"Unnamed: 0\": 131, \"season\": 2020, \"lg\": \"NBA\", \"team\": \"Denver Nuggets\", \"abbreviation\": \"DEN\", \"playoffs\": true, \"age\": 25.6, \"w\": 46.0, \"l\": 27.0, \"pw\": 41.0, \"pl\": 32.0, \"mov\": 2.11, \"sos\": 0.24, \"srs\": 2.35, \"o_rtg\": 113.1, \"d_rtg\": 111.0, \"n_rtg\": 2.1, \"pace\": 97.1, \"f_tr\": 0.235, \"x3p_ar\": 0.344, \"ts_percent\": 0.567, \"e_fg_percent\": 0.535, \"tov_percent\": 12.3, \"orb_percent\": 24.8, \"ft_fga\": 0.183, \"opp_e_fg_percent\": 0.533, \"opp_tov_percent\": 12.9, \"opp_drb_percent\": 76.8, \"opp_ft_fga\": 0.198, \"arena\": \"Pepsi Center\", \"attend\": 633153.0, \"attend_g\": 19186.0}, {\"Unnamed: 0\": 132, \"season\": 2020, \"lg\": \"NBA\", \"team\": \"Detroit Pistons\", \"abbreviation\": \"DET\", \"playoffs\": false, \"age\": 25.9, \"w\": 20.0, \"l\": 46.0, \"pw\": 26.0, \"pl\": 40.0, \"mov\": -3.56, \"sos\": -0.82, \"srs\": -4.38, \"o_rtg\": 109.0, \"d_rtg\": 112.7, \"n_rtg\": -3.7, \"pace\": 97.6, \"f_tr\": 0.261, \"x3p_ar\": 0.381, \"ts_percent\": 0.561, \"e_fg_percent\": 0.529, \"tov_percent\": 13.8, \"orb_percent\": 22.6, \"ft_fga\": 0.194, \"opp_e_fg_percent\": 0.541, \"opp_tov_percent\": 12.7, \"opp_drb_percent\": 75.9, \"opp_ft_fga\": 0.186, \"arena\": \"Little Caesars Arena\", \"attend\": 509469.0, \"attend_g\": 15294.0}, {\"Unnamed: 0\": 133, \"season\": 2020, \"lg\": \"NBA\", \"team\": \"Golden State Warriors\", \"abbreviation\": \"GSW\", \"playoffs\": false, \"age\": 24.4, \"w\": 15.0, \"l\": 50.0, \"pw\": 16.0, \"pl\": 49.0, \"mov\": -8.71, \"sos\": 0.59, \"srs\": -8.12, \"o_rtg\": 105.2, \"d_rtg\": 113.8, \"n_rtg\": -8.6, \"pace\": 100.3, \"f_tr\": 0.264, \"x3p_ar\": 0.355, \"ts_percent\": 0.54, \"e_fg_percent\": 0.497, \"tov_percent\": 13.2, \"orb_percent\": 21.5, \"ft_fga\": 0.212, \"opp_e_fg_percent\": 0.553, \"opp_tov_percent\": 13.7, \"opp_drb_percent\": 76.4, \"opp_ft_fga\": 0.193, \"arena\": \"Chase Center\", \"attend\": 614176.0, \"attend_g\": 18064.0}, {\"Unnamed: 0\": 134, \"season\": 2020, \"lg\": \"NBA\", \"team\": \"Houston Rockets\", \"abbreviation\": \"HOU\", \"playoffs\": true, \"age\": 29.2, \"w\": 44.0, \"l\": 28.0, \"pw\": 42.0, \"pl\": 30.0, \"mov\": 2.96, \"sos\": 0.17, \"srs\": 3.13, \"o_rtg\": 112.9, \"d_rtg\": 110.1, \"n_rtg\": 2.8, \"pace\": 103.7, \"f_tr\": 0.288, \"x3p_ar\": 0.501, \"ts_percent\": 0.578, \"e_fg_percent\": 0.537, \"tov_percent\": 12.6, \"orb_percent\": 21.0, \"ft_fga\": 0.228, \"opp_e_fg_percent\": 0.529, \"opp_tov_percent\": 13.7, \"opp_drb_percent\": 75.6, \"opp_ft_fga\": 0.197, \"arena\": \"Toyota Center\", \"attend\": 578458.0, \"attend_g\": 18077.0}, {\"Unnamed: 0\": 135, \"season\": 2020, \"lg\": \"NBA\", \"team\": \"Indiana Pacers\", \"abbreviation\": \"IND\", \"playoffs\": true, \"age\": 25.6, \"w\": 45.0, \"l\": 28.0, \"pw\": 41.0, \"pl\": 32.0, \"mov\": 1.96, \"sos\": -0.33, \"srs\": 1.63, \"o_rtg\": 110.0, \"d_rtg\": 108.0, \"n_rtg\": 2.0, \"pace\": 98.9, \"f_tr\": 0.216, \"x3p_ar\": 0.317, \"ts_percent\": 0.565, \"e_fg_percent\": 0.534, \"tov_percent\": 12.0, \"orb_percent\": 20.0, \"ft_fga\": 0.17, \"opp_e_fg_percent\": 0.511, \"opp_tov_percent\": 13.0, \"opp_drb_percent\": 76.7, \"opp_ft_fga\": 0.192, \"arena\": \"Bankers Life Fieldhouse\", \"attend\": 529002.0, \"attend_g\": 16531.0}, {\"Unnamed: 0\": 136, \"season\": 2020, \"lg\": \"NBA\", \"team\": \"Los Angeles Clippers\", \"abbreviation\": \"LAC\", \"playoffs\": true, \"age\": 27.4, \"w\": 49.0, \"l\": 23.0, \"pw\": 50.0, \"pl\": 22.0, \"mov\": 6.44, \"sos\": 0.21, \"srs\": 6.66, \"o_rtg\": 113.9, \"d_rtg\": 107.6, \"n_rtg\": 6.3, \"pace\": 101.5, \"f_tr\": 0.295, \"x3p_ar\": 0.375, \"ts_percent\": 0.577, \"e_fg_percent\": 0.535, \"tov_percent\": 12.6, \"orb_percent\": 23.5, \"ft_fga\": 0.233, \"opp_e_fg_percent\": 0.506, \"opp_tov_percent\": 12.2, \"opp_drb_percent\": 77.6, \"opp_ft_fga\": 0.206, \"arena\": \"STAPLES Center\", \"attend\": 610176.0, \"attend_g\": 19068.0}, {\"Unnamed: 0\": 137, \"season\": 2020, \"lg\": \"NBA\", \"team\": \"Los Angeles Lakers\", \"abbreviation\": \"LAL\", \"playoffs\": true, \"age\": 29.5, \"w\": 52.0, \"l\": 19.0, \"pw\": 48.0, \"pl\": 23.0, \"mov\": 5.79, \"sos\": 0.49, \"srs\": 6.28, \"o_rtg\": 112.0, \"d_rtg\": 106.3, \"n_rtg\": 5.7, \"pace\": 100.9, \"f_tr\": 0.276, \"x3p_ar\": 0.358, \"ts_percent\": 0.573, \"e_fg_percent\": 0.542, \"tov_percent\": 13.3, \"orb_percent\": 24.5, \"ft_fga\": 0.201, \"opp_e_fg_percent\": 0.515, \"opp_tov_percent\": 14.1, \"opp_drb_percent\": 78.8, \"opp_ft_fga\": 0.205, \"arena\": \"STAPLES Center\", \"attend\": 588907.0, \"attend_g\": 18997.0}, {\"Unnamed: 0\": 138, \"season\": 2020, \"lg\": \"NBA\", \"team\": \"Memphis Grizzlies\", \"abbreviation\": \"MEM\", \"playoffs\": false, \"age\": 24.1, \"w\": 34.0, \"l\": 39.0, \"pw\": 34.0, \"pl\": 39.0, \"mov\": -1.07, \"sos\": 0.16, \"srs\": -0.91, \"o_rtg\": 109.2, \"d_rtg\": 110.3, \"n_rtg\": -1.1, \"pace\": 102.8, \"f_tr\": 0.24, \"x3p_ar\": 0.346, \"ts_percent\": 0.561, \"e_fg_percent\": 0.528, \"tov_percent\": 13.2, \"orb_percent\": 23.0, \"ft_fga\": 0.183, \"opp_e_fg_percent\": 0.521, \"opp_tov_percent\": 12.7, \"opp_drb_percent\": 77.8, \"opp_ft_fga\": 0.217, \"arena\": \"FedEx Forum\", \"attend\": 523297.0, \"attend_g\": 15857.0}, {\"Unnamed: 0\": 139, \"season\": 2020, \"lg\": \"NBA\", \"team\": \"Miami Heat\", \"abbreviation\": \"MIA\", \"playoffs\": true, \"age\": 25.9, \"w\": 44.0, \"l\": 29.0, \"pw\": 43.0, \"pl\": 30.0, \"mov\": 2.95, \"sos\": -0.35, \"srs\": 2.59, \"o_rtg\": 112.5, \"d_rtg\": 109.5, \"n_rtg\": 3.0, \"pace\": 98.3, \"f_tr\": 0.299, \"x3p_ar\": 0.419, \"ts_percent\": 0.587, \"e_fg_percent\": 0.547, \"tov_percent\": 13.5, \"orb_percent\": 20.3, \"ft_fga\": 0.234, \"opp_e_fg_percent\": 0.523, \"opp_tov_percent\": 12.6, \"opp_drb_percent\": 79.5, \"opp_ft_fga\": 0.213, \"arena\": \"AmericanAirlines Arena\", \"attend\": 629771.0, \"attend_g\": 19680.0}, {\"Unnamed: 0\": 140, \"season\": 2020, \"lg\": \"NBA\", \"team\": \"Milwaukee Bucks\", \"abbreviation\": \"MIL\", \"playoffs\": true, \"age\": 29.2, \"w\": 56.0, \"l\": 17.0, \"pw\": 57.0, \"pl\": 16.0, \"mov\": 10.08, \"sos\": -0.67, \"srs\": 9.41, \"o_rtg\": 112.4, \"d_rtg\": 102.9, \"n_rtg\": 9.5, \"pace\": 105.1, \"f_tr\": 0.271, \"x3p_ar\": 0.428, \"ts_percent\": 0.583, \"e_fg_percent\": 0.552, \"tov_percent\": 12.9, \"orb_percent\": 20.7, \"ft_fga\": 0.201, \"opp_e_fg_percent\": 0.489, \"opp_tov_percent\": 12.0, \"opp_drb_percent\": 81.6, \"opp_ft_fga\": 0.178, \"arena\": \"Fiserv Forum\", \"attend\": 549036.0, \"attend_g\": 17711.0}, {\"Unnamed: 0\": 141, \"season\": 2020, \"lg\": \"NBA\", \"team\": \"Minnesota Timberwolves\", \"abbreviation\": \"MIN\", \"playoffs\": false, \"age\": 24.8, \"w\": 19.0, \"l\": 45.0, \"pw\": 24.0, \"pl\": 40.0, \"mov\": -4.3, \"sos\": 0.28, \"srs\": -4.02, \"o_rtg\": 108.1, \"d_rtg\": 112.2, \"n_rtg\": -4.1, \"pace\": 103.4, \"f_tr\": 0.277, \"x3p_ar\": 0.433, \"ts_percent\": 0.551, \"e_fg_percent\": 0.514, \"tov_percent\": 13.0, \"orb_percent\": 22.1, \"ft_fga\": 0.209, \"opp_e_fg_percent\": 0.541, \"opp_tov_percent\": 13.2, \"opp_drb_percent\": 77.2, \"opp_ft_fga\": 0.218, \"arena\": \"Target Center\", \"attend\": 482112.0, \"attend_g\": 15066.0}, {\"Unnamed: 0\": 142, \"season\": 2020, \"lg\": \"NBA\", \"team\": \"New Orleans Pelicans\", \"abbreviation\": \"NOP\", \"playoffs\": false, \"age\": 25.4, \"w\": 30.0, \"l\": 42.0, \"pw\": 33.0, \"pl\": 39.0, \"mov\": -1.29, \"sos\": 0.74, \"srs\": -0.55, \"o_rtg\": 110.7, \"d_rtg\": 111.9, \"n_rtg\": -1.2, \"pace\": 103.7, \"f_tr\": 0.256, \"x3p_ar\": 0.403, \"ts_percent\": 0.568, \"e_fg_percent\": 0.539, \"tov_percent\": 13.9, \"orb_percent\": 24.2, \"ft_fga\": 0.186, \"opp_e_fg_percent\": 0.532, \"opp_tov_percent\": 12.4, \"opp_drb_percent\": 77.8, \"opp_ft_fga\": 0.212, \"arena\": \"Smoothie King Center\", \"attend\": 528172.0, \"attend_g\": 16505.0}, {\"Unnamed: 0\": 143, \"season\": 2020, \"lg\": \"NBA\", \"team\": \"New York Knicks\", \"abbreviation\": \"NYK\", \"playoffs\": false, \"age\": 24.5, \"w\": 21.0, \"l\": 45.0, \"pw\": 20.0, \"pl\": 46.0, \"mov\": -6.45, \"sos\": -0.26, \"srs\": -6.72, \"o_rtg\": 106.5, \"d_rtg\": 113.0, \"n_rtg\": -6.5, \"pace\": 98.6, \"f_tr\": 0.263, \"x3p_ar\": 0.318, \"ts_percent\": 0.531, \"e_fg_percent\": 0.501, \"tov_percent\": 12.6, \"orb_percent\": 25.8, \"ft_fga\": 0.182, \"opp_e_fg_percent\": 0.541, \"opp_tov_percent\": 12.4, \"opp_drb_percent\": 78.3, \"opp_ft_fga\": 0.224, \"arena\": \"Madison Square Garden (IV)\", \"attend\": 620789.0, \"attend_g\": 18812.0}, {\"Unnamed: 0\": 144, \"season\": 2020, \"lg\": \"NBA\", \"team\": \"Oklahoma City Thunder\", \"abbreviation\": \"OKC\", \"playoffs\": true, \"age\": 25.5, \"w\": 44.0, \"l\": 28.0, \"pw\": 41.0, \"pl\": 31.0, \"mov\": 1.99, \"sos\": 0.34, \"srs\": 2.33, \"o_rtg\": 110.8, \"d_rtg\": 108.8, \"n_rtg\": 2.0, \"pace\": 98.8, \"f_tr\": 0.29, \"x3p_ar\": 0.353, \"ts_percent\": 0.573, \"e_fg_percent\": 0.53, \"tov_percent\": 12.4, \"orb_percent\": 19.3, \"ft_fga\": 0.231, \"opp_e_fg_percent\": 0.518, \"opp_tov_percent\": 12.6, \"opp_drb_percent\": 76.8, \"opp_ft_fga\": 0.173, \"arena\": \"Chesapeake Energy Arena\", \"attend\": 600699.0, \"attend_g\": 18203.0}, {\"Unnamed: 0\": 145, \"season\": 2020, \"lg\": \"NBA\", \"team\": \"Orlando Magic\", \"abbreviation\": \"ORL\", \"playoffs\": true, \"age\": 26.1, \"w\": 33.0, \"l\": 40.0, \"pw\": 34.0, \"pl\": 39.0, \"mov\": -1.01, \"sos\": 0.09, \"srs\": -0.93, \"o_rtg\": 108.5, \"d_rtg\": 109.5, \"n_rtg\": -1.0, \"pace\": 98.6, \"f_tr\": 0.256, \"x3p_ar\": 0.364, \"ts_percent\": 0.544, \"e_fg_percent\": 0.506, \"tov_percent\": 11.5, \"orb_percent\": 22.3, \"ft_fga\": 0.198, \"opp_e_fg_percent\": 0.535, \"opp_tov_percent\": 13.2, \"opp_drb_percent\": 79.1, \"opp_ft_fga\": 0.176, \"arena\": \"Amway Center\", \"attend\": 529870.0, \"attend_g\": 17093.0}, {\"Unnamed: 0\": 146, \"season\": 2020, \"lg\": \"NBA\", \"team\": \"Philadelphia 76ers\", \"abbreviation\": \"PHI\", \"playoffs\": true, \"age\": 26.3, \"w\": 43.0, \"l\": 30.0, \"pw\": 42.0, \"pl\": 31.0, \"mov\": 2.38, \"sos\": -0.13, \"srs\": 2.25, \"o_rtg\": 111.3, \"d_rtg\": 109.0, \"n_rtg\": 2.3, \"pace\": 99.0, \"f_tr\": 0.255, \"x3p_ar\": 0.36, \"ts_percent\": 0.566, \"e_fg_percent\": 0.534, \"tov_percent\": 12.7, \"orb_percent\": 23.9, \"ft_fga\": 0.193, \"opp_e_fg_percent\": 0.523, \"opp_tov_percent\": 12.5, \"opp_drb_percent\": 80.3, \"opp_ft_fga\": 0.214, \"arena\": \"Wells Fargo Center\", \"attend\": 639491.0, \"attend_g\": 20629.0}, {\"Unnamed: 0\": 147, \"season\": 2020, \"lg\": \"NBA\", \"team\": \"Phoenix Suns\", \"abbreviation\": \"PHO\", \"playoffs\": false, \"age\": 24.6, \"w\": 34.0, \"l\": 39.0, \"pw\": 37.0, \"pl\": 36.0, \"mov\": 0.22, \"sos\": 0.35, \"srs\": 0.56, \"o_rtg\": 111.7, \"d_rtg\": 111.4, \"n_rtg\": 0.3, \"pace\": 101.3, \"f_tr\": 0.271, \"x3p_ar\": 0.361, \"ts_percent\": 0.576, \"e_fg_percent\": 0.532, \"tov_percent\": 13.0, \"orb_percent\": 22.2, \"ft_fga\": 0.226, \"opp_e_fg_percent\": 0.539, \"opp_tov_percent\": 13.7, \"opp_drb_percent\": 78.8, \"opp_ft_fga\": 0.221, \"arena\": \"Talking Stick Resort Arena\", \"attend\": 550633.0, \"attend_g\": 15606.0}, {\"Unnamed: 0\": 148, \"season\": 2020, \"lg\": \"NBA\", \"team\": \"Portland Trail Blazers\", \"abbreviation\": \"POR\", \"playoffs\": true, \"age\": 27.5, \"w\": 35.0, \"l\": 39.0, \"pw\": 34.0, \"pl\": 40.0, \"mov\": -1.15, \"sos\": 0.54, \"srs\": -0.61, \"o_rtg\": 113.7, \"d_rtg\": 114.8, \"n_rtg\": -1.1, \"pace\": 100.7, \"f_tr\": 0.242, \"x3p_ar\": 0.374, \"ts_percent\": 0.57, \"e_fg_percent\": 0.533, \"tov_percent\": 11.2, \"orb_percent\": 22.4, \"ft_fga\": 0.194, \"opp_e_fg_percent\": 0.53, \"opp_tov_percent\": 11.2, \"opp_drb_percent\": 75.3, \"opp_ft_fga\": 0.208, \"arena\": \"Moda Center\", \"attend\": 628303.0, \"attend_g\": 19634.0}, {\"Unnamed: 0\": 149, \"season\": 2020, \"lg\": \"NBA\", \"team\": \"Sacramento Kings\", \"abbreviation\": \"SAC\", \"playoffs\": false, \"age\": 27.0, \"w\": 31.0, \"l\": 41.0, \"pw\": 31.0, \"pl\": 41.0, \"mov\": -2.04, \"sos\": 0.46, \"srs\": -1.59, \"o_rtg\": 110.2, \"d_rtg\": 112.2, \"n_rtg\": -2.0, \"pace\": 98.9, \"f_tr\": 0.23, \"x3p_ar\": 0.395, \"ts_percent\": 0.566, \"e_fg_percent\": 0.534, \"tov_percent\": 13.0, \"orb_percent\": 21.9, \"ft_fga\": 0.177, \"opp_e_fg_percent\": 0.543, \"opp_tov_percent\": 13.6, \"opp_drb_percent\": 78.4, \"opp_ft_fga\": 0.225, \"arena\": \"Golden 1 Center\", \"attend\": 520663.0, \"attend_g\": 16796.0}, {\"Unnamed: 0\": 150, \"season\": 2020, \"lg\": \"NBA\", \"team\": \"San Antonio Spurs\", \"abbreviation\": \"SAS\", \"playoffs\": false, \"age\": 27.6, \"w\": 32.0, \"l\": 39.0, \"pw\": 33.0, \"pl\": 38.0, \"mov\": -1.11, \"sos\": 0.46, \"srs\": -0.65, \"o_rtg\": 112.4, \"d_rtg\": 113.5, \"n_rtg\": -1.1, \"pace\": 100.5, \"f_tr\": 0.262, \"x3p_ar\": 0.318, \"ts_percent\": 0.572, \"e_fg_percent\": 0.531, \"tov_percent\": 11.2, \"orb_percent\": 20.1, \"ft_fga\": 0.212, \"opp_e_fg_percent\": 0.542, \"opp_tov_percent\": 11.7, \"opp_drb_percent\": 79.2, \"opp_ft_fga\": 0.193, \"arena\": \"AT&T Center\", \"attend\": 550515.0, \"attend_g\": 18351.0}, {\"Unnamed: 0\": 151, \"season\": 2020, \"lg\": \"NBA\", \"team\": \"Toronto Raptors\", \"abbreviation\": \"TOR\", \"playoffs\": true, \"age\": 26.6, \"w\": 53.0, \"l\": 19.0, \"pw\": 50.0, \"pl\": 22.0, \"mov\": 6.24, \"sos\": -0.26, \"srs\": 5.97, \"o_rtg\": 111.1, \"d_rtg\": 105.0, \"n_rtg\": 6.1, \"pace\": 100.9, \"f_tr\": 0.264, \"x3p_ar\": 0.421, \"ts_percent\": 0.574, \"e_fg_percent\": 0.536, \"tov_percent\": 13.1, \"orb_percent\": 21.3, \"ft_fga\": 0.21, \"opp_e_fg_percent\": 0.502, \"opp_tov_percent\": 14.6, \"opp_drb_percent\": 76.7, \"opp_ft_fga\": 0.202, \"arena\": \"Scotiabank Arena\", \"attend\": 633456.0, \"attend_g\": 19796.0}, {\"Unnamed: 0\": 152, \"season\": 2020, \"lg\": \"NBA\", \"team\": \"Utah Jazz\", \"abbreviation\": \"UTA\", \"playoffs\": true, \"age\": 27.3, \"w\": 44.0, \"l\": 28.0, \"pw\": 42.0, \"pl\": 30.0, \"mov\": 2.47, \"sos\": 0.05, \"srs\": 2.52, \"o_rtg\": 112.3, \"d_rtg\": 109.9, \"n_rtg\": 2.4, \"pace\": 98.6, \"f_tr\": 0.268, \"x3p_ar\": 0.414, \"ts_percent\": 0.585, \"e_fg_percent\": 0.549, \"tov_percent\": 13.7, \"orb_percent\": 21.6, \"ft_fga\": 0.208, \"opp_e_fg_percent\": 0.518, \"opp_tov_percent\": 11.1, \"opp_drb_percent\": 78.9, \"opp_ft_fga\": 0.185, \"arena\": \"Vivint Smart Home Arena\", \"attend\": 567486.0, \"attend_g\": 18306.0}, {\"Unnamed: 0\": 153, \"season\": 2020, \"lg\": \"NBA\", \"team\": \"Washington Wizards\", \"abbreviation\": \"WAS\", \"playoffs\": false, \"age\": 25.1, \"w\": 25.0, \"l\": 47.0, \"pw\": 26.0, \"pl\": 46.0, \"mov\": -4.67, \"sos\": -0.57, \"srs\": -5.24, \"o_rtg\": 110.9, \"d_rtg\": 115.5, \"n_rtg\": -4.6, \"pace\": 102.7, \"f_tr\": 0.27, \"x3p_ar\": 0.358, \"ts_percent\": 0.562, \"e_fg_percent\": 0.523, \"tov_percent\": 12.2, \"orb_percent\": 22.2, \"ft_fga\": 0.213, \"opp_e_fg_percent\": 0.558, \"opp_tov_percent\": 13.9, \"opp_drb_percent\": 75.3, \"opp_ft_fga\": 0.231, \"arena\": \"Capital One Arena\", \"attend\": 532702.0, \"attend_g\": 16647.0}, {\"Unnamed: 0\": 154, \"season\": 2020, \"lg\": \"NBA\", \"team\": \"League Average\", \"abbreviation\": null, \"playoffs\": false, \"age\": 26.2, \"w\": null, \"l\": null, \"pw\": 35.0, \"pl\": 35.0, \"mov\": 0.0, \"sos\": 0.0, \"srs\": 0.0, \"o_rtg\": 110.6, \"d_rtg\": 110.6, \"n_rtg\": null, \"pace\": 100.3, \"f_tr\": 0.26, \"x3p_ar\": 0.384, \"ts_percent\": 0.565, \"e_fg_percent\": 0.529, \"tov_percent\": 12.8, \"orb_percent\": 22.5, \"ft_fga\": 0.201, \"opp_e_fg_percent\": 0.529, \"opp_tov_percent\": 12.8, \"opp_drb_percent\": 77.5, \"opp_ft_fga\": 0.201, \"arena\": null, \"attend\": 575820.0, \"attend_g\": 17788.0}, {\"Unnamed: 0\": 155, \"season\": 2019, \"lg\": \"NBA\", \"team\": \"Atlanta Hawks\", \"abbreviation\": \"ATL\", \"playoffs\": false, \"age\": 25.1, \"w\": 29.0, \"l\": 53.0, \"pw\": 27.0, \"pl\": 55.0, \"mov\": -6.02, \"sos\": -0.04, \"srs\": -6.06, \"o_rtg\": 108.1, \"d_rtg\": 113.9, \"n_rtg\": -5.8, \"pace\": 103.9, \"f_tr\": 0.255, \"x3p_ar\": 0.403, \"ts_percent\": 0.555, \"e_fg_percent\": 0.522, \"tov_percent\": 14.3, \"orb_percent\": 24.7, \"ft_fga\": 0.192, \"opp_e_fg_percent\": 0.541, \"opp_tov_percent\": 12.8, \"opp_drb_percent\": 76.4, \"opp_ft_fga\": 0.237, \"arena\": \"State Farm Arena\", \"attend\": 628440.0, \"attend_g\": 15328.0}, {\"Unnamed: 0\": 156, \"season\": 2019, \"lg\": \"NBA\", \"team\": \"Boston Celtics\", \"abbreviation\": \"BOS\", \"playoffs\": true, \"age\": 25.7, \"w\": 49.0, \"l\": 33.0, \"pw\": 52.0, \"pl\": 30.0, \"mov\": 4.44, \"sos\": -0.54, \"srs\": 3.9, \"o_rtg\": 112.2, \"d_rtg\": 107.8, \"n_rtg\": 4.4, \"pace\": 99.6, \"f_tr\": 0.215, \"x3p_ar\": 0.381, \"ts_percent\": 0.567, \"e_fg_percent\": 0.534, \"tov_percent\": 11.5, \"orb_percent\": 21.6, \"ft_fga\": 0.173, \"opp_e_fg_percent\": 0.514, \"opp_tov_percent\": 13.4, \"opp_drb_percent\": 77.0, \"opp_ft_fga\": 0.198, \"arena\": \"TD Garden\", \"attend\": 763584.0, \"attend_g\": 18624.0}, {\"Unnamed: 0\": 157, \"season\": 2019, \"lg\": \"NBA\", \"team\": \"Brooklyn Nets\", \"abbreviation\": \"BRK\", \"playoffs\": true, \"age\": 25.4, \"w\": 42.0, \"l\": 40.0, \"pw\": 41.0, \"pl\": 41.0, \"mov\": -0.07, \"sos\": -0.33, \"srs\": -0.4, \"o_rtg\": 109.6, \"d_rtg\": 109.7, \"n_rtg\": -0.1, \"pace\": 100.8, \"f_tr\": 0.284, \"x3p_ar\": 0.403, \"ts_percent\": 0.556, \"e_fg_percent\": 0.52, \"tov_percent\": 13.0, \"orb_percent\": 23.8, \"ft_fga\": 0.211, \"opp_e_fg_percent\": 0.512, \"opp_tov_percent\": 11.6, \"opp_drb_percent\": 76.4, \"opp_ft_fga\": 0.19, \"arena\": \"Barclays Center\", \"attend\": 612597.0, \"attend_g\": 14941.0}, {\"Unnamed: 0\": 158, \"season\": 2019, \"lg\": \"NBA\", \"team\": \"Chicago Bulls\", \"abbreviation\": \"CHI\", \"playoffs\": false, \"age\": 24.0, \"w\": 22.0, \"l\": 60.0, \"pw\": 21.0, \"pl\": 61.0, \"mov\": -8.41, \"sos\": 0.1, \"srs\": -8.32, \"o_rtg\": 104.8, \"d_rtg\": 113.2, \"n_rtg\": -8.4, \"pace\": 99.0, \"f_tr\": 0.235, \"x3p_ar\": 0.295, \"ts_percent\": 0.541, \"e_fg_percent\": 0.505, \"tov_percent\": 12.7, \"orb_percent\": 19.4, \"ft_fga\": 0.184, \"opp_e_fg_percent\": 0.541, \"opp_tov_percent\": 11.9, \"opp_drb_percent\": 77.3, \"opp_ft_fga\": 0.188, \"arena\": \"United Center\", \"attend\": 823475.0, \"attend_g\": 20085.0}, {\"Unnamed: 0\": 159, \"season\": 2019, \"lg\": \"NBA\", \"team\": \"Charlotte Hornets\", \"abbreviation\": \"CHO\", \"playoffs\": false, \"age\": 26.6, \"w\": 39.0, \"l\": 43.0, \"pw\": 38.0, \"pl\": 44.0, \"mov\": -1.1, \"sos\": -0.22, \"srs\": -1.32, \"o_rtg\": 111.4, \"d_rtg\": 112.5, \"n_rtg\": -1.1, \"pace\": 98.7, \"f_tr\": 0.257, \"x3p_ar\": 0.378, \"ts_percent\": 0.554, \"e_fg_percent\": 0.514, \"tov_percent\": 10.9, \"orb_percent\": 21.7, \"ft_fga\": 0.205, \"opp_e_fg_percent\": 0.538, \"opp_tov_percent\": 12.1, \"opp_drb_percent\": 77.1, \"opp_ft_fga\": 0.179, \"arena\": \"Spectrum Center\", \"attend\": 676570.0, \"attend_g\": 16502.0}, {\"Unnamed: 0\": 160, \"season\": 2019, \"lg\": \"NBA\", \"team\": \"Cleveland Cavaliers\", \"abbreviation\": \"CLE\", \"playoffs\": false, \"age\": 25.2, \"w\": 19.0, \"l\": 63.0, \"pw\": 19.0, \"pl\": 63.0, \"mov\": -9.61, \"sos\": 0.22, \"srs\": -9.39, \"o_rtg\": 107.7, \"d_rtg\": 117.6, \"n_rtg\": -9.9, \"pace\": 96.6, \"f_tr\": 0.236, \"x3p_ar\": 0.332, \"ts_percent\": 0.54, \"e_fg_percent\": 0.503, \"tov_percent\": 12.2, \"orb_percent\": 23.7, \"ft_fga\": 0.187, \"opp_e_fg_percent\": 0.564, \"opp_tov_percent\": 11.5, \"opp_drb_percent\": 77.0, \"opp_ft_fga\": 0.181, \"arena\": \"Quicken Loans Arena\", \"attend\": 793337.0, \"attend_g\": 19350.0}, {\"Unnamed: 0\": 161, \"season\": 2019, \"lg\": \"NBA\", \"team\": \"Dallas Mavericks\", \"abbreviation\": \"DAL\", \"playoffs\": false, \"age\": 26.9, \"w\": 33.0, \"l\": 49.0, \"pw\": 38.0, \"pl\": 44.0, \"mov\": -1.28, \"sos\": 0.42, \"srs\": -0.87, \"o_rtg\": 109.4, \"d_rtg\": 110.7, \"n_rtg\": -1.3, \"pace\": 99.0, \"f_tr\": 0.291, \"x3p_ar\": 0.422, \"ts_percent\": 0.555, \"e_fg_percent\": 0.519, \"tov_percent\": 12.7, \"orb_percent\": 22.7, \"ft_fga\": 0.216, \"opp_e_fg_percent\": 0.522, \"opp_tov_percent\": 11.6, \"opp_drb_percent\": 77.5, \"opp_ft_fga\": 0.191, \"arena\": \"American Airlines Center\", \"attend\": 820569.0, \"attend_g\": 20014.0}, {\"Unnamed: 0\": 162, \"season\": 2019, \"lg\": \"NBA\", \"team\": \"Denver Nuggets\", \"abbreviation\": \"DEN\", \"playoffs\": true, \"age\": 24.9, \"w\": 54.0, \"l\": 28.0, \"pw\": 51.0, \"pl\": 31.0, \"mov\": 3.95, \"sos\": 0.24, \"srs\": 4.19, \"o_rtg\": 113.0, \"d_rtg\": 108.9, \"n_rtg\": 4.1, \"pace\": 97.7, \"f_tr\": 0.232, \"x3p_ar\": 0.348, \"ts_percent\": 0.558, \"e_fg_percent\": 0.527, \"tov_percent\": 11.9, \"orb_percent\": 26.6, \"ft_fga\": 0.175, \"opp_e_fg_percent\": 0.521, \"opp_tov_percent\": 12.3, \"opp_drb_percent\": 78.0, \"opp_ft_fga\": 0.194, \"arena\": \"Pepsi Center\", \"attend\": 756457.0, \"attend_g\": 18450.0}, {\"Unnamed: 0\": 163, \"season\": 2019, \"lg\": \"NBA\", \"team\": \"Detroit Pistons\", \"abbreviation\": \"DET\", \"playoffs\": true, \"age\": 26.9, \"w\": 41.0, \"l\": 41.0, \"pw\": 40.0, \"pl\": 42.0, \"mov\": -0.24, \"sos\": -0.31, \"srs\": -0.56, \"o_rtg\": 109.0, \"d_rtg\": 109.2, \"n_rtg\": -0.2, \"pace\": 97.4, \"f_tr\": 0.262, \"x3p_ar\": 0.394, \"ts_percent\": 0.544, \"e_fg_percent\": 0.509, \"tov_percent\": 12.3, \"orb_percent\": 24.8, \"ft_fga\": 0.195, \"opp_e_fg_percent\": 0.526, \"opp_tov_percent\": 12.8, \"opp_drb_percent\": 78.7, \"opp_ft_fga\": 0.211, \"arena\": \"Little Caesars Arena\", \"attend\": 675963.0, \"attend_g\": 16487.0}, {\"Unnamed: 0\": 164, \"season\": 2019, \"lg\": \"NBA\", \"team\": \"Golden State Warriors\", \"abbreviation\": \"GSW\", \"playoffs\": true, \"age\": 28.4, \"w\": 57.0, \"l\": 25.0, \"pw\": 56.0, \"pl\": 26.0, \"mov\": 6.46, \"sos\": -0.04, \"srs\": 6.42, \"o_rtg\": 115.9, \"d_rtg\": 109.5, \"n_rtg\": 6.4, \"pace\": 100.9, \"f_tr\": 0.227, \"x3p_ar\": 0.384, \"ts_percent\": 0.596, \"e_fg_percent\": 0.565, \"tov_percent\": 12.6, \"orb_percent\": 22.5, \"ft_fga\": 0.182, \"opp_e_fg_percent\": 0.508, \"opp_tov_percent\": 11.7, \"opp_drb_percent\": 77.1, \"opp_ft_fga\": 0.205, \"arena\": \"Oracle Arena\", \"attend\": 803436.0, \"attend_g\": 19596.0}, {\"Unnamed: 0\": 165, \"season\": 2019, \"lg\": \"NBA\", \"team\": \"Houston Rockets\", \"abbreviation\": \"HOU\", \"playoffs\": true, \"age\": 29.2, \"w\": 53.0, \"l\": 29.0, \"pw\": 53.0, \"pl\": 29.0, \"mov\": 4.77, \"sos\": 0.19, \"srs\": 4.96, \"o_rtg\": 115.5, \"d_rtg\": 110.7, \"n_rtg\": 4.8, \"pace\": 97.9, \"f_tr\": 0.279, \"x3p_ar\": 0.519, \"ts_percent\": 0.581, \"e_fg_percent\": 0.542, \"tov_percent\": 12.0, \"orb_percent\": 22.8, \"ft_fga\": 0.221, \"opp_e_fg_percent\": 0.525, \"opp_tov_percent\": 13.4, \"opp_drb_percent\": 74.4, \"opp_ft_fga\": 0.21, \"arena\": \"Toyota Center\", \"attend\": 740392.0, \"attend_g\": 18058.0}, {\"Unnamed: 0\": 166, \"season\": 2019, \"lg\": \"NBA\", \"team\": \"Indiana Pacers\", \"abbreviation\": \"IND\", \"playoffs\": true, \"age\": 27.0, \"w\": 48.0, \"l\": 34.0, \"pw\": 50.0, \"pl\": 32.0, \"mov\": 3.33, \"sos\": -0.57, \"srs\": 2.76, \"o_rtg\": 109.9, \"d_rtg\": 106.5, \"n_rtg\": 3.4, \"pace\": 98.1, \"f_tr\": 0.242, \"x3p_ar\": 0.292, \"ts_percent\": 0.561, \"e_fg_percent\": 0.53, \"tov_percent\": 12.4, \"orb_percent\": 21.9, \"ft_fga\": 0.182, \"opp_e_fg_percent\": 0.516, \"opp_tov_percent\": 14.1, \"opp_drb_percent\": 76.2, \"opp_ft_fga\": 0.184, \"arena\": \"Bankers Life Fieldhouse\", \"attend\": 689310.0, \"attend_g\": 16812.0}, {\"Unnamed: 0\": 167, \"season\": 2019, \"lg\": \"NBA\", \"team\": \"Los Angeles Clippers\", \"abbreviation\": \"LAC\", \"playoffs\": true, \"age\": 27.2, \"w\": 48.0, \"l\": 34.0, \"pw\": 43.0, \"pl\": 39.0, \"mov\": 0.85, \"sos\": 0.23, \"srs\": 1.09, \"o_rtg\": 112.4, \"d_rtg\": 111.5, \"n_rtg\": 0.9, \"pace\": 101.7, \"f_tr\": 0.326, \"x3p_ar\": 0.295, \"ts_percent\": 0.575, \"e_fg_percent\": 0.529, \"tov_percent\": 12.7, \"orb_percent\": 22.0, \"ft_fga\": 0.258, \"opp_e_fg_percent\": 0.514, \"opp_tov_percent\": 11.4, \"opp_drb_percent\": 76.0, \"opp_ft_fga\": 0.224, \"arena\": \"STAPLES Center\", \"attend\": 710327.0, \"attend_g\": 17325.0}, {\"Unnamed: 0\": 168, \"season\": 2019, \"lg\": \"NBA\", \"team\": \"Los Angeles Lakers\", \"abbreviation\": \"LAL\", \"playoffs\": false, \"age\": 26.2, \"w\": 37.0, \"l\": 45.0, \"pw\": 37.0, \"pl\": 45.0, \"mov\": -1.72, \"sos\": 0.39, \"srs\": -1.33, \"o_rtg\": 107.8, \"d_rtg\": 109.5, \"n_rtg\": -1.7, \"pace\": 103.2, \"f_tr\": 0.257, \"x3p_ar\": 0.342, \"ts_percent\": 0.554, \"e_fg_percent\": 0.527, \"tov_percent\": 13.4, \"orb_percent\": 22.2, \"ft_fga\": 0.18, \"opp_e_fg_percent\": 0.516, \"opp_tov_percent\": 12.2, \"opp_drb_percent\": 76.4, \"opp_ft_fga\": 0.192, \"arena\": \"STAPLES Center\", \"attend\": 778877.0, \"attend_g\": 18997.0}, {\"Unnamed: 0\": 169, \"season\": 2019, \"lg\": \"NBA\", \"team\": \"Memphis Grizzlies\", \"abbreviation\": \"MEM\", \"playoffs\": false, \"age\": 27.7, \"w\": 33.0, \"l\": 49.0, \"pw\": 34.0, \"pl\": 48.0, \"mov\": -2.6, \"sos\": 0.51, \"srs\": -2.08, \"o_rtg\": 106.1, \"d_rtg\": 108.8, \"n_rtg\": -2.7, \"pace\": 96.6, \"f_tr\": 0.272, \"x3p_ar\": 0.342, \"ts_percent\": 0.548, \"e_fg_percent\": 0.508, \"tov_percent\": 12.9, \"orb_percent\": 20.0, \"ft_fga\": 0.21, \"opp_e_fg_percent\": 0.521, \"opp_tov_percent\": 13.9, \"opp_drb_percent\": 77.6, \"opp_ft_fga\": 0.232, \"arena\": \"FedEx Forum\", \"attend\": 638332.0, \"attend_g\": 15569.0}, {\"Unnamed: 0\": 170, \"season\": 2019, \"lg\": \"NBA\", \"team\": \"Miami Heat\", \"abbreviation\": \"MIA\", \"playoffs\": false, \"age\": 27.0, \"w\": 39.0, \"l\": 43.0, \"pw\": 40.0, \"pl\": 42.0, \"mov\": -0.23, \"sos\": -0.22, \"srs\": -0.45, \"o_rtg\": 107.3, \"d_rtg\": 107.6, \"n_rtg\": -0.3, \"pace\": 98.2, \"f_tr\": 0.247, \"x3p_ar\": 0.368, \"ts_percent\": 0.542, \"e_fg_percent\": 0.515, \"tov_percent\": 13.1, \"orb_percent\": 24.8, \"ft_fga\": 0.172, \"opp_e_fg_percent\": 0.51, \"opp_tov_percent\": 12.7, \"opp_drb_percent\": 77.6, \"opp_ft_fga\": 0.201, \"arena\": \"AmericanAirlines Arena\", \"attend\": 805264.0, \"attend_g\": 19641.0}, {\"Unnamed: 0\": 171, \"season\": 2019, \"lg\": \"NBA\", \"team\": \"Milwaukee Bucks\", \"abbreviation\": \"MIL\", \"playoffs\": true, \"age\": 26.9, \"w\": 60.0, \"l\": 22.0, \"pw\": 61.0, \"pl\": 21.0, \"mov\": 8.87, \"sos\": -0.82, \"srs\": 8.04, \"o_rtg\": 113.8, \"d_rtg\": 105.2, \"n_rtg\": 8.6, \"pace\": 103.3, \"f_tr\": 0.255, \"x3p_ar\": 0.419, \"ts_percent\": 0.583, \"e_fg_percent\": 0.55, \"tov_percent\": 12.0, \"orb_percent\": 20.8, \"ft_fga\": 0.197, \"opp_e_fg_percent\": 0.503, \"opp_tov_percent\": 11.5, \"opp_drb_percent\": 80.3, \"opp_ft_fga\": 0.162, \"arena\": \"Fiserv Forum\", \"attend\": 721692.0, \"attend_g\": 17602.0}, {\"Unnamed: 0\": 172, \"season\": 2019, \"lg\": \"NBA\", \"team\": \"Minnesota Timberwolves\", \"abbreviation\": \"MIN\", \"playoffs\": false, \"age\": 26.2, \"w\": 36.0, \"l\": 46.0, \"pw\": 37.0, \"pl\": 45.0, \"mov\": -1.5, \"sos\": 0.48, \"srs\": -1.02, \"o_rtg\": 111.4, \"d_rtg\": 112.9, \"n_rtg\": -1.5, \"pace\": 100.2, \"f_tr\": 0.267, \"x3p_ar\": 0.315, \"ts_percent\": 0.552, \"e_fg_percent\": 0.511, \"tov_percent\": 11.4, \"orb_percent\": 24.6, \"ft_fga\": 0.21, \"opp_e_fg_percent\": 0.538, \"opp_tov_percent\": 12.9, \"opp_drb_percent\": 74.9, \"opp_ft_fga\": 0.19, \"arena\": \"Target Center\", \"attend\": 627543.0, \"attend_g\": 15306.0}, {\"Unnamed: 0\": 173, \"season\": 2019, \"lg\": \"NBA\", \"team\": \"New Orleans Pelicans\", \"abbreviation\": \"NOP\", \"playoffs\": false, \"age\": 25.7, \"w\": 33.0, \"l\": 49.0, \"pw\": 38.0, \"pl\": 44.0, \"mov\": -1.33, \"sos\": 0.23, \"srs\": -1.1, \"o_rtg\": 111.4, \"d_rtg\": 112.6, \"n_rtg\": -1.2, \"pace\": 103.3, \"f_tr\": 0.254, \"x3p_ar\": 0.324, \"ts_percent\": 0.563, \"e_fg_percent\": 0.529, \"tov_percent\": 12.6, \"orb_percent\": 24.1, \"ft_fga\": 0.193, \"opp_e_fg_percent\": 0.532, \"opp_tov_percent\": 11.6, \"opp_drb_percent\": 76.8, \"opp_ft_fga\": 0.193, \"arena\": \"Smoothie King Center\", \"attend\": 656183.0, \"attend_g\": 16004.0}, {\"Unnamed: 0\": 174, \"season\": 2019, \"lg\": \"NBA\", \"team\": \"New York Knicks\", \"abbreviation\": \"NYK\", \"playoffs\": false, \"age\": 23.4, \"w\": 17.0, \"l\": 65.0, \"pw\": 19.0, \"pl\": 63.0, \"mov\": -9.21, \"sos\": 0.28, \"srs\": -8.93, \"o_rtg\": 104.5, \"d_rtg\": 113.7, \"n_rtg\": -9.2, \"pace\": 99.6, \"f_tr\": 0.27, \"x3p_ar\": 0.334, \"ts_percent\": 0.529, \"e_fg_percent\": 0.49, \"tov_percent\": 12.4, \"orb_percent\": 22.1, \"ft_fga\": 0.205, \"opp_e_fg_percent\": 0.533, \"opp_tov_percent\": 11.7, \"opp_drb_percent\": 76.1, \"opp_ft_fga\": 0.203, \"arena\": \"Madison Square Garden (IV)\", \"attend\": 779087.0, \"attend_g\": 19002.0}, {\"Unnamed: 0\": 175, \"season\": 2019, \"lg\": \"NBA\", \"team\": \"Oklahoma City Thunder\", \"abbreviation\": \"OKC\", \"playoffs\": true, \"age\": 25.7, \"w\": 49.0, \"l\": 33.0, \"pw\": 50.0, \"pl\": 32.0, \"mov\": 3.4, \"sos\": 0.15, \"srs\": 3.56, \"o_rtg\": 110.3, \"d_rtg\": 107.0, \"n_rtg\": 3.3, \"pace\": 102.8, \"f_tr\": 0.266, \"x3p_ar\": 0.347, \"ts_percent\": 0.545, \"e_fg_percent\": 0.514, \"tov_percent\": 11.7, \"orb_percent\": 26.0, \"ft_fga\": 0.19, \"opp_e_fg_percent\": 0.523, \"opp_tov_percent\": 14.4, \"opp_drb_percent\": 78.2, \"opp_ft_fga\": 0.206, \"arena\": \"Chesapeake Energy Arena\", \"attend\": 746323.0, \"attend_g\": 18203.0}, {\"Unnamed: 0\": 176, \"season\": 2019, \"lg\": \"NBA\", \"team\": \"Orlando Magic\", \"abbreviation\": \"ORL\", \"playoffs\": true, \"age\": 25.7, \"w\": 42.0, \"l\": 40.0, \"pw\": 43.0, \"pl\": 39.0, \"mov\": 0.71, \"sos\": -0.43, \"srs\": 0.28, \"o_rtg\": 108.9, \"d_rtg\": 108.1, \"n_rtg\": 0.8, \"pace\": 98.1, \"f_tr\": 0.216, \"x3p_ar\": 0.36, \"ts_percent\": 0.55, \"e_fg_percent\": 0.518, \"tov_percent\": 11.9, \"orb_percent\": 22.0, \"ft_fga\": 0.168, \"opp_e_fg_percent\": 0.515, \"opp_tov_percent\": 11.8, \"opp_drb_percent\": 79.7, \"opp_ft_fga\": 0.186, \"arena\": \"Amway Center\", \"attend\": 720024.0, \"attend_g\": 17431.0}, {\"Unnamed: 0\": 177, \"season\": 2019, \"lg\": \"NBA\", \"team\": \"Philadelphia 76ers\", \"abbreviation\": \"PHI\", \"playoffs\": true, \"age\": 26.4, \"w\": 51.0, \"l\": 31.0, \"pw\": 48.0, \"pl\": 34.0, \"mov\": 2.7, \"sos\": -0.44, \"srs\": 2.25, \"o_rtg\": 112.6, \"d_rtg\": 110.0, \"n_rtg\": 2.6, \"pace\": 101.6, \"f_tr\": 0.312, \"x3p_ar\": 0.342, \"ts_percent\": 0.574, \"e_fg_percent\": 0.532, \"tov_percent\": 12.9, \"orb_percent\": 24.5, \"ft_fga\": 0.241, \"opp_e_fg_percent\": 0.512, \"opp_tov_percent\": 11.1, \"opp_drb_percent\": 78.6, \"opp_ft_fga\": 0.206, \"arena\": \"Wells Fargo Center\", \"attend\": 838342.0, \"attend_g\": 20447.0}, {\"Unnamed: 0\": 178, \"season\": 2019, \"lg\": \"NBA\", \"team\": \"Phoenix Suns\", \"abbreviation\": \"PHO\", \"playoffs\": false, \"age\": 24.0, \"w\": 19.0, \"l\": 63.0, \"pw\": 19.0, \"pl\": 63.0, \"mov\": -9.34, \"sos\": 0.73, \"srs\": -8.61, \"o_rtg\": 105.9, \"d_rtg\": 115.1, \"n_rtg\": -9.2, \"pace\": 100.5, \"f_tr\": 0.259, \"x3p_ar\": 0.335, \"ts_percent\": 0.552, \"e_fg_percent\": 0.514, \"tov_percent\": 13.8, \"orb_percent\": 20.5, \"ft_fga\": 0.202, \"opp_e_fg_percent\": 0.545, \"opp_tov_percent\": 13.5, \"opp_drb_percent\": 72.5, \"opp_ft_fga\": 0.236, \"arena\": \"Talking Stick Resort Arena\", \"attend\": 627023.0, \"attend_g\": 15293.0}, {\"Unnamed: 0\": 179, \"season\": 2019, \"lg\": \"NBA\", \"team\": \"Portland Trail Blazers\", \"abbreviation\": \"POR\", \"playoffs\": true, \"age\": 26.2, \"w\": 53.0, \"l\": 29.0, \"pw\": 51.0, \"pl\": 31.0, \"mov\": 4.2, \"sos\": 0.24, \"srs\": 4.43, \"o_rtg\": 114.7, \"d_rtg\": 110.5, \"n_rtg\": 4.2, \"pace\": 99.1, \"f_tr\": 0.258, \"x3p_ar\": 0.339, \"ts_percent\": 0.568, \"e_fg_percent\": 0.528, \"tov_percent\": 12.1, \"orb_percent\": 26.6, \"ft_fga\": 0.21, \"opp_e_fg_percent\": 0.516, \"opp_tov_percent\": 11.0, \"opp_drb_percent\": 77.9, \"opp_ft_fga\": 0.195, \"arena\": \"Moda Center\", \"attend\": 799345.0, \"attend_g\": 19496.0}, {\"Unnamed: 0\": 180, \"season\": 2019, \"lg\": \"NBA\", \"team\": \"Sacramento Kings\", \"abbreviation\": \"SAC\", \"playoffs\": false, \"age\": 24.8, \"w\": 39.0, \"l\": 43.0, \"pw\": 38.0, \"pl\": 44.0, \"mov\": -1.12, \"sos\": 0.31, \"srs\": -0.81, \"o_rtg\": 110.4, \"d_rtg\": 111.5, \"n_rtg\": -1.1, \"pace\": 103.1, \"f_tr\": 0.244, \"x3p_ar\": 0.321, \"ts_percent\": 0.554, \"e_fg_percent\": 0.524, \"tov_percent\": 11.5, \"orb_percent\": 23.1, \"ft_fga\": 0.177, \"opp_e_fg_percent\": 0.533, \"opp_tov_percent\": 13.6, \"opp_drb_percent\": 75.5, \"opp_ft_fga\": 0.207, \"arena\": \"Golden 1 Center\", \"attend\": 700975.0, \"attend_g\": 17097.0}, {\"Unnamed: 0\": 181, \"season\": 2019, \"lg\": \"NBA\", \"team\": \"San Antonio Spurs\", \"abbreviation\": \"SAS\", \"playoffs\": true, \"age\": 28.8, \"w\": 48.0, \"l\": 34.0, \"pw\": 45.0, \"pl\": 37.0, \"mov\": 1.68, \"sos\": 0.12, \"srs\": 1.8, \"o_rtg\": 112.9, \"d_rtg\": 111.2, \"n_rtg\": 1.7, \"pace\": 98.3, \"f_tr\": 0.237, \"x3p_ar\": 0.286, \"ts_percent\": 0.572, \"e_fg_percent\": 0.534, \"tov_percent\": 11.0, \"orb_percent\": 21.0, \"ft_fga\": 0.194, \"opp_e_fg_percent\": 0.528, \"opp_tov_percent\": 11.0, \"opp_drb_percent\": 79.4, \"opp_ft_fga\": 0.17, \"arena\": \"AT&T Center\", \"attend\": 750616.0, \"attend_g\": 18308.0}, {\"Unnamed: 0\": 182, \"season\": 2019, \"lg\": \"NBA\", \"team\": \"Toronto Raptors\", \"abbreviation\": \"TOR\", \"playoffs\": true, \"age\": 27.3, \"w\": 58.0, \"l\": 24.0, \"pw\": 56.0, \"pl\": 26.0, \"mov\": 6.09, \"sos\": -0.6, \"srs\": 5.49, \"o_rtg\": 113.1, \"d_rtg\": 107.1, \"n_rtg\": 6.0, \"pace\": 100.2, \"f_tr\": 0.247, \"x3p_ar\": 0.379, \"ts_percent\": 0.579, \"e_fg_percent\": 0.543, \"tov_percent\": 12.4, \"orb_percent\": 21.9, \"ft_fga\": 0.198, \"opp_e_fg_percent\": 0.509, \"opp_tov_percent\": 13.1, \"opp_drb_percent\": 77.1, \"opp_ft_fga\": 0.19, \"arena\": \"Scotiabank Arena\", \"attend\": 812822.0, \"attend_g\": 19825.0}, {\"Unnamed: 0\": 183, \"season\": 2019, \"lg\": \"NBA\", \"team\": \"Utah Jazz\", \"abbreviation\": \"UTA\", \"playoffs\": true, \"age\": 27.3, \"w\": 50.0, \"l\": 32.0, \"pw\": 54.0, \"pl\": 28.0, \"mov\": 5.26, \"sos\": 0.03, \"srs\": 5.28, \"o_rtg\": 110.9, \"d_rtg\": 105.7, \"n_rtg\": 5.2, \"pace\": 100.3, \"f_tr\": 0.295, \"x3p_ar\": 0.394, \"ts_percent\": 0.572, \"e_fg_percent\": 0.538, \"tov_percent\": 13.4, \"orb_percent\": 22.9, \"ft_fga\": 0.217, \"opp_e_fg_percent\": 0.507, \"opp_tov_percent\": 12.4, \"opp_drb_percent\": 80.3, \"opp_ft_fga\": 0.189, \"arena\": \"Vivint Smart Home Arena\", \"attend\": 750546.0, \"attend_g\": 18306.0}, {\"Unnamed: 0\": 184, \"season\": 2019, \"lg\": \"NBA\", \"team\": \"Washington Wizards\", \"abbreviation\": \"WAS\", \"playoffs\": false, \"age\": 26.5, \"w\": 32.0, \"l\": 50.0, \"pw\": 34.0, \"pl\": 48.0, \"mov\": -2.9, \"sos\": -0.4, \"srs\": -3.3, \"o_rtg\": 111.1, \"d_rtg\": 113.9, \"n_rtg\": -2.8, \"pace\": 101.4, \"f_tr\": 0.266, \"x3p_ar\": 0.37, \"ts_percent\": 0.567, \"e_fg_percent\": 0.531, \"tov_percent\": 12.3, \"orb_percent\": 21.3, \"ft_fga\": 0.204, \"opp_e_fg_percent\": 0.546, \"opp_tov_percent\": 13.5, \"opp_drb_percent\": 74.1, \"opp_ft_fga\": 0.199, \"arena\": \"Capital One Arena\", \"attend\": 716996.0, \"attend_g\": 17448.0}, {\"Unnamed: 0\": 185, \"season\": 2019, \"lg\": \"NBA\", \"team\": \"League Average\", \"abbreviation\": null, \"playoffs\": false, \"age\": 26.4, \"w\": null, \"l\": null, \"pw\": 41.0, \"pl\": 41.0, \"mov\": 0.0, \"sos\": 0.0, \"srs\": 0.0, \"o_rtg\": 110.4, \"d_rtg\": 110.4, \"n_rtg\": null, \"pace\": 100.0, \"f_tr\": 0.259, \"x3p_ar\": 0.359, \"ts_percent\": 0.56, \"e_fg_percent\": 0.524, \"tov_percent\": 12.4, \"orb_percent\": 22.9, \"ft_fga\": 0.198, \"opp_e_fg_percent\": 0.524, \"opp_tov_percent\": 12.4, \"opp_drb_percent\": 77.1, \"opp_ft_fga\": 0.198, \"arena\": null, \"attend\": 732148.0, \"attend_g\": 17853.0}, {\"Unnamed: 0\": 186, \"season\": 2018, \"lg\": \"NBA\", \"team\": \"Atlanta Hawks\", \"abbreviation\": \"ATL\", \"playoffs\": false, \"age\": 25.4, \"w\": 24.0, \"l\": 58.0, \"pw\": 27.0, \"pl\": 55.0, \"mov\": -5.45, \"sos\": 0.15, \"srs\": -5.3, \"o_rtg\": 105.0, \"d_rtg\": 110.6, \"n_rtg\": -5.6, \"pace\": 98.3, \"f_tr\": 0.236, \"x3p_ar\": 0.363, \"ts_percent\": 0.547, \"e_fg_percent\": 0.512, \"tov_percent\": 14.1, \"orb_percent\": 21.1, \"ft_fga\": 0.185, \"opp_e_fg_percent\": 0.536, \"opp_tov_percent\": 13.6, \"opp_drb_percent\": 76.2, \"opp_ft_fga\": 0.183, \"arena\": \"Philips Arena\", \"attend\": 590769.0, \"attend_g\": 14409.0}, {\"Unnamed: 0\": 187, \"season\": 2018, \"lg\": \"NBA\", \"team\": \"Boston Celtics\", \"abbreviation\": \"BOS\", \"playoffs\": true, \"age\": 24.7, \"w\": 55.0, \"l\": 27.0, \"pw\": 51.0, \"pl\": 31.0, \"mov\": 3.59, \"sos\": -0.35, \"srs\": 3.23, \"o_rtg\": 107.6, \"d_rtg\": 103.9, \"n_rtg\": 3.7, \"pace\": 96.0, \"f_tr\": 0.243, \"x3p_ar\": 0.357, \"ts_percent\": 0.552, \"e_fg_percent\": 0.518, \"tov_percent\": 13.0, \"orb_percent\": 21.5, \"ft_fga\": 0.188, \"opp_e_fg_percent\": 0.495, \"opp_tov_percent\": 13.0, \"opp_drb_percent\": 78.4, \"opp_ft_fga\": 0.191, \"arena\": \"TD Garden\", \"attend\": 763584.0, \"attend_g\": 18624.0}, {\"Unnamed: 0\": 188, \"season\": 2018, \"lg\": \"NBA\", \"team\": \"Brooklyn Nets\", \"abbreviation\": \"BRK\", \"playoffs\": false, \"age\": 25.1, \"w\": 28.0, \"l\": 54.0, \"pw\": 31.0, \"pl\": 51.0, \"mov\": -3.74, \"sos\": 0.07, \"srs\": -3.67, \"o_rtg\": 106.9, \"d_rtg\": 110.6, \"n_rtg\": -3.7, \"pace\": 98.9, \"f_tr\": 0.26, \"x3p_ar\": 0.411, \"ts_percent\": 0.551, \"e_fg_percent\": 0.514, \"tov_percent\": 13.6, \"orb_percent\": 21.0, \"ft_fga\": 0.201, \"opp_e_fg_percent\": 0.517, \"opp_tov_percent\": 11.0, \"opp_drb_percent\": 77.0, \"opp_ft_fga\": 0.201, \"arena\": \"Barclays Center\", \"attend\": 640010.0, \"attend_g\": 15376.0}, {\"Unnamed: 0\": 189, \"season\": 2018, \"lg\": \"NBA\", \"team\": \"Chicago Bulls\", \"abbreviation\": \"CHI\", \"playoffs\": false, \"age\": 24.4, \"w\": 27.0, \"l\": 55.0, \"pw\": 23.0, \"pl\": 59.0, \"mov\": -7.04, \"sos\": 0.2, \"srs\": -6.84, \"o_rtg\": 103.8, \"d_rtg\": 110.9, \"n_rtg\": -7.1, \"pace\": 98.3, \"f_tr\": 0.216, \"x3p_ar\": 0.35, \"ts_percent\": 0.529, \"e_fg_percent\": 0.497, \"tov_percent\": 12.6, \"orb_percent\": 20.6, \"ft_fga\": 0.164, \"opp_e_fg_percent\": 0.542, \"opp_tov_percent\": 12.4, \"opp_drb_percent\": 80.6, \"opp_ft_fga\": 0.184, \"arena\": \"United Center\", \"attend\": 851824.0, \"attend_g\": 20776.0}, {\"Unnamed: 0\": 190, \"season\": 2018, \"lg\": \"NBA\", \"team\": \"Charlotte Hornets\", \"abbreviation\": \"CHO\", \"playoffs\": false, \"age\": 26.6, \"w\": 36.0, \"l\": 46.0, \"pw\": 42.0, \"pl\": 40.0, \"mov\": 0.26, \"sos\": -0.19, \"srs\": 0.07, \"o_rtg\": 109.4, \"d_rtg\": 109.1, \"n_rtg\": 0.3, \"pace\": 98.4, \"f_tr\": 0.312, \"x3p_ar\": 0.314, \"ts_percent\": 0.549, \"e_fg_percent\": 0.508, \"tov_percent\": 11.4, \"orb_percent\": 22.2, \"ft_fga\": 0.233, \"opp_e_fg_percent\": 0.532, \"opp_tov_percent\": 12.4, \"opp_drb_percent\": 80.7, \"opp_ft_fga\": 0.165, \"arena\": \"Spectrum Center\", \"attend\": 671404.0, \"attend_g\": 16376.0}, {\"Unnamed: 0\": 191, \"season\": 2018, \"lg\": \"NBA\", \"team\": \"Cleveland Cavaliers\", \"abbreviation\": \"CLE\", \"playoffs\": true, \"age\": 30.6, \"w\": 50.0, \"l\": 32.0, \"pw\": 43.0, \"pl\": 39.0, \"mov\": 0.94, \"sos\": -0.35, \"srs\": 0.59, \"o_rtg\": 112.9, \"d_rtg\": 111.9, \"n_rtg\": 1.0, \"pace\": 98.0, \"f_tr\": 0.275, \"x3p_ar\": 0.379, \"ts_percent\": 0.584, \"e_fg_percent\": 0.547, \"tov_percent\": 12.6, \"orb_percent\": 20.1, \"ft_fga\": 0.214, \"opp_e_fg_percent\": 0.54, \"opp_tov_percent\": 12.2, \"opp_drb_percent\": 77.3, \"opp_ft_fga\": 0.166, \"arena\": \"Quicken Loans Arena\", \"attend\": 843042.0, \"attend_g\": 20562.0}, {\"Unnamed: 0\": 192, \"season\": 2018, \"lg\": \"NBA\", \"team\": \"Dallas Mavericks\", \"abbreviation\": \"DAL\", \"playoffs\": false, \"age\": 27.7, \"w\": 24.0, \"l\": 58.0, \"pw\": 33.0, \"pl\": 49.0, \"mov\": -3.04, \"sos\": 0.34, \"srs\": -2.7, \"o_rtg\": 106.3, \"d_rtg\": 109.5, \"n_rtg\": -3.2, \"pace\": 95.6, \"f_tr\": 0.217, \"x3p_ar\": 0.382, \"ts_percent\": 0.544, \"e_fg_percent\": 0.513, \"tov_percent\": 11.6, \"orb_percent\": 18.0, \"ft_fga\": 0.166, \"opp_e_fg_percent\": 0.532, \"opp_tov_percent\": 12.9, \"opp_drb_percent\": 78.9, \"opp_ft_fga\": 0.193, \"arena\": \"American Airlines Center\", \"attend\": 811453.0, \"attend_g\": 19792.0}, {\"Unnamed: 0\": 193, \"season\": 2018, \"lg\": \"NBA\", \"team\": \"Denver Nuggets\", \"abbreviation\": \"DEN\", \"playoffs\": false, \"age\": 25.1, \"w\": 46.0, \"l\": 36.0, \"pw\": 45.0, \"pl\": 37.0, \"mov\": 1.48, \"sos\": 0.09, \"srs\": 1.57, \"o_rtg\": 112.5, \"d_rtg\": 111.0, \"n_rtg\": 1.5, \"pace\": 96.8, \"f_tr\": 0.258, \"x3p_ar\": 0.357, \"ts_percent\": 0.57, \"e_fg_percent\": 0.536, \"tov_percent\": 13.4, \"orb_percent\": 25.7, \"ft_fga\": 0.198, \"opp_e_fg_percent\": 0.539, \"opp_tov_percent\": 12.6, \"opp_drb_percent\": 77.5, \"opp_ft_fga\": 0.173, \"arena\": \"Pepsi Center\", \"attend\": 702796.0, \"attend_g\": 17141.0}, {\"Unnamed: 0\": 194, \"season\": 2018, \"lg\": \"NBA\", \"team\": \"Detroit Pistons\", \"abbreviation\": \"DET\", \"playoffs\": false, \"age\": 25.9, \"w\": 39.0, \"l\": 43.0, \"pw\": 41.0, \"pl\": 41.0, \"mov\": -0.15, \"sos\": -0.11, \"srs\": -0.26, \"o_rtg\": 107.2, \"d_rtg\": 107.3, \"n_rtg\": -0.1, \"pace\": 96.2, \"f_tr\": 0.227, \"x3p_ar\": 0.333, \"ts_percent\": 0.543, \"e_fg_percent\": 0.512, \"tov_percent\": 12.3, \"orb_percent\": 22.7, \"ft_fga\": 0.169, \"opp_e_fg_percent\": 0.524, \"opp_tov_percent\": 13.7, \"opp_drb_percent\": 78.5, \"opp_ft_fga\": 0.172, \"arena\": \"Little Caesars Arena\", \"attend\": 713945.0, \"attend_g\": 17413.0}, {\"Unnamed: 0\": 195, \"season\": 2018, \"lg\": \"NBA\", \"team\": \"Golden State Warriors\", \"abbreviation\": \"GSW\", \"playoffs\": true, \"age\": 28.8, \"w\": 58.0, \"l\": 24.0, \"pw\": 56.0, \"pl\": 26.0, \"mov\": 5.98, \"sos\": -0.19, \"srs\": 5.79, \"o_rtg\": 113.6, \"d_rtg\": 107.6, \"n_rtg\": 6.0, \"pace\": 99.6, \"f_tr\": 0.239, \"x3p_ar\": 0.339, \"ts_percent\": 0.603, \"e_fg_percent\": 0.569, \"tov_percent\": 14.1, \"orb_percent\": 21.0, \"ft_fga\": 0.195, \"opp_e_fg_percent\": 0.504, \"opp_tov_percent\": 12.6, \"opp_drb_percent\": 76.3, \"opp_ft_fga\": 0.186, \"arena\": \"Oracle Arena\", \"attend\": 803436.0, \"attend_g\": 19596.0}, {\"Unnamed: 0\": 196, \"season\": 2018, \"lg\": \"NBA\", \"team\": \"Houston Rockets\", \"abbreviation\": \"HOU\", \"playoffs\": true, \"age\": 29.8, \"w\": 65.0, \"l\": 17.0, \"pw\": 61.0, \"pl\": 21.0, \"mov\": 8.48, \"sos\": -0.27, \"srs\": 8.21, \"o_rtg\": 114.7, \"d_rtg\": 106.1, \"n_rtg\": 8.6, \"pace\": 97.6, \"f_tr\": 0.298, \"x3p_ar\": 0.502, \"ts_percent\": 0.59, \"e_fg_percent\": 0.551, \"tov_percent\": 12.7, \"orb_percent\": 21.3, \"ft_fga\": 0.233, \"opp_e_fg_percent\": 0.521, \"opp_tov_percent\": 13.4, \"opp_drb_percent\": 79.9, \"opp_ft_fga\": 0.171, \"arena\": \"Toyota Center\", \"attend\": 732722.0, \"attend_g\": 17871.0}, {\"Unnamed: 0\": 197, \"season\": 2018, \"lg\": \"NBA\", \"team\": \"Indiana Pacers\", \"abbreviation\": \"IND\", \"playoffs\": true, \"age\": 26.2, \"w\": 48.0, \"l\": 34.0, \"pw\": 45.0, \"pl\": 37.0, \"mov\": 1.38, \"sos\": -0.2, \"srs\": 1.18, \"o_rtg\": 109.5, \"d_rtg\": 108.1, \"n_rtg\": 1.4, \"pace\": 96.0, \"f_tr\": 0.222, \"x3p_ar\": 0.284, \"ts_percent\": 0.557, \"e_fg_percent\": 0.525, \"tov_percent\": 12.3, \"orb_percent\": 22.7, \"ft_fga\": 0.173, \"opp_e_fg_percent\": 0.527, \"opp_tov_percent\": 14.2, \"opp_drb_percent\": 76.2, \"opp_ft_fga\": 0.174, \"arena\": \"Bankers Life Fieldhouse\", \"attend\": 658119.0, \"attend_g\": 16052.0}, {\"Unnamed: 0\": 198, \"season\": 2018, \"lg\": \"NBA\", \"team\": \"Los Angeles Clippers\", \"abbreviation\": \"LAC\", \"playoffs\": false, \"age\": 27.0, \"w\": 42.0, \"l\": 40.0, \"pw\": 41.0, \"pl\": 41.0, \"mov\": 0.04, \"sos\": 0.11, \"srs\": 0.15, \"o_rtg\": 110.3, \"d_rtg\": 110.2, \"n_rtg\": 0.1, \"pace\": 98.7, \"f_tr\": 0.299, \"x3p_ar\": 0.314, \"ts_percent\": 0.564, \"e_fg_percent\": 0.527, \"tov_percent\": 13.2, \"orb_percent\": 23.5, \"ft_fga\": 0.222, \"opp_e_fg_percent\": 0.52, \"opp_tov_percent\": 12.6, \"opp_drb_percent\": 76.1, \"opp_ft_fga\": 0.203, \"arena\": \"STAPLES Center\", \"attend\": 697812.0, \"attend_g\": 17020.0}, {\"Unnamed: 0\": 199, \"season\": 2018, \"lg\": \"NBA\", \"team\": \"Los Angeles Lakers\", \"abbreviation\": \"LAL\", \"playoffs\": false, \"age\": 23.7, \"w\": 35.0, \"l\": 47.0, \"pw\": 37.0, \"pl\": 45.0, \"mov\": -1.55, \"sos\": 0.11, \"srs\": -1.44, \"o_rtg\": 106.5, \"d_rtg\": 108.0, \"n_rtg\": -1.5, \"pace\": 100.3, \"f_tr\": 0.264, \"x3p_ar\": 0.329, \"ts_percent\": 0.548, \"e_fg_percent\": 0.517, \"tov_percent\": 13.8, \"orb_percent\": 23.6, \"ft_fga\": 0.188, \"opp_e_fg_percent\": 0.514, \"opp_tov_percent\": 12.5, \"opp_drb_percent\": 77.7, \"opp_ft_fga\": 0.19, \"arena\": \"STAPLES Center\", \"attend\": 776327.0, \"attend_g\": 18935.0}, {\"Unnamed: 0\": 200, \"season\": 2018, \"lg\": \"NBA\", \"team\": \"Memphis Grizzlies\", \"abbreviation\": \"MEM\", \"playoffs\": false, \"age\": 26.0, \"w\": 22.0, \"l\": 60.0, \"pw\": 25.0, \"pl\": 57.0, \"mov\": -6.21, \"sos\": 0.39, \"srs\": -5.81, \"o_rtg\": 104.5, \"d_rtg\": 111.0, \"n_rtg\": -6.5, \"pace\": 94.9, \"f_tr\": 0.255, \"x3p_ar\": 0.317, \"ts_percent\": 0.539, \"e_fg_percent\": 0.5, \"tov_percent\": 14.0, \"orb_percent\": 22.4, \"ft_fga\": 0.201, \"opp_e_fg_percent\": 0.529, \"opp_tov_percent\": 13.8, \"opp_drb_percent\": 76.5, \"opp_ft_fga\": 0.256, \"arena\": \"FedEx Forum\", \"attend\": 653863.0, \"attend_g\": 15948.0}, {\"Unnamed: 0\": 201, \"season\": 2018, \"lg\": \"NBA\", \"team\": \"Miami Heat\", \"abbreviation\": \"MIA\", \"playoffs\": true, \"age\": 26.5, \"w\": 44.0, \"l\": 38.0, \"pw\": 42.0, \"pl\": 40.0, \"mov\": 0.48, \"sos\": -0.33, \"srs\": 0.15, \"o_rtg\": 106.8, \"d_rtg\": 106.3, \"n_rtg\": 0.5, \"pace\": 95.6, \"f_tr\": 0.229, \"x3p_ar\": 0.358, \"ts_percent\": 0.551, \"e_fg_percent\": 0.52, \"tov_percent\": 13.3, \"orb_percent\": 21.5, \"ft_fga\": 0.173, \"opp_e_fg_percent\": 0.507, \"opp_tov_percent\": 13.1, \"opp_drb_percent\": 79.0, \"opp_ft_fga\": 0.215, \"arena\": \"AmericanAirlines Arena\", \"attend\": 804850.0, \"attend_g\": 19630.0}, {\"Unnamed: 0\": 202, \"season\": 2018, \"lg\": \"NBA\", \"team\": \"Milwaukee Bucks\", \"abbreviation\": \"MIL\", \"playoffs\": true, \"age\": 25.9, \"w\": 44.0, \"l\": 38.0, \"pw\": 40.0, \"pl\": 42.0, \"mov\": -0.3, \"sos\": -0.15, \"srs\": -0.45, \"o_rtg\": 109.8, \"d_rtg\": 110.1, \"n_rtg\": -0.3, \"pace\": 96.2, \"f_tr\": 0.281, \"x3p_ar\": 0.297, \"ts_percent\": 0.571, \"e_fg_percent\": 0.531, \"tov_percent\": 12.9, \"orb_percent\": 20.4, \"ft_fga\": 0.22, \"opp_e_fg_percent\": 0.528, \"opp_tov_percent\": 14.2, \"opp_drb_percent\": 75.9, \"opp_ft_fga\": 0.22, \"arena\": \"BMO Harris Bradley Center\", \"attend\": 685303.0, \"attend_g\": 16856.0}, {\"Unnamed: 0\": 203, \"season\": 2018, \"lg\": \"NBA\", \"team\": \"Minnesota Timberwolves\", \"abbreviation\": \"MIN\", \"playoffs\": true, \"age\": 27.1, \"w\": 47.0, \"l\": 35.0, \"pw\": 47.0, \"pl\": 35.0, \"mov\": 2.23, \"sos\": 0.12, \"srs\": 2.35, \"o_rtg\": 113.4, \"d_rtg\": 111.1, \"n_rtg\": 2.3, \"pace\": 96.0, \"f_tr\": 0.28, \"x3p_ar\": 0.261, \"ts_percent\": 0.566, \"e_fg_percent\": 0.523, \"tov_percent\": 11.4, \"orb_percent\": 24.4, \"ft_fga\": 0.225, \"opp_e_fg_percent\": 0.539, \"opp_tov_percent\": 13.9, \"opp_drb_percent\": 76.4, \"opp_ft_fga\": 0.189, \"arena\": \"Target Center\", \"attend\": 699308.0, \"attend_g\": 17056.0}, {\"Unnamed: 0\": 204, \"season\": 2018, \"lg\": \"NBA\", \"team\": \"New Orleans Pelicans\", \"abbreviation\": \"NOP\", \"playoffs\": true, \"age\": 27.6, \"w\": 48.0, \"l\": 34.0, \"pw\": 44.0, \"pl\": 38.0, \"mov\": 1.3, \"sos\": 0.18, \"srs\": 1.48, \"o_rtg\": 109.6, \"d_rtg\": 108.3, \"n_rtg\": 1.3, \"pace\": 100.5, \"f_tr\": 0.237, \"x3p_ar\": 0.319, \"ts_percent\": 0.573, \"e_fg_percent\": 0.541, \"tov_percent\": 13.3, \"orb_percent\": 20.0, \"ft_fga\": 0.183, \"opp_e_fg_percent\": 0.513, \"opp_tov_percent\": 12.5, \"opp_drb_percent\": 76.7, \"opp_ft_fga\": 0.175, \"arena\": \"Smoothie King Center\", \"attend\": 673920.0, \"attend_g\": 16437.0}, {\"Unnamed: 0\": 205, \"season\": 2018, \"lg\": \"NBA\", \"team\": \"New York Knicks\", \"abbreviation\": \"NYK\", \"playoffs\": false, \"age\": 26.3, \"w\": 29.0, \"l\": 53.0, \"pw\": 32.0, \"pl\": 50.0, \"mov\": -3.56, \"sos\": 0.03, \"srs\": -3.53, \"o_rtg\": 107.1, \"d_rtg\": 110.7, \"n_rtg\": -3.6, \"pace\": 96.8, \"f_tr\": 0.216, \"x3p_ar\": 0.266, \"ts_percent\": 0.544, \"e_fg_percent\": 0.51, \"tov_percent\": 13.3, \"orb_percent\": 24.1, \"ft_fga\": 0.17, \"opp_e_fg_percent\": 0.522, \"opp_tov_percent\": 12.2, \"opp_drb_percent\": 76.7, \"opp_ft_fga\": 0.208, \"arena\": \"Madison Square Garden (IV)\", \"attend\": 792608.0, \"attend_g\": 19332.0}, {\"Unnamed: 0\": 206, \"season\": 2018, \"lg\": \"NBA\", \"team\": \"Oklahoma City Thunder\", \"abbreviation\": \"OKC\", \"playoffs\": true, \"age\": 27.3, \"w\": 48.0, \"l\": 34.0, \"pw\": 50.0, \"pl\": 32.0, \"mov\": 3.41, \"sos\": 0.0, \"srs\": 3.42, \"o_rtg\": 110.7, \"d_rtg\": 107.2, \"n_rtg\": 3.5, \"pace\": 96.7, \"f_tr\": 0.275, \"x3p_ar\": 0.345, \"ts_percent\": 0.546, \"e_fg_percent\": 0.514, \"tov_percent\": 12.4, \"orb_percent\": 27.7, \"ft_fga\": 0.197, \"opp_e_fg_percent\": 0.525, \"opp_tov_percent\": 14.7, \"opp_drb_percent\": 77.4, \"opp_ft_fga\": 0.193, \"arena\": \"Chesapeake Energy Arena\", \"attend\": 746322.0, \"attend_g\": 18203.0}, {\"Unnamed: 0\": 207, \"season\": 2018, \"lg\": \"NBA\", \"team\": \"Orlando Magic\", \"abbreviation\": \"ORL\", \"playoffs\": false, \"age\": 25.6, \"w\": 25.0, \"l\": 57.0, \"pw\": 28.0, \"pl\": 54.0, \"mov\": -4.82, \"sos\": -0.1, \"srs\": -4.92, \"o_rtg\": 105.2, \"d_rtg\": 110.1, \"n_rtg\": -4.9, \"pace\": 98.1, \"f_tr\": 0.238, \"x3p_ar\": 0.342, \"ts_percent\": 0.545, \"e_fg_percent\": 0.512, \"tov_percent\": 13.3, \"orb_percent\": 20.0, \"ft_fga\": 0.18, \"opp_e_fg_percent\": 0.525, \"opp_tov_percent\": 12.8, \"opp_drb_percent\": 75.6, \"opp_ft_fga\": 0.187, \"arena\": \"Amway Center\", \"attend\": 734531.0, \"attend_g\": 17915.0}, {\"Unnamed: 0\": 208, \"season\": 2018, \"lg\": \"NBA\", \"team\": \"Philadelphia 76ers\", \"abbreviation\": \"PHI\", \"playoffs\": true, \"age\": 25.8, \"w\": 52.0, \"l\": 30.0, \"pw\": 53.0, \"pl\": 29.0, \"mov\": 4.5, \"sos\": -0.2, \"srs\": 4.3, \"o_rtg\": 109.5, \"d_rtg\": 105.0, \"n_rtg\": 4.5, \"pace\": 99.8, \"f_tr\": 0.263, \"x3p_ar\": 0.344, \"ts_percent\": 0.568, \"e_fg_percent\": 0.535, \"tov_percent\": 14.6, \"orb_percent\": 25.3, \"ft_fga\": 0.198, \"opp_e_fg_percent\": 0.492, \"opp_tov_percent\": 12.6, \"opp_drb_percent\": 78.6, \"opp_ft_fga\": 0.218, \"arena\": \"Wells Fargo Center\", \"attend\": 833503.0, \"attend_g\": 20361.0}, {\"Unnamed: 0\": 209, \"season\": 2018, \"lg\": \"NBA\", \"team\": \"Phoenix Suns\", \"abbreviation\": \"PHO\", \"playoffs\": false, \"age\": 23.7, \"w\": 21.0, \"l\": 61.0, \"pw\": 19.0, \"pl\": 63.0, \"mov\": -9.37, \"sos\": 0.57, \"srs\": -8.8, \"o_rtg\": 103.5, \"d_rtg\": 112.8, \"n_rtg\": -9.3, \"pace\": 100.3, \"f_tr\": 0.275, \"x3p_ar\": 0.32, \"ts_percent\": 0.532, \"e_fg_percent\": 0.495, \"tov_percent\": 13.9, \"orb_percent\": 22.5, \"ft_fga\": 0.203, \"opp_e_fg_percent\": 0.533, \"opp_tov_percent\": 11.9, \"opp_drb_percent\": 76.5, \"opp_ft_fga\": 0.212, \"arena\": \"Talking Stick Resort Arena\", \"attend\": 690576.0, \"attend_g\": 16843.0}, {\"Unnamed: 0\": 210, \"season\": 2018, \"lg\": \"NBA\", \"team\": \"Portland Trail Blazers\", \"abbreviation\": \"POR\", \"playoffs\": true, \"age\": 25.6, \"w\": 49.0, \"l\": 33.0, \"pw\": 48.0, \"pl\": 34.0, \"mov\": 2.6, \"sos\": 0.0, \"srs\": 2.6, \"o_rtg\": 109.1, \"d_rtg\": 106.4, \"n_rtg\": 2.7, \"pace\": 96.5, \"f_tr\": 0.24, \"x3p_ar\": 0.324, \"ts_percent\": 0.549, \"e_fg_percent\": 0.511, \"tov_percent\": 12.3, \"orb_percent\": 23.3, \"ft_fga\": 0.192, \"opp_e_fg_percent\": 0.503, \"opp_tov_percent\": 11.7, \"opp_drb_percent\": 79.1, \"opp_ft_fga\": 0.193, \"arena\": \"Moda Center\", \"attend\": 795750.0, \"attend_g\": 19409.0}, {\"Unnamed: 0\": 211, \"season\": 2018, \"lg\": \"NBA\", \"team\": \"Sacramento Kings\", \"abbreviation\": \"SAC\", \"playoffs\": false, \"age\": 26.4, \"w\": 27.0, \"l\": 55.0, \"pw\": 23.0, \"pl\": 59.0, \"mov\": -6.99, \"sos\": 0.39, \"srs\": -6.6, \"o_rtg\": 103.7, \"d_rtg\": 111.1, \"n_rtg\": -7.4, \"pace\": 94.9, \"f_tr\": 0.194, \"x3p_ar\": 0.278, \"ts_percent\": 0.529, \"e_fg_percent\": 0.502, \"tov_percent\": 12.8, \"orb_percent\": 21.5, \"ft_fga\": 0.143, \"opp_e_fg_percent\": 0.542, \"opp_tov_percent\": 13.5, \"opp_drb_percent\": 77.6, \"opp_ft_fga\": 0.199, \"arena\": \"Golden 1 Center\", \"attend\": 714680.0, \"attend_g\": 17431.0}, {\"Unnamed: 0\": 212, \"season\": 2018, \"lg\": \"NBA\", \"team\": \"San Antonio Spurs\", \"abbreviation\": \"SAS\", \"playoffs\": true, \"age\": 29.3, \"w\": 47.0, \"l\": 35.0, \"pw\": 49.0, \"pl\": 33.0, \"mov\": 2.89, \"sos\": 0.0, \"srs\": 2.89, \"o_rtg\": 107.9, \"d_rtg\": 104.8, \"n_rtg\": 3.1, \"pace\": 95.0, \"f_tr\": 0.245, \"x3p_ar\": 0.282, \"ts_percent\": 0.543, \"e_fg_percent\": 0.507, \"tov_percent\": 12.2, \"orb_percent\": 23.7, \"ft_fga\": 0.189, \"opp_e_fg_percent\": 0.507, \"opp_tov_percent\": 13.2, \"opp_drb_percent\": 78.6, \"opp_ft_fga\": 0.17, \"arena\": \"AT&T Center\", \"attend\": 754562.0, \"attend_g\": 18404.0}, {\"Unnamed: 0\": 213, \"season\": 2018, \"lg\": \"NBA\", \"team\": \"Toronto Raptors\", \"abbreviation\": \"TOR\", \"playoffs\": true, \"age\": 25.8, \"w\": 59.0, \"l\": 23.0, \"pw\": 60.0, \"pl\": 22.0, \"mov\": 7.78, \"sos\": -0.49, \"srs\": 7.29, \"o_rtg\": 113.8, \"d_rtg\": 105.9, \"n_rtg\": 7.9, \"pace\": 97.4, \"f_tr\": 0.25, \"x3p_ar\": 0.377, \"ts_percent\": 0.575, \"e_fg_percent\": 0.539, \"tov_percent\": 12.1, \"orb_percent\": 23.0, \"ft_fga\": 0.198, \"opp_e_fg_percent\": 0.501, \"opp_tov_percent\": 13.0, \"opp_drb_percent\": 77.7, \"opp_ft_fga\": 0.212, \"arena\": \"Air Canada Centre\", \"attend\": 813431.0, \"attend_g\": 19840.0}, {\"Unnamed: 0\": 214, \"season\": 2018, \"lg\": \"NBA\", \"team\": \"Utah Jazz\", \"abbreviation\": \"UTA\", \"playoffs\": true, \"age\": 26.7, \"w\": 48.0, \"l\": 34.0, \"pw\": 53.0, \"pl\": 29.0, \"mov\": 4.3, \"sos\": 0.17, \"srs\": 4.47, \"o_rtg\": 108.4, \"d_rtg\": 103.9, \"n_rtg\": 4.5, \"pace\": 95.7, \"f_tr\": 0.26, \"x3p_ar\": 0.357, \"ts_percent\": 0.564, \"e_fg_percent\": 0.527, \"tov_percent\": 13.7, \"orb_percent\": 21.5, \"ft_fga\": 0.202, \"opp_e_fg_percent\": 0.506, \"opp_tov_percent\": 14.0, \"opp_drb_percent\": 79.8, \"opp_ft_fga\": 0.19, \"arena\": \"Vivint Smart Home Arena\", \"attend\": 734806.0, \"attend_g\": 17922.0}, {\"Unnamed: 0\": 215, \"season\": 2018, \"lg\": \"NBA\", \"team\": \"Washington Wizards\", \"abbreviation\": \"WAS\", \"playoffs\": true, \"age\": 26.9, \"w\": 43.0, \"l\": 39.0, \"pw\": 43.0, \"pl\": 39.0, \"mov\": 0.59, \"sos\": -0.06, \"srs\": 0.53, \"o_rtg\": 109.3, \"d_rtg\": 108.7, \"n_rtg\": 0.6, \"pace\": 96.6, \"f_tr\": 0.254, \"x3p_ar\": 0.31, \"ts_percent\": 0.56, \"e_fg_percent\": 0.525, \"tov_percent\": 13.3, \"orb_percent\": 23.5, \"ft_fga\": 0.196, \"opp_e_fg_percent\": 0.522, \"opp_tov_percent\": 13.6, \"opp_drb_percent\": 77.1, \"opp_ft_fga\": 0.212, \"arena\": \"Capital One Arena\", \"attend\": 739302.0, \"attend_g\": 18032.0}, {\"Unnamed: 0\": 216, \"season\": 2018, \"lg\": \"NBA\", \"team\": \"League Average\", \"abbreviation\": null, \"playoffs\": false, \"age\": 26.6, \"w\": null, \"l\": null, \"pw\": 41.0, \"pl\": 41.0, \"mov\": 0.0, \"sos\": 0.0, \"srs\": 0.0, \"o_rtg\": 108.6, \"d_rtg\": 108.6, \"n_rtg\": null, \"pace\": 97.3, \"f_tr\": 0.252, \"x3p_ar\": 0.337, \"ts_percent\": 0.556, \"e_fg_percent\": 0.521, \"tov_percent\": 13.0, \"orb_percent\": 22.3, \"ft_fga\": 0.193, \"opp_e_fg_percent\": 0.521, \"opp_tov_percent\": 13.0, \"opp_drb_percent\": 77.7, \"opp_ft_fga\": 0.193, \"arena\": null, \"attend\": 737485.0, \"attend_g\": 17989.0}, {\"Unnamed: 0\": 217, \"season\": 2017, \"lg\": \"NBA\", \"team\": \"Atlanta Hawks\", \"abbreviation\": \"ATL\", \"playoffs\": true, \"age\": 27.9, \"w\": 43.0, \"l\": 39.0, \"pw\": 39.0, \"pl\": 43.0, \"mov\": -0.85, \"sos\": -0.38, \"srs\": -1.23, \"o_rtg\": 104.9, \"d_rtg\": 105.7, \"n_rtg\": -0.8, \"pace\": 97.4, \"f_tr\": 0.295, \"x3p_ar\": 0.309, \"ts_percent\": 0.541, \"e_fg_percent\": 0.504, \"tov_percent\": 14.2, \"orb_percent\": 23.6, \"ft_fga\": 0.215, \"opp_e_fg_percent\": 0.507, \"opp_tov_percent\": 13.8, \"opp_drb_percent\": 76.1, \"opp_ft_fga\": 0.179, \"arena\": \"Philips Arena\", \"attend\": 654306.0, \"attend_g\": 15959.0}, {\"Unnamed: 0\": 218, \"season\": 2017, \"lg\": \"NBA\", \"team\": \"Boston Celtics\", \"abbreviation\": \"BOS\", \"playoffs\": true, \"age\": 25.9, \"w\": 53.0, \"l\": 29.0, \"pw\": 48.0, \"pl\": 34.0, \"mov\": 2.63, \"sos\": -0.39, \"srs\": 2.25, \"o_rtg\": 111.2, \"d_rtg\": 108.4, \"n_rtg\": 2.8, \"pace\": 96.8, \"f_tr\": 0.273, \"x3p_ar\": 0.393, \"ts_percent\": 0.567, \"e_fg_percent\": 0.525, \"tov_percent\": 12.2, \"orb_percent\": 21.2, \"ft_fga\": 0.22, \"opp_e_fg_percent\": 0.503, \"opp_tov_percent\": 12.6, \"opp_drb_percent\": 75.3, \"opp_ft_fga\": 0.223, \"arena\": \"TD Garden\", \"attend\": 760690.0, \"attend_g\": 18553.0}, {\"Unnamed: 0\": 219, \"season\": 2017, \"lg\": \"NBA\", \"team\": \"Brooklyn Nets\", \"abbreviation\": \"BRK\", \"playoffs\": false, \"age\": 26.0, \"w\": 20.0, \"l\": 62.0, \"pw\": 24.0, \"pl\": 58.0, \"mov\": -6.73, \"sos\": -0.01, \"srs\": -6.74, \"o_rtg\": 104.1, \"d_rtg\": 110.7, \"n_rtg\": -6.6, \"pace\": 101.3, \"f_tr\": 0.289, \"x3p_ar\": 0.371, \"ts_percent\": 0.551, \"e_fg_percent\": 0.507, \"tov_percent\": 14.7, \"orb_percent\": 19.6, \"ft_fga\": 0.228, \"opp_e_fg_percent\": 0.513, \"opp_tov_percent\": 11.6, \"opp_drb_percent\": 76.1, \"opp_ft_fga\": 0.212, \"arena\": \"Barclays Center\", \"attend\": 632608.0, \"attend_g\": 15429.0}, {\"Unnamed: 0\": 220, \"season\": 2017, \"lg\": \"NBA\", \"team\": \"Chicago Bulls\", \"abbreviation\": \"CHI\", \"playoffs\": true, \"age\": 26.9, \"w\": 41.0, \"l\": 41.0, \"pw\": 42.0, \"pl\": 40.0, \"mov\": 0.43, \"sos\": -0.39, \"srs\": 0.03, \"o_rtg\": 107.4, \"d_rtg\": 107.0, \"n_rtg\": 0.4, \"pace\": 95.3, \"f_tr\": 0.259, \"x3p_ar\": 0.256, \"ts_percent\": 0.53, \"e_fg_percent\": 0.487, \"tov_percent\": 12.3, \"orb_percent\": 27.0, \"ft_fga\": 0.206, \"opp_e_fg_percent\": 0.507, \"opp_tov_percent\": 12.4, \"opp_drb_percent\": 76.8, \"opp_ft_fga\": 0.169, \"arena\": \"United Center\", \"attend\": 888882.0, \"attend_g\": 21680.0}, {\"Unnamed: 0\": 221, \"season\": 2017, \"lg\": \"NBA\", \"team\": \"Charlotte Hornets\", \"abbreviation\": \"CHO\", \"playoffs\": false, \"age\": 26.5, \"w\": 36.0, \"l\": 46.0, \"pw\": 42.0, \"pl\": 40.0, \"mov\": 0.2, \"sos\": -0.26, \"srs\": -0.07, \"o_rtg\": 108.8, \"d_rtg\": 108.6, \"n_rtg\": 0.2, \"pace\": 95.7, \"f_tr\": 0.279, \"x3p_ar\": 0.335, \"ts_percent\": 0.547, \"e_fg_percent\": 0.501, \"tov_percent\": 10.7, \"orb_percent\": 19.9, \"ft_fga\": 0.227, \"opp_e_fg_percent\": 0.523, \"opp_tov_percent\": 12.1, \"opp_drb_percent\": 79.6, \"opp_ft_fga\": 0.164, \"arena\": \"Spectrum Center\", \"attend\": 710643.0, \"attend_g\": 17333.0}, {\"Unnamed: 0\": 222, \"season\": 2017, \"lg\": \"NBA\", \"team\": \"Cleveland Cavaliers\", \"abbreviation\": \"CLE\", \"playoffs\": true, \"age\": 29.2, \"w\": 51.0, \"l\": 31.0, \"pw\": 49.0, \"pl\": 33.0, \"mov\": 3.18, \"sos\": -0.31, \"srs\": 2.87, \"o_rtg\": 113.6, \"d_rtg\": 110.3, \"n_rtg\": 3.3, \"pace\": 96.2, \"f_tr\": 0.275, \"x3p_ar\": 0.399, \"ts_percent\": 0.58, \"e_fg_percent\": 0.547, \"tov_percent\": 12.6, \"orb_percent\": 21.9, \"ft_fga\": 0.206, \"opp_e_fg_percent\": 0.516, \"opp_tov_percent\": 11.4, \"opp_drb_percent\": 75.8, \"opp_ft_fga\": 0.174, \"arena\": \"Quicken Loans Arena\", \"attend\": 843042.0, \"attend_g\": 20562.0}, {\"Unnamed: 0\": 223, \"season\": 2017, \"lg\": \"NBA\", \"team\": \"Dallas Mavericks\", \"abbreviation\": \"DAL\", \"playoffs\": false, \"age\": 27.6, \"w\": 33.0, \"l\": 49.0, \"pw\": 33.0, \"pl\": 49.0, \"mov\": -2.93, \"sos\": 0.4, \"srs\": -2.53, \"o_rtg\": 105.6, \"d_rtg\": 108.8, \"n_rtg\": -3.2, \"pace\": 92.2, \"f_tr\": 0.225, \"x3p_ar\": 0.366, \"ts_percent\": 0.541, \"e_fg_percent\": 0.505, \"tov_percent\": 11.6, \"orb_percent\": 18.1, \"ft_fga\": 0.18, \"opp_e_fg_percent\": 0.529, \"opp_tov_percent\": 14.4, \"opp_drb_percent\": 77.6, \"opp_ft_fga\": 0.218, \"arena\": \"American Airlines Center\", \"attend\": 811366.0, \"attend_g\": 19789.0}, {\"Unnamed: 0\": 224, \"season\": 2017, \"lg\": \"NBA\", \"team\": \"Denver Nuggets\", \"abbreviation\": \"DEN\", \"playoffs\": false, \"age\": 25.2, \"w\": 40.0, \"l\": 42.0, \"pw\": 42.0, \"pl\": 40.0, \"mov\": 0.51, \"sos\": 0.19, \"srs\": 0.7, \"o_rtg\": 113.2, \"d_rtg\": 112.7, \"n_rtg\": 0.5, \"pace\": 98.3, \"f_tr\": 0.276, \"x3p_ar\": 0.329, \"ts_percent\": 0.568, \"e_fg_percent\": 0.53, \"tov_percent\": 13.2, \"orb_percent\": 27.3, \"ft_fga\": 0.214, \"opp_e_fg_percent\": 0.532, \"opp_tov_percent\": 10.9, \"opp_drb_percent\": 78.7, \"opp_ft_fga\": 0.194, \"arena\": \"Pepsi Center\", \"attend\": 605585.0, \"attend_g\": 14672.0}, {\"Unnamed: 0\": 225, \"season\": 2017, \"lg\": \"NBA\", \"team\": \"Detroit Pistons\", \"abbreviation\": \"DET\", \"playoffs\": false, \"age\": 25.4, \"w\": 37.0, \"l\": 45.0, \"pw\": 38.0, \"pl\": 44.0, \"mov\": -1.12, \"sos\": -0.17, \"srs\": -1.29, \"o_rtg\": 106.0, \"d_rtg\": 107.1, \"n_rtg\": -1.1, \"pace\": 95.0, \"f_tr\": 0.218, \"x3p_ar\": 0.263, \"ts_percent\": 0.521, \"e_fg_percent\": 0.492, \"tov_percent\": 10.9, \"orb_percent\": 24.1, \"ft_fga\": 0.157, \"opp_e_fg_percent\": 0.516, \"opp_tov_percent\": 12.1, \"opp_drb_percent\": 81.2, \"opp_ft_fga\": 0.197, \"arena\": \"The Palace of Auburn Hills\", \"attend\": 655141.0, \"attend_g\": 15979.0}, {\"Unnamed: 0\": 226, \"season\": 2017, \"lg\": \"NBA\", \"team\": \"Golden State Warriors\", \"abbreviation\": \"GSW\", \"playoffs\": true, \"age\": 28.2, \"w\": 67.0, \"l\": 15.0, \"pw\": 67.0, \"pl\": 15.0, \"mov\": 11.63, \"sos\": -0.28, \"srs\": 11.35, \"o_rtg\": 115.6, \"d_rtg\": 104.0, \"n_rtg\": 11.6, \"pace\": 99.8, \"f_tr\": 0.259, \"x3p_ar\": 0.359, \"ts_percent\": 0.597, \"e_fg_percent\": 0.563, \"tov_percent\": 13.2, \"orb_percent\": 22.8, \"ft_fga\": 0.204, \"opp_e_fg_percent\": 0.486, \"opp_tov_percent\": 13.5, \"opp_drb_percent\": 74.9, \"opp_ft_fga\": 0.198, \"arena\": \"Oracle Arena\", \"attend\": 803436.0, \"attend_g\": 19596.0}, {\"Unnamed: 0\": 227, \"season\": 2017, \"lg\": \"NBA\", \"team\": \"Houston Rockets\", \"abbreviation\": \"HOU\", \"playoffs\": true, \"age\": 27.4, \"w\": 55.0, \"l\": 27.0, \"pw\": 55.0, \"pl\": 27.0, \"mov\": 5.77, \"sos\": 0.08, \"srs\": 5.84, \"o_rtg\": 114.7, \"d_rtg\": 109.0, \"n_rtg\": 5.7, \"pace\": 100.0, \"f_tr\": 0.304, \"x3p_ar\": 0.462, \"ts_percent\": 0.583, \"e_fg_percent\": 0.545, \"tov_percent\": 13.3, \"orb_percent\": 24.6, \"ft_fga\": 0.233, \"opp_e_fg_percent\": 0.519, \"opp_tov_percent\": 13.2, \"opp_drb_percent\": 75.8, \"opp_ft_fga\": 0.194, \"arena\": \"Toyota Center\", \"attend\": 695903.0, \"attend_g\": 16973.0}, {\"Unnamed: 0\": 228, \"season\": 2017, \"lg\": \"NBA\", \"team\": \"Indiana Pacers\", \"abbreviation\": \"IND\", \"playoffs\": true, \"age\": 27.0, \"w\": 42.0, \"l\": 40.0, \"pw\": 40.0, \"pl\": 42.0, \"mov\": -0.22, \"sos\": -0.42, \"srs\": -0.64, \"o_rtg\": 108.6, \"d_rtg\": 108.8, \"n_rtg\": -0.2, \"pace\": 95.9, \"f_tr\": 0.261, \"x3p_ar\": 0.272, \"ts_percent\": 0.558, \"e_fg_percent\": 0.516, \"tov_percent\": 12.8, \"orb_percent\": 21.2, \"ft_fga\": 0.212, \"opp_e_fg_percent\": 0.512, \"opp_tov_percent\": 13.6, \"opp_drb_percent\": 75.5, \"opp_ft_fga\": 0.225, \"arena\": \"Bankers Life Fieldhouse\", \"attend\": 684578.0, \"attend_g\": 16697.0}, {\"Unnamed: 0\": 229, \"season\": 2017, \"lg\": \"NBA\", \"team\": \"Los Angeles Clippers\", \"abbreviation\": \"LAC\", \"playoffs\": true, \"age\": 30.0, \"w\": 51.0, \"l\": 31.0, \"pw\": 52.0, \"pl\": 30.0, \"mov\": 4.29, \"sos\": 0.13, \"srs\": 4.42, \"o_rtg\": 112.7, \"d_rtg\": 108.2, \"n_rtg\": 4.5, \"pace\": 96.1, \"f_tr\": 0.312, \"x3p_ar\": 0.329, \"ts_percent\": 0.574, \"e_fg_percent\": 0.537, \"tov_percent\": 12.0, \"orb_percent\": 21.5, \"ft_fga\": 0.233, \"opp_e_fg_percent\": 0.506, \"opp_tov_percent\": 12.1, \"opp_drb_percent\": 76.9, \"opp_ft_fga\": 0.211, \"arena\": \"STAPLES Center\", \"attend\": 782609.0, \"attend_g\": 19088.0}, {\"Unnamed: 0\": 230, \"season\": 2017, \"lg\": \"NBA\", \"team\": \"Los Angeles Lakers\", \"abbreviation\": \"LAL\", \"playoffs\": false, \"age\": 25.1, \"w\": 26.0, \"l\": 56.0, \"pw\": 24.0, \"pl\": 58.0, \"mov\": -6.88, \"sos\": 0.58, \"srs\": -6.29, \"o_rtg\": 106.0, \"d_rtg\": 113.0, \"n_rtg\": -7.0, \"pace\": 98.5, \"f_tr\": 0.259, \"x3p_ar\": 0.295, \"ts_percent\": 0.537, \"e_fg_percent\": 0.501, \"tov_percent\": 13.5, \"orb_percent\": 25.0, \"ft_fga\": 0.195, \"opp_e_fg_percent\": 0.542, \"opp_tov_percent\": 13.0, \"opp_drb_percent\": 75.8, \"opp_ft_fga\": 0.213, \"arena\": \"STAPLES Center\", \"attend\": 776917.0, \"attend_g\": 18949.0}, {\"Unnamed: 0\": 231, \"season\": 2017, \"lg\": \"NBA\", \"team\": \"Memphis Grizzlies\", \"abbreviation\": \"MEM\", \"playoffs\": true, \"age\": 29.5, \"w\": 43.0, \"l\": 39.0, \"pw\": 42.0, \"pl\": 40.0, \"mov\": 0.49, \"sos\": 0.47, \"srs\": 0.96, \"o_rtg\": 107.7, \"d_rtg\": 107.1, \"n_rtg\": 0.6, \"pace\": 92.3, \"f_tr\": 0.28, \"x3p_ar\": 0.316, \"ts_percent\": 0.535, \"e_fg_percent\": 0.491, \"tov_percent\": 12.1, \"orb_percent\": 24.8, \"ft_fga\": 0.219, \"opp_e_fg_percent\": 0.506, \"opp_tov_percent\": 13.6, \"opp_drb_percent\": 77.5, \"opp_ft_fga\": 0.256, \"arena\": \"FedEx Forum\", \"attend\": 677314.0, \"attend_g\": 16520.0}, {\"Unnamed: 0\": 232, \"season\": 2017, \"lg\": \"NBA\", \"team\": \"Miami Heat\", \"abbreviation\": \"MIA\", \"playoffs\": false, \"age\": 26.5, \"w\": 41.0, \"l\": 41.0, \"pw\": 44.0, \"pl\": 38.0, \"mov\": 1.06, \"sos\": -0.29, \"srs\": 0.77, \"o_rtg\": 107.8, \"d_rtg\": 106.7, \"n_rtg\": 1.1, \"pace\": 95.2, \"f_tr\": 0.251, \"x3p_ar\": 0.314, \"ts_percent\": 0.541, \"e_fg_percent\": 0.512, \"tov_percent\": 12.4, \"orb_percent\": 24.2, \"ft_fga\": 0.177, \"opp_e_fg_percent\": 0.496, \"opp_tov_percent\": 12.6, \"opp_drb_percent\": 76.4, \"opp_ft_fga\": 0.22, \"arena\": \"AmericanAirlines Arena\", \"attend\": 805400.0, \"attend_g\": 19644.0}, {\"Unnamed: 0\": 233, \"season\": 2017, \"lg\": \"NBA\", \"team\": \"Milwaukee Bucks\", \"abbreviation\": \"MIL\", \"playoffs\": true, \"age\": 25.6, \"w\": 42.0, \"l\": 40.0, \"pw\": 40.0, \"pl\": 42.0, \"mov\": -0.18, \"sos\": -0.26, \"srs\": -0.45, \"o_rtg\": 109.1, \"d_rtg\": 109.3, \"n_rtg\": -0.2, \"pace\": 94.5, \"f_tr\": 0.274, \"x3p_ar\": 0.29, \"ts_percent\": 0.565, \"e_fg_percent\": 0.527, \"tov_percent\": 13.2, \"orb_percent\": 21.5, \"ft_fga\": 0.21, \"opp_e_fg_percent\": 0.518, \"opp_tov_percent\": 13.6, \"opp_drb_percent\": 75.4, \"opp_ft_fga\": 0.215, \"arena\": \"BMO Harris Bradley Center\", \"attend\": 648952.0, \"attend_g\": 15828.0}, {\"Unnamed: 0\": 234, \"season\": 2017, \"lg\": \"NBA\", \"team\": \"Minnesota Timberwolves\", \"abbreviation\": \"MIN\", \"playoffs\": false, \"age\": 24.0, \"w\": 31.0, \"l\": 51.0, \"pw\": 38.0, \"pl\": 44.0, \"mov\": -1.11, \"sos\": 0.47, \"srs\": -0.64, \"o_rtg\": 110.8, \"d_rtg\": 112.0, \"n_rtg\": -1.2, \"pace\": 94.6, \"f_tr\": 0.287, \"x3p_ar\": 0.249, \"ts_percent\": 0.555, \"e_fg_percent\": 0.511, \"tov_percent\": 12.9, \"orb_percent\": 27.2, \"ft_fga\": 0.229, \"opp_e_fg_percent\": 0.535, \"opp_tov_percent\": 13.2, \"opp_drb_percent\": 75.9, \"opp_ft_fga\": 0.212, \"arena\": \"Target Center\", \"attend\": 607203.0, \"attend_g\": 14810.0}, {\"Unnamed: 0\": 235, \"season\": 2017, \"lg\": \"NBA\", \"team\": \"New Orleans Pelicans\", \"abbreviation\": \"NOP\", \"playoffs\": false, \"age\": 25.7, \"w\": 34.0, \"l\": 48.0, \"pw\": 35.0, \"pl\": 47.0, \"mov\": -2.1, \"sos\": 0.41, \"srs\": -1.69, \"o_rtg\": 105.2, \"d_rtg\": 107.4, \"n_rtg\": -2.2, \"pace\": 98.0, \"f_tr\": 0.256, \"x3p_ar\": 0.308, \"ts_percent\": 0.539, \"e_fg_percent\": 0.504, \"tov_percent\": 11.7, \"orb_percent\": 18.5, \"ft_fga\": 0.192, \"opp_e_fg_percent\": 0.509, \"opp_tov_percent\": 12.4, \"opp_drb_percent\": 76.8, \"opp_ft_fga\": 0.177, \"arena\": \"Smoothie King Center\", \"attend\": 663099.0, \"attend_g\": 16173.0}, {\"Unnamed: 0\": 236, \"season\": 2017, \"lg\": \"NBA\", \"team\": \"New York Knicks\", \"abbreviation\": \"NYK\", \"playoffs\": false, \"age\": 27.3, \"w\": 31.0, \"l\": 51.0, \"pw\": 31.0, \"pl\": 51.0, \"mov\": -3.67, \"sos\": -0.2, \"srs\": -3.87, \"o_rtg\": 107.7, \"d_rtg\": 111.5, \"n_rtg\": -3.8, \"pace\": 96.0, \"f_tr\": 0.239, \"x3p_ar\": 0.279, \"ts_percent\": 0.534, \"e_fg_percent\": 0.496, \"tov_percent\": 12.4, \"orb_percent\": 26.6, \"ft_fga\": 0.188, \"opp_e_fg_percent\": 0.511, \"opp_tov_percent\": 11.7, \"opp_drb_percent\": 74.1, \"opp_ft_fga\": 0.214, \"arena\": \"Madison Square Garden (IV)\", \"attend\": 810741.0, \"attend_g\": 19774.0}, {\"Unnamed: 0\": 237, \"season\": 2017, \"lg\": \"NBA\", \"team\": \"Oklahoma City Thunder\", \"abbreviation\": \"OKC\", \"playoffs\": true, \"age\": 24.7, \"w\": 47.0, \"l\": 35.0, \"pw\": 43.0, \"pl\": 39.0, \"mov\": 0.76, \"sos\": 0.39, \"srs\": 1.14, \"o_rtg\": 108.3, \"d_rtg\": 107.5, \"n_rtg\": 0.8, \"pace\": 97.8, \"f_tr\": 0.295, \"x3p_ar\": 0.295, \"ts_percent\": 0.54, \"e_fg_percent\": 0.5, \"tov_percent\": 13.2, \"orb_percent\": 27.9, \"ft_fga\": 0.22, \"opp_e_fg_percent\": 0.511, \"opp_tov_percent\": 12.5, \"opp_drb_percent\": 79.0, \"opp_ft_fga\": 0.218, \"arena\": \"Chesapeake Energy Arena\", \"attend\": 746323.0, \"attend_g\": 18203.0}, {\"Unnamed: 0\": 238, \"season\": 2017, \"lg\": \"NBA\", \"team\": \"Orlando Magic\", \"abbreviation\": \"ORL\", \"playoffs\": false, \"age\": 25.3, \"w\": 29.0, \"l\": 53.0, \"pw\": 24.0, \"pl\": 58.0, \"mov\": -6.57, \"sos\": -0.04, \"srs\": -6.61, \"o_rtg\": 103.7, \"d_rtg\": 110.5, \"n_rtg\": -6.8, \"pace\": 96.8, \"f_tr\": 0.246, \"x3p_ar\": 0.3, \"ts_percent\": 0.524, \"e_fg_percent\": 0.489, \"tov_percent\": 12.1, \"orb_percent\": 21.6, \"ft_fga\": 0.184, \"opp_e_fg_percent\": 0.523, \"opp_tov_percent\": 11.9, \"opp_drb_percent\": 77.4, \"opp_ft_fga\": 0.201, \"arena\": \"Amway Center\", \"attend\": 727875.0, \"attend_g\": 17753.0}, {\"Unnamed: 0\": 239, \"season\": 2017, \"lg\": \"NBA\", \"team\": \"Philadelphia 76ers\", \"abbreviation\": \"PHI\", \"playoffs\": false, \"age\": 24.6, \"w\": 28.0, \"l\": 54.0, \"pw\": 26.0, \"pl\": 56.0, \"mov\": -5.7, \"sos\": -0.14, \"srs\": -5.83, \"o_rtg\": 103.2, \"d_rtg\": 108.9, \"n_rtg\": -5.7, \"pace\": 98.5, \"f_tr\": 0.258, \"x3p_ar\": 0.349, \"ts_percent\": 0.539, \"e_fg_percent\": 0.501, \"tov_percent\": 14.9, \"orb_percent\": 22.4, \"ft_fga\": 0.199, \"opp_e_fg_percent\": 0.512, \"opp_tov_percent\": 13.5, \"opp_drb_percent\": 75.3, \"opp_ft_fga\": 0.234, \"arena\": \"Wells Fargo Center\", \"attend\": 710557.0, \"attend_g\": 17331.0}, {\"Unnamed: 0\": 240, \"season\": 2017, \"lg\": \"NBA\", \"team\": \"Phoenix Suns\", \"abbreviation\": \"PHO\", \"playoffs\": false, \"age\": 25.0, \"w\": 24.0, \"l\": 58.0, \"pw\": 27.0, \"pl\": 55.0, \"mov\": -5.63, \"sos\": 0.49, \"srs\": -5.14, \"o_rtg\": 106.6, \"d_rtg\": 112.2, \"n_rtg\": -5.6, \"pace\": 100.3, \"f_tr\": 0.297, \"x3p_ar\": 0.255, \"ts_percent\": 0.538, \"e_fg_percent\": 0.493, \"tov_percent\": 13.4, \"orb_percent\": 26.0, \"ft_fga\": 0.231, \"opp_e_fg_percent\": 0.525, \"opp_tov_percent\": 13.1, \"opp_drb_percent\": 76.4, \"opp_ft_fga\": 0.264, \"arena\": \"Talking Stick Resort Arena\", \"attend\": 708639.0, \"attend_g\": 17134.0}, {\"Unnamed: 0\": 241, \"season\": 2017, \"lg\": \"NBA\", \"team\": \"Portland Trail Blazers\", \"abbreviation\": \"POR\", \"playoffs\": true, \"age\": 24.8, \"w\": 41.0, \"l\": 41.0, \"pw\": 40.0, \"pl\": 42.0, \"mov\": -0.52, \"sos\": 0.3, \"srs\": -0.23, \"o_rtg\": 110.3, \"d_rtg\": 110.8, \"n_rtg\": -0.5, \"pace\": 96.7, \"f_tr\": 0.275, \"x3p_ar\": 0.322, \"ts_percent\": 0.559, \"e_fg_percent\": 0.52, \"tov_percent\": 12.5, \"orb_percent\": 23.0, \"ft_fga\": 0.214, \"opp_e_fg_percent\": 0.508, \"opp_tov_percent\": 11.6, \"opp_drb_percent\": 76.8, \"opp_ft_fga\": 0.241, \"arena\": \"Moda Center\", \"attend\": 792029.0, \"attend_g\": 19318.0}, {\"Unnamed: 0\": 242, \"season\": 2017, \"lg\": \"NBA\", \"team\": \"Sacramento Kings\", \"abbreviation\": \"SAC\", \"playoffs\": false, \"age\": 27.9, \"w\": 32.0, \"l\": 50.0, \"pw\": 31.0, \"pl\": 51.0, \"mov\": -3.88, \"sos\": 0.58, \"srs\": -3.29, \"o_rtg\": 107.3, \"d_rtg\": 111.3, \"n_rtg\": -4.0, \"pace\": 94.9, \"f_tr\": 0.284, \"x3p_ar\": 0.291, \"ts_percent\": 0.556, \"e_fg_percent\": 0.516, \"tov_percent\": 13.7, \"orb_percent\": 21.0, \"ft_fga\": 0.22, \"opp_e_fg_percent\": 0.528, \"opp_tov_percent\": 12.9, \"opp_drb_percent\": 76.3, \"opp_ft_fga\": 0.227, \"arena\": \"Golden 1 Center\", \"attend\": 721928.0, \"attend_g\": 17608.0}, {\"Unnamed: 0\": 243, \"season\": 2017, \"lg\": \"NBA\", \"team\": \"San Antonio Spurs\", \"abbreviation\": \"SAS\", \"playoffs\": true, \"age\": 29.6, \"w\": 61.0, \"l\": 21.0, \"pw\": 60.0, \"pl\": 22.0, \"mov\": 7.2, \"sos\": -0.06, \"srs\": 7.13, \"o_rtg\": 111.1, \"d_rtg\": 103.5, \"n_rtg\": 7.6, \"pace\": 94.2, \"f_tr\": 0.263, \"x3p_ar\": 0.281, \"ts_percent\": 0.564, \"e_fg_percent\": 0.524, \"tov_percent\": 12.6, \"orb_percent\": 24.0, \"ft_fga\": 0.21, \"opp_e_fg_percent\": 0.492, \"opp_tov_percent\": 13.5, \"opp_drb_percent\": 77.6, \"opp_ft_fga\": 0.192, \"arena\": \"AT&T Center\", \"attend\": 755347.0, \"attend_g\": 18423.0}, {\"Unnamed: 0\": 244, \"season\": 2017, \"lg\": \"NBA\", \"team\": \"Toronto Raptors\", \"abbreviation\": \"TOR\", \"playoffs\": true, \"age\": 26.1, \"w\": 51.0, \"l\": 31.0, \"pw\": 52.0, \"pl\": 30.0, \"mov\": 4.21, \"sos\": -0.56, \"srs\": 3.65, \"o_rtg\": 112.3, \"d_rtg\": 107.8, \"n_rtg\": 4.5, \"pace\": 94.7, \"f_tr\": 0.293, \"x3p_ar\": 0.289, \"ts_percent\": 0.561, \"e_fg_percent\": 0.517, \"tov_percent\": 11.8, \"orb_percent\": 25.0, \"ft_fga\": 0.233, \"opp_e_fg_percent\": 0.507, \"opp_tov_percent\": 13.5, \"opp_drb_percent\": 76.3, \"opp_ft_fga\": 0.223, \"arena\": \"Air Canada Centre\", \"attend\": 813050.0, \"attend_g\": 19830.0}, {\"Unnamed: 0\": 245, \"season\": 2017, \"lg\": \"NBA\", \"team\": \"Utah Jazz\", \"abbreviation\": \"UTA\", \"playoffs\": true, \"age\": 26.8, \"w\": 51.0, \"l\": 31.0, \"pw\": 52.0, \"pl\": 30.0, \"mov\": 3.94, \"sos\": 0.06, \"srs\": 4.0, \"o_rtg\": 109.6, \"d_rtg\": 105.3, \"n_rtg\": 4.3, \"pace\": 91.6, \"f_tr\": 0.288, \"x3p_ar\": 0.327, \"ts_percent\": 0.563, \"e_fg_percent\": 0.526, \"tov_percent\": 13.2, \"orb_percent\": 23.2, \"ft_fga\": 0.215, \"opp_e_fg_percent\": 0.493, \"opp_tov_percent\": 11.8, \"opp_drb_percent\": 78.9, \"opp_ft_fga\": 0.195, \"arena\": \"Vivint Smart Home Arena\", \"attend\": 806142.0, \"attend_g\": 19662.0}, {\"Unnamed: 0\": 246, \"season\": 2017, \"lg\": \"NBA\", \"team\": \"Washington Wizards\", \"abbreviation\": \"WAS\", \"playoffs\": true, \"age\": 26.0, \"w\": 49.0, \"l\": 33.0, \"pw\": 46.0, \"pl\": 36.0, \"mov\": 1.8, \"sos\": -0.45, \"srs\": 1.36, \"o_rtg\": 111.2, \"d_rtg\": 109.3, \"n_rtg\": 1.9, \"pace\": 97.4, \"f_tr\": 0.254, \"x3p_ar\": 0.284, \"ts_percent\": 0.564, \"e_fg_percent\": 0.528, \"tov_percent\": 12.8, \"orb_percent\": 24.1, \"ft_fga\": 0.199, \"opp_e_fg_percent\": 0.524, \"opp_tov_percent\": 13.8, \"opp_drb_percent\": 75.5, \"opp_ft_fga\": 0.213, \"arena\": \"Verizon Center\", \"attend\": 697107.0, \"attend_g\": 17003.0}, {\"Unnamed: 0\": 247, \"season\": 2017, \"lg\": \"NBA\", \"team\": \"League Average\", \"abbreviation\": null, \"playoffs\": false, \"age\": 26.6, \"w\": null, \"l\": null, \"pw\": 41.0, \"pl\": 41.0, \"mov\": 0.0, \"sos\": 0.0, \"srs\": 0.0, \"o_rtg\": 108.8, \"d_rtg\": 108.8, \"n_rtg\": null, \"pace\": 96.4, \"f_tr\": 0.271, \"x3p_ar\": 0.316, \"ts_percent\": 0.552, \"e_fg_percent\": 0.514, \"tov_percent\": 12.7, \"orb_percent\": 23.3, \"ft_fga\": 0.209, \"opp_e_fg_percent\": 0.514, \"opp_tov_percent\": 12.7, \"opp_drb_percent\": 76.7, \"opp_ft_fga\": 0.209, \"arena\": null, \"attend\": 733247.0, \"attend_g\": 17880.0}, {\"Unnamed: 0\": 248, \"season\": 2016, \"lg\": \"NBA\", \"team\": \"Atlanta Hawks\", \"abbreviation\": \"ATL\", \"playoffs\": true, \"age\": 28.2, \"w\": 48.0, \"l\": 34.0, \"pw\": 51.0, \"pl\": 31.0, \"mov\": 3.61, \"sos\": -0.12, \"srs\": 3.49, \"o_rtg\": 105.1, \"d_rtg\": 101.4, \"n_rtg\": 3.7, \"pace\": 97.1, \"f_tr\": 0.237, \"x3p_ar\": 0.336, \"ts_percent\": 0.552, \"e_fg_percent\": 0.516, \"tov_percent\": 13.8, \"orb_percent\": 19.1, \"ft_fga\": 0.185, \"opp_e_fg_percent\": 0.48, \"opp_tov_percent\": 14.4, \"opp_drb_percent\": 74.6, \"opp_ft_fga\": 0.194, \"arena\": \"Philips Arena\", \"attend\": 690150.0, \"attend_g\": 16833.0}, {\"Unnamed: 0\": 249, \"season\": 2016, \"lg\": \"NBA\", \"team\": \"Boston Celtics\", \"abbreviation\": \"BOS\", \"playoffs\": true, \"age\": 25.2, \"w\": 48.0, \"l\": 34.0, \"pw\": 50.0, \"pl\": 32.0, \"mov\": 3.21, \"sos\": -0.37, \"srs\": 2.84, \"o_rtg\": 106.8, \"d_rtg\": 103.6, \"n_rtg\": 3.2, \"pace\": 98.5, \"f_tr\": 0.264, \"x3p_ar\": 0.293, \"ts_percent\": 0.531, \"e_fg_percent\": 0.488, \"tov_percent\": 12.1, \"orb_percent\": 25.1, \"ft_fga\": 0.208, \"opp_e_fg_percent\": 0.487, \"opp_tov_percent\": 14.6, \"opp_drb_percent\": 74.6, \"opp_ft_fga\": 0.231, \"arena\": \"TD Garden\", \"attend\": 749076.0, \"attend_g\": 18270.0}, {\"Unnamed: 0\": 250, \"season\": 2016, \"lg\": \"NBA\", \"team\": \"Brooklyn Nets\", \"abbreviation\": \"BRK\", \"playoffs\": false, \"age\": 26.9, \"w\": 21.0, \"l\": 61.0, \"pw\": 22.0, \"pl\": 60.0, \"mov\": -7.35, \"sos\": 0.24, \"srs\": -7.12, \"o_rtg\": 103.2, \"d_rtg\": 110.9, \"n_rtg\": -7.7, \"pace\": 95.2, \"f_tr\": 0.246, \"x3p_ar\": 0.218, \"ts_percent\": 0.527, \"e_fg_percent\": 0.492, \"tov_percent\": 13.6, \"orb_percent\": 24.1, \"ft_fga\": 0.186, \"opp_e_fg_percent\": 0.534, \"opp_tov_percent\": 13.1, \"opp_drb_percent\": 75.7, \"opp_ft_fga\": 0.176, \"arena\": \"Barclays Center\", \"attend\": 620142.0, \"attend_g\": 15125.0}, {\"Unnamed: 0\": 251, \"season\": 2016, \"lg\": \"NBA\", \"team\": \"Chicago Bulls\", \"abbreviation\": \"CHI\", \"playoffs\": false, \"age\": 27.6, \"w\": 42.0, \"l\": 40.0, \"pw\": 37.0, \"pl\": 45.0, \"mov\": -1.48, \"sos\": 0.01, \"srs\": -1.46, \"o_rtg\": 105.0, \"d_rtg\": 106.5, \"n_rtg\": -1.5, \"pace\": 95.7, \"f_tr\": 0.24, \"x3p_ar\": 0.244, \"ts_percent\": 0.526, \"e_fg_percent\": 0.487, \"tov_percent\": 12.6, \"orb_percent\": 24.5, \"ft_fga\": 0.189, \"opp_e_fg_percent\": 0.485, \"opp_tov_percent\": 10.7, \"opp_drb_percent\": 74.9, \"opp_ft_fga\": 0.182, \"arena\": \"United Center\", \"attend\": 894659.0, \"attend_g\": 21821.0}, {\"Unnamed: 0\": 252, \"season\": 2016, \"lg\": \"NBA\", \"team\": \"Charlotte Hornets\", \"abbreviation\": \"CHO\", \"playoffs\": true, \"age\": 26.0, \"w\": 48.0, \"l\": 34.0, \"pw\": 49.0, \"pl\": 33.0, \"mov\": 2.72, \"sos\": -0.36, \"srs\": 2.36, \"o_rtg\": 107.1, \"d_rtg\": 104.3, \"n_rtg\": 2.8, \"pace\": 95.7, \"f_tr\": 0.28, \"x3p_ar\": 0.348, \"ts_percent\": 0.545, \"e_fg_percent\": 0.502, \"tov_percent\": 11.7, \"orb_percent\": 20.0, \"ft_fga\": 0.222, \"opp_e_fg_percent\": 0.496, \"opp_tov_percent\": 12.5, \"opp_drb_percent\": 79.8, \"opp_ft_fga\": 0.191, \"arena\": \"Time Warner Cable Arena\", \"attend\": 716894.0, \"attend_g\": 17485.0}, {\"Unnamed: 0\": 253, \"season\": 2016, \"lg\": \"NBA\", \"team\": \"Cleveland Cavaliers\", \"abbreviation\": \"CLE\", \"playoffs\": true, \"age\": 28.1, \"w\": 57.0, \"l\": 25.0, \"pw\": 57.0, \"pl\": 25.0, \"mov\": 6.0, \"sos\": -0.55, \"srs\": 5.45, \"o_rtg\": 110.9, \"d_rtg\": 104.5, \"n_rtg\": 6.4, \"pace\": 93.3, \"f_tr\": 0.259, \"x3p_ar\": 0.352, \"ts_percent\": 0.558, \"e_fg_percent\": 0.524, \"tov_percent\": 12.7, \"orb_percent\": 25.1, \"ft_fga\": 0.194, \"opp_e_fg_percent\": 0.496, \"opp_tov_percent\": 12.6, \"opp_drb_percent\": 78.5, \"opp_ft_fga\": 0.205, \"arena\": \"Quicken Loans Arena\", \"attend\": 843042.0, \"attend_g\": 20562.0}, {\"Unnamed: 0\": 254, \"season\": 2016, \"lg\": \"NBA\", \"team\": \"Dallas Mavericks\", \"abbreviation\": \"DAL\", \"playoffs\": true, \"age\": 30.3, \"w\": 42.0, \"l\": 40.0, \"pw\": 40.0, \"pl\": 42.0, \"mov\": -0.3, \"sos\": 0.29, \"srs\": -0.02, \"o_rtg\": 106.7, \"d_rtg\": 107.0, \"n_rtg\": -0.3, \"pace\": 94.3, \"f_tr\": 0.265, \"x3p_ar\": 0.339, \"ts_percent\": 0.544, \"e_fg_percent\": 0.502, \"tov_percent\": 12.0, \"orb_percent\": 20.6, \"ft_fga\": 0.211, \"opp_e_fg_percent\": 0.504, \"opp_tov_percent\": 12.8, \"opp_drb_percent\": 76.2, \"opp_ft_fga\": 0.198, \"arena\": \"American Airlines Center\", \"attend\": 825901.0, \"attend_g\": 20144.0}, {\"Unnamed: 0\": 255, \"season\": 2016, \"lg\": \"NBA\", \"team\": \"Denver Nuggets\", \"abbreviation\": \"DEN\", \"playoffs\": false, \"age\": 24.7, \"w\": 33.0, \"l\": 49.0, \"pw\": 33.0, \"pl\": 49.0, \"mov\": -3.1, \"sos\": 0.29, \"srs\": -2.81, \"o_rtg\": 105.6, \"d_rtg\": 108.9, \"n_rtg\": -3.3, \"pace\": 95.7, \"f_tr\": 0.282, \"x3p_ar\": 0.277, \"ts_percent\": 0.531, \"e_fg_percent\": 0.489, \"tov_percent\": 13.2, \"orb_percent\": 25.8, \"ft_fga\": 0.216, \"opp_e_fg_percent\": 0.515, \"opp_tov_percent\": 12.6, \"opp_drb_percent\": 77.3, \"opp_ft_fga\": 0.216, \"arena\": \"Pepsi Center\", \"attend\": 577898.0, \"attend_g\": 14095.0}, {\"Unnamed: 0\": 256, \"season\": 2016, \"lg\": \"NBA\", \"team\": \"Detroit Pistons\", \"abbreviation\": \"DET\", \"playoffs\": true, \"age\": 25.0, \"w\": 44.0, \"l\": 38.0, \"pw\": 43.0, \"pl\": 39.0, \"mov\": 0.61, \"sos\": -0.18, \"srs\": 0.43, \"o_rtg\": 106.1, \"d_rtg\": 105.5, \"n_rtg\": 0.6, \"pace\": 95.1, \"f_tr\": 0.296, \"x3p_ar\": 0.303, \"ts_percent\": 0.522, \"e_fg_percent\": 0.491, \"tov_percent\": 12.2, \"orb_percent\": 27.0, \"ft_fga\": 0.197, \"opp_e_fg_percent\": 0.504, \"opp_tov_percent\": 12.5, \"opp_drb_percent\": 79.3, \"opp_ft_fga\": 0.196, \"arena\": \"The Palace of Auburn Hills\", \"attend\": 677138.0, \"attend_g\": 16516.0}, {\"Unnamed: 0\": 257, \"season\": 2016, \"lg\": \"NBA\", \"team\": \"Golden State Warriors\", \"abbreviation\": \"GSW\", \"playoffs\": true, \"age\": 27.4, \"w\": 73.0, \"l\": 9.0, \"pw\": 65.0, \"pl\": 17.0, \"mov\": 10.76, \"sos\": -0.38, \"srs\": 10.38, \"o_rtg\": 114.5, \"d_rtg\": 103.8, \"n_rtg\": 10.7, \"pace\": 99.3, \"f_tr\": 0.25, \"x3p_ar\": 0.362, \"ts_percent\": 0.593, \"e_fg_percent\": 0.563, \"tov_percent\": 13.5, \"orb_percent\": 23.5, \"ft_fga\": 0.191, \"opp_e_fg_percent\": 0.479, \"opp_tov_percent\": 12.6, \"opp_drb_percent\": 76.0, \"opp_ft_fga\": 0.208, \"arena\": \"Oracle Arena\", \"attend\": 803436.0, \"attend_g\": 19596.0}, {\"Unnamed: 0\": 258, \"season\": 2016, \"lg\": \"NBA\", \"team\": \"Houston Rockets\", \"abbreviation\": \"HOU\", \"playoffs\": true, \"age\": 27.8, \"w\": 41.0, \"l\": 41.0, \"pw\": 42.0, \"pl\": 40.0, \"mov\": 0.2, \"sos\": 0.14, \"srs\": 0.34, \"o_rtg\": 108.3, \"d_rtg\": 108.1, \"n_rtg\": 0.2, \"pace\": 97.6, \"f_tr\": 0.352, \"x3p_ar\": 0.37, \"ts_percent\": 0.553, \"e_fg_percent\": 0.516, \"tov_percent\": 14.2, \"orb_percent\": 25.7, \"ft_fga\": 0.244, \"opp_e_fg_percent\": 0.516, \"opp_tov_percent\": 14.7, \"opp_drb_percent\": 72.8, \"opp_ft_fga\": 0.219, \"arena\": \"Toyota Center\", \"attend\": 737244.0, \"attend_g\": 17982.0}, {\"Unnamed: 0\": 259, \"season\": 2016, \"lg\": \"NBA\", \"team\": \"Indiana Pacers\", \"abbreviation\": \"IND\", \"playoffs\": true, \"age\": 26.9, \"w\": 45.0, \"l\": 37.0, \"pw\": 46.0, \"pl\": 36.0, \"mov\": 1.71, \"sos\": -0.09, \"srs\": 1.62, \"o_rtg\": 104.6, \"d_rtg\": 102.9, \"n_rtg\": 1.7, \"pace\": 96.6, \"f_tr\": 0.268, \"x3p_ar\": 0.27, \"ts_percent\": 0.536, \"e_fg_percent\": 0.497, \"tov_percent\": 13.5, \"orb_percent\": 23.4, \"ft_fga\": 0.205, \"opp_e_fg_percent\": 0.489, \"opp_tov_percent\": 14.3, \"opp_drb_percent\": 76.0, \"opp_ft_fga\": 0.205, \"arena\": \"Bankers Life Fieldhouse\", \"attend\": 690733.0, \"attend_g\": 16847.0}, {\"Unnamed: 0\": 260, \"season\": 2016, \"lg\": \"NBA\", \"team\": \"Los Angeles Clippers\", \"abbreviation\": \"LAC\", \"playoffs\": true, \"age\": 29.7, \"w\": 53.0, \"l\": 29.0, \"pw\": 53.0, \"pl\": 29.0, \"mov\": 4.28, \"sos\": -0.15, \"srs\": 4.13, \"o_rtg\": 108.3, \"d_rtg\": 103.8, \"n_rtg\": 4.5, \"pace\": 95.8, \"f_tr\": 0.318, \"x3p_ar\": 0.324, \"ts_percent\": 0.556, \"e_fg_percent\": 0.524, \"tov_percent\": 12.1, \"orb_percent\": 20.1, \"ft_fga\": 0.22, \"opp_e_fg_percent\": 0.48, \"opp_tov_percent\": 13.8, \"opp_drb_percent\": 73.8, \"opp_ft_fga\": 0.222, \"arena\": \"STAPLES Center\", \"attend\": 786910.0, \"attend_g\": 19193.0}, {\"Unnamed: 0\": 261, \"season\": 2016, \"lg\": \"NBA\", \"team\": \"Los Angeles Lakers\", \"abbreviation\": \"LAL\", \"playoffs\": false, \"age\": 26.5, \"w\": 17.0, \"l\": 65.0, \"pw\": 17.0, \"pl\": 65.0, \"mov\": -9.56, \"sos\": 0.64, \"srs\": -8.92, \"o_rtg\": 101.6, \"d_rtg\": 111.6, \"n_rtg\": -10.0, \"pace\": 95.6, \"f_tr\": 0.292, \"x3p_ar\": 0.29, \"ts_percent\": 0.509, \"e_fg_percent\": 0.46, \"tov_percent\": 12.5, \"orb_percent\": 23.1, \"ft_fga\": 0.228, \"opp_e_fg_percent\": 0.523, \"opp_tov_percent\": 11.6, \"opp_drb_percent\": 74.7, \"opp_ft_fga\": 0.202, \"arena\": \"STAPLES Center\", \"attend\": 778877.0, \"attend_g\": 18997.0}, {\"Unnamed: 0\": 262, \"season\": 2016, \"lg\": \"NBA\", \"team\": \"Memphis Grizzlies\", \"abbreviation\": \"MEM\", \"playoffs\": true, \"age\": 30.5, \"w\": 42.0, \"l\": 40.0, \"pw\": 35.0, \"pl\": 47.0, \"mov\": -2.24, \"sos\": 0.11, \"srs\": -2.14, \"o_rtg\": 105.4, \"d_rtg\": 107.8, \"n_rtg\": -2.4, \"pace\": 93.3, \"f_tr\": 0.295, \"x3p_ar\": 0.222, \"ts_percent\": 0.524, \"e_fg_percent\": 0.477, \"tov_percent\": 12.3, \"orb_percent\": 25.3, \"ft_fga\": 0.231, \"opp_e_fg_percent\": 0.518, \"opp_tov_percent\": 15.2, \"opp_drb_percent\": 75.1, \"opp_ft_fga\": 0.251, \"arena\": \"FedEx Forum\", \"attend\": 701894.0, \"attend_g\": 17119.0}, {\"Unnamed: 0\": 263, \"season\": 2016, \"lg\": \"NBA\", \"team\": \"Miami Heat\", \"abbreviation\": \"MIA\", \"playoffs\": true, \"age\": 28.4, \"w\": 48.0, \"l\": 34.0, \"pw\": 46.0, \"pl\": 36.0, \"mov\": 1.65, \"sos\": -0.14, \"srs\": 1.5, \"o_rtg\": 106.1, \"d_rtg\": 104.4, \"n_rtg\": 1.7, \"pace\": 93.6, \"f_tr\": 0.282, \"x3p_ar\": 0.221, \"ts_percent\": 0.545, \"e_fg_percent\": 0.508, \"tov_percent\": 13.3, \"orb_percent\": 23.8, \"ft_fga\": 0.21, \"opp_e_fg_percent\": 0.485, \"opp_tov_percent\": 12.1, \"opp_drb_percent\": 77.8, \"opp_ft_fga\": 0.196, \"arena\": \"AmericanAirlines Arena\", \"attend\": 809350.0, \"attend_g\": 19740.0}, {\"Unnamed: 0\": 264, \"season\": 2016, \"lg\": \"NBA\", \"team\": \"Milwaukee Bucks\", \"abbreviation\": \"MIL\", \"playoffs\": false, \"age\": 23.5, \"w\": 33.0, \"l\": 49.0, \"pw\": 29.0, \"pl\": 53.0, \"mov\": -4.18, \"sos\": 0.2, \"srs\": -3.98, \"o_rtg\": 104.3, \"d_rtg\": 108.7, \"n_rtg\": -4.4, \"pace\": 94.2, \"f_tr\": 0.276, \"x3p_ar\": 0.189, \"ts_percent\": 0.537, \"e_fg_percent\": 0.499, \"tov_percent\": 14.2, \"orb_percent\": 24.9, \"ft_fga\": 0.207, \"opp_e_fg_percent\": 0.51, \"opp_tov_percent\": 14.2, \"opp_drb_percent\": 73.1, \"opp_ft_fga\": 0.221, \"arena\": \"BMO Harris Bradley Center\", \"attend\": 621808.0, \"attend_g\": 15166.0}, {\"Unnamed: 0\": 265, \"season\": 2016, \"lg\": \"NBA\", \"team\": \"Minnesota Timberwolves\", \"abbreviation\": \"MIN\", \"playoffs\": false, \"age\": 24.6, \"w\": 29.0, \"l\": 53.0, \"pw\": 31.0, \"pl\": 51.0, \"mov\": -3.54, \"sos\": 0.15, \"srs\": -3.38, \"o_rtg\": 106.5, \"d_rtg\": 110.1, \"n_rtg\": -3.6, \"pace\": 95.2, \"f_tr\": 0.332, \"x3p_ar\": 0.202, \"ts_percent\": 0.549, \"e_fg_percent\": 0.498, \"tov_percent\": 13.9, \"orb_percent\": 24.3, \"ft_fga\": 0.263, \"opp_e_fg_percent\": 0.524, \"opp_tov_percent\": 13.6, \"opp_drb_percent\": 74.7, \"opp_ft_fga\": 0.2, \"arena\": \"Target Center\", \"attend\": 581178.0, \"attend_g\": 14175.0}, {\"Unnamed: 0\": 266, \"season\": 2016, \"lg\": \"NBA\", \"team\": \"New Orleans Pelicans\", \"abbreviation\": \"NOP\", \"playoffs\": false, \"age\": 26.6, \"w\": 30.0, \"l\": 52.0, \"pw\": 31.0, \"pl\": 51.0, \"mov\": -3.79, \"sos\": 0.24, \"srs\": -3.56, \"o_rtg\": 105.6, \"d_rtg\": 109.5, \"n_rtg\": -3.9, \"pace\": 96.8, \"f_tr\": 0.259, \"x3p_ar\": 0.277, \"ts_percent\": 0.537, \"e_fg_percent\": 0.498, \"tov_percent\": 12.3, \"orb_percent\": 21.2, \"ft_fga\": 0.201, \"opp_e_fg_percent\": 0.523, \"opp_tov_percent\": 12.7, \"opp_drb_percent\": 78.8, \"opp_ft_fga\": 0.225, \"arena\": \"Smoothie King Center\", \"attend\": 688549.0, \"attend_g\": 16794.0}, {\"Unnamed: 0\": 267, \"season\": 2016, \"lg\": \"NBA\", \"team\": \"New York Knicks\", \"abbreviation\": \"NYK\", \"playoffs\": false, \"age\": 27.2, \"w\": 32.0, \"l\": 50.0, \"pw\": 33.0, \"pl\": 49.0, \"mov\": -2.73, \"sos\": 0.0, \"srs\": -2.74, \"o_rtg\": 104.6, \"d_rtg\": 107.6, \"n_rtg\": -3.0, \"pace\": 93.4, \"f_tr\": 0.255, \"x3p_ar\": 0.256, \"ts_percent\": 0.527, \"e_fg_percent\": 0.483, \"tov_percent\": 12.6, \"orb_percent\": 23.7, \"ft_fga\": 0.205, \"opp_e_fg_percent\": 0.487, \"opp_tov_percent\": 10.5, \"opp_drb_percent\": 75.8, \"opp_ft_fga\": 0.204, \"arena\": \"Madison Square Garden (IV)\", \"attend\": 812292.0, \"attend_g\": 19812.0}, {\"Unnamed: 0\": 268, \"season\": 2016, \"lg\": \"NBA\", \"team\": \"Oklahoma City Thunder\", \"abbreviation\": \"OKC\", \"playoffs\": true, \"age\": 25.8, \"w\": 55.0, \"l\": 27.0, \"pw\": 59.0, \"pl\": 23.0, \"mov\": 7.28, \"sos\": -0.19, \"srs\": 7.09, \"o_rtg\": 113.1, \"d_rtg\": 105.6, \"n_rtg\": 7.5, \"pace\": 96.7, \"f_tr\": 0.292, \"x3p_ar\": 0.275, \"ts_percent\": 0.565, \"e_fg_percent\": 0.524, \"tov_percent\": 14.0, \"orb_percent\": 31.1, \"ft_fga\": 0.228, \"opp_e_fg_percent\": 0.484, \"opp_tov_percent\": 11.7, \"opp_drb_percent\": 76.0, \"opp_ft_fga\": 0.205, \"arena\": \"Chesapeake Energy Arena\", \"attend\": 746323.0, \"attend_g\": 18203.0}, {\"Unnamed: 0\": 269, \"season\": 2016, \"lg\": \"NBA\", \"team\": \"Orlando Magic\", \"abbreviation\": \"ORL\", \"playoffs\": false, \"age\": 23.9, \"w\": 35.0, \"l\": 47.0, \"pw\": 36.0, \"pl\": 46.0, \"mov\": -1.62, \"sos\": -0.06, \"srs\": -1.68, \"o_rtg\": 105.1, \"d_rtg\": 106.8, \"n_rtg\": -1.7, \"pace\": 96.0, \"f_tr\": 0.232, \"x3p_ar\": 0.255, \"ts_percent\": 0.533, \"e_fg_percent\": 0.5, \"tov_percent\": 12.8, \"orb_percent\": 23.1, \"ft_fga\": 0.175, \"opp_e_fg_percent\": 0.513, \"opp_tov_percent\": 13.8, \"opp_drb_percent\": 76.5, \"opp_ft_fga\": 0.215, \"arena\": \"Amway Center\", \"attend\": 719275.0, \"attend_g\": 17515.0}, {\"Unnamed: 0\": 270, \"season\": 2016, \"lg\": \"NBA\", \"team\": \"Philadelphia 76ers\", \"abbreviation\": \"PHI\", \"playoffs\": false, \"age\": 23.3, \"w\": 10.0, \"l\": 72.0, \"pw\": 16.0, \"pl\": 66.0, \"mov\": -10.23, \"sos\": 0.31, \"srs\": -9.92, \"o_rtg\": 98.8, \"d_rtg\": 109.2, \"n_rtg\": -10.4, \"pace\": 97.9, \"f_tr\": 0.269, \"x3p_ar\": 0.327, \"ts_percent\": 0.519, \"e_fg_percent\": 0.487, \"tov_percent\": 14.8, \"orb_percent\": 20.6, \"ft_fga\": 0.186, \"opp_e_fg_percent\": 0.51, \"opp_tov_percent\": 13.5, \"opp_drb_percent\": 74.0, \"opp_ft_fga\": 0.24, \"arena\": \"Wells Fargo Center\", \"attend\": 614650.0, \"attend_g\": 14991.0}, {\"Unnamed: 0\": 271, \"season\": 2016, \"lg\": \"NBA\", \"team\": \"Phoenix Suns\", \"abbreviation\": \"PHO\", \"playoffs\": false, \"age\": 26.0, \"w\": 23.0, \"l\": 59.0, \"pw\": 24.0, \"pl\": 58.0, \"mov\": -6.66, \"sos\": 0.34, \"srs\": -6.32, \"o_rtg\": 102.2, \"d_rtg\": 109.0, \"n_rtg\": -6.8, \"pace\": 98.5, \"f_tr\": 0.271, \"x3p_ar\": 0.302, \"ts_percent\": 0.526, \"e_fg_percent\": 0.487, \"tov_percent\": 15.2, \"orb_percent\": 25.4, \"ft_fga\": 0.204, \"opp_e_fg_percent\": 0.523, \"opp_tov_percent\": 13.5, \"opp_drb_percent\": 77.1, \"opp_ft_fga\": 0.237, \"arena\": \"Talking Stick Resort Arena\", \"attend\": 701405.0, \"attend_g\": 17107.0}, {\"Unnamed: 0\": 272, \"season\": 2016, \"lg\": \"NBA\", \"team\": \"Portland Trail Blazers\", \"abbreviation\": \"POR\", \"playoffs\": true, \"age\": 24.3, \"w\": 44.0, \"l\": 38.0, \"pw\": 43.0, \"pl\": 39.0, \"mov\": 0.83, \"sos\": 0.15, \"srs\": 0.98, \"o_rtg\": 108.8, \"d_rtg\": 108.0, \"n_rtg\": 0.8, \"pace\": 96.0, \"f_tr\": 0.268, \"x3p_ar\": 0.332, \"ts_percent\": 0.548, \"e_fg_percent\": 0.511, \"tov_percent\": 13.2, \"orb_percent\": 25.9, \"ft_fga\": 0.202, \"opp_e_fg_percent\": 0.503, \"opp_tov_percent\": 12.1, \"opp_drb_percent\": 76.2, \"opp_ft_fga\": 0.225, \"arena\": \"Moda Center\", \"attend\": 794085.0, \"attend_g\": 19368.0}, {\"Unnamed: 0\": 273, \"season\": 2016, \"lg\": \"NBA\", \"team\": \"Sacramento Kings\", \"abbreviation\": \"SAC\", \"playoffs\": false, \"age\": 26.6, \"w\": 33.0, \"l\": 49.0, \"pw\": 34.0, \"pl\": 48.0, \"mov\": -2.48, \"sos\": 0.16, \"srs\": -2.32, \"o_rtg\": 106.0, \"d_rtg\": 108.4, \"n_rtg\": -2.4, \"pace\": 100.0, \"f_tr\": 0.295, \"x3p_ar\": 0.26, \"ts_percent\": 0.546, \"e_fg_percent\": 0.51, \"tov_percent\": 14.2, \"orb_percent\": 23.9, \"ft_fga\": 0.214, \"opp_e_fg_percent\": 0.521, \"opp_tov_percent\": 14.0, \"opp_drb_percent\": 74.9, \"opp_ft_fga\": 0.202, \"arena\": \"Sleep Train Arena\", \"attend\": 707526.0, \"attend_g\": 17222.0}, {\"Unnamed: 0\": 274, \"season\": 2016, \"lg\": \"NBA\", \"team\": \"San Antonio Spurs\", \"abbreviation\": \"SAS\", \"playoffs\": true, \"age\": 30.3, \"w\": 67.0, \"l\": 15.0, \"pw\": 67.0, \"pl\": 15.0, \"mov\": 10.63, \"sos\": -0.36, \"srs\": 10.28, \"o_rtg\": 110.3, \"d_rtg\": 99.0, \"n_rtg\": 11.3, \"pace\": 93.8, \"f_tr\": 0.246, \"x3p_ar\": 0.223, \"ts_percent\": 0.564, \"e_fg_percent\": 0.526, \"tov_percent\": 12.4, \"orb_percent\": 23.0, \"ft_fga\": 0.197, \"opp_e_fg_percent\": 0.477, \"opp_tov_percent\": 14.1, \"opp_drb_percent\": 79.1, \"opp_ft_fga\": 0.182, \"arena\": \"AT&T Center\", \"attend\": 756445.0, \"attend_g\": 18450.0}, {\"Unnamed: 0\": 275, \"season\": 2016, \"lg\": \"NBA\", \"team\": \"Toronto Raptors\", \"abbreviation\": \"TOR\", \"playoffs\": true, \"age\": 26.3, \"w\": 56.0, \"l\": 26.0, \"pw\": 53.0, \"pl\": 29.0, \"mov\": 4.5, \"sos\": -0.42, \"srs\": 4.08, \"o_rtg\": 110.0, \"d_rtg\": 105.2, \"n_rtg\": 4.8, \"pace\": 92.9, \"f_tr\": 0.328, \"x3p_ar\": 0.287, \"ts_percent\": 0.552, \"e_fg_percent\": 0.504, \"tov_percent\": 12.3, \"orb_percent\": 24.6, \"ft_fga\": 0.255, \"opp_e_fg_percent\": 0.498, \"opp_tov_percent\": 12.7, \"opp_drb_percent\": 77.7, \"opp_ft_fga\": 0.201, \"arena\": \"Air Canada Centre\", \"attend\": 812863.0, \"attend_g\": 19826.0}, {\"Unnamed: 0\": 276, \"season\": 2016, \"lg\": \"NBA\", \"team\": \"Utah Jazz\", \"abbreviation\": \"UTA\", \"playoffs\": false, \"age\": 24.2, \"w\": 40.0, \"l\": 42.0, \"pw\": 46.0, \"pl\": 36.0, \"mov\": 1.79, \"sos\": 0.05, \"srs\": 1.84, \"o_rtg\": 105.9, \"d_rtg\": 103.9, \"n_rtg\": 2.0, \"pace\": 91.0, \"f_tr\": 0.286, \"x3p_ar\": 0.297, \"ts_percent\": 0.54, \"e_fg_percent\": 0.501, \"tov_percent\": 14.2, \"orb_percent\": 25.9, \"ft_fga\": 0.213, \"opp_e_fg_percent\": 0.495, \"opp_tov_percent\": 13.5, \"opp_drb_percent\": 77.7, \"opp_ft_fga\": 0.21, \"arena\": \"Vivint Smart Home Arena\", \"attend\": 791489.0, \"attend_g\": 19305.0}, {\"Unnamed: 0\": 277, \"season\": 2016, \"lg\": \"NBA\", \"team\": \"Washington Wizards\", \"abbreviation\": \"WAS\", \"playoffs\": false, \"age\": 27.3, \"w\": 41.0, \"l\": 41.0, \"pw\": 40.0, \"pl\": 42.0, \"mov\": -0.5, \"sos\": 0.0, \"srs\": -0.5, \"o_rtg\": 105.3, \"d_rtg\": 105.8, \"n_rtg\": -0.5, \"pace\": 98.5, \"f_tr\": 0.263, \"x3p_ar\": 0.282, \"ts_percent\": 0.544, \"e_fg_percent\": 0.511, \"tov_percent\": 13.1, \"orb_percent\": 20.6, \"ft_fga\": 0.192, \"opp_e_fg_percent\": 0.515, \"opp_tov_percent\": 14.6, \"opp_drb_percent\": 77.7, \"opp_ft_fga\": 0.218, \"arena\": \"Verizon Center\", \"attend\": 725426.0, \"attend_g\": 17693.0}, {\"Unnamed: 0\": 278, \"season\": 2016, \"lg\": \"NBA\", \"team\": \"League Average\", \"abbreviation\": null, \"playoffs\": false, \"age\": 26.8, \"w\": null, \"l\": null, \"pw\": 41.0, \"pl\": 41.0, \"mov\": 0.0, \"sos\": 0.0, \"srs\": 0.0, \"o_rtg\": 106.4, \"d_rtg\": 106.4, \"n_rtg\": null, \"pace\": 95.8, \"f_tr\": 0.276, \"x3p_ar\": 0.285, \"ts_percent\": 0.541, \"e_fg_percent\": 0.502, \"tov_percent\": 13.2, \"orb_percent\": 23.8, \"ft_fga\": 0.209, \"opp_e_fg_percent\": 0.502, \"opp_tov_percent\": 13.2, \"opp_drb_percent\": 76.2, \"opp_ft_fga\": 0.209, \"arena\": null, \"attend\": 732555.0, \"attend_g\": 17866.0}, {\"Unnamed: 0\": 279, \"season\": 2015, \"lg\": \"NBA\", \"team\": \"Atlanta Hawks\", \"abbreviation\": \"ATL\", \"playoffs\": true, \"age\": 27.8, \"w\": 60.0, \"l\": 22.0, \"pw\": 56.0, \"pl\": 26.0, \"mov\": 5.43, \"sos\": -0.68, \"srs\": 4.75, \"o_rtg\": 108.9, \"d_rtg\": 103.1, \"n_rtg\": 5.8, \"pace\": 93.9, \"f_tr\": 0.259, \"x3p_ar\": 0.321, \"ts_percent\": 0.563, \"e_fg_percent\": 0.527, \"tov_percent\": 13.5, \"orb_percent\": 21.4, \"ft_fga\": 0.201, \"opp_e_fg_percent\": 0.492, \"opp_tov_percent\": 14.9, \"opp_drb_percent\": 73.4, \"opp_ft_fga\": 0.185, \"arena\": \"Philips Arena\", \"attend\": 713909.0, \"attend_g\": 17412.0}, {\"Unnamed: 0\": 280, \"season\": 2015, \"lg\": \"NBA\", \"team\": \"Boston Celtics\", \"abbreviation\": \"BOS\", \"playoffs\": true, \"age\": 25.0, \"w\": 40.0, \"l\": 42.0, \"pw\": 41.0, \"pl\": 41.0, \"mov\": 0.16, \"sos\": -0.56, \"srs\": -0.4, \"o_rtg\": 104.7, \"d_rtg\": 104.5, \"n_rtg\": 0.2, \"pace\": 95.8, \"f_tr\": 0.233, \"x3p_ar\": 0.28, \"ts_percent\": 0.523, \"e_fg_percent\": 0.489, \"tov_percent\": 12.5, \"orb_percent\": 24.7, \"ft_fga\": 0.176, \"opp_e_fg_percent\": 0.494, \"opp_tov_percent\": 13.7, \"opp_drb_percent\": 75.0, \"opp_ft_fga\": 0.208, \"arena\": \"TD Garden\", \"attend\": 721350.0, \"attend_g\": 17594.0}, {\"Unnamed: 0\": 281, \"season\": 2015, \"lg\": \"NBA\", \"team\": \"Brooklyn Nets\", \"abbreviation\": \"BRK\", \"playoffs\": true, \"age\": 28.6, \"w\": 38.0, \"l\": 44.0, \"pw\": 33.0, \"pl\": 49.0, \"mov\": -2.88, \"sos\": -0.25, \"srs\": -3.13, \"o_rtg\": 104.4, \"d_rtg\": 107.4, \"n_rtg\": -3.0, \"pace\": 92.7, \"f_tr\": 0.267, \"x3p_ar\": 0.24, \"ts_percent\": 0.529, \"e_fg_percent\": 0.491, \"tov_percent\": 13.0, \"orb_percent\": 23.9, \"ft_fga\": 0.2, \"opp_e_fg_percent\": 0.506, \"opp_tov_percent\": 12.9, \"opp_drb_percent\": 73.7, \"opp_ft_fga\": 0.185, \"arena\": \"Barclays Center\", \"attend\": 698529.0, \"attend_g\": 17037.0}, {\"Unnamed: 0\": 282, \"season\": 2015, \"lg\": \"NBA\", \"team\": \"Chicago Bulls\", \"abbreviation\": \"CHI\", \"playoffs\": true, \"age\": 28.8, \"w\": 50.0, \"l\": 32.0, \"pw\": 50.0, \"pl\": 32.0, \"mov\": 3.0, \"sos\": -0.46, \"srs\": 2.54, \"o_rtg\": 107.5, \"d_rtg\": 104.3, \"n_rtg\": 3.2, \"pace\": 92.8, \"f_tr\": 0.304, \"x3p_ar\": 0.269, \"ts_percent\": 0.536, \"e_fg_percent\": 0.489, \"tov_percent\": 12.9, \"orb_percent\": 27.0, \"ft_fga\": 0.238, \"opp_e_fg_percent\": 0.473, \"opp_tov_percent\": 11.3, \"opp_drb_percent\": 74.4, \"opp_ft_fga\": 0.182, \"arena\": \"United Center\", \"attend\": 886612.0, \"attend_g\": 21625.0}, {\"Unnamed: 0\": 283, \"season\": 2015, \"lg\": \"NBA\", \"team\": \"Charlotte Hornets\", \"abbreviation\": \"CHO\", \"playoffs\": false, \"age\": 26.0, \"w\": 33.0, \"l\": 49.0, \"pw\": 32.0, \"pl\": 50.0, \"mov\": -3.17, \"sos\": -0.27, \"srs\": -3.44, \"o_rtg\": 100.1, \"d_rtg\": 103.5, \"n_rtg\": -3.4, \"pace\": 93.0, \"f_tr\": 0.269, \"x3p_ar\": 0.226, \"ts_percent\": 0.498, \"e_fg_percent\": 0.456, \"tov_percent\": 11.2, \"orb_percent\": 22.1, \"ft_fga\": 0.202, \"opp_e_fg_percent\": 0.487, \"opp_tov_percent\": 12.0, \"opp_drb_percent\": 79.3, \"opp_ft_fga\": 0.188, \"arena\": \"Time Warner Cable Arena\", \"attend\": 704886.0, \"attend_g\": 17192.0}, {\"Unnamed: 0\": 284, \"season\": 2015, \"lg\": \"NBA\", \"team\": \"Cleveland Cavaliers\", \"abbreviation\": \"CLE\", \"playoffs\": true, \"age\": 26.9, \"w\": 53.0, \"l\": 29.0, \"pw\": 53.0, \"pl\": 29.0, \"mov\": 4.48, \"sos\": -0.4, \"srs\": 4.08, \"o_rtg\": 111.1, \"d_rtg\": 106.3, \"n_rtg\": 4.8, \"pace\": 92.3, \"f_tr\": 0.287, \"x3p_ar\": 0.334, \"ts_percent\": 0.557, \"e_fg_percent\": 0.52, \"tov_percent\": 13.4, \"orb_percent\": 26.8, \"ft_fga\": 0.216, \"opp_e_fg_percent\": 0.502, \"opp_tov_percent\": 12.6, \"opp_drb_percent\": 74.7, \"opp_ft_fga\": 0.177, \"arena\": \"Quicken Loans Arena\", \"attend\": 843042.0, \"attend_g\": 20562.0}, {\"Unnamed: 0\": 285, \"season\": 2015, \"lg\": \"NBA\", \"team\": \"Dallas Mavericks\", \"abbreviation\": \"DAL\", \"playoffs\": true, \"age\": 29.9, \"w\": 50.0, \"l\": 32.0, \"pw\": 49.0, \"pl\": 33.0, \"mov\": 2.9, \"sos\": 0.46, \"srs\": 3.36, \"o_rtg\": 109.5, \"d_rtg\": 106.4, \"n_rtg\": 3.1, \"pace\": 95.2, \"f_tr\": 0.262, \"x3p_ar\": 0.296, \"ts_percent\": 0.55, \"e_fg_percent\": 0.515, \"tov_percent\": 11.9, \"orb_percent\": 23.6, \"ft_fga\": 0.197, \"opp_e_fg_percent\": 0.503, \"opp_tov_percent\": 14.7, \"opp_drb_percent\": 72.2, \"opp_ft_fga\": 0.204, \"arena\": \"American Airlines Center\", \"attend\": 827702.0, \"attend_g\": 20188.0}, {\"Unnamed: 0\": 286, \"season\": 2015, \"lg\": \"NBA\", \"team\": \"Denver Nuggets\", \"abbreviation\": \"DEN\", \"playoffs\": false, \"age\": 26.4, \"w\": 30.0, \"l\": 52.0, \"pw\": 31.0, \"pl\": 51.0, \"mov\": -3.55, \"sos\": 0.48, \"srs\": -3.07, \"o_rtg\": 104.5, \"d_rtg\": 108.2, \"n_rtg\": -3.7, \"pace\": 96.1, \"f_tr\": 0.278, \"x3p_ar\": 0.284, \"ts_percent\": 0.518, \"e_fg_percent\": 0.479, \"tov_percent\": 12.7, \"orb_percent\": 26.6, \"ft_fga\": 0.204, \"opp_e_fg_percent\": 0.504, \"opp_tov_percent\": 13.0, \"opp_drb_percent\": 74.7, \"opp_ft_fga\": 0.239, \"arena\": \"Pepsi Center\", \"attend\": 602707.0, \"attend_g\": 14700.0}, {\"Unnamed: 0\": 287, \"season\": 2015, \"lg\": \"NBA\", \"team\": \"Detroit Pistons\", \"abbreviation\": \"DET\", \"playoffs\": false, \"age\": 25.9, \"w\": 32.0, \"l\": 50.0, \"pw\": 38.0, \"pl\": 44.0, \"mov\": -1.0, \"sos\": -0.39, \"srs\": -1.39, \"o_rtg\": 105.3, \"d_rtg\": 106.4, \"n_rtg\": -1.1, \"pace\": 92.8, \"f_tr\": 0.261, \"x3p_ar\": 0.29, \"ts_percent\": 0.515, \"e_fg_percent\": 0.482, \"tov_percent\": 12.3, \"orb_percent\": 27.7, \"ft_fga\": 0.184, \"opp_e_fg_percent\": 0.502, \"opp_tov_percent\": 13.2, \"opp_drb_percent\": 75.0, \"opp_ft_fga\": 0.192, \"arena\": \"The Palace of Auburn Hills\", \"attend\": 625917.0, \"attend_g\": 15266.0}, {\"Unnamed: 0\": 288, \"season\": 2015, \"lg\": \"NBA\", \"team\": \"Golden State Warriors\", \"abbreviation\": \"GSW\", \"playoffs\": true, \"age\": 26.6, \"w\": 67.0, \"l\": 15.0, \"pw\": 65.0, \"pl\": 17.0, \"mov\": 10.1, \"sos\": -0.09, \"srs\": 10.01, \"o_rtg\": 111.6, \"d_rtg\": 101.4, \"n_rtg\": 10.2, \"pace\": 98.3, \"f_tr\": 0.239, \"x3p_ar\": 0.311, \"ts_percent\": 0.571, \"e_fg_percent\": 0.54, \"tov_percent\": 13.1, \"orb_percent\": 24.1, \"ft_fga\": 0.184, \"opp_e_fg_percent\": 0.47, \"opp_tov_percent\": 14.3, \"opp_drb_percent\": 74.5, \"opp_ft_fga\": 0.217, \"arena\": \"Oracle Arena\", \"attend\": 803436.0, \"attend_g\": 19596.0}, {\"Unnamed: 0\": 289, \"season\": 2015, \"lg\": \"NBA\", \"team\": \"Houston Rockets\", \"abbreviation\": \"HOU\", \"playoffs\": true, \"age\": 27.6, \"w\": 56.0, \"l\": 26.0, \"pw\": 50.0, \"pl\": 32.0, \"mov\": 3.44, \"sos\": 0.38, \"srs\": 3.82, \"o_rtg\": 107.0, \"d_rtg\": 103.4, \"n_rtg\": 3.6, \"pace\": 96.5, \"f_tr\": 0.312, \"x3p_ar\": 0.392, \"ts_percent\": 0.548, \"e_fg_percent\": 0.512, \"tov_percent\": 15.0, \"orb_percent\": 26.8, \"ft_fga\": 0.223, \"opp_e_fg_percent\": 0.486, \"opp_tov_percent\": 14.6, \"opp_drb_percent\": 72.9, \"opp_ft_fga\": 0.208, \"arena\": \"Toyota Center\", \"attend\": 747412.0, \"attend_g\": 18230.0}, {\"Unnamed: 0\": 290, \"season\": 2015, \"lg\": \"NBA\", \"team\": \"Indiana Pacers\", \"abbreviation\": \"IND\", \"playoffs\": false, \"age\": 28.3, \"w\": 38.0, \"l\": 44.0, \"pw\": 42.0, \"pl\": 40.0, \"mov\": 0.28, \"sos\": -0.51, \"srs\": -0.23, \"o_rtg\": 103.5, \"d_rtg\": 103.2, \"n_rtg\": 0.3, \"pace\": 93.2, \"f_tr\": 0.266, \"x3p_ar\": 0.255, \"ts_percent\": 0.523, \"e_fg_percent\": 0.484, \"tov_percent\": 13.1, \"orb_percent\": 24.0, \"ft_fga\": 0.201, \"opp_e_fg_percent\": 0.478, \"opp_tov_percent\": 12.0, \"opp_drb_percent\": 77.9, \"opp_ft_fga\": 0.217, \"arena\": \"Bankers Life Fieldhouse\", \"attend\": 691434.0, \"attend_g\": 16864.0}, {\"Unnamed: 0\": 291, \"season\": 2015, \"lg\": \"NBA\", \"team\": \"Los Angeles Clippers\", \"abbreviation\": \"LAC\", \"playoffs\": true, \"age\": 28.8, \"w\": 56.0, \"l\": 26.0, \"pw\": 58.0, \"pl\": 24.0, \"mov\": 6.59, \"sos\": 0.22, \"srs\": 6.8, \"o_rtg\": 112.4, \"d_rtg\": 105.5, \"n_rtg\": 6.9, \"pace\": 94.7, \"f_tr\": 0.303, \"x3p_ar\": 0.322, \"ts_percent\": 0.565, \"e_fg_percent\": 0.533, \"tov_percent\": 11.6, \"orb_percent\": 22.8, \"ft_fga\": 0.215, \"opp_e_fg_percent\": 0.493, \"opp_tov_percent\": 13.2, \"opp_drb_percent\": 75.7, \"opp_ft_fga\": 0.231, \"arena\": \"STAPLES Center\", \"attend\": 785892.0, \"attend_g\": 19168.0}, {\"Unnamed: 0\": 292, \"season\": 2015, \"lg\": \"NBA\", \"team\": \"Los Angeles Lakers\", \"abbreviation\": \"LAL\", \"playoffs\": false, \"age\": 27.0, \"w\": 21.0, \"l\": 61.0, \"pw\": 23.0, \"pl\": 59.0, \"mov\": -6.84, \"sos\": 0.67, \"srs\": -6.17, \"o_rtg\": 103.4, \"d_rtg\": 110.6, \"n_rtg\": -7.2, \"pace\": 94.0, \"f_tr\": 0.276, \"x3p_ar\": 0.22, \"ts_percent\": 0.513, \"e_fg_percent\": 0.473, \"tov_percent\": 12.1, \"orb_percent\": 25.4, \"ft_fga\": 0.204, \"opp_e_fg_percent\": 0.518, \"opp_tov_percent\": 12.1, \"opp_drb_percent\": 76.3, \"opp_ft_fga\": 0.231, \"arena\": \"STAPLES Center\", \"attend\": 768244.0, \"attend_g\": 18738.0}, {\"Unnamed: 0\": 293, \"season\": 2015, \"lg\": \"NBA\", \"team\": \"Memphis Grizzlies\", \"abbreviation\": \"MEM\", \"playoffs\": true, \"age\": 29.6, \"w\": 55.0, \"l\": 27.0, \"pw\": 50.0, \"pl\": 32.0, \"mov\": 3.24, \"sos\": 0.38, \"srs\": 3.62, \"o_rtg\": 105.7, \"d_rtg\": 102.2, \"n_rtg\": 3.5, \"pace\": 92.0, \"f_tr\": 0.276, \"x3p_ar\": 0.184, \"ts_percent\": 0.531, \"e_fg_percent\": 0.489, \"tov_percent\": 12.6, \"orb_percent\": 24.7, \"ft_fga\": 0.214, \"opp_e_fg_percent\": 0.492, \"opp_tov_percent\": 14.5, \"opp_drb_percent\": 75.3, \"opp_ft_fga\": 0.183, \"arena\": \"FedEx Forum\", \"attend\": 710502.0, \"attend_g\": 17329.0}, {\"Unnamed: 0\": 294, \"season\": 2015, \"lg\": \"NBA\", \"team\": \"Miami Heat\", \"abbreviation\": \"MIA\", \"playoffs\": false, \"age\": 28.5, \"w\": 37.0, \"l\": 45.0, \"pw\": 33.0, \"pl\": 49.0, \"mov\": -2.6, \"sos\": -0.32, \"srs\": -2.92, \"o_rtg\": 103.9, \"d_rtg\": 106.7, \"n_rtg\": -2.8, \"pace\": 90.9, \"f_tr\": 0.306, \"x3p_ar\": 0.262, \"ts_percent\": 0.54, \"e_fg_percent\": 0.5, \"tov_percent\": 14.5, \"orb_percent\": 23.2, \"ft_fga\": 0.227, \"opp_e_fg_percent\": 0.505, \"opp_tov_percent\": 14.2, \"opp_drb_percent\": 73.4, \"opp_ft_fga\": 0.213, \"arena\": \"AmericanAirlines Arena\", \"attend\": 808223.0, \"attend_g\": 19713.0}, {\"Unnamed: 0\": 295, \"season\": 2015, \"lg\": \"NBA\", \"team\": \"Milwaukee Bucks\", \"abbreviation\": \"MIL\", \"playoffs\": true, \"age\": 24.6, \"w\": 41.0, \"l\": 41.0, \"pw\": 42.0, \"pl\": 40.0, \"mov\": 0.43, \"sos\": -0.52, \"srs\": -0.09, \"o_rtg\": 102.7, \"d_rtg\": 102.2, \"n_rtg\": 0.5, \"pace\": 94.1, \"f_tr\": 0.258, \"x3p_ar\": 0.223, \"ts_percent\": 0.536, \"e_fg_percent\": 0.499, \"tov_percent\": 15.5, \"orb_percent\": 25.4, \"ft_fga\": 0.195, \"opp_e_fg_percent\": 0.487, \"opp_tov_percent\": 15.9, \"opp_drb_percent\": 73.3, \"opp_ft_fga\": 0.221, \"arena\": \"BMO Harris Bradley Center\", \"attend\": 593910.0, \"attend_g\": 14813.0}, {\"Unnamed: 0\": 296, \"season\": 2015, \"lg\": \"NBA\", \"team\": \"Minnesota Timberwolves\", \"abbreviation\": \"MIN\", \"playoffs\": false, \"age\": 24.4, \"w\": 16.0, \"l\": 66.0, \"pw\": 19.0, \"pl\": 63.0, \"mov\": -8.79, \"sos\": 0.79, \"srs\": -8.0, \"o_rtg\": 102.9, \"d_rtg\": 112.2, \"n_rtg\": -9.3, \"pace\": 94.4, \"f_tr\": 0.309, \"x3p_ar\": 0.179, \"ts_percent\": 0.517, \"e_fg_percent\": 0.468, \"tov_percent\": 13.7, \"orb_percent\": 26.6, \"ft_fga\": 0.24, \"opp_e_fg_percent\": 0.537, \"opp_tov_percent\": 13.9, \"opp_drb_percent\": 71.6, \"opp_ft_fga\": 0.187, \"arena\": \"Target Center\", \"attend\": 595652.0, \"attend_g\": 14416.0}, {\"Unnamed: 0\": 297, \"season\": 2015, \"lg\": \"NBA\", \"team\": \"New Orleans Pelicans\", \"abbreviation\": \"NOP\", \"playoffs\": true, \"age\": 25.3, \"w\": 45.0, \"l\": 37.0, \"pw\": 43.0, \"pl\": 39.0, \"mov\": 0.79, \"sos\": 0.34, \"srs\": 1.13, \"o_rtg\": 108.2, \"d_rtg\": 107.3, \"n_rtg\": 0.9, \"pace\": 91.4, \"f_tr\": 0.263, \"x3p_ar\": 0.233, \"ts_percent\": 0.537, \"e_fg_percent\": 0.501, \"tov_percent\": 12.5, \"orb_percent\": 27.1, \"ft_fga\": 0.198, \"opp_e_fg_percent\": 0.496, \"opp_tov_percent\": 11.7, \"opp_drb_percent\": 75.1, \"opp_ft_fga\": 0.195, \"arena\": \"Smoothie King Center\", \"attend\": 683757.0, \"attend_g\": 16677.0}, {\"Unnamed: 0\": 298, \"season\": 2015, \"lg\": \"NBA\", \"team\": \"New York Knicks\", \"abbreviation\": \"NYK\", \"playoffs\": false, \"age\": 26.9, \"w\": 17.0, \"l\": 65.0, \"pw\": 17.0, \"pl\": 65.0, \"mov\": -9.32, \"sos\": -0.18, \"srs\": -9.5, \"o_rtg\": 99.9, \"d_rtg\": 110.0, \"n_rtg\": -10.1, \"pace\": 91.2, \"f_tr\": 0.234, \"x3p_ar\": 0.24, \"ts_percent\": 0.508, \"e_fg_percent\": 0.47, \"tov_percent\": 14.0, \"orb_percent\": 24.5, \"ft_fga\": 0.18, \"opp_e_fg_percent\": 0.512, \"opp_tov_percent\": 13.3, \"opp_drb_percent\": 73.1, \"opp_ft_fga\": 0.234, \"arena\": \"Madison Square Garden (IV)\", \"attend\": 812292.0, \"attend_g\": 19812.0}, {\"Unnamed: 0\": 299, \"season\": 2015, \"lg\": \"NBA\", \"team\": \"Oklahoma City Thunder\", \"abbreviation\": \"OKC\", \"playoffs\": false, \"age\": 25.4, \"w\": 45.0, \"l\": 37.0, \"pw\": 47.0, \"pl\": 35.0, \"mov\": 2.18, \"sos\": 0.28, \"srs\": 2.47, \"o_rtg\": 107.8, \"d_rtg\": 105.5, \"n_rtg\": 2.3, \"pace\": 95.7, \"f_tr\": 0.284, \"x3p_ar\": 0.262, \"ts_percent\": 0.532, \"e_fg_percent\": 0.492, \"tov_percent\": 13.1, \"orb_percent\": 28.9, \"ft_fga\": 0.214, \"opp_e_fg_percent\": 0.489, \"opp_tov_percent\": 12.4, \"opp_drb_percent\": 75.6, \"opp_ft_fga\": 0.213, \"arena\": \"Chesapeake Energy Arena\", \"attend\": 746323.0, \"attend_g\": 18203.0}, {\"Unnamed: 0\": 300, \"season\": 2015, \"lg\": \"NBA\", \"team\": \"Orlando Magic\", \"abbreviation\": \"ORL\", \"playoffs\": false, \"age\": 24.3, \"w\": 25.0, \"l\": 57.0, \"pw\": 25.0, \"pl\": 57.0, \"mov\": -5.72, \"sos\": -0.15, \"srs\": -5.87, \"o_rtg\": 101.6, \"d_rtg\": 107.7, \"n_rtg\": -6.1, \"pace\": 93.8, \"f_tr\": 0.23, \"x3p_ar\": 0.235, \"ts_percent\": 0.524, \"e_fg_percent\": 0.494, \"tov_percent\": 14.0, \"orb_percent\": 23.1, \"ft_fga\": 0.168, \"opp_e_fg_percent\": 0.514, \"opp_tov_percent\": 13.6, \"opp_drb_percent\": 76.0, \"opp_ft_fga\": 0.21, \"arena\": \"Amway Center\", \"attend\": 688194.0, \"attend_g\": 16785.0}, {\"Unnamed: 0\": 301, \"season\": 2015, \"lg\": \"NBA\", \"team\": \"Philadelphia 76ers\", \"abbreviation\": \"PHI\", \"playoffs\": false, \"age\": 23.2, \"w\": 18.0, \"l\": 64.0, \"pw\": 18.0, \"pl\": 64.0, \"mov\": -8.98, \"sos\": -0.07, \"srs\": -9.04, \"o_rtg\": 95.5, \"d_rtg\": 104.8, \"n_rtg\": -9.3, \"pace\": 95.7, \"f_tr\": 0.288, \"x3p_ar\": 0.319, \"ts_percent\": 0.494, \"e_fg_percent\": 0.459, \"tov_percent\": 16.0, \"orb_percent\": 25.5, \"ft_fga\": 0.195, \"opp_e_fg_percent\": 0.497, \"opp_tov_percent\": 15.2, \"opp_drb_percent\": 73.0, \"opp_ft_fga\": 0.225, \"arena\": \"Wells Fargo Center\", \"attend\": 571572.0, \"attend_g\": 13941.0}, {\"Unnamed: 0\": 302, \"season\": 2015, \"lg\": \"NBA\", \"team\": \"Phoenix Suns\", \"abbreviation\": \"PHO\", \"playoffs\": false, \"age\": 25.7, \"w\": 39.0, \"l\": 43.0, \"pw\": 38.0, \"pl\": 44.0, \"mov\": -0.9, \"sos\": 0.52, \"srs\": -0.38, \"o_rtg\": 105.3, \"d_rtg\": 106.2, \"n_rtg\": -0.9, \"pace\": 96.3, \"f_tr\": 0.251, \"x3p_ar\": 0.291, \"ts_percent\": 0.537, \"e_fg_percent\": 0.501, \"tov_percent\": 13.7, \"orb_percent\": 24.5, \"ft_fga\": 0.191, \"opp_e_fg_percent\": 0.497, \"opp_tov_percent\": 14.0, \"opp_drb_percent\": 73.5, \"opp_ft_fga\": 0.221, \"arena\": \"US Airways Center\", \"attend\": 693862.0, \"attend_g\": 16923.0}, {\"Unnamed: 0\": 303, \"season\": 2015, \"lg\": \"NBA\", \"team\": \"Portland Trail Blazers\", \"abbreviation\": \"POR\", \"playoffs\": true, \"age\": 27.0, \"w\": 51.0, \"l\": 31.0, \"pw\": 53.0, \"pl\": 29.0, \"mov\": 4.23, \"sos\": 0.18, \"srs\": 4.41, \"o_rtg\": 108.2, \"d_rtg\": 103.7, \"n_rtg\": 4.5, \"pace\": 94.2, \"f_tr\": 0.225, \"x3p_ar\": 0.316, \"ts_percent\": 0.544, \"e_fg_percent\": 0.508, \"tov_percent\": 12.6, \"orb_percent\": 24.2, \"ft_fga\": 0.18, \"opp_e_fg_percent\": 0.476, \"opp_tov_percent\": 11.3, \"opp_drb_percent\": 76.2, \"opp_ft_fga\": 0.182, \"arena\": \"Moda Center\", \"attend\": 798368.0, \"attend_g\": 19472.0}, {\"Unnamed: 0\": 304, \"season\": 2015, \"lg\": \"NBA\", \"team\": \"Sacramento Kings\", \"abbreviation\": \"SAC\", \"playoffs\": false, \"age\": 26.0, \"w\": 29.0, \"l\": 53.0, \"pw\": 31.0, \"pl\": 51.0, \"mov\": -3.71, \"sos\": 0.64, \"srs\": -3.07, \"o_rtg\": 105.3, \"d_rtg\": 109.2, \"n_rtg\": -3.9, \"pace\": 95.4, \"f_tr\": 0.363, \"x3p_ar\": 0.204, \"ts_percent\": 0.542, \"e_fg_percent\": 0.49, \"tov_percent\": 14.8, \"orb_percent\": 26.5, \"ft_fga\": 0.276, \"opp_e_fg_percent\": 0.507, \"opp_tov_percent\": 11.8, \"opp_drb_percent\": 75.2, \"opp_ft_fga\": 0.2, \"arena\": \"Sleep Train Arena\", \"attend\": 680049.0, \"attend_g\": 16587.0}, {\"Unnamed: 0\": 305, \"season\": 2015, \"lg\": \"NBA\", \"team\": \"San Antonio Spurs\", \"abbreviation\": \"SAS\", \"playoffs\": true, \"age\": 29.8, \"w\": 55.0, \"l\": 27.0, \"pw\": 58.0, \"pl\": 24.0, \"mov\": 6.2, \"sos\": 0.14, \"srs\": 6.34, \"o_rtg\": 108.5, \"d_rtg\": 102.0, \"n_rtg\": 6.5, \"pace\": 93.8, \"f_tr\": 0.256, \"x3p_ar\": 0.269, \"ts_percent\": 0.555, \"e_fg_percent\": 0.517, \"tov_percent\": 13.1, \"orb_percent\": 23.4, \"ft_fga\": 0.2, \"opp_e_fg_percent\": 0.484, \"opp_tov_percent\": 13.3, \"opp_drb_percent\": 77.3, \"opp_ft_fga\": 0.19, \"arena\": \"AT&T Center\", \"attend\": 762855.0, \"attend_g\": 18606.0}, {\"Unnamed: 0\": 306, \"season\": 2015, \"lg\": \"NBA\", \"team\": \"Toronto Raptors\", \"abbreviation\": \"TOR\", \"playoffs\": true, \"age\": 26.1, \"w\": 49.0, \"l\": 33.0, \"pw\": 49.0, \"pl\": 33.0, \"mov\": 3.07, \"sos\": -0.62, \"srs\": 2.45, \"o_rtg\": 111.0, \"d_rtg\": 107.7, \"n_rtg\": 3.3, \"pace\": 92.8, \"f_tr\": 0.295, \"x3p_ar\": 0.302, \"ts_percent\": 0.553, \"e_fg_percent\": 0.508, \"tov_percent\": 12.0, \"orb_percent\": 25.6, \"ft_fga\": 0.232, \"opp_e_fg_percent\": 0.506, \"opp_tov_percent\": 13.4, \"opp_drb_percent\": 73.3, \"opp_ft_fga\": 0.208, \"arena\": \"Air Canada Centre\", \"attend\": 809824.0, \"attend_g\": 19752.0}, {\"Unnamed: 0\": 307, \"season\": 2015, \"lg\": \"NBA\", \"team\": \"Utah Jazz\", \"abbreviation\": \"UTA\", \"playoffs\": false, \"age\": 23.4, \"w\": 38.0, \"l\": 44.0, \"pw\": 42.0, \"pl\": 40.0, \"mov\": 0.22, \"sos\": 0.49, \"srs\": 0.71, \"o_rtg\": 105.1, \"d_rtg\": 104.9, \"n_rtg\": 0.2, \"pace\": 90.4, \"f_tr\": 0.297, \"x3p_ar\": 0.274, \"ts_percent\": 0.531, \"e_fg_percent\": 0.494, \"tov_percent\": 14.6, \"orb_percent\": 29.1, \"ft_fga\": 0.214, \"opp_e_fg_percent\": 0.491, \"opp_tov_percent\": 12.8, \"opp_drb_percent\": 76.3, \"opp_ft_fga\": 0.199, \"arena\": \"EnergySolutions Arena\", \"attend\": 772059.0, \"attend_g\": 18831.0}, {\"Unnamed: 0\": 308, \"season\": 2015, \"lg\": \"NBA\", \"team\": \"Washington Wizards\", \"abbreviation\": \"WAS\", \"playoffs\": true, \"age\": 28.6, \"w\": 46.0, \"l\": 36.0, \"pw\": 43.0, \"pl\": 39.0, \"mov\": 0.72, \"sos\": -0.55, \"srs\": 0.17, \"o_rtg\": 103.7, \"d_rtg\": 103.0, \"n_rtg\": 0.7, \"pace\": 93.7, \"f_tr\": 0.259, \"x3p_ar\": 0.203, \"ts_percent\": 0.534, \"e_fg_percent\": 0.499, \"tov_percent\": 14.0, \"orb_percent\": 24.9, \"ft_fga\": 0.192, \"opp_e_fg_percent\": 0.481, \"opp_tov_percent\": 12.9, \"opp_drb_percent\": 77.3, \"opp_ft_fga\": 0.21, \"arena\": \"Verizon Center\", \"attend\": 747796.0, \"attend_g\": 18239.0}, {\"Unnamed: 0\": 309, \"season\": 2015, \"lg\": \"NBA\", \"team\": \"League Average\", \"abbreviation\": null, \"playoffs\": false, \"age\": 26.8, \"w\": null, \"l\": null, \"pw\": 41.0, \"pl\": 41.0, \"mov\": 0.0, \"sos\": 0.0, \"srs\": 0.0, \"o_rtg\": 105.6, \"d_rtg\": 105.6, \"n_rtg\": null, \"pace\": 93.9, \"f_tr\": 0.273, \"x3p_ar\": 0.268, \"ts_percent\": 0.534, \"e_fg_percent\": 0.496, \"tov_percent\": 13.3, \"orb_percent\": 25.1, \"ft_fga\": 0.205, \"opp_e_fg_percent\": 0.496, \"opp_tov_percent\": 13.3, \"opp_drb_percent\": 74.9, \"opp_ft_fga\": 0.205, \"arena\": null, \"attend\": 729877.0, \"attend_g\": 17814.0}, {\"Unnamed: 0\": 310, \"season\": 2014, \"lg\": \"NBA\", \"team\": \"Atlanta Hawks\", \"abbreviation\": \"ATL\", \"playoffs\": true, \"age\": 27.5, \"w\": 38.0, \"l\": 44.0, \"pw\": 40.0, \"pl\": 42.0, \"mov\": -0.48, \"sos\": -0.4, \"srs\": -0.88, \"o_rtg\": 105.9, \"d_rtg\": 106.4, \"n_rtg\": -0.5, \"pace\": 94.6, \"f_tr\": 0.266, \"x3p_ar\": 0.316, \"ts_percent\": 0.554, \"e_fg_percent\": 0.515, \"tov_percent\": 14.3, \"orb_percent\": 21.0, \"ft_fga\": 0.208, \"opp_e_fg_percent\": 0.51, \"opp_tov_percent\": 14.0, \"opp_drb_percent\": 74.4, \"opp_ft_fga\": 0.196, \"arena\": \"Philips Arena\", \"attend\": 587927.0, \"attend_g\": 14231.0}, {\"Unnamed: 0\": 311, \"season\": 2014, \"lg\": \"NBA\", \"team\": \"Boston Celtics\", \"abbreviation\": \"BOS\", \"playoffs\": false, \"age\": 25.4, \"w\": 25.0, \"l\": 57.0, \"pw\": 28.0, \"pl\": 54.0, \"mov\": -4.46, \"sos\": -0.51, \"srs\": -4.97, \"o_rtg\": 102.9, \"d_rtg\": 107.7, \"n_rtg\": -4.8, \"pace\": 93.3, \"f_tr\": 0.248, \"x3p_ar\": 0.251, \"ts_percent\": 0.517, \"e_fg_percent\": 0.477, \"tov_percent\": 14.2, \"orb_percent\": 27.4, \"ft_fga\": 0.193, \"opp_e_fg_percent\": 0.505, \"opp_tov_percent\": 13.4, \"opp_drb_percent\": 74.2, \"opp_ft_fga\": 0.227, \"arena\": \"TD Garden\", \"attend\": 742400.0, \"attend_g\": 18107.0}, {\"Unnamed: 0\": 312, \"season\": 2014, \"lg\": \"NBA\", \"team\": \"Brooklyn Nets\", \"abbreviation\": \"BRK\", \"playoffs\": true, \"age\": 30.0, \"w\": 44.0, \"l\": 38.0, \"pw\": 38.0, \"pl\": 44.0, \"mov\": -1.0, \"sos\": -0.58, \"srs\": -1.58, \"o_rtg\": 106.7, \"d_rtg\": 107.7, \"n_rtg\": -1.0, \"pace\": 91.4, \"f_tr\": 0.313, \"x3p_ar\": 0.301, \"ts_percent\": 0.555, \"e_fg_percent\": 0.514, \"tov_percent\": 14.1, \"orb_percent\": 21.7, \"ft_fga\": 0.236, \"opp_e_fg_percent\": 0.509, \"opp_tov_percent\": 14.9, \"opp_drb_percent\": 72.3, \"opp_ft_fga\": 0.236, \"arena\": \"Barclays Center\", \"attend\": 707331.0, \"attend_g\": 17252.0}, {\"Unnamed: 0\": 313, \"season\": 2014, \"lg\": \"NBA\", \"team\": \"Charlotte Bobcats\", \"abbreviation\": \"CHA\", \"playoffs\": true, \"age\": 25.5, \"w\": 43.0, \"l\": 39.0, \"pw\": 40.0, \"pl\": 42.0, \"mov\": -0.22, \"sos\": -0.67, \"srs\": -0.89, \"o_rtg\": 103.6, \"d_rtg\": 103.8, \"n_rtg\": -0.2, \"pace\": 92.4, \"f_tr\": 0.297, \"x3p_ar\": 0.219, \"ts_percent\": 0.522, \"e_fg_percent\": 0.481, \"tov_percent\": 11.7, \"orb_percent\": 21.9, \"ft_fga\": 0.219, \"opp_e_fg_percent\": 0.491, \"opp_tov_percent\": 12.6, \"opp_drb_percent\": 77.6, \"opp_ft_fga\": 0.183, \"arena\": \"Time Warner Cable Arena\", \"attend\": 636268.0, \"attend_g\": 15519.0}, {\"Unnamed: 0\": 314, \"season\": 2014, \"lg\": \"NBA\", \"team\": \"Chicago Bulls\", \"abbreviation\": \"CHI\", \"playoffs\": true, \"age\": 28.6, \"w\": 48.0, \"l\": 34.0, \"pw\": 47.0, \"pl\": 35.0, \"mov\": 1.85, \"sos\": -0.66, \"srs\": 1.2, \"o_rtg\": 102.5, \"d_rtg\": 100.5, \"n_rtg\": 2.0, \"pace\": 90.2, \"f_tr\": 0.29, \"x3p_ar\": 0.222, \"ts_percent\": 0.518, \"e_fg_percent\": 0.471, \"tov_percent\": 14.2, \"orb_percent\": 27.2, \"ft_fga\": 0.226, \"opp_e_fg_percent\": 0.471, \"opp_tov_percent\": 13.7, \"opp_drb_percent\": 75.4, \"opp_ft_fga\": 0.189, \"arena\": \"United Center\", \"attend\": 890370.0, \"attend_g\": 21716.0}, {\"Unnamed: 0\": 315, \"season\": 2014, \"lg\": \"NBA\", \"team\": \"Cleveland Cavaliers\", \"abbreviation\": \"CLE\", \"playoffs\": false, \"age\": 24.9, \"w\": 33.0, \"l\": 49.0, \"pw\": 32.0, \"pl\": 50.0, \"mov\": -3.29, \"sos\": -0.57, \"srs\": -3.86, \"o_rtg\": 104.2, \"d_rtg\": 107.7, \"n_rtg\": -3.5, \"pace\": 93.1, \"f_tr\": 0.268, \"x3p_ar\": 0.236, \"ts_percent\": 0.518, \"e_fg_percent\": 0.479, \"tov_percent\": 13.0, \"orb_percent\": 27.2, \"ft_fga\": 0.201, \"opp_e_fg_percent\": 0.508, \"opp_tov_percent\": 13.0, \"opp_drb_percent\": 75.8, \"opp_ft_fga\": 0.199, \"arena\": \"Quicken Loans Arena\", \"attend\": 710522.0, \"attend_g\": 17330.0}, {\"Unnamed: 0\": 316, \"season\": 2014, \"lg\": \"NBA\", \"team\": \"Dallas Mavericks\", \"abbreviation\": \"DAL\", \"playoffs\": true, \"age\": 30.6, \"w\": 49.0, \"l\": 33.0, \"pw\": 48.0, \"pl\": 34.0, \"mov\": 2.4, \"sos\": 0.5, \"srs\": 2.91, \"o_rtg\": 111.2, \"d_rtg\": 108.7, \"n_rtg\": 2.5, \"pace\": 93.5, \"f_tr\": 0.253, \"x3p_ar\": 0.274, \"ts_percent\": 0.564, \"e_fg_percent\": 0.526, \"tov_percent\": 12.7, \"orb_percent\": 24.6, \"ft_fga\": 0.201, \"opp_e_fg_percent\": 0.515, \"opp_tov_percent\": 14.8, \"opp_drb_percent\": 72.7, \"opp_ft_fga\": 0.229, \"arena\": \"American Airlines Center\", \"attend\": 817982.0, \"attend_g\": 19951.0}, {\"Unnamed: 0\": 317, \"season\": 2014, \"lg\": \"NBA\", \"team\": \"Denver Nuggets\", \"abbreviation\": \"DEN\", \"playoffs\": false, \"age\": 26.0, \"w\": 36.0, \"l\": 46.0, \"pw\": 35.0, \"pl\": 47.0, \"mov\": -2.15, \"sos\": 0.75, \"srs\": -1.4, \"o_rtg\": 106.0, \"d_rtg\": 108.2, \"n_rtg\": -2.2, \"pace\": 98.1, \"f_tr\": 0.306, \"x3p_ar\": 0.278, \"ts_percent\": 0.536, \"e_fg_percent\": 0.497, \"tov_percent\": 14.0, \"orb_percent\": 27.5, \"ft_fga\": 0.222, \"opp_e_fg_percent\": 0.5, \"opp_tov_percent\": 12.8, \"opp_drb_percent\": 74.5, \"opp_ft_fga\": 0.233, \"arena\": \"Pepsi Center\", \"attend\": 692898.0, \"attend_g\": 16900.0}, {\"Unnamed: 0\": 318, \"season\": 2014, \"lg\": \"NBA\", \"team\": \"Detroit Pistons\", \"abbreviation\": \"DET\", \"playoffs\": false, \"age\": 24.7, \"w\": 29.0, \"l\": 53.0, \"pw\": 31.0, \"pl\": 51.0, \"mov\": -3.66, \"sos\": -0.48, \"srs\": -4.13, \"o_rtg\": 105.9, \"d_rtg\": 109.7, \"n_rtg\": -3.8, \"pace\": 94.9, \"f_tr\": 0.296, \"x3p_ar\": 0.222, \"ts_percent\": 0.514, \"e_fg_percent\": 0.482, \"tov_percent\": 12.9, \"orb_percent\": 31.4, \"ft_fga\": 0.199, \"opp_e_fg_percent\": 0.52, \"opp_tov_percent\": 13.8, \"opp_drb_percent\": 73.4, \"opp_ft_fga\": 0.218, \"arena\": \"The Palace of Auburn Hills\", \"attend\": 616005.0, \"attend_g\": 15025.0}, {\"Unnamed: 0\": 319, \"season\": 2014, \"lg\": \"NBA\", \"team\": \"Golden State Warriors\", \"abbreviation\": \"GSW\", \"playoffs\": true, \"age\": 26.3, \"w\": 51.0, \"l\": 31.0, \"pw\": 54.0, \"pl\": 28.0, \"mov\": 4.8, \"sos\": 0.34, \"srs\": 5.15, \"o_rtg\": 107.5, \"d_rtg\": 102.6, \"n_rtg\": 4.9, \"pace\": 96.2, \"f_tr\": 0.247, \"x3p_ar\": 0.291, \"ts_percent\": 0.55, \"e_fg_percent\": 0.517, \"tov_percent\": 13.8, \"orb_percent\": 25.1, \"ft_fga\": 0.186, \"opp_e_fg_percent\": 0.477, \"opp_tov_percent\": 13.6, \"opp_drb_percent\": 76.3, \"opp_ft_fga\": 0.224, \"arena\": \"Oracle Arena\", \"attend\": 803436.0, \"attend_g\": 19596.0}, {\"Unnamed: 0\": 320, \"season\": 2014, \"lg\": \"NBA\", \"team\": \"Houston Rockets\", \"abbreviation\": \"HOU\", \"playoffs\": true, \"age\": 25.4, \"w\": 54.0, \"l\": 28.0, \"pw\": 53.0, \"pl\": 29.0, \"mov\": 4.56, \"sos\": 0.5, \"srs\": 5.06, \"o_rtg\": 111.0, \"d_rtg\": 106.3, \"n_rtg\": 4.7, \"pace\": 96.3, \"f_tr\": 0.386, \"x3p_ar\": 0.33, \"ts_percent\": 0.571, \"e_fg_percent\": 0.531, \"tov_percent\": 14.6, \"orb_percent\": 27.4, \"ft_fga\": 0.275, \"opp_e_fg_percent\": 0.489, \"opp_tov_percent\": 12.5, \"opp_drb_percent\": 74.1, \"opp_ft_fga\": 0.193, \"arena\": \"Toyota Center\", \"attend\": 743082.0, \"attend_g\": 18124.0}, {\"Unnamed: 0\": 321, \"season\": 2014, \"lg\": \"NBA\", \"team\": \"Indiana Pacers\", \"abbreviation\": \"IND\", \"playoffs\": true, \"age\": 27.2, \"w\": 56.0, \"l\": 26.0, \"pw\": 54.0, \"pl\": 28.0, \"mov\": 4.4, \"sos\": -0.77, \"srs\": 3.63, \"o_rtg\": 104.1, \"d_rtg\": 99.3, \"n_rtg\": 4.8, \"pace\": 92.5, \"f_tr\": 0.29, \"x3p_ar\": 0.235, \"ts_percent\": 0.535, \"e_fg_percent\": 0.49, \"tov_percent\": 14.3, \"orb_percent\": 24.9, \"ft_fga\": 0.226, \"opp_e_fg_percent\": 0.46, \"opp_tov_percent\": 12.9, \"opp_drb_percent\": 76.8, \"opp_ft_fga\": 0.197, \"arena\": \"Bankers Life Fieldhouse\", \"attend\": 717542.0, \"attend_g\": 17501.0}, {\"Unnamed: 0\": 322, \"season\": 2014, \"lg\": \"NBA\", \"team\": \"Los Angeles Clippers\", \"abbreviation\": \"LAC\", \"playoffs\": true, \"age\": 28.1, \"w\": 57.0, \"l\": 25.0, \"pw\": 59.0, \"pl\": 23.0, \"mov\": 6.98, \"sos\": 0.3, \"srs\": 7.27, \"o_rtg\": 112.1, \"d_rtg\": 104.8, \"n_rtg\": 7.3, \"pace\": 95.9, \"f_tr\": 0.353, \"x3p_ar\": 0.291, \"ts_percent\": 0.567, \"e_fg_percent\": 0.526, \"tov_percent\": 12.7, \"orb_percent\": 25.0, \"ft_fga\": 0.258, \"opp_e_fg_percent\": 0.484, \"opp_tov_percent\": 13.8, \"opp_drb_percent\": 72.5, \"opp_ft_fga\": 0.222, \"arena\": \"STAPLES Center\", \"attend\": 787692.0, \"attend_g\": 19212.0}, {\"Unnamed: 0\": 323, \"season\": 2014, \"lg\": \"NBA\", \"team\": \"Los Angeles Lakers\", \"abbreviation\": \"LAL\", \"playoffs\": false, \"age\": 26.8, \"w\": 27.0, \"l\": 55.0, \"pw\": 25.0, \"pl\": 57.0, \"mov\": -6.29, \"sos\": 0.96, \"srs\": -5.33, \"o_rtg\": 104.2, \"d_rtg\": 110.6, \"n_rtg\": -6.4, \"pace\": 98.7, \"f_tr\": 0.263, \"x3p_ar\": 0.291, \"ts_percent\": 0.542, \"e_fg_percent\": 0.505, \"tov_percent\": 13.7, \"orb_percent\": 20.2, \"ft_fga\": 0.199, \"opp_e_fg_percent\": 0.513, \"opp_tov_percent\": 12.4, \"opp_drb_percent\": 71.0, \"opp_ft_fga\": 0.192, \"arena\": \"STAPLES Center\", \"attend\": 771974.0, \"attend_g\": 18829.0}, {\"Unnamed: 0\": 324, \"season\": 2014, \"lg\": \"NBA\", \"team\": \"Memphis Grizzlies\", \"abbreviation\": \"MEM\", \"playoffs\": true, \"age\": 28.5, \"w\": 50.0, \"l\": 32.0, \"pw\": 46.0, \"pl\": 36.0, \"mov\": 1.57, \"sos\": 0.61, \"srs\": 2.18, \"o_rtg\": 106.3, \"d_rtg\": 104.6, \"n_rtg\": 1.7, \"pace\": 89.9, \"f_tr\": 0.248, \"x3p_ar\": 0.171, \"ts_percent\": 0.529, \"e_fg_percent\": 0.494, \"tov_percent\": 13.1, \"orb_percent\": 28.3, \"ft_fga\": 0.184, \"opp_e_fg_percent\": 0.497, \"opp_tov_percent\": 13.8, \"opp_drb_percent\": 75.7, \"opp_ft_fga\": 0.199, \"arena\": \"FedEx Forum\", \"attend\": 685458.0, \"attend_g\": 16718.0}, {\"Unnamed: 0\": 325, \"season\": 2014, \"lg\": \"NBA\", \"team\": \"Miami Heat\", \"abbreviation\": \"MIA\", \"playoffs\": true, \"age\": 30.6, \"w\": 54.0, \"l\": 28.0, \"pw\": 54.0, \"pl\": 28.0, \"mov\": 4.76, \"sos\": -0.61, \"srs\": 4.15, \"o_rtg\": 110.9, \"d_rtg\": 105.8, \"n_rtg\": 5.1, \"pace\": 91.2, \"f_tr\": 0.3, \"x3p_ar\": 0.292, \"ts_percent\": 0.59, \"e_fg_percent\": 0.554, \"tov_percent\": 14.6, \"orb_percent\": 20.6, \"ft_fga\": 0.228, \"opp_e_fg_percent\": 0.511, \"opp_tov_percent\": 15.8, \"opp_drb_percent\": 73.0, \"opp_ft_fga\": 0.212, \"arena\": \"AmericanAirlines Arena\", \"attend\": 811036.0, \"attend_g\": 19781.0}, {\"Unnamed: 0\": 326, \"season\": 2014, \"lg\": \"NBA\", \"team\": \"Milwaukee Bucks\", \"abbreviation\": \"MIL\", \"playoffs\": false, \"age\": 24.7, \"w\": 15.0, \"l\": 67.0, \"pw\": 20.0, \"pl\": 62.0, \"mov\": -8.18, \"sos\": -0.23, \"srs\": -8.41, \"o_rtg\": 103.0, \"d_rtg\": 111.8, \"n_rtg\": -8.8, \"pace\": 91.8, \"f_tr\": 0.274, \"x3p_ar\": 0.231, \"ts_percent\": 0.519, \"e_fg_percent\": 0.479, \"tov_percent\": 14.1, \"orb_percent\": 27.1, \"ft_fga\": 0.204, \"opp_e_fg_percent\": 0.52, \"opp_tov_percent\": 13.2, \"opp_drb_percent\": 71.4, \"opp_ft_fga\": 0.225, \"arena\": \"BMO Harris Bradley Center\", \"attend\": 552067.0, \"attend_g\": 13465.0}, {\"Unnamed: 0\": 327, \"season\": 2014, \"lg\": \"NBA\", \"team\": \"Minnesota Timberwolves\", \"abbreviation\": \"MIN\", \"playoffs\": false, \"age\": 26.3, \"w\": 40.0, \"l\": 42.0, \"pw\": 48.0, \"pl\": 34.0, \"mov\": 2.67, \"sos\": 0.43, \"srs\": 3.1, \"o_rtg\": 108.9, \"d_rtg\": 106.2, \"n_rtg\": 2.7, \"pace\": 97.3, \"f_tr\": 0.321, \"x3p_ar\": 0.245, \"ts_percent\": 0.535, \"e_fg_percent\": 0.486, \"tov_percent\": 12.2, \"orb_percent\": 27.4, \"ft_fga\": 0.249, \"opp_e_fg_percent\": 0.518, \"opp_tov_percent\": 14.8, \"opp_drb_percent\": 74.4, \"opp_ft_fga\": 0.177, \"arena\": \"Target Center\", \"attend\": 597157.0, \"attend_g\": 14565.0}, {\"Unnamed: 0\": 328, \"season\": 2014, \"lg\": \"NBA\", \"team\": \"New Orleans Pelicans\", \"abbreviation\": \"NOP\", \"playoffs\": false, \"age\": 24.3, \"w\": 34.0, \"l\": 48.0, \"pw\": 33.0, \"pl\": 49.0, \"mov\": -2.71, \"sos\": 0.73, \"srs\": -1.98, \"o_rtg\": 107.2, \"d_rtg\": 110.1, \"n_rtg\": -2.9, \"pace\": 92.2, \"f_tr\": 0.286, \"x3p_ar\": 0.193, \"ts_percent\": 0.537, \"e_fg_percent\": 0.495, \"tov_percent\": 12.9, \"orb_percent\": 26.9, \"ft_fga\": 0.22, \"opp_e_fg_percent\": 0.515, \"opp_tov_percent\": 13.6, \"opp_drb_percent\": 73.8, \"opp_ft_fga\": 0.249, \"arena\": \"Smoothie King Center\", \"attend\": 672029.0, \"attend_g\": 16391.0}, {\"Unnamed: 0\": 329, \"season\": 2014, \"lg\": \"NBA\", \"team\": \"New York Knicks\", \"abbreviation\": \"NYK\", \"playoffs\": false, \"age\": 28.3, \"w\": 37.0, \"l\": 45.0, \"pw\": 39.0, \"pl\": 43.0, \"mov\": -0.79, \"sos\": -0.61, \"srs\": -1.4, \"o_rtg\": 108.3, \"d_rtg\": 109.1, \"n_rtg\": -0.8, \"pace\": 90.3, \"f_tr\": 0.248, \"x3p_ar\": 0.302, \"ts_percent\": 0.541, \"e_fg_percent\": 0.505, \"tov_percent\": 12.5, \"orb_percent\": 25.1, \"ft_fga\": 0.189, \"opp_e_fg_percent\": 0.514, \"opp_tov_percent\": 14.0, \"opp_drb_percent\": 74.3, \"opp_ft_fga\": 0.245, \"arena\": \"Madison Square Garden (IV)\", \"attend\": 812292.0, \"attend_g\": 19812.0}, {\"Unnamed: 0\": 330, \"season\": 2014, \"lg\": \"NBA\", \"team\": \"Oklahoma City Thunder\", \"abbreviation\": \"OKC\", \"playoffs\": true, \"age\": 26.2, \"w\": 59.0, \"l\": 23.0, \"pw\": 58.0, \"pl\": 24.0, \"mov\": 6.34, \"sos\": 0.32, \"srs\": 6.66, \"o_rtg\": 110.5, \"d_rtg\": 103.9, \"n_rtg\": 6.6, \"pace\": 95.4, \"f_tr\": 0.303, \"x3p_ar\": 0.271, \"ts_percent\": 0.566, \"e_fg_percent\": 0.52, \"tov_percent\": 14.0, \"orb_percent\": 26.5, \"ft_fga\": 0.244, \"opp_e_fg_percent\": 0.488, \"opp_tov_percent\": 13.9, \"opp_drb_percent\": 75.6, \"opp_ft_fga\": 0.221, \"arena\": \"Chesapeake Energy Arena\", \"attend\": 746323.0, \"attend_g\": 18203.0}, {\"Unnamed: 0\": 331, \"season\": 2014, \"lg\": \"NBA\", \"team\": \"Orlando Magic\", \"abbreviation\": \"ORL\", \"playoffs\": false, \"age\": 24.6, \"w\": 23.0, \"l\": 59.0, \"pw\": 26.0, \"pl\": 56.0, \"mov\": -5.44, \"sos\": -0.44, \"srs\": -5.88, \"o_rtg\": 101.7, \"d_rtg\": 107.4, \"n_rtg\": -5.7, \"pace\": 93.6, \"f_tr\": 0.253, \"x3p_ar\": 0.235, \"ts_percent\": 0.525, \"e_fg_percent\": 0.487, \"tov_percent\": 13.9, \"orb_percent\": 22.4, \"ft_fga\": 0.193, \"opp_e_fg_percent\": 0.504, \"opp_tov_percent\": 13.0, \"opp_drb_percent\": 75.5, \"opp_ft_fga\": 0.211, \"arena\": \"Amway Center\", \"attend\": 666046.0, \"attend_g\": 16245.0}, {\"Unnamed: 0\": 332, \"season\": 2014, \"lg\": \"NBA\", \"team\": \"Philadelphia 76ers\", \"abbreviation\": \"PHI\", \"playoffs\": false, \"age\": 23.4, \"w\": 19.0, \"l\": 63.0, \"pw\": 16.0, \"pl\": 66.0, \"mov\": -10.45, \"sos\": -0.21, \"srs\": -10.66, \"o_rtg\": 99.4, \"d_rtg\": 109.9, \"n_rtg\": -10.5, \"pace\": 99.2, \"f_tr\": 0.268, \"x3p_ar\": 0.258, \"ts_percent\": 0.51, \"e_fg_percent\": 0.475, \"tov_percent\": 14.8, \"orb_percent\": 24.8, \"ft_fga\": 0.19, \"opp_e_fg_percent\": 0.524, \"opp_tov_percent\": 14.9, \"opp_drb_percent\": 72.4, \"opp_ft_fga\": 0.244, \"arena\": \"Wells Fargo Center\", \"attend\": 568632.0, \"attend_g\": 13869.0}, {\"Unnamed: 0\": 333, \"season\": 2014, \"lg\": \"NBA\", \"team\": \"Phoenix Suns\", \"abbreviation\": \"PHO\", \"playoffs\": false, \"age\": 26.2, \"w\": 48.0, \"l\": 34.0, \"pw\": 48.0, \"pl\": 34.0, \"mov\": 2.63, \"sos\": 0.39, \"srs\": 3.02, \"o_rtg\": 109.5, \"d_rtg\": 106.7, \"n_rtg\": 2.8, \"pace\": 95.8, \"f_tr\": 0.293, \"x3p_ar\": 0.3, \"ts_percent\": 0.558, \"e_fg_percent\": 0.519, \"tov_percent\": 14.0, \"orb_percent\": 26.4, \"ft_fga\": 0.222, \"opp_e_fg_percent\": 0.496, \"opp_tov_percent\": 13.9, \"opp_drb_percent\": 73.7, \"opp_ft_fga\": 0.237, \"arena\": \"US Airways Center\", \"attend\": 650739.0, \"attend_g\": 15872.0}, {\"Unnamed: 0\": 334, \"season\": 2014, \"lg\": \"NBA\", \"team\": \"Portland Trail Blazers\", \"abbreviation\": \"POR\", \"playoffs\": true, \"age\": 25.8, \"w\": 54.0, \"l\": 28.0, \"pw\": 52.0, \"pl\": 30.0, \"mov\": 3.99, \"sos\": 0.45, \"srs\": 4.44, \"o_rtg\": 111.5, \"d_rtg\": 107.4, \"n_rtg\": 4.1, \"pace\": 94.9, \"f_tr\": 0.27, \"x3p_ar\": 0.29, \"ts_percent\": 0.548, \"e_fg_percent\": 0.504, \"tov_percent\": 12.4, \"orb_percent\": 28.0, \"ft_fga\": 0.22, \"opp_e_fg_percent\": 0.488, \"opp_tov_percent\": 11.0, \"opp_drb_percent\": 74.7, \"opp_ft_fga\": 0.194, \"arena\": \"Moda Center\", \"attend\": 809612.0, \"attend_g\": 19747.0}, {\"Unnamed: 0\": 335, \"season\": 2014, \"lg\": \"NBA\", \"team\": \"Sacramento Kings\", \"abbreviation\": \"SAC\", \"playoffs\": false, \"age\": 24.9, \"w\": 28.0, \"l\": 54.0, \"pw\": 33.0, \"pl\": 49.0, \"mov\": -2.9, \"sos\": 0.82, \"srs\": -2.08, \"o_rtg\": 105.7, \"d_rtg\": 108.8, \"n_rtg\": -3.1, \"pace\": 94.4, \"f_tr\": 0.331, \"x3p_ar\": 0.218, \"ts_percent\": 0.532, \"e_fg_percent\": 0.484, \"tov_percent\": 13.9, \"orb_percent\": 27.8, \"ft_fga\": 0.251, \"opp_e_fg_percent\": 0.512, \"opp_tov_percent\": 12.7, \"opp_drb_percent\": 76.6, \"opp_ft_fga\": 0.234, \"arena\": \"Sleep Train Arena\", \"attend\": 667949.0, \"attend_g\": 16291.0}, {\"Unnamed: 0\": 336, \"season\": 2014, \"lg\": \"NBA\", \"team\": \"San Antonio Spurs\", \"abbreviation\": \"SAS\", \"playoffs\": true, \"age\": 28.9, \"w\": 62.0, \"l\": 20.0, \"pw\": 61.0, \"pl\": 21.0, \"mov\": 7.72, \"sos\": 0.28, \"srs\": 8.0, \"o_rtg\": 110.5, \"d_rtg\": 102.4, \"n_rtg\": 8.1, \"pace\": 95.0, \"f_tr\": 0.24, \"x3p_ar\": 0.257, \"ts_percent\": 0.571, \"e_fg_percent\": 0.537, \"tov_percent\": 13.5, \"orb_percent\": 22.7, \"ft_fga\": 0.188, \"opp_e_fg_percent\": 0.482, \"opp_tov_percent\": 12.8, \"opp_drb_percent\": 76.4, \"opp_ft_fga\": 0.184, \"arena\": \"AT&T Center\", \"attend\": 755031.0, \"attend_g\": 18415.0}, {\"Unnamed: 0\": 337, \"season\": 2014, \"lg\": \"NBA\", \"team\": \"Toronto Raptors\", \"abbreviation\": \"TOR\", \"playoffs\": true, \"age\": 25.6, \"w\": 48.0, \"l\": 34.0, \"pw\": 50.0, \"pl\": 32.0, \"mov\": 3.24, \"sos\": -0.69, \"srs\": 2.55, \"o_rtg\": 108.8, \"d_rtg\": 105.3, \"n_rtg\": 3.5, \"pace\": 91.8, \"f_tr\": 0.306, \"x3p_ar\": 0.285, \"ts_percent\": 0.545, \"e_fg_percent\": 0.498, \"tov_percent\": 13.2, \"orb_percent\": 27.2, \"ft_fga\": 0.239, \"opp_e_fg_percent\": 0.493, \"opp_tov_percent\": 14.1, \"opp_drb_percent\": 74.9, \"opp_ft_fga\": 0.237, \"arena\": \"Air Canada Centre\", \"attend\": 748339.0, \"attend_g\": 18252.0}, {\"Unnamed: 0\": 338, \"season\": 2014, \"lg\": \"NBA\", \"team\": \"Utah Jazz\", \"abbreviation\": \"UTA\", \"playoffs\": false, \"age\": 24.5, \"w\": 25.0, \"l\": 57.0, \"pw\": 22.0, \"pl\": 60.0, \"mov\": -7.17, \"sos\": 0.91, \"srs\": -6.27, \"o_rtg\": 103.5, \"d_rtg\": 111.3, \"n_rtg\": -7.8, \"pace\": 91.4, \"f_tr\": 0.271, \"x3p_ar\": 0.237, \"ts_percent\": 0.523, \"e_fg_percent\": 0.484, \"tov_percent\": 13.9, \"orb_percent\": 25.5, \"ft_fga\": 0.202, \"opp_e_fg_percent\": 0.518, \"opp_tov_percent\": 12.1, \"opp_drb_percent\": 74.5, \"opp_ft_fga\": 0.227, \"arena\": \"EnergySolutions Arena\", \"attend\": 745203.0, \"attend_g\": 18176.0}, {\"Unnamed: 0\": 339, \"season\": 2014, \"lg\": \"NBA\", \"team\": \"Washington Wizards\", \"abbreviation\": \"WAS\", \"playoffs\": true, \"age\": 26.3, \"w\": 44.0, \"l\": 38.0, \"pw\": 45.0, \"pl\": 37.0, \"mov\": 1.27, \"sos\": -0.79, \"srs\": 0.48, \"o_rtg\": 106.0, \"d_rtg\": 104.6, \"n_rtg\": 1.4, \"pace\": 93.2, \"f_tr\": 0.248, \"x3p_ar\": 0.246, \"ts_percent\": 0.538, \"e_fg_percent\": 0.506, \"tov_percent\": 13.6, \"orb_percent\": 25.2, \"ft_fga\": 0.181, \"opp_e_fg_percent\": 0.504, \"opp_tov_percent\": 15.0, \"opp_drb_percent\": 75.7, \"opp_ft_fga\": 0.22, \"arena\": \"Verizon Center\", \"attend\": 698068.0, \"attend_g\": 17026.0}, {\"Unnamed: 0\": 340, \"season\": 2014, \"lg\": \"NBA\", \"team\": \"League Average\", \"abbreviation\": null, \"playoffs\": false, \"age\": 26.6, \"w\": null, \"l\": null, \"pw\": 41.0, \"pl\": 41.0, \"mov\": 0.0, \"sos\": 0.0, \"srs\": 0.0, \"o_rtg\": 106.7, \"d_rtg\": 106.7, \"n_rtg\": null, \"pace\": 93.9, \"f_tr\": 0.284, \"x3p_ar\": 0.259, \"ts_percent\": 0.541, \"e_fg_percent\": 0.501, \"tov_percent\": 13.6, \"orb_percent\": 25.5, \"ft_fga\": 0.215, \"opp_e_fg_percent\": 0.501, \"opp_tov_percent\": 13.6, \"opp_drb_percent\": 74.5, \"opp_ft_fga\": 0.215, \"arena\": null, \"attend\": 713714.0, \"attend_g\": 17407.0}, {\"Unnamed: 0\": 341, \"season\": 2013, \"lg\": \"NBA\", \"team\": \"Atlanta Hawks\", \"abbreviation\": \"ATL\", \"playoffs\": true, \"age\": 27.1, \"w\": 44.0, \"l\": 38.0, \"pw\": 42.0, \"pl\": 40.0, \"mov\": 0.4, \"sos\": -0.48, \"srs\": -0.08, \"o_rtg\": 104.8, \"d_rtg\": 104.4, \"n_rtg\": 0.4, \"pace\": 92.6, \"f_tr\": 0.244, \"x3p_ar\": 0.286, \"ts_percent\": 0.546, \"e_fg_percent\": 0.517, \"tov_percent\": 14.2, \"orb_percent\": 22.2, \"ft_fga\": 0.174, \"opp_e_fg_percent\": 0.496, \"opp_tov_percent\": 14.2, \"opp_drb_percent\": 73.6, \"opp_ft_fga\": 0.181, \"arena\": \"Philips Arena\", \"attend\": 620146.0, \"attend_g\": 15126.0}, {\"Unnamed: 0\": 342, \"season\": 2013, \"lg\": \"NBA\", \"team\": \"Boston Celtics\", \"abbreviation\": \"BOS\", \"playoffs\": true, \"age\": 29.1, \"w\": 41.0, \"l\": 40.0, \"pw\": 40.0, \"pl\": 41.0, \"mov\": -0.22, \"sos\": -0.4, \"srs\": -0.62, \"o_rtg\": 103.1, \"d_rtg\": 103.3, \"n_rtg\": -0.2, \"pace\": 91.7, \"f_tr\": 0.263, \"x3p_ar\": 0.215, \"ts_percent\": 0.542, \"e_fg_percent\": 0.503, \"tov_percent\": 14.1, \"orb_percent\": 20.1, \"ft_fga\": 0.204, \"opp_e_fg_percent\": 0.482, \"opp_tov_percent\": 14.2, \"opp_drb_percent\": 73.3, \"opp_ft_fga\": 0.216, \"arena\": \"TD Garden\", \"attend\": 744960.0, \"attend_g\": 18624.0}, {\"Unnamed: 0\": 343, \"season\": 2013, \"lg\": \"NBA\", \"team\": \"Brooklyn Nets\", \"abbreviation\": \"BRK\", \"playoffs\": true, \"age\": 28.6, \"w\": 49.0, \"l\": 33.0, \"pw\": 46.0, \"pl\": 36.0, \"mov\": 1.78, \"sos\": -0.53, \"srs\": 1.25, \"o_rtg\": 108.2, \"d_rtg\": 106.2, \"n_rtg\": 2.0, \"pace\": 88.8, \"f_tr\": 0.299, \"x3p_ar\": 0.269, \"ts_percent\": 0.536, \"e_fg_percent\": 0.498, \"tov_percent\": 14.0, \"orb_percent\": 30.9, \"ft_fga\": 0.219, \"opp_e_fg_percent\": 0.503, \"opp_tov_percent\": 13.1, \"opp_drb_percent\": 73.7, \"opp_ft_fga\": 0.174, \"arena\": \"Barclays Center\", \"attend\": 704702.0, \"attend_g\": 17188.0}, {\"Unnamed: 0\": 344, \"season\": 2013, \"lg\": \"NBA\", \"team\": \"Charlotte Bobcats\", \"abbreviation\": \"CHA\", \"playoffs\": false, \"age\": 24.4, \"w\": 21.0, \"l\": 61.0, \"pw\": 17.0, \"pl\": 65.0, \"mov\": -9.23, \"sos\": -0.06, \"srs\": -9.29, \"o_rtg\": 101.5, \"d_rtg\": 111.5, \"n_rtg\": -10.0, \"pace\": 91.5, \"f_tr\": 0.31, \"x3p_ar\": 0.21, \"ts_percent\": 0.507, \"e_fg_percent\": 0.46, \"tov_percent\": 13.2, \"orb_percent\": 25.7, \"ft_fga\": 0.233, \"opp_e_fg_percent\": 0.524, \"opp_tov_percent\": 13.2, \"opp_drb_percent\": 71.1, \"opp_ft_fga\": 0.197, \"arena\": \"Time Warner Cable Arena\", \"attend\": 628293.0, \"attend_g\": 15324.0}, {\"Unnamed: 0\": 345, \"season\": 2013, \"lg\": \"NBA\", \"team\": \"Chicago Bulls\", \"abbreviation\": \"CHI\", \"playoffs\": true, \"age\": 28.0, \"w\": 45.0, \"l\": 37.0, \"pw\": 42.0, \"pl\": 40.0, \"mov\": 0.32, \"sos\": -0.33, \"srs\": -0.02, \"o_rtg\": 103.5, \"d_rtg\": 103.2, \"n_rtg\": 0.3, \"pace\": 89.3, \"f_tr\": 0.259, \"x3p_ar\": 0.189, \"ts_percent\": 0.512, \"e_fg_percent\": 0.47, \"tov_percent\": 13.6, \"orb_percent\": 29.4, \"ft_fga\": 0.201, \"opp_e_fg_percent\": 0.477, \"opp_tov_percent\": 13.2, \"opp_drb_percent\": 73.6, \"opp_ft_fga\": 0.206, \"arena\": \"United Center\", \"attend\": 896944.0, \"attend_g\": 21877.0}, {\"Unnamed: 0\": 346, \"season\": 2013, \"lg\": \"NBA\", \"team\": \"Cleveland Cavaliers\", \"abbreviation\": \"CLE\", \"playoffs\": false, \"age\": 24.1, \"w\": 24.0, \"l\": 58.0, \"pw\": 28.0, \"pl\": 54.0, \"mov\": -4.68, \"sos\": -0.19, \"srs\": -4.87, \"o_rtg\": 104.3, \"d_rtg\": 109.4, \"n_rtg\": -5.1, \"pace\": 92.3, \"f_tr\": 0.265, \"x3p_ar\": 0.229, \"ts_percent\": 0.514, \"e_fg_percent\": 0.473, \"tov_percent\": 13.0, \"orb_percent\": 28.1, \"ft_fga\": 0.2, \"opp_e_fg_percent\": 0.523, \"opp_tov_percent\": 14.4, \"opp_drb_percent\": 72.6, \"opp_ft_fga\": 0.225, \"arena\": \"Quicken Loans Arena\", \"attend\": 663882.0, \"attend_g\": 16192.0}, {\"Unnamed: 0\": 347, \"season\": 2013, \"lg\": \"NBA\", \"team\": \"Dallas Mavericks\", \"abbreviation\": \"DAL\", \"playoffs\": false, \"age\": 29.5, \"w\": 41.0, \"l\": 41.0, \"pw\": 39.0, \"pl\": 43.0, \"mov\": -0.6, \"sos\": 0.36, \"srs\": -0.24, \"o_rtg\": 105.9, \"d_rtg\": 106.5, \"n_rtg\": -0.6, \"pace\": 94.1, \"f_tr\": 0.242, \"x3p_ar\": 0.236, \"ts_percent\": 0.544, \"e_fg_percent\": 0.506, \"tov_percent\": 13.0, \"orb_percent\": 21.8, \"ft_fga\": 0.192, \"opp_e_fg_percent\": 0.492, \"opp_tov_percent\": 13.3, \"opp_drb_percent\": 73.1, \"opp_ft_fga\": 0.227, \"arena\": \"American Airlines Center\", \"attend\": 821490.0, \"attend_g\": 20036.0}, {\"Unnamed: 0\": 348, \"season\": 2013, \"lg\": \"NBA\", \"team\": \"Denver Nuggets\", \"abbreviation\": \"DEN\", \"playoffs\": true, \"age\": 26.1, \"w\": 57.0, \"l\": 25.0, \"pw\": 55.0, \"pl\": 27.0, \"mov\": 5.09, \"sos\": 0.28, \"srs\": 5.37, \"o_rtg\": 110.4, \"d_rtg\": 105.1, \"n_rtg\": 5.3, \"pace\": 95.1, \"f_tr\": 0.308, \"x3p_ar\": 0.217, \"ts_percent\": 0.549, \"e_fg_percent\": 0.515, \"tov_percent\": 13.6, \"orb_percent\": 31.4, \"ft_fga\": 0.216, \"opp_e_fg_percent\": 0.493, \"opp_tov_percent\": 14.3, \"opp_drb_percent\": 71.8, \"opp_ft_fga\": 0.193, \"arena\": \"Pepsi Center\", \"attend\": 730616.0, \"attend_g\": 17820.0}, {\"Unnamed: 0\": 349, \"season\": 2013, \"lg\": \"NBA\", \"team\": \"Detroit Pistons\", \"abbreviation\": \"DET\", \"playoffs\": false, \"age\": 25.3, \"w\": 29.0, \"l\": 53.0, \"pw\": 29.0, \"pl\": 53.0, \"mov\": -3.99, \"sos\": -0.34, \"srs\": -4.33, \"o_rtg\": 103.8, \"d_rtg\": 108.1, \"n_rtg\": -4.3, \"pace\": 90.8, \"f_tr\": 0.282, \"x3p_ar\": 0.217, \"ts_percent\": 0.521, \"e_fg_percent\": 0.487, \"tov_percent\": 14.3, \"orb_percent\": 28.3, \"ft_fga\": 0.197, \"opp_e_fg_percent\": 0.505, \"opp_tov_percent\": 13.1, \"opp_drb_percent\": 73.0, \"opp_ft_fga\": 0.209, \"arena\": \"The Palace of Auburn Hills\", \"attend\": 606094.0, \"attend_g\": 14685.0}, {\"Unnamed: 0\": 350, \"season\": 2013, \"lg\": \"NBA\", \"team\": \"Golden State Warriors\", \"abbreviation\": \"GSW\", \"playoffs\": true, \"age\": 25.3, \"w\": 47.0, \"l\": 35.0, \"pw\": 44.0, \"pl\": 38.0, \"mov\": 0.89, \"sos\": 0.42, \"srs\": 1.32, \"o_rtg\": 106.4, \"d_rtg\": 105.5, \"n_rtg\": 0.9, \"pace\": 94.5, \"f_tr\": 0.255, \"x3p_ar\": 0.239, \"ts_percent\": 0.545, \"e_fg_percent\": 0.506, \"tov_percent\": 14.0, \"orb_percent\": 25.4, \"ft_fga\": 0.201, \"opp_e_fg_percent\": 0.486, \"opp_tov_percent\": 12.4, \"opp_drb_percent\": 75.5, \"opp_ft_fga\": 0.211, \"arena\": \"Oracle Arena\", \"attend\": 794320.0, \"attend_g\": 19374.0}, {\"Unnamed: 0\": 351, \"season\": 2013, \"lg\": \"NBA\", \"team\": \"Houston Rockets\", \"abbreviation\": \"HOU\", \"playoffs\": true, \"age\": 24.4, \"w\": 45.0, \"l\": 37.0, \"pw\": 50.0, \"pl\": 32.0, \"mov\": 3.48, \"sos\": 0.22, \"srs\": 3.69, \"o_rtg\": 109.7, \"d_rtg\": 106.1, \"n_rtg\": 3.6, \"pace\": 96.1, \"f_tr\": 0.308, \"x3p_ar\": 0.349, \"ts_percent\": 0.564, \"e_fg_percent\": 0.525, \"tov_percent\": 14.9, \"orb_percent\": 26.4, \"ft_fga\": 0.232, \"opp_e_fg_percent\": 0.502, \"opp_tov_percent\": 13.5, \"opp_drb_percent\": 75.2, \"opp_ft_fga\": 0.196, \"arena\": \"Toyota Center\", \"attend\": 683564.0, \"attend_g\": 16672.0}, {\"Unnamed: 0\": 352, \"season\": 2013, \"lg\": \"NBA\", \"team\": \"Indiana Pacers\", \"abbreviation\": \"IND\", \"playoffs\": true, \"age\": 25.7, \"w\": 49.0, \"l\": 32.0, \"pw\": 52.0, \"pl\": 29.0, \"mov\": 4.02, \"sos\": -0.69, \"srs\": 3.34, \"o_rtg\": 104.3, \"d_rtg\": 99.8, \"n_rtg\": 4.5, \"pace\": 90.2, \"f_tr\": 0.293, \"x3p_ar\": 0.245, \"ts_percent\": 0.521, \"e_fg_percent\": 0.479, \"tov_percent\": 14.3, \"orb_percent\": 30.3, \"ft_fga\": 0.219, \"opp_e_fg_percent\": 0.453, \"opp_tov_percent\": 12.9, \"opp_drb_percent\": 74.6, \"opp_ft_fga\": 0.197, \"arena\": \"Bankers Life Fieldhouse\", \"attend\": 626069.0, \"attend_g\": 15270.0}, {\"Unnamed: 0\": 353, \"season\": 2013, \"lg\": \"NBA\", \"team\": \"Los Angeles Clippers\", \"abbreviation\": \"LAC\", \"playoffs\": true, \"age\": 28.8, \"w\": 56.0, \"l\": 26.0, \"pw\": 59.0, \"pl\": 23.0, \"mov\": 6.45, \"sos\": -0.02, \"srs\": 6.43, \"o_rtg\": 110.6, \"d_rtg\": 103.6, \"n_rtg\": 7.0, \"pace\": 91.1, \"f_tr\": 0.286, \"x3p_ar\": 0.265, \"ts_percent\": 0.557, \"e_fg_percent\": 0.526, \"tov_percent\": 13.9, \"orb_percent\": 28.8, \"ft_fga\": 0.203, \"opp_e_fg_percent\": 0.492, \"opp_tov_percent\": 15.4, \"opp_drb_percent\": 73.5, \"opp_ft_fga\": 0.229, \"arena\": \"STAPLES Center\", \"attend\": 788293.0, \"attend_g\": 19227.0}, {\"Unnamed: 0\": 354, \"season\": 2013, \"lg\": \"NBA\", \"team\": \"Los Angeles Lakers\", \"abbreviation\": \"LAL\", \"playoffs\": true, \"age\": 30.7, \"w\": 45.0, \"l\": 37.0, \"pw\": 44.0, \"pl\": 38.0, \"mov\": 1.16, \"sos\": 0.32, \"srs\": 1.48, \"o_rtg\": 107.8, \"d_rtg\": 106.6, \"n_rtg\": 1.2, \"pace\": 94.4, \"f_tr\": 0.345, \"x3p_ar\": 0.303, \"ts_percent\": 0.548, \"e_fg_percent\": 0.512, \"tov_percent\": 13.9, \"orb_percent\": 27.0, \"ft_fga\": 0.239, \"opp_e_fg_percent\": 0.496, \"opp_tov_percent\": 11.9, \"opp_drb_percent\": 74.3, \"opp_ft_fga\": 0.163, \"arena\": \"STAPLES Center\", \"attend\": 778877.0, \"attend_g\": 18997.0}, {\"Unnamed: 0\": 355, \"season\": 2013, \"lg\": \"NBA\", \"team\": \"Memphis Grizzlies\", \"abbreviation\": \"MEM\", \"playoffs\": true, \"age\": 27.0, \"w\": 56.0, \"l\": 26.0, \"pw\": 54.0, \"pl\": 28.0, \"mov\": 4.15, \"sos\": 0.18, \"srs\": 4.32, \"o_rtg\": 104.9, \"d_rtg\": 100.3, \"n_rtg\": 4.6, \"pace\": 88.4, \"f_tr\": 0.261, \"x3p_ar\": 0.166, \"ts_percent\": 0.514, \"e_fg_percent\": 0.472, \"tov_percent\": 13.3, \"orb_percent\": 31.0, \"ft_fga\": 0.202, \"opp_e_fg_percent\": 0.475, \"opp_tov_percent\": 15.2, \"opp_drb_percent\": 74.3, \"opp_ft_fga\": 0.209, \"arena\": \"FedEx Forum\", \"attend\": 681613.0, \"attend_g\": 16625.0}, {\"Unnamed: 0\": 356, \"season\": 2013, \"lg\": \"NBA\", \"team\": \"Miami Heat\", \"abbreviation\": \"MIA\", \"playoffs\": true, \"age\": 30.3, \"w\": 66.0, \"l\": 16.0, \"pw\": 62.0, \"pl\": 20.0, \"mov\": 7.87, \"sos\": -0.84, \"srs\": 7.03, \"o_rtg\": 112.3, \"d_rtg\": 103.7, \"n_rtg\": 8.6, \"pace\": 90.7, \"f_tr\": 0.297, \"x3p_ar\": 0.285, \"ts_percent\": 0.588, \"e_fg_percent\": 0.552, \"tov_percent\": 13.7, \"orb_percent\": 22.2, \"ft_fga\": 0.224, \"opp_e_fg_percent\": 0.487, \"opp_tov_percent\": 14.8, \"opp_drb_percent\": 73.0, \"opp_ft_fga\": 0.2, \"arena\": \"AmericanAirlines Arena\", \"attend\": 819290.0, \"attend_g\": 19983.0}, {\"Unnamed: 0\": 357, \"season\": 2013, \"lg\": \"NBA\", \"team\": \"Milwaukee Bucks\", \"abbreviation\": \"MIL\", \"playoffs\": true, \"age\": 26.4, \"w\": 38.0, \"l\": 44.0, \"pw\": 37.0, \"pl\": 45.0, \"mov\": -1.5, \"sos\": -0.33, \"srs\": -1.83, \"o_rtg\": 103.6, \"d_rtg\": 105.2, \"n_rtg\": -1.6, \"pace\": 94.7, \"f_tr\": 0.236, \"x3p_ar\": 0.232, \"ts_percent\": 0.51, \"e_fg_percent\": 0.476, \"tov_percent\": 12.7, \"orb_percent\": 27.9, \"ft_fga\": 0.174, \"opp_e_fg_percent\": 0.492, \"opp_tov_percent\": 14.4, \"opp_drb_percent\": 71.3, \"opp_ft_fga\": 0.201, \"arena\": \"BMO Harris Bradley Center\", \"attend\": 616469.0, \"attend_g\": 15036.0}, {\"Unnamed: 0\": 358, \"season\": 2013, \"lg\": \"NBA\", \"team\": \"Minnesota Timberwolves\", \"abbreviation\": \"MIN\", \"playoffs\": false, \"age\": 26.4, \"w\": 31.0, \"l\": 51.0, \"pw\": 34.0, \"pl\": 48.0, \"mov\": -2.37, \"sos\": 0.54, \"srs\": -1.83, \"o_rtg\": 102.9, \"d_rtg\": 105.4, \"n_rtg\": -2.5, \"pace\": 92.8, \"f_tr\": 0.305, \"x3p_ar\": 0.22, \"ts_percent\": 0.516, \"e_fg_percent\": 0.473, \"tov_percent\": 13.8, \"orb_percent\": 27.4, \"ft_fga\": 0.226, \"opp_e_fg_percent\": 0.511, \"opp_tov_percent\": 15.0, \"opp_drb_percent\": 74.0, \"opp_ft_fga\": 0.187, \"arena\": \"Target Center\", \"attend\": 669956.0, \"attend_g\": 16340.0}, {\"Unnamed: 0\": 359, \"season\": 2013, \"lg\": \"NBA\", \"team\": \"New Orleans Hornets\", \"abbreviation\": \"NOH\", \"playoffs\": false, \"age\": 24.0, \"w\": 27.0, \"l\": 55.0, \"pw\": 30.0, \"pl\": 52.0, \"mov\": -3.87, \"sos\": 0.75, \"srs\": -3.12, \"o_rtg\": 105.7, \"d_rtg\": 110.1, \"n_rtg\": -4.4, \"pace\": 88.5, \"f_tr\": 0.248, \"x3p_ar\": 0.224, \"ts_percent\": 0.528, \"e_fg_percent\": 0.489, \"tov_percent\": 14.0, \"orb_percent\": 29.2, \"ft_fga\": 0.193, \"opp_e_fg_percent\": 0.52, \"opp_tov_percent\": 13.1, \"opp_drb_percent\": 74.4, \"opp_ft_fga\": 0.208, \"arena\": \"New Orleans Arena\", \"attend\": 565930.0, \"attend_g\": 13803.0}, {\"Unnamed: 0\": 360, \"season\": 2013, \"lg\": \"NBA\", \"team\": \"New York Knicks\", \"abbreviation\": \"NYK\", \"playoffs\": true, \"age\": 30.2, \"w\": 54.0, \"l\": 28.0, \"pw\": 53.0, \"pl\": 29.0, \"mov\": 4.23, \"sos\": -0.5, \"srs\": 3.73, \"o_rtg\": 111.1, \"d_rtg\": 106.3, \"n_rtg\": 4.8, \"pace\": 89.8, \"f_tr\": 0.258, \"x3p_ar\": 0.354, \"ts_percent\": 0.55, \"e_fg_percent\": 0.515, \"tov_percent\": 11.7, \"orb_percent\": 25.6, \"ft_fga\": 0.196, \"opp_e_fg_percent\": 0.508, \"opp_tov_percent\": 14.8, \"opp_drb_percent\": 74.7, \"opp_ft_fga\": 0.216, \"arena\": \"Madison Square Garden (IV)\", \"attend\": 780353.0, \"attend_g\": 19033.0}, {\"Unnamed: 0\": 361, \"season\": 2013, \"lg\": \"NBA\", \"team\": \"Oklahoma City Thunder\", \"abbreviation\": \"OKC\", \"playoffs\": true, \"age\": 26.0, \"w\": 60.0, \"l\": 22.0, \"pw\": 64.0, \"pl\": 18.0, \"mov\": 9.21, \"sos\": -0.06, \"srs\": 9.15, \"o_rtg\": 112.4, \"d_rtg\": 102.6, \"n_rtg\": 9.8, \"pace\": 93.3, \"f_tr\": 0.338, \"x3p_ar\": 0.244, \"ts_percent\": 0.58, \"e_fg_percent\": 0.527, \"tov_percent\": 14.4, \"orb_percent\": 26.7, \"ft_fga\": 0.28, \"opp_e_fg_percent\": 0.469, \"opp_tov_percent\": 13.5, \"opp_drb_percent\": 73.4, \"opp_ft_fga\": 0.197, \"arena\": \"Chesapeake Energy Arena\", \"attend\": 746323.0, \"attend_g\": 18203.0}, {\"Unnamed: 0\": 362, \"season\": 2013, \"lg\": \"NBA\", \"team\": \"Orlando Magic\", \"abbreviation\": \"ORL\", \"playoffs\": false, \"age\": 24.6, \"w\": 20.0, \"l\": 62.0, \"pw\": 22.0, \"pl\": 60.0, \"mov\": -6.99, \"sos\": -0.14, \"srs\": -7.12, \"o_rtg\": 101.6, \"d_rtg\": 109.1, \"n_rtg\": -7.5, \"pace\": 92.2, \"f_tr\": 0.197, \"x3p_ar\": 0.223, \"ts_percent\": 0.514, \"e_fg_percent\": 0.485, \"tov_percent\": 13.7, \"orb_percent\": 25.4, \"ft_fga\": 0.149, \"opp_e_fg_percent\": 0.508, \"opp_tov_percent\": 11.8, \"opp_drb_percent\": 74.6, \"opp_ft_fga\": 0.195, \"arena\": \"Amway Center\", \"attend\": 722716.0, \"attend_g\": 17627.0}, {\"Unnamed: 0\": 363, \"season\": 2013, \"lg\": \"NBA\", \"team\": \"Philadelphia 76ers\", \"abbreviation\": \"PHI\", \"playoffs\": false, \"age\": 25.2, \"w\": 34.0, \"l\": 48.0, \"pw\": 31.0, \"pl\": 51.0, \"mov\": -3.34, \"sos\": -0.17, \"srs\": -3.51, \"o_rtg\": 102.0, \"d_rtg\": 105.7, \"n_rtg\": -3.7, \"pace\": 91.0, \"f_tr\": 0.2, \"x3p_ar\": 0.209, \"ts_percent\": 0.509, \"e_fg_percent\": 0.481, \"tov_percent\": 12.5, \"orb_percent\": 24.9, \"ft_fga\": 0.146, \"opp_e_fg_percent\": 0.495, \"opp_tov_percent\": 13.7, \"opp_drb_percent\": 73.4, \"opp_ft_fga\": 0.2, \"arena\": \"Wells Fargo Center\", \"attend\": 685412.0, \"attend_g\": 16717.0}, {\"Unnamed: 0\": 364, \"season\": 2013, \"lg\": \"NBA\", \"team\": \"Phoenix Suns\", \"abbreviation\": \"PHO\", \"playoffs\": false, \"age\": 26.9, \"w\": 25.0, \"l\": 57.0, \"pw\": 23.0, \"pl\": 59.0, \"mov\": -6.46, \"sos\": 0.71, \"srs\": -5.75, \"o_rtg\": 101.2, \"d_rtg\": 108.1, \"n_rtg\": -6.9, \"pace\": 93.4, \"f_tr\": 0.234, \"x3p_ar\": 0.21, \"ts_percent\": 0.512, \"e_fg_percent\": 0.477, \"tov_percent\": 14.3, \"orb_percent\": 27.0, \"ft_fga\": 0.174, \"opp_e_fg_percent\": 0.512, \"opp_tov_percent\": 14.2, \"opp_drb_percent\": 71.9, \"opp_ft_fga\": 0.208, \"arena\": \"US Airways Center\", \"attend\": 632913.0, \"attend_g\": 15437.0}, {\"Unnamed: 0\": 365, \"season\": 2013, \"lg\": \"NBA\", \"team\": \"Portland Trail Blazers\", \"abbreviation\": \"POR\", \"playoffs\": false, \"age\": 24.4, \"w\": 33.0, \"l\": 49.0, \"pw\": 32.0, \"pl\": 50.0, \"mov\": -3.17, \"sos\": 0.65, \"srs\": -2.53, \"o_rtg\": 105.8, \"d_rtg\": 109.2, \"n_rtg\": -3.4, \"pace\": 91.4, \"f_tr\": 0.25, \"x3p_ar\": 0.284, \"ts_percent\": 0.536, \"e_fg_percent\": 0.498, \"tov_percent\": 13.9, \"orb_percent\": 25.3, \"ft_fga\": 0.194, \"opp_e_fg_percent\": 0.512, \"opp_tov_percent\": 12.5, \"opp_drb_percent\": 73.3, \"opp_ft_fga\": 0.189, \"arena\": \"Rose Garden Arena\", \"attend\": 813012.0, \"attend_g\": 19830.0}, {\"Unnamed: 0\": 366, \"season\": 2013, \"lg\": \"NBA\", \"team\": \"Sacramento Kings\", \"abbreviation\": \"SAC\", \"playoffs\": false, \"age\": 25.6, \"w\": 28.0, \"l\": 54.0, \"pw\": 28.0, \"pl\": 54.0, \"mov\": -4.88, \"sos\": 0.62, \"srs\": -4.26, \"o_rtg\": 106.2, \"d_rtg\": 111.4, \"n_rtg\": -5.2, \"pace\": 93.6, \"f_tr\": 0.271, \"x3p_ar\": 0.243, \"ts_percent\": 0.532, \"e_fg_percent\": 0.491, \"tov_percent\": 13.4, \"orb_percent\": 26.6, \"ft_fga\": 0.208, \"opp_e_fg_percent\": 0.517, \"opp_tov_percent\": 13.6, \"opp_drb_percent\": 71.0, \"opp_ft_fga\": 0.227, \"arena\": \"Sleep Train Arena\", \"attend\": 563743.0, \"attend_g\": 13750.0}, {\"Unnamed: 0\": 367, \"season\": 2013, \"lg\": \"NBA\", \"team\": \"San Antonio Spurs\", \"abbreviation\": \"SAS\", \"playoffs\": true, \"age\": 28.6, \"w\": 58.0, \"l\": 24.0, \"pw\": 58.0, \"pl\": 24.0, \"mov\": 6.4, \"sos\": 0.27, \"srs\": 6.67, \"o_rtg\": 108.3, \"d_rtg\": 101.6, \"n_rtg\": 6.7, \"pace\": 94.2, \"f_tr\": 0.258, \"x3p_ar\": 0.264, \"ts_percent\": 0.568, \"e_fg_percent\": 0.531, \"tov_percent\": 14.0, \"orb_percent\": 20.5, \"ft_fga\": 0.204, \"opp_e_fg_percent\": 0.48, \"opp_tov_percent\": 13.7, \"opp_drb_percent\": 74.9, \"opp_ft_fga\": 0.179, \"arena\": \"AT&T Center\", \"attend\": 755700.0, \"attend_g\": 18432.0}, {\"Unnamed: 0\": 368, \"season\": 2013, \"lg\": \"NBA\", \"team\": \"Toronto Raptors\", \"abbreviation\": \"TOR\", \"playoffs\": false, \"age\": 25.4, \"w\": 34.0, \"l\": 48.0, \"pw\": 37.0, \"pl\": 45.0, \"mov\": -1.48, \"sos\": -0.48, \"srs\": -1.96, \"o_rtg\": 105.9, \"d_rtg\": 107.5, \"n_rtg\": -1.6, \"pace\": 90.4, \"f_tr\": 0.274, \"x3p_ar\": 0.249, \"ts_percent\": 0.532, \"e_fg_percent\": 0.488, \"tov_percent\": 13.0, \"orb_percent\": 25.5, \"ft_fga\": 0.216, \"opp_e_fg_percent\": 0.5, \"opp_tov_percent\": 13.6, \"opp_drb_percent\": 73.4, \"opp_ft_fga\": 0.247, \"arena\": \"Air Canada Centre\", \"attend\": 743936.0, \"attend_g\": 18145.0}, {\"Unnamed: 0\": 369, \"season\": 2013, \"lg\": \"NBA\", \"team\": \"Utah Jazz\", \"abbreviation\": \"UTA\", \"playoffs\": false, \"age\": 26.3, \"w\": 43.0, \"l\": 39.0, \"pw\": 41.0, \"pl\": 41.0, \"mov\": -0.09, \"sos\": 0.38, \"srs\": 0.3, \"o_rtg\": 106.7, \"d_rtg\": 106.8, \"n_rtg\": -0.1, \"pace\": 90.9, \"f_tr\": 0.281, \"x3p_ar\": 0.206, \"ts_percent\": 0.533, \"e_fg_percent\": 0.492, \"tov_percent\": 13.8, \"orb_percent\": 28.8, \"ft_fga\": 0.214, \"opp_e_fg_percent\": 0.501, \"opp_tov_percent\": 14.0, \"opp_drb_percent\": 73.2, \"opp_ft_fga\": 0.226, \"arena\": \"EnergySolutions Arena\", \"attend\": 763915.0, \"attend_g\": 18632.0}, {\"Unnamed: 0\": 370, \"season\": 2013, \"lg\": \"NBA\", \"team\": \"Washington Wizards\", \"abbreviation\": \"WAS\", \"playoffs\": false, \"age\": 25.4, \"w\": 29.0, \"l\": 53.0, \"pw\": 33.0, \"pl\": 49.0, \"mov\": -2.54, \"sos\": -0.25, \"srs\": -2.78, \"o_rtg\": 100.2, \"d_rtg\": 103.0, \"n_rtg\": -2.8, \"pace\": 92.2, \"f_tr\": 0.261, \"x3p_ar\": 0.223, \"ts_percent\": 0.512, \"e_fg_percent\": 0.475, \"tov_percent\": 14.2, \"orb_percent\": 24.6, \"ft_fga\": 0.191, \"opp_e_fg_percent\": 0.483, \"opp_tov_percent\": 13.7, \"opp_drb_percent\": 74.6, \"opp_ft_fga\": 0.206, \"arena\": \"Verizon Center\", \"attend\": 670070.0, \"attend_g\": 16343.0}, {\"Unnamed: 0\": 371, \"season\": 2013, \"lg\": \"NBA\", \"team\": \"League Average\", \"abbreviation\": null, \"playoffs\": false, \"age\": 26.7, \"w\": null, \"l\": null, \"pw\": 41.0, \"pl\": 41.0, \"mov\": 0.0, \"sos\": 0.0, \"srs\": 0.0, \"o_rtg\": 105.9, \"d_rtg\": 105.9, \"n_rtg\": null, \"pace\": 92.0, \"f_tr\": 0.27, \"x3p_ar\": 0.243, \"ts_percent\": 0.535, \"e_fg_percent\": 0.496, \"tov_percent\": 13.7, \"orb_percent\": 26.5, \"ft_fga\": 0.204, \"opp_e_fg_percent\": 0.496, \"opp_tov_percent\": 13.7, \"opp_drb_percent\": 73.5, \"opp_ft_fga\": 0.204, \"arena\": null, \"attend\": 710653.0, \"attend_g\": 17346.0}, {\"Unnamed: 0\": 372, \"season\": 2012, \"lg\": \"NBA\", \"team\": \"Atlanta Hawks\", \"abbreviation\": \"ATL\", \"playoffs\": true, \"age\": 27.9, \"w\": 40.0, \"l\": 26.0, \"pw\": 41.0, \"pl\": 25.0, \"mov\": 3.44, \"sos\": -0.77, \"srs\": 2.67, \"o_rtg\": 104.9, \"d_rtg\": 101.2, \"n_rtg\": 3.7, \"pace\": 90.2, \"f_tr\": 0.259, \"x3p_ar\": 0.249, \"ts_percent\": 0.535, \"e_fg_percent\": 0.5, \"tov_percent\": 13.4, \"orb_percent\": 23.9, \"ft_fga\": 0.192, \"opp_e_fg_percent\": 0.48, \"opp_tov_percent\": 14.4, \"opp_drb_percent\": 74.4, \"opp_ft_fga\": 0.186, \"arena\": \"Philips Arena\", \"attend\": 501593.0, \"attend_g\": 15200.0}, {\"Unnamed: 0\": 373, \"season\": 2012, \"lg\": \"NBA\", \"team\": \"Boston Celtics\", \"abbreviation\": \"BOS\", \"playoffs\": true, \"age\": 29.3, \"w\": 39.0, \"l\": 27.0, \"pw\": 39.0, \"pl\": 27.0, \"mov\": 2.52, \"sos\": -0.26, \"srs\": 2.26, \"o_rtg\": 101.0, \"d_rtg\": 98.2, \"n_rtg\": 2.8, \"pace\": 90.4, \"f_tr\": 0.257, \"x3p_ar\": 0.194, \"ts_percent\": 0.535, \"e_fg_percent\": 0.496, \"tov_percent\": 14.7, \"orb_percent\": 19.7, \"ft_fga\": 0.2, \"opp_e_fg_percent\": 0.452, \"opp_tov_percent\": 14.9, \"opp_drb_percent\": 72.4, \"opp_ft_fga\": 0.216, \"arena\": \"TD Garden\", \"attend\": 614592.0, \"attend_g\": 18624.0}, {\"Unnamed: 0\": 374, \"season\": 2012, \"lg\": \"NBA\", \"team\": \"Charlotte Bobcats\", \"abbreviation\": \"CHA\", \"playoffs\": false, \"age\": 24.5, \"w\": 7.0, \"l\": 59.0, \"pw\": 7.0, \"pl\": 59.0, \"mov\": -13.91, \"sos\": -0.05, \"srs\": -13.96, \"o_rtg\": 95.2, \"d_rtg\": 110.4, \"n_rtg\": -15.2, \"pace\": 91.1, \"f_tr\": 0.276, \"x3p_ar\": 0.169, \"ts_percent\": 0.483, \"e_fg_percent\": 0.439, \"tov_percent\": 13.9, \"orb_percent\": 23.6, \"ft_fga\": 0.206, \"opp_e_fg_percent\": 0.512, \"opp_tov_percent\": 12.8, \"opp_drb_percent\": 70.9, \"opp_ft_fga\": 0.206, \"arena\": \"Time Warner Cable Arena\", \"attend\": 486984.0, \"attend_g\": 14757.0}, {\"Unnamed: 0\": 375, \"season\": 2012, \"lg\": \"NBA\", \"team\": \"Chicago Bulls\", \"abbreviation\": \"CHI\", \"playoffs\": true, \"age\": 27.1, \"w\": 50.0, \"l\": 16.0, \"pw\": 51.0, \"pl\": 15.0, \"mov\": 8.18, \"sos\": -0.76, \"srs\": 7.43, \"o_rtg\": 107.4, \"d_rtg\": 98.3, \"n_rtg\": 9.1, \"pace\": 89.1, \"f_tr\": 0.255, \"x3p_ar\": 0.205, \"ts_percent\": 0.523, \"e_fg_percent\": 0.49, \"tov_percent\": 13.2, \"orb_percent\": 32.6, \"ft_fga\": 0.184, \"opp_e_fg_percent\": 0.45, \"opp_tov_percent\": 12.8, \"opp_drb_percent\": 74.3, \"opp_ft_fga\": 0.175, \"arena\": \"United Center\", \"attend\": 731326.0, \"attend_g\": 22161.0}, {\"Unnamed: 0\": 376, \"season\": 2012, \"lg\": \"NBA\", \"team\": \"Cleveland Cavaliers\", \"abbreviation\": \"CLE\", \"playoffs\": false, \"age\": 26.0, \"w\": 21.0, \"l\": 45.0, \"pw\": 17.0, \"pl\": 49.0, \"mov\": -7.2, \"sos\": -0.14, \"srs\": -7.34, \"o_rtg\": 101.1, \"d_rtg\": 108.9, \"n_rtg\": -7.8, \"pace\": 91.3, \"f_tr\": 0.307, \"x3p_ar\": 0.238, \"ts_percent\": 0.505, \"e_fg_percent\": 0.463, \"tov_percent\": 14.3, \"orb_percent\": 28.9, \"ft_fga\": 0.22, \"opp_e_fg_percent\": 0.508, \"opp_tov_percent\": 13.1, \"opp_drb_percent\": 72.2, \"opp_ft_fga\": 0.202, \"arena\": \"Quicken Loans Arena\", \"attend\": 525577.0, \"attend_g\": 15927.0}, {\"Unnamed: 0\": 377, \"season\": 2012, \"lg\": \"NBA\", \"team\": \"Dallas Mavericks\", \"abbreviation\": \"DAL\", \"playoffs\": true, \"age\": 31.3, \"w\": 36.0, \"l\": 30.0, \"pw\": 35.0, \"pl\": 31.0, \"mov\": 0.95, \"sos\": 0.83, \"srs\": 1.78, \"o_rtg\": 103.3, \"d_rtg\": 102.3, \"n_rtg\": 1.0, \"pace\": 91.4, \"f_tr\": 0.246, \"x3p_ar\": 0.271, \"ts_percent\": 0.527, \"e_fg_percent\": 0.489, \"tov_percent\": 13.4, \"orb_percent\": 23.4, \"ft_fga\": 0.19, \"opp_e_fg_percent\": 0.479, \"opp_tov_percent\": 13.9, \"opp_drb_percent\": 74.8, \"opp_ft_fga\": 0.203, \"arena\": \"American Airlines Center\", \"attend\": 671050.0, \"attend_g\": 20335.0}, {\"Unnamed: 0\": 378, \"season\": 2012, \"lg\": \"NBA\", \"team\": \"Denver Nuggets\", \"abbreviation\": \"DEN\", \"playoffs\": true, \"age\": 26.6, \"w\": 38.0, \"l\": 28.0, \"pw\": 39.0, \"pl\": 27.0, \"mov\": 2.88, \"sos\": 0.29, \"srs\": 3.16, \"o_rtg\": 109.2, \"d_rtg\": 106.2, \"n_rtg\": 3.0, \"pace\": 94.2, \"f_tr\": 0.326, \"x3p_ar\": 0.243, \"ts_percent\": 0.556, \"e_fg_percent\": 0.516, \"tov_percent\": 14.1, \"orb_percent\": 27.7, \"ft_fga\": 0.239, \"opp_e_fg_percent\": 0.508, \"opp_tov_percent\": 14.3, \"opp_drb_percent\": 74.3, \"opp_ft_fga\": 0.185, \"arena\": \"Pepsi Center\", \"attend\": 561966.0, \"attend_g\": 17029.0}, {\"Unnamed: 0\": 379, \"season\": 2012, \"lg\": \"NBA\", \"team\": \"Detroit Pistons\", \"abbreviation\": \"DET\", \"playoffs\": false, \"age\": 26.3, \"w\": 25.0, \"l\": 41.0, \"pw\": 22.0, \"pl\": 44.0, \"mov\": -4.79, \"sos\": -0.4, \"srs\": -5.19, \"o_rtg\": 101.0, \"d_rtg\": 106.3, \"n_rtg\": -5.3, \"pace\": 89.2, \"f_tr\": 0.279, \"x3p_ar\": 0.175, \"ts_percent\": 0.51, \"e_fg_percent\": 0.468, \"tov_percent\": 15.0, \"orb_percent\": 28.1, \"ft_fga\": 0.21, \"opp_e_fg_percent\": 0.5, \"opp_tov_percent\": 14.2, \"opp_drb_percent\": 72.8, \"opp_ft_fga\": 0.226, \"arena\": \"The Palace of Auburn Hills\", \"attend\": 475638.0, \"attend_g\": 14413.0}, {\"Unnamed: 0\": 380, \"season\": 2012, \"lg\": \"NBA\", \"team\": \"Golden State Warriors\", \"abbreviation\": \"GSW\", \"playoffs\": false, \"age\": 25.3, \"w\": 23.0, \"l\": 43.0, \"pw\": 25.0, \"pl\": 41.0, \"mov\": -3.41, \"sos\": 0.62, \"srs\": -2.79, \"o_rtg\": 105.4, \"d_rtg\": 109.1, \"n_rtg\": -3.7, \"pace\": 92.3, \"f_tr\": 0.227, \"x3p_ar\": 0.248, \"ts_percent\": 0.539, \"e_fg_percent\": 0.505, \"tov_percent\": 13.3, \"orb_percent\": 22.9, \"ft_fga\": 0.175, \"opp_e_fg_percent\": 0.496, \"opp_tov_percent\": 13.6, \"opp_drb_percent\": 69.1, \"opp_ft_fga\": 0.237, \"arena\": \"Oracle Arena\", \"attend\": 622311.0, \"attend_g\": 18858.0}, {\"Unnamed: 0\": 381, \"season\": 2012, \"lg\": \"NBA\", \"team\": \"Houston Rockets\", \"abbreviation\": \"HOU\", \"playoffs\": false, \"age\": 26.2, \"w\": 34.0, \"l\": 32.0, \"pw\": 34.0, \"pl\": 32.0, \"mov\": 0.23, \"sos\": 0.35, \"srs\": 0.57, \"o_rtg\": 105.5, \"d_rtg\": 105.2, \"n_rtg\": 0.3, \"pace\": 91.7, \"f_tr\": 0.235, \"x3p_ar\": 0.24, \"ts_percent\": 0.529, \"e_fg_percent\": 0.492, \"tov_percent\": 13.5, \"orb_percent\": 27.5, \"ft_fga\": 0.184, \"opp_e_fg_percent\": 0.49, \"opp_tov_percent\": 13.8, \"opp_drb_percent\": 73.4, \"opp_ft_fga\": 0.21, \"arena\": \"Toyota Center\", \"attend\": 506994.0, \"attend_g\": 15363.0}, {\"Unnamed: 0\": 382, \"season\": 2012, \"lg\": \"NBA\", \"team\": \"Indiana Pacers\", \"abbreviation\": \"IND\", \"playoffs\": true, \"age\": 26.3, \"w\": 42.0, \"l\": 24.0, \"pw\": 41.0, \"pl\": 25.0, \"mov\": 3.3, \"sos\": -0.71, \"srs\": 2.6, \"o_rtg\": 106.7, \"d_rtg\": 103.1, \"n_rtg\": 3.6, \"pace\": 90.7, \"f_tr\": 0.321, \"x3p_ar\": 0.198, \"ts_percent\": 0.526, \"e_fg_percent\": 0.474, \"tov_percent\": 13.1, \"orb_percent\": 29.2, \"ft_fga\": 0.251, \"opp_e_fg_percent\": 0.476, \"opp_tov_percent\": 14.1, \"opp_drb_percent\": 72.3, \"opp_ft_fga\": 0.222, \"arena\": \"Bankers Life Fieldhouse\", \"attend\": 467561.0, \"attend_g\": 14169.0}, {\"Unnamed: 0\": 383, \"season\": 2012, \"lg\": \"NBA\", \"team\": \"Los Angeles Clippers\", \"abbreviation\": \"LAC\", \"playoffs\": true, \"age\": 27.3, \"w\": 40.0, \"l\": 26.0, \"pw\": 39.0, \"pl\": 27.0, \"mov\": 2.56, \"sos\": 0.26, \"srs\": 2.82, \"o_rtg\": 108.5, \"d_rtg\": 105.7, \"n_rtg\": 2.8, \"pace\": 89.2, \"f_tr\": 0.287, \"x3p_ar\": 0.269, \"ts_percent\": 0.533, \"e_fg_percent\": 0.502, \"tov_percent\": 12.7, \"orb_percent\": 29.5, \"ft_fga\": 0.195, \"opp_e_fg_percent\": 0.492, \"opp_tov_percent\": 14.2, \"opp_drb_percent\": 73.2, \"opp_ft_fga\": 0.245, \"arena\": \"STAPLES Center\", \"attend\": 634237.0, \"attend_g\": 19219.0}, {\"Unnamed: 0\": 384, \"season\": 2012, \"lg\": \"NBA\", \"team\": \"Los Angeles Lakers\", \"abbreviation\": \"LAL\", \"playoffs\": true, \"age\": 29.7, \"w\": 41.0, \"l\": 25.0, \"pw\": 36.0, \"pl\": 30.0, \"mov\": 1.42, \"sos\": 0.54, \"srs\": 1.96, \"o_rtg\": 106.0, \"d_rtg\": 104.4, \"n_rtg\": 1.6, \"pace\": 90.5, \"f_tr\": 0.299, \"x3p_ar\": 0.209, \"ts_percent\": 0.534, \"e_fg_percent\": 0.491, \"tov_percent\": 14.2, \"orb_percent\": 29.1, \"ft_fga\": 0.226, \"opp_e_fg_percent\": 0.476, \"opp_tov_percent\": 10.7, \"opp_drb_percent\": 74.8, \"opp_ft_fga\": 0.158, \"arena\": \"STAPLES Center\", \"attend\": 626901.0, \"attend_g\": 18997.0}, {\"Unnamed: 0\": 385, \"season\": 2012, \"lg\": \"NBA\", \"team\": \"Memphis Grizzlies\", \"abbreviation\": \"MEM\", \"playoffs\": true, \"age\": 25.6, \"w\": 41.0, \"l\": 25.0, \"pw\": 38.0, \"pl\": 28.0, \"mov\": 2.02, \"sos\": 0.42, \"srs\": 2.43, \"o_rtg\": 104.0, \"d_rtg\": 101.8, \"n_rtg\": 2.2, \"pace\": 90.8, \"f_tr\": 0.277, \"x3p_ar\": 0.157, \"ts_percent\": 0.515, \"e_fg_percent\": 0.473, \"tov_percent\": 13.6, \"orb_percent\": 29.8, \"ft_fga\": 0.211, \"opp_e_fg_percent\": 0.485, \"opp_tov_percent\": 16.3, \"opp_drb_percent\": 72.7, \"opp_ft_fga\": 0.227, \"arena\": \"FedEx Forum\", \"attend\": 518446.0, \"attend_g\": 15710.0}, {\"Unnamed: 0\": 386, \"season\": 2012, \"lg\": \"NBA\", \"team\": \"Miami Heat\", \"abbreviation\": \"MIA\", \"playoffs\": true, \"age\": 28.3, \"w\": 46.0, \"l\": 20.0, \"pw\": 47.0, \"pl\": 19.0, \"mov\": 5.98, \"sos\": -0.27, \"srs\": 5.72, \"o_rtg\": 106.6, \"d_rtg\": 100.2, \"n_rtg\": 6.4, \"pace\": 91.2, \"f_tr\": 0.307, \"x3p_ar\": 0.198, \"ts_percent\": 0.549, \"e_fg_percent\": 0.505, \"tov_percent\": 14.5, \"orb_percent\": 26.6, \"ft_fga\": 0.238, \"opp_e_fg_percent\": 0.479, \"opp_tov_percent\": 15.8, \"opp_drb_percent\": 73.9, \"opp_ft_fga\": 0.2, \"arena\": \"AmericanAirlines Arena\", \"attend\": 657855.0, \"attend_g\": 19935.0}, {\"Unnamed: 0\": 387, \"season\": 2012, \"lg\": \"NBA\", \"team\": \"Milwaukee Bucks\", \"abbreviation\": \"MIL\", \"playoffs\": false, \"age\": 26.2, \"w\": 31.0, \"l\": 35.0, \"pw\": 34.0, \"pl\": 32.0, \"mov\": 0.27, \"sos\": -0.5, \"srs\": -0.23, \"o_rtg\": 105.5, \"d_rtg\": 105.2, \"n_rtg\": 0.3, \"pace\": 93.7, \"f_tr\": 0.25, \"x3p_ar\": 0.224, \"ts_percent\": 0.521, \"e_fg_percent\": 0.481, \"tov_percent\": 12.9, \"orb_percent\": 27.7, \"ft_fga\": 0.194, \"opp_e_fg_percent\": 0.489, \"opp_tov_percent\": 14.6, \"opp_drb_percent\": 70.9, \"opp_ft_fga\": 0.217, \"arena\": \"Bradley Center\", \"attend\": 485717.0, \"attend_g\": 14719.0}, {\"Unnamed: 0\": 388, \"season\": 2012, \"lg\": \"NBA\", \"team\": \"Minnesota Timberwolves\", \"abbreviation\": \"MIN\", \"playoffs\": false, \"age\": 24.4, \"w\": 26.0, \"l\": 40.0, \"pw\": 28.0, \"pl\": 38.0, \"mov\": -2.2, \"sos\": 0.37, \"srs\": -1.83, \"o_rtg\": 104.3, \"d_rtg\": 106.6, \"n_rtg\": -2.3, \"pace\": 93.3, \"f_tr\": 0.306, \"x3p_ar\": 0.262, \"ts_percent\": 0.524, \"e_fg_percent\": 0.477, \"tov_percent\": 14.0, \"orb_percent\": 27.5, \"ft_fga\": 0.236, \"opp_e_fg_percent\": 0.491, \"opp_tov_percent\": 12.2, \"opp_drb_percent\": 73.0, \"opp_ft_fga\": 0.187, \"arena\": \"Target Center\", \"attend\": 577197.0, \"attend_g\": 17491.0}, {\"Unnamed: 0\": 389, \"season\": 2012, \"lg\": \"NBA\", \"team\": \"New Jersey Nets\", \"abbreviation\": \"NJN\", \"playoffs\": false, \"age\": 26.1, \"w\": 22.0, \"l\": 44.0, \"pw\": 19.0, \"pl\": 47.0, \"mov\": -5.98, \"sos\": -0.39, \"srs\": -6.37, \"o_rtg\": 102.9, \"d_rtg\": 109.6, \"n_rtg\": -6.7, \"pace\": 90.1, \"f_tr\": 0.269, \"x3p_ar\": 0.278, \"ts_percent\": 0.516, \"e_fg_percent\": 0.473, \"tov_percent\": 14.3, \"orb_percent\": 27.8, \"ft_fga\": 0.209, \"opp_e_fg_percent\": 0.513, \"opp_tov_percent\": 13.7, \"opp_drb_percent\": 70.7, \"opp_ft_fga\": 0.209, \"arena\": \"Prudential Center\", \"attend\": 460719.0, \"attend_g\": 13961.0}, {\"Unnamed: 0\": 390, \"season\": 2012, \"lg\": \"NBA\", \"team\": \"New Orleans Hornets\", \"abbreviation\": \"NOH\", \"playoffs\": false, \"age\": 25.5, \"w\": 21.0, \"l\": 45.0, \"pw\": 24.0, \"pl\": 42.0, \"mov\": -3.76, \"sos\": 0.65, \"srs\": -3.11, \"o_rtg\": 100.9, \"d_rtg\": 105.1, \"n_rtg\": -4.2, \"pace\": 88.3, \"f_tr\": 0.274, \"x3p_ar\": 0.152, \"ts_percent\": 0.517, \"e_fg_percent\": 0.476, \"tov_percent\": 15.2, \"orb_percent\": 27.5, \"ft_fga\": 0.207, \"opp_e_fg_percent\": 0.485, \"opp_tov_percent\": 13.5, \"opp_drb_percent\": 73.1, \"opp_ft_fga\": 0.218, \"arena\": \"New Orleans Arena\", \"attend\": 498618.0, \"attend_g\": 15110.0}, {\"Unnamed: 0\": 391, \"season\": 2012, \"lg\": \"NBA\", \"team\": \"New York Knicks\", \"abbreviation\": \"NYK\", \"playoffs\": true, \"age\": 26.3, \"w\": 36.0, \"l\": 30.0, \"pw\": 41.0, \"pl\": 25.0, \"mov\": 3.2, \"sos\": -0.81, \"srs\": 2.39, \"o_rtg\": 104.4, \"d_rtg\": 101.0, \"n_rtg\": 3.4, \"pace\": 93.2, \"f_tr\": 0.306, \"x3p_ar\": 0.288, \"ts_percent\": 0.533, \"e_fg_percent\": 0.492, \"tov_percent\": 14.9, \"orb_percent\": 26.6, \"ft_fga\": 0.227, \"opp_e_fg_percent\": 0.485, \"opp_tov_percent\": 15.9, \"opp_drb_percent\": 73.7, \"opp_ft_fga\": 0.224, \"arena\": \"Madison Square Garden (IV)\", \"attend\": 652179.0, \"attend_g\": 19763.0}, {\"Unnamed: 0\": 392, \"season\": 2012, \"lg\": \"NBA\", \"team\": \"Oklahoma City Thunder\", \"abbreviation\": \"OKC\", \"playoffs\": true, \"age\": 25.1, \"w\": 47.0, \"l\": 19.0, \"pw\": 46.0, \"pl\": 20.0, \"mov\": 6.12, \"sos\": 0.32, \"srs\": 6.44, \"o_rtg\": 109.8, \"d_rtg\": 103.2, \"n_rtg\": 6.6, \"pace\": 93.0, \"f_tr\": 0.334, \"x3p_ar\": 0.252, \"ts_percent\": 0.567, \"e_fg_percent\": 0.516, \"tov_percent\": 15.3, \"orb_percent\": 27.8, \"ft_fga\": 0.269, \"opp_e_fg_percent\": 0.465, \"opp_tov_percent\": 13.0, \"opp_drb_percent\": 72.1, \"opp_ft_fga\": 0.207, \"arena\": \"Chesapeake Energy Arena\", \"attend\": 600699.0, \"attend_g\": 18203.0}, {\"Unnamed: 0\": 393, \"season\": 2012, \"lg\": \"NBA\", \"team\": \"Orlando Magic\", \"abbreviation\": \"ORL\", \"playoffs\": true, \"age\": 27.5, \"w\": 37.0, \"l\": 29.0, \"pw\": 35.0, \"pl\": 31.0, \"mov\": 0.79, \"sos\": -0.33, \"srs\": 0.46, \"o_rtg\": 105.0, \"d_rtg\": 104.1, \"n_rtg\": 0.9, \"pace\": 89.0, \"f_tr\": 0.292, \"x3p_ar\": 0.346, \"ts_percent\": 0.533, \"e_fg_percent\": 0.506, \"tov_percent\": 14.5, \"orb_percent\": 26.5, \"ft_fga\": 0.193, \"opp_e_fg_percent\": 0.488, \"opp_tov_percent\": 12.9, \"opp_drb_percent\": 75.5, \"opp_ft_fga\": 0.19, \"arena\": \"Amway Center\", \"attend\": 623587.0, \"attend_g\": 18897.0}, {\"Unnamed: 0\": 394, \"season\": 2012, \"lg\": \"NBA\", \"team\": \"Philadelphia 76ers\", \"abbreviation\": \"PHI\", \"playoffs\": true, \"age\": 24.9, \"w\": 35.0, \"l\": 31.0, \"pw\": 43.0, \"pl\": 23.0, \"mov\": 4.24, \"sos\": -0.65, \"srs\": 3.59, \"o_rtg\": 103.9, \"d_rtg\": 99.2, \"n_rtg\": 4.7, \"pace\": 89.7, \"f_tr\": 0.217, \"x3p_ar\": 0.175, \"ts_percent\": 0.511, \"e_fg_percent\": 0.48, \"tov_percent\": 10.9, \"orb_percent\": 24.4, \"ft_fga\": 0.161, \"opp_e_fg_percent\": 0.46, \"opp_tov_percent\": 13.5, \"opp_drb_percent\": 75.2, \"opp_ft_fga\": 0.192, \"arena\": \"Wells Fargo Center\", \"attend\": 577597.0, \"attend_g\": 17503.0}, {\"Unnamed: 0\": 395, \"season\": 2012, \"lg\": \"NBA\", \"team\": \"Phoenix Suns\", \"abbreviation\": \"PHO\", \"playoffs\": false, \"age\": 28.9, \"w\": 33.0, \"l\": 33.0, \"pw\": 32.0, \"pl\": 34.0, \"mov\": -0.24, \"sos\": 0.53, \"srs\": 0.29, \"o_rtg\": 106.2, \"d_rtg\": 106.5, \"n_rtg\": -0.3, \"pace\": 92.6, \"f_tr\": 0.257, \"x3p_ar\": 0.238, \"ts_percent\": 0.536, \"e_fg_percent\": 0.499, \"tov_percent\": 13.3, \"orb_percent\": 25.8, \"ft_fga\": 0.194, \"opp_e_fg_percent\": 0.491, \"opp_tov_percent\": 13.1, \"opp_drb_percent\": 71.7, \"opp_ft_fga\": 0.2, \"arena\": \"US Airways Center\", \"attend\": 514718.0, \"attend_g\": 15598.0}, {\"Unnamed: 0\": 396, \"season\": 2012, \"lg\": \"NBA\", \"team\": \"Portland Trail Blazers\", \"abbreviation\": \"POR\", \"playoffs\": false, \"age\": 27.5, \"w\": 28.0, \"l\": 38.0, \"pw\": 32.0, \"pl\": 34.0, \"mov\": -0.62, \"sos\": 0.41, \"srs\": -0.22, \"o_rtg\": 105.7, \"d_rtg\": 106.4, \"n_rtg\": -0.7, \"pace\": 91.2, \"f_tr\": 0.263, \"x3p_ar\": 0.255, \"ts_percent\": 0.531, \"e_fg_percent\": 0.488, \"tov_percent\": 13.4, \"orb_percent\": 26.3, \"ft_fga\": 0.209, \"opp_e_fg_percent\": 0.504, \"opp_tov_percent\": 14.1, \"opp_drb_percent\": 72.8, \"opp_ft_fga\": 0.199, \"arena\": \"Rose Garden Arena\", \"attend\": 676384.0, \"attend_g\": 20496.0}, {\"Unnamed: 0\": 397, \"season\": 2012, \"lg\": \"NBA\", \"team\": \"Sacramento Kings\", \"abbreviation\": \"SAC\", \"playoffs\": false, \"age\": 24.3, \"w\": 22.0, \"l\": 44.0, \"pw\": 21.0, \"pl\": 45.0, \"mov\": -5.68, \"sos\": 0.73, \"srs\": -4.95, \"o_rtg\": 103.8, \"d_rtg\": 109.8, \"n_rtg\": -6.0, \"pace\": 94.7, \"f_tr\": 0.268, \"x3p_ar\": 0.228, \"ts_percent\": 0.51, \"e_fg_percent\": 0.472, \"tov_percent\": 13.0, \"orb_percent\": 29.1, \"ft_fga\": 0.197, \"opp_e_fg_percent\": 0.515, \"opp_tov_percent\": 13.9, \"opp_drb_percent\": 70.5, \"opp_ft_fga\": 0.199, \"arena\": \"Power Balance Pavilion\", \"attend\": 478764.0, \"attend_g\": 14508.0}, {\"Unnamed: 0\": 398, \"season\": 2012, \"lg\": \"NBA\", \"team\": \"San Antonio Spurs\", \"abbreviation\": \"SAS\", \"playoffs\": true, \"age\": 27.5, \"w\": 50.0, \"l\": 16.0, \"pw\": 48.0, \"pl\": 18.0, \"mov\": 7.17, \"sos\": 0.11, \"srs\": 7.28, \"o_rtg\": 110.9, \"d_rtg\": 103.2, \"n_rtg\": 7.7, \"pace\": 92.9, \"f_tr\": 0.261, \"x3p_ar\": 0.257, \"ts_percent\": 0.562, \"e_fg_percent\": 0.528, \"tov_percent\": 12.8, \"orb_percent\": 25.1, \"ft_fga\": 0.195, \"opp_e_fg_percent\": 0.489, \"opp_tov_percent\": 12.9, \"opp_drb_percent\": 76.0, \"opp_ft_fga\": 0.168, \"arena\": \"AT&T Center\", \"attend\": 607095.0, \"attend_g\": 18397.0}, {\"Unnamed: 0\": 399, \"season\": 2012, \"lg\": \"NBA\", \"team\": \"Toronto Raptors\", \"abbreviation\": \"TOR\", \"playoffs\": false, \"age\": 25.7, \"w\": 23.0, \"l\": 43.0, \"pw\": 25.0, \"pl\": 41.0, \"mov\": -3.3, \"sos\": -0.36, \"srs\": -3.67, \"o_rtg\": 100.8, \"d_rtg\": 104.5, \"n_rtg\": -3.7, \"pace\": 89.3, \"f_tr\": 0.274, \"x3p_ar\": 0.209, \"ts_percent\": 0.518, \"e_fg_percent\": 0.475, \"tov_percent\": 14.8, \"orb_percent\": 25.9, \"ft_fga\": 0.211, \"opp_e_fg_percent\": 0.475, \"opp_tov_percent\": 12.8, \"opp_drb_percent\": 75.4, \"opp_ft_fga\": 0.26, \"arena\": \"Air Canada Centre\", \"attend\": 555584.0, \"attend_g\": 16836.0}, {\"Unnamed: 0\": 400, \"season\": 2012, \"lg\": \"NBA\", \"team\": \"Utah Jazz\", \"abbreviation\": \"UTA\", \"playoffs\": true, \"age\": 25.6, \"w\": 36.0, \"l\": 30.0, \"pw\": 34.0, \"pl\": 32.0, \"mov\": 0.62, \"sos\": 0.3, \"srs\": 0.92, \"o_rtg\": 106.8, \"d_rtg\": 106.1, \"n_rtg\": 0.7, \"pace\": 91.4, \"f_tr\": 0.302, \"x3p_ar\": 0.153, \"ts_percent\": 0.525, \"e_fg_percent\": 0.481, \"tov_percent\": 13.0, \"orb_percent\": 30.2, \"ft_fga\": 0.227, \"opp_e_fg_percent\": 0.493, \"opp_tov_percent\": 13.8, \"opp_drb_percent\": 73.8, \"opp_ft_fga\": 0.245, \"arena\": \"EnergySolutions Arena\", \"attend\": 637124.0, \"attend_g\": 19307.0}, {\"Unnamed: 0\": 401, \"season\": 2012, \"lg\": \"NBA\", \"team\": \"Washington Wizards\", \"abbreviation\": \"WAS\", \"playoffs\": false, \"age\": 24.2, \"w\": 20.0, \"l\": 46.0, \"pw\": 22.0, \"pl\": 44.0, \"mov\": -4.8, \"sos\": -0.34, \"srs\": -5.14, \"o_rtg\": 101.0, \"d_rtg\": 106.2, \"n_rtg\": -5.2, \"pace\": 92.5, \"f_tr\": 0.253, \"x3p_ar\": 0.196, \"ts_percent\": 0.508, \"e_fg_percent\": 0.472, \"tov_percent\": 14.2, \"orb_percent\": 27.3, \"ft_fga\": 0.184, \"opp_e_fg_percent\": 0.492, \"opp_tov_percent\": 14.2, \"opp_drb_percent\": 70.9, \"opp_ft_fga\": 0.229, \"arena\": \"Verizon Center\", \"attend\": 552038.0, \"attend_g\": 16728.0}, {\"Unnamed: 0\": 402, \"season\": 2012, \"lg\": \"NBA\", \"team\": \"League Average\", \"abbreviation\": null, \"playoffs\": false, \"age\": 26.7, \"w\": null, \"l\": null, \"pw\": 33.0, \"pl\": 33.0, \"mov\": 0.0, \"sos\": 0.0, \"srs\": 0.0, \"o_rtg\": 104.6, \"d_rtg\": 104.6, \"n_rtg\": null, \"pace\": 91.3, \"f_tr\": 0.276, \"x3p_ar\": 0.226, \"ts_percent\": 0.527, \"e_fg_percent\": 0.487, \"tov_percent\": 13.8, \"orb_percent\": 27.0, \"ft_fga\": 0.208, \"opp_e_fg_percent\": 0.487, \"opp_tov_percent\": 13.8, \"opp_drb_percent\": 73.0, \"opp_ft_fga\": 0.208, \"arena\": null, \"attend\": 570035.0, \"attend_g\": 17274.0}]}}, {\"mode\": \"vega-lite\"});\n",
       "</script>"
      ],
      "text/plain": [
       "alt.Chart(...)"
      ]
     },
     "metadata": {},
     "output_type": "display_data"
    }
   ],
   "source": [
    "slider = alt.binding_range(min = int(teamsum_df['season'].min()), max = int(teamsum_df['season'].max()), step = 1)\n",
    "select_season = alt.selection(\n",
    "    type = 'single',  \n",
    "    fields = ['season'],\n",
    "    bind = slider,\n",
    "    name = \"Select\"\n",
    ")\n",
    "\n",
    "attendance_chart = alt.Chart(teamsum_df).mark_circle(size = 80).encode(\n",
    "    x = alt.X('attend_g:Q', title = 'Average Fan Attendace at Home Stadium', scale = alt.Scale(domain = [10000, 24000])), \n",
    "    y = alt.Y('e_fg_percent:Q', title = 'Effective FG Percent', scale = alt.Scale(domain = [0.43, 0.575])),\n",
    "    tooltip = ['team', 'arena'], \n",
    "    color = alt.Color('season:O', scale = alt.Scale(scheme = 'viridis'), legend = alt.Legend(title = 'Season'))\n",
    ").properties(\n",
    "    width = 800,  \n",
    "    height = 400,  \n",
    "    title = 'Relationship Between Fan Attendance and Effective Feild Goal Percentage'\n",
    ").add_selection(\n",
    "    select_season\n",
    ").transform_filter(\n",
    "    select_season\n",
    ")\n",
    "\n",
    "attendance_chart.display()\n"
   ]
  },
  {
   "cell_type": "code",
   "execution_count": 10,
   "metadata": {},
   "outputs": [
    {
     "data": {
      "text/html": [
       "\n",
       "<style>\n",
       "  #altair-viz-daf9f07a527648fd99bbb8ea36bd7857.vega-embed {\n",
       "    width: 100%;\n",
       "    display: flex;\n",
       "  }\n",
       "\n",
       "  #altair-viz-daf9f07a527648fd99bbb8ea36bd7857.vega-embed details,\n",
       "  #altair-viz-daf9f07a527648fd99bbb8ea36bd7857.vega-embed details summary {\n",
       "    position: relative;\n",
       "  }\n",
       "</style>\n",
       "<div id=\"altair-viz-daf9f07a527648fd99bbb8ea36bd7857\"></div>\n",
       "<script type=\"text/javascript\">\n",
       "  var VEGA_DEBUG = (typeof VEGA_DEBUG == \"undefined\") ? {} : VEGA_DEBUG;\n",
       "  (function(spec, embedOpt){\n",
       "    let outputDiv = document.currentScript.previousElementSibling;\n",
       "    if (outputDiv.id !== \"altair-viz-daf9f07a527648fd99bbb8ea36bd7857\") {\n",
       "      outputDiv = document.getElementById(\"altair-viz-daf9f07a527648fd99bbb8ea36bd7857\");\n",
       "    }\n",
       "    const paths = {\n",
       "      \"vega\": \"https://cdn.jsdelivr.net/npm/vega@5?noext\",\n",
       "      \"vega-lib\": \"https://cdn.jsdelivr.net/npm/vega-lib?noext\",\n",
       "      \"vega-lite\": \"https://cdn.jsdelivr.net/npm/vega-lite@5.17.0?noext\",\n",
       "      \"vega-embed\": \"https://cdn.jsdelivr.net/npm/vega-embed@6?noext\",\n",
       "    };\n",
       "\n",
       "    function maybeLoadScript(lib, version) {\n",
       "      var key = `${lib.replace(\"-\", \"\")}_version`;\n",
       "      return (VEGA_DEBUG[key] == version) ?\n",
       "        Promise.resolve(paths[lib]) :\n",
       "        new Promise(function(resolve, reject) {\n",
       "          var s = document.createElement('script');\n",
       "          document.getElementsByTagName(\"head\")[0].appendChild(s);\n",
       "          s.async = true;\n",
       "          s.onload = () => {\n",
       "            VEGA_DEBUG[key] = version;\n",
       "            return resolve(paths[lib]);\n",
       "          };\n",
       "          s.onerror = () => reject(`Error loading script: ${paths[lib]}`);\n",
       "          s.src = paths[lib];\n",
       "        });\n",
       "    }\n",
       "\n",
       "    function showError(err) {\n",
       "      outputDiv.innerHTML = `<div class=\"error\" style=\"color:red;\">${err}</div>`;\n",
       "      throw err;\n",
       "    }\n",
       "\n",
       "    function displayChart(vegaEmbed) {\n",
       "      vegaEmbed(outputDiv, spec, embedOpt)\n",
       "        .catch(err => showError(`Javascript Error: ${err.message}<br>This usually means there's a typo in your chart specification. See the javascript console for the full traceback.`));\n",
       "    }\n",
       "\n",
       "    if(typeof define === \"function\" && define.amd) {\n",
       "      requirejs.config({paths});\n",
       "      require([\"vega-embed\"], displayChart, err => showError(`Error loading script: ${err.message}`));\n",
       "    } else {\n",
       "      maybeLoadScript(\"vega\", \"5\")\n",
       "        .then(() => maybeLoadScript(\"vega-lite\", \"5.17.0\"))\n",
       "        .then(() => maybeLoadScript(\"vega-embed\", \"6\"))\n",
       "        .catch(showError)\n",
       "        .then(() => displayChart(vegaEmbed));\n",
       "    }\n",
       "  })({\"config\": {\"view\": {\"continuousWidth\": 300, \"continuousHeight\": 300}}, \"data\": {\"name\": \"data-a12de56a5b31be6d8d556c98042f567e\"}, \"mark\": {\"type\": \"circle\", \"size\": 80}, \"encoding\": {\"color\": {\"field\": \"season\", \"legend\": {\"title\": \"Season\"}, \"scale\": {\"scheme\": \"viridis\"}, \"type\": \"ordinal\"}, \"tooltip\": [{\"field\": \"team\", \"type\": \"nominal\"}], \"x\": {\"field\": \"avg_player_height\", \"scale\": {\"domain\": [195, 207]}, \"title\": \"Average Height (cm)\", \"type\": \"quantitative\"}, \"y\": {\"field\": \"w\", \"scale\": {\"domain\": [6, 80]}, \"title\": \"Number of Wins\", \"type\": \"quantitative\"}}, \"height\": 400, \"params\": [{\"name\": \"Select\", \"select\": {\"type\": \"point\", \"fields\": [\"season\"]}, \"bind\": {\"input\": \"range\", \"max\": 2022, \"min\": 2012, \"step\": 1}}], \"title\": \"Relationship Between Team Average Height and Wins\", \"transform\": [{\"filter\": {\"param\": \"Select\"}}], \"width\": 800, \"$schema\": \"https://vega.github.io/schema/vega-lite/v5.17.0.json\", \"datasets\": {\"data-a12de56a5b31be6d8d556c98042f567e\": [{\"Unnamed: 0\": 0, \"abbreviation\": \"ATL\", \"season\": 2012, \"avg_player_height\": 199.86625, \"lg\": \"NBA\", \"team\": \"Atlanta Hawks\", \"playoffs\": true, \"age\": 27.9, \"w\": 40.0, \"l\": 26.0, \"pw\": 41.0, \"pl\": 25.0, \"mov\": 3.44, \"sos\": -0.77, \"srs\": 2.67, \"o_rtg\": 104.9, \"d_rtg\": 101.2, \"n_rtg\": 3.7, \"pace\": 90.2, \"f_tr\": 0.259, \"x3p_ar\": 0.249, \"ts_percent\": 0.535, \"e_fg_percent\": 0.5, \"tov_percent\": 13.4, \"orb_percent\": 23.9, \"ft_fga\": 0.192, \"opp_e_fg_percent\": 0.48, \"opp_tov_percent\": 14.4, \"opp_drb_percent\": 74.4, \"opp_ft_fga\": 0.186, \"arena\": \"Philips Arena\", \"attend\": 501593.0, \"attend_g\": 15200.0}, {\"Unnamed: 0\": 1, \"abbreviation\": \"ATL\", \"season\": 2013, \"avg_player_height\": 200.50125, \"lg\": \"NBA\", \"team\": \"Atlanta Hawks\", \"playoffs\": true, \"age\": 27.1, \"w\": 44.0, \"l\": 38.0, \"pw\": 42.0, \"pl\": 40.0, \"mov\": 0.4, \"sos\": -0.48, \"srs\": -0.08, \"o_rtg\": 104.8, \"d_rtg\": 104.4, \"n_rtg\": 0.4, \"pace\": 92.6, \"f_tr\": 0.244, \"x3p_ar\": 0.286, \"ts_percent\": 0.546, \"e_fg_percent\": 0.517, \"tov_percent\": 14.2, \"orb_percent\": 22.2, \"ft_fga\": 0.174, \"opp_e_fg_percent\": 0.496, \"opp_tov_percent\": 14.2, \"opp_drb_percent\": 73.6, \"opp_ft_fga\": 0.181, \"arena\": \"Philips Arena\", \"attend\": 620146.0, \"attend_g\": 15126.0}, {\"Unnamed: 0\": 2, \"abbreviation\": \"ATL\", \"season\": 2014, \"avg_player_height\": 200.66, \"lg\": \"NBA\", \"team\": \"Atlanta Hawks\", \"playoffs\": true, \"age\": 27.5, \"w\": 38.0, \"l\": 44.0, \"pw\": 40.0, \"pl\": 42.0, \"mov\": -0.48, \"sos\": -0.4, \"srs\": -0.88, \"o_rtg\": 105.9, \"d_rtg\": 106.4, \"n_rtg\": -0.5, \"pace\": 94.6, \"f_tr\": 0.266, \"x3p_ar\": 0.316, \"ts_percent\": 0.554, \"e_fg_percent\": 0.515, \"tov_percent\": 14.3, \"orb_percent\": 21.0, \"ft_fga\": 0.208, \"opp_e_fg_percent\": 0.51, \"opp_tov_percent\": 14.0, \"opp_drb_percent\": 74.4, \"opp_ft_fga\": 0.196, \"arena\": \"Philips Arena\", \"attend\": 587927.0, \"attend_g\": 14231.0}, {\"Unnamed: 0\": 3, \"abbreviation\": \"ATL\", \"season\": 2015, \"avg_player_height\": 201.33733333333333, \"lg\": \"NBA\", \"team\": \"Atlanta Hawks\", \"playoffs\": true, \"age\": 27.8, \"w\": 60.0, \"l\": 22.0, \"pw\": 56.0, \"pl\": 26.0, \"mov\": 5.43, \"sos\": -0.68, \"srs\": 4.75, \"o_rtg\": 108.9, \"d_rtg\": 103.1, \"n_rtg\": 5.8, \"pace\": 93.9, \"f_tr\": 0.259, \"x3p_ar\": 0.321, \"ts_percent\": 0.563, \"e_fg_percent\": 0.527, \"tov_percent\": 13.5, \"orb_percent\": 21.4, \"ft_fga\": 0.201, \"opp_e_fg_percent\": 0.492, \"opp_tov_percent\": 14.9, \"opp_drb_percent\": 73.4, \"opp_ft_fga\": 0.185, \"arena\": \"Philips Arena\", \"attend\": 713909.0, \"attend_g\": 17412.0}, {\"Unnamed: 0\": 4, \"abbreviation\": \"ATL\", \"season\": 2016, \"avg_player_height\": 200.5188888888889, \"lg\": \"NBA\", \"team\": \"Atlanta Hawks\", \"playoffs\": true, \"age\": 28.2, \"w\": 48.0, \"l\": 34.0, \"pw\": 51.0, \"pl\": 31.0, \"mov\": 3.61, \"sos\": -0.12, \"srs\": 3.49, \"o_rtg\": 105.1, \"d_rtg\": 101.4, \"n_rtg\": 3.7, \"pace\": 97.1, \"f_tr\": 0.237, \"x3p_ar\": 0.336, \"ts_percent\": 0.552, \"e_fg_percent\": 0.516, \"tov_percent\": 13.8, \"orb_percent\": 19.1, \"ft_fga\": 0.185, \"opp_e_fg_percent\": 0.48, \"opp_tov_percent\": 14.4, \"opp_drb_percent\": 74.6, \"opp_ft_fga\": 0.194, \"arena\": \"Philips Arena\", \"attend\": 690150.0, \"attend_g\": 16833.0}, {\"Unnamed: 0\": 5, \"abbreviation\": \"ATL\", \"season\": 2017, \"avg_player_height\": 199.7242105263158, \"lg\": \"NBA\", \"team\": \"Atlanta Hawks\", \"playoffs\": true, \"age\": 27.9, \"w\": 43.0, \"l\": 39.0, \"pw\": 39.0, \"pl\": 43.0, \"mov\": -0.85, \"sos\": -0.38, \"srs\": -1.23, \"o_rtg\": 104.9, \"d_rtg\": 105.7, \"n_rtg\": -0.8, \"pace\": 97.4, \"f_tr\": 0.295, \"x3p_ar\": 0.309, \"ts_percent\": 0.541, \"e_fg_percent\": 0.504, \"tov_percent\": 14.2, \"orb_percent\": 23.6, \"ft_fga\": 0.215, \"opp_e_fg_percent\": 0.507, \"opp_tov_percent\": 13.8, \"opp_drb_percent\": 76.1, \"opp_ft_fga\": 0.179, \"arena\": \"Philips Arena\", \"attend\": 654306.0, \"attend_g\": 15959.0}, {\"Unnamed: 0\": 6, \"abbreviation\": \"ATL\", \"season\": 2018, \"avg_player_height\": 202.63555555555556, \"lg\": \"NBA\", \"team\": \"Atlanta Hawks\", \"playoffs\": false, \"age\": 25.4, \"w\": 24.0, \"l\": 58.0, \"pw\": 27.0, \"pl\": 55.0, \"mov\": -5.45, \"sos\": 0.15, \"srs\": -5.3, \"o_rtg\": 105.0, \"d_rtg\": 110.6, \"n_rtg\": -5.6, \"pace\": 98.3, \"f_tr\": 0.236, \"x3p_ar\": 0.363, \"ts_percent\": 0.547, \"e_fg_percent\": 0.512, \"tov_percent\": 14.1, \"orb_percent\": 21.1, \"ft_fga\": 0.185, \"opp_e_fg_percent\": 0.536, \"opp_tov_percent\": 13.6, \"opp_drb_percent\": 76.2, \"opp_ft_fga\": 0.183, \"arena\": \"Philips Arena\", \"attend\": 590769.0, \"attend_g\": 14409.0}, {\"Unnamed: 0\": 7, \"abbreviation\": \"ATL\", \"season\": 2019, \"avg_player_height\": 200.23666666666668, \"lg\": \"NBA\", \"team\": \"Atlanta Hawks\", \"playoffs\": false, \"age\": 25.1, \"w\": 29.0, \"l\": 53.0, \"pw\": 27.0, \"pl\": 55.0, \"mov\": -6.02, \"sos\": -0.04, \"srs\": -6.06, \"o_rtg\": 108.1, \"d_rtg\": 113.9, \"n_rtg\": -5.8, \"pace\": 103.9, \"f_tr\": 0.255, \"x3p_ar\": 0.403, \"ts_percent\": 0.555, \"e_fg_percent\": 0.522, \"tov_percent\": 14.3, \"orb_percent\": 24.7, \"ft_fga\": 0.192, \"opp_e_fg_percent\": 0.541, \"opp_tov_percent\": 12.8, \"opp_drb_percent\": 76.4, \"opp_ft_fga\": 0.237, \"arena\": \"State Farm Arena\", \"attend\": 628440.0, \"attend_g\": 15328.0}, {\"Unnamed: 0\": 8, \"abbreviation\": \"ATL\", \"season\": 2020, \"avg_player_height\": 198.71764705882353, \"lg\": \"NBA\", \"team\": \"Atlanta Hawks\", \"playoffs\": false, \"age\": 24.1, \"w\": 20.0, \"l\": 47.0, \"pw\": 18.0, \"pl\": 49.0, \"mov\": -7.97, \"sos\": 0.27, \"srs\": -7.71, \"o_rtg\": 107.2, \"d_rtg\": 114.8, \"n_rtg\": -7.6, \"pace\": 103.0, \"f_tr\": 0.258, \"x3p_ar\": 0.398, \"ts_percent\": 0.554, \"e_fg_percent\": 0.515, \"tov_percent\": 13.8, \"orb_percent\": 21.6, \"ft_fga\": 0.204, \"opp_e_fg_percent\": 0.543, \"opp_tov_percent\": 12.7, \"opp_drb_percent\": 74.9, \"opp_ft_fga\": 0.233, \"arena\": \"State Farm Arena\", \"attend\": 545453.0, \"attend_g\": 16043.0}, {\"Unnamed: 0\": 9, \"abbreviation\": \"ATL\", \"season\": 2021, \"avg_player_height\": 198.48285714285717, \"lg\": \"NBA\", \"team\": \"Atlanta Hawks\", \"playoffs\": true, \"age\": 25.4, \"w\": 41.0, \"l\": 31.0, \"pw\": 41.0, \"pl\": 31.0, \"mov\": 2.32, \"sos\": -0.18, \"srs\": 2.14, \"o_rtg\": 115.7, \"d_rtg\": 113.3, \"n_rtg\": 2.4, \"pace\": 97.6, \"f_tr\": 0.278, \"x3p_ar\": 0.382, \"ts_percent\": 0.581, \"e_fg_percent\": 0.539, \"tov_percent\": 11.9, \"orb_percent\": 24.4, \"ft_fga\": 0.226, \"opp_e_fg_percent\": 0.53, \"opp_tov_percent\": 11.1, \"opp_drb_percent\": 77.8, \"opp_ft_fga\": 0.19, \"arena\": \"State Farm Arena\", \"attend\": 59288.0, \"attend_g\": 1647.0}, {\"Unnamed: 0\": 10, \"abbreviation\": \"ATL\", \"season\": 2022, \"avg_player_height\": 198.96666666666667, \"lg\": \"NBA\", \"team\": \"Atlanta Hawks\", \"playoffs\": true, \"age\": 26.1, \"w\": 43.0, \"l\": 39.0, \"pw\": 45.0, \"pl\": 37.0, \"mov\": 1.56, \"sos\": -0.01, \"srs\": 1.55, \"o_rtg\": 116.5, \"d_rtg\": 114.9, \"n_rtg\": 1.6, \"pace\": 97.7, \"f_tr\": 0.253, \"x3p_ar\": 0.39, \"ts_percent\": 0.581, \"e_fg_percent\": 0.543, \"tov_percent\": 10.8, \"orb_percent\": 23.0, \"ft_fga\": 0.205, \"opp_e_fg_percent\": 0.543, \"opp_tov_percent\": 11.5, \"opp_drb_percent\": 76.9, \"opp_ft_fga\": 0.177, \"arena\": \"State Farm Arena\", \"attend\": 672742.0, \"attend_g\": 16408.0}, {\"Unnamed: 0\": 11, \"abbreviation\": \"BKN\", \"season\": 2013, \"avg_player_height\": 200.66000000000005, \"lg\": \"NBA\", \"team\": \"Brooklyn Nets\", \"playoffs\": true, \"age\": 28.6, \"w\": 49.0, \"l\": 33.0, \"pw\": 46.0, \"pl\": 36.0, \"mov\": 1.78, \"sos\": -0.53, \"srs\": 1.25, \"o_rtg\": 108.2, \"d_rtg\": 106.2, \"n_rtg\": 2.0, \"pace\": 88.8, \"f_tr\": 0.299, \"x3p_ar\": 0.269, \"ts_percent\": 0.536, \"e_fg_percent\": 0.498, \"tov_percent\": 14.0, \"orb_percent\": 30.9, \"ft_fga\": 0.219, \"opp_e_fg_percent\": 0.503, \"opp_tov_percent\": 13.1, \"opp_drb_percent\": 73.7, \"opp_ft_fga\": 0.174, \"arena\": \"Barclays Center\", \"attend\": 704702.0, \"attend_g\": 17188.0}, {\"Unnamed: 0\": 12, \"abbreviation\": \"BKN\", \"season\": 2014, \"avg_player_height\": 202.08875, \"lg\": \"NBA\", \"team\": \"Brooklyn Nets\", \"playoffs\": true, \"age\": 30.0, \"w\": 44.0, \"l\": 38.0, \"pw\": 38.0, \"pl\": 44.0, \"mov\": -1.0, \"sos\": -0.58, \"srs\": -1.58, \"o_rtg\": 106.7, \"d_rtg\": 107.7, \"n_rtg\": -1.0, \"pace\": 91.4, \"f_tr\": 0.313, \"x3p_ar\": 0.301, \"ts_percent\": 0.555, \"e_fg_percent\": 0.514, \"tov_percent\": 14.1, \"orb_percent\": 21.7, \"ft_fga\": 0.236, \"opp_e_fg_percent\": 0.509, \"opp_tov_percent\": 14.9, \"opp_drb_percent\": 72.3, \"opp_ft_fga\": 0.236, \"arena\": \"Barclays Center\", \"attend\": 707331.0, \"attend_g\": 17252.0}, {\"Unnamed: 0\": 13, \"abbreviation\": \"BKN\", \"season\": 2015, \"avg_player_height\": 200.95882352941177, \"lg\": \"NBA\", \"team\": \"Brooklyn Nets\", \"playoffs\": true, \"age\": 28.6, \"w\": 38.0, \"l\": 44.0, \"pw\": 33.0, \"pl\": 49.0, \"mov\": -2.88, \"sos\": -0.25, \"srs\": -3.13, \"o_rtg\": 104.4, \"d_rtg\": 107.4, \"n_rtg\": -3.0, \"pace\": 92.7, \"f_tr\": 0.267, \"x3p_ar\": 0.24, \"ts_percent\": 0.529, \"e_fg_percent\": 0.491, \"tov_percent\": 13.0, \"orb_percent\": 23.9, \"ft_fga\": 0.2, \"opp_e_fg_percent\": 0.506, \"opp_tov_percent\": 12.9, \"opp_drb_percent\": 73.7, \"opp_ft_fga\": 0.185, \"arena\": \"Barclays Center\", \"attend\": 698529.0, \"attend_g\": 17037.0}, {\"Unnamed: 0\": 14, \"abbreviation\": \"BKN\", \"season\": 2016, \"avg_player_height\": 200.23666666666668, \"lg\": \"NBA\", \"team\": \"Brooklyn Nets\", \"playoffs\": false, \"age\": 26.9, \"w\": 21.0, \"l\": 61.0, \"pw\": 22.0, \"pl\": 60.0, \"mov\": -7.35, \"sos\": 0.24, \"srs\": -7.12, \"o_rtg\": 103.2, \"d_rtg\": 110.9, \"n_rtg\": -7.7, \"pace\": 95.2, \"f_tr\": 0.246, \"x3p_ar\": 0.218, \"ts_percent\": 0.527, \"e_fg_percent\": 0.492, \"tov_percent\": 13.6, \"orb_percent\": 24.1, \"ft_fga\": 0.186, \"opp_e_fg_percent\": 0.534, \"opp_tov_percent\": 13.1, \"opp_drb_percent\": 75.7, \"opp_ft_fga\": 0.176, \"arena\": \"Barclays Center\", \"attend\": 620142.0, \"attend_g\": 15125.0}, {\"Unnamed: 0\": 15, \"abbreviation\": \"BKN\", \"season\": 2017, \"avg_player_height\": 201.08333333333337, \"lg\": \"NBA\", \"team\": \"Brooklyn Nets\", \"playoffs\": false, \"age\": 26.0, \"w\": 20.0, \"l\": 62.0, \"pw\": 24.0, \"pl\": 58.0, \"mov\": -6.73, \"sos\": -0.01, \"srs\": -6.74, \"o_rtg\": 104.1, \"d_rtg\": 110.7, \"n_rtg\": -6.6, \"pace\": 101.3, \"f_tr\": 0.289, \"x3p_ar\": 0.371, \"ts_percent\": 0.551, \"e_fg_percent\": 0.507, \"tov_percent\": 14.7, \"orb_percent\": 19.6, \"ft_fga\": 0.228, \"opp_e_fg_percent\": 0.513, \"opp_tov_percent\": 11.6, \"opp_drb_percent\": 76.1, \"opp_ft_fga\": 0.212, \"arena\": \"Barclays Center\", \"attend\": 632608.0, \"attend_g\": 15429.0}, {\"Unnamed: 0\": 16, \"abbreviation\": \"BKN\", \"season\": 2018, \"avg_player_height\": 200.21176470588236, \"lg\": \"NBA\", \"team\": \"Brooklyn Nets\", \"playoffs\": false, \"age\": 25.1, \"w\": 28.0, \"l\": 54.0, \"pw\": 31.0, \"pl\": 51.0, \"mov\": -3.74, \"sos\": 0.07, \"srs\": -3.67, \"o_rtg\": 106.9, \"d_rtg\": 110.6, \"n_rtg\": -3.7, \"pace\": 98.9, \"f_tr\": 0.26, \"x3p_ar\": 0.411, \"ts_percent\": 0.551, \"e_fg_percent\": 0.514, \"tov_percent\": 13.6, \"orb_percent\": 21.0, \"ft_fga\": 0.201, \"opp_e_fg_percent\": 0.517, \"opp_tov_percent\": 11.0, \"opp_drb_percent\": 77.0, \"opp_ft_fga\": 0.201, \"arena\": \"Barclays Center\", \"attend\": 640010.0, \"attend_g\": 15376.0}, {\"Unnamed: 0\": 17, \"abbreviation\": \"BKN\", \"season\": 2019, \"avg_player_height\": 199.39, \"lg\": \"NBA\", \"team\": \"Brooklyn Nets\", \"playoffs\": true, \"age\": 25.4, \"w\": 42.0, \"l\": 40.0, \"pw\": 41.0, \"pl\": 41.0, \"mov\": -0.07, \"sos\": -0.33, \"srs\": -0.4, \"o_rtg\": 109.6, \"d_rtg\": 109.7, \"n_rtg\": -0.1, \"pace\": 100.8, \"f_tr\": 0.284, \"x3p_ar\": 0.403, \"ts_percent\": 0.556, \"e_fg_percent\": 0.52, \"tov_percent\": 13.0, \"orb_percent\": 23.8, \"ft_fga\": 0.211, \"opp_e_fg_percent\": 0.512, \"opp_tov_percent\": 11.6, \"opp_drb_percent\": 76.4, \"opp_ft_fga\": 0.19, \"arena\": \"Barclays Center\", \"attend\": 612597.0, \"attend_g\": 14941.0}, {\"Unnamed: 0\": 18, \"abbreviation\": \"BKN\", \"season\": 2020, \"avg_player_height\": 198.96666666666667, \"lg\": \"NBA\", \"team\": \"Brooklyn Nets\", \"playoffs\": true, \"age\": 26.3, \"w\": 35.0, \"l\": 37.0, \"pw\": 35.0, \"pl\": 37.0, \"mov\": -0.57, \"sos\": -0.44, \"srs\": -1.01, \"o_rtg\": 108.9, \"d_rtg\": 109.5, \"n_rtg\": -0.6, \"pace\": 101.4, \"f_tr\": 0.267, \"x3p_ar\": 0.423, \"ts_percent\": 0.554, \"e_fg_percent\": 0.52, \"tov_percent\": 13.1, \"orb_percent\": 23.2, \"ft_fga\": 0.199, \"opp_e_fg_percent\": 0.511, \"opp_tov_percent\": 11.0, \"opp_drb_percent\": 77.8, \"opp_ft_fga\": 0.187, \"arena\": \"Barclays Center\", \"attend\": 524907.0, \"attend_g\": 16403.0}, {\"Unnamed: 0\": 19, \"abbreviation\": \"BKN\", \"season\": 2021, \"avg_player_height\": 198.12, \"lg\": \"NBA\", \"team\": \"Brooklyn Nets\", \"playoffs\": true, \"age\": 28.2, \"w\": 48.0, \"l\": 24.0, \"pw\": 46.0, \"pl\": 26.0, \"mov\": 4.5, \"sos\": -0.27, \"srs\": 4.24, \"o_rtg\": 118.3, \"d_rtg\": 113.8, \"n_rtg\": 4.5, \"pace\": 99.5, \"f_tr\": 0.258, \"x3p_ar\": 0.413, \"ts_percent\": 0.61, \"e_fg_percent\": 0.575, \"tov_percent\": 12.2, \"orb_percent\": 21.4, \"ft_fga\": 0.208, \"opp_e_fg_percent\": 0.531, \"opp_tov_percent\": 11.1, \"opp_drb_percent\": 77.3, \"opp_ft_fga\": 0.187, \"arena\": \"Barclays Center\", \"attend\": 30491.0, \"attend_g\": 847.0}, {\"Unnamed: 0\": 20, \"abbreviation\": \"BKN\", \"season\": 2022, \"avg_player_height\": 198.882, \"lg\": \"NBA\", \"team\": \"Brooklyn Nets\", \"playoffs\": true, \"age\": 29.1, \"w\": 44.0, \"l\": 38.0, \"pw\": 43.0, \"pl\": 39.0, \"mov\": 0.78, \"sos\": 0.04, \"srs\": 0.82, \"o_rtg\": 113.6, \"d_rtg\": 112.8, \"n_rtg\": 0.8, \"pace\": 99.0, \"f_tr\": 0.246, \"x3p_ar\": 0.359, \"ts_percent\": 0.576, \"e_fg_percent\": 0.54, \"tov_percent\": 12.5, \"orb_percent\": 23.9, \"ft_fga\": 0.198, \"opp_e_fg_percent\": 0.521, \"opp_tov_percent\": 11.7, \"opp_drb_percent\": 75.1, \"opp_ft_fga\": 0.201, \"arena\": \"Barclays Center\", \"attend\": 711539.0, \"attend_g\": 17355.0}, {\"Unnamed: 0\": 21, \"abbreviation\": \"BOS\", \"season\": 2012, \"avg_player_height\": 200.80941176470589, \"lg\": \"NBA\", \"team\": \"Boston Celtics\", \"playoffs\": true, \"age\": 29.3, \"w\": 39.0, \"l\": 27.0, \"pw\": 39.0, \"pl\": 27.0, \"mov\": 2.52, \"sos\": -0.26, \"srs\": 2.26, \"o_rtg\": 101.0, \"d_rtg\": 98.2, \"n_rtg\": 2.8, \"pace\": 90.4, \"f_tr\": 0.257, \"x3p_ar\": 0.194, \"ts_percent\": 0.535, \"e_fg_percent\": 0.496, \"tov_percent\": 14.7, \"orb_percent\": 19.7, \"ft_fga\": 0.2, \"opp_e_fg_percent\": 0.452, \"opp_tov_percent\": 14.9, \"opp_drb_percent\": 72.4, \"opp_ft_fga\": 0.216, \"arena\": \"TD Garden\", \"attend\": 614592.0, \"attend_g\": 18624.0}, {\"Unnamed: 0\": 22, \"abbreviation\": \"BOS\", \"season\": 2013, \"avg_player_height\": 198.59625, \"lg\": \"NBA\", \"team\": \"Boston Celtics\", \"playoffs\": true, \"age\": 29.1, \"w\": 41.0, \"l\": 40.0, \"pw\": 40.0, \"pl\": 41.0, \"mov\": -0.22, \"sos\": -0.4, \"srs\": -0.62, \"o_rtg\": 103.1, \"d_rtg\": 103.3, \"n_rtg\": -0.2, \"pace\": 91.7, \"f_tr\": 0.263, \"x3p_ar\": 0.215, \"ts_percent\": 0.542, \"e_fg_percent\": 0.503, \"tov_percent\": 14.1, \"orb_percent\": 20.1, \"ft_fga\": 0.204, \"opp_e_fg_percent\": 0.482, \"opp_tov_percent\": 14.2, \"opp_drb_percent\": 73.3, \"opp_ft_fga\": 0.216, \"arena\": \"TD Garden\", \"attend\": 744960.0, \"attend_g\": 18624.0}, {\"Unnamed: 0\": 23, \"abbreviation\": \"BOS\", \"season\": 2014, \"avg_player_height\": 198.66428571428577, \"lg\": \"NBA\", \"team\": \"Boston Celtics\", \"playoffs\": false, \"age\": 25.4, \"w\": 25.0, \"l\": 57.0, \"pw\": 28.0, \"pl\": 54.0, \"mov\": -4.46, \"sos\": -0.51, \"srs\": -4.97, \"o_rtg\": 102.9, \"d_rtg\": 107.7, \"n_rtg\": -4.8, \"pace\": 93.3, \"f_tr\": 0.248, \"x3p_ar\": 0.251, \"ts_percent\": 0.517, \"e_fg_percent\": 0.477, \"tov_percent\": 14.2, \"orb_percent\": 27.4, \"ft_fga\": 0.193, \"opp_e_fg_percent\": 0.505, \"opp_tov_percent\": 13.4, \"opp_drb_percent\": 74.2, \"opp_ft_fga\": 0.227, \"arena\": \"TD Garden\", \"attend\": 742400.0, \"attend_g\": 18107.0}, {\"Unnamed: 0\": 24, \"abbreviation\": \"BOS\", \"season\": 2015, \"avg_player_height\": 199.136, \"lg\": \"NBA\", \"team\": \"Boston Celtics\", \"playoffs\": true, \"age\": 25.0, \"w\": 40.0, \"l\": 42.0, \"pw\": 41.0, \"pl\": 41.0, \"mov\": 0.16, \"sos\": -0.56, \"srs\": -0.4, \"o_rtg\": 104.7, \"d_rtg\": 104.5, \"n_rtg\": 0.2, \"pace\": 95.8, \"f_tr\": 0.233, \"x3p_ar\": 0.28, \"ts_percent\": 0.523, \"e_fg_percent\": 0.489, \"tov_percent\": 12.5, \"orb_percent\": 24.7, \"ft_fga\": 0.176, \"opp_e_fg_percent\": 0.494, \"opp_tov_percent\": 13.7, \"opp_drb_percent\": 75.0, \"opp_ft_fga\": 0.208, \"arena\": \"TD Garden\", \"attend\": 721350.0, \"attend_g\": 17594.0}, {\"Unnamed: 0\": 25, \"abbreviation\": \"BOS\", \"season\": 2016, \"avg_player_height\": 198.628, \"lg\": \"NBA\", \"team\": \"Boston Celtics\", \"playoffs\": true, \"age\": 25.2, \"w\": 48.0, \"l\": 34.0, \"pw\": 50.0, \"pl\": 32.0, \"mov\": 3.21, \"sos\": -0.37, \"srs\": 2.84, \"o_rtg\": 106.8, \"d_rtg\": 103.6, \"n_rtg\": 3.2, \"pace\": 98.5, \"f_tr\": 0.264, \"x3p_ar\": 0.293, \"ts_percent\": 0.531, \"e_fg_percent\": 0.488, \"tov_percent\": 12.1, \"orb_percent\": 25.1, \"ft_fga\": 0.208, \"opp_e_fg_percent\": 0.487, \"opp_tov_percent\": 14.6, \"opp_drb_percent\": 74.6, \"opp_ft_fga\": 0.231, \"arena\": \"TD Garden\", \"attend\": 749076.0, \"attend_g\": 18270.0}, {\"Unnamed: 0\": 26, \"abbreviation\": \"BOS\", \"season\": 2017, \"avg_player_height\": 198.52105263157895, \"lg\": \"NBA\", \"team\": \"Boston Celtics\", \"playoffs\": true, \"age\": 25.9, \"w\": 53.0, \"l\": 29.0, \"pw\": 48.0, \"pl\": 34.0, \"mov\": 2.63, \"sos\": -0.39, \"srs\": 2.25, \"o_rtg\": 111.2, \"d_rtg\": 108.4, \"n_rtg\": 2.8, \"pace\": 96.8, \"f_tr\": 0.273, \"x3p_ar\": 0.393, \"ts_percent\": 0.567, \"e_fg_percent\": 0.525, \"tov_percent\": 12.2, \"orb_percent\": 21.2, \"ft_fga\": 0.22, \"opp_e_fg_percent\": 0.503, \"opp_tov_percent\": 12.6, \"opp_drb_percent\": 75.3, \"opp_ft_fga\": 0.223, \"arena\": \"TD Garden\", \"attend\": 760690.0, \"attend_g\": 18553.0}, {\"Unnamed: 0\": 27, \"abbreviation\": \"BOS\", \"season\": 2018, \"avg_player_height\": 200.025, \"lg\": \"NBA\", \"team\": \"Boston Celtics\", \"playoffs\": true, \"age\": 24.7, \"w\": 55.0, \"l\": 27.0, \"pw\": 51.0, \"pl\": 31.0, \"mov\": 3.59, \"sos\": -0.35, \"srs\": 3.23, \"o_rtg\": 107.6, \"d_rtg\": 103.9, \"n_rtg\": 3.7, \"pace\": 96.0, \"f_tr\": 0.243, \"x3p_ar\": 0.357, \"ts_percent\": 0.552, \"e_fg_percent\": 0.518, \"tov_percent\": 13.0, \"orb_percent\": 21.5, \"ft_fga\": 0.188, \"opp_e_fg_percent\": 0.495, \"opp_tov_percent\": 13.0, \"opp_drb_percent\": 78.4, \"opp_ft_fga\": 0.191, \"arena\": \"TD Garden\", \"attend\": 763584.0, \"attend_g\": 18624.0}, {\"Unnamed: 0\": 28, \"abbreviation\": \"BOS\", \"season\": 2019, \"avg_player_height\": 197.67176470588237, \"lg\": \"NBA\", \"team\": \"Boston Celtics\", \"playoffs\": true, \"age\": 25.7, \"w\": 49.0, \"l\": 33.0, \"pw\": 52.0, \"pl\": 30.0, \"mov\": 4.44, \"sos\": -0.54, \"srs\": 3.9, \"o_rtg\": 112.2, \"d_rtg\": 107.8, \"n_rtg\": 4.4, \"pace\": 99.6, \"f_tr\": 0.215, \"x3p_ar\": 0.381, \"ts_percent\": 0.567, \"e_fg_percent\": 0.534, \"tov_percent\": 11.5, \"orb_percent\": 21.6, \"ft_fga\": 0.173, \"opp_e_fg_percent\": 0.514, \"opp_tov_percent\": 13.4, \"opp_drb_percent\": 77.0, \"opp_ft_fga\": 0.198, \"arena\": \"TD Garden\", \"attend\": 763584.0, \"attend_g\": 18624.0}, {\"Unnamed: 0\": 29, \"abbreviation\": \"BOS\", \"season\": 2020, \"avg_player_height\": 200.0955555555555, \"lg\": \"NBA\", \"team\": \"Boston Celtics\", \"playoffs\": true, \"age\": 25.3, \"w\": 48.0, \"l\": 24.0, \"pw\": 50.0, \"pl\": 22.0, \"mov\": 6.31, \"sos\": -0.47, \"srs\": 5.83, \"o_rtg\": 113.3, \"d_rtg\": 107.0, \"n_rtg\": 6.3, \"pace\": 99.5, \"f_tr\": 0.259, \"x3p_ar\": 0.386, \"ts_percent\": 0.57, \"e_fg_percent\": 0.531, \"tov_percent\": 12.2, \"orb_percent\": 23.9, \"ft_fga\": 0.207, \"opp_e_fg_percent\": 0.509, \"opp_tov_percent\": 13.5, \"opp_drb_percent\": 77.4, \"opp_ft_fga\": 0.215, \"arena\": \"TD Garden\", \"attend\": 610864.0, \"attend_g\": 19090.0}, {\"Unnamed: 0\": 30, \"abbreviation\": \"BOS\", \"season\": 2021, \"avg_player_height\": 199.85181818181815, \"lg\": \"NBA\", \"team\": \"Boston Celtics\", \"playoffs\": true, \"age\": 25.1, \"w\": 36.0, \"l\": 36.0, \"pw\": 39.0, \"pl\": 33.0, \"mov\": 1.46, \"sos\": -0.14, \"srs\": 1.32, \"o_rtg\": 114.0, \"d_rtg\": 112.5, \"n_rtg\": 1.5, \"pace\": 98.3, \"f_tr\": 0.234, \"x3p_ar\": 0.409, \"ts_percent\": 0.574, \"e_fg_percent\": 0.543, \"tov_percent\": 12.5, \"orb_percent\": 24.3, \"ft_fga\": 0.181, \"opp_e_fg_percent\": 0.539, \"opp_tov_percent\": 12.8, \"opp_drb_percent\": 78.1, \"opp_ft_fga\": 0.215, \"arena\": \"TD Garden\", \"attend\": 30067.0, \"attend_g\": 835.0}, {\"Unnamed: 0\": 31, \"abbreviation\": \"BOS\", \"season\": 2022, \"avg_player_height\": 200.8011111111111, \"lg\": \"NBA\", \"team\": \"Boston Celtics\", \"playoffs\": true, \"age\": 26.1, \"w\": 51.0, \"l\": 31.0, \"pw\": 59.0, \"pl\": 23.0, \"mov\": 7.28, \"sos\": -0.26, \"srs\": 7.02, \"o_rtg\": 114.4, \"d_rtg\": 106.9, \"n_rtg\": 7.5, \"pace\": 96.6, \"f_tr\": 0.239, \"x3p_ar\": 0.425, \"ts_percent\": 0.578, \"e_fg_percent\": 0.542, \"tov_percent\": 12.4, \"orb_percent\": 24.0, \"ft_fga\": 0.195, \"opp_e_fg_percent\": 0.502, \"opp_tov_percent\": 12.5, \"opp_drb_percent\": 77.3, \"opp_ft_fga\": 0.183, \"arena\": \"TD Garden\", \"attend\": 727928.0, \"attend_g\": 17754.0}, {\"Unnamed: 0\": 32, \"abbreviation\": \"CHA\", \"season\": 2012, \"avg_player_height\": 200.6977777777778, \"lg\": \"NBA\", \"team\": \"Charlotte Bobcats\", \"playoffs\": false, \"age\": 24.5, \"w\": 7.0, \"l\": 59.0, \"pw\": 7.0, \"pl\": 59.0, \"mov\": -13.91, \"sos\": -0.05, \"srs\": -13.96, \"o_rtg\": 95.2, \"d_rtg\": 110.4, \"n_rtg\": -15.2, \"pace\": 91.1, \"f_tr\": 0.276, \"x3p_ar\": 0.169, \"ts_percent\": 0.483, \"e_fg_percent\": 0.439, \"tov_percent\": 13.9, \"orb_percent\": 23.6, \"ft_fga\": 0.206, \"opp_e_fg_percent\": 0.512, \"opp_tov_percent\": 12.8, \"opp_drb_percent\": 70.9, \"opp_ft_fga\": 0.206, \"arena\": \"Time Warner Cable Arena\", \"attend\": 486984.0, \"attend_g\": 14757.0}, {\"Unnamed: 0\": 33, \"abbreviation\": \"CHA\", \"season\": 2013, \"avg_player_height\": 198.96666666666667, \"lg\": \"NBA\", \"team\": \"Charlotte Bobcats\", \"playoffs\": false, \"age\": 24.4, \"w\": 21.0, \"l\": 61.0, \"pw\": 17.0, \"pl\": 65.0, \"mov\": -9.23, \"sos\": -0.06, \"srs\": -9.29, \"o_rtg\": 101.5, \"d_rtg\": 111.5, \"n_rtg\": -10.0, \"pace\": 91.5, \"f_tr\": 0.31, \"x3p_ar\": 0.21, \"ts_percent\": 0.507, \"e_fg_percent\": 0.46, \"tov_percent\": 13.2, \"orb_percent\": 25.7, \"ft_fga\": 0.233, \"opp_e_fg_percent\": 0.524, \"opp_tov_percent\": 13.2, \"opp_drb_percent\": 71.1, \"opp_ft_fga\": 0.197, \"arena\": \"Time Warner Cable Arena\", \"attend\": 628293.0, \"attend_g\": 15324.0}, {\"Unnamed: 0\": 34, \"abbreviation\": \"CHA\", \"season\": 2014, \"avg_player_height\": 197.96125, \"lg\": \"NBA\", \"team\": \"Charlotte Bobcats\", \"playoffs\": true, \"age\": 25.5, \"w\": 43.0, \"l\": 39.0, \"pw\": 40.0, \"pl\": 42.0, \"mov\": -0.22, \"sos\": -0.67, \"srs\": -0.89, \"o_rtg\": 103.6, \"d_rtg\": 103.8, \"n_rtg\": -0.2, \"pace\": 92.4, \"f_tr\": 0.297, \"x3p_ar\": 0.219, \"ts_percent\": 0.522, \"e_fg_percent\": 0.481, \"tov_percent\": 11.7, \"orb_percent\": 21.9, \"ft_fga\": 0.219, \"opp_e_fg_percent\": 0.491, \"opp_tov_percent\": 12.6, \"opp_drb_percent\": 77.6, \"opp_ft_fga\": 0.183, \"arena\": \"Time Warner Cable Arena\", \"attend\": 636268.0, \"attend_g\": 15519.0}, {\"Unnamed: 0\": 35, \"abbreviation\": \"CHA\", \"season\": 2015, \"avg_player_height\": 200.68625, \"lg\": \"NBA\", \"team\": \"Charlotte Hornets\", \"playoffs\": false, \"age\": 26.0, \"w\": 33.0, \"l\": 49.0, \"pw\": 32.0, \"pl\": 50.0, \"mov\": -3.17, \"sos\": -0.27, \"srs\": -3.44, \"o_rtg\": 100.1, \"d_rtg\": 103.5, \"n_rtg\": -3.4, \"pace\": 93.0, \"f_tr\": 0.269, \"x3p_ar\": 0.226, \"ts_percent\": 0.498, \"e_fg_percent\": 0.456, \"tov_percent\": 11.2, \"orb_percent\": 22.1, \"ft_fga\": 0.202, \"opp_e_fg_percent\": 0.487, \"opp_tov_percent\": 12.0, \"opp_drb_percent\": 79.3, \"opp_ft_fga\": 0.188, \"arena\": \"Time Warner Cable Arena\", \"attend\": 704886.0, \"attend_g\": 17192.0}, {\"Unnamed: 0\": 36, \"abbreviation\": \"CHA\", \"season\": 2016, \"avg_player_height\": 200.80941176470589, \"lg\": \"NBA\", \"team\": \"Charlotte Hornets\", \"playoffs\": true, \"age\": 26.0, \"w\": 48.0, \"l\": 34.0, \"pw\": 49.0, \"pl\": 33.0, \"mov\": 2.72, \"sos\": -0.36, \"srs\": 2.36, \"o_rtg\": 107.1, \"d_rtg\": 104.3, \"n_rtg\": 2.8, \"pace\": 95.7, \"f_tr\": 0.28, \"x3p_ar\": 0.348, \"ts_percent\": 0.545, \"e_fg_percent\": 0.502, \"tov_percent\": 11.7, \"orb_percent\": 20.0, \"ft_fga\": 0.222, \"opp_e_fg_percent\": 0.496, \"opp_tov_percent\": 12.5, \"opp_drb_percent\": 79.8, \"opp_ft_fga\": 0.191, \"arena\": \"Time Warner Cable Arena\", \"attend\": 716894.0, \"attend_g\": 17485.0}, {\"Unnamed: 0\": 37, \"abbreviation\": \"CHA\", \"season\": 2017, \"avg_player_height\": 201.1082352941177, \"lg\": \"NBA\", \"team\": \"Charlotte Hornets\", \"playoffs\": false, \"age\": 26.5, \"w\": 36.0, \"l\": 46.0, \"pw\": 42.0, \"pl\": 40.0, \"mov\": 0.2, \"sos\": -0.26, \"srs\": -0.07, \"o_rtg\": 108.8, \"d_rtg\": 108.6, \"n_rtg\": 0.2, \"pace\": 95.7, \"f_tr\": 0.279, \"x3p_ar\": 0.335, \"ts_percent\": 0.547, \"e_fg_percent\": 0.501, \"tov_percent\": 10.7, \"orb_percent\": 19.9, \"ft_fga\": 0.227, \"opp_e_fg_percent\": 0.523, \"opp_tov_percent\": 12.1, \"opp_drb_percent\": 79.6, \"opp_ft_fga\": 0.164, \"arena\": \"Spectrum Center\", \"attend\": 710643.0, \"attend_g\": 17333.0}, {\"Unnamed: 0\": 38, \"abbreviation\": \"CHA\", \"season\": 2018, \"avg_player_height\": 198.71764705882353, \"lg\": \"NBA\", \"team\": \"Charlotte Hornets\", \"playoffs\": false, \"age\": 26.6, \"w\": 36.0, \"l\": 46.0, \"pw\": 42.0, \"pl\": 40.0, \"mov\": 0.26, \"sos\": -0.19, \"srs\": 0.07, \"o_rtg\": 109.4, \"d_rtg\": 109.1, \"n_rtg\": 0.3, \"pace\": 98.4, \"f_tr\": 0.312, \"x3p_ar\": 0.314, \"ts_percent\": 0.549, \"e_fg_percent\": 0.508, \"tov_percent\": 11.4, \"orb_percent\": 22.2, \"ft_fga\": 0.233, \"opp_e_fg_percent\": 0.532, \"opp_tov_percent\": 12.4, \"opp_drb_percent\": 80.7, \"opp_ft_fga\": 0.165, \"arena\": \"Spectrum Center\", \"attend\": 671404.0, \"attend_g\": 16376.0}, {\"Unnamed: 0\": 39, \"abbreviation\": \"CHA\", \"season\": 2019, \"avg_player_height\": 198.8457142857143, \"lg\": \"NBA\", \"team\": \"Charlotte Hornets\", \"playoffs\": false, \"age\": 26.6, \"w\": 39.0, \"l\": 43.0, \"pw\": 38.0, \"pl\": 44.0, \"mov\": -1.1, \"sos\": -0.22, \"srs\": -1.32, \"o_rtg\": 111.4, \"d_rtg\": 112.5, \"n_rtg\": -1.1, \"pace\": 98.7, \"f_tr\": 0.257, \"x3p_ar\": 0.378, \"ts_percent\": 0.554, \"e_fg_percent\": 0.514, \"tov_percent\": 10.9, \"orb_percent\": 21.7, \"ft_fga\": 0.205, \"opp_e_fg_percent\": 0.538, \"opp_tov_percent\": 12.1, \"opp_drb_percent\": 77.1, \"opp_ft_fga\": 0.179, \"arena\": \"Spectrum Center\", \"attend\": 676570.0, \"attend_g\": 16502.0}, {\"Unnamed: 0\": 40, \"abbreviation\": \"CHA\", \"season\": 2020, \"avg_player_height\": 197.97058823529412, \"lg\": \"NBA\", \"team\": \"Charlotte Hornets\", \"playoffs\": false, \"age\": 24.3, \"w\": 23.0, \"l\": 42.0, \"pw\": 19.0, \"pl\": 46.0, \"mov\": -6.75, \"sos\": -0.28, \"srs\": -7.03, \"o_rtg\": 106.3, \"d_rtg\": 113.3, \"n_rtg\": -7.0, \"pace\": 95.8, \"f_tr\": 0.252, \"x3p_ar\": 0.399, \"ts_percent\": 0.539, \"e_fg_percent\": 0.504, \"tov_percent\": 13.3, \"orb_percent\": 23.9, \"ft_fga\": 0.188, \"opp_e_fg_percent\": 0.546, \"opp_tov_percent\": 13.1, \"opp_drb_percent\": 74.4, \"opp_ft_fga\": 0.159, \"arena\": \"Spectrum Center\", \"attend\": 478591.0, \"attend_g\": 15428.0}, {\"Unnamed: 0\": 41, \"abbreviation\": \"CHA\", \"season\": 2021, \"avg_player_height\": 200.06235294117647, \"lg\": \"NBA\", \"team\": \"Charlotte Hornets\", \"playoffs\": false, \"age\": 24.6, \"w\": 33.0, \"l\": 39.0, \"pw\": 32.0, \"pl\": 40.0, \"mov\": -1.93, \"sos\": -0.01, \"srs\": -1.94, \"o_rtg\": 110.9, \"d_rtg\": 112.8, \"n_rtg\": -1.9, \"pace\": 98.3, \"f_tr\": 0.238, \"x3p_ar\": 0.422, \"ts_percent\": 0.564, \"e_fg_percent\": 0.532, \"tov_percent\": 13.3, \"orb_percent\": 23.5, \"ft_fga\": 0.181, \"opp_e_fg_percent\": 0.55, \"opp_tov_percent\": 13.2, \"opp_drb_percent\": 75.7, \"opp_ft_fga\": 0.163, \"arena\": \"Spectrum Center\", \"attend\": 68255.0, \"attend_g\": 1896.0}, {\"Unnamed: 0\": 42, \"abbreviation\": \"CHA\", \"season\": 2022, \"avg_player_height\": 199.61411764705883, \"lg\": \"NBA\", \"team\": \"Charlotte Hornets\", \"playoffs\": false, \"age\": 25.5, \"w\": 43.0, \"l\": 39.0, \"pw\": 42.0, \"pl\": 40.0, \"mov\": 0.44, \"sos\": 0.09, \"srs\": 0.53, \"o_rtg\": 114.1, \"d_rtg\": 113.7, \"n_rtg\": 0.4, \"pace\": 100.0, \"f_tr\": 0.234, \"x3p_ar\": 0.418, \"ts_percent\": 0.572, \"e_fg_percent\": 0.544, \"tov_percent\": 11.6, \"orb_percent\": 23.3, \"ft_fga\": 0.173, \"opp_e_fg_percent\": 0.544, \"opp_tov_percent\": 13.1, \"opp_drb_percent\": 74.8, \"opp_ft_fga\": 0.187, \"arena\": \"Spectrum Center\", \"attend\": 700755.0, \"attend_g\": 17092.0}, {\"Unnamed: 0\": 43, \"abbreviation\": \"CHI\", \"season\": 2012, \"avg_player_height\": 199.93428571428572, \"lg\": \"NBA\", \"team\": \"Chicago Bulls\", \"playoffs\": true, \"age\": 27.1, \"w\": 50.0, \"l\": 16.0, \"pw\": 51.0, \"pl\": 15.0, \"mov\": 8.18, \"sos\": -0.76, \"srs\": 7.43, \"o_rtg\": 107.4, \"d_rtg\": 98.3, \"n_rtg\": 9.1, \"pace\": 89.1, \"f_tr\": 0.255, \"x3p_ar\": 0.205, \"ts_percent\": 0.523, \"e_fg_percent\": 0.49, \"tov_percent\": 13.2, \"orb_percent\": 32.6, \"ft_fga\": 0.184, \"opp_e_fg_percent\": 0.45, \"opp_tov_percent\": 12.8, \"opp_drb_percent\": 74.3, \"opp_ft_fga\": 0.175, \"arena\": \"United Center\", \"attend\": 731326.0, \"attend_g\": 22161.0}, {\"Unnamed: 0\": 44, \"abbreviation\": \"CHI\", \"season\": 2013, \"avg_player_height\": 200.025, \"lg\": \"NBA\", \"team\": \"Chicago Bulls\", \"playoffs\": true, \"age\": 28.0, \"w\": 45.0, \"l\": 37.0, \"pw\": 42.0, \"pl\": 40.0, \"mov\": 0.32, \"sos\": -0.33, \"srs\": -0.02, \"o_rtg\": 103.5, \"d_rtg\": 103.2, \"n_rtg\": 0.3, \"pace\": 89.3, \"f_tr\": 0.259, \"x3p_ar\": 0.189, \"ts_percent\": 0.512, \"e_fg_percent\": 0.47, \"tov_percent\": 13.6, \"orb_percent\": 29.4, \"ft_fga\": 0.201, \"opp_e_fg_percent\": 0.477, \"opp_tov_percent\": 13.2, \"opp_drb_percent\": 73.6, \"opp_ft_fga\": 0.206, \"arena\": \"United Center\", \"attend\": 896944.0, \"attend_g\": 21877.0}, {\"Unnamed: 0\": 45, \"abbreviation\": \"CHI\", \"season\": 2014, \"avg_player_height\": 201.56714285714287, \"lg\": \"NBA\", \"team\": \"Chicago Bulls\", \"playoffs\": true, \"age\": 28.6, \"w\": 48.0, \"l\": 34.0, \"pw\": 47.0, \"pl\": 35.0, \"mov\": 1.85, \"sos\": -0.66, \"srs\": 1.2, \"o_rtg\": 102.5, \"d_rtg\": 100.5, \"n_rtg\": 2.0, \"pace\": 90.2, \"f_tr\": 0.29, \"x3p_ar\": 0.222, \"ts_percent\": 0.518, \"e_fg_percent\": 0.471, \"tov_percent\": 14.2, \"orb_percent\": 27.2, \"ft_fga\": 0.226, \"opp_e_fg_percent\": 0.471, \"opp_tov_percent\": 13.7, \"opp_drb_percent\": 75.4, \"opp_ft_fga\": 0.189, \"arena\": \"United Center\", \"attend\": 890370.0, \"attend_g\": 21716.0}, {\"Unnamed: 0\": 46, \"abbreviation\": \"CHI\", \"season\": 2015, \"avg_player_height\": 202.01466666666664, \"lg\": \"NBA\", \"team\": \"Chicago Bulls\", \"playoffs\": true, \"age\": 28.8, \"w\": 50.0, \"l\": 32.0, \"pw\": 50.0, \"pl\": 32.0, \"mov\": 3.0, \"sos\": -0.46, \"srs\": 2.54, \"o_rtg\": 107.5, \"d_rtg\": 104.3, \"n_rtg\": 3.2, \"pace\": 92.8, \"f_tr\": 0.304, \"x3p_ar\": 0.269, \"ts_percent\": 0.536, \"e_fg_percent\": 0.489, \"tov_percent\": 12.9, \"orb_percent\": 27.0, \"ft_fga\": 0.238, \"opp_e_fg_percent\": 0.473, \"opp_tov_percent\": 11.3, \"opp_drb_percent\": 74.4, \"opp_ft_fga\": 0.182, \"arena\": \"United Center\", \"attend\": 886612.0, \"attend_g\": 21625.0}, {\"Unnamed: 0\": 47, \"abbreviation\": \"CHI\", \"season\": 2016, \"avg_player_height\": 199.0725, \"lg\": \"NBA\", \"team\": \"Chicago Bulls\", \"playoffs\": false, \"age\": 27.6, \"w\": 42.0, \"l\": 40.0, \"pw\": 37.0, \"pl\": 45.0, \"mov\": -1.48, \"sos\": 0.01, \"srs\": -1.46, \"o_rtg\": 105.0, \"d_rtg\": 106.5, \"n_rtg\": -1.5, \"pace\": 95.7, \"f_tr\": 0.24, \"x3p_ar\": 0.244, \"ts_percent\": 0.526, \"e_fg_percent\": 0.487, \"tov_percent\": 12.6, \"orb_percent\": 24.5, \"ft_fga\": 0.189, \"opp_e_fg_percent\": 0.485, \"opp_tov_percent\": 10.7, \"opp_drb_percent\": 74.9, \"opp_ft_fga\": 0.182, \"arena\": \"United Center\", \"attend\": 894659.0, \"attend_g\": 21821.0}, {\"Unnamed: 0\": 48, \"abbreviation\": \"CHI\", \"season\": 2017, \"avg_player_height\": 200.25894736842105, \"lg\": \"NBA\", \"team\": \"Chicago Bulls\", \"playoffs\": true, \"age\": 26.9, \"w\": 41.0, \"l\": 41.0, \"pw\": 42.0, \"pl\": 40.0, \"mov\": 0.43, \"sos\": -0.39, \"srs\": 0.03, \"o_rtg\": 107.4, \"d_rtg\": 107.0, \"n_rtg\": 0.4, \"pace\": 95.3, \"f_tr\": 0.259, \"x3p_ar\": 0.256, \"ts_percent\": 0.53, \"e_fg_percent\": 0.487, \"tov_percent\": 12.3, \"orb_percent\": 27.0, \"ft_fga\": 0.206, \"opp_e_fg_percent\": 0.507, \"opp_tov_percent\": 12.4, \"opp_drb_percent\": 76.8, \"opp_ft_fga\": 0.169, \"arena\": \"United Center\", \"attend\": 888882.0, \"attend_g\": 21680.0}, {\"Unnamed: 0\": 49, \"abbreviation\": \"CHI\", \"season\": 2018, \"avg_player_height\": 198.40222222222224, \"lg\": \"NBA\", \"team\": \"Chicago Bulls\", \"playoffs\": false, \"age\": 24.4, \"w\": 27.0, \"l\": 55.0, \"pw\": 23.0, \"pl\": 59.0, \"mov\": -7.04, \"sos\": 0.2, \"srs\": -6.84, \"o_rtg\": 103.8, \"d_rtg\": 110.9, \"n_rtg\": -7.1, \"pace\": 98.3, \"f_tr\": 0.216, \"x3p_ar\": 0.35, \"ts_percent\": 0.529, \"e_fg_percent\": 0.497, \"tov_percent\": 12.6, \"orb_percent\": 20.6, \"ft_fga\": 0.164, \"opp_e_fg_percent\": 0.542, \"opp_tov_percent\": 12.4, \"opp_drb_percent\": 80.6, \"opp_ft_fga\": 0.184, \"arena\": \"United Center\", \"attend\": 851824.0, \"attend_g\": 20776.0}, {\"Unnamed: 0\": 50, \"abbreviation\": \"CHI\", \"season\": 2019, \"avg_player_height\": 201.1082352941177, \"lg\": \"NBA\", \"team\": \"Chicago Bulls\", \"playoffs\": false, \"age\": 24.0, \"w\": 22.0, \"l\": 60.0, \"pw\": 21.0, \"pl\": 61.0, \"mov\": -8.41, \"sos\": 0.1, \"srs\": -8.32, \"o_rtg\": 104.8, \"d_rtg\": 113.2, \"n_rtg\": -8.4, \"pace\": 99.0, \"f_tr\": 0.235, \"x3p_ar\": 0.295, \"ts_percent\": 0.541, \"e_fg_percent\": 0.505, \"tov_percent\": 12.7, \"orb_percent\": 19.4, \"ft_fga\": 0.184, \"opp_e_fg_percent\": 0.541, \"opp_tov_percent\": 11.9, \"opp_drb_percent\": 77.3, \"opp_ft_fga\": 0.188, \"arena\": \"United Center\", \"attend\": 823475.0, \"attend_g\": 20085.0}, {\"Unnamed: 0\": 51, \"abbreviation\": \"CHI\", \"season\": 2020, \"avg_player_height\": 199.31529411764703, \"lg\": \"NBA\", \"team\": \"Chicago Bulls\", \"playoffs\": false, \"age\": 24.4, \"w\": 22.0, \"l\": 43.0, \"pw\": 26.0, \"pl\": 39.0, \"mov\": -3.08, \"sos\": -0.93, \"srs\": -4.0, \"o_rtg\": 106.7, \"d_rtg\": 109.8, \"n_rtg\": -3.1, \"pace\": 99.7, \"f_tr\": 0.231, \"x3p_ar\": 0.396, \"ts_percent\": 0.547, \"e_fg_percent\": 0.515, \"tov_percent\": 13.7, \"orb_percent\": 22.8, \"ft_fga\": 0.175, \"opp_e_fg_percent\": 0.546, \"opp_tov_percent\": 16.3, \"opp_drb_percent\": 75.6, \"opp_ft_fga\": 0.239, \"arena\": \"United Center\", \"attend\": 639352.0, \"attend_g\": 18804.0}, {\"Unnamed: 0\": 52, \"abbreviation\": \"CHI\", \"season\": 2021, \"avg_player_height\": 198.882, \"lg\": \"NBA\", \"team\": \"Chicago Bulls\", \"playoffs\": false, \"age\": 25.6, \"w\": 31.0, \"l\": 41.0, \"pw\": 34.0, \"pl\": 38.0, \"mov\": -0.89, \"sos\": -0.05, \"srs\": -0.94, \"o_rtg\": 111.1, \"d_rtg\": 112.0, \"n_rtg\": -0.9, \"pace\": 99.0, \"f_tr\": 0.197, \"x3p_ar\": 0.383, \"ts_percent\": 0.575, \"e_fg_percent\": 0.547, \"tov_percent\": 13.6, \"orb_percent\": 22.3, \"ft_fga\": 0.156, \"opp_e_fg_percent\": 0.538, \"opp_tov_percent\": 11.6, \"opp_drb_percent\": 80.3, \"opp_ft_fga\": 0.196, \"arena\": \"United Center\", \"attend\": 13655.0, \"attend_g\": 379.0}, {\"Unnamed: 0\": 53, \"abbreviation\": \"CHI\", \"season\": 2022, \"avg_player_height\": 198.86705882352945, \"lg\": \"NBA\", \"team\": \"Chicago Bulls\", \"playoffs\": true, \"age\": 26.3, \"w\": 46.0, \"l\": 36.0, \"pw\": 40.0, \"pl\": 42.0, \"mov\": -0.39, \"sos\": 0.02, \"srs\": -0.38, \"o_rtg\": 113.2, \"d_rtg\": 113.6, \"n_rtg\": -0.4, \"pace\": 98.3, \"f_tr\": 0.248, \"x3p_ar\": 0.332, \"ts_percent\": 0.579, \"e_fg_percent\": 0.541, \"tov_percent\": 11.8, \"orb_percent\": 20.4, \"ft_fga\": 0.201, \"opp_e_fg_percent\": 0.541, \"opp_tov_percent\": 11.9, \"opp_drb_percent\": 78.3, \"opp_ft_fga\": 0.199, \"arena\": \"United Center\", \"attend\": 856148.0, \"attend_g\": 20882.0}, {\"Unnamed: 0\": 54, \"abbreviation\": \"CLE\", \"season\": 2012, \"avg_player_height\": 200.3425, \"lg\": \"NBA\", \"team\": \"Cleveland Cavaliers\", \"playoffs\": false, \"age\": 26.0, \"w\": 21.0, \"l\": 45.0, \"pw\": 17.0, \"pl\": 49.0, \"mov\": -7.2, \"sos\": -0.14, \"srs\": -7.34, \"o_rtg\": 101.1, \"d_rtg\": 108.9, \"n_rtg\": -7.8, \"pace\": 91.3, \"f_tr\": 0.307, \"x3p_ar\": 0.238, \"ts_percent\": 0.505, \"e_fg_percent\": 0.463, \"tov_percent\": 14.3, \"orb_percent\": 28.9, \"ft_fga\": 0.22, \"opp_e_fg_percent\": 0.508, \"opp_tov_percent\": 13.1, \"opp_drb_percent\": 72.2, \"opp_ft_fga\": 0.202, \"arena\": \"Quicken Loans Arena\", \"attend\": 525577.0, \"attend_g\": 15927.0}, {\"Unnamed: 0\": 55, \"abbreviation\": \"CLE\", \"season\": 2013, \"avg_player_height\": 200.66, \"lg\": \"NBA\", \"team\": \"Cleveland Cavaliers\", \"playoffs\": false, \"age\": 24.1, \"w\": 24.0, \"l\": 58.0, \"pw\": 28.0, \"pl\": 54.0, \"mov\": -4.68, \"sos\": -0.19, \"srs\": -4.87, \"o_rtg\": 104.3, \"d_rtg\": 109.4, \"n_rtg\": -5.1, \"pace\": 92.3, \"f_tr\": 0.265, \"x3p_ar\": 0.229, \"ts_percent\": 0.514, \"e_fg_percent\": 0.473, \"tov_percent\": 13.0, \"orb_percent\": 28.1, \"ft_fga\": 0.2, \"opp_e_fg_percent\": 0.523, \"opp_tov_percent\": 14.4, \"opp_drb_percent\": 72.6, \"opp_ft_fga\": 0.225, \"arena\": \"Quicken Loans Arena\", \"attend\": 663882.0, \"attend_g\": 16192.0}, {\"Unnamed: 0\": 56, \"abbreviation\": \"CLE\", \"season\": 2014, \"avg_player_height\": 202.90117647058824, \"lg\": \"NBA\", \"team\": \"Cleveland Cavaliers\", \"playoffs\": false, \"age\": 24.9, \"w\": 33.0, \"l\": 49.0, \"pw\": 32.0, \"pl\": 50.0, \"mov\": -3.29, \"sos\": -0.57, \"srs\": -3.86, \"o_rtg\": 104.2, \"d_rtg\": 107.7, \"n_rtg\": -3.5, \"pace\": 93.1, \"f_tr\": 0.268, \"x3p_ar\": 0.236, \"ts_percent\": 0.518, \"e_fg_percent\": 0.479, \"tov_percent\": 13.0, \"orb_percent\": 27.2, \"ft_fga\": 0.201, \"opp_e_fg_percent\": 0.508, \"opp_tov_percent\": 13.0, \"opp_drb_percent\": 75.8, \"opp_ft_fga\": 0.199, \"arena\": \"Quicken Loans Arena\", \"attend\": 710522.0, \"attend_g\": 17330.0}, {\"Unnamed: 0\": 57, \"abbreviation\": \"CLE\", \"season\": 2015, \"avg_player_height\": 200.36117647058825, \"lg\": \"NBA\", \"team\": \"Cleveland Cavaliers\", \"playoffs\": true, \"age\": 26.9, \"w\": 53.0, \"l\": 29.0, \"pw\": 53.0, \"pl\": 29.0, \"mov\": 4.48, \"sos\": -0.4, \"srs\": 4.08, \"o_rtg\": 111.1, \"d_rtg\": 106.3, \"n_rtg\": 4.8, \"pace\": 92.3, \"f_tr\": 0.287, \"x3p_ar\": 0.334, \"ts_percent\": 0.557, \"e_fg_percent\": 0.52, \"tov_percent\": 13.4, \"orb_percent\": 26.8, \"ft_fga\": 0.216, \"opp_e_fg_percent\": 0.502, \"opp_tov_percent\": 12.6, \"opp_drb_percent\": 74.7, \"opp_ft_fga\": 0.177, \"arena\": \"Quicken Loans Arena\", \"attend\": 843042.0, \"attend_g\": 20562.0}, {\"Unnamed: 0\": 58, \"abbreviation\": \"CLE\", \"season\": 2016, \"avg_player_height\": 201.72947368421055, \"lg\": \"NBA\", \"team\": \"Cleveland Cavaliers\", \"playoffs\": true, \"age\": 28.1, \"w\": 57.0, \"l\": 25.0, \"pw\": 57.0, \"pl\": 25.0, \"mov\": 6.0, \"sos\": -0.55, \"srs\": 5.45, \"o_rtg\": 110.9, \"d_rtg\": 104.5, \"n_rtg\": 6.4, \"pace\": 93.3, \"f_tr\": 0.259, \"x3p_ar\": 0.352, \"ts_percent\": 0.558, \"e_fg_percent\": 0.524, \"tov_percent\": 12.7, \"orb_percent\": 25.1, \"ft_fga\": 0.194, \"opp_e_fg_percent\": 0.496, \"opp_tov_percent\": 12.6, \"opp_drb_percent\": 78.5, \"opp_ft_fga\": 0.205, \"arena\": \"Quicken Loans Arena\", \"attend\": 843042.0, \"attend_g\": 20562.0}, {\"Unnamed: 0\": 59, \"abbreviation\": \"CLE\", \"season\": 2017, \"avg_player_height\": 201.77125, \"lg\": \"NBA\", \"team\": \"Cleveland Cavaliers\", \"playoffs\": true, \"age\": 29.2, \"w\": 51.0, \"l\": 31.0, \"pw\": 49.0, \"pl\": 33.0, \"mov\": 3.18, \"sos\": -0.31, \"srs\": 2.87, \"o_rtg\": 113.6, \"d_rtg\": 110.3, \"n_rtg\": 3.3, \"pace\": 96.2, \"f_tr\": 0.275, \"x3p_ar\": 0.399, \"ts_percent\": 0.58, \"e_fg_percent\": 0.547, \"tov_percent\": 12.6, \"orb_percent\": 21.9, \"ft_fga\": 0.206, \"opp_e_fg_percent\": 0.516, \"opp_tov_percent\": 11.4, \"opp_drb_percent\": 75.8, \"opp_ft_fga\": 0.174, \"arena\": \"Quicken Loans Arena\", \"attend\": 843042.0, \"attend_g\": 20562.0}, {\"Unnamed: 0\": 60, \"abbreviation\": \"CLE\", \"season\": 2018, \"avg_player_height\": 200.4180952380952, \"lg\": \"NBA\", \"team\": \"Cleveland Cavaliers\", \"playoffs\": true, \"age\": 30.6, \"w\": 50.0, \"l\": 32.0, \"pw\": 43.0, \"pl\": 39.0, \"mov\": 0.94, \"sos\": -0.35, \"srs\": 0.59, \"o_rtg\": 112.9, \"d_rtg\": 111.9, \"n_rtg\": 1.0, \"pace\": 98.0, \"f_tr\": 0.275, \"x3p_ar\": 0.379, \"ts_percent\": 0.584, \"e_fg_percent\": 0.547, \"tov_percent\": 12.6, \"orb_percent\": 20.1, \"ft_fga\": 0.214, \"opp_e_fg_percent\": 0.54, \"opp_tov_percent\": 12.2, \"opp_drb_percent\": 77.3, \"opp_ft_fga\": 0.166, \"arena\": \"Quicken Loans Arena\", \"attend\": 843042.0, \"attend_g\": 20562.0}, {\"Unnamed: 0\": 61, \"abbreviation\": \"CLE\", \"season\": 2019, \"avg_player_height\": 198.12, \"lg\": \"NBA\", \"team\": \"Cleveland Cavaliers\", \"playoffs\": false, \"age\": 25.2, \"w\": 19.0, \"l\": 63.0, \"pw\": 19.0, \"pl\": 63.0, \"mov\": -9.61, \"sos\": 0.22, \"srs\": -9.39, \"o_rtg\": 107.7, \"d_rtg\": 117.6, \"n_rtg\": -9.9, \"pace\": 96.6, \"f_tr\": 0.236, \"x3p_ar\": 0.332, \"ts_percent\": 0.54, \"e_fg_percent\": 0.503, \"tov_percent\": 12.2, \"orb_percent\": 23.7, \"ft_fga\": 0.187, \"opp_e_fg_percent\": 0.564, \"opp_tov_percent\": 11.5, \"opp_drb_percent\": 77.0, \"opp_ft_fga\": 0.181, \"arena\": \"Quicken Loans Arena\", \"attend\": 793337.0, \"attend_g\": 19350.0}, {\"Unnamed: 0\": 62, \"abbreviation\": \"CLE\", \"season\": 2020, \"avg_player_height\": 199.57142857142856, \"lg\": \"NBA\", \"team\": \"Cleveland Cavaliers\", \"playoffs\": false, \"age\": 25.0, \"w\": 19.0, \"l\": 46.0, \"pw\": 18.0, \"pl\": 47.0, \"mov\": -7.89, \"sos\": 0.12, \"srs\": -7.77, \"o_rtg\": 107.5, \"d_rtg\": 115.4, \"n_rtg\": -7.9, \"pace\": 98.7, \"f_tr\": 0.227, \"x3p_ar\": 0.362, \"ts_percent\": 0.553, \"e_fg_percent\": 0.522, \"tov_percent\": 14.6, \"orb_percent\": 24.6, \"ft_fga\": 0.172, \"opp_e_fg_percent\": 0.56, \"opp_tov_percent\": 11.7, \"opp_drb_percent\": 77.4, \"opp_ft_fga\": 0.164, \"arena\": \"Rocket Mortgage Fieldhouse\", \"attend\": 643008.0, \"attend_g\": 17861.0}, {\"Unnamed: 0\": 63, \"abbreviation\": \"CLE\", \"season\": 2021, \"avg_player_height\": 198.92818181818183, \"lg\": \"NBA\", \"team\": \"Cleveland Cavaliers\", \"playoffs\": false, \"age\": 24.0, \"w\": 22.0, \"l\": 50.0, \"pw\": 18.0, \"pl\": 54.0, \"mov\": -8.44, \"sos\": 0.25, \"srs\": -8.19, \"o_rtg\": 105.8, \"d_rtg\": 114.4, \"n_rtg\": -8.6, \"pace\": 97.3, \"f_tr\": 0.261, \"x3p_ar\": 0.347, \"ts_percent\": 0.543, \"e_fg_percent\": 0.508, \"tov_percent\": 13.9, \"orb_percent\": 23.6, \"ft_fga\": 0.194, \"opp_e_fg_percent\": 0.556, \"opp_tov_percent\": 13.0, \"opp_drb_percent\": 76.6, \"opp_ft_fga\": 0.183, \"arena\": \"Rocket Mortgage Fieldhouse\", \"attend\": 91476.0, \"attend_g\": 2541.0}, {\"Unnamed: 0\": 64, \"abbreviation\": \"CLE\", \"season\": 2022, \"avg_player_height\": 198.56823529411764, \"lg\": \"NBA\", \"team\": \"Cleveland Cavaliers\", \"playoffs\": false, \"age\": 24.7, \"w\": 44.0, \"l\": 38.0, \"pw\": 47.0, \"pl\": 35.0, \"mov\": 2.12, \"sos\": -0.08, \"srs\": 2.04, \"o_rtg\": 111.9, \"d_rtg\": 109.7, \"n_rtg\": 2.2, \"pace\": 96.1, \"f_tr\": 0.261, \"x3p_ar\": 0.387, \"ts_percent\": 0.571, \"e_fg_percent\": 0.538, \"tov_percent\": 13.2, \"orb_percent\": 24.0, \"ft_fga\": 0.198, \"opp_e_fg_percent\": 0.52, \"opp_tov_percent\": 12.3, \"opp_drb_percent\": 76.5, \"opp_ft_fga\": 0.172, \"arena\": \"Rocket Mortgage Fieldhouse\", \"attend\": 758228.0, \"attend_g\": 18493.0}, {\"Unnamed: 0\": 65, \"abbreviation\": \"DAL\", \"season\": 2012, \"avg_player_height\": 197.75714285714284, \"lg\": \"NBA\", \"team\": \"Dallas Mavericks\", \"playoffs\": true, \"age\": 31.3, \"w\": 36.0, \"l\": 30.0, \"pw\": 35.0, \"pl\": 31.0, \"mov\": 0.95, \"sos\": 0.83, \"srs\": 1.78, \"o_rtg\": 103.3, \"d_rtg\": 102.3, \"n_rtg\": 1.0, \"pace\": 91.4, \"f_tr\": 0.246, \"x3p_ar\": 0.271, \"ts_percent\": 0.527, \"e_fg_percent\": 0.489, \"tov_percent\": 13.4, \"orb_percent\": 23.4, \"ft_fga\": 0.19, \"opp_e_fg_percent\": 0.479, \"opp_tov_percent\": 13.9, \"opp_drb_percent\": 74.8, \"opp_ft_fga\": 0.203, \"arena\": \"American Airlines Center\", \"attend\": 671050.0, \"attend_g\": 20335.0}, {\"Unnamed: 0\": 66, \"abbreviation\": \"DAL\", \"season\": 2013, \"avg_player_height\": 198.28933333333333, \"lg\": \"NBA\", \"team\": \"Dallas Mavericks\", \"playoffs\": false, \"age\": 29.5, \"w\": 41.0, \"l\": 41.0, \"pw\": 39.0, \"pl\": 43.0, \"mov\": -0.6, \"sos\": 0.36, \"srs\": -0.24, \"o_rtg\": 105.9, \"d_rtg\": 106.5, \"n_rtg\": -0.6, \"pace\": 94.1, \"f_tr\": 0.242, \"x3p_ar\": 0.236, \"ts_percent\": 0.544, \"e_fg_percent\": 0.506, \"tov_percent\": 13.0, \"orb_percent\": 21.8, \"ft_fga\": 0.192, \"opp_e_fg_percent\": 0.492, \"opp_tov_percent\": 13.3, \"opp_drb_percent\": 73.1, \"opp_ft_fga\": 0.227, \"arena\": \"American Airlines Center\", \"attend\": 821490.0, \"attend_g\": 20036.0}, {\"Unnamed: 0\": 67, \"abbreviation\": \"DAL\", \"season\": 2014, \"avg_player_height\": 200.81875, \"lg\": \"NBA\", \"team\": \"Dallas Mavericks\", \"playoffs\": true, \"age\": 30.6, \"w\": 49.0, \"l\": 33.0, \"pw\": 48.0, \"pl\": 34.0, \"mov\": 2.4, \"sos\": 0.5, \"srs\": 2.91, \"o_rtg\": 111.2, \"d_rtg\": 108.7, \"n_rtg\": 2.5, \"pace\": 93.5, \"f_tr\": 0.253, \"x3p_ar\": 0.274, \"ts_percent\": 0.564, \"e_fg_percent\": 0.526, \"tov_percent\": 12.7, \"orb_percent\": 24.6, \"ft_fga\": 0.201, \"opp_e_fg_percent\": 0.515, \"opp_tov_percent\": 14.8, \"opp_drb_percent\": 72.7, \"opp_ft_fga\": 0.229, \"arena\": \"American Airlines Center\", \"attend\": 817982.0, \"attend_g\": 19951.0}, {\"Unnamed: 0\": 68, \"abbreviation\": \"DAL\", \"season\": 2015, \"avg_player_height\": 202.692, \"lg\": \"NBA\", \"team\": \"Dallas Mavericks\", \"playoffs\": true, \"age\": 29.9, \"w\": 50.0, \"l\": 32.0, \"pw\": 49.0, \"pl\": 33.0, \"mov\": 2.9, \"sos\": 0.46, \"srs\": 3.36, \"o_rtg\": 109.5, \"d_rtg\": 106.4, \"n_rtg\": 3.1, \"pace\": 95.2, \"f_tr\": 0.262, \"x3p_ar\": 0.296, \"ts_percent\": 0.55, \"e_fg_percent\": 0.515, \"tov_percent\": 11.9, \"orb_percent\": 23.6, \"ft_fga\": 0.197, \"opp_e_fg_percent\": 0.503, \"opp_tov_percent\": 14.7, \"opp_drb_percent\": 72.2, \"opp_ft_fga\": 0.204, \"arena\": \"American Airlines Center\", \"attend\": 827702.0, \"attend_g\": 20188.0}, {\"Unnamed: 0\": 69, \"abbreviation\": \"DAL\", \"season\": 2016, \"avg_player_height\": 199.3231578947368, \"lg\": \"NBA\", \"team\": \"Dallas Mavericks\", \"playoffs\": true, \"age\": 30.3, \"w\": 42.0, \"l\": 40.0, \"pw\": 40.0, \"pl\": 42.0, \"mov\": -0.3, \"sos\": 0.29, \"srs\": -0.02, \"o_rtg\": 106.7, \"d_rtg\": 107.0, \"n_rtg\": -0.3, \"pace\": 94.3, \"f_tr\": 0.265, \"x3p_ar\": 0.339, \"ts_percent\": 0.544, \"e_fg_percent\": 0.502, \"tov_percent\": 12.0, \"orb_percent\": 20.6, \"ft_fga\": 0.211, \"opp_e_fg_percent\": 0.504, \"opp_tov_percent\": 12.8, \"opp_drb_percent\": 76.2, \"opp_ft_fga\": 0.198, \"arena\": \"American Airlines Center\", \"attend\": 825901.0, \"attend_g\": 20144.0}, {\"Unnamed: 0\": 70, \"abbreviation\": \"DAL\", \"season\": 2017, \"avg_player_height\": 202.35333333333332, \"lg\": \"NBA\", \"team\": \"Dallas Mavericks\", \"playoffs\": false, \"age\": 27.6, \"w\": 33.0, \"l\": 49.0, \"pw\": 33.0, \"pl\": 49.0, \"mov\": -2.93, \"sos\": 0.4, \"srs\": -2.53, \"o_rtg\": 105.6, \"d_rtg\": 108.8, \"n_rtg\": -3.2, \"pace\": 92.2, \"f_tr\": 0.225, \"x3p_ar\": 0.366, \"ts_percent\": 0.541, \"e_fg_percent\": 0.505, \"tov_percent\": 11.6, \"orb_percent\": 18.1, \"ft_fga\": 0.18, \"opp_e_fg_percent\": 0.529, \"opp_tov_percent\": 14.4, \"opp_drb_percent\": 77.6, \"opp_ft_fga\": 0.218, \"arena\": \"American Airlines Center\", \"attend\": 811366.0, \"attend_g\": 19789.0}, {\"Unnamed: 0\": 71, \"abbreviation\": \"DAL\", \"season\": 2018, \"avg_player_height\": 200.18375, \"lg\": \"NBA\", \"team\": \"Dallas Mavericks\", \"playoffs\": false, \"age\": 27.7, \"w\": 24.0, \"l\": 58.0, \"pw\": 33.0, \"pl\": 49.0, \"mov\": -3.04, \"sos\": 0.34, \"srs\": -2.7, \"o_rtg\": 106.3, \"d_rtg\": 109.5, \"n_rtg\": -3.2, \"pace\": 95.6, \"f_tr\": 0.217, \"x3p_ar\": 0.382, \"ts_percent\": 0.544, \"e_fg_percent\": 0.513, \"tov_percent\": 11.6, \"orb_percent\": 18.0, \"ft_fga\": 0.166, \"opp_e_fg_percent\": 0.532, \"opp_tov_percent\": 12.9, \"opp_drb_percent\": 78.9, \"opp_ft_fga\": 0.193, \"arena\": \"American Airlines Center\", \"attend\": 811453.0, \"attend_g\": 19792.0}, {\"Unnamed: 0\": 72, \"abbreviation\": \"DAL\", \"season\": 2019, \"avg_player_height\": 199.10777777777776, \"lg\": \"NBA\", \"team\": \"Dallas Mavericks\", \"playoffs\": false, \"age\": 26.9, \"w\": 33.0, \"l\": 49.0, \"pw\": 38.0, \"pl\": 44.0, \"mov\": -1.28, \"sos\": 0.42, \"srs\": -0.87, \"o_rtg\": 109.4, \"d_rtg\": 110.7, \"n_rtg\": -1.3, \"pace\": 99.0, \"f_tr\": 0.291, \"x3p_ar\": 0.422, \"ts_percent\": 0.555, \"e_fg_percent\": 0.519, \"tov_percent\": 12.7, \"orb_percent\": 22.7, \"ft_fga\": 0.216, \"opp_e_fg_percent\": 0.522, \"opp_tov_percent\": 11.6, \"opp_drb_percent\": 77.5, \"opp_ft_fga\": 0.191, \"arena\": \"American Airlines Center\", \"attend\": 820569.0, \"attend_g\": 20014.0}, {\"Unnamed: 0\": 73, \"abbreviation\": \"DAL\", \"season\": 2020, \"avg_player_height\": 200.66000000000005, \"lg\": \"NBA\", \"team\": \"Dallas Mavericks\", \"playoffs\": true, \"age\": 26.1, \"w\": 43.0, \"l\": 32.0, \"pw\": 49.0, \"pl\": 26.0, \"mov\": 4.95, \"sos\": -0.07, \"srs\": 4.87, \"o_rtg\": 116.7, \"d_rtg\": 111.7, \"n_rtg\": 5.0, \"pace\": 99.3, \"f_tr\": 0.264, \"x3p_ar\": 0.457, \"ts_percent\": 0.581, \"e_fg_percent\": 0.545, \"tov_percent\": 11.2, \"orb_percent\": 23.2, \"ft_fga\": 0.206, \"opp_e_fg_percent\": 0.525, \"opp_tov_percent\": 10.6, \"opp_drb_percent\": 77.7, \"opp_ft_fga\": 0.175, \"arena\": \"American Airlines Center\", \"attend\": 682096.0, \"attend_g\": 20062.0}, {\"Unnamed: 0\": 74, \"abbreviation\": \"DAL\", \"season\": 2021, \"avg_player_height\": 198.72476190476192, \"lg\": \"NBA\", \"team\": \"Dallas Mavericks\", \"playoffs\": true, \"age\": 26.3, \"w\": 42.0, \"l\": 30.0, \"pw\": 41.0, \"pl\": 31.0, \"mov\": 2.26, \"sos\": -0.01, \"srs\": 2.26, \"o_rtg\": 115.4, \"d_rtg\": 113.0, \"n_rtg\": 2.4, \"pace\": 97.3, \"f_tr\": 0.242, \"x3p_ar\": 0.436, \"ts_percent\": 0.582, \"e_fg_percent\": 0.55, \"tov_percent\": 11.1, \"orb_percent\": 21.1, \"ft_fga\": 0.189, \"opp_e_fg_percent\": 0.534, \"opp_tov_percent\": 11.5, \"opp_drb_percent\": 77.8, \"opp_ft_fga\": 0.197, \"arena\": \"American Airlines Center\", \"attend\": 94849.0, \"attend_g\": 2635.0}, {\"Unnamed: 0\": 75, \"abbreviation\": \"DAL\", \"season\": 2022, \"avg_player_height\": 197.63619047619045, \"lg\": \"NBA\", \"team\": \"Dallas Mavericks\", \"playoffs\": true, \"age\": 26.7, \"w\": 52.0, \"l\": 30.0, \"pw\": 50.0, \"pl\": 32.0, \"mov\": 3.3, \"sos\": -0.18, \"srs\": 3.12, \"o_rtg\": 112.8, \"d_rtg\": 109.4, \"n_rtg\": 3.4, \"pace\": 95.4, \"f_tr\": 0.249, \"x3p_ar\": 0.439, \"ts_percent\": 0.572, \"e_fg_percent\": 0.538, \"tov_percent\": 11.7, \"orb_percent\": 21.3, \"ft_fga\": 0.192, \"opp_e_fg_percent\": 0.521, \"opp_tov_percent\": 12.2, \"opp_drb_percent\": 78.0, \"opp_ft_fga\": 0.185, \"arena\": \"American Airlines Center\", \"attend\": 808037.0, \"attend_g\": 19708.0}, {\"Unnamed: 0\": 76, \"abbreviation\": \"DEN\", \"season\": 2012, \"avg_player_height\": 202.8613333333333, \"lg\": \"NBA\", \"team\": \"Denver Nuggets\", \"playoffs\": true, \"age\": 26.6, \"w\": 38.0, \"l\": 28.0, \"pw\": 39.0, \"pl\": 27.0, \"mov\": 2.88, \"sos\": 0.29, \"srs\": 3.16, \"o_rtg\": 109.2, \"d_rtg\": 106.2, \"n_rtg\": 3.0, \"pace\": 94.2, \"f_tr\": 0.326, \"x3p_ar\": 0.243, \"ts_percent\": 0.556, \"e_fg_percent\": 0.516, \"tov_percent\": 14.1, \"orb_percent\": 27.7, \"ft_fga\": 0.239, \"opp_e_fg_percent\": 0.508, \"opp_tov_percent\": 14.3, \"opp_drb_percent\": 74.3, \"opp_ft_fga\": 0.185, \"arena\": \"Pepsi Center\", \"attend\": 561966.0, \"attend_g\": 17029.0}, {\"Unnamed: 0\": 77, \"abbreviation\": \"DEN\", \"season\": 2013, \"avg_player_height\": 200.47857142857143, \"lg\": \"NBA\", \"team\": \"Denver Nuggets\", \"playoffs\": true, \"age\": 26.1, \"w\": 57.0, \"l\": 25.0, \"pw\": 55.0, \"pl\": 27.0, \"mov\": 5.09, \"sos\": 0.28, \"srs\": 5.37, \"o_rtg\": 110.4, \"d_rtg\": 105.1, \"n_rtg\": 5.3, \"pace\": 95.1, \"f_tr\": 0.308, \"x3p_ar\": 0.217, \"ts_percent\": 0.549, \"e_fg_percent\": 0.515, \"tov_percent\": 13.6, \"orb_percent\": 31.4, \"ft_fga\": 0.216, \"opp_e_fg_percent\": 0.493, \"opp_tov_percent\": 14.3, \"opp_drb_percent\": 71.8, \"opp_ft_fga\": 0.193, \"arena\": \"Pepsi Center\", \"attend\": 730616.0, \"attend_g\": 17820.0}, {\"Unnamed: 0\": 78, \"abbreviation\": \"DEN\", \"season\": 2014, \"avg_player_height\": 198.10888888888888, \"lg\": \"NBA\", \"team\": \"Denver Nuggets\", \"playoffs\": false, \"age\": 26.0, \"w\": 36.0, \"l\": 46.0, \"pw\": 35.0, \"pl\": 47.0, \"mov\": -2.15, \"sos\": 0.75, \"srs\": -1.4, \"o_rtg\": 106.0, \"d_rtg\": 108.2, \"n_rtg\": -2.2, \"pace\": 98.1, \"f_tr\": 0.306, \"x3p_ar\": 0.278, \"ts_percent\": 0.536, \"e_fg_percent\": 0.497, \"tov_percent\": 14.0, \"orb_percent\": 27.5, \"ft_fga\": 0.222, \"opp_e_fg_percent\": 0.5, \"opp_tov_percent\": 12.8, \"opp_drb_percent\": 74.5, \"opp_ft_fga\": 0.233, \"arena\": \"Pepsi Center\", \"attend\": 692898.0, \"attend_g\": 16900.0}, {\"Unnamed: 0\": 79, \"abbreviation\": \"DEN\", \"season\": 2015, \"avg_player_height\": 200.50125, \"lg\": \"NBA\", \"team\": \"Denver Nuggets\", \"playoffs\": false, \"age\": 26.4, \"w\": 30.0, \"l\": 52.0, \"pw\": 31.0, \"pl\": 51.0, \"mov\": -3.55, \"sos\": 0.48, \"srs\": -3.07, \"o_rtg\": 104.5, \"d_rtg\": 108.2, \"n_rtg\": -3.7, \"pace\": 96.1, \"f_tr\": 0.278, \"x3p_ar\": 0.284, \"ts_percent\": 0.518, \"e_fg_percent\": 0.479, \"tov_percent\": 12.7, \"orb_percent\": 26.6, \"ft_fga\": 0.204, \"opp_e_fg_percent\": 0.504, \"opp_tov_percent\": 13.0, \"opp_drb_percent\": 74.7, \"opp_ft_fga\": 0.239, \"arena\": \"Pepsi Center\", \"attend\": 602707.0, \"attend_g\": 14700.0}, {\"Unnamed: 0\": 80, \"abbreviation\": \"DEN\", \"season\": 2016, \"avg_player_height\": 201.7058823529412, \"lg\": \"NBA\", \"team\": \"Denver Nuggets\", \"playoffs\": false, \"age\": 24.7, \"w\": 33.0, \"l\": 49.0, \"pw\": 33.0, \"pl\": 49.0, \"mov\": -3.1, \"sos\": 0.29, \"srs\": -2.81, \"o_rtg\": 105.6, \"d_rtg\": 108.9, \"n_rtg\": -3.3, \"pace\": 95.7, \"f_tr\": 0.282, \"x3p_ar\": 0.277, \"ts_percent\": 0.531, \"e_fg_percent\": 0.489, \"tov_percent\": 13.2, \"orb_percent\": 25.8, \"ft_fga\": 0.216, \"opp_e_fg_percent\": 0.515, \"opp_tov_percent\": 12.6, \"opp_drb_percent\": 77.3, \"opp_ft_fga\": 0.216, \"arena\": \"Pepsi Center\", \"attend\": 577898.0, \"attend_g\": 14095.0}, {\"Unnamed: 0\": 81, \"abbreviation\": \"DEN\", \"season\": 2017, \"avg_player_height\": 200.95882352941177, \"lg\": \"NBA\", \"team\": \"Denver Nuggets\", \"playoffs\": false, \"age\": 25.2, \"w\": 40.0, \"l\": 42.0, \"pw\": 42.0, \"pl\": 40.0, \"mov\": 0.51, \"sos\": 0.19, \"srs\": 0.7, \"o_rtg\": 113.2, \"d_rtg\": 112.7, \"n_rtg\": 0.5, \"pace\": 98.3, \"f_tr\": 0.276, \"x3p_ar\": 0.329, \"ts_percent\": 0.568, \"e_fg_percent\": 0.53, \"tov_percent\": 13.2, \"orb_percent\": 27.3, \"ft_fga\": 0.214, \"opp_e_fg_percent\": 0.532, \"opp_tov_percent\": 10.9, \"opp_drb_percent\": 78.7, \"opp_ft_fga\": 0.194, \"arena\": \"Pepsi Center\", \"attend\": 605585.0, \"attend_g\": 14672.0}, {\"Unnamed: 0\": 82, \"abbreviation\": \"DEN\", \"season\": 2018, \"avg_player_height\": 200.09555555555556, \"lg\": \"NBA\", \"team\": \"Denver Nuggets\", \"playoffs\": false, \"age\": 25.1, \"w\": 46.0, \"l\": 36.0, \"pw\": 45.0, \"pl\": 37.0, \"mov\": 1.48, \"sos\": 0.09, \"srs\": 1.57, \"o_rtg\": 112.5, \"d_rtg\": 111.0, \"n_rtg\": 1.5, \"pace\": 96.8, \"f_tr\": 0.258, \"x3p_ar\": 0.357, \"ts_percent\": 0.57, \"e_fg_percent\": 0.536, \"tov_percent\": 13.4, \"orb_percent\": 25.7, \"ft_fga\": 0.198, \"opp_e_fg_percent\": 0.539, \"opp_tov_percent\": 12.6, \"opp_drb_percent\": 77.5, \"opp_ft_fga\": 0.173, \"arena\": \"Pepsi Center\", \"attend\": 702796.0, \"attend_g\": 17141.0}, {\"Unnamed: 0\": 83, \"abbreviation\": \"DEN\", \"season\": 2019, \"avg_player_height\": 202.00470588235297, \"lg\": \"NBA\", \"team\": \"Denver Nuggets\", \"playoffs\": true, \"age\": 24.9, \"w\": 54.0, \"l\": 28.0, \"pw\": 51.0, \"pl\": 31.0, \"mov\": 3.95, \"sos\": 0.24, \"srs\": 4.19, \"o_rtg\": 113.0, \"d_rtg\": 108.9, \"n_rtg\": 4.1, \"pace\": 97.7, \"f_tr\": 0.232, \"x3p_ar\": 0.348, \"ts_percent\": 0.558, \"e_fg_percent\": 0.527, \"tov_percent\": 11.9, \"orb_percent\": 26.6, \"ft_fga\": 0.175, \"opp_e_fg_percent\": 0.521, \"opp_tov_percent\": 12.3, \"opp_drb_percent\": 78.0, \"opp_ft_fga\": 0.194, \"arena\": \"Pepsi Center\", \"attend\": 756457.0, \"attend_g\": 18450.0}, {\"Unnamed: 0\": 84, \"abbreviation\": \"DEN\", \"season\": 2020, \"avg_player_height\": 199.67222222222225, \"lg\": \"NBA\", \"team\": \"Denver Nuggets\", \"playoffs\": true, \"age\": 25.6, \"w\": 46.0, \"l\": 27.0, \"pw\": 41.0, \"pl\": 32.0, \"mov\": 2.11, \"sos\": 0.24, \"srs\": 2.35, \"o_rtg\": 113.1, \"d_rtg\": 111.0, \"n_rtg\": 2.1, \"pace\": 97.1, \"f_tr\": 0.235, \"x3p_ar\": 0.344, \"ts_percent\": 0.567, \"e_fg_percent\": 0.535, \"tov_percent\": 12.3, \"orb_percent\": 24.8, \"ft_fga\": 0.183, \"opp_e_fg_percent\": 0.533, \"opp_tov_percent\": 12.9, \"opp_drb_percent\": 76.8, \"opp_ft_fga\": 0.198, \"arena\": \"Pepsi Center\", \"attend\": 633153.0, \"attend_g\": 19186.0}, {\"Unnamed: 0\": 85, \"abbreviation\": \"DEN\", \"season\": 2021, \"avg_player_height\": 196.977, \"lg\": \"NBA\", \"team\": \"Denver Nuggets\", \"playoffs\": true, \"age\": 26.1, \"w\": 47.0, \"l\": 25.0, \"pw\": 47.0, \"pl\": 25.0, \"mov\": 4.93, \"sos\": -0.11, \"srs\": 4.82, \"o_rtg\": 117.1, \"d_rtg\": 112.1, \"n_rtg\": 5.0, \"pace\": 97.1, \"f_tr\": 0.219, \"x3p_ar\": 0.383, \"ts_percent\": 0.588, \"e_fg_percent\": 0.557, \"tov_percent\": 12.1, \"orb_percent\": 24.7, \"ft_fga\": 0.176, \"opp_e_fg_percent\": 0.545, \"opp_tov_percent\": 12.9, \"opp_drb_percent\": 78.9, \"opp_ft_fga\": 0.2, \"arena\": \"Ball Arena\", \"attend\": 54563.0, \"attend_g\": 1516.0}, {\"Unnamed: 0\": 86, \"abbreviation\": \"DEN\", \"season\": 2022, \"avg_player_height\": 200.3425, \"lg\": \"NBA\", \"team\": \"Denver Nuggets\", \"playoffs\": true, \"age\": 27.7, \"w\": 48.0, \"l\": 34.0, \"pw\": 47.0, \"pl\": 35.0, \"mov\": 2.3, \"sos\": -0.15, \"srs\": 2.16, \"o_rtg\": 114.5, \"d_rtg\": 112.1, \"n_rtg\": 2.4, \"pace\": 97.8, \"f_tr\": 0.244, \"x3p_ar\": 0.416, \"ts_percent\": 0.59, \"e_fg_percent\": 0.556, \"tov_percent\": 13.2, \"orb_percent\": 21.9, \"ft_fga\": 0.194, \"opp_e_fg_percent\": 0.537, \"opp_tov_percent\": 11.7, \"opp_drb_percent\": 78.3, \"opp_ft_fga\": 0.188, \"arena\": \"Ball Arena\", \"attend\": 695262.0, \"attend_g\": 16958.0}, {\"Unnamed: 0\": 87, \"abbreviation\": \"DET\", \"season\": 2012, \"avg_player_height\": 200.66, \"lg\": \"NBA\", \"team\": \"Detroit Pistons\", \"playoffs\": false, \"age\": 26.3, \"w\": 25.0, \"l\": 41.0, \"pw\": 22.0, \"pl\": 44.0, \"mov\": -4.79, \"sos\": -0.4, \"srs\": -5.19, \"o_rtg\": 101.0, \"d_rtg\": 106.3, \"n_rtg\": -5.3, \"pace\": 89.2, \"f_tr\": 0.279, \"x3p_ar\": 0.175, \"ts_percent\": 0.51, \"e_fg_percent\": 0.468, \"tov_percent\": 15.0, \"orb_percent\": 28.1, \"ft_fga\": 0.21, \"opp_e_fg_percent\": 0.5, \"opp_tov_percent\": 14.2, \"opp_drb_percent\": 72.8, \"opp_ft_fga\": 0.226, \"arena\": \"The Palace of Auburn Hills\", \"attend\": 475638.0, \"attend_g\": 14413.0}, {\"Unnamed: 0\": 88, \"abbreviation\": \"DET\", \"season\": 2013, \"avg_player_height\": 199.644, \"lg\": \"NBA\", \"team\": \"Detroit Pistons\", \"playoffs\": false, \"age\": 25.3, \"w\": 29.0, \"l\": 53.0, \"pw\": 29.0, \"pl\": 53.0, \"mov\": -3.99, \"sos\": -0.34, \"srs\": -4.33, \"o_rtg\": 103.8, \"d_rtg\": 108.1, \"n_rtg\": -4.3, \"pace\": 90.8, \"f_tr\": 0.282, \"x3p_ar\": 0.217, \"ts_percent\": 0.521, \"e_fg_percent\": 0.487, \"tov_percent\": 14.3, \"orb_percent\": 28.3, \"ft_fga\": 0.197, \"opp_e_fg_percent\": 0.505, \"opp_tov_percent\": 13.1, \"opp_drb_percent\": 73.0, \"opp_ft_fga\": 0.209, \"arena\": \"The Palace of Auburn Hills\", \"attend\": 606094.0, \"attend_g\": 14685.0}, {\"Unnamed: 0\": 89, \"abbreviation\": \"DET\", \"season\": 2014, \"avg_player_height\": 199.644, \"lg\": \"NBA\", \"team\": \"Detroit Pistons\", \"playoffs\": false, \"age\": 24.7, \"w\": 29.0, \"l\": 53.0, \"pw\": 31.0, \"pl\": 51.0, \"mov\": -3.66, \"sos\": -0.48, \"srs\": -4.13, \"o_rtg\": 105.9, \"d_rtg\": 109.7, \"n_rtg\": -3.8, \"pace\": 94.9, \"f_tr\": 0.296, \"x3p_ar\": 0.222, \"ts_percent\": 0.514, \"e_fg_percent\": 0.482, \"tov_percent\": 12.9, \"orb_percent\": 31.4, \"ft_fga\": 0.199, \"opp_e_fg_percent\": 0.52, \"opp_tov_percent\": 13.8, \"opp_drb_percent\": 73.4, \"opp_ft_fga\": 0.218, \"arena\": \"The Palace of Auburn Hills\", \"attend\": 616005.0, \"attend_g\": 15025.0}, {\"Unnamed: 0\": 90, \"abbreviation\": \"DET\", \"season\": 2015, \"avg_player_height\": 200.66, \"lg\": \"NBA\", \"team\": \"Detroit Pistons\", \"playoffs\": false, \"age\": 25.9, \"w\": 32.0, \"l\": 50.0, \"pw\": 38.0, \"pl\": 44.0, \"mov\": -1.0, \"sos\": -0.39, \"srs\": -1.39, \"o_rtg\": 105.3, \"d_rtg\": 106.4, \"n_rtg\": -1.1, \"pace\": 92.8, \"f_tr\": 0.261, \"x3p_ar\": 0.29, \"ts_percent\": 0.515, \"e_fg_percent\": 0.482, \"tov_percent\": 12.3, \"orb_percent\": 27.7, \"ft_fga\": 0.184, \"opp_e_fg_percent\": 0.502, \"opp_tov_percent\": 13.2, \"opp_drb_percent\": 75.0, \"opp_ft_fga\": 0.192, \"arena\": \"The Palace of Auburn Hills\", \"attend\": 625917.0, \"attend_g\": 15266.0}, {\"Unnamed: 0\": 91, \"abbreviation\": \"DET\", \"season\": 2016, \"avg_player_height\": 202.01466666666664, \"lg\": \"NBA\", \"team\": \"Detroit Pistons\", \"playoffs\": true, \"age\": 25.0, \"w\": 44.0, \"l\": 38.0, \"pw\": 43.0, \"pl\": 39.0, \"mov\": 0.61, \"sos\": -0.18, \"srs\": 0.43, \"o_rtg\": 106.1, \"d_rtg\": 105.5, \"n_rtg\": 0.6, \"pace\": 95.1, \"f_tr\": 0.296, \"x3p_ar\": 0.303, \"ts_percent\": 0.522, \"e_fg_percent\": 0.491, \"tov_percent\": 12.2, \"orb_percent\": 27.0, \"ft_fga\": 0.197, \"opp_e_fg_percent\": 0.504, \"opp_tov_percent\": 12.5, \"opp_drb_percent\": 79.3, \"opp_ft_fga\": 0.196, \"arena\": \"The Palace of Auburn Hills\", \"attend\": 677138.0, \"attend_g\": 16516.0}, {\"Unnamed: 0\": 92, \"abbreviation\": \"DET\", \"season\": 2017, \"avg_player_height\": 197.41444444444448, \"lg\": \"NBA\", \"team\": \"Detroit Pistons\", \"playoffs\": false, \"age\": 25.4, \"w\": 37.0, \"l\": 45.0, \"pw\": 38.0, \"pl\": 44.0, \"mov\": -1.12, \"sos\": -0.17, \"srs\": -1.29, \"o_rtg\": 106.0, \"d_rtg\": 107.1, \"n_rtg\": -1.1, \"pace\": 95.0, \"f_tr\": 0.218, \"x3p_ar\": 0.263, \"ts_percent\": 0.521, \"e_fg_percent\": 0.492, \"tov_percent\": 10.9, \"orb_percent\": 24.1, \"ft_fga\": 0.157, \"opp_e_fg_percent\": 0.516, \"opp_tov_percent\": 12.1, \"opp_drb_percent\": 81.2, \"opp_ft_fga\": 0.197, \"arena\": \"The Palace of Auburn Hills\", \"attend\": 655141.0, \"attend_g\": 15979.0}, {\"Unnamed: 0\": 93, \"abbreviation\": \"DET\", \"season\": 2018, \"avg_player_height\": 197.82117647058823, \"lg\": \"NBA\", \"team\": \"Detroit Pistons\", \"playoffs\": false, \"age\": 25.9, \"w\": 39.0, \"l\": 43.0, \"pw\": 41.0, \"pl\": 41.0, \"mov\": -0.15, \"sos\": -0.11, \"srs\": -0.26, \"o_rtg\": 107.2, \"d_rtg\": 107.3, \"n_rtg\": -0.1, \"pace\": 96.2, \"f_tr\": 0.227, \"x3p_ar\": 0.333, \"ts_percent\": 0.543, \"e_fg_percent\": 0.512, \"tov_percent\": 12.3, \"orb_percent\": 22.7, \"ft_fga\": 0.169, \"opp_e_fg_percent\": 0.524, \"opp_tov_percent\": 13.7, \"opp_drb_percent\": 78.5, \"opp_ft_fga\": 0.172, \"arena\": \"Little Caesars Arena\", \"attend\": 713945.0, \"attend_g\": 17413.0}, {\"Unnamed: 0\": 94, \"abbreviation\": \"DET\", \"season\": 2019, \"avg_player_height\": 196.7831578947369, \"lg\": \"NBA\", \"team\": \"Detroit Pistons\", \"playoffs\": true, \"age\": 26.9, \"w\": 41.0, \"l\": 41.0, \"pw\": 40.0, \"pl\": 42.0, \"mov\": -0.24, \"sos\": -0.31, \"srs\": -0.56, \"o_rtg\": 109.0, \"d_rtg\": 109.2, \"n_rtg\": -0.2, \"pace\": 97.4, \"f_tr\": 0.262, \"x3p_ar\": 0.394, \"ts_percent\": 0.544, \"e_fg_percent\": 0.509, \"tov_percent\": 12.3, \"orb_percent\": 24.8, \"ft_fga\": 0.195, \"opp_e_fg_percent\": 0.526, \"opp_tov_percent\": 12.8, \"opp_drb_percent\": 78.7, \"opp_ft_fga\": 0.211, \"arena\": \"Little Caesars Arena\", \"attend\": 675963.0, \"attend_g\": 16487.0}, {\"Unnamed: 0\": 95, \"abbreviation\": \"DET\", \"season\": 2020, \"avg_player_height\": 198.41882352941175, \"lg\": \"NBA\", \"team\": \"Detroit Pistons\", \"playoffs\": false, \"age\": 25.9, \"w\": 20.0, \"l\": 46.0, \"pw\": 26.0, \"pl\": 40.0, \"mov\": -3.56, \"sos\": -0.82, \"srs\": -4.38, \"o_rtg\": 109.0, \"d_rtg\": 112.7, \"n_rtg\": -3.7, \"pace\": 97.6, \"f_tr\": 0.261, \"x3p_ar\": 0.381, \"ts_percent\": 0.561, \"e_fg_percent\": 0.529, \"tov_percent\": 13.8, \"orb_percent\": 22.6, \"ft_fga\": 0.194, \"opp_e_fg_percent\": 0.541, \"opp_tov_percent\": 12.7, \"opp_drb_percent\": 75.9, \"opp_ft_fga\": 0.186, \"arena\": \"Little Caesars Arena\", \"attend\": 509469.0, \"attend_g\": 15294.0}, {\"Unnamed: 0\": 96, \"abbreviation\": \"DET\", \"season\": 2021, \"avg_player_height\": 197.612, \"lg\": \"NBA\", \"team\": \"Detroit Pistons\", \"playoffs\": false, \"age\": 24.5, \"w\": 20.0, \"l\": 52.0, \"pw\": 26.0, \"pl\": 46.0, \"mov\": -4.47, \"sos\": 0.09, \"srs\": -4.38, \"o_rtg\": 108.0, \"d_rtg\": 112.5, \"n_rtg\": -4.5, \"pace\": 97.9, \"f_tr\": 0.273, \"x3p_ar\": 0.385, \"ts_percent\": 0.556, \"e_fg_percent\": 0.519, \"tov_percent\": 13.5, \"orb_percent\": 21.9, \"ft_fga\": 0.207, \"opp_e_fg_percent\": 0.541, \"opp_tov_percent\": 12.6, \"opp_drb_percent\": 76.9, \"opp_ft_fga\": 0.195, \"arena\": \"Little Caesars Arena\", \"attend\": 14250.0, \"attend_g\": 396.0}, {\"Unnamed: 0\": 97, \"abbreviation\": \"DET\", \"season\": 2022, \"avg_player_height\": 199.45684210526315, \"lg\": \"NBA\", \"team\": \"Detroit Pistons\", \"playoffs\": false, \"age\": 23.6, \"w\": 23.0, \"l\": 59.0, \"pw\": 22.0, \"pl\": 60.0, \"mov\": -7.72, \"sos\": 0.37, \"srs\": -7.36, \"o_rtg\": 106.0, \"d_rtg\": 113.8, \"n_rtg\": -7.8, \"pace\": 98.4, \"f_tr\": 0.249, \"x3p_ar\": 0.391, \"ts_percent\": 0.533, \"e_fg_percent\": 0.494, \"tov_percent\": 12.6, \"orb_percent\": 23.4, \"ft_fga\": 0.194, \"opp_e_fg_percent\": 0.541, \"opp_tov_percent\": 13.1, \"opp_drb_percent\": 75.6, \"opp_ft_fga\": 0.226, \"arena\": \"Little Caesars Arena\", \"attend\": 663556.0, \"attend_g\": 16184.0}, {\"Unnamed: 0\": 98, \"abbreviation\": \"GSW\", \"season\": 2012, \"avg_player_height\": 201.02285714285716, \"lg\": \"NBA\", \"team\": \"Golden State Warriors\", \"playoffs\": false, \"age\": 25.3, \"w\": 23.0, \"l\": 43.0, \"pw\": 25.0, \"pl\": 41.0, \"mov\": -3.41, \"sos\": 0.62, \"srs\": -2.79, \"o_rtg\": 105.4, \"d_rtg\": 109.1, \"n_rtg\": -3.7, \"pace\": 92.3, \"f_tr\": 0.227, \"x3p_ar\": 0.248, \"ts_percent\": 0.539, \"e_fg_percent\": 0.505, \"tov_percent\": 13.3, \"orb_percent\": 22.9, \"ft_fga\": 0.175, \"opp_e_fg_percent\": 0.496, \"opp_tov_percent\": 13.6, \"opp_drb_percent\": 69.1, \"opp_ft_fga\": 0.237, \"arena\": \"Oracle Arena\", \"attend\": 622311.0, \"attend_g\": 18858.0}, {\"Unnamed: 0\": 99, \"abbreviation\": \"GSW\", \"season\": 2013, \"avg_player_height\": 202.11142857142855, \"lg\": \"NBA\", \"team\": \"Golden State Warriors\", \"playoffs\": true, \"age\": 25.3, \"w\": 47.0, \"l\": 35.0, \"pw\": 44.0, \"pl\": 38.0, \"mov\": 0.89, \"sos\": 0.42, \"srs\": 1.32, \"o_rtg\": 106.4, \"d_rtg\": 105.5, \"n_rtg\": 0.9, \"pace\": 94.5, \"f_tr\": 0.255, \"x3p_ar\": 0.239, \"ts_percent\": 0.545, \"e_fg_percent\": 0.506, \"tov_percent\": 14.0, \"orb_percent\": 25.4, \"ft_fga\": 0.201, \"opp_e_fg_percent\": 0.486, \"opp_tov_percent\": 12.4, \"opp_drb_percent\": 75.5, \"opp_ft_fga\": 0.211, \"arena\": \"Oracle Arena\", \"attend\": 794320.0, \"attend_g\": 19374.0}, {\"Unnamed: 0\": 100, \"abbreviation\": \"GSW\", \"season\": 2014, \"avg_player_height\": 202.52266666666668, \"lg\": \"NBA\", \"team\": \"Golden State Warriors\", \"playoffs\": true, \"age\": 26.3, \"w\": 51.0, \"l\": 31.0, \"pw\": 54.0, \"pl\": 28.0, \"mov\": 4.8, \"sos\": 0.34, \"srs\": 5.15, \"o_rtg\": 107.5, \"d_rtg\": 102.6, \"n_rtg\": 4.9, \"pace\": 96.2, \"f_tr\": 0.247, \"x3p_ar\": 0.291, \"ts_percent\": 0.55, \"e_fg_percent\": 0.517, \"tov_percent\": 13.8, \"orb_percent\": 25.1, \"ft_fga\": 0.186, \"opp_e_fg_percent\": 0.477, \"opp_tov_percent\": 13.6, \"opp_drb_percent\": 76.3, \"opp_ft_fga\": 0.224, \"arena\": \"Oracle Arena\", \"attend\": 803436.0, \"attend_g\": 19596.0}, {\"Unnamed: 0\": 101, \"abbreviation\": \"GSW\", \"season\": 2015, \"avg_player_height\": 201.84533333333331, \"lg\": \"NBA\", \"team\": \"Golden State Warriors\", \"playoffs\": true, \"age\": 26.6, \"w\": 67.0, \"l\": 15.0, \"pw\": 65.0, \"pl\": 17.0, \"mov\": 10.1, \"sos\": -0.09, \"srs\": 10.01, \"o_rtg\": 111.6, \"d_rtg\": 101.4, \"n_rtg\": 10.2, \"pace\": 98.3, \"f_tr\": 0.239, \"x3p_ar\": 0.311, \"ts_percent\": 0.571, \"e_fg_percent\": 0.54, \"tov_percent\": 13.1, \"orb_percent\": 24.1, \"ft_fga\": 0.184, \"opp_e_fg_percent\": 0.47, \"opp_tov_percent\": 14.3, \"opp_drb_percent\": 74.5, \"opp_ft_fga\": 0.217, \"arena\": \"Oracle Arena\", \"attend\": 803436.0, \"attend_g\": 19596.0}, {\"Unnamed: 0\": 102, \"abbreviation\": \"GSW\", \"season\": 2016, \"avg_player_height\": 203.35875, \"lg\": \"NBA\", \"team\": \"Golden State Warriors\", \"playoffs\": true, \"age\": 27.4, \"w\": 73.0, \"l\": 9.0, \"pw\": 65.0, \"pl\": 17.0, \"mov\": 10.76, \"sos\": -0.38, \"srs\": 10.38, \"o_rtg\": 114.5, \"d_rtg\": 103.8, \"n_rtg\": 10.7, \"pace\": 99.3, \"f_tr\": 0.25, \"x3p_ar\": 0.362, \"ts_percent\": 0.593, \"e_fg_percent\": 0.563, \"tov_percent\": 13.5, \"orb_percent\": 23.5, \"ft_fga\": 0.191, \"opp_e_fg_percent\": 0.479, \"opp_tov_percent\": 12.6, \"opp_drb_percent\": 76.0, \"opp_ft_fga\": 0.208, \"arena\": \"Oracle Arena\", \"attend\": 803436.0, \"attend_g\": 19596.0}, {\"Unnamed: 0\": 103, \"abbreviation\": \"GSW\", \"season\": 2017, \"avg_player_height\": 203.2, \"lg\": \"NBA\", \"team\": \"Golden State Warriors\", \"playoffs\": true, \"age\": 28.2, \"w\": 67.0, \"l\": 15.0, \"pw\": 67.0, \"pl\": 15.0, \"mov\": 11.63, \"sos\": -0.28, \"srs\": 11.35, \"o_rtg\": 115.6, \"d_rtg\": 104.0, \"n_rtg\": 11.6, \"pace\": 99.8, \"f_tr\": 0.259, \"x3p_ar\": 0.359, \"ts_percent\": 0.597, \"e_fg_percent\": 0.563, \"tov_percent\": 13.2, \"orb_percent\": 22.8, \"ft_fga\": 0.204, \"opp_e_fg_percent\": 0.486, \"opp_tov_percent\": 13.5, \"opp_drb_percent\": 74.9, \"opp_ft_fga\": 0.198, \"arena\": \"Oracle Arena\", \"attend\": 803436.0, \"attend_g\": 19596.0}, {\"Unnamed: 0\": 104, \"abbreviation\": \"GSW\", \"season\": 2018, \"avg_player_height\": 202.45294117647057, \"lg\": \"NBA\", \"team\": \"Golden State Warriors\", \"playoffs\": true, \"age\": 28.8, \"w\": 58.0, \"l\": 24.0, \"pw\": 56.0, \"pl\": 26.0, \"mov\": 5.98, \"sos\": -0.19, \"srs\": 5.79, \"o_rtg\": 113.6, \"d_rtg\": 107.6, \"n_rtg\": 6.0, \"pace\": 99.6, \"f_tr\": 0.239, \"x3p_ar\": 0.339, \"ts_percent\": 0.603, \"e_fg_percent\": 0.569, \"tov_percent\": 14.1, \"orb_percent\": 21.0, \"ft_fga\": 0.195, \"opp_e_fg_percent\": 0.504, \"opp_tov_percent\": 12.6, \"opp_drb_percent\": 76.3, \"opp_ft_fga\": 0.186, \"arena\": \"Oracle Arena\", \"attend\": 803436.0, \"attend_g\": 19596.0}, {\"Unnamed: 0\": 105, \"abbreviation\": \"GSW\", \"season\": 2019, \"avg_player_height\": 197.1675, \"lg\": \"NBA\", \"team\": \"Golden State Warriors\", \"playoffs\": true, \"age\": 28.4, \"w\": 57.0, \"l\": 25.0, \"pw\": 56.0, \"pl\": 26.0, \"mov\": 6.46, \"sos\": -0.04, \"srs\": 6.42, \"o_rtg\": 115.9, \"d_rtg\": 109.5, \"n_rtg\": 6.4, \"pace\": 100.9, \"f_tr\": 0.227, \"x3p_ar\": 0.384, \"ts_percent\": 0.596, \"e_fg_percent\": 0.565, \"tov_percent\": 12.6, \"orb_percent\": 22.5, \"ft_fga\": 0.182, \"opp_e_fg_percent\": 0.508, \"opp_tov_percent\": 11.7, \"opp_drb_percent\": 77.1, \"opp_ft_fga\": 0.205, \"arena\": \"Oracle Arena\", \"attend\": 803436.0, \"attend_g\": 19596.0}, {\"Unnamed: 0\": 106, \"abbreviation\": \"GSW\", \"season\": 2020, \"avg_player_height\": 198.41882352941175, \"lg\": \"NBA\", \"team\": \"Golden State Warriors\", \"playoffs\": false, \"age\": 24.4, \"w\": 15.0, \"l\": 50.0, \"pw\": 16.0, \"pl\": 49.0, \"mov\": -8.71, \"sos\": 0.59, \"srs\": -8.12, \"o_rtg\": 105.2, \"d_rtg\": 113.8, \"n_rtg\": -8.6, \"pace\": 100.3, \"f_tr\": 0.264, \"x3p_ar\": 0.355, \"ts_percent\": 0.54, \"e_fg_percent\": 0.497, \"tov_percent\": 13.2, \"orb_percent\": 21.5, \"ft_fga\": 0.212, \"opp_e_fg_percent\": 0.553, \"opp_tov_percent\": 13.7, \"opp_drb_percent\": 76.4, \"opp_ft_fga\": 0.193, \"arena\": \"Chase Center\", \"attend\": 614176.0, \"attend_g\": 18064.0}, {\"Unnamed: 0\": 107, \"abbreviation\": \"GSW\", \"season\": 2021, \"avg_player_height\": 196.37375, \"lg\": \"NBA\", \"team\": \"Golden State Warriors\", \"playoffs\": false, \"age\": 26.7, \"w\": 39.0, \"l\": 33.0, \"pw\": 38.0, \"pl\": 34.0, \"mov\": 1.06, \"sos\": 0.04, \"srs\": 1.1, \"o_rtg\": 111.1, \"d_rtg\": 110.1, \"n_rtg\": 1.0, \"pace\": 102.2, \"f_tr\": 0.239, \"x3p_ar\": 0.439, \"ts_percent\": 0.583, \"e_fg_percent\": 0.551, \"tov_percent\": 13.3, \"orb_percent\": 17.9, \"ft_fga\": 0.188, \"opp_e_fg_percent\": 0.522, \"opp_tov_percent\": 13.1, \"opp_drb_percent\": 76.6, \"opp_ft_fga\": 0.223, \"arena\": \"Chase Center\", \"attend\": 33457.0, \"attend_g\": 929.0}, {\"Unnamed: 0\": 108, \"abbreviation\": \"GSW\", \"season\": 2022, \"avg_player_height\": 196.92470588235295, \"lg\": \"NBA\", \"team\": \"Golden State Warriors\", \"playoffs\": true, \"age\": 27.6, \"w\": 53.0, \"l\": 29.0, \"pw\": 55.0, \"pl\": 27.0, \"mov\": 5.54, \"sos\": -0.02, \"srs\": 5.52, \"o_rtg\": 112.5, \"d_rtg\": 106.9, \"n_rtg\": 5.6, \"pace\": 98.4, \"f_tr\": 0.235, \"x3p_ar\": 0.456, \"ts_percent\": 0.582, \"e_fg_percent\": 0.552, \"tov_percent\": 13.5, \"orb_percent\": 22.8, \"ft_fga\": 0.181, \"opp_e_fg_percent\": 0.509, \"opp_tov_percent\": 13.0, \"opp_drb_percent\": 78.7, \"opp_ft_fga\": 0.201, \"arena\": \"Chase Center\", \"attend\": 740624.0, \"attend_g\": 18064.0}, {\"Unnamed: 0\": 109, \"abbreviation\": \"HOU\", \"season\": 2012, \"avg_player_height\": 201.20428571428573, \"lg\": \"NBA\", \"team\": \"Houston Rockets\", \"playoffs\": false, \"age\": 26.2, \"w\": 34.0, \"l\": 32.0, \"pw\": 34.0, \"pl\": 32.0, \"mov\": 0.23, \"sos\": 0.35, \"srs\": 0.57, \"o_rtg\": 105.5, \"d_rtg\": 105.2, \"n_rtg\": 0.3, \"pace\": 91.7, \"f_tr\": 0.235, \"x3p_ar\": 0.24, \"ts_percent\": 0.529, \"e_fg_percent\": 0.492, \"tov_percent\": 13.5, \"orb_percent\": 27.5, \"ft_fga\": 0.184, \"opp_e_fg_percent\": 0.49, \"opp_tov_percent\": 13.8, \"opp_drb_percent\": 73.4, \"opp_ft_fga\": 0.21, \"arena\": \"Toyota Center\", \"attend\": 506994.0, \"attend_g\": 15363.0}, {\"Unnamed: 0\": 110, \"abbreviation\": \"HOU\", \"season\": 2013, \"avg_player_height\": 201.45375, \"lg\": \"NBA\", \"team\": \"Houston Rockets\", \"playoffs\": true, \"age\": 24.4, \"w\": 45.0, \"l\": 37.0, \"pw\": 50.0, \"pl\": 32.0, \"mov\": 3.48, \"sos\": 0.22, \"srs\": 3.69, \"o_rtg\": 109.7, \"d_rtg\": 106.1, \"n_rtg\": 3.6, \"pace\": 96.1, \"f_tr\": 0.308, \"x3p_ar\": 0.349, \"ts_percent\": 0.564, \"e_fg_percent\": 0.525, \"tov_percent\": 14.9, \"orb_percent\": 26.4, \"ft_fga\": 0.232, \"opp_e_fg_percent\": 0.502, \"opp_tov_percent\": 13.5, \"opp_drb_percent\": 75.2, \"opp_ft_fga\": 0.196, \"arena\": \"Toyota Center\", \"attend\": 683564.0, \"attend_g\": 16672.0}, {\"Unnamed: 0\": 111, \"abbreviation\": \"HOU\", \"season\": 2014, \"avg_player_height\": 200.68, \"lg\": \"NBA\", \"team\": \"Houston Rockets\", \"playoffs\": true, \"age\": 25.4, \"w\": 54.0, \"l\": 28.0, \"pw\": 53.0, \"pl\": 29.0, \"mov\": 4.56, \"sos\": 0.5, \"srs\": 5.06, \"o_rtg\": 111.0, \"d_rtg\": 106.3, \"n_rtg\": 4.7, \"pace\": 96.3, \"f_tr\": 0.386, \"x3p_ar\": 0.33, \"ts_percent\": 0.571, \"e_fg_percent\": 0.531, \"tov_percent\": 14.6, \"orb_percent\": 27.4, \"ft_fga\": 0.275, \"opp_e_fg_percent\": 0.489, \"opp_tov_percent\": 12.5, \"opp_drb_percent\": 74.1, \"opp_ft_fga\": 0.193, \"arena\": \"Toyota Center\", \"attend\": 743082.0, \"attend_g\": 18124.0}, {\"Unnamed: 0\": 112, \"abbreviation\": \"HOU\", \"season\": 2015, \"avg_player_height\": 201.84533333333331, \"lg\": \"NBA\", \"team\": \"Houston Rockets\", \"playoffs\": true, \"age\": 27.6, \"w\": 56.0, \"l\": 26.0, \"pw\": 50.0, \"pl\": 32.0, \"mov\": 3.44, \"sos\": 0.38, \"srs\": 3.82, \"o_rtg\": 107.0, \"d_rtg\": 103.4, \"n_rtg\": 3.6, \"pace\": 96.5, \"f_tr\": 0.312, \"x3p_ar\": 0.392, \"ts_percent\": 0.548, \"e_fg_percent\": 0.512, \"tov_percent\": 15.0, \"orb_percent\": 26.8, \"ft_fga\": 0.223, \"opp_e_fg_percent\": 0.486, \"opp_tov_percent\": 14.6, \"opp_drb_percent\": 72.9, \"opp_ft_fga\": 0.208, \"arena\": \"Toyota Center\", \"attend\": 747412.0, \"attend_g\": 18230.0}, {\"Unnamed: 0\": 113, \"abbreviation\": \"HOU\", \"season\": 2016, \"avg_player_height\": 199.644, \"lg\": \"NBA\", \"team\": \"Houston Rockets\", \"playoffs\": true, \"age\": 27.8, \"w\": 41.0, \"l\": 41.0, \"pw\": 42.0, \"pl\": 40.0, \"mov\": 0.2, \"sos\": 0.14, \"srs\": 0.34, \"o_rtg\": 108.3, \"d_rtg\": 108.1, \"n_rtg\": 0.2, \"pace\": 97.6, \"f_tr\": 0.352, \"x3p_ar\": 0.37, \"ts_percent\": 0.553, \"e_fg_percent\": 0.516, \"tov_percent\": 14.2, \"orb_percent\": 25.7, \"ft_fga\": 0.244, \"opp_e_fg_percent\": 0.516, \"opp_tov_percent\": 14.7, \"opp_drb_percent\": 72.8, \"opp_ft_fga\": 0.219, \"arena\": \"Toyota Center\", \"attend\": 737244.0, \"attend_g\": 17982.0}, {\"Unnamed: 0\": 114, \"abbreviation\": \"HOU\", \"season\": 2017, \"avg_player_height\": 199.85789473684213, \"lg\": \"NBA\", \"team\": \"Houston Rockets\", \"playoffs\": true, \"age\": 27.4, \"w\": 55.0, \"l\": 27.0, \"pw\": 55.0, \"pl\": 27.0, \"mov\": 5.77, \"sos\": 0.08, \"srs\": 5.84, \"o_rtg\": 114.7, \"d_rtg\": 109.0, \"n_rtg\": 5.7, \"pace\": 100.0, \"f_tr\": 0.304, \"x3p_ar\": 0.462, \"ts_percent\": 0.583, \"e_fg_percent\": 0.545, \"tov_percent\": 13.3, \"orb_percent\": 24.6, \"ft_fga\": 0.233, \"opp_e_fg_percent\": 0.519, \"opp_tov_percent\": 13.2, \"opp_drb_percent\": 75.8, \"opp_ft_fga\": 0.194, \"arena\": \"Toyota Center\", \"attend\": 695903.0, \"attend_g\": 16973.0}, {\"Unnamed: 0\": 115, \"abbreviation\": \"HOU\", \"season\": 2018, \"avg_player_height\": 199.898, \"lg\": \"NBA\", \"team\": \"Houston Rockets\", \"playoffs\": true, \"age\": 29.8, \"w\": 65.0, \"l\": 17.0, \"pw\": 61.0, \"pl\": 21.0, \"mov\": 8.48, \"sos\": -0.27, \"srs\": 8.21, \"o_rtg\": 114.7, \"d_rtg\": 106.1, \"n_rtg\": 8.6, \"pace\": 97.6, \"f_tr\": 0.298, \"x3p_ar\": 0.502, \"ts_percent\": 0.59, \"e_fg_percent\": 0.551, \"tov_percent\": 12.7, \"orb_percent\": 21.3, \"ft_fga\": 0.233, \"opp_e_fg_percent\": 0.521, \"opp_tov_percent\": 13.4, \"opp_drb_percent\": 79.9, \"opp_ft_fga\": 0.171, \"arena\": \"Toyota Center\", \"attend\": 732722.0, \"attend_g\": 17871.0}, {\"Unnamed: 0\": 116, \"abbreviation\": \"HOU\", \"season\": 2019, \"avg_player_height\": 197.866, \"lg\": \"NBA\", \"team\": \"Houston Rockets\", \"playoffs\": true, \"age\": 29.2, \"w\": 53.0, \"l\": 29.0, \"pw\": 53.0, \"pl\": 29.0, \"mov\": 4.77, \"sos\": 0.19, \"srs\": 4.96, \"o_rtg\": 115.5, \"d_rtg\": 110.7, \"n_rtg\": 4.8, \"pace\": 97.9, \"f_tr\": 0.279, \"x3p_ar\": 0.519, \"ts_percent\": 0.581, \"e_fg_percent\": 0.542, \"tov_percent\": 12.0, \"orb_percent\": 22.8, \"ft_fga\": 0.221, \"opp_e_fg_percent\": 0.525, \"opp_tov_percent\": 13.4, \"opp_drb_percent\": 74.4, \"opp_ft_fga\": 0.21, \"arena\": \"Toyota Center\", \"attend\": 740392.0, \"attend_g\": 18058.0}, {\"Unnamed: 0\": 117, \"abbreviation\": \"HOU\", \"season\": 2020, \"avg_player_height\": 197.88909090909092, \"lg\": \"NBA\", \"team\": \"Houston Rockets\", \"playoffs\": true, \"age\": 29.2, \"w\": 44.0, \"l\": 28.0, \"pw\": 42.0, \"pl\": 30.0, \"mov\": 2.96, \"sos\": 0.17, \"srs\": 3.13, \"o_rtg\": 112.9, \"d_rtg\": 110.1, \"n_rtg\": 2.8, \"pace\": 103.7, \"f_tr\": 0.288, \"x3p_ar\": 0.501, \"ts_percent\": 0.578, \"e_fg_percent\": 0.537, \"tov_percent\": 12.6, \"orb_percent\": 21.0, \"ft_fga\": 0.228, \"opp_e_fg_percent\": 0.529, \"opp_tov_percent\": 13.7, \"opp_drb_percent\": 75.6, \"opp_ft_fga\": 0.197, \"arena\": \"Toyota Center\", \"attend\": 578458.0, \"attend_g\": 18077.0}, {\"Unnamed: 0\": 118, \"abbreviation\": \"HOU\", \"season\": 2021, \"avg_player_height\": 196.5325, \"lg\": \"NBA\", \"team\": \"Houston Rockets\", \"playoffs\": false, \"age\": 26.5, \"w\": 17.0, \"l\": 55.0, \"pw\": 20.0, \"pl\": 52.0, \"mov\": -7.9, \"sos\": 0.4, \"srs\": -7.5, \"o_rtg\": 107.1, \"d_rtg\": 114.9, \"n_rtg\": -7.8, \"pace\": 101.4, \"f_tr\": 0.252, \"x3p_ar\": 0.459, \"ts_percent\": 0.553, \"e_fg_percent\": 0.521, \"tov_percent\": 13.0, \"orb_percent\": 19.8, \"ft_fga\": 0.187, \"opp_e_fg_percent\": 0.555, \"opp_tov_percent\": 12.9, \"opp_drb_percent\": 77.1, \"opp_ft_fga\": 0.201, \"arena\": \"Toyota Center\", \"attend\": 117009.0, \"attend_g\": 3250.0}, {\"Unnamed: 0\": 119, \"abbreviation\": \"HOU\", \"season\": 2022, \"avg_player_height\": 200.49066666666667, \"lg\": \"NBA\", \"team\": \"Houston Rockets\", \"playoffs\": false, \"age\": 24.1, \"w\": 20.0, \"l\": 62.0, \"pw\": 21.0, \"pl\": 61.0, \"mov\": -8.48, \"sos\": 0.22, \"srs\": -8.26, \"o_rtg\": 108.4, \"d_rtg\": 116.7, \"n_rtg\": -8.3, \"pace\": 100.9, \"f_tr\": 0.284, \"x3p_ar\": 0.448, \"ts_percent\": 0.565, \"e_fg_percent\": 0.534, \"tov_percent\": 14.5, \"orb_percent\": 21.7, \"ft_fga\": 0.202, \"opp_e_fg_percent\": 0.554, \"opp_tov_percent\": 12.3, \"opp_drb_percent\": 74.4, \"opp_ft_fga\": 0.206, \"arena\": \"Toyota Center\", \"attend\": 638977.0, \"attend_g\": 15585.0}, {\"Unnamed: 0\": 120, \"abbreviation\": \"IND\", \"season\": 2012, \"avg_player_height\": 201.45375, \"lg\": \"NBA\", \"team\": \"Indiana Pacers\", \"playoffs\": true, \"age\": 26.3, \"w\": 42.0, \"l\": 24.0, \"pw\": 41.0, \"pl\": 25.0, \"mov\": 3.3, \"sos\": -0.71, \"srs\": 2.6, \"o_rtg\": 106.7, \"d_rtg\": 103.1, \"n_rtg\": 3.6, \"pace\": 90.7, \"f_tr\": 0.321, \"x3p_ar\": 0.198, \"ts_percent\": 0.526, \"e_fg_percent\": 0.474, \"tov_percent\": 13.1, \"orb_percent\": 29.2, \"ft_fga\": 0.251, \"opp_e_fg_percent\": 0.476, \"opp_tov_percent\": 14.1, \"opp_drb_percent\": 72.3, \"opp_ft_fga\": 0.222, \"arena\": \"Bankers Life Fieldhouse\", \"attend\": 467561.0, \"attend_g\": 14169.0}, {\"Unnamed: 0\": 121, \"abbreviation\": \"IND\", \"season\": 2013, \"avg_player_height\": 202.35333333333335, \"lg\": \"NBA\", \"team\": \"Indiana Pacers\", \"playoffs\": true, \"age\": 25.7, \"w\": 49.0, \"l\": 32.0, \"pw\": 52.0, \"pl\": 29.0, \"mov\": 4.02, \"sos\": -0.69, \"srs\": 3.34, \"o_rtg\": 104.3, \"d_rtg\": 99.8, \"n_rtg\": 4.5, \"pace\": 90.2, \"f_tr\": 0.293, \"x3p_ar\": 0.245, \"ts_percent\": 0.521, \"e_fg_percent\": 0.479, \"tov_percent\": 14.3, \"orb_percent\": 30.3, \"ft_fga\": 0.219, \"opp_e_fg_percent\": 0.453, \"opp_tov_percent\": 12.9, \"opp_drb_percent\": 74.6, \"opp_ft_fga\": 0.197, \"arena\": \"Bankers Life Fieldhouse\", \"attend\": 626069.0, \"attend_g\": 15270.0}, {\"Unnamed: 0\": 122, \"abbreviation\": \"IND\", \"season\": 2014, \"avg_player_height\": 202.52266666666668, \"lg\": \"NBA\", \"team\": \"Indiana Pacers\", \"playoffs\": true, \"age\": 27.2, \"w\": 56.0, \"l\": 26.0, \"pw\": 54.0, \"pl\": 28.0, \"mov\": 4.4, \"sos\": -0.77, \"srs\": 3.63, \"o_rtg\": 104.1, \"d_rtg\": 99.3, \"n_rtg\": 4.8, \"pace\": 92.5, \"f_tr\": 0.29, \"x3p_ar\": 0.235, \"ts_percent\": 0.535, \"e_fg_percent\": 0.49, \"tov_percent\": 14.3, \"orb_percent\": 24.9, \"ft_fga\": 0.226, \"opp_e_fg_percent\": 0.46, \"opp_tov_percent\": 12.9, \"opp_drb_percent\": 76.8, \"opp_ft_fga\": 0.197, \"arena\": \"Bankers Life Fieldhouse\", \"attend\": 717542.0, \"attend_g\": 17501.0}, {\"Unnamed: 0\": 123, \"abbreviation\": \"IND\", \"season\": 2015, \"avg_player_height\": 200.152, \"lg\": \"NBA\", \"team\": \"Indiana Pacers\", \"playoffs\": false, \"age\": 28.3, \"w\": 38.0, \"l\": 44.0, \"pw\": 42.0, \"pl\": 40.0, \"mov\": 0.28, \"sos\": -0.51, \"srs\": -0.23, \"o_rtg\": 103.5, \"d_rtg\": 103.2, \"n_rtg\": 0.3, \"pace\": 93.2, \"f_tr\": 0.266, \"x3p_ar\": 0.255, \"ts_percent\": 0.523, \"e_fg_percent\": 0.484, \"tov_percent\": 13.1, \"orb_percent\": 24.0, \"ft_fga\": 0.201, \"opp_e_fg_percent\": 0.478, \"opp_tov_percent\": 12.0, \"opp_drb_percent\": 77.9, \"opp_ft_fga\": 0.217, \"arena\": \"Bankers Life Fieldhouse\", \"attend\": 691434.0, \"attend_g\": 16864.0}, {\"Unnamed: 0\": 124, \"abbreviation\": \"IND\", \"season\": 2016, \"avg_player_height\": 199.23125, \"lg\": \"NBA\", \"team\": \"Indiana Pacers\", \"playoffs\": true, \"age\": 26.9, \"w\": 45.0, \"l\": 37.0, \"pw\": 46.0, \"pl\": 36.0, \"mov\": 1.71, \"sos\": -0.09, \"srs\": 1.62, \"o_rtg\": 104.6, \"d_rtg\": 102.9, \"n_rtg\": 1.7, \"pace\": 96.6, \"f_tr\": 0.268, \"x3p_ar\": 0.27, \"ts_percent\": 0.536, \"e_fg_percent\": 0.497, \"tov_percent\": 13.5, \"orb_percent\": 23.4, \"ft_fga\": 0.205, \"opp_e_fg_percent\": 0.489, \"opp_tov_percent\": 14.3, \"opp_drb_percent\": 76.0, \"opp_ft_fga\": 0.205, \"arena\": \"Bankers Life Fieldhouse\", \"attend\": 690733.0, \"attend_g\": 16847.0}, {\"Unnamed: 0\": 125, \"abbreviation\": \"IND\", \"season\": 2017, \"avg_player_height\": 200.52631578947367, \"lg\": \"NBA\", \"team\": \"Indiana Pacers\", \"playoffs\": true, \"age\": 27.0, \"w\": 42.0, \"l\": 40.0, \"pw\": 40.0, \"pl\": 42.0, \"mov\": -0.22, \"sos\": -0.42, \"srs\": -0.64, \"o_rtg\": 108.6, \"d_rtg\": 108.8, \"n_rtg\": -0.2, \"pace\": 95.9, \"f_tr\": 0.261, \"x3p_ar\": 0.272, \"ts_percent\": 0.558, \"e_fg_percent\": 0.516, \"tov_percent\": 12.8, \"orb_percent\": 21.2, \"ft_fga\": 0.212, \"opp_e_fg_percent\": 0.512, \"opp_tov_percent\": 13.6, \"opp_drb_percent\": 75.5, \"opp_ft_fga\": 0.225, \"arena\": \"Bankers Life Fieldhouse\", \"attend\": 684578.0, \"attend_g\": 16697.0}, {\"Unnamed: 0\": 126, \"abbreviation\": \"IND\", \"season\": 2018, \"avg_player_height\": 200.06235294117647, \"lg\": \"NBA\", \"team\": \"Indiana Pacers\", \"playoffs\": true, \"age\": 26.2, \"w\": 48.0, \"l\": 34.0, \"pw\": 45.0, \"pl\": 37.0, \"mov\": 1.38, \"sos\": -0.2, \"srs\": 1.18, \"o_rtg\": 109.5, \"d_rtg\": 108.1, \"n_rtg\": 1.4, \"pace\": 96.0, \"f_tr\": 0.222, \"x3p_ar\": 0.284, \"ts_percent\": 0.557, \"e_fg_percent\": 0.525, \"tov_percent\": 12.3, \"orb_percent\": 22.7, \"ft_fga\": 0.173, \"opp_e_fg_percent\": 0.527, \"opp_tov_percent\": 14.2, \"opp_drb_percent\": 76.2, \"opp_ft_fga\": 0.174, \"arena\": \"Bankers Life Fieldhouse\", \"attend\": 658119.0, \"attend_g\": 16052.0}, {\"Unnamed: 0\": 127, \"abbreviation\": \"IND\", \"season\": 2019, \"avg_player_height\": 198.71764705882353, \"lg\": \"NBA\", \"team\": \"Indiana Pacers\", \"playoffs\": true, \"age\": 27.0, \"w\": 48.0, \"l\": 34.0, \"pw\": 50.0, \"pl\": 32.0, \"mov\": 3.33, \"sos\": -0.57, \"srs\": 2.76, \"o_rtg\": 109.9, \"d_rtg\": 106.5, \"n_rtg\": 3.4, \"pace\": 98.1, \"f_tr\": 0.242, \"x3p_ar\": 0.292, \"ts_percent\": 0.561, \"e_fg_percent\": 0.53, \"tov_percent\": 12.4, \"orb_percent\": 21.9, \"ft_fga\": 0.182, \"opp_e_fg_percent\": 0.516, \"opp_tov_percent\": 14.1, \"opp_drb_percent\": 76.2, \"opp_ft_fga\": 0.184, \"arena\": \"Bankers Life Fieldhouse\", \"attend\": 689310.0, \"attend_g\": 16812.0}, {\"Unnamed: 0\": 128, \"abbreviation\": \"IND\", \"season\": 2020, \"avg_player_height\": 198.7884210526316, \"lg\": \"NBA\", \"team\": \"Indiana Pacers\", \"playoffs\": true, \"age\": 25.6, \"w\": 45.0, \"l\": 28.0, \"pw\": 41.0, \"pl\": 32.0, \"mov\": 1.96, \"sos\": -0.33, \"srs\": 1.63, \"o_rtg\": 110.0, \"d_rtg\": 108.0, \"n_rtg\": 2.0, \"pace\": 98.9, \"f_tr\": 0.216, \"x3p_ar\": 0.317, \"ts_percent\": 0.565, \"e_fg_percent\": 0.534, \"tov_percent\": 12.0, \"orb_percent\": 20.0, \"ft_fga\": 0.17, \"opp_e_fg_percent\": 0.511, \"opp_tov_percent\": 13.0, \"opp_drb_percent\": 76.7, \"opp_ft_fga\": 0.192, \"arena\": \"Bankers Life Fieldhouse\", \"attend\": 529002.0, \"attend_g\": 16531.0}, {\"Unnamed: 0\": 129, \"abbreviation\": \"IND\", \"season\": 2021, \"avg_player_height\": 196.088, \"lg\": \"NBA\", \"team\": \"Indiana Pacers\", \"playoffs\": false, \"age\": 26.5, \"w\": 34.0, \"l\": 38.0, \"pw\": 36.0, \"pl\": 36.0, \"mov\": -0.04, \"sos\": -0.08, \"srs\": -0.13, \"o_rtg\": 112.4, \"d_rtg\": 112.4, \"n_rtg\": 0.0, \"pace\": 101.6, \"f_tr\": 0.227, \"x3p_ar\": 0.372, \"ts_percent\": 0.575, \"e_fg_percent\": 0.542, \"tov_percent\": 11.9, \"orb_percent\": 20.2, \"ft_fga\": 0.18, \"opp_e_fg_percent\": 0.531, \"opp_tov_percent\": 12.7, \"opp_drb_percent\": 74.9, \"opp_ft_fga\": 0.201, \"arena\": \"Bankers Life Fieldhouse\", \"attend\": null, \"attend_g\": null}, {\"Unnamed: 0\": 130, \"abbreviation\": \"IND\", \"season\": 2022, \"avg_player_height\": 198.12, \"lg\": \"NBA\", \"team\": \"Indiana Pacers\", \"playoffs\": false, \"age\": 26.0, \"w\": 25.0, \"l\": 57.0, \"pw\": 32.0, \"pl\": 50.0, \"mov\": -3.48, \"sos\": 0.22, \"srs\": -3.26, \"o_rtg\": 112.6, \"d_rtg\": 116.1, \"n_rtg\": -3.5, \"pace\": 98.0, \"f_tr\": 0.239, \"x3p_ar\": 0.395, \"ts_percent\": 0.564, \"e_fg_percent\": 0.531, \"tov_percent\": 12.7, \"orb_percent\": 25.5, \"ft_fga\": 0.184, \"opp_e_fg_percent\": 0.552, \"opp_tov_percent\": 11.9, \"opp_drb_percent\": 76.2, \"opp_ft_fga\": 0.204, \"arena\": \"Gainbridge Fieldhouse\", \"attend\": 588743.0, \"attend_g\": 14360.0}, {\"Unnamed: 0\": 131, \"abbreviation\": \"LAC\", \"season\": 2012, \"avg_player_height\": 199.136, \"lg\": \"NBA\", \"team\": \"Los Angeles Clippers\", \"playoffs\": true, \"age\": 27.3, \"w\": 40.0, \"l\": 26.0, \"pw\": 39.0, \"pl\": 27.0, \"mov\": 2.56, \"sos\": 0.26, \"srs\": 2.82, \"o_rtg\": 108.5, \"d_rtg\": 105.7, \"n_rtg\": 2.8, \"pace\": 89.2, \"f_tr\": 0.287, \"x3p_ar\": 0.269, \"ts_percent\": 0.533, \"e_fg_percent\": 0.502, \"tov_percent\": 12.7, \"orb_percent\": 29.5, \"ft_fga\": 0.195, \"opp_e_fg_percent\": 0.492, \"opp_tov_percent\": 14.2, \"opp_drb_percent\": 73.2, \"opp_ft_fga\": 0.245, \"arena\": \"STAPLES Center\", \"attend\": 634237.0, \"attend_g\": 19219.0}, {\"Unnamed: 0\": 132, \"abbreviation\": \"LAC\", \"season\": 2013, \"avg_player_height\": 199.67222222222225, \"lg\": \"NBA\", \"team\": \"Los Angeles Clippers\", \"playoffs\": true, \"age\": 28.8, \"w\": 56.0, \"l\": 26.0, \"pw\": 59.0, \"pl\": 23.0, \"mov\": 6.45, \"sos\": -0.02, \"srs\": 6.43, \"o_rtg\": 110.6, \"d_rtg\": 103.6, \"n_rtg\": 7.0, \"pace\": 91.1, \"f_tr\": 0.286, \"x3p_ar\": 0.265, \"ts_percent\": 0.557, \"e_fg_percent\": 0.526, \"tov_percent\": 13.9, \"orb_percent\": 28.8, \"ft_fga\": 0.203, \"opp_e_fg_percent\": 0.492, \"opp_tov_percent\": 15.4, \"opp_drb_percent\": 73.5, \"opp_ft_fga\": 0.229, \"arena\": \"STAPLES Center\", \"attend\": 788293.0, \"attend_g\": 19227.0}, {\"Unnamed: 0\": 133, \"abbreviation\": \"LAC\", \"season\": 2014, \"avg_player_height\": 199.39, \"lg\": \"NBA\", \"team\": \"Los Angeles Clippers\", \"playoffs\": true, \"age\": 28.1, \"w\": 57.0, \"l\": 25.0, \"pw\": 59.0, \"pl\": 23.0, \"mov\": 6.98, \"sos\": 0.3, \"srs\": 7.27, \"o_rtg\": 112.1, \"d_rtg\": 104.8, \"n_rtg\": 7.3, \"pace\": 95.9, \"f_tr\": 0.353, \"x3p_ar\": 0.291, \"ts_percent\": 0.567, \"e_fg_percent\": 0.526, \"tov_percent\": 12.7, \"orb_percent\": 25.0, \"ft_fga\": 0.258, \"opp_e_fg_percent\": 0.484, \"opp_tov_percent\": 13.8, \"opp_drb_percent\": 72.5, \"opp_ft_fga\": 0.222, \"arena\": \"STAPLES Center\", \"attend\": 787692.0, \"attend_g\": 19212.0}, {\"Unnamed: 0\": 134, \"abbreviation\": \"LAC\", \"season\": 2015, \"avg_player_height\": 199.54875, \"lg\": \"NBA\", \"team\": \"Los Angeles Clippers\", \"playoffs\": true, \"age\": 28.8, \"w\": 56.0, \"l\": 26.0, \"pw\": 58.0, \"pl\": 24.0, \"mov\": 6.59, \"sos\": 0.22, \"srs\": 6.8, \"o_rtg\": 112.4, \"d_rtg\": 105.5, \"n_rtg\": 6.9, \"pace\": 94.7, \"f_tr\": 0.303, \"x3p_ar\": 0.322, \"ts_percent\": 0.565, \"e_fg_percent\": 0.533, \"tov_percent\": 11.6, \"orb_percent\": 22.8, \"ft_fga\": 0.215, \"opp_e_fg_percent\": 0.493, \"opp_tov_percent\": 13.2, \"opp_drb_percent\": 75.7, \"opp_ft_fga\": 0.231, \"arena\": \"STAPLES Center\", \"attend\": 785892.0, \"attend_g\": 19168.0}, {\"Unnamed: 0\": 135, \"abbreviation\": \"LAC\", \"season\": 2016, \"avg_player_height\": 200.152, \"lg\": \"NBA\", \"team\": \"Los Angeles Clippers\", \"playoffs\": true, \"age\": 29.7, \"w\": 53.0, \"l\": 29.0, \"pw\": 53.0, \"pl\": 29.0, \"mov\": 4.28, \"sos\": -0.15, \"srs\": 4.13, \"o_rtg\": 108.3, \"d_rtg\": 103.8, \"n_rtg\": 4.5, \"pace\": 95.8, \"f_tr\": 0.318, \"x3p_ar\": 0.324, \"ts_percent\": 0.556, \"e_fg_percent\": 0.524, \"tov_percent\": 12.1, \"orb_percent\": 20.1, \"ft_fga\": 0.22, \"opp_e_fg_percent\": 0.48, \"opp_tov_percent\": 13.8, \"opp_drb_percent\": 73.8, \"opp_ft_fga\": 0.222, \"arena\": \"STAPLES Center\", \"attend\": 786910.0, \"attend_g\": 19193.0}, {\"Unnamed: 0\": 136, \"abbreviation\": \"LAC\", \"season\": 2017, \"avg_player_height\": 199.59052631578948, \"lg\": \"NBA\", \"team\": \"Los Angeles Clippers\", \"playoffs\": true, \"age\": 30.0, \"w\": 51.0, \"l\": 31.0, \"pw\": 52.0, \"pl\": 30.0, \"mov\": 4.29, \"sos\": 0.13, \"srs\": 4.42, \"o_rtg\": 112.7, \"d_rtg\": 108.2, \"n_rtg\": 4.5, \"pace\": 96.1, \"f_tr\": 0.312, \"x3p_ar\": 0.329, \"ts_percent\": 0.574, \"e_fg_percent\": 0.537, \"tov_percent\": 12.0, \"orb_percent\": 21.5, \"ft_fga\": 0.233, \"opp_e_fg_percent\": 0.506, \"opp_tov_percent\": 12.1, \"opp_drb_percent\": 76.9, \"opp_ft_fga\": 0.211, \"arena\": \"STAPLES Center\", \"attend\": 782609.0, \"attend_g\": 19088.0}, {\"Unnamed: 0\": 137, \"abbreviation\": \"LAC\", \"season\": 2018, \"avg_player_height\": 200.39263157894737, \"lg\": \"NBA\", \"team\": \"Los Angeles Clippers\", \"playoffs\": false, \"age\": 27.0, \"w\": 42.0, \"l\": 40.0, \"pw\": 41.0, \"pl\": 41.0, \"mov\": 0.04, \"sos\": 0.11, \"srs\": 0.15, \"o_rtg\": 110.3, \"d_rtg\": 110.2, \"n_rtg\": 0.1, \"pace\": 98.7, \"f_tr\": 0.299, \"x3p_ar\": 0.314, \"ts_percent\": 0.564, \"e_fg_percent\": 0.527, \"tov_percent\": 13.2, \"orb_percent\": 23.5, \"ft_fga\": 0.222, \"opp_e_fg_percent\": 0.52, \"opp_tov_percent\": 12.6, \"opp_drb_percent\": 76.1, \"opp_ft_fga\": 0.203, \"arena\": \"STAPLES Center\", \"attend\": 697812.0, \"attend_g\": 17020.0}, {\"Unnamed: 0\": 138, \"abbreviation\": \"LAC\", \"season\": 2019, \"avg_player_height\": 199.46470588235297, \"lg\": \"NBA\", \"team\": \"Los Angeles Clippers\", \"playoffs\": true, \"age\": 27.2, \"w\": 48.0, \"l\": 34.0, \"pw\": 43.0, \"pl\": 39.0, \"mov\": 0.85, \"sos\": 0.23, \"srs\": 1.09, \"o_rtg\": 112.4, \"d_rtg\": 111.5, \"n_rtg\": 0.9, \"pace\": 101.7, \"f_tr\": 0.326, \"x3p_ar\": 0.295, \"ts_percent\": 0.575, \"e_fg_percent\": 0.529, \"tov_percent\": 12.7, \"orb_percent\": 22.0, \"ft_fga\": 0.258, \"opp_e_fg_percent\": 0.514, \"opp_tov_percent\": 11.4, \"opp_drb_percent\": 76.0, \"opp_ft_fga\": 0.224, \"arena\": \"STAPLES Center\", \"attend\": 710327.0, \"attend_g\": 17325.0}, {\"Unnamed: 0\": 139, \"abbreviation\": \"LAC\", \"season\": 2020, \"avg_player_height\": 198.82555555555555, \"lg\": \"NBA\", \"team\": \"Los Angeles Clippers\", \"playoffs\": true, \"age\": 27.4, \"w\": 49.0, \"l\": 23.0, \"pw\": 50.0, \"pl\": 22.0, \"mov\": 6.44, \"sos\": 0.21, \"srs\": 6.66, \"o_rtg\": 113.9, \"d_rtg\": 107.6, \"n_rtg\": 6.3, \"pace\": 101.5, \"f_tr\": 0.295, \"x3p_ar\": 0.375, \"ts_percent\": 0.577, \"e_fg_percent\": 0.535, \"tov_percent\": 12.6, \"orb_percent\": 23.5, \"ft_fga\": 0.233, \"opp_e_fg_percent\": 0.506, \"opp_tov_percent\": 12.2, \"opp_drb_percent\": 77.6, \"opp_ft_fga\": 0.206, \"arena\": \"STAPLES Center\", \"attend\": 610176.0, \"attend_g\": 19068.0}, {\"Unnamed: 0\": 140, \"abbreviation\": \"LAC\", \"season\": 2021, \"avg_player_height\": 199.39, \"lg\": \"NBA\", \"team\": \"Los Angeles Clippers\", \"playoffs\": true, \"age\": 28.8, \"w\": 47.0, \"l\": 25.0, \"pw\": 49.0, \"pl\": 23.0, \"mov\": 6.18, \"sos\": -0.16, \"srs\": 6.02, \"o_rtg\": 117.6, \"d_rtg\": 111.2, \"n_rtg\": 6.4, \"pace\": 96.9, \"f_tr\": 0.222, \"x3p_ar\": 0.4, \"ts_percent\": 0.599, \"e_fg_percent\": 0.564, \"tov_percent\": 12.2, \"orb_percent\": 22.7, \"ft_fga\": 0.186, \"opp_e_fg_percent\": 0.531, \"opp_tov_percent\": 11.9, \"opp_drb_percent\": 79.1, \"opp_ft_fga\": 0.186, \"arena\": \"STAPLES Center\", \"attend\": 13901.0, \"attend_g\": 386.0}, {\"Unnamed: 0\": 141, \"abbreviation\": \"LAC\", \"season\": 2022, \"avg_player_height\": 198.12, \"lg\": \"NBA\", \"team\": \"Los Angeles Clippers\", \"playoffs\": false, \"age\": 27.5, \"w\": 42.0, \"l\": 40.0, \"pw\": 41.0, \"pl\": 41.0, \"mov\": 0.02, \"sos\": 0.06, \"srs\": 0.09, \"o_rtg\": 110.1, \"d_rtg\": 110.1, \"n_rtg\": 0.0, \"pace\": 98.0, \"f_tr\": 0.224, \"x3p_ar\": 0.391, \"ts_percent\": 0.564, \"e_fg_percent\": 0.531, \"tov_percent\": 12.5, \"orb_percent\": 20.6, \"ft_fga\": 0.178, \"opp_e_fg_percent\": 0.514, \"opp_tov_percent\": 12.0, \"opp_drb_percent\": 74.4, \"opp_ft_fga\": 0.167, \"arena\": \"Crypto.com Arena\", \"attend\": 694005.0, \"attend_g\": 16927.0}, {\"Unnamed: 0\": 142, \"abbreviation\": \"LAL\", \"season\": 2012, \"avg_player_height\": 199.7075, \"lg\": \"NBA\", \"team\": \"Los Angeles Lakers\", \"playoffs\": true, \"age\": 29.7, \"w\": 41.0, \"l\": 25.0, \"pw\": 36.0, \"pl\": 30.0, \"mov\": 1.42, \"sos\": 0.54, \"srs\": 1.96, \"o_rtg\": 106.0, \"d_rtg\": 104.4, \"n_rtg\": 1.6, \"pace\": 90.5, \"f_tr\": 0.299, \"x3p_ar\": 0.209, \"ts_percent\": 0.534, \"e_fg_percent\": 0.491, \"tov_percent\": 14.2, \"orb_percent\": 29.1, \"ft_fga\": 0.226, \"opp_e_fg_percent\": 0.476, \"opp_tov_percent\": 10.7, \"opp_drb_percent\": 74.8, \"opp_ft_fga\": 0.158, \"arena\": \"STAPLES Center\", \"attend\": 626901.0, \"attend_g\": 18997.0}, {\"Unnamed: 0\": 143, \"abbreviation\": \"LAL\", \"season\": 2013, \"avg_player_height\": 200.94222222222223, \"lg\": \"NBA\", \"team\": \"Los Angeles Lakers\", \"playoffs\": true, \"age\": 30.7, \"w\": 45.0, \"l\": 37.0, \"pw\": 44.0, \"pl\": 38.0, \"mov\": 1.16, \"sos\": 0.32, \"srs\": 1.48, \"o_rtg\": 107.8, \"d_rtg\": 106.6, \"n_rtg\": 1.2, \"pace\": 94.4, \"f_tr\": 0.345, \"x3p_ar\": 0.303, \"ts_percent\": 0.548, \"e_fg_percent\": 0.512, \"tov_percent\": 13.9, \"orb_percent\": 27.0, \"ft_fga\": 0.239, \"opp_e_fg_percent\": 0.496, \"opp_tov_percent\": 11.9, \"opp_drb_percent\": 74.3, \"opp_ft_fga\": 0.163, \"arena\": \"STAPLES Center\", \"attend\": 778877.0, \"attend_g\": 18997.0}, {\"Unnamed: 0\": 144, \"abbreviation\": \"LAL\", \"season\": 2014, \"avg_player_height\": 200.3777777777778, \"lg\": \"NBA\", \"team\": \"Los Angeles Lakers\", \"playoffs\": false, \"age\": 26.8, \"w\": 27.0, \"l\": 55.0, \"pw\": 25.0, \"pl\": 57.0, \"mov\": -6.29, \"sos\": 0.96, \"srs\": -5.33, \"o_rtg\": 104.2, \"d_rtg\": 110.6, \"n_rtg\": -6.4, \"pace\": 98.7, \"f_tr\": 0.263, \"x3p_ar\": 0.291, \"ts_percent\": 0.542, \"e_fg_percent\": 0.505, \"tov_percent\": 13.7, \"orb_percent\": 20.2, \"ft_fga\": 0.199, \"opp_e_fg_percent\": 0.513, \"opp_tov_percent\": 12.4, \"opp_drb_percent\": 71.0, \"opp_ft_fga\": 0.192, \"arena\": \"STAPLES Center\", \"attend\": 771974.0, \"attend_g\": 18829.0}, {\"Unnamed: 0\": 145, \"abbreviation\": \"LAL\", \"season\": 2015, \"avg_player_height\": 202.01466666666667, \"lg\": \"NBA\", \"team\": \"Los Angeles Lakers\", \"playoffs\": false, \"age\": 27.0, \"w\": 21.0, \"l\": 61.0, \"pw\": 23.0, \"pl\": 59.0, \"mov\": -6.84, \"sos\": 0.67, \"srs\": -6.17, \"o_rtg\": 103.4, \"d_rtg\": 110.6, \"n_rtg\": -7.2, \"pace\": 94.0, \"f_tr\": 0.276, \"x3p_ar\": 0.22, \"ts_percent\": 0.513, \"e_fg_percent\": 0.473, \"tov_percent\": 12.1, \"orb_percent\": 25.4, \"ft_fga\": 0.204, \"opp_e_fg_percent\": 0.518, \"opp_tov_percent\": 12.1, \"opp_drb_percent\": 76.3, \"opp_ft_fga\": 0.231, \"arena\": \"STAPLES Center\", \"attend\": 768244.0, \"attend_g\": 18738.0}, {\"Unnamed: 0\": 146, \"abbreviation\": \"LAL\", \"season\": 2016, \"avg_player_height\": 202.565, \"lg\": \"NBA\", \"team\": \"Los Angeles Lakers\", \"playoffs\": false, \"age\": 26.5, \"w\": 17.0, \"l\": 65.0, \"pw\": 17.0, \"pl\": 65.0, \"mov\": -9.56, \"sos\": 0.64, \"srs\": -8.92, \"o_rtg\": 101.6, \"d_rtg\": 111.6, \"n_rtg\": -10.0, \"pace\": 95.6, \"f_tr\": 0.292, \"x3p_ar\": 0.29, \"ts_percent\": 0.509, \"e_fg_percent\": 0.46, \"tov_percent\": 12.5, \"orb_percent\": 23.1, \"ft_fga\": 0.228, \"opp_e_fg_percent\": 0.523, \"opp_tov_percent\": 11.6, \"opp_drb_percent\": 74.7, \"opp_ft_fga\": 0.202, \"arena\": \"STAPLES Center\", \"attend\": 778877.0, \"attend_g\": 18997.0}, {\"Unnamed: 0\": 147, \"abbreviation\": \"LAL\", \"season\": 2017, \"avg_player_height\": 201.168, \"lg\": \"NBA\", \"team\": \"Los Angeles Lakers\", \"playoffs\": false, \"age\": 25.1, \"w\": 26.0, \"l\": 56.0, \"pw\": 24.0, \"pl\": 58.0, \"mov\": -6.88, \"sos\": 0.58, \"srs\": -6.29, \"o_rtg\": 106.0, \"d_rtg\": 113.0, \"n_rtg\": -7.0, \"pace\": 98.5, \"f_tr\": 0.259, \"x3p_ar\": 0.295, \"ts_percent\": 0.537, \"e_fg_percent\": 0.501, \"tov_percent\": 13.5, \"orb_percent\": 25.0, \"ft_fga\": 0.195, \"opp_e_fg_percent\": 0.542, \"opp_tov_percent\": 13.0, \"opp_drb_percent\": 75.8, \"opp_ft_fga\": 0.213, \"arena\": \"STAPLES Center\", \"attend\": 776917.0, \"attend_g\": 18949.0}, {\"Unnamed: 0\": 148, \"abbreviation\": \"LAL\", \"season\": 2018, \"avg_player_height\": 201.041, \"lg\": \"NBA\", \"team\": \"Los Angeles Lakers\", \"playoffs\": false, \"age\": 23.7, \"w\": 35.0, \"l\": 47.0, \"pw\": 37.0, \"pl\": 45.0, \"mov\": -1.55, \"sos\": 0.11, \"srs\": -1.44, \"o_rtg\": 106.5, \"d_rtg\": 108.0, \"n_rtg\": -1.5, \"pace\": 100.3, \"f_tr\": 0.264, \"x3p_ar\": 0.329, \"ts_percent\": 0.548, \"e_fg_percent\": 0.517, \"tov_percent\": 13.8, \"orb_percent\": 23.6, \"ft_fga\": 0.188, \"opp_e_fg_percent\": 0.514, \"opp_tov_percent\": 12.5, \"opp_drb_percent\": 77.7, \"opp_ft_fga\": 0.19, \"arena\": \"STAPLES Center\", \"attend\": 776327.0, \"attend_g\": 18935.0}, {\"Unnamed: 0\": 149, \"abbreviation\": \"LAL\", \"season\": 2019, \"avg_player_height\": 199.10777777777776, \"lg\": \"NBA\", \"team\": \"Los Angeles Lakers\", \"playoffs\": false, \"age\": 26.2, \"w\": 37.0, \"l\": 45.0, \"pw\": 37.0, \"pl\": 45.0, \"mov\": -1.72, \"sos\": 0.39, \"srs\": -1.33, \"o_rtg\": 107.8, \"d_rtg\": 109.5, \"n_rtg\": -1.7, \"pace\": 103.2, \"f_tr\": 0.257, \"x3p_ar\": 0.342, \"ts_percent\": 0.554, \"e_fg_percent\": 0.527, \"tov_percent\": 13.4, \"orb_percent\": 22.2, \"ft_fga\": 0.18, \"opp_e_fg_percent\": 0.516, \"opp_tov_percent\": 12.2, \"opp_drb_percent\": 76.4, \"opp_ft_fga\": 0.192, \"arena\": \"STAPLES Center\", \"attend\": 778877.0, \"attend_g\": 18997.0}, {\"Unnamed: 0\": 150, \"abbreviation\": \"LAL\", \"season\": 2020, \"avg_player_height\": 200.66, \"lg\": \"NBA\", \"team\": \"Los Angeles Lakers\", \"playoffs\": true, \"age\": 29.5, \"w\": 52.0, \"l\": 19.0, \"pw\": 48.0, \"pl\": 23.0, \"mov\": 5.79, \"sos\": 0.49, \"srs\": 6.28, \"o_rtg\": 112.0, \"d_rtg\": 106.3, \"n_rtg\": 5.7, \"pace\": 100.9, \"f_tr\": 0.276, \"x3p_ar\": 0.358, \"ts_percent\": 0.573, \"e_fg_percent\": 0.542, \"tov_percent\": 13.3, \"orb_percent\": 24.5, \"ft_fga\": 0.201, \"opp_e_fg_percent\": 0.515, \"opp_tov_percent\": 14.1, \"opp_drb_percent\": 78.8, \"opp_ft_fga\": 0.205, \"arena\": \"STAPLES Center\", \"attend\": 588907.0, \"attend_g\": 18997.0}, {\"Unnamed: 0\": 151, \"abbreviation\": \"LAL\", \"season\": 2021, \"avg_player_height\": 197.03142857142856, \"lg\": \"NBA\", \"team\": \"Los Angeles Lakers\", \"playoffs\": true, \"age\": 28.2, \"w\": 42.0, \"l\": 30.0, \"pw\": 42.0, \"pl\": 30.0, \"mov\": 2.79, \"sos\": -0.03, \"srs\": 2.77, \"o_rtg\": 109.9, \"d_rtg\": 107.1, \"n_rtg\": 2.8, \"pace\": 98.7, \"f_tr\": 0.271, \"x3p_ar\": 0.363, \"ts_percent\": 0.569, \"e_fg_percent\": 0.536, \"tov_percent\": 13.6, \"orb_percent\": 22.5, \"ft_fga\": 0.2, \"opp_e_fg_percent\": 0.526, \"opp_tov_percent\": 13.7, \"opp_drb_percent\": 79.7, \"opp_ft_fga\": 0.184, \"arena\": \"STAPLES Center\", \"attend\": 23313.0, \"attend_g\": 648.0}, {\"Unnamed: 0\": 152, \"abbreviation\": \"LAL\", \"season\": 2022, \"avg_player_height\": 198.4022222222222, \"lg\": \"NBA\", \"team\": \"Los Angeles Lakers\", \"playoffs\": false, \"age\": 30.2, \"w\": 33.0, \"l\": 49.0, \"pw\": 33.0, \"pl\": 49.0, \"mov\": -3.05, \"sos\": -0.03, \"srs\": -3.08, \"o_rtg\": 110.3, \"d_rtg\": 113.3, \"n_rtg\": -3.0, \"pace\": 100.1, \"f_tr\": 0.259, \"x3p_ar\": 0.388, \"ts_percent\": 0.567, \"e_fg_percent\": 0.537, \"tov_percent\": 12.8, \"orb_percent\": 21.1, \"ft_fga\": 0.19, \"opp_e_fg_percent\": 0.54, \"opp_tov_percent\": 12.2, \"opp_drb_percent\": 75.8, \"opp_ft_fga\": 0.192, \"arena\": \"Crypto.com Arena\", \"attend\": 764631.0, \"attend_g\": 18650.0}, {\"Unnamed: 0\": 153, \"abbreviation\": \"MEM\", \"season\": 2012, \"avg_player_height\": 200.81875, \"lg\": \"NBA\", \"team\": \"Memphis Grizzlies\", \"playoffs\": true, \"age\": 25.6, \"w\": 41.0, \"l\": 25.0, \"pw\": 38.0, \"pl\": 28.0, \"mov\": 2.02, \"sos\": 0.42, \"srs\": 2.43, \"o_rtg\": 104.0, \"d_rtg\": 101.8, \"n_rtg\": 2.2, \"pace\": 90.8, \"f_tr\": 0.277, \"x3p_ar\": 0.157, \"ts_percent\": 0.515, \"e_fg_percent\": 0.473, \"tov_percent\": 13.6, \"orb_percent\": 29.8, \"ft_fga\": 0.211, \"opp_e_fg_percent\": 0.485, \"opp_tov_percent\": 16.3, \"opp_drb_percent\": 72.7, \"opp_ft_fga\": 0.227, \"arena\": \"FedEx Forum\", \"attend\": 518446.0, \"attend_g\": 15710.0}, {\"Unnamed: 0\": 154, \"abbreviation\": \"MEM\", \"season\": 2013, \"avg_player_height\": 200.9775, \"lg\": \"NBA\", \"team\": \"Memphis Grizzlies\", \"playoffs\": true, \"age\": 27.0, \"w\": 56.0, \"l\": 26.0, \"pw\": 54.0, \"pl\": 28.0, \"mov\": 4.15, \"sos\": 0.18, \"srs\": 4.32, \"o_rtg\": 104.9, \"d_rtg\": 100.3, \"n_rtg\": 4.6, \"pace\": 88.4, \"f_tr\": 0.261, \"x3p_ar\": 0.166, \"ts_percent\": 0.514, \"e_fg_percent\": 0.472, \"tov_percent\": 13.3, \"orb_percent\": 31.0, \"ft_fga\": 0.202, \"opp_e_fg_percent\": 0.475, \"opp_tov_percent\": 15.2, \"opp_drb_percent\": 74.3, \"opp_ft_fga\": 0.209, \"arena\": \"FedEx Forum\", \"attend\": 681613.0, \"attend_g\": 16625.0}, {\"Unnamed: 0\": 155, \"abbreviation\": \"MEM\", \"season\": 2014, \"avg_player_height\": 199.27222222222224, \"lg\": \"NBA\", \"team\": \"Memphis Grizzlies\", \"playoffs\": true, \"age\": 28.5, \"w\": 50.0, \"l\": 32.0, \"pw\": 46.0, \"pl\": 36.0, \"mov\": 1.57, \"sos\": 0.61, \"srs\": 2.18, \"o_rtg\": 106.3, \"d_rtg\": 104.6, \"n_rtg\": 1.7, \"pace\": 89.9, \"f_tr\": 0.248, \"x3p_ar\": 0.171, \"ts_percent\": 0.529, \"e_fg_percent\": 0.494, \"tov_percent\": 13.1, \"orb_percent\": 28.3, \"ft_fga\": 0.184, \"opp_e_fg_percent\": 0.497, \"opp_tov_percent\": 13.8, \"opp_drb_percent\": 75.7, \"opp_ft_fga\": 0.199, \"arena\": \"FedEx Forum\", \"attend\": 685458.0, \"attend_g\": 16718.0}, {\"Unnamed: 0\": 156, \"abbreviation\": \"MEM\", \"season\": 2015, \"avg_player_height\": 199.20857142857145, \"lg\": \"NBA\", \"team\": \"Memphis Grizzlies\", \"playoffs\": true, \"age\": 29.6, \"w\": 55.0, \"l\": 27.0, \"pw\": 50.0, \"pl\": 32.0, \"mov\": 3.24, \"sos\": 0.38, \"srs\": 3.62, \"o_rtg\": 105.7, \"d_rtg\": 102.2, \"n_rtg\": 3.5, \"pace\": 92.0, \"f_tr\": 0.276, \"x3p_ar\": 0.184, \"ts_percent\": 0.531, \"e_fg_percent\": 0.489, \"tov_percent\": 12.6, \"orb_percent\": 24.7, \"ft_fga\": 0.214, \"opp_e_fg_percent\": 0.492, \"opp_tov_percent\": 14.5, \"opp_drb_percent\": 75.3, \"opp_ft_fga\": 0.183, \"arena\": \"FedEx Forum\", \"attend\": 710502.0, \"attend_g\": 17329.0}, {\"Unnamed: 0\": 157, \"abbreviation\": \"MEM\", \"season\": 2016, \"avg_player_height\": 200.3425, \"lg\": \"NBA\", \"team\": \"Memphis Grizzlies\", \"playoffs\": true, \"age\": 30.5, \"w\": 42.0, \"l\": 40.0, \"pw\": 35.0, \"pl\": 47.0, \"mov\": -2.24, \"sos\": 0.11, \"srs\": -2.14, \"o_rtg\": 105.4, \"d_rtg\": 107.8, \"n_rtg\": -2.4, \"pace\": 93.3, \"f_tr\": 0.295, \"x3p_ar\": 0.222, \"ts_percent\": 0.524, \"e_fg_percent\": 0.477, \"tov_percent\": 12.3, \"orb_percent\": 25.3, \"ft_fga\": 0.231, \"opp_e_fg_percent\": 0.518, \"opp_tov_percent\": 15.2, \"opp_drb_percent\": 75.1, \"opp_ft_fga\": 0.251, \"arena\": \"FedEx Forum\", \"attend\": 701894.0, \"attend_g\": 17119.0}, {\"Unnamed: 0\": 158, \"abbreviation\": \"MEM\", \"season\": 2017, \"avg_player_height\": 199.81333333333333, \"lg\": \"NBA\", \"team\": \"Memphis Grizzlies\", \"playoffs\": true, \"age\": 29.5, \"w\": 43.0, \"l\": 39.0, \"pw\": 42.0, \"pl\": 40.0, \"mov\": 0.49, \"sos\": 0.47, \"srs\": 0.96, \"o_rtg\": 107.7, \"d_rtg\": 107.1, \"n_rtg\": 0.6, \"pace\": 92.3, \"f_tr\": 0.28, \"x3p_ar\": 0.316, \"ts_percent\": 0.535, \"e_fg_percent\": 0.491, \"tov_percent\": 12.1, \"orb_percent\": 24.8, \"ft_fga\": 0.219, \"opp_e_fg_percent\": 0.506, \"opp_tov_percent\": 13.6, \"opp_drb_percent\": 77.5, \"opp_ft_fga\": 0.256, \"arena\": \"FedEx Forum\", \"attend\": 677314.0, \"attend_g\": 16520.0}, {\"Unnamed: 0\": 159, \"abbreviation\": \"MEM\", \"season\": 2018, \"avg_player_height\": 201.0063636363637, \"lg\": \"NBA\", \"team\": \"Memphis Grizzlies\", \"playoffs\": false, \"age\": 26.0, \"w\": 22.0, \"l\": 60.0, \"pw\": 25.0, \"pl\": 57.0, \"mov\": -6.21, \"sos\": 0.39, \"srs\": -5.81, \"o_rtg\": 104.5, \"d_rtg\": 111.0, \"n_rtg\": -6.5, \"pace\": 94.9, \"f_tr\": 0.255, \"x3p_ar\": 0.317, \"ts_percent\": 0.539, \"e_fg_percent\": 0.5, \"tov_percent\": 14.0, \"orb_percent\": 22.4, \"ft_fga\": 0.201, \"opp_e_fg_percent\": 0.529, \"opp_tov_percent\": 13.8, \"opp_drb_percent\": 76.5, \"opp_ft_fga\": 0.256, \"arena\": \"FedEx Forum\", \"attend\": 653863.0, \"attend_g\": 15948.0}, {\"Unnamed: 0\": 160, \"abbreviation\": \"MEM\", \"season\": 2019, \"avg_player_height\": 199.1658823529412, \"lg\": \"NBA\", \"team\": \"Memphis Grizzlies\", \"playoffs\": false, \"age\": 27.7, \"w\": 33.0, \"l\": 49.0, \"pw\": 34.0, \"pl\": 48.0, \"mov\": -2.6, \"sos\": 0.51, \"srs\": -2.08, \"o_rtg\": 106.1, \"d_rtg\": 108.8, \"n_rtg\": -2.7, \"pace\": 96.6, \"f_tr\": 0.272, \"x3p_ar\": 0.342, \"ts_percent\": 0.548, \"e_fg_percent\": 0.508, \"tov_percent\": 12.9, \"orb_percent\": 20.0, \"ft_fga\": 0.21, \"opp_e_fg_percent\": 0.521, \"opp_tov_percent\": 13.9, \"opp_drb_percent\": 77.6, \"opp_ft_fga\": 0.232, \"arena\": \"FedEx Forum\", \"attend\": 638332.0, \"attend_g\": 15569.0}, {\"Unnamed: 0\": 161, \"abbreviation\": \"MEM\", \"season\": 2020, \"avg_player_height\": 198.56823529411764, \"lg\": \"NBA\", \"team\": \"Memphis Grizzlies\", \"playoffs\": false, \"age\": 24.1, \"w\": 34.0, \"l\": 39.0, \"pw\": 34.0, \"pl\": 39.0, \"mov\": -1.07, \"sos\": 0.16, \"srs\": -0.91, \"o_rtg\": 109.2, \"d_rtg\": 110.3, \"n_rtg\": -1.1, \"pace\": 102.8, \"f_tr\": 0.24, \"x3p_ar\": 0.346, \"ts_percent\": 0.561, \"e_fg_percent\": 0.528, \"tov_percent\": 13.2, \"orb_percent\": 23.0, \"ft_fga\": 0.183, \"opp_e_fg_percent\": 0.521, \"opp_tov_percent\": 12.7, \"opp_drb_percent\": 77.8, \"opp_ft_fga\": 0.217, \"arena\": \"FedEx Forum\", \"attend\": 523297.0, \"attend_g\": 15857.0}, {\"Unnamed: 0\": 162, \"abbreviation\": \"MEM\", \"season\": 2021, \"avg_player_height\": 199.04363636363635, \"lg\": \"NBA\", \"team\": \"Memphis Grizzlies\", \"playoffs\": true, \"age\": 24.2, \"w\": 38.0, \"l\": 34.0, \"pw\": 38.0, \"pl\": 34.0, \"mov\": 1.03, \"sos\": 0.04, \"srs\": 1.07, \"o_rtg\": 112.0, \"d_rtg\": 111.0, \"n_rtg\": 1.0, \"pace\": 100.4, \"f_tr\": 0.232, \"x3p_ar\": 0.342, \"ts_percent\": 0.56, \"e_fg_percent\": 0.528, \"tov_percent\": 11.6, \"orb_percent\": 24.2, \"ft_fga\": 0.179, \"opp_e_fg_percent\": 0.535, \"opp_tov_percent\": 13.1, \"opp_drb_percent\": 78.3, \"opp_ft_fga\": 0.196, \"arena\": \"FedEx Forum\", \"attend\": 61449.0, \"attend_g\": 1707.0}, {\"Unnamed: 0\": 163, \"abbreviation\": \"MEM\", \"season\": 2022, \"avg_player_height\": 196.85, \"lg\": \"NBA\", \"team\": \"Memphis Grizzlies\", \"playoffs\": true, \"age\": 24.0, \"w\": 56.0, \"l\": 26.0, \"pw\": 55.0, \"pl\": 27.0, \"mov\": 5.68, \"sos\": -0.32, \"srs\": 5.37, \"o_rtg\": 114.6, \"d_rtg\": 109.0, \"n_rtg\": 5.6, \"pace\": 100.3, \"f_tr\": 0.245, \"x3p_ar\": 0.346, \"ts_percent\": 0.553, \"e_fg_percent\": 0.522, \"tov_percent\": 11.2, \"orb_percent\": 30.0, \"ft_fga\": 0.18, \"opp_e_fg_percent\": 0.523, \"opp_tov_percent\": 13.3, \"opp_drb_percent\": 77.8, \"opp_ft_fga\": 0.195, \"arena\": \"FedEx Forum\", \"attend\": 646785.0, \"attend_g\": 15775.0}, {\"Unnamed: 0\": 164, \"abbreviation\": \"MIA\", \"season\": 2012, \"avg_player_height\": 202.08875, \"lg\": \"NBA\", \"team\": \"Miami Heat\", \"playoffs\": true, \"age\": 28.3, \"w\": 46.0, \"l\": 20.0, \"pw\": 47.0, \"pl\": 19.0, \"mov\": 5.98, \"sos\": -0.27, \"srs\": 5.72, \"o_rtg\": 106.6, \"d_rtg\": 100.2, \"n_rtg\": 6.4, \"pace\": 91.2, \"f_tr\": 0.307, \"x3p_ar\": 0.198, \"ts_percent\": 0.549, \"e_fg_percent\": 0.505, \"tov_percent\": 14.5, \"orb_percent\": 26.6, \"ft_fga\": 0.238, \"opp_e_fg_percent\": 0.479, \"opp_tov_percent\": 15.8, \"opp_drb_percent\": 73.9, \"opp_ft_fga\": 0.2, \"arena\": \"AmericanAirlines Arena\", \"attend\": 657855.0, \"attend_g\": 19935.0}, {\"Unnamed: 0\": 165, \"abbreviation\": \"MIA\", \"season\": 2013, \"avg_player_height\": 201.25764705882352, \"lg\": \"NBA\", \"team\": \"Miami Heat\", \"playoffs\": true, \"age\": 30.3, \"w\": 66.0, \"l\": 16.0, \"pw\": 62.0, \"pl\": 20.0, \"mov\": 7.87, \"sos\": -0.84, \"srs\": 7.03, \"o_rtg\": 112.3, \"d_rtg\": 103.7, \"n_rtg\": 8.6, \"pace\": 90.7, \"f_tr\": 0.297, \"x3p_ar\": 0.285, \"ts_percent\": 0.588, \"e_fg_percent\": 0.552, \"tov_percent\": 13.7, \"orb_percent\": 22.2, \"ft_fga\": 0.224, \"opp_e_fg_percent\": 0.487, \"opp_tov_percent\": 14.8, \"opp_drb_percent\": 73.0, \"opp_ft_fga\": 0.2, \"arena\": \"AmericanAirlines Arena\", \"attend\": 819290.0, \"attend_g\": 19983.0}, {\"Unnamed: 0\": 166, \"abbreviation\": \"MIA\", \"season\": 2014, \"avg_player_height\": 199.1658823529412, \"lg\": \"NBA\", \"team\": \"Miami Heat\", \"playoffs\": true, \"age\": 30.6, \"w\": 54.0, \"l\": 28.0, \"pw\": 54.0, \"pl\": 28.0, \"mov\": 4.76, \"sos\": -0.61, \"srs\": 4.15, \"o_rtg\": 110.9, \"d_rtg\": 105.8, \"n_rtg\": 5.1, \"pace\": 91.2, \"f_tr\": 0.3, \"x3p_ar\": 0.292, \"ts_percent\": 0.59, \"e_fg_percent\": 0.554, \"tov_percent\": 14.6, \"orb_percent\": 20.6, \"ft_fga\": 0.228, \"opp_e_fg_percent\": 0.511, \"opp_tov_percent\": 15.8, \"opp_drb_percent\": 73.0, \"opp_ft_fga\": 0.212, \"arena\": \"AmericanAirlines Arena\", \"attend\": 811036.0, \"attend_g\": 19781.0}, {\"Unnamed: 0\": 167, \"abbreviation\": \"MIA\", \"season\": 2015, \"avg_player_height\": 200.152, \"lg\": \"NBA\", \"team\": \"Miami Heat\", \"playoffs\": false, \"age\": 28.5, \"w\": 37.0, \"l\": 45.0, \"pw\": 33.0, \"pl\": 49.0, \"mov\": -2.6, \"sos\": -0.32, \"srs\": -2.92, \"o_rtg\": 103.9, \"d_rtg\": 106.7, \"n_rtg\": -2.8, \"pace\": 90.9, \"f_tr\": 0.306, \"x3p_ar\": 0.262, \"ts_percent\": 0.54, \"e_fg_percent\": 0.5, \"tov_percent\": 14.5, \"orb_percent\": 23.2, \"ft_fga\": 0.227, \"opp_e_fg_percent\": 0.505, \"opp_tov_percent\": 14.2, \"opp_drb_percent\": 73.4, \"opp_ft_fga\": 0.213, \"arena\": \"AmericanAirlines Arena\", \"attend\": 808223.0, \"attend_g\": 19713.0}, {\"Unnamed: 0\": 168, \"abbreviation\": \"MIA\", \"season\": 2016, \"avg_player_height\": 200.84142857142857, \"lg\": \"NBA\", \"team\": \"Miami Heat\", \"playoffs\": true, \"age\": 28.4, \"w\": 48.0, \"l\": 34.0, \"pw\": 46.0, \"pl\": 36.0, \"mov\": 1.65, \"sos\": -0.14, \"srs\": 1.5, \"o_rtg\": 106.1, \"d_rtg\": 104.4, \"n_rtg\": 1.7, \"pace\": 93.6, \"f_tr\": 0.282, \"x3p_ar\": 0.221, \"ts_percent\": 0.545, \"e_fg_percent\": 0.508, \"tov_percent\": 13.3, \"orb_percent\": 23.8, \"ft_fga\": 0.21, \"opp_e_fg_percent\": 0.485, \"opp_tov_percent\": 12.1, \"opp_drb_percent\": 77.8, \"opp_ft_fga\": 0.196, \"arena\": \"AmericanAirlines Arena\", \"attend\": 809350.0, \"attend_g\": 19740.0}, {\"Unnamed: 0\": 169, \"abbreviation\": \"MIA\", \"season\": 2017, \"avg_player_height\": 199.39, \"lg\": \"NBA\", \"team\": \"Miami Heat\", \"playoffs\": false, \"age\": 26.5, \"w\": 41.0, \"l\": 41.0, \"pw\": 44.0, \"pl\": 38.0, \"mov\": 1.06, \"sos\": -0.29, \"srs\": 0.77, \"o_rtg\": 107.8, \"d_rtg\": 106.7, \"n_rtg\": 1.1, \"pace\": 95.2, \"f_tr\": 0.251, \"x3p_ar\": 0.314, \"ts_percent\": 0.541, \"e_fg_percent\": 0.512, \"tov_percent\": 12.4, \"orb_percent\": 24.2, \"ft_fga\": 0.177, \"opp_e_fg_percent\": 0.496, \"opp_tov_percent\": 12.6, \"opp_drb_percent\": 76.4, \"opp_ft_fga\": 0.22, \"arena\": \"AmericanAirlines Arena\", \"attend\": 805400.0, \"attend_g\": 19644.0}, {\"Unnamed: 0\": 170, \"abbreviation\": \"MIA\", \"season\": 2018, \"avg_player_height\": 202.52266666666668, \"lg\": \"NBA\", \"team\": \"Miami Heat\", \"playoffs\": true, \"age\": 26.5, \"w\": 44.0, \"l\": 38.0, \"pw\": 42.0, \"pl\": 40.0, \"mov\": 0.48, \"sos\": -0.33, \"srs\": 0.15, \"o_rtg\": 106.8, \"d_rtg\": 106.3, \"n_rtg\": 0.5, \"pace\": 95.6, \"f_tr\": 0.229, \"x3p_ar\": 0.358, \"ts_percent\": 0.551, \"e_fg_percent\": 0.52, \"tov_percent\": 13.3, \"orb_percent\": 21.5, \"ft_fga\": 0.173, \"opp_e_fg_percent\": 0.507, \"opp_tov_percent\": 13.1, \"opp_drb_percent\": 79.0, \"opp_ft_fga\": 0.215, \"arena\": \"AmericanAirlines Arena\", \"attend\": 804850.0, \"attend_g\": 19630.0}, {\"Unnamed: 0\": 171, \"abbreviation\": \"MIA\", \"season\": 2019, \"avg_player_height\": 199.67222222222225, \"lg\": \"NBA\", \"team\": \"Miami Heat\", \"playoffs\": false, \"age\": 27.0, \"w\": 39.0, \"l\": 43.0, \"pw\": 40.0, \"pl\": 42.0, \"mov\": -0.23, \"sos\": -0.22, \"srs\": -0.45, \"o_rtg\": 107.3, \"d_rtg\": 107.6, \"n_rtg\": -0.3, \"pace\": 98.2, \"f_tr\": 0.247, \"x3p_ar\": 0.368, \"ts_percent\": 0.542, \"e_fg_percent\": 0.515, \"tov_percent\": 13.1, \"orb_percent\": 24.8, \"ft_fga\": 0.172, \"opp_e_fg_percent\": 0.51, \"opp_tov_percent\": 12.7, \"opp_drb_percent\": 77.6, \"opp_ft_fga\": 0.201, \"arena\": \"AmericanAirlines Arena\", \"attend\": 805264.0, \"attend_g\": 19641.0}, {\"Unnamed: 0\": 172, \"abbreviation\": \"MIA\", \"season\": 2020, \"avg_player_height\": 200.36117647058825, \"lg\": \"NBA\", \"team\": \"Miami Heat\", \"playoffs\": true, \"age\": 25.9, \"w\": 44.0, \"l\": 29.0, \"pw\": 43.0, \"pl\": 30.0, \"mov\": 2.95, \"sos\": -0.35, \"srs\": 2.59, \"o_rtg\": 112.5, \"d_rtg\": 109.5, \"n_rtg\": 3.0, \"pace\": 98.3, \"f_tr\": 0.299, \"x3p_ar\": 0.419, \"ts_percent\": 0.587, \"e_fg_percent\": 0.547, \"tov_percent\": 13.5, \"orb_percent\": 20.3, \"ft_fga\": 0.234, \"opp_e_fg_percent\": 0.523, \"opp_tov_percent\": 12.6, \"opp_drb_percent\": 79.5, \"opp_ft_fga\": 0.213, \"arena\": \"AmericanAirlines Arena\", \"attend\": 629771.0, \"attend_g\": 19680.0}, {\"Unnamed: 0\": 173, \"abbreviation\": \"MIA\", \"season\": 2021, \"avg_player_height\": 197.75714285714284, \"lg\": \"NBA\", \"team\": \"Miami Heat\", \"playoffs\": true, \"age\": 27.4, \"w\": 40.0, \"l\": 32.0, \"pw\": 36.0, \"pl\": 36.0, \"mov\": 0.03, \"sos\": -0.09, \"srs\": -0.06, \"o_rtg\": 111.2, \"d_rtg\": 111.2, \"n_rtg\": 0.0, \"pace\": 96.6, \"f_tr\": 0.252, \"x3p_ar\": 0.432, \"ts_percent\": 0.581, \"e_fg_percent\": 0.546, \"tov_percent\": 13.1, \"orb_percent\": 19.4, \"ft_fga\": 0.199, \"opp_e_fg_percent\": 0.542, \"opp_tov_percent\": 13.8, \"opp_drb_percent\": 77.9, \"opp_ft_fga\": 0.183, \"arena\": \"AmericanAirlines Arena\", \"attend\": null, \"attend_g\": null}, {\"Unnamed: 0\": 174, \"abbreviation\": \"MIA\", \"season\": 2022, \"avg_player_height\": 199.46470588235297, \"lg\": \"NBA\", \"team\": \"Miami Heat\", \"playoffs\": true, \"age\": 28.2, \"w\": 53.0, \"l\": 29.0, \"pw\": 53.0, \"pl\": 29.0, \"mov\": 4.45, \"sos\": -0.22, \"srs\": 4.23, \"o_rtg\": 113.7, \"d_rtg\": 109.1, \"n_rtg\": 4.6, \"pace\": 95.9, \"f_tr\": 0.252, \"x3p_ar\": 0.422, \"ts_percent\": 0.584, \"e_fg_percent\": 0.547, \"tov_percent\": 13.4, \"orb_percent\": 23.5, \"ft_fga\": 0.204, \"opp_e_fg_percent\": 0.524, \"opp_tov_percent\": 13.8, \"opp_drb_percent\": 78.0, \"opp_ft_fga\": 0.209, \"arena\": \"FTX Arena\", \"attend\": 804761.0, \"attend_g\": 19628.0}, {\"Unnamed: 0\": 175, \"abbreviation\": \"MIL\", \"season\": 2012, \"avg_player_height\": 202.692, \"lg\": \"NBA\", \"team\": \"Milwaukee Bucks\", \"playoffs\": false, \"age\": 26.2, \"w\": 31.0, \"l\": 35.0, \"pw\": 34.0, \"pl\": 32.0, \"mov\": 0.27, \"sos\": -0.5, \"srs\": -0.23, \"o_rtg\": 105.5, \"d_rtg\": 105.2, \"n_rtg\": 0.3, \"pace\": 93.7, \"f_tr\": 0.25, \"x3p_ar\": 0.224, \"ts_percent\": 0.521, \"e_fg_percent\": 0.481, \"tov_percent\": 12.9, \"orb_percent\": 27.7, \"ft_fga\": 0.194, \"opp_e_fg_percent\": 0.489, \"opp_tov_percent\": 14.6, \"opp_drb_percent\": 70.9, \"opp_ft_fga\": 0.217, \"arena\": \"Bradley Center\", \"attend\": 485717.0, \"attend_g\": 14719.0}, {\"Unnamed: 0\": 176, \"abbreviation\": \"MIL\", \"season\": 2013, \"avg_player_height\": 202.4275, \"lg\": \"NBA\", \"team\": \"Milwaukee Bucks\", \"playoffs\": true, \"age\": 26.4, \"w\": 38.0, \"l\": 44.0, \"pw\": 37.0, \"pl\": 45.0, \"mov\": -1.5, \"sos\": -0.33, \"srs\": -1.83, \"o_rtg\": 103.6, \"d_rtg\": 105.2, \"n_rtg\": -1.6, \"pace\": 94.7, \"f_tr\": 0.236, \"x3p_ar\": 0.232, \"ts_percent\": 0.51, \"e_fg_percent\": 0.476, \"tov_percent\": 12.7, \"orb_percent\": 27.9, \"ft_fga\": 0.174, \"opp_e_fg_percent\": 0.492, \"opp_tov_percent\": 14.4, \"opp_drb_percent\": 71.3, \"opp_ft_fga\": 0.201, \"arena\": \"BMO Harris Bradley Center\", \"attend\": 616469.0, \"attend_g\": 15036.0}, {\"Unnamed: 0\": 177, \"abbreviation\": \"MIL\", \"season\": 2014, \"avg_player_height\": 201.64777777777775, \"lg\": \"NBA\", \"team\": \"Milwaukee Bucks\", \"playoffs\": false, \"age\": 24.7, \"w\": 15.0, \"l\": 67.0, \"pw\": 20.0, \"pl\": 62.0, \"mov\": -8.18, \"sos\": -0.23, \"srs\": -8.41, \"o_rtg\": 103.0, \"d_rtg\": 111.8, \"n_rtg\": -8.8, \"pace\": 91.8, \"f_tr\": 0.274, \"x3p_ar\": 0.231, \"ts_percent\": 0.519, \"e_fg_percent\": 0.479, \"tov_percent\": 14.1, \"orb_percent\": 27.1, \"ft_fga\": 0.204, \"opp_e_fg_percent\": 0.52, \"opp_tov_percent\": 13.2, \"opp_drb_percent\": 71.4, \"opp_ft_fga\": 0.225, \"arena\": \"BMO Harris Bradley Center\", \"attend\": 552067.0, \"attend_g\": 13465.0}, {\"Unnamed: 0\": 178, \"abbreviation\": \"MIL\", \"season\": 2015, \"avg_player_height\": 202.72375, \"lg\": \"NBA\", \"team\": \"Milwaukee Bucks\", \"playoffs\": true, \"age\": 24.6, \"w\": 41.0, \"l\": 41.0, \"pw\": 42.0, \"pl\": 40.0, \"mov\": 0.43, \"sos\": -0.52, \"srs\": -0.09, \"o_rtg\": 102.7, \"d_rtg\": 102.2, \"n_rtg\": 0.5, \"pace\": 94.1, \"f_tr\": 0.258, \"x3p_ar\": 0.223, \"ts_percent\": 0.536, \"e_fg_percent\": 0.499, \"tov_percent\": 15.5, \"orb_percent\": 25.4, \"ft_fga\": 0.195, \"opp_e_fg_percent\": 0.487, \"opp_tov_percent\": 15.9, \"opp_drb_percent\": 73.3, \"opp_ft_fga\": 0.221, \"arena\": \"BMO Harris Bradley Center\", \"attend\": 593910.0, \"attend_g\": 14813.0}, {\"Unnamed: 0\": 179, \"abbreviation\": \"MIL\", \"season\": 2016, \"avg_player_height\": 203.79764705882351, \"lg\": \"NBA\", \"team\": \"Milwaukee Bucks\", \"playoffs\": false, \"age\": 23.5, \"w\": 33.0, \"l\": 49.0, \"pw\": 29.0, \"pl\": 53.0, \"mov\": -4.18, \"sos\": 0.2, \"srs\": -3.98, \"o_rtg\": 104.3, \"d_rtg\": 108.7, \"n_rtg\": -4.4, \"pace\": 94.2, \"f_tr\": 0.276, \"x3p_ar\": 0.189, \"ts_percent\": 0.537, \"e_fg_percent\": 0.499, \"tov_percent\": 14.2, \"orb_percent\": 24.9, \"ft_fga\": 0.207, \"opp_e_fg_percent\": 0.51, \"opp_tov_percent\": 14.2, \"opp_drb_percent\": 73.1, \"opp_ft_fga\": 0.221, \"arena\": \"BMO Harris Bradley Center\", \"attend\": 621808.0, \"attend_g\": 15166.0}, {\"Unnamed: 0\": 180, \"abbreviation\": \"MIL\", \"season\": 2017, \"avg_player_height\": 201.06105263157897, \"lg\": \"NBA\", \"team\": \"Milwaukee Bucks\", \"playoffs\": true, \"age\": 25.6, \"w\": 42.0, \"l\": 40.0, \"pw\": 40.0, \"pl\": 42.0, \"mov\": -0.18, \"sos\": -0.26, \"srs\": -0.45, \"o_rtg\": 109.1, \"d_rtg\": 109.3, \"n_rtg\": -0.2, \"pace\": 94.5, \"f_tr\": 0.274, \"x3p_ar\": 0.29, \"ts_percent\": 0.565, \"e_fg_percent\": 0.527, \"tov_percent\": 13.2, \"orb_percent\": 21.5, \"ft_fga\": 0.21, \"opp_e_fg_percent\": 0.518, \"opp_tov_percent\": 13.6, \"opp_drb_percent\": 75.4, \"opp_ft_fga\": 0.215, \"arena\": \"BMO Harris Bradley Center\", \"attend\": 648952.0, \"attend_g\": 15828.0}, {\"Unnamed: 0\": 181, \"abbreviation\": \"MIL\", \"season\": 2018, \"avg_player_height\": 199.10777777777776, \"lg\": \"NBA\", \"team\": \"Milwaukee Bucks\", \"playoffs\": true, \"age\": 25.9, \"w\": 44.0, \"l\": 38.0, \"pw\": 40.0, \"pl\": 42.0, \"mov\": -0.3, \"sos\": -0.15, \"srs\": -0.45, \"o_rtg\": 109.8, \"d_rtg\": 110.1, \"n_rtg\": -0.3, \"pace\": 96.2, \"f_tr\": 0.281, \"x3p_ar\": 0.297, \"ts_percent\": 0.571, \"e_fg_percent\": 0.531, \"tov_percent\": 12.9, \"orb_percent\": 20.4, \"ft_fga\": 0.22, \"opp_e_fg_percent\": 0.528, \"opp_tov_percent\": 14.2, \"opp_drb_percent\": 75.9, \"opp_ft_fga\": 0.22, \"arena\": \"BMO Harris Bradley Center\", \"attend\": 685303.0, \"attend_g\": 16856.0}, {\"Unnamed: 0\": 182, \"abbreviation\": \"MIL\", \"season\": 2019, \"avg_player_height\": 199.23125, \"lg\": \"NBA\", \"team\": \"Milwaukee Bucks\", \"playoffs\": true, \"age\": 26.9, \"w\": 60.0, \"l\": 22.0, \"pw\": 61.0, \"pl\": 21.0, \"mov\": 8.87, \"sos\": -0.82, \"srs\": 8.04, \"o_rtg\": 113.8, \"d_rtg\": 105.2, \"n_rtg\": 8.6, \"pace\": 103.3, \"f_tr\": 0.255, \"x3p_ar\": 0.419, \"ts_percent\": 0.583, \"e_fg_percent\": 0.55, \"tov_percent\": 12.0, \"orb_percent\": 20.8, \"ft_fga\": 0.197, \"opp_e_fg_percent\": 0.503, \"opp_tov_percent\": 11.5, \"opp_drb_percent\": 80.3, \"opp_ft_fga\": 0.162, \"arena\": \"Fiserv Forum\", \"attend\": 721692.0, \"attend_g\": 17602.0}, {\"Unnamed: 0\": 183, \"abbreviation\": \"MIL\", \"season\": 2020, \"avg_player_height\": 198.65473684210528, \"lg\": \"NBA\", \"team\": \"Milwaukee Bucks\", \"playoffs\": true, \"age\": 29.2, \"w\": 56.0, \"l\": 17.0, \"pw\": 57.0, \"pl\": 16.0, \"mov\": 10.08, \"sos\": -0.67, \"srs\": 9.41, \"o_rtg\": 112.4, \"d_rtg\": 102.9, \"n_rtg\": 9.5, \"pace\": 105.1, \"f_tr\": 0.271, \"x3p_ar\": 0.428, \"ts_percent\": 0.583, \"e_fg_percent\": 0.552, \"tov_percent\": 12.9, \"orb_percent\": 20.7, \"ft_fga\": 0.201, \"opp_e_fg_percent\": 0.489, \"opp_tov_percent\": 12.0, \"opp_drb_percent\": 81.6, \"opp_ft_fga\": 0.178, \"arena\": \"Fiserv Forum\", \"attend\": 549036.0, \"attend_g\": 17711.0}, {\"Unnamed: 0\": 184, \"abbreviation\": \"MIL\", \"season\": 2021, \"avg_player_height\": 198.12, \"lg\": \"NBA\", \"team\": \"Milwaukee Bucks\", \"playoffs\": true, \"age\": 28.1, \"w\": 46.0, \"l\": 26.0, \"pw\": 48.0, \"pl\": 24.0, \"mov\": 5.89, \"sos\": -0.32, \"srs\": 5.57, \"o_rtg\": 117.2, \"d_rtg\": 111.4, \"n_rtg\": 5.8, \"pace\": 102.2, \"f_tr\": 0.233, \"x3p_ar\": 0.404, \"ts_percent\": 0.593, \"e_fg_percent\": 0.566, \"tov_percent\": 12.0, \"orb_percent\": 23.3, \"ft_fga\": 0.177, \"opp_e_fg_percent\": 0.536, \"opp_tov_percent\": 11.5, \"opp_drb_percent\": 79.7, \"opp_ft_fga\": 0.157, \"arena\": \"Fiserv Forum\", \"attend\": 64780.0, \"attend_g\": 1799.0}, {\"Unnamed: 0\": 185, \"abbreviation\": \"MIL\", \"season\": 2022, \"avg_player_height\": 200.5188888888889, \"lg\": \"NBA\", \"team\": \"Milwaukee Bucks\", \"playoffs\": true, \"age\": 28.5, \"w\": 51.0, \"l\": 31.0, \"pw\": 49.0, \"pl\": 33.0, \"mov\": 3.35, \"sos\": -0.14, \"srs\": 3.22, \"o_rtg\": 115.1, \"d_rtg\": 111.8, \"n_rtg\": 3.3, \"pace\": 99.9, \"f_tr\": 0.257, \"x3p_ar\": 0.43, \"ts_percent\": 0.58, \"e_fg_percent\": 0.546, \"tov_percent\": 11.9, \"orb_percent\": 23.0, \"ft_fga\": 0.199, \"opp_e_fg_percent\": 0.536, \"opp_tov_percent\": 11.6, \"opp_drb_percent\": 78.6, \"opp_ft_fga\": 0.165, \"arena\": \"Fiserv Forum\", \"attend\": 715581.0, \"attend_g\": 17453.0}, {\"Unnamed: 0\": 186, \"abbreviation\": \"MIN\", \"season\": 2012, \"avg_player_height\": 199.81333333333333, \"lg\": \"NBA\", \"team\": \"Minnesota Timberwolves\", \"playoffs\": false, \"age\": 24.4, \"w\": 26.0, \"l\": 40.0, \"pw\": 28.0, \"pl\": 38.0, \"mov\": -2.2, \"sos\": 0.37, \"srs\": -1.83, \"o_rtg\": 104.3, \"d_rtg\": 106.6, \"n_rtg\": -2.3, \"pace\": 93.3, \"f_tr\": 0.306, \"x3p_ar\": 0.262, \"ts_percent\": 0.524, \"e_fg_percent\": 0.477, \"tov_percent\": 14.0, \"orb_percent\": 27.5, \"ft_fga\": 0.236, \"opp_e_fg_percent\": 0.491, \"opp_tov_percent\": 12.2, \"opp_drb_percent\": 73.0, \"opp_ft_fga\": 0.187, \"arena\": \"Target Center\", \"attend\": 577197.0, \"attend_g\": 17491.0}, {\"Unnamed: 0\": 187, \"abbreviation\": \"MIN\", \"season\": 2013, \"avg_player_height\": 200.66, \"lg\": \"NBA\", \"team\": \"Minnesota Timberwolves\", \"playoffs\": false, \"age\": 26.4, \"w\": 31.0, \"l\": 51.0, \"pw\": 34.0, \"pl\": 48.0, \"mov\": -2.37, \"sos\": 0.54, \"srs\": -1.83, \"o_rtg\": 102.9, \"d_rtg\": 105.4, \"n_rtg\": -2.5, \"pace\": 92.8, \"f_tr\": 0.305, \"x3p_ar\": 0.22, \"ts_percent\": 0.516, \"e_fg_percent\": 0.473, \"tov_percent\": 13.8, \"orb_percent\": 27.4, \"ft_fga\": 0.226, \"opp_e_fg_percent\": 0.511, \"opp_tov_percent\": 15.0, \"opp_drb_percent\": 74.0, \"opp_ft_fga\": 0.187, \"arena\": \"Target Center\", \"attend\": 669956.0, \"attend_g\": 16340.0}, {\"Unnamed: 0\": 188, \"abbreviation\": \"MIN\", \"season\": 2014, \"avg_player_height\": 203.33368421052631, \"lg\": \"NBA\", \"team\": \"Minnesota Timberwolves\", \"playoffs\": false, \"age\": 26.3, \"w\": 40.0, \"l\": 42.0, \"pw\": 48.0, \"pl\": 34.0, \"mov\": 2.67, \"sos\": 0.43, \"srs\": 3.1, \"o_rtg\": 108.9, \"d_rtg\": 106.2, \"n_rtg\": 2.7, \"pace\": 97.3, \"f_tr\": 0.321, \"x3p_ar\": 0.245, \"ts_percent\": 0.535, \"e_fg_percent\": 0.486, \"tov_percent\": 12.2, \"orb_percent\": 27.4, \"ft_fga\": 0.249, \"opp_e_fg_percent\": 0.518, \"opp_tov_percent\": 14.8, \"opp_drb_percent\": 74.4, \"opp_ft_fga\": 0.177, \"arena\": \"Target Center\", \"attend\": 597157.0, \"attend_g\": 14565.0}, {\"Unnamed: 0\": 189, \"abbreviation\": \"MIN\", \"season\": 2015, \"avg_player_height\": 204.28857142857143, \"lg\": \"NBA\", \"team\": \"Minnesota Timberwolves\", \"playoffs\": false, \"age\": 24.4, \"w\": 16.0, \"l\": 66.0, \"pw\": 19.0, \"pl\": 63.0, \"mov\": -8.79, \"sos\": 0.79, \"srs\": -8.0, \"o_rtg\": 102.9, \"d_rtg\": 112.2, \"n_rtg\": -9.3, \"pace\": 94.4, \"f_tr\": 0.309, \"x3p_ar\": 0.179, \"ts_percent\": 0.517, \"e_fg_percent\": 0.468, \"tov_percent\": 13.7, \"orb_percent\": 26.6, \"ft_fga\": 0.24, \"opp_e_fg_percent\": 0.537, \"opp_tov_percent\": 13.9, \"opp_drb_percent\": 71.6, \"opp_ft_fga\": 0.187, \"arena\": \"Target Center\", \"attend\": 595652.0, \"attend_g\": 14416.0}, {\"Unnamed: 0\": 190, \"abbreviation\": \"MIN\", \"season\": 2016, \"avg_player_height\": 200.99866666666668, \"lg\": \"NBA\", \"team\": \"Minnesota Timberwolves\", \"playoffs\": false, \"age\": 24.6, \"w\": 29.0, \"l\": 53.0, \"pw\": 31.0, \"pl\": 51.0, \"mov\": -3.54, \"sos\": 0.15, \"srs\": -3.38, \"o_rtg\": 106.5, \"d_rtg\": 110.1, \"n_rtg\": -3.6, \"pace\": 95.2, \"f_tr\": 0.332, \"x3p_ar\": 0.202, \"ts_percent\": 0.549, \"e_fg_percent\": 0.498, \"tov_percent\": 13.9, \"orb_percent\": 24.3, \"ft_fga\": 0.263, \"opp_e_fg_percent\": 0.524, \"opp_tov_percent\": 13.6, \"opp_drb_percent\": 74.7, \"opp_ft_fga\": 0.2, \"arena\": \"Target Center\", \"attend\": 581178.0, \"attend_g\": 14175.0}, {\"Unnamed: 0\": 191, \"abbreviation\": \"MIN\", \"season\": 2017, \"avg_player_height\": 200.66, \"lg\": \"NBA\", \"team\": \"Minnesota Timberwolves\", \"playoffs\": false, \"age\": 24.0, \"w\": 31.0, \"l\": 51.0, \"pw\": 38.0, \"pl\": 44.0, \"mov\": -1.11, \"sos\": 0.47, \"srs\": -0.64, \"o_rtg\": 110.8, \"d_rtg\": 112.0, \"n_rtg\": -1.2, \"pace\": 94.6, \"f_tr\": 0.287, \"x3p_ar\": 0.249, \"ts_percent\": 0.555, \"e_fg_percent\": 0.511, \"tov_percent\": 12.9, \"orb_percent\": 27.2, \"ft_fga\": 0.229, \"opp_e_fg_percent\": 0.535, \"opp_tov_percent\": 13.2, \"opp_drb_percent\": 75.9, \"opp_ft_fga\": 0.212, \"arena\": \"Target Center\", \"attend\": 607203.0, \"attend_g\": 14810.0}, {\"Unnamed: 0\": 192, \"abbreviation\": \"MIN\", \"season\": 2018, \"avg_player_height\": 199.95444444444445, \"lg\": \"NBA\", \"team\": \"Minnesota Timberwolves\", \"playoffs\": true, \"age\": 27.1, \"w\": 47.0, \"l\": 35.0, \"pw\": 47.0, \"pl\": 35.0, \"mov\": 2.23, \"sos\": 0.12, \"srs\": 2.35, \"o_rtg\": 113.4, \"d_rtg\": 111.1, \"n_rtg\": 2.3, \"pace\": 96.0, \"f_tr\": 0.28, \"x3p_ar\": 0.261, \"ts_percent\": 0.566, \"e_fg_percent\": 0.523, \"tov_percent\": 11.4, \"orb_percent\": 24.4, \"ft_fga\": 0.225, \"opp_e_fg_percent\": 0.539, \"opp_tov_percent\": 13.9, \"opp_drb_percent\": 76.4, \"opp_ft_fga\": 0.189, \"arena\": \"Target Center\", \"attend\": 699308.0, \"attend_g\": 17056.0}, {\"Unnamed: 0\": 193, \"abbreviation\": \"MIN\", \"season\": 2019, \"avg_player_height\": 198.12, \"lg\": \"NBA\", \"team\": \"Minnesota Timberwolves\", \"playoffs\": false, \"age\": 26.2, \"w\": 36.0, \"l\": 46.0, \"pw\": 37.0, \"pl\": 45.0, \"mov\": -1.5, \"sos\": 0.48, \"srs\": -1.02, \"o_rtg\": 111.4, \"d_rtg\": 112.9, \"n_rtg\": -1.5, \"pace\": 100.2, \"f_tr\": 0.267, \"x3p_ar\": 0.315, \"ts_percent\": 0.552, \"e_fg_percent\": 0.511, \"tov_percent\": 11.4, \"orb_percent\": 24.6, \"ft_fga\": 0.21, \"opp_e_fg_percent\": 0.538, \"opp_tov_percent\": 12.9, \"opp_drb_percent\": 74.9, \"opp_ft_fga\": 0.19, \"arena\": \"Target Center\", \"attend\": 627543.0, \"attend_g\": 15306.0}, {\"Unnamed: 0\": 194, \"abbreviation\": \"MIN\", \"season\": 2020, \"avg_player_height\": 197.96125, \"lg\": \"NBA\", \"team\": \"Minnesota Timberwolves\", \"playoffs\": false, \"age\": 24.8, \"w\": 19.0, \"l\": 45.0, \"pw\": 24.0, \"pl\": 40.0, \"mov\": -4.3, \"sos\": 0.28, \"srs\": -4.02, \"o_rtg\": 108.1, \"d_rtg\": 112.2, \"n_rtg\": -4.1, \"pace\": 103.4, \"f_tr\": 0.277, \"x3p_ar\": 0.433, \"ts_percent\": 0.551, \"e_fg_percent\": 0.514, \"tov_percent\": 13.0, \"orb_percent\": 22.1, \"ft_fga\": 0.209, \"opp_e_fg_percent\": 0.541, \"opp_tov_percent\": 13.2, \"opp_drb_percent\": 77.2, \"opp_ft_fga\": 0.218, \"arena\": \"Target Center\", \"attend\": 482112.0, \"attend_g\": 15066.0}, {\"Unnamed: 0\": 195, \"abbreviation\": \"MIN\", \"season\": 2021, \"avg_player_height\": 197.3729411764706, \"lg\": \"NBA\", \"team\": \"Minnesota Timberwolves\", \"playoffs\": false, \"age\": 23.2, \"w\": 23.0, \"l\": 49.0, \"pw\": 24.0, \"pl\": 48.0, \"mov\": -5.56, \"sos\": 0.31, \"srs\": -5.25, \"o_rtg\": 109.5, \"d_rtg\": 115.0, \"n_rtg\": -5.5, \"pace\": 101.6, \"f_tr\": 0.254, \"x3p_ar\": 0.413, \"ts_percent\": 0.555, \"e_fg_percent\": 0.52, \"tov_percent\": 12.4, \"orb_percent\": 22.7, \"ft_fga\": 0.193, \"opp_e_fg_percent\": 0.556, \"opp_tov_percent\": 13.3, \"opp_drb_percent\": 76.8, \"opp_ft_fga\": 0.207, \"arena\": \"Target Center\", \"attend\": 15774.0, \"attend_g\": 438.0}, {\"Unnamed: 0\": 196, \"abbreviation\": \"MIN\", \"season\": 2022, \"avg_player_height\": 199.10777777777776, \"lg\": \"NBA\", \"team\": \"Minnesota Timberwolves\", \"playoffs\": true, \"age\": 24.2, \"w\": 46.0, \"l\": 36.0, \"pw\": 48.0, \"pl\": 34.0, \"mov\": 2.63, \"sos\": -0.1, \"srs\": 2.53, \"o_rtg\": 114.3, \"d_rtg\": 111.7, \"n_rtg\": 2.6, \"pace\": 100.9, \"f_tr\": 0.254, \"x3p_ar\": 0.454, \"ts_percent\": 0.573, \"e_fg_percent\": 0.539, \"tov_percent\": 12.4, \"orb_percent\": 24.4, \"ft_fga\": 0.198, \"opp_e_fg_percent\": 0.535, \"opp_tov_percent\": 14.2, \"opp_drb_percent\": 74.9, \"opp_ft_fga\": 0.227, \"arena\": \"Target Center\", \"attend\": 657148.0, \"attend_g\": 16028.0}, {\"Unnamed: 0\": 197, \"abbreviation\": \"NOH\", \"season\": 2012, \"avg_player_height\": 200.80941176470589, \"lg\": \"NBA\", \"team\": \"New Orleans Hornets\", \"playoffs\": false, \"age\": 25.5, \"w\": 21.0, \"l\": 45.0, \"pw\": 24.0, \"pl\": 42.0, \"mov\": -3.76, \"sos\": 0.65, \"srs\": -3.11, \"o_rtg\": 100.9, \"d_rtg\": 105.1, \"n_rtg\": -4.2, \"pace\": 88.3, \"f_tr\": 0.274, \"x3p_ar\": 0.152, \"ts_percent\": 0.517, \"e_fg_percent\": 0.476, \"tov_percent\": 15.2, \"orb_percent\": 27.5, \"ft_fga\": 0.207, \"opp_e_fg_percent\": 0.485, \"opp_tov_percent\": 13.5, \"opp_drb_percent\": 73.1, \"opp_ft_fga\": 0.218, \"arena\": \"New Orleans Arena\", \"attend\": 498618.0, \"attend_g\": 15110.0}, {\"Unnamed: 0\": 198, \"abbreviation\": \"NOP\", \"season\": 2014, \"avg_player_height\": 201.295, \"lg\": \"NBA\", \"team\": \"New Orleans Pelicans\", \"playoffs\": false, \"age\": 24.3, \"w\": 34.0, \"l\": 48.0, \"pw\": 33.0, \"pl\": 49.0, \"mov\": -2.71, \"sos\": 0.73, \"srs\": -1.98, \"o_rtg\": 107.2, \"d_rtg\": 110.1, \"n_rtg\": -2.9, \"pace\": 92.2, \"f_tr\": 0.286, \"x3p_ar\": 0.193, \"ts_percent\": 0.537, \"e_fg_percent\": 0.495, \"tov_percent\": 12.9, \"orb_percent\": 26.9, \"ft_fga\": 0.22, \"opp_e_fg_percent\": 0.515, \"opp_tov_percent\": 13.6, \"opp_drb_percent\": 73.8, \"opp_ft_fga\": 0.249, \"arena\": \"Smoothie King Center\", \"attend\": 672029.0, \"attend_g\": 16391.0}, {\"Unnamed: 0\": 199, \"abbreviation\": \"NOP\", \"season\": 2015, \"avg_player_height\": 198.9221052631579, \"lg\": \"NBA\", \"team\": \"New Orleans Pelicans\", \"playoffs\": true, \"age\": 25.3, \"w\": 45.0, \"l\": 37.0, \"pw\": 43.0, \"pl\": 39.0, \"mov\": 0.79, \"sos\": 0.34, \"srs\": 1.13, \"o_rtg\": 108.2, \"d_rtg\": 107.3, \"n_rtg\": 0.9, \"pace\": 91.4, \"f_tr\": 0.263, \"x3p_ar\": 0.233, \"ts_percent\": 0.537, \"e_fg_percent\": 0.501, \"tov_percent\": 12.5, \"orb_percent\": 27.1, \"ft_fga\": 0.198, \"opp_e_fg_percent\": 0.496, \"opp_tov_percent\": 11.7, \"opp_drb_percent\": 75.1, \"opp_ft_fga\": 0.195, \"arena\": \"Smoothie King Center\", \"attend\": 683757.0, \"attend_g\": 16677.0}, {\"Unnamed: 0\": 200, \"abbreviation\": \"NOP\", \"season\": 2016, \"avg_player_height\": 201.5764705882353, \"lg\": \"NBA\", \"team\": \"New Orleans Pelicans\", \"playoffs\": false, \"age\": 26.6, \"w\": 30.0, \"l\": 52.0, \"pw\": 31.0, \"pl\": 51.0, \"mov\": -3.79, \"sos\": 0.24, \"srs\": -3.56, \"o_rtg\": 105.6, \"d_rtg\": 109.5, \"n_rtg\": -3.9, \"pace\": 96.8, \"f_tr\": 0.259, \"x3p_ar\": 0.277, \"ts_percent\": 0.537, \"e_fg_percent\": 0.498, \"tov_percent\": 12.3, \"orb_percent\": 21.2, \"ft_fga\": 0.201, \"opp_e_fg_percent\": 0.523, \"opp_tov_percent\": 12.7, \"opp_drb_percent\": 78.8, \"opp_ft_fga\": 0.225, \"arena\": \"Smoothie King Center\", \"attend\": 688549.0, \"attend_g\": 16794.0}, {\"Unnamed: 0\": 201, \"abbreviation\": \"NOP\", \"season\": 2017, \"avg_player_height\": 198.54333333333335, \"lg\": \"NBA\", \"team\": \"New Orleans Pelicans\", \"playoffs\": false, \"age\": 25.7, \"w\": 34.0, \"l\": 48.0, \"pw\": 35.0, \"pl\": 47.0, \"mov\": -2.1, \"sos\": 0.41, \"srs\": -1.69, \"o_rtg\": 105.2, \"d_rtg\": 107.4, \"n_rtg\": -2.2, \"pace\": 98.0, \"f_tr\": 0.256, \"x3p_ar\": 0.308, \"ts_percent\": 0.539, \"e_fg_percent\": 0.504, \"tov_percent\": 11.7, \"orb_percent\": 18.5, \"ft_fga\": 0.192, \"opp_e_fg_percent\": 0.509, \"opp_tov_percent\": 12.4, \"opp_drb_percent\": 76.8, \"opp_ft_fga\": 0.177, \"arena\": \"Smoothie King Center\", \"attend\": 663099.0, \"attend_g\": 16173.0}, {\"Unnamed: 0\": 202, \"abbreviation\": \"NOP\", \"season\": 2018, \"avg_player_height\": 200.5105882352941, \"lg\": \"NBA\", \"team\": \"New Orleans Pelicans\", \"playoffs\": true, \"age\": 27.6, \"w\": 48.0, \"l\": 34.0, \"pw\": 44.0, \"pl\": 38.0, \"mov\": 1.3, \"sos\": 0.18, \"srs\": 1.48, \"o_rtg\": 109.6, \"d_rtg\": 108.3, \"n_rtg\": 1.3, \"pace\": 100.5, \"f_tr\": 0.237, \"x3p_ar\": 0.319, \"ts_percent\": 0.573, \"e_fg_percent\": 0.541, \"tov_percent\": 13.3, \"orb_percent\": 20.0, \"ft_fga\": 0.183, \"opp_e_fg_percent\": 0.513, \"opp_tov_percent\": 12.5, \"opp_drb_percent\": 76.7, \"opp_ft_fga\": 0.175, \"arena\": \"Smoothie King Center\", \"attend\": 673920.0, \"attend_g\": 16437.0}, {\"Unnamed: 0\": 203, \"abbreviation\": \"NOP\", \"season\": 2019, \"avg_player_height\": 197.07411764705884, \"lg\": \"NBA\", \"team\": \"New Orleans Pelicans\", \"playoffs\": false, \"age\": 25.7, \"w\": 33.0, \"l\": 49.0, \"pw\": 38.0, \"pl\": 44.0, \"mov\": -1.33, \"sos\": 0.23, \"srs\": -1.1, \"o_rtg\": 111.4, \"d_rtg\": 112.6, \"n_rtg\": -1.2, \"pace\": 103.3, \"f_tr\": 0.254, \"x3p_ar\": 0.324, \"ts_percent\": 0.563, \"e_fg_percent\": 0.529, \"tov_percent\": 12.6, \"orb_percent\": 24.1, \"ft_fga\": 0.193, \"opp_e_fg_percent\": 0.532, \"opp_tov_percent\": 11.6, \"opp_drb_percent\": 76.8, \"opp_ft_fga\": 0.193, \"arena\": \"Smoothie King Center\", \"attend\": 656183.0, \"attend_g\": 16004.0}, {\"Unnamed: 0\": 204, \"abbreviation\": \"NOP\", \"season\": 2020, \"avg_player_height\": 199.10777777777776, \"lg\": \"NBA\", \"team\": \"New Orleans Pelicans\", \"playoffs\": false, \"age\": 25.4, \"w\": 30.0, \"l\": 42.0, \"pw\": 33.0, \"pl\": 39.0, \"mov\": -1.29, \"sos\": 0.74, \"srs\": -0.55, \"o_rtg\": 110.7, \"d_rtg\": 111.9, \"n_rtg\": -1.2, \"pace\": 103.7, \"f_tr\": 0.256, \"x3p_ar\": 0.403, \"ts_percent\": 0.568, \"e_fg_percent\": 0.539, \"tov_percent\": 13.9, \"orb_percent\": 24.2, \"ft_fga\": 0.186, \"opp_e_fg_percent\": 0.532, \"opp_tov_percent\": 12.4, \"opp_drb_percent\": 77.8, \"opp_ft_fga\": 0.212, \"arena\": \"Smoothie King Center\", \"attend\": 528172.0, \"attend_g\": 16505.0}, {\"Unnamed: 0\": 205, \"abbreviation\": \"NOP\", \"season\": 2021, \"avg_player_height\": 197.41444444444448, \"lg\": \"NBA\", \"team\": \"New Orleans Pelicans\", \"playoffs\": false, \"age\": 24.8, \"w\": 31.0, \"l\": 41.0, \"pw\": 35.0, \"pl\": 37.0, \"mov\": -0.29, \"sos\": 0.1, \"srs\": -0.2, \"o_rtg\": 113.5, \"d_rtg\": 113.8, \"n_rtg\": -0.3, \"pace\": 100.1, \"f_tr\": 0.293, \"x3p_ar\": 0.342, \"ts_percent\": 0.57, \"e_fg_percent\": 0.537, \"tov_percent\": 12.7, \"orb_percent\": 26.3, \"ft_fga\": 0.214, \"opp_e_fg_percent\": 0.55, \"opp_tov_percent\": 11.9, \"opp_drb_percent\": 80.0, \"opp_ft_fga\": 0.186, \"arena\": \"Smoothie King Center\", \"attend\": 93120.0, \"attend_g\": 2587.0}, {\"Unnamed: 0\": 206, \"abbreviation\": \"NOP\", \"season\": 2022, \"avg_player_height\": 199.7075, \"lg\": \"NBA\", \"team\": \"New Orleans Pelicans\", \"playoffs\": true, \"age\": 25.6, \"w\": 36.0, \"l\": 46.0, \"pw\": 38.0, \"pl\": 44.0, \"mov\": -0.99, \"sos\": 0.15, \"srs\": -0.84, \"o_rtg\": 112.0, \"d_rtg\": 113.0, \"n_rtg\": -1.0, \"pace\": 97.2, \"f_tr\": 0.264, \"x3p_ar\": 0.365, \"ts_percent\": 0.557, \"e_fg_percent\": 0.517, \"tov_percent\": 12.5, \"orb_percent\": 26.9, \"ft_fga\": 0.208, \"opp_e_fg_percent\": 0.547, \"opp_tov_percent\": 13.0, \"opp_drb_percent\": 78.2, \"opp_ft_fga\": 0.196, \"arena\": \"Smoothie King Center\", \"attend\": 635941.0, \"attend_g\": 15511.0}, {\"Unnamed: 0\": 207, \"abbreviation\": \"NYK\", \"season\": 2012, \"avg_player_height\": 203.2, \"lg\": \"NBA\", \"team\": \"New York Knicks\", \"playoffs\": true, \"age\": 26.3, \"w\": 36.0, \"l\": 30.0, \"pw\": 41.0, \"pl\": 25.0, \"mov\": 3.2, \"sos\": -0.81, \"srs\": 2.39, \"o_rtg\": 104.4, \"d_rtg\": 101.0, \"n_rtg\": 3.4, \"pace\": 93.2, \"f_tr\": 0.306, \"x3p_ar\": 0.288, \"ts_percent\": 0.533, \"e_fg_percent\": 0.492, \"tov_percent\": 14.9, \"orb_percent\": 26.6, \"ft_fga\": 0.227, \"opp_e_fg_percent\": 0.485, \"opp_tov_percent\": 15.9, \"opp_drb_percent\": 73.7, \"opp_ft_fga\": 0.224, \"arena\": \"Madison Square Garden (IV)\", \"attend\": 652179.0, \"attend_g\": 19763.0}, {\"Unnamed: 0\": 208, \"abbreviation\": \"NYK\", \"season\": 2013, \"avg_player_height\": 201.25764705882352, \"lg\": \"NBA\", \"team\": \"New York Knicks\", \"playoffs\": true, \"age\": 30.2, \"w\": 54.0, \"l\": 28.0, \"pw\": 53.0, \"pl\": 29.0, \"mov\": 4.23, \"sos\": -0.5, \"srs\": 3.73, \"o_rtg\": 111.1, \"d_rtg\": 106.3, \"n_rtg\": 4.8, \"pace\": 89.8, \"f_tr\": 0.258, \"x3p_ar\": 0.354, \"ts_percent\": 0.55, \"e_fg_percent\": 0.515, \"tov_percent\": 11.7, \"orb_percent\": 25.6, \"ft_fga\": 0.196, \"opp_e_fg_percent\": 0.508, \"opp_tov_percent\": 14.8, \"opp_drb_percent\": 74.7, \"opp_ft_fga\": 0.216, \"arena\": \"Madison Square Garden (IV)\", \"attend\": 780353.0, \"attend_g\": 19033.0}, {\"Unnamed: 0\": 209, \"abbreviation\": \"NYK\", \"season\": 2014, \"avg_player_height\": 201.77125, \"lg\": \"NBA\", \"team\": \"New York Knicks\", \"playoffs\": false, \"age\": 28.3, \"w\": 37.0, \"l\": 45.0, \"pw\": 39.0, \"pl\": 43.0, \"mov\": -0.79, \"sos\": -0.61, \"srs\": -1.4, \"o_rtg\": 108.3, \"d_rtg\": 109.1, \"n_rtg\": -0.8, \"pace\": 90.3, \"f_tr\": 0.248, \"x3p_ar\": 0.302, \"ts_percent\": 0.541, \"e_fg_percent\": 0.505, \"tov_percent\": 12.5, \"orb_percent\": 25.1, \"ft_fga\": 0.189, \"opp_e_fg_percent\": 0.514, \"opp_tov_percent\": 14.0, \"opp_drb_percent\": 74.3, \"opp_ft_fga\": 0.245, \"arena\": \"Madison Square Garden (IV)\", \"attend\": 812292.0, \"attend_g\": 19812.0}, {\"Unnamed: 0\": 210, \"abbreviation\": \"NYK\", \"season\": 2015, \"avg_player_height\": 202.2475, \"lg\": \"NBA\", \"team\": \"New York Knicks\", \"playoffs\": false, \"age\": 26.9, \"w\": 17.0, \"l\": 65.0, \"pw\": 17.0, \"pl\": 65.0, \"mov\": -9.32, \"sos\": -0.18, \"srs\": -9.5, \"o_rtg\": 99.9, \"d_rtg\": 110.0, \"n_rtg\": -10.1, \"pace\": 91.2, \"f_tr\": 0.234, \"x3p_ar\": 0.24, \"ts_percent\": 0.508, \"e_fg_percent\": 0.47, \"tov_percent\": 14.0, \"orb_percent\": 24.5, \"ft_fga\": 0.18, \"opp_e_fg_percent\": 0.512, \"opp_tov_percent\": 13.3, \"opp_drb_percent\": 73.1, \"opp_ft_fga\": 0.234, \"arena\": \"Madison Square Garden (IV)\", \"attend\": 812292.0, \"attend_g\": 19812.0}, {\"Unnamed: 0\": 211, \"abbreviation\": \"NYK\", \"season\": 2016, \"avg_player_height\": 203.2, \"lg\": \"NBA\", \"team\": \"New York Knicks\", \"playoffs\": false, \"age\": 27.2, \"w\": 32.0, \"l\": 50.0, \"pw\": 33.0, \"pl\": 49.0, \"mov\": -2.73, \"sos\": 0.0, \"srs\": -2.74, \"o_rtg\": 104.6, \"d_rtg\": 107.6, \"n_rtg\": -3.0, \"pace\": 93.4, \"f_tr\": 0.255, \"x3p_ar\": 0.256, \"ts_percent\": 0.527, \"e_fg_percent\": 0.483, \"tov_percent\": 12.6, \"orb_percent\": 23.7, \"ft_fga\": 0.205, \"opp_e_fg_percent\": 0.487, \"opp_tov_percent\": 10.5, \"opp_drb_percent\": 75.8, \"opp_ft_fga\": 0.204, \"arena\": \"Madison Square Garden (IV)\", \"attend\": 812292.0, \"attend_g\": 19812.0}, {\"Unnamed: 0\": 212, \"abbreviation\": \"NYK\", \"season\": 2017, \"avg_player_height\": 201.59578947368425, \"lg\": \"NBA\", \"team\": \"New York Knicks\", \"playoffs\": false, \"age\": 27.3, \"w\": 31.0, \"l\": 51.0, \"pw\": 31.0, \"pl\": 51.0, \"mov\": -3.67, \"sos\": -0.2, \"srs\": -3.87, \"o_rtg\": 107.7, \"d_rtg\": 111.5, \"n_rtg\": -3.8, \"pace\": 96.0, \"f_tr\": 0.239, \"x3p_ar\": 0.279, \"ts_percent\": 0.534, \"e_fg_percent\": 0.496, \"tov_percent\": 12.4, \"orb_percent\": 26.6, \"ft_fga\": 0.188, \"opp_e_fg_percent\": 0.511, \"opp_tov_percent\": 11.7, \"opp_drb_percent\": 74.1, \"opp_ft_fga\": 0.214, \"arena\": \"Madison Square Garden (IV)\", \"attend\": 810741.0, \"attend_g\": 19774.0}, {\"Unnamed: 0\": 213, \"abbreviation\": \"NYK\", \"season\": 2018, \"avg_player_height\": 202.15411764705885, \"lg\": \"NBA\", \"team\": \"New York Knicks\", \"playoffs\": false, \"age\": 26.3, \"w\": 29.0, \"l\": 53.0, \"pw\": 32.0, \"pl\": 50.0, \"mov\": -3.56, \"sos\": 0.03, \"srs\": -3.53, \"o_rtg\": 107.1, \"d_rtg\": 110.7, \"n_rtg\": -3.6, \"pace\": 96.8, \"f_tr\": 0.216, \"x3p_ar\": 0.266, \"ts_percent\": 0.544, \"e_fg_percent\": 0.51, \"tov_percent\": 13.3, \"orb_percent\": 24.1, \"ft_fga\": 0.17, \"opp_e_fg_percent\": 0.522, \"opp_tov_percent\": 12.2, \"opp_drb_percent\": 76.7, \"opp_ft_fga\": 0.208, \"arena\": \"Madison Square Garden (IV)\", \"attend\": 792608.0, \"attend_g\": 19332.0}, {\"Unnamed: 0\": 214, \"abbreviation\": \"NYK\", \"season\": 2019, \"avg_player_height\": 196.5677777777778, \"lg\": \"NBA\", \"team\": \"New York Knicks\", \"playoffs\": false, \"age\": 23.4, \"w\": 17.0, \"l\": 65.0, \"pw\": 19.0, \"pl\": 63.0, \"mov\": -9.21, \"sos\": 0.28, \"srs\": -8.93, \"o_rtg\": 104.5, \"d_rtg\": 113.7, \"n_rtg\": -9.2, \"pace\": 99.6, \"f_tr\": 0.27, \"x3p_ar\": 0.334, \"ts_percent\": 0.529, \"e_fg_percent\": 0.49, \"tov_percent\": 12.4, \"orb_percent\": 22.1, \"ft_fga\": 0.205, \"opp_e_fg_percent\": 0.533, \"opp_tov_percent\": 11.7, \"opp_drb_percent\": 76.1, \"opp_ft_fga\": 0.203, \"arena\": \"Madison Square Garden (IV)\", \"attend\": 779087.0, \"attend_g\": 19002.0}, {\"Unnamed: 0\": 215, \"abbreviation\": \"NYK\", \"season\": 2020, \"avg_player_height\": 198.59625, \"lg\": \"NBA\", \"team\": \"New York Knicks\", \"playoffs\": false, \"age\": 24.5, \"w\": 21.0, \"l\": 45.0, \"pw\": 20.0, \"pl\": 46.0, \"mov\": -6.45, \"sos\": -0.26, \"srs\": -6.72, \"o_rtg\": 106.5, \"d_rtg\": 113.0, \"n_rtg\": -6.5, \"pace\": 98.6, \"f_tr\": 0.263, \"x3p_ar\": 0.318, \"ts_percent\": 0.531, \"e_fg_percent\": 0.501, \"tov_percent\": 12.6, \"orb_percent\": 25.8, \"ft_fga\": 0.182, \"opp_e_fg_percent\": 0.541, \"opp_tov_percent\": 12.4, \"opp_drb_percent\": 78.3, \"opp_ft_fga\": 0.224, \"arena\": \"Madison Square Garden (IV)\", \"attend\": 620789.0, \"attend_g\": 18812.0}, {\"Unnamed: 0\": 216, \"abbreviation\": \"NYK\", \"season\": 2021, \"avg_player_height\": 197.5152380952381, \"lg\": \"NBA\", \"team\": \"New York Knicks\", \"playoffs\": true, \"age\": 25.6, \"w\": 41.0, \"l\": 31.0, \"pw\": 41.0, \"pl\": 31.0, \"mov\": 2.31, \"sos\": -0.18, \"srs\": 2.13, \"o_rtg\": 110.6, \"d_rtg\": 108.2, \"n_rtg\": 2.4, \"pace\": 95.9, \"f_tr\": 0.242, \"x3p_ar\": 0.347, \"ts_percent\": 0.559, \"e_fg_percent\": 0.524, \"tov_percent\": 11.9, \"orb_percent\": 21.9, \"ft_fga\": 0.19, \"opp_e_fg_percent\": 0.509, \"opp_tov_percent\": 11.7, \"opp_drb_percent\": 78.6, \"opp_ft_fga\": 0.196, \"arena\": \"Madison Square Garden (IV)\", \"attend\": 42131.0, \"attend_g\": 1170.0}, {\"Unnamed: 0\": 217, \"abbreviation\": \"NYK\", \"season\": 2022, \"avg_player_height\": 197.96125, \"lg\": \"NBA\", \"team\": \"New York Knicks\", \"playoffs\": false, \"age\": 26.0, \"w\": 37.0, \"l\": 45.0, \"pw\": 41.0, \"pl\": 41.0, \"mov\": -0.12, \"sos\": 0.11, \"srs\": -0.01, \"o_rtg\": 110.4, \"d_rtg\": 110.5, \"n_rtg\": -0.1, \"pace\": 95.9, \"f_tr\": 0.28, \"x3p_ar\": 0.428, \"ts_percent\": 0.55, \"e_fg_percent\": 0.513, \"tov_percent\": 12.0, \"orb_percent\": 25.1, \"ft_fga\": 0.208, \"opp_e_fg_percent\": 0.521, \"opp_tov_percent\": 11.7, \"opp_drb_percent\": 78.8, \"opp_ft_fga\": 0.198, \"arena\": \"Madison Square Garden (IV)\", \"attend\": 763484.0, \"attend_g\": 18622.0}, {\"Unnamed: 0\": 218, \"abbreviation\": \"OKC\", \"season\": 2012, \"avg_player_height\": 202.18400000000003, \"lg\": \"NBA\", \"team\": \"Oklahoma City Thunder\", \"playoffs\": true, \"age\": 25.1, \"w\": 47.0, \"l\": 19.0, \"pw\": 46.0, \"pl\": 20.0, \"mov\": 6.12, \"sos\": 0.32, \"srs\": 6.44, \"o_rtg\": 109.8, \"d_rtg\": 103.2, \"n_rtg\": 6.6, \"pace\": 93.0, \"f_tr\": 0.334, \"x3p_ar\": 0.252, \"ts_percent\": 0.567, \"e_fg_percent\": 0.516, \"tov_percent\": 15.3, \"orb_percent\": 27.8, \"ft_fga\": 0.269, \"opp_e_fg_percent\": 0.465, \"opp_tov_percent\": 13.0, \"opp_drb_percent\": 72.1, \"opp_ft_fga\": 0.207, \"arena\": \"Chesapeake Energy Arena\", \"attend\": 600699.0, \"attend_g\": 18203.0}, {\"Unnamed: 0\": 219, \"abbreviation\": \"OKC\", \"season\": 2013, \"avg_player_height\": 201.38444444444443, \"lg\": \"NBA\", \"team\": \"Oklahoma City Thunder\", \"playoffs\": true, \"age\": 26.0, \"w\": 60.0, \"l\": 22.0, \"pw\": 64.0, \"pl\": 18.0, \"mov\": 9.21, \"sos\": -0.06, \"srs\": 9.15, \"o_rtg\": 112.4, \"d_rtg\": 102.6, \"n_rtg\": 9.8, \"pace\": 93.3, \"f_tr\": 0.338, \"x3p_ar\": 0.244, \"ts_percent\": 0.58, \"e_fg_percent\": 0.527, \"tov_percent\": 14.4, \"orb_percent\": 26.7, \"ft_fga\": 0.28, \"opp_e_fg_percent\": 0.469, \"opp_tov_percent\": 13.5, \"opp_drb_percent\": 73.4, \"opp_ft_fga\": 0.197, \"arena\": \"Chesapeake Energy Arena\", \"attend\": 746323.0, \"attend_g\": 18203.0}, {\"Unnamed: 0\": 220, \"abbreviation\": \"OKC\", \"season\": 2014, \"avg_player_height\": 201.13625, \"lg\": \"NBA\", \"team\": \"Oklahoma City Thunder\", \"playoffs\": true, \"age\": 26.2, \"w\": 59.0, \"l\": 23.0, \"pw\": 58.0, \"pl\": 24.0, \"mov\": 6.34, \"sos\": 0.32, \"srs\": 6.66, \"o_rtg\": 110.5, \"d_rtg\": 103.9, \"n_rtg\": 6.6, \"pace\": 95.4, \"f_tr\": 0.303, \"x3p_ar\": 0.271, \"ts_percent\": 0.566, \"e_fg_percent\": 0.52, \"tov_percent\": 14.0, \"orb_percent\": 26.5, \"ft_fga\": 0.244, \"opp_e_fg_percent\": 0.488, \"opp_tov_percent\": 13.9, \"opp_drb_percent\": 75.6, \"opp_ft_fga\": 0.221, \"arena\": \"Chesapeake Energy Arena\", \"attend\": 746323.0, \"attend_g\": 18203.0}, {\"Unnamed: 0\": 221, \"abbreviation\": \"OKC\", \"season\": 2015, \"avg_player_height\": 202.01466666666664, \"lg\": \"NBA\", \"team\": \"Oklahoma City Thunder\", \"playoffs\": false, \"age\": 25.4, \"w\": 45.0, \"l\": 37.0, \"pw\": 47.0, \"pl\": 35.0, \"mov\": 2.18, \"sos\": 0.28, \"srs\": 2.47, \"o_rtg\": 107.8, \"d_rtg\": 105.5, \"n_rtg\": 2.3, \"pace\": 95.7, \"f_tr\": 0.284, \"x3p_ar\": 0.262, \"ts_percent\": 0.532, \"e_fg_percent\": 0.492, \"tov_percent\": 13.1, \"orb_percent\": 28.9, \"ft_fga\": 0.214, \"opp_e_fg_percent\": 0.489, \"opp_tov_percent\": 12.4, \"opp_drb_percent\": 75.6, \"opp_ft_fga\": 0.213, \"arena\": \"Chesapeake Energy Arena\", \"attend\": 746323.0, \"attend_g\": 18203.0}, {\"Unnamed: 0\": 222, \"abbreviation\": \"OKC\", \"season\": 2016, \"avg_player_height\": 201.50666666666663, \"lg\": \"NBA\", \"team\": \"Oklahoma City Thunder\", \"playoffs\": true, \"age\": 25.8, \"w\": 55.0, \"l\": 27.0, \"pw\": 59.0, \"pl\": 23.0, \"mov\": 7.28, \"sos\": -0.19, \"srs\": 7.09, \"o_rtg\": 113.1, \"d_rtg\": 105.6, \"n_rtg\": 7.5, \"pace\": 96.7, \"f_tr\": 0.292, \"x3p_ar\": 0.275, \"ts_percent\": 0.565, \"e_fg_percent\": 0.524, \"tov_percent\": 14.0, \"orb_percent\": 31.1, \"ft_fga\": 0.228, \"opp_e_fg_percent\": 0.484, \"opp_tov_percent\": 11.7, \"opp_drb_percent\": 76.0, \"opp_ft_fga\": 0.205, \"arena\": \"Chesapeake Energy Arena\", \"attend\": 746323.0, \"attend_g\": 18203.0}, {\"Unnamed: 0\": 223, \"abbreviation\": \"OKC\", \"season\": 2017, \"avg_player_height\": 201.22444444444443, \"lg\": \"NBA\", \"team\": \"Oklahoma City Thunder\", \"playoffs\": true, \"age\": 24.7, \"w\": 47.0, \"l\": 35.0, \"pw\": 43.0, \"pl\": 39.0, \"mov\": 0.76, \"sos\": 0.39, \"srs\": 1.14, \"o_rtg\": 108.3, \"d_rtg\": 107.5, \"n_rtg\": 0.8, \"pace\": 97.8, \"f_tr\": 0.295, \"x3p_ar\": 0.295, \"ts_percent\": 0.54, \"e_fg_percent\": 0.5, \"tov_percent\": 13.2, \"orb_percent\": 27.9, \"ft_fga\": 0.22, \"opp_e_fg_percent\": 0.511, \"opp_tov_percent\": 12.5, \"opp_drb_percent\": 79.0, \"opp_ft_fga\": 0.218, \"arena\": \"Chesapeake Energy Arena\", \"attend\": 746323.0, \"attend_g\": 18203.0}, {\"Unnamed: 0\": 224, \"abbreviation\": \"OKC\", \"season\": 2018, \"avg_player_height\": 199.61411764705883, \"lg\": \"NBA\", \"team\": \"Oklahoma City Thunder\", \"playoffs\": true, \"age\": 27.3, \"w\": 48.0, \"l\": 34.0, \"pw\": 50.0, \"pl\": 32.0, \"mov\": 3.41, \"sos\": 0.0, \"srs\": 3.42, \"o_rtg\": 110.7, \"d_rtg\": 107.2, \"n_rtg\": 3.5, \"pace\": 96.7, \"f_tr\": 0.275, \"x3p_ar\": 0.345, \"ts_percent\": 0.546, \"e_fg_percent\": 0.514, \"tov_percent\": 12.4, \"orb_percent\": 27.7, \"ft_fga\": 0.197, \"opp_e_fg_percent\": 0.525, \"opp_tov_percent\": 14.7, \"opp_drb_percent\": 77.4, \"opp_ft_fga\": 0.193, \"arena\": \"Chesapeake Energy Arena\", \"attend\": 746322.0, \"attend_g\": 18203.0}, {\"Unnamed: 0\": 225, \"abbreviation\": \"OKC\", \"season\": 2019, \"avg_player_height\": 199.0164705882353, \"lg\": \"NBA\", \"team\": \"Oklahoma City Thunder\", \"playoffs\": true, \"age\": 25.7, \"w\": 49.0, \"l\": 33.0, \"pw\": 50.0, \"pl\": 32.0, \"mov\": 3.4, \"sos\": 0.15, \"srs\": 3.56, \"o_rtg\": 110.3, \"d_rtg\": 107.0, \"n_rtg\": 3.3, \"pace\": 102.8, \"f_tr\": 0.266, \"x3p_ar\": 0.347, \"ts_percent\": 0.545, \"e_fg_percent\": 0.514, \"tov_percent\": 11.7, \"orb_percent\": 26.0, \"ft_fga\": 0.19, \"opp_e_fg_percent\": 0.523, \"opp_tov_percent\": 14.4, \"opp_drb_percent\": 78.2, \"opp_ft_fga\": 0.206, \"arena\": \"Chesapeake Energy Arena\", \"attend\": 746323.0, \"attend_g\": 18203.0}, {\"Unnamed: 0\": 226, \"abbreviation\": \"OKC\", \"season\": 2020, \"avg_player_height\": 199.10777777777776, \"lg\": \"NBA\", \"team\": \"Oklahoma City Thunder\", \"playoffs\": true, \"age\": 25.5, \"w\": 44.0, \"l\": 28.0, \"pw\": 41.0, \"pl\": 31.0, \"mov\": 1.99, \"sos\": 0.34, \"srs\": 2.33, \"o_rtg\": 110.8, \"d_rtg\": 108.8, \"n_rtg\": 2.0, \"pace\": 98.8, \"f_tr\": 0.29, \"x3p_ar\": 0.353, \"ts_percent\": 0.573, \"e_fg_percent\": 0.53, \"tov_percent\": 12.4, \"orb_percent\": 19.3, \"ft_fga\": 0.231, \"opp_e_fg_percent\": 0.518, \"opp_tov_percent\": 12.6, \"opp_drb_percent\": 76.8, \"opp_ft_fga\": 0.173, \"arena\": \"Chesapeake Energy Arena\", \"attend\": 600699.0, \"attend_g\": 18203.0}, {\"Unnamed: 0\": 227, \"abbreviation\": \"OKC\", \"season\": 2021, \"avg_player_height\": 199.78076923076924, \"lg\": \"NBA\", \"team\": \"Oklahoma City Thunder\", \"playoffs\": false, \"age\": 22.8, \"w\": 22.0, \"l\": 50.0, \"pw\": 15.0, \"pl\": 57.0, \"mov\": -10.64, \"sos\": 0.51, \"srs\": -10.13, \"o_rtg\": 103.5, \"d_rtg\": 114.0, \"n_rtg\": -10.5, \"pace\": 101.0, \"f_tr\": 0.242, \"x3p_ar\": 0.399, \"ts_percent\": 0.539, \"e_fg_percent\": 0.509, \"tov_percent\": 14.2, \"orb_percent\": 21.2, \"ft_fga\": 0.176, \"opp_e_fg_percent\": 0.547, \"opp_tov_percent\": 11.5, \"opp_drb_percent\": 77.9, \"opp_ft_fga\": 0.167, \"arena\": \"Chesapeake Energy Arena\", \"attend\": null, \"attend_g\": null}, {\"Unnamed: 0\": 228, \"abbreviation\": \"OKC\", \"season\": 2022, \"avg_player_height\": 200.025, \"lg\": \"NBA\", \"team\": \"Oklahoma City Thunder\", \"playoffs\": false, \"age\": 22.4, \"w\": 24.0, \"l\": 58.0, \"pw\": 21.0, \"pl\": 61.0, \"mov\": -8.1, \"sos\": 0.2, \"srs\": -7.9, \"o_rtg\": 104.6, \"d_rtg\": 112.8, \"n_rtg\": -8.2, \"pace\": 98.5, \"f_tr\": 0.223, \"x3p_ar\": 0.419, \"ts_percent\": 0.53, \"e_fg_percent\": 0.497, \"tov_percent\": 12.5, \"orb_percent\": 21.8, \"ft_fga\": 0.169, \"opp_e_fg_percent\": 0.533, \"opp_tov_percent\": 11.8, \"opp_drb_percent\": 76.1, \"opp_ft_fga\": 0.169, \"arena\": \"Paycom Center\", \"attend\": 595112.0, \"attend_g\": 14515.0}, {\"Unnamed: 0\": 229, \"abbreviation\": \"ORL\", \"season\": 2012, \"avg_player_height\": 200.8414285714286, \"lg\": \"NBA\", \"team\": \"Orlando Magic\", \"playoffs\": true, \"age\": 27.5, \"w\": 37.0, \"l\": 29.0, \"pw\": 35.0, \"pl\": 31.0, \"mov\": 0.79, \"sos\": -0.33, \"srs\": 0.46, \"o_rtg\": 105.0, \"d_rtg\": 104.1, \"n_rtg\": 0.9, \"pace\": 89.0, \"f_tr\": 0.292, \"x3p_ar\": 0.346, \"ts_percent\": 0.533, \"e_fg_percent\": 0.506, \"tov_percent\": 14.5, \"orb_percent\": 26.5, \"ft_fga\": 0.193, \"opp_e_fg_percent\": 0.488, \"opp_tov_percent\": 12.9, \"opp_drb_percent\": 75.5, \"opp_ft_fga\": 0.19, \"arena\": \"Amway Center\", \"attend\": 623587.0, \"attend_g\": 18897.0}, {\"Unnamed: 0\": 230, \"abbreviation\": \"ORL\", \"season\": 2013, \"avg_player_height\": 200.47857142857143, \"lg\": \"NBA\", \"team\": \"Orlando Magic\", \"playoffs\": false, \"age\": 24.6, \"w\": 20.0, \"l\": 62.0, \"pw\": 22.0, \"pl\": 60.0, \"mov\": -6.99, \"sos\": -0.14, \"srs\": -7.12, \"o_rtg\": 101.6, \"d_rtg\": 109.1, \"n_rtg\": -7.5, \"pace\": 92.2, \"f_tr\": 0.197, \"x3p_ar\": 0.223, \"ts_percent\": 0.514, \"e_fg_percent\": 0.485, \"tov_percent\": 13.7, \"orb_percent\": 25.4, \"ft_fga\": 0.149, \"opp_e_fg_percent\": 0.508, \"opp_tov_percent\": 11.8, \"opp_drb_percent\": 74.6, \"opp_ft_fga\": 0.195, \"arena\": \"Amway Center\", \"attend\": 722716.0, \"attend_g\": 17627.0}, {\"Unnamed: 0\": 231, \"abbreviation\": \"ORL\", \"season\": 2014, \"avg_player_height\": 201.50666666666663, \"lg\": \"NBA\", \"team\": \"Orlando Magic\", \"playoffs\": false, \"age\": 24.6, \"w\": 23.0, \"l\": 59.0, \"pw\": 26.0, \"pl\": 56.0, \"mov\": -5.44, \"sos\": -0.44, \"srs\": -5.88, \"o_rtg\": 101.7, \"d_rtg\": 107.4, \"n_rtg\": -5.7, \"pace\": 93.6, \"f_tr\": 0.253, \"x3p_ar\": 0.235, \"ts_percent\": 0.525, \"e_fg_percent\": 0.487, \"tov_percent\": 13.9, \"orb_percent\": 22.4, \"ft_fga\": 0.193, \"opp_e_fg_percent\": 0.504, \"opp_tov_percent\": 13.0, \"opp_drb_percent\": 75.5, \"opp_ft_fga\": 0.211, \"arena\": \"Amway Center\", \"attend\": 666046.0, \"attend_g\": 16245.0}, {\"Unnamed: 0\": 232, \"abbreviation\": \"ORL\", \"season\": 2015, \"avg_player_height\": 199.47466666666665, \"lg\": \"NBA\", \"team\": \"Orlando Magic\", \"playoffs\": false, \"age\": 24.3, \"w\": 25.0, \"l\": 57.0, \"pw\": 25.0, \"pl\": 57.0, \"mov\": -5.72, \"sos\": -0.15, \"srs\": -5.87, \"o_rtg\": 101.6, \"d_rtg\": 107.7, \"n_rtg\": -6.1, \"pace\": 93.8, \"f_tr\": 0.23, \"x3p_ar\": 0.235, \"ts_percent\": 0.524, \"e_fg_percent\": 0.494, \"tov_percent\": 14.0, \"orb_percent\": 23.1, \"ft_fga\": 0.168, \"opp_e_fg_percent\": 0.514, \"opp_tov_percent\": 13.6, \"opp_drb_percent\": 76.0, \"opp_ft_fga\": 0.21, \"arena\": \"Amway Center\", \"attend\": 688194.0, \"attend_g\": 16785.0}, {\"Unnamed: 0\": 233, \"abbreviation\": \"ORL\", \"season\": 2016, \"avg_player_height\": 200.66, \"lg\": \"NBA\", \"team\": \"Orlando Magic\", \"playoffs\": false, \"age\": 23.9, \"w\": 35.0, \"l\": 47.0, \"pw\": 36.0, \"pl\": 46.0, \"mov\": -1.62, \"sos\": -0.06, \"srs\": -1.68, \"o_rtg\": 105.1, \"d_rtg\": 106.8, \"n_rtg\": -1.7, \"pace\": 96.0, \"f_tr\": 0.232, \"x3p_ar\": 0.255, \"ts_percent\": 0.533, \"e_fg_percent\": 0.5, \"tov_percent\": 12.8, \"orb_percent\": 23.1, \"ft_fga\": 0.175, \"opp_e_fg_percent\": 0.513, \"opp_tov_percent\": 13.8, \"opp_drb_percent\": 76.5, \"opp_ft_fga\": 0.215, \"arena\": \"Amway Center\", \"attend\": 719275.0, \"attend_g\": 17515.0}, {\"Unnamed: 0\": 234, \"abbreviation\": \"ORL\", \"season\": 2017, \"avg_player_height\": 201.25764705882352, \"lg\": \"NBA\", \"team\": \"Orlando Magic\", \"playoffs\": false, \"age\": 25.3, \"w\": 29.0, \"l\": 53.0, \"pw\": 24.0, \"pl\": 58.0, \"mov\": -6.57, \"sos\": -0.04, \"srs\": -6.61, \"o_rtg\": 103.7, \"d_rtg\": 110.5, \"n_rtg\": -6.8, \"pace\": 96.8, \"f_tr\": 0.246, \"x3p_ar\": 0.3, \"ts_percent\": 0.524, \"e_fg_percent\": 0.489, \"tov_percent\": 12.1, \"orb_percent\": 21.6, \"ft_fga\": 0.184, \"opp_e_fg_percent\": 0.523, \"opp_tov_percent\": 11.9, \"opp_drb_percent\": 77.4, \"opp_ft_fga\": 0.201, \"arena\": \"Amway Center\", \"attend\": 727875.0, \"attend_g\": 17753.0}, {\"Unnamed: 0\": 235, \"abbreviation\": \"ORL\", \"season\": 2018, \"avg_player_height\": 200.66000000000005, \"lg\": \"NBA\", \"team\": \"Orlando Magic\", \"playoffs\": false, \"age\": 25.6, \"w\": 25.0, \"l\": 57.0, \"pw\": 28.0, \"pl\": 54.0, \"mov\": -4.82, \"sos\": -0.1, \"srs\": -4.92, \"o_rtg\": 105.2, \"d_rtg\": 110.1, \"n_rtg\": -4.9, \"pace\": 98.1, \"f_tr\": 0.238, \"x3p_ar\": 0.342, \"ts_percent\": 0.545, \"e_fg_percent\": 0.512, \"tov_percent\": 13.3, \"orb_percent\": 20.0, \"ft_fga\": 0.18, \"opp_e_fg_percent\": 0.525, \"opp_tov_percent\": 12.8, \"opp_drb_percent\": 75.6, \"opp_ft_fga\": 0.187, \"arena\": \"Amway Center\", \"attend\": 734531.0, \"attend_g\": 17915.0}, {\"Unnamed: 0\": 236, \"abbreviation\": \"ORL\", \"season\": 2019, \"avg_player_height\": 199.7242105263158, \"lg\": \"NBA\", \"team\": \"Orlando Magic\", \"playoffs\": true, \"age\": 25.7, \"w\": 42.0, \"l\": 40.0, \"pw\": 43.0, \"pl\": 39.0, \"mov\": 0.71, \"sos\": -0.43, \"srs\": 0.28, \"o_rtg\": 108.9, \"d_rtg\": 108.1, \"n_rtg\": 0.8, \"pace\": 98.1, \"f_tr\": 0.216, \"x3p_ar\": 0.36, \"ts_percent\": 0.55, \"e_fg_percent\": 0.518, \"tov_percent\": 11.9, \"orb_percent\": 22.0, \"ft_fga\": 0.168, \"opp_e_fg_percent\": 0.515, \"opp_tov_percent\": 11.8, \"opp_drb_percent\": 79.7, \"opp_ft_fga\": 0.186, \"arena\": \"Amway Center\", \"attend\": 720024.0, \"attend_g\": 17431.0}, {\"Unnamed: 0\": 237, \"abbreviation\": \"ORL\", \"season\": 2020, \"avg_player_height\": 196.50363636363636, \"lg\": \"NBA\", \"team\": \"Orlando Magic\", \"playoffs\": true, \"age\": 26.1, \"w\": 33.0, \"l\": 40.0, \"pw\": 34.0, \"pl\": 39.0, \"mov\": -1.01, \"sos\": 0.09, \"srs\": -0.93, \"o_rtg\": 108.5, \"d_rtg\": 109.5, \"n_rtg\": -1.0, \"pace\": 98.6, \"f_tr\": 0.256, \"x3p_ar\": 0.364, \"ts_percent\": 0.544, \"e_fg_percent\": 0.506, \"tov_percent\": 11.5, \"orb_percent\": 22.3, \"ft_fga\": 0.198, \"opp_e_fg_percent\": 0.535, \"opp_tov_percent\": 13.2, \"opp_drb_percent\": 79.1, \"opp_ft_fga\": 0.176, \"arena\": \"Amway Center\", \"attend\": 529870.0, \"attend_g\": 17093.0}, {\"Unnamed: 0\": 238, \"abbreviation\": \"ORL\", \"season\": 2021, \"avg_player_height\": 200.05523809523808, \"lg\": \"NBA\", \"team\": \"Orlando Magic\", \"playoffs\": false, \"age\": 25.6, \"w\": 21.0, \"l\": 51.0, \"pw\": 17.0, \"pl\": 55.0, \"mov\": -9.31, \"sos\": 0.29, \"srs\": -9.02, \"o_rtg\": 105.1, \"d_rtg\": 114.5, \"n_rtg\": -9.4, \"pace\": 98.7, \"f_tr\": 0.24, \"x3p_ar\": 0.356, \"ts_percent\": 0.527, \"e_fg_percent\": 0.49, \"tov_percent\": 11.5, \"orb_percent\": 21.6, \"ft_fga\": 0.186, \"opp_e_fg_percent\": 0.547, \"opp_tov_percent\": 11.5, \"opp_drb_percent\": 78.2, \"opp_ft_fga\": 0.169, \"arena\": \"Amway Center\", \"attend\": 126463.0, \"attend_g\": 3513.0}, {\"Unnamed: 0\": 239, \"abbreviation\": \"ORL\", \"season\": 2022, \"avg_player_height\": 202.15411764705885, \"lg\": \"NBA\", \"team\": \"Orlando Magic\", \"playoffs\": false, \"age\": 23.3, \"w\": 22.0, \"l\": 60.0, \"pw\": 21.0, \"pl\": 61.0, \"mov\": -8.0, \"sos\": 0.33, \"srs\": -7.67, \"o_rtg\": 104.5, \"d_rtg\": 112.5, \"n_rtg\": -8.0, \"pace\": 99.2, \"f_tr\": 0.223, \"x3p_ar\": 0.417, \"ts_percent\": 0.538, \"e_fg_percent\": 0.503, \"tov_percent\": 13.0, \"orb_percent\": 19.8, \"ft_fga\": 0.175, \"opp_e_fg_percent\": 0.532, \"opp_tov_percent\": 11.7, \"opp_drb_percent\": 77.2, \"opp_ft_fga\": 0.196, \"arena\": \"Amway Center\", \"attend\": 622881.0, \"attend_g\": 15192.0}, {\"Unnamed: 0\": 240, \"abbreviation\": \"PHI\", \"season\": 2012, \"avg_player_height\": 200.66, \"lg\": \"NBA\", \"team\": \"Philadelphia 76ers\", \"playoffs\": true, \"age\": 24.9, \"w\": 35.0, \"l\": 31.0, \"pw\": 43.0, \"pl\": 23.0, \"mov\": 4.24, \"sos\": -0.65, \"srs\": 3.59, \"o_rtg\": 103.9, \"d_rtg\": 99.2, \"n_rtg\": 4.7, \"pace\": 89.7, \"f_tr\": 0.217, \"x3p_ar\": 0.175, \"ts_percent\": 0.511, \"e_fg_percent\": 0.48, \"tov_percent\": 10.9, \"orb_percent\": 24.4, \"ft_fga\": 0.161, \"opp_e_fg_percent\": 0.46, \"opp_tov_percent\": 13.5, \"opp_drb_percent\": 75.2, \"opp_ft_fga\": 0.192, \"arena\": \"Wells Fargo Center\", \"attend\": 577597.0, \"attend_g\": 17503.0}, {\"Unnamed: 0\": 241, \"abbreviation\": \"PHI\", \"season\": 2013, \"avg_player_height\": 200.11888888888888, \"lg\": \"NBA\", \"team\": \"Philadelphia 76ers\", \"playoffs\": false, \"age\": 25.2, \"w\": 34.0, \"l\": 48.0, \"pw\": 31.0, \"pl\": 51.0, \"mov\": -3.34, \"sos\": -0.17, \"srs\": -3.51, \"o_rtg\": 102.0, \"d_rtg\": 105.7, \"n_rtg\": -3.7, \"pace\": 91.0, \"f_tr\": 0.2, \"x3p_ar\": 0.209, \"ts_percent\": 0.509, \"e_fg_percent\": 0.481, \"tov_percent\": 12.5, \"orb_percent\": 24.9, \"ft_fga\": 0.146, \"opp_e_fg_percent\": 0.495, \"opp_tov_percent\": 13.7, \"opp_drb_percent\": 73.4, \"opp_ft_fga\": 0.2, \"arena\": \"Wells Fargo Center\", \"attend\": 685412.0, \"attend_g\": 16717.0}, {\"Unnamed: 0\": 242, \"abbreviation\": \"PHI\", \"season\": 2014, \"avg_player_height\": 200.935, \"lg\": \"NBA\", \"team\": \"Philadelphia 76ers\", \"playoffs\": false, \"age\": 23.4, \"w\": 19.0, \"l\": 63.0, \"pw\": 16.0, \"pl\": 66.0, \"mov\": -10.45, \"sos\": -0.21, \"srs\": -10.66, \"o_rtg\": 99.4, \"d_rtg\": 109.9, \"n_rtg\": -10.5, \"pace\": 99.2, \"f_tr\": 0.268, \"x3p_ar\": 0.258, \"ts_percent\": 0.51, \"e_fg_percent\": 0.475, \"tov_percent\": 14.8, \"orb_percent\": 24.8, \"ft_fga\": 0.19, \"opp_e_fg_percent\": 0.524, \"opp_tov_percent\": 14.9, \"opp_drb_percent\": 72.4, \"opp_ft_fga\": 0.244, \"arena\": \"Wells Fargo Center\", \"attend\": 568632.0, \"attend_g\": 13869.0}, {\"Unnamed: 0\": 243, \"abbreviation\": \"PHI\", \"season\": 2015, \"avg_player_height\": 200.66, \"lg\": \"NBA\", \"team\": \"Philadelphia 76ers\", \"playoffs\": false, \"age\": 23.2, \"w\": 18.0, \"l\": 64.0, \"pw\": 18.0, \"pl\": 64.0, \"mov\": -8.98, \"sos\": -0.07, \"srs\": -9.04, \"o_rtg\": 95.5, \"d_rtg\": 104.8, \"n_rtg\": -9.3, \"pace\": 95.7, \"f_tr\": 0.288, \"x3p_ar\": 0.319, \"ts_percent\": 0.494, \"e_fg_percent\": 0.459, \"tov_percent\": 16.0, \"orb_percent\": 25.5, \"ft_fga\": 0.195, \"opp_e_fg_percent\": 0.497, \"opp_tov_percent\": 15.2, \"opp_drb_percent\": 73.0, \"opp_ft_fga\": 0.225, \"arena\": \"Wells Fargo Center\", \"attend\": 571572.0, \"attend_g\": 13941.0}, {\"Unnamed: 0\": 244, \"abbreviation\": \"PHI\", \"season\": 2016, \"avg_player_height\": 201.93, \"lg\": \"NBA\", \"team\": \"Philadelphia 76ers\", \"playoffs\": false, \"age\": 23.3, \"w\": 10.0, \"l\": 72.0, \"pw\": 16.0, \"pl\": 66.0, \"mov\": -10.23, \"sos\": 0.31, \"srs\": -9.92, \"o_rtg\": 98.8, \"d_rtg\": 109.2, \"n_rtg\": -10.4, \"pace\": 97.9, \"f_tr\": 0.269, \"x3p_ar\": 0.327, \"ts_percent\": 0.519, \"e_fg_percent\": 0.487, \"tov_percent\": 14.8, \"orb_percent\": 20.6, \"ft_fga\": 0.186, \"opp_e_fg_percent\": 0.51, \"opp_tov_percent\": 13.5, \"opp_drb_percent\": 74.0, \"opp_ft_fga\": 0.24, \"arena\": \"Wells Fargo Center\", \"attend\": 614650.0, \"attend_g\": 14991.0}, {\"Unnamed: 0\": 245, \"abbreviation\": \"PHI\", \"season\": 2017, \"avg_player_height\": 199.45684210526315, \"lg\": \"NBA\", \"team\": \"Philadelphia 76ers\", \"playoffs\": false, \"age\": 24.6, \"w\": 28.0, \"l\": 54.0, \"pw\": 26.0, \"pl\": 56.0, \"mov\": -5.7, \"sos\": -0.14, \"srs\": -5.83, \"o_rtg\": 103.2, \"d_rtg\": 108.9, \"n_rtg\": -5.7, \"pace\": 98.5, \"f_tr\": 0.258, \"x3p_ar\": 0.349, \"ts_percent\": 0.539, \"e_fg_percent\": 0.501, \"tov_percent\": 14.9, \"orb_percent\": 22.4, \"ft_fga\": 0.199, \"opp_e_fg_percent\": 0.512, \"opp_tov_percent\": 13.5, \"opp_drb_percent\": 75.3, \"opp_ft_fga\": 0.234, \"arena\": \"Wells Fargo Center\", \"attend\": 710557.0, \"attend_g\": 17331.0}, {\"Unnamed: 0\": 246, \"abbreviation\": \"PHI\", \"season\": 2018, \"avg_player_height\": 202.6652631578947, \"lg\": \"NBA\", \"team\": \"Philadelphia 76ers\", \"playoffs\": true, \"age\": 25.8, \"w\": 52.0, \"l\": 30.0, \"pw\": 53.0, \"pl\": 29.0, \"mov\": 4.5, \"sos\": -0.2, \"srs\": 4.3, \"o_rtg\": 109.5, \"d_rtg\": 105.0, \"n_rtg\": 4.5, \"pace\": 99.8, \"f_tr\": 0.263, \"x3p_ar\": 0.344, \"ts_percent\": 0.568, \"e_fg_percent\": 0.535, \"tov_percent\": 14.6, \"orb_percent\": 25.3, \"ft_fga\": 0.198, \"opp_e_fg_percent\": 0.492, \"opp_tov_percent\": 12.6, \"opp_drb_percent\": 78.6, \"opp_ft_fga\": 0.218, \"arena\": \"Wells Fargo Center\", \"attend\": 833503.0, \"attend_g\": 20361.0}, {\"Unnamed: 0\": 247, \"abbreviation\": \"PHI\", \"season\": 2019, \"avg_player_height\": 199.91294117647055, \"lg\": \"NBA\", \"team\": \"Philadelphia 76ers\", \"playoffs\": true, \"age\": 26.4, \"w\": 51.0, \"l\": 31.0, \"pw\": 48.0, \"pl\": 34.0, \"mov\": 2.7, \"sos\": -0.44, \"srs\": 2.25, \"o_rtg\": 112.6, \"d_rtg\": 110.0, \"n_rtg\": 2.6, \"pace\": 101.6, \"f_tr\": 0.312, \"x3p_ar\": 0.342, \"ts_percent\": 0.574, \"e_fg_percent\": 0.532, \"tov_percent\": 12.9, \"orb_percent\": 24.5, \"ft_fga\": 0.241, \"opp_e_fg_percent\": 0.512, \"opp_tov_percent\": 11.1, \"opp_drb_percent\": 78.6, \"opp_ft_fga\": 0.206, \"arena\": \"Wells Fargo Center\", \"attend\": 838342.0, \"attend_g\": 20447.0}, {\"Unnamed: 0\": 248, \"abbreviation\": \"PHI\", \"season\": 2020, \"avg_player_height\": 199.20857142857145, \"lg\": \"NBA\", \"team\": \"Philadelphia 76ers\", \"playoffs\": true, \"age\": 26.3, \"w\": 43.0, \"l\": 30.0, \"pw\": 42.0, \"pl\": 31.0, \"mov\": 2.38, \"sos\": -0.13, \"srs\": 2.25, \"o_rtg\": 111.3, \"d_rtg\": 109.0, \"n_rtg\": 2.3, \"pace\": 99.0, \"f_tr\": 0.255, \"x3p_ar\": 0.36, \"ts_percent\": 0.566, \"e_fg_percent\": 0.534, \"tov_percent\": 12.7, \"orb_percent\": 23.9, \"ft_fga\": 0.193, \"opp_e_fg_percent\": 0.523, \"opp_tov_percent\": 12.5, \"opp_drb_percent\": 80.3, \"opp_ft_fga\": 0.214, \"arena\": \"Wells Fargo Center\", \"attend\": 639491.0, \"attend_g\": 20629.0}, {\"Unnamed: 0\": 249, \"abbreviation\": \"PHI\", \"season\": 2021, \"avg_player_height\": 199.59052631578948, \"lg\": \"NBA\", \"team\": \"Philadelphia 76ers\", \"playoffs\": true, \"age\": 27.1, \"w\": 49.0, \"l\": 23.0, \"pw\": 48.0, \"pl\": 24.0, \"mov\": 5.58, \"sos\": -0.31, \"srs\": 5.28, \"o_rtg\": 113.2, \"d_rtg\": 107.6, \"n_rtg\": 5.6, \"pace\": 99.5, \"f_tr\": 0.293, \"x3p_ar\": 0.347, \"ts_percent\": 0.579, \"e_fg_percent\": 0.541, \"tov_percent\": 12.8, \"orb_percent\": 23.2, \"ft_fga\": 0.225, \"opp_e_fg_percent\": 0.521, \"opp_tov_percent\": 13.8, \"opp_drb_percent\": 78.2, \"opp_ft_fga\": 0.2, \"arena\": \"Wells Fargo Center\", \"attend\": 68583.0, \"attend_g\": 1905.0}, {\"Unnamed: 0\": 250, \"abbreviation\": \"PHI\", \"season\": 2022, \"avg_player_height\": 198.96666666666667, \"lg\": \"NBA\", \"team\": \"Philadelphia 76ers\", \"playoffs\": true, \"age\": 26.8, \"w\": 51.0, \"l\": 31.0, \"pw\": 48.0, \"pl\": 34.0, \"mov\": 2.61, \"sos\": -0.04, \"srs\": 2.57, \"o_rtg\": 113.5, \"d_rtg\": 110.8, \"n_rtg\": 2.7, \"pace\": 96.2, \"f_tr\": 0.282, \"x3p_ar\": 0.376, \"ts_percent\": 0.578, \"e_fg_percent\": 0.534, \"tov_percent\": 11.6, \"orb_percent\": 20.1, \"ft_fga\": 0.232, \"opp_e_fg_percent\": 0.524, \"opp_tov_percent\": 12.1, \"opp_drb_percent\": 76.8, \"opp_ft_fga\": 0.192, \"arena\": \"Wells Fargo Center\", \"attend\": 846867.0, \"attend_g\": 20655.0}, {\"Unnamed: 0\": 251, \"abbreviation\": \"PHX\", \"season\": 2012, \"avg_player_height\": 203.2, \"lg\": \"NBA\", \"team\": \"Phoenix Suns\", \"playoffs\": false, \"age\": 28.9, \"w\": 33.0, \"l\": 33.0, \"pw\": 32.0, \"pl\": 34.0, \"mov\": -0.24, \"sos\": 0.53, \"srs\": 0.29, \"o_rtg\": 106.2, \"d_rtg\": 106.5, \"n_rtg\": -0.3, \"pace\": 92.6, \"f_tr\": 0.257, \"x3p_ar\": 0.238, \"ts_percent\": 0.536, \"e_fg_percent\": 0.499, \"tov_percent\": 13.3, \"orb_percent\": 25.8, \"ft_fga\": 0.194, \"opp_e_fg_percent\": 0.491, \"opp_tov_percent\": 13.1, \"opp_drb_percent\": 71.7, \"opp_ft_fga\": 0.2, \"arena\": \"US Airways Center\", \"attend\": 514718.0, \"attend_g\": 15598.0}, {\"Unnamed: 0\": 252, \"abbreviation\": \"PHX\", \"season\": 2013, \"avg_player_height\": 200.82933333333332, \"lg\": \"NBA\", \"team\": \"Phoenix Suns\", \"playoffs\": false, \"age\": 26.9, \"w\": 25.0, \"l\": 57.0, \"pw\": 23.0, \"pl\": 59.0, \"mov\": -6.46, \"sos\": 0.71, \"srs\": -5.75, \"o_rtg\": 101.2, \"d_rtg\": 108.1, \"n_rtg\": -6.9, \"pace\": 93.4, \"f_tr\": 0.234, \"x3p_ar\": 0.21, \"ts_percent\": 0.512, \"e_fg_percent\": 0.477, \"tov_percent\": 14.3, \"orb_percent\": 27.0, \"ft_fga\": 0.174, \"opp_e_fg_percent\": 0.512, \"opp_tov_percent\": 14.2, \"opp_drb_percent\": 71.9, \"opp_ft_fga\": 0.208, \"arena\": \"US Airways Center\", \"attend\": 632913.0, \"attend_g\": 15437.0}, {\"Unnamed: 0\": 253, \"abbreviation\": \"PHX\", \"season\": 2014, \"avg_player_height\": 200.80941176470589, \"lg\": \"NBA\", \"team\": \"Phoenix Suns\", \"playoffs\": false, \"age\": 26.2, \"w\": 48.0, \"l\": 34.0, \"pw\": 48.0, \"pl\": 34.0, \"mov\": 2.63, \"sos\": 0.39, \"srs\": 3.02, \"o_rtg\": 109.5, \"d_rtg\": 106.7, \"n_rtg\": 2.8, \"pace\": 95.8, \"f_tr\": 0.293, \"x3p_ar\": 0.3, \"ts_percent\": 0.558, \"e_fg_percent\": 0.519, \"tov_percent\": 14.0, \"orb_percent\": 26.4, \"ft_fga\": 0.222, \"opp_e_fg_percent\": 0.496, \"opp_tov_percent\": 13.9, \"opp_drb_percent\": 73.7, \"opp_ft_fga\": 0.237, \"arena\": \"US Airways Center\", \"attend\": 650739.0, \"attend_g\": 15872.0}, {\"Unnamed: 0\": 254, \"abbreviation\": \"PHX\", \"season\": 2015, \"avg_player_height\": 200.3425, \"lg\": \"NBA\", \"team\": \"Phoenix Suns\", \"playoffs\": false, \"age\": 25.7, \"w\": 39.0, \"l\": 43.0, \"pw\": 38.0, \"pl\": 44.0, \"mov\": -0.9, \"sos\": 0.52, \"srs\": -0.38, \"o_rtg\": 105.3, \"d_rtg\": 106.2, \"n_rtg\": -0.9, \"pace\": 96.3, \"f_tr\": 0.251, \"x3p_ar\": 0.291, \"ts_percent\": 0.537, \"e_fg_percent\": 0.501, \"tov_percent\": 13.7, \"orb_percent\": 24.5, \"ft_fga\": 0.191, \"opp_e_fg_percent\": 0.497, \"opp_tov_percent\": 14.0, \"opp_drb_percent\": 73.5, \"opp_ft_fga\": 0.221, \"arena\": \"US Airways Center\", \"attend\": 693862.0, \"attend_g\": 16923.0}, {\"Unnamed: 0\": 255, \"abbreviation\": \"PHX\", \"season\": 2016, \"avg_player_height\": 199.31529411764703, \"lg\": \"NBA\", \"team\": \"Phoenix Suns\", \"playoffs\": false, \"age\": 26.0, \"w\": 23.0, \"l\": 59.0, \"pw\": 24.0, \"pl\": 58.0, \"mov\": -6.66, \"sos\": 0.34, \"srs\": -6.32, \"o_rtg\": 102.2, \"d_rtg\": 109.0, \"n_rtg\": -6.8, \"pace\": 98.5, \"f_tr\": 0.271, \"x3p_ar\": 0.302, \"ts_percent\": 0.526, \"e_fg_percent\": 0.487, \"tov_percent\": 15.2, \"orb_percent\": 25.4, \"ft_fga\": 0.204, \"opp_e_fg_percent\": 0.523, \"opp_tov_percent\": 13.5, \"opp_drb_percent\": 77.1, \"opp_ft_fga\": 0.237, \"arena\": \"Talking Stick Resort Arena\", \"attend\": 701405.0, \"attend_g\": 17107.0}, {\"Unnamed: 0\": 256, \"abbreviation\": \"PHX\", \"season\": 2017, \"avg_player_height\": 199.81333333333333, \"lg\": \"NBA\", \"team\": \"Phoenix Suns\", \"playoffs\": false, \"age\": 25.0, \"w\": 24.0, \"l\": 58.0, \"pw\": 27.0, \"pl\": 55.0, \"mov\": -5.63, \"sos\": 0.49, \"srs\": -5.14, \"o_rtg\": 106.6, \"d_rtg\": 112.2, \"n_rtg\": -5.6, \"pace\": 100.3, \"f_tr\": 0.297, \"x3p_ar\": 0.255, \"ts_percent\": 0.538, \"e_fg_percent\": 0.493, \"tov_percent\": 13.4, \"orb_percent\": 26.0, \"ft_fga\": 0.231, \"opp_e_fg_percent\": 0.525, \"opp_tov_percent\": 13.1, \"opp_drb_percent\": 76.4, \"opp_ft_fga\": 0.264, \"arena\": \"Talking Stick Resort Arena\", \"attend\": 708639.0, \"attend_g\": 17134.0}, {\"Unnamed: 0\": 257, \"abbreviation\": \"PHX\", \"season\": 2018, \"avg_player_height\": 200.36117647058825, \"lg\": \"NBA\", \"team\": \"Phoenix Suns\", \"playoffs\": false, \"age\": 23.7, \"w\": 21.0, \"l\": 61.0, \"pw\": 19.0, \"pl\": 63.0, \"mov\": -9.37, \"sos\": 0.57, \"srs\": -8.8, \"o_rtg\": 103.5, \"d_rtg\": 112.8, \"n_rtg\": -9.3, \"pace\": 100.3, \"f_tr\": 0.275, \"x3p_ar\": 0.32, \"ts_percent\": 0.532, \"e_fg_percent\": 0.495, \"tov_percent\": 13.9, \"orb_percent\": 22.5, \"ft_fga\": 0.203, \"opp_e_fg_percent\": 0.533, \"opp_tov_percent\": 11.9, \"opp_drb_percent\": 76.5, \"opp_ft_fga\": 0.212, \"arena\": \"Talking Stick Resort Arena\", \"attend\": 690576.0, \"attend_g\": 16843.0}, {\"Unnamed: 0\": 258, \"abbreviation\": \"PHX\", \"season\": 2019, \"avg_player_height\": 199.61411764705883, \"lg\": \"NBA\", \"team\": \"Phoenix Suns\", \"playoffs\": false, \"age\": 24.0, \"w\": 19.0, \"l\": 63.0, \"pw\": 19.0, \"pl\": 63.0, \"mov\": -9.34, \"sos\": 0.73, \"srs\": -8.61, \"o_rtg\": 105.9, \"d_rtg\": 115.1, \"n_rtg\": -9.2, \"pace\": 100.5, \"f_tr\": 0.259, \"x3p_ar\": 0.335, \"ts_percent\": 0.552, \"e_fg_percent\": 0.514, \"tov_percent\": 13.8, \"orb_percent\": 20.5, \"ft_fga\": 0.202, \"opp_e_fg_percent\": 0.545, \"opp_tov_percent\": 13.5, \"opp_drb_percent\": 72.5, \"opp_ft_fga\": 0.236, \"arena\": \"Talking Stick Resort Arena\", \"attend\": 627023.0, \"attend_g\": 15293.0}, {\"Unnamed: 0\": 259, \"abbreviation\": \"PHX\", \"season\": 2020, \"avg_player_height\": 197.00875, \"lg\": \"NBA\", \"team\": \"Phoenix Suns\", \"playoffs\": false, \"age\": 24.6, \"w\": 34.0, \"l\": 39.0, \"pw\": 37.0, \"pl\": 36.0, \"mov\": 0.22, \"sos\": 0.35, \"srs\": 0.56, \"o_rtg\": 111.7, \"d_rtg\": 111.4, \"n_rtg\": 0.3, \"pace\": 101.3, \"f_tr\": 0.271, \"x3p_ar\": 0.361, \"ts_percent\": 0.576, \"e_fg_percent\": 0.532, \"tov_percent\": 13.0, \"orb_percent\": 22.2, \"ft_fga\": 0.226, \"opp_e_fg_percent\": 0.539, \"opp_tov_percent\": 13.7, \"opp_drb_percent\": 78.8, \"opp_ft_fga\": 0.221, \"arena\": \"Talking Stick Resort Arena\", \"attend\": 550633.0, \"attend_g\": 15606.0}, {\"Unnamed: 0\": 260, \"abbreviation\": \"PHX\", \"season\": 2021, \"avg_player_height\": 198.23545454545456, \"lg\": \"NBA\", \"team\": \"Phoenix Suns\", \"playoffs\": true, \"age\": 26.6, \"w\": 51.0, \"l\": 21.0, \"pw\": 49.0, \"pl\": 23.0, \"mov\": 5.82, \"sos\": -0.15, \"srs\": 5.67, \"o_rtg\": 117.2, \"d_rtg\": 111.3, \"n_rtg\": 5.9, \"pace\": 97.2, \"f_tr\": 0.212, \"x3p_ar\": 0.392, \"ts_percent\": 0.597, \"e_fg_percent\": 0.564, \"tov_percent\": 11.5, \"orb_percent\": 20.8, \"ft_fga\": 0.177, \"opp_e_fg_percent\": 0.534, \"opp_tov_percent\": 12.4, \"opp_drb_percent\": 78.5, \"opp_ft_fga\": 0.194, \"arena\": \"Phoenix Suns Arena\", \"attend\": 104027.0, \"attend_g\": 2890.0}, {\"Unnamed: 0\": 261, \"abbreviation\": \"PHX\", \"season\": 2022, \"avg_player_height\": 198.4375, \"lg\": \"NBA\", \"team\": \"Phoenix Suns\", \"playoffs\": true, \"age\": 27.5, \"w\": 64.0, \"l\": 18.0, \"pw\": 59.0, \"pl\": 23.0, \"mov\": 7.5, \"sos\": -0.56, \"srs\": 6.94, \"o_rtg\": 114.8, \"d_rtg\": 107.3, \"n_rtg\": 7.5, \"pace\": 99.8, \"f_tr\": 0.221, \"x3p_ar\": 0.354, \"ts_percent\": 0.581, \"e_fg_percent\": 0.549, \"tov_percent\": 11.6, \"orb_percent\": 22.3, \"ft_fga\": 0.176, \"opp_e_fg_percent\": 0.51, \"opp_tov_percent\": 13.0, \"opp_drb_percent\": 77.1, \"opp_ft_fga\": 0.195, \"arena\": \"Phoenix Suns Arena\", \"attend\": 663171.0, \"attend_g\": 16175.0}, {\"Unnamed: 0\": 262, \"abbreviation\": \"POR\", \"season\": 2012, \"avg_player_height\": 200.99866666666668, \"lg\": \"NBA\", \"team\": \"Portland Trail Blazers\", \"playoffs\": false, \"age\": 27.5, \"w\": 28.0, \"l\": 38.0, \"pw\": 32.0, \"pl\": 34.0, \"mov\": -0.62, \"sos\": 0.41, \"srs\": -0.22, \"o_rtg\": 105.7, \"d_rtg\": 106.4, \"n_rtg\": -0.7, \"pace\": 91.2, \"f_tr\": 0.263, \"x3p_ar\": 0.255, \"ts_percent\": 0.531, \"e_fg_percent\": 0.488, \"tov_percent\": 13.4, \"orb_percent\": 26.3, \"ft_fga\": 0.209, \"opp_e_fg_percent\": 0.504, \"opp_tov_percent\": 14.1, \"opp_drb_percent\": 72.8, \"opp_ft_fga\": 0.199, \"arena\": \"Rose Garden Arena\", \"attend\": 676384.0, \"attend_g\": 20496.0}, {\"Unnamed: 0\": 263, \"abbreviation\": \"POR\", \"season\": 2013, \"avg_player_height\": 201.168, \"lg\": \"NBA\", \"team\": \"Portland Trail Blazers\", \"playoffs\": false, \"age\": 24.4, \"w\": 33.0, \"l\": 49.0, \"pw\": 32.0, \"pl\": 50.0, \"mov\": -3.17, \"sos\": 0.65, \"srs\": -2.53, \"o_rtg\": 105.8, \"d_rtg\": 109.2, \"n_rtg\": -3.4, \"pace\": 91.4, \"f_tr\": 0.25, \"x3p_ar\": 0.284, \"ts_percent\": 0.536, \"e_fg_percent\": 0.498, \"tov_percent\": 13.9, \"orb_percent\": 25.3, \"ft_fga\": 0.194, \"opp_e_fg_percent\": 0.512, \"opp_tov_percent\": 12.5, \"opp_drb_percent\": 73.3, \"opp_ft_fga\": 0.189, \"arena\": \"Rose Garden Arena\", \"attend\": 813012.0, \"attend_g\": 19830.0}, {\"Unnamed: 0\": 264, \"abbreviation\": \"POR\", \"season\": 2014, \"avg_player_height\": 201.45375, \"lg\": \"NBA\", \"team\": \"Portland Trail Blazers\", \"playoffs\": true, \"age\": 25.8, \"w\": 54.0, \"l\": 28.0, \"pw\": 52.0, \"pl\": 30.0, \"mov\": 3.99, \"sos\": 0.45, \"srs\": 4.44, \"o_rtg\": 111.5, \"d_rtg\": 107.4, \"n_rtg\": 4.1, \"pace\": 94.9, \"f_tr\": 0.27, \"x3p_ar\": 0.29, \"ts_percent\": 0.548, \"e_fg_percent\": 0.504, \"tov_percent\": 12.4, \"orb_percent\": 28.0, \"ft_fga\": 0.22, \"opp_e_fg_percent\": 0.488, \"opp_tov_percent\": 11.0, \"opp_drb_percent\": 74.7, \"opp_ft_fga\": 0.194, \"arena\": \"Moda Center\", \"attend\": 809612.0, \"attend_g\": 19747.0}, {\"Unnamed: 0\": 265, \"abbreviation\": \"POR\", \"season\": 2015, \"avg_player_height\": 200.50125, \"lg\": \"NBA\", \"team\": \"Portland Trail Blazers\", \"playoffs\": true, \"age\": 27.0, \"w\": 51.0, \"l\": 31.0, \"pw\": 53.0, \"pl\": 29.0, \"mov\": 4.23, \"sos\": 0.18, \"srs\": 4.41, \"o_rtg\": 108.2, \"d_rtg\": 103.7, \"n_rtg\": 4.5, \"pace\": 94.2, \"f_tr\": 0.225, \"x3p_ar\": 0.316, \"ts_percent\": 0.544, \"e_fg_percent\": 0.508, \"tov_percent\": 12.6, \"orb_percent\": 24.2, \"ft_fga\": 0.18, \"opp_e_fg_percent\": 0.476, \"opp_tov_percent\": 11.3, \"opp_drb_percent\": 76.2, \"opp_ft_fga\": 0.182, \"arena\": \"Moda Center\", \"attend\": 798368.0, \"attend_g\": 19472.0}, {\"Unnamed: 0\": 266, \"abbreviation\": \"POR\", \"season\": 2016, \"avg_player_height\": 201.3857142857143, \"lg\": \"NBA\", \"team\": \"Portland Trail Blazers\", \"playoffs\": true, \"age\": 24.3, \"w\": 44.0, \"l\": 38.0, \"pw\": 43.0, \"pl\": 39.0, \"mov\": 0.83, \"sos\": 0.15, \"srs\": 0.98, \"o_rtg\": 108.8, \"d_rtg\": 108.0, \"n_rtg\": 0.8, \"pace\": 96.0, \"f_tr\": 0.268, \"x3p_ar\": 0.332, \"ts_percent\": 0.548, \"e_fg_percent\": 0.511, \"tov_percent\": 13.2, \"orb_percent\": 25.9, \"ft_fga\": 0.202, \"opp_e_fg_percent\": 0.503, \"opp_tov_percent\": 12.1, \"opp_drb_percent\": 76.2, \"opp_ft_fga\": 0.225, \"arena\": \"Moda Center\", \"attend\": 794085.0, \"attend_g\": 19368.0}, {\"Unnamed: 0\": 267, \"abbreviation\": \"POR\", \"season\": 2017, \"avg_player_height\": 202.8613333333333, \"lg\": \"NBA\", \"team\": \"Portland Trail Blazers\", \"playoffs\": true, \"age\": 24.8, \"w\": 41.0, \"l\": 41.0, \"pw\": 40.0, \"pl\": 42.0, \"mov\": -0.52, \"sos\": 0.3, \"srs\": -0.23, \"o_rtg\": 110.3, \"d_rtg\": 110.8, \"n_rtg\": -0.5, \"pace\": 96.7, \"f_tr\": 0.275, \"x3p_ar\": 0.322, \"ts_percent\": 0.559, \"e_fg_percent\": 0.52, \"tov_percent\": 12.5, \"orb_percent\": 23.0, \"ft_fga\": 0.214, \"opp_e_fg_percent\": 0.508, \"opp_tov_percent\": 11.6, \"opp_drb_percent\": 76.8, \"opp_ft_fga\": 0.241, \"arena\": \"Moda Center\", \"attend\": 792029.0, \"attend_g\": 19318.0}, {\"Unnamed: 0\": 268, \"abbreviation\": \"POR\", \"season\": 2018, \"avg_player_height\": 202.40625, \"lg\": \"NBA\", \"team\": \"Portland Trail Blazers\", \"playoffs\": true, \"age\": 25.6, \"w\": 49.0, \"l\": 33.0, \"pw\": 48.0, \"pl\": 34.0, \"mov\": 2.6, \"sos\": 0.0, \"srs\": 2.6, \"o_rtg\": 109.1, \"d_rtg\": 106.4, \"n_rtg\": 2.7, \"pace\": 96.5, \"f_tr\": 0.24, \"x3p_ar\": 0.324, \"ts_percent\": 0.549, \"e_fg_percent\": 0.511, \"tov_percent\": 12.3, \"orb_percent\": 23.3, \"ft_fga\": 0.192, \"opp_e_fg_percent\": 0.503, \"opp_tov_percent\": 11.7, \"opp_drb_percent\": 79.1, \"opp_ft_fga\": 0.193, \"arena\": \"Moda Center\", \"attend\": 795750.0, \"attend_g\": 19409.0}, {\"Unnamed: 0\": 269, \"abbreviation\": \"POR\", \"season\": 2019, \"avg_player_height\": 202.72375, \"lg\": \"NBA\", \"team\": \"Portland Trail Blazers\", \"playoffs\": true, \"age\": 26.2, \"w\": 53.0, \"l\": 29.0, \"pw\": 51.0, \"pl\": 31.0, \"mov\": 4.2, \"sos\": 0.24, \"srs\": 4.43, \"o_rtg\": 114.7, \"d_rtg\": 110.5, \"n_rtg\": 4.2, \"pace\": 99.1, \"f_tr\": 0.258, \"x3p_ar\": 0.339, \"ts_percent\": 0.568, \"e_fg_percent\": 0.528, \"tov_percent\": 12.1, \"orb_percent\": 26.6, \"ft_fga\": 0.21, \"opp_e_fg_percent\": 0.516, \"opp_tov_percent\": 11.0, \"opp_drb_percent\": 77.9, \"opp_ft_fga\": 0.195, \"arena\": \"Moda Center\", \"attend\": 799345.0, \"attend_g\": 19496.0}, {\"Unnamed: 0\": 270, \"abbreviation\": \"POR\", \"season\": 2020, \"avg_player_height\": 198.628, \"lg\": \"NBA\", \"team\": \"Portland Trail Blazers\", \"playoffs\": true, \"age\": 27.5, \"w\": 35.0, \"l\": 39.0, \"pw\": 34.0, \"pl\": 40.0, \"mov\": -1.15, \"sos\": 0.54, \"srs\": -0.61, \"o_rtg\": 113.7, \"d_rtg\": 114.8, \"n_rtg\": -1.1, \"pace\": 100.7, \"f_tr\": 0.242, \"x3p_ar\": 0.374, \"ts_percent\": 0.57, \"e_fg_percent\": 0.533, \"tov_percent\": 11.2, \"orb_percent\": 22.4, \"ft_fga\": 0.194, \"opp_e_fg_percent\": 0.53, \"opp_tov_percent\": 11.2, \"opp_drb_percent\": 75.3, \"opp_ft_fga\": 0.208, \"arena\": \"Moda Center\", \"attend\": 628303.0, \"attend_g\": 19634.0}, {\"Unnamed: 0\": 271, \"abbreviation\": \"POR\", \"season\": 2021, \"avg_player_height\": 196.63833333333332, \"lg\": \"NBA\", \"team\": \"Portland Trail Blazers\", \"playoffs\": true, \"age\": 27.4, \"w\": 42.0, \"l\": 30.0, \"pw\": 40.0, \"pl\": 32.0, \"mov\": 1.79, \"sos\": 0.01, \"srs\": 1.81, \"o_rtg\": 117.8, \"d_rtg\": 116.0, \"n_rtg\": 1.8, \"pace\": 98.4, \"f_tr\": 0.238, \"x3p_ar\": 0.448, \"ts_percent\": 0.577, \"e_fg_percent\": 0.54, \"tov_percent\": 9.9, \"orb_percent\": 23.0, \"ft_fga\": 0.195, \"opp_e_fg_percent\": 0.546, \"opp_tov_percent\": 11.2, \"opp_drb_percent\": 77.5, \"opp_ft_fga\": 0.203, \"arena\": \"Moda Center\", \"attend\": 5817.0, \"attend_g\": 162.0}, {\"Unnamed: 0\": 272, \"abbreviation\": \"POR\", \"season\": 2022, \"avg_player_height\": 199.3295238095238, \"lg\": \"NBA\", \"team\": \"Portland Trail Blazers\", \"playoffs\": false, \"age\": 25.6, \"w\": 27.0, \"l\": 55.0, \"pw\": 20.0, \"pl\": 62.0, \"mov\": -8.88, \"sos\": 0.33, \"srs\": -8.55, \"o_rtg\": 107.8, \"d_rtg\": 116.9, \"n_rtg\": -9.1, \"pace\": 98.3, \"f_tr\": 0.248, \"x3p_ar\": 0.422, \"ts_percent\": 0.55, \"e_fg_percent\": 0.515, \"tov_percent\": 13.0, \"orb_percent\": 22.9, \"ft_fga\": 0.188, \"opp_e_fg_percent\": 0.559, \"opp_tov_percent\": 12.7, \"opp_drb_percent\": 76.9, \"opp_ft_fga\": 0.222, \"arena\": \"Moda Center\", \"attend\": 705608.0, \"attend_g\": 17210.0}, {\"Unnamed: 0\": 273, \"abbreviation\": \"SAC\", \"season\": 2012, \"avg_player_height\": 199.39, \"lg\": \"NBA\", \"team\": \"Sacramento Kings\", \"playoffs\": false, \"age\": 24.3, \"w\": 22.0, \"l\": 44.0, \"pw\": 21.0, \"pl\": 45.0, \"mov\": -5.68, \"sos\": 0.73, \"srs\": -4.95, \"o_rtg\": 103.8, \"d_rtg\": 109.8, \"n_rtg\": -6.0, \"pace\": 94.7, \"f_tr\": 0.268, \"x3p_ar\": 0.228, \"ts_percent\": 0.51, \"e_fg_percent\": 0.472, \"tov_percent\": 13.0, \"orb_percent\": 29.1, \"ft_fga\": 0.197, \"opp_e_fg_percent\": 0.515, \"opp_tov_percent\": 13.9, \"opp_drb_percent\": 70.5, \"opp_ft_fga\": 0.199, \"arena\": \"Power Balance Pavilion\", \"attend\": 478764.0, \"attend_g\": 14508.0}, {\"Unnamed: 0\": 274, \"abbreviation\": \"SAC\", \"season\": 2013, \"avg_player_height\": 201.45375, \"lg\": \"NBA\", \"team\": \"Sacramento Kings\", \"playoffs\": false, \"age\": 25.6, \"w\": 28.0, \"l\": 54.0, \"pw\": 28.0, \"pl\": 54.0, \"mov\": -4.88, \"sos\": 0.62, \"srs\": -4.26, \"o_rtg\": 106.2, \"d_rtg\": 111.4, \"n_rtg\": -5.2, \"pace\": 93.6, \"f_tr\": 0.271, \"x3p_ar\": 0.243, \"ts_percent\": 0.532, \"e_fg_percent\": 0.491, \"tov_percent\": 13.4, \"orb_percent\": 26.6, \"ft_fga\": 0.208, \"opp_e_fg_percent\": 0.517, \"opp_tov_percent\": 13.6, \"opp_drb_percent\": 71.0, \"opp_ft_fga\": 0.227, \"arena\": \"Sleep Train Arena\", \"attend\": 563743.0, \"attend_g\": 13750.0}, {\"Unnamed: 0\": 275, \"abbreviation\": \"SAC\", \"season\": 2014, \"avg_player_height\": 202.00470588235297, \"lg\": \"NBA\", \"team\": \"Sacramento Kings\", \"playoffs\": false, \"age\": 24.9, \"w\": 28.0, \"l\": 54.0, \"pw\": 33.0, \"pl\": 49.0, \"mov\": -2.9, \"sos\": 0.82, \"srs\": -2.08, \"o_rtg\": 105.7, \"d_rtg\": 108.8, \"n_rtg\": -3.1, \"pace\": 94.4, \"f_tr\": 0.331, \"x3p_ar\": 0.218, \"ts_percent\": 0.532, \"e_fg_percent\": 0.484, \"tov_percent\": 13.9, \"orb_percent\": 27.8, \"ft_fga\": 0.251, \"opp_e_fg_percent\": 0.512, \"opp_tov_percent\": 12.7, \"opp_drb_percent\": 76.6, \"opp_ft_fga\": 0.234, \"arena\": \"Sleep Train Arena\", \"attend\": 667949.0, \"attend_g\": 16291.0}, {\"Unnamed: 0\": 276, \"abbreviation\": \"SAC\", \"season\": 2015, \"avg_player_height\": 200.49066666666667, \"lg\": \"NBA\", \"team\": \"Sacramento Kings\", \"playoffs\": false, \"age\": 26.0, \"w\": 29.0, \"l\": 53.0, \"pw\": 31.0, \"pl\": 51.0, \"mov\": -3.71, \"sos\": 0.64, \"srs\": -3.07, \"o_rtg\": 105.3, \"d_rtg\": 109.2, \"n_rtg\": -3.9, \"pace\": 95.4, \"f_tr\": 0.363, \"x3p_ar\": 0.204, \"ts_percent\": 0.542, \"e_fg_percent\": 0.49, \"tov_percent\": 14.8, \"orb_percent\": 26.5, \"ft_fga\": 0.276, \"opp_e_fg_percent\": 0.507, \"opp_tov_percent\": 11.8, \"opp_drb_percent\": 75.2, \"opp_ft_fga\": 0.2, \"arena\": \"Sleep Train Arena\", \"attend\": 680049.0, \"attend_g\": 16587.0}, {\"Unnamed: 0\": 277, \"abbreviation\": \"SAC\", \"season\": 2016, \"avg_player_height\": 198.59625, \"lg\": \"NBA\", \"team\": \"Sacramento Kings\", \"playoffs\": false, \"age\": 26.6, \"w\": 33.0, \"l\": 49.0, \"pw\": 34.0, \"pl\": 48.0, \"mov\": -2.48, \"sos\": 0.16, \"srs\": -2.32, \"o_rtg\": 106.0, \"d_rtg\": 108.4, \"n_rtg\": -2.4, \"pace\": 100.0, \"f_tr\": 0.295, \"x3p_ar\": 0.26, \"ts_percent\": 0.546, \"e_fg_percent\": 0.51, \"tov_percent\": 14.2, \"orb_percent\": 23.9, \"ft_fga\": 0.214, \"opp_e_fg_percent\": 0.521, \"opp_tov_percent\": 14.0, \"opp_drb_percent\": 74.9, \"opp_ft_fga\": 0.202, \"arena\": \"Sleep Train Arena\", \"attend\": 707526.0, \"attend_g\": 17222.0}, {\"Unnamed: 0\": 278, \"abbreviation\": \"SAC\", \"season\": 2017, \"avg_player_height\": 201.295, \"lg\": \"NBA\", \"team\": \"Sacramento Kings\", \"playoffs\": false, \"age\": 27.9, \"w\": 32.0, \"l\": 50.0, \"pw\": 31.0, \"pl\": 51.0, \"mov\": -3.88, \"sos\": 0.58, \"srs\": -3.29, \"o_rtg\": 107.3, \"d_rtg\": 111.3, \"n_rtg\": -4.0, \"pace\": 94.9, \"f_tr\": 0.284, \"x3p_ar\": 0.291, \"ts_percent\": 0.556, \"e_fg_percent\": 0.516, \"tov_percent\": 13.7, \"orb_percent\": 21.0, \"ft_fga\": 0.22, \"opp_e_fg_percent\": 0.528, \"opp_tov_percent\": 12.9, \"opp_drb_percent\": 76.3, \"opp_ft_fga\": 0.227, \"arena\": \"Golden 1 Center\", \"attend\": 721928.0, \"attend_g\": 17608.0}, {\"Unnamed: 0\": 279, \"abbreviation\": \"SAC\", \"season\": 2018, \"avg_player_height\": 200.5105882352941, \"lg\": \"NBA\", \"team\": \"Sacramento Kings\", \"playoffs\": false, \"age\": 26.4, \"w\": 27.0, \"l\": 55.0, \"pw\": 23.0, \"pl\": 59.0, \"mov\": -6.99, \"sos\": 0.39, \"srs\": -6.6, \"o_rtg\": 103.7, \"d_rtg\": 111.1, \"n_rtg\": -7.4, \"pace\": 94.9, \"f_tr\": 0.194, \"x3p_ar\": 0.278, \"ts_percent\": 0.529, \"e_fg_percent\": 0.502, \"tov_percent\": 12.8, \"orb_percent\": 21.5, \"ft_fga\": 0.143, \"opp_e_fg_percent\": 0.542, \"opp_tov_percent\": 13.5, \"opp_drb_percent\": 77.6, \"opp_ft_fga\": 0.199, \"arena\": \"Golden 1 Center\", \"attend\": 714680.0, \"attend_g\": 17431.0}, {\"Unnamed: 0\": 280, \"abbreviation\": \"SAC\", \"season\": 2019, \"avg_player_height\": 200.0955555555555, \"lg\": \"NBA\", \"team\": \"Sacramento Kings\", \"playoffs\": false, \"age\": 24.8, \"w\": 39.0, \"l\": 43.0, \"pw\": 38.0, \"pl\": 44.0, \"mov\": -1.12, \"sos\": 0.31, \"srs\": -0.81, \"o_rtg\": 110.4, \"d_rtg\": 111.5, \"n_rtg\": -1.1, \"pace\": 103.1, \"f_tr\": 0.244, \"x3p_ar\": 0.321, \"ts_percent\": 0.554, \"e_fg_percent\": 0.524, \"tov_percent\": 11.5, \"orb_percent\": 23.1, \"ft_fga\": 0.177, \"opp_e_fg_percent\": 0.533, \"opp_tov_percent\": 13.6, \"opp_drb_percent\": 75.5, \"opp_ft_fga\": 0.207, \"arena\": \"Golden 1 Center\", \"attend\": 700975.0, \"attend_g\": 17097.0}, {\"Unnamed: 0\": 281, \"abbreviation\": \"SAC\", \"season\": 2020, \"avg_player_height\": 199.85789473684213, \"lg\": \"NBA\", \"team\": \"Sacramento Kings\", \"playoffs\": false, \"age\": 27.0, \"w\": 31.0, \"l\": 41.0, \"pw\": 31.0, \"pl\": 41.0, \"mov\": -2.04, \"sos\": 0.46, \"srs\": -1.59, \"o_rtg\": 110.2, \"d_rtg\": 112.2, \"n_rtg\": -2.0, \"pace\": 98.9, \"f_tr\": 0.23, \"x3p_ar\": 0.395, \"ts_percent\": 0.566, \"e_fg_percent\": 0.534, \"tov_percent\": 13.0, \"orb_percent\": 21.9, \"ft_fga\": 0.177, \"opp_e_fg_percent\": 0.543, \"opp_tov_percent\": 13.6, \"opp_drb_percent\": 78.4, \"opp_ft_fga\": 0.225, \"arena\": \"Golden 1 Center\", \"attend\": 520663.0, \"attend_g\": 16796.0}, {\"Unnamed: 0\": 282, \"abbreviation\": \"SAC\", \"season\": 2021, \"avg_player_height\": 200.279, \"lg\": \"NBA\", \"team\": \"Sacramento Kings\", \"playoffs\": false, \"age\": 25.6, \"w\": 31.0, \"l\": 41.0, \"pw\": 28.0, \"pl\": 44.0, \"mov\": -3.68, \"sos\": 0.23, \"srs\": -3.45, \"o_rtg\": 113.6, \"d_rtg\": 117.2, \"n_rtg\": -3.6, \"pace\": 100.0, \"f_tr\": 0.248, \"x3p_ar\": 0.376, \"ts_percent\": 0.578, \"e_fg_percent\": 0.549, \"tov_percent\": 12.0, \"orb_percent\": 21.3, \"ft_fga\": 0.185, \"opp_e_fg_percent\": 0.557, \"opp_tov_percent\": 12.1, \"opp_drb_percent\": 75.0, \"opp_ft_fga\": 0.199, \"arena\": \"Golden 1 Center\", \"attend\": null, \"attend_g\": null}, {\"Unnamed: 0\": 283, \"abbreviation\": \"SAC\", \"season\": 2022, \"avg_player_height\": 199.898, \"lg\": \"NBA\", \"team\": \"Sacramento Kings\", \"playoffs\": false, \"age\": 25.8, \"w\": 30.0, \"l\": 52.0, \"pw\": 28.0, \"pl\": 54.0, \"mov\": -5.46, \"sos\": 0.2, \"srs\": -5.26, \"o_rtg\": 109.9, \"d_rtg\": 115.3, \"n_rtg\": -5.4, \"pace\": 99.8, \"f_tr\": 0.264, \"x3p_ar\": 0.377, \"ts_percent\": 0.561, \"e_fg_percent\": 0.525, \"tov_percent\": 12.5, \"orb_percent\": 21.3, \"ft_fga\": 0.203, \"opp_e_fg_percent\": 0.551, \"opp_tov_percent\": 11.9, \"opp_drb_percent\": 76.0, \"opp_ft_fga\": 0.176, \"arena\": \"Golden 1 Center\", \"attend\": 577583.0, \"attend_g\": 14087.0}, {\"Unnamed: 0\": 284, \"abbreviation\": \"SAS\", \"season\": 2012, \"avg_player_height\": 199.47466666666665, \"lg\": \"NBA\", \"team\": \"San Antonio Spurs\", \"playoffs\": true, \"age\": 27.5, \"w\": 50.0, \"l\": 16.0, \"pw\": 48.0, \"pl\": 18.0, \"mov\": 7.17, \"sos\": 0.11, \"srs\": 7.28, \"o_rtg\": 110.9, \"d_rtg\": 103.2, \"n_rtg\": 7.7, \"pace\": 92.9, \"f_tr\": 0.261, \"x3p_ar\": 0.257, \"ts_percent\": 0.562, \"e_fg_percent\": 0.528, \"tov_percent\": 12.8, \"orb_percent\": 25.1, \"ft_fga\": 0.195, \"opp_e_fg_percent\": 0.489, \"opp_tov_percent\": 12.9, \"opp_drb_percent\": 76.0, \"opp_ft_fga\": 0.168, \"arena\": \"AT&T Center\", \"attend\": 607095.0, \"attend_g\": 18397.0}, {\"Unnamed: 0\": 285, \"abbreviation\": \"SAS\", \"season\": 2013, \"avg_player_height\": 200.82933333333332, \"lg\": \"NBA\", \"team\": \"San Antonio Spurs\", \"playoffs\": true, \"age\": 28.6, \"w\": 58.0, \"l\": 24.0, \"pw\": 58.0, \"pl\": 24.0, \"mov\": 6.4, \"sos\": 0.27, \"srs\": 6.67, \"o_rtg\": 108.3, \"d_rtg\": 101.6, \"n_rtg\": 6.7, \"pace\": 94.2, \"f_tr\": 0.258, \"x3p_ar\": 0.264, \"ts_percent\": 0.568, \"e_fg_percent\": 0.531, \"tov_percent\": 14.0, \"orb_percent\": 20.5, \"ft_fga\": 0.204, \"opp_e_fg_percent\": 0.48, \"opp_tov_percent\": 13.7, \"opp_drb_percent\": 74.9, \"opp_ft_fga\": 0.179, \"arena\": \"AT&T Center\", \"attend\": 755700.0, \"attend_g\": 18432.0}, {\"Unnamed: 0\": 286, \"abbreviation\": \"SAS\", \"season\": 2014, \"avg_player_height\": 200.51333333333332, \"lg\": \"NBA\", \"team\": \"San Antonio Spurs\", \"playoffs\": true, \"age\": 28.9, \"w\": 62.0, \"l\": 20.0, \"pw\": 61.0, \"pl\": 21.0, \"mov\": 7.72, \"sos\": 0.28, \"srs\": 8.0, \"o_rtg\": 110.5, \"d_rtg\": 102.4, \"n_rtg\": 8.1, \"pace\": 95.0, \"f_tr\": 0.24, \"x3p_ar\": 0.257, \"ts_percent\": 0.571, \"e_fg_percent\": 0.537, \"tov_percent\": 13.5, \"orb_percent\": 22.7, \"ft_fga\": 0.188, \"opp_e_fg_percent\": 0.482, \"opp_tov_percent\": 12.8, \"opp_drb_percent\": 76.4, \"opp_ft_fga\": 0.184, \"arena\": \"AT&T Center\", \"attend\": 755031.0, \"attend_g\": 18415.0}, {\"Unnamed: 0\": 287, \"abbreviation\": \"SAS\", \"season\": 2015, \"avg_player_height\": 200.0955555555555, \"lg\": \"NBA\", \"team\": \"San Antonio Spurs\", \"playoffs\": true, \"age\": 29.8, \"w\": 55.0, \"l\": 27.0, \"pw\": 58.0, \"pl\": 24.0, \"mov\": 6.2, \"sos\": 0.14, \"srs\": 6.34, \"o_rtg\": 108.5, \"d_rtg\": 102.0, \"n_rtg\": 6.5, \"pace\": 93.8, \"f_tr\": 0.256, \"x3p_ar\": 0.269, \"ts_percent\": 0.555, \"e_fg_percent\": 0.517, \"tov_percent\": 13.1, \"orb_percent\": 23.4, \"ft_fga\": 0.2, \"opp_e_fg_percent\": 0.484, \"opp_tov_percent\": 13.3, \"opp_drb_percent\": 77.3, \"opp_ft_fga\": 0.19, \"arena\": \"AT&T Center\", \"attend\": 762855.0, \"attend_g\": 18606.0}, {\"Unnamed: 0\": 288, \"abbreviation\": \"SAS\", \"season\": 2016, \"avg_player_height\": 200.50125, \"lg\": \"NBA\", \"team\": \"San Antonio Spurs\", \"playoffs\": true, \"age\": 30.3, \"w\": 67.0, \"l\": 15.0, \"pw\": 67.0, \"pl\": 15.0, \"mov\": 10.63, \"sos\": -0.36, \"srs\": 10.28, \"o_rtg\": 110.3, \"d_rtg\": 99.0, \"n_rtg\": 11.3, \"pace\": 93.8, \"f_tr\": 0.246, \"x3p_ar\": 0.223, \"ts_percent\": 0.564, \"e_fg_percent\": 0.526, \"tov_percent\": 12.4, \"orb_percent\": 23.0, \"ft_fga\": 0.197, \"opp_e_fg_percent\": 0.477, \"opp_tov_percent\": 14.1, \"opp_drb_percent\": 79.1, \"opp_ft_fga\": 0.182, \"arena\": \"AT&T Center\", \"attend\": 756445.0, \"attend_g\": 18450.0}, {\"Unnamed: 0\": 289, \"abbreviation\": \"SAS\", \"season\": 2017, \"avg_player_height\": 199.2488888888889, \"lg\": \"NBA\", \"team\": \"San Antonio Spurs\", \"playoffs\": true, \"age\": 29.6, \"w\": 61.0, \"l\": 21.0, \"pw\": 60.0, \"pl\": 22.0, \"mov\": 7.2, \"sos\": -0.06, \"srs\": 7.13, \"o_rtg\": 111.1, \"d_rtg\": 103.5, \"n_rtg\": 7.6, \"pace\": 94.2, \"f_tr\": 0.263, \"x3p_ar\": 0.281, \"ts_percent\": 0.564, \"e_fg_percent\": 0.524, \"tov_percent\": 12.6, \"orb_percent\": 24.0, \"ft_fga\": 0.21, \"opp_e_fg_percent\": 0.492, \"opp_tov_percent\": 13.5, \"opp_drb_percent\": 77.6, \"opp_ft_fga\": 0.192, \"arena\": \"AT&T Center\", \"attend\": 755347.0, \"attend_g\": 18423.0}, {\"Unnamed: 0\": 290, \"abbreviation\": \"SAS\", \"season\": 2018, \"avg_player_height\": 201.84533333333331, \"lg\": \"NBA\", \"team\": \"San Antonio Spurs\", \"playoffs\": true, \"age\": 29.3, \"w\": 47.0, \"l\": 35.0, \"pw\": 49.0, \"pl\": 33.0, \"mov\": 2.89, \"sos\": 0.0, \"srs\": 2.89, \"o_rtg\": 107.9, \"d_rtg\": 104.8, \"n_rtg\": 3.1, \"pace\": 95.0, \"f_tr\": 0.245, \"x3p_ar\": 0.282, \"ts_percent\": 0.543, \"e_fg_percent\": 0.507, \"tov_percent\": 12.2, \"orb_percent\": 23.7, \"ft_fga\": 0.189, \"opp_e_fg_percent\": 0.507, \"opp_tov_percent\": 13.2, \"opp_drb_percent\": 78.6, \"opp_ft_fga\": 0.17, \"arena\": \"AT&T Center\", \"attend\": 754562.0, \"attend_g\": 18404.0}, {\"Unnamed: 0\": 291, \"abbreviation\": \"SAS\", \"season\": 2019, \"avg_player_height\": 200.06235294117647, \"lg\": \"NBA\", \"team\": \"San Antonio Spurs\", \"playoffs\": true, \"age\": 28.8, \"w\": 48.0, \"l\": 34.0, \"pw\": 45.0, \"pl\": 37.0, \"mov\": 1.68, \"sos\": 0.12, \"srs\": 1.8, \"o_rtg\": 112.9, \"d_rtg\": 111.2, \"n_rtg\": 1.7, \"pace\": 98.3, \"f_tr\": 0.237, \"x3p_ar\": 0.286, \"ts_percent\": 0.572, \"e_fg_percent\": 0.534, \"tov_percent\": 11.0, \"orb_percent\": 21.0, \"ft_fga\": 0.194, \"opp_e_fg_percent\": 0.528, \"opp_tov_percent\": 11.0, \"opp_drb_percent\": 79.4, \"opp_ft_fga\": 0.17, \"arena\": \"AT&T Center\", \"attend\": 750616.0, \"attend_g\": 18308.0}, {\"Unnamed: 0\": 292, \"abbreviation\": \"SAS\", \"season\": 2020, \"avg_player_height\": 198.56823529411764, \"lg\": \"NBA\", \"team\": \"San Antonio Spurs\", \"playoffs\": false, \"age\": 27.6, \"w\": 32.0, \"l\": 39.0, \"pw\": 33.0, \"pl\": 38.0, \"mov\": -1.11, \"sos\": 0.46, \"srs\": -0.65, \"o_rtg\": 112.4, \"d_rtg\": 113.5, \"n_rtg\": -1.1, \"pace\": 100.5, \"f_tr\": 0.262, \"x3p_ar\": 0.318, \"ts_percent\": 0.572, \"e_fg_percent\": 0.531, \"tov_percent\": 11.2, \"orb_percent\": 20.1, \"ft_fga\": 0.212, \"opp_e_fg_percent\": 0.542, \"opp_tov_percent\": 11.7, \"opp_drb_percent\": 79.2, \"opp_ft_fga\": 0.193, \"arena\": \"AT&T Center\", \"attend\": 550515.0, \"attend_g\": 18351.0}, {\"Unnamed: 0\": 293, \"abbreviation\": \"SAS\", \"season\": 2021, \"avg_player_height\": 198.54333333333335, \"lg\": \"NBA\", \"team\": \"San Antonio Spurs\", \"playoffs\": false, \"age\": 26.2, \"w\": 33.0, \"l\": 39.0, \"pw\": 32.0, \"pl\": 40.0, \"mov\": -1.74, \"sos\": 0.15, \"srs\": -1.58, \"o_rtg\": 111.0, \"d_rtg\": 112.8, \"n_rtg\": -1.8, \"pace\": 98.9, \"f_tr\": 0.243, \"x3p_ar\": 0.314, \"ts_percent\": 0.554, \"e_fg_percent\": 0.517, \"tov_percent\": 10.2, \"orb_percent\": 20.0, \"ft_fga\": 0.192, \"opp_e_fg_percent\": 0.541, \"opp_tov_percent\": 11.8, \"opp_drb_percent\": 77.3, \"opp_ft_fga\": 0.174, \"arena\": \"AT&T Center\", \"attend\": 61053.0, \"attend_g\": 1696.0}, {\"Unnamed: 0\": 294, \"abbreviation\": \"SAS\", \"season\": 2022, \"avg_player_height\": 199.57142857142856, \"lg\": \"NBA\", \"team\": \"San Antonio Spurs\", \"playoffs\": false, \"age\": 24.5, \"w\": 34.0, \"l\": 48.0, \"pw\": 41.0, \"pl\": 41.0, \"mov\": 0.12, \"sos\": -0.1, \"srs\": 0.02, \"o_rtg\": 112.4, \"d_rtg\": 112.3, \"n_rtg\": 0.1, \"pace\": 100.0, \"f_tr\": 0.22, \"x3p_ar\": 0.345, \"ts_percent\": 0.556, \"e_fg_percent\": 0.527, \"tov_percent\": 11.1, \"orb_percent\": 23.7, \"ft_fga\": 0.166, \"opp_e_fg_percent\": 0.532, \"opp_tov_percent\": 12.1, \"opp_drb_percent\": 75.1, \"opp_ft_fga\": 0.176, \"arena\": \"AT&T Center\", \"attend\": 615588.0, \"attend_g\": 15014.0}, {\"Unnamed: 0\": 295, \"abbreviation\": \"TOR\", \"season\": 2012, \"avg_player_height\": 199.47466666666665, \"lg\": \"NBA\", \"team\": \"Toronto Raptors\", \"playoffs\": false, \"age\": 25.7, \"w\": 23.0, \"l\": 43.0, \"pw\": 25.0, \"pl\": 41.0, \"mov\": -3.3, \"sos\": -0.36, \"srs\": -3.67, \"o_rtg\": 100.8, \"d_rtg\": 104.5, \"n_rtg\": -3.7, \"pace\": 89.3, \"f_tr\": 0.274, \"x3p_ar\": 0.209, \"ts_percent\": 0.518, \"e_fg_percent\": 0.475, \"tov_percent\": 14.8, \"orb_percent\": 25.9, \"ft_fga\": 0.211, \"opp_e_fg_percent\": 0.475, \"opp_tov_percent\": 12.8, \"opp_drb_percent\": 75.4, \"opp_ft_fga\": 0.26, \"arena\": \"Air Canada Centre\", \"attend\": 555584.0, \"attend_g\": 16836.0}, {\"Unnamed: 0\": 296, \"abbreviation\": \"TOR\", \"season\": 2013, \"avg_player_height\": 199.81333333333333, \"lg\": \"NBA\", \"team\": \"Toronto Raptors\", \"playoffs\": false, \"age\": 25.4, \"w\": 34.0, \"l\": 48.0, \"pw\": 37.0, \"pl\": 45.0, \"mov\": -1.48, \"sos\": -0.48, \"srs\": -1.96, \"o_rtg\": 105.9, \"d_rtg\": 107.5, \"n_rtg\": -1.6, \"pace\": 90.4, \"f_tr\": 0.274, \"x3p_ar\": 0.249, \"ts_percent\": 0.532, \"e_fg_percent\": 0.488, \"tov_percent\": 13.0, \"orb_percent\": 25.5, \"ft_fga\": 0.216, \"opp_e_fg_percent\": 0.5, \"opp_tov_percent\": 13.6, \"opp_drb_percent\": 73.4, \"opp_ft_fga\": 0.247, \"arena\": \"Air Canada Centre\", \"attend\": 743936.0, \"attend_g\": 18145.0}, {\"Unnamed: 0\": 297, \"abbreviation\": \"TOR\", \"season\": 2014, \"avg_player_height\": 200.985, \"lg\": \"NBA\", \"team\": \"Toronto Raptors\", \"playoffs\": true, \"age\": 25.6, \"w\": 48.0, \"l\": 34.0, \"pw\": 50.0, \"pl\": 32.0, \"mov\": 3.24, \"sos\": -0.69, \"srs\": 2.55, \"o_rtg\": 108.8, \"d_rtg\": 105.3, \"n_rtg\": 3.5, \"pace\": 91.8, \"f_tr\": 0.306, \"x3p_ar\": 0.285, \"ts_percent\": 0.545, \"e_fg_percent\": 0.498, \"tov_percent\": 13.2, \"orb_percent\": 27.2, \"ft_fga\": 0.239, \"opp_e_fg_percent\": 0.493, \"opp_tov_percent\": 14.1, \"opp_drb_percent\": 74.9, \"opp_ft_fga\": 0.237, \"arena\": \"Air Canada Centre\", \"attend\": 748339.0, \"attend_g\": 18252.0}, {\"Unnamed: 0\": 298, \"abbreviation\": \"TOR\", \"season\": 2015, \"avg_player_height\": 202.2475, \"lg\": \"NBA\", \"team\": \"Toronto Raptors\", \"playoffs\": true, \"age\": 26.1, \"w\": 49.0, \"l\": 33.0, \"pw\": 49.0, \"pl\": 33.0, \"mov\": 3.07, \"sos\": -0.62, \"srs\": 2.45, \"o_rtg\": 111.0, \"d_rtg\": 107.7, \"n_rtg\": 3.3, \"pace\": 92.8, \"f_tr\": 0.295, \"x3p_ar\": 0.302, \"ts_percent\": 0.553, \"e_fg_percent\": 0.508, \"tov_percent\": 12.0, \"orb_percent\": 25.6, \"ft_fga\": 0.232, \"opp_e_fg_percent\": 0.506, \"opp_tov_percent\": 13.4, \"opp_drb_percent\": 73.3, \"opp_ft_fga\": 0.208, \"arena\": \"Air Canada Centre\", \"attend\": 809824.0, \"attend_g\": 19752.0}, {\"Unnamed: 0\": 299, \"abbreviation\": \"TOR\", \"season\": 2016, \"avg_player_height\": 201.13625, \"lg\": \"NBA\", \"team\": \"Toronto Raptors\", \"playoffs\": true, \"age\": 26.3, \"w\": 56.0, \"l\": 26.0, \"pw\": 53.0, \"pl\": 29.0, \"mov\": 4.5, \"sos\": -0.42, \"srs\": 4.08, \"o_rtg\": 110.0, \"d_rtg\": 105.2, \"n_rtg\": 4.8, \"pace\": 92.9, \"f_tr\": 0.328, \"x3p_ar\": 0.287, \"ts_percent\": 0.552, \"e_fg_percent\": 0.504, \"tov_percent\": 12.3, \"orb_percent\": 24.6, \"ft_fga\": 0.255, \"opp_e_fg_percent\": 0.498, \"opp_tov_percent\": 12.7, \"opp_drb_percent\": 77.7, \"opp_ft_fga\": 0.201, \"arena\": \"Air Canada Centre\", \"attend\": 812863.0, \"attend_g\": 19826.0}, {\"Unnamed: 0\": 300, \"abbreviation\": \"TOR\", \"season\": 2017, \"avg_player_height\": 200.50125, \"lg\": \"NBA\", \"team\": \"Toronto Raptors\", \"playoffs\": true, \"age\": 26.1, \"w\": 51.0, \"l\": 31.0, \"pw\": 52.0, \"pl\": 30.0, \"mov\": 4.21, \"sos\": -0.56, \"srs\": 3.65, \"o_rtg\": 112.3, \"d_rtg\": 107.8, \"n_rtg\": 4.5, \"pace\": 94.7, \"f_tr\": 0.293, \"x3p_ar\": 0.289, \"ts_percent\": 0.561, \"e_fg_percent\": 0.517, \"tov_percent\": 11.8, \"orb_percent\": 25.0, \"ft_fga\": 0.233, \"opp_e_fg_percent\": 0.507, \"opp_tov_percent\": 13.5, \"opp_drb_percent\": 76.3, \"opp_ft_fga\": 0.223, \"arena\": \"Air Canada Centre\", \"attend\": 813050.0, \"attend_g\": 19830.0}, {\"Unnamed: 0\": 301, \"abbreviation\": \"TOR\", \"season\": 2018, \"avg_player_height\": 198.96666666666667, \"lg\": \"NBA\", \"team\": \"Toronto Raptors\", \"playoffs\": true, \"age\": 25.8, \"w\": 59.0, \"l\": 23.0, \"pw\": 60.0, \"pl\": 22.0, \"mov\": 7.78, \"sos\": -0.49, \"srs\": 7.29, \"o_rtg\": 113.8, \"d_rtg\": 105.9, \"n_rtg\": 7.9, \"pace\": 97.4, \"f_tr\": 0.25, \"x3p_ar\": 0.377, \"ts_percent\": 0.575, \"e_fg_percent\": 0.539, \"tov_percent\": 12.1, \"orb_percent\": 23.0, \"ft_fga\": 0.198, \"opp_e_fg_percent\": 0.501, \"opp_tov_percent\": 13.0, \"opp_drb_percent\": 77.7, \"opp_ft_fga\": 0.212, \"arena\": \"Air Canada Centre\", \"attend\": 813431.0, \"attend_g\": 19840.0}, {\"Unnamed: 0\": 302, \"abbreviation\": \"TOR\", \"season\": 2019, \"avg_player_height\": 198.2611111111111, \"lg\": \"NBA\", \"team\": \"Toronto Raptors\", \"playoffs\": true, \"age\": 27.3, \"w\": 58.0, \"l\": 24.0, \"pw\": 56.0, \"pl\": 26.0, \"mov\": 6.09, \"sos\": -0.6, \"srs\": 5.49, \"o_rtg\": 113.1, \"d_rtg\": 107.1, \"n_rtg\": 6.0, \"pace\": 100.2, \"f_tr\": 0.247, \"x3p_ar\": 0.379, \"ts_percent\": 0.579, \"e_fg_percent\": 0.543, \"tov_percent\": 12.4, \"orb_percent\": 21.9, \"ft_fga\": 0.198, \"opp_e_fg_percent\": 0.509, \"opp_tov_percent\": 13.1, \"opp_drb_percent\": 77.1, \"opp_ft_fga\": 0.19, \"arena\": \"Scotiabank Arena\", \"attend\": 812822.0, \"attend_g\": 19825.0}, {\"Unnamed: 0\": 303, \"abbreviation\": \"TOR\", \"season\": 2020, \"avg_player_height\": 199.2488888888889, \"lg\": \"NBA\", \"team\": \"Toronto Raptors\", \"playoffs\": true, \"age\": 26.6, \"w\": 53.0, \"l\": 19.0, \"pw\": 50.0, \"pl\": 22.0, \"mov\": 6.24, \"sos\": -0.26, \"srs\": 5.97, \"o_rtg\": 111.1, \"d_rtg\": 105.0, \"n_rtg\": 6.1, \"pace\": 100.9, \"f_tr\": 0.264, \"x3p_ar\": 0.421, \"ts_percent\": 0.574, \"e_fg_percent\": 0.536, \"tov_percent\": 13.1, \"orb_percent\": 21.3, \"ft_fga\": 0.21, \"opp_e_fg_percent\": 0.502, \"opp_tov_percent\": 14.6, \"opp_drb_percent\": 76.7, \"opp_ft_fga\": 0.202, \"arena\": \"Scotiabank Arena\", \"attend\": 633456.0, \"attend_g\": 19796.0}, {\"Unnamed: 0\": 304, \"abbreviation\": \"TOR\", \"season\": 2021, \"avg_player_height\": 199.771, \"lg\": \"NBA\", \"team\": \"Toronto Raptors\", \"playoffs\": false, \"age\": 26.6, \"w\": 27.0, \"l\": 45.0, \"pw\": 35.0, \"pl\": 37.0, \"mov\": -0.47, \"sos\": -0.07, \"srs\": -0.54, \"o_rtg\": 112.0, \"d_rtg\": 112.5, \"n_rtg\": -0.5, \"pace\": 99.2, \"f_tr\": 0.241, \"x3p_ar\": 0.444, \"ts_percent\": 0.567, \"e_fg_percent\": 0.529, \"tov_percent\": 11.9, \"orb_percent\": 20.8, \"ft_fga\": 0.196, \"opp_e_fg_percent\": 0.543, \"opp_tov_percent\": 14.4, \"opp_drb_percent\": 76.3, \"opp_ft_fga\": 0.234, \"arena\": \"Amalie Arena\", \"attend\": 26024.0, \"attend_g\": 723.0}, {\"Unnamed: 0\": 305, \"abbreviation\": \"TOR\", \"season\": 2022, \"avg_player_height\": 200.0955555555555, \"lg\": \"NBA\", \"team\": \"Toronto Raptors\", \"playoffs\": true, \"age\": 24.8, \"w\": 48.0, \"l\": 34.0, \"pw\": 47.0, \"pl\": 35.0, \"mov\": 2.29, \"sos\": 0.08, \"srs\": 2.38, \"o_rtg\": 112.9, \"d_rtg\": 110.5, \"n_rtg\": 2.4, \"pace\": 96.0, \"f_tr\": 0.234, \"x3p_ar\": 0.375, \"ts_percent\": 0.543, \"e_fg_percent\": 0.51, \"tov_percent\": 11.0, \"orb_percent\": 28.4, \"ft_fga\": 0.177, \"opp_e_fg_percent\": 0.535, \"opp_tov_percent\": 14.4, \"opp_drb_percent\": 75.6, \"opp_ft_fga\": 0.199, \"arena\": \"Scotiabank Arena\", \"attend\": 547343.0, \"attend_g\": 13350.0}, {\"Unnamed: 0\": 306, \"abbreviation\": \"UTA\", \"season\": 2012, \"avg_player_height\": 199.93428571428572, \"lg\": \"NBA\", \"team\": \"Utah Jazz\", \"playoffs\": true, \"age\": 25.6, \"w\": 36.0, \"l\": 30.0, \"pw\": 34.0, \"pl\": 32.0, \"mov\": 0.62, \"sos\": 0.3, \"srs\": 0.92, \"o_rtg\": 106.8, \"d_rtg\": 106.1, \"n_rtg\": 0.7, \"pace\": 91.4, \"f_tr\": 0.302, \"x3p_ar\": 0.153, \"ts_percent\": 0.525, \"e_fg_percent\": 0.481, \"tov_percent\": 13.0, \"orb_percent\": 30.2, \"ft_fga\": 0.227, \"opp_e_fg_percent\": 0.493, \"opp_tov_percent\": 13.8, \"opp_drb_percent\": 73.8, \"opp_ft_fga\": 0.245, \"arena\": \"EnergySolutions Arena\", \"attend\": 637124.0, \"attend_g\": 19307.0}, {\"Unnamed: 0\": 307, \"abbreviation\": \"UTA\", \"season\": 2013, \"avg_player_height\": 200.21176470588236, \"lg\": \"NBA\", \"team\": \"Utah Jazz\", \"playoffs\": false, \"age\": 26.3, \"w\": 43.0, \"l\": 39.0, \"pw\": 41.0, \"pl\": 41.0, \"mov\": -0.09, \"sos\": 0.38, \"srs\": 0.3, \"o_rtg\": 106.7, \"d_rtg\": 106.8, \"n_rtg\": -0.1, \"pace\": 90.9, \"f_tr\": 0.281, \"x3p_ar\": 0.206, \"ts_percent\": 0.533, \"e_fg_percent\": 0.492, \"tov_percent\": 13.8, \"orb_percent\": 28.8, \"ft_fga\": 0.214, \"opp_e_fg_percent\": 0.501, \"opp_tov_percent\": 14.0, \"opp_drb_percent\": 73.2, \"opp_ft_fga\": 0.226, \"arena\": \"EnergySolutions Arena\", \"attend\": 763915.0, \"attend_g\": 18632.0}, {\"Unnamed: 0\": 308, \"abbreviation\": \"UTA\", \"season\": 2014, \"avg_player_height\": 200.9775, \"lg\": \"NBA\", \"team\": \"Utah Jazz\", \"playoffs\": false, \"age\": 24.5, \"w\": 25.0, \"l\": 57.0, \"pw\": 22.0, \"pl\": 60.0, \"mov\": -7.17, \"sos\": 0.91, \"srs\": -6.27, \"o_rtg\": 103.5, \"d_rtg\": 111.3, \"n_rtg\": -7.8, \"pace\": 91.4, \"f_tr\": 0.271, \"x3p_ar\": 0.237, \"ts_percent\": 0.523, \"e_fg_percent\": 0.484, \"tov_percent\": 13.9, \"orb_percent\": 25.5, \"ft_fga\": 0.202, \"opp_e_fg_percent\": 0.518, \"opp_tov_percent\": 12.1, \"opp_drb_percent\": 74.5, \"opp_ft_fga\": 0.227, \"arena\": \"EnergySolutions Arena\", \"attend\": 745203.0, \"attend_g\": 18176.0}, {\"Unnamed: 0\": 309, \"abbreviation\": \"UTA\", \"season\": 2015, \"avg_player_height\": 202.2475, \"lg\": \"NBA\", \"team\": \"Utah Jazz\", \"playoffs\": false, \"age\": 23.4, \"w\": 38.0, \"l\": 44.0, \"pw\": 42.0, \"pl\": 40.0, \"mov\": 0.22, \"sos\": 0.49, \"srs\": 0.71, \"o_rtg\": 105.1, \"d_rtg\": 104.9, \"n_rtg\": 0.2, \"pace\": 90.4, \"f_tr\": 0.297, \"x3p_ar\": 0.274, \"ts_percent\": 0.531, \"e_fg_percent\": 0.494, \"tov_percent\": 14.6, \"orb_percent\": 29.1, \"ft_fga\": 0.214, \"opp_e_fg_percent\": 0.491, \"opp_tov_percent\": 12.8, \"opp_drb_percent\": 76.3, \"opp_ft_fga\": 0.199, \"arena\": \"EnergySolutions Arena\", \"attend\": 772059.0, \"attend_g\": 18831.0}, {\"Unnamed: 0\": 310, \"abbreviation\": \"UTA\", \"season\": 2016, \"avg_player_height\": 201.84533333333331, \"lg\": \"NBA\", \"team\": \"Utah Jazz\", \"playoffs\": false, \"age\": 24.2, \"w\": 40.0, \"l\": 42.0, \"pw\": 46.0, \"pl\": 36.0, \"mov\": 1.79, \"sos\": 0.05, \"srs\": 1.84, \"o_rtg\": 105.9, \"d_rtg\": 103.9, \"n_rtg\": 2.0, \"pace\": 91.0, \"f_tr\": 0.286, \"x3p_ar\": 0.297, \"ts_percent\": 0.54, \"e_fg_percent\": 0.501, \"tov_percent\": 14.2, \"orb_percent\": 25.9, \"ft_fga\": 0.213, \"opp_e_fg_percent\": 0.495, \"opp_tov_percent\": 13.5, \"opp_drb_percent\": 77.7, \"opp_ft_fga\": 0.21, \"arena\": \"Vivint Smart Home Arena\", \"attend\": 791489.0, \"attend_g\": 19305.0}, {\"Unnamed: 0\": 311, \"abbreviation\": \"UTA\", \"season\": 2017, \"avg_player_height\": 199.39, \"lg\": \"NBA\", \"team\": \"Utah Jazz\", \"playoffs\": true, \"age\": 26.8, \"w\": 51.0, \"l\": 31.0, \"pw\": 52.0, \"pl\": 30.0, \"mov\": 3.94, \"sos\": 0.06, \"srs\": 4.0, \"o_rtg\": 109.6, \"d_rtg\": 105.3, \"n_rtg\": 4.3, \"pace\": 91.6, \"f_tr\": 0.288, \"x3p_ar\": 0.327, \"ts_percent\": 0.563, \"e_fg_percent\": 0.526, \"tov_percent\": 13.2, \"orb_percent\": 23.2, \"ft_fga\": 0.215, \"opp_e_fg_percent\": 0.493, \"opp_tov_percent\": 11.8, \"opp_drb_percent\": 78.9, \"opp_ft_fga\": 0.195, \"arena\": \"Vivint Smart Home Arena\", \"attend\": 806142.0, \"attend_g\": 19662.0}, {\"Unnamed: 0\": 312, \"abbreviation\": \"UTA\", \"season\": 2018, \"avg_player_height\": 200.36117647058825, \"lg\": \"NBA\", \"team\": \"Utah Jazz\", \"playoffs\": true, \"age\": 26.7, \"w\": 48.0, \"l\": 34.0, \"pw\": 53.0, \"pl\": 29.0, \"mov\": 4.3, \"sos\": 0.17, \"srs\": 4.47, \"o_rtg\": 108.4, \"d_rtg\": 103.9, \"n_rtg\": 4.5, \"pace\": 95.7, \"f_tr\": 0.26, \"x3p_ar\": 0.357, \"ts_percent\": 0.564, \"e_fg_percent\": 0.527, \"tov_percent\": 13.7, \"orb_percent\": 21.5, \"ft_fga\": 0.202, \"opp_e_fg_percent\": 0.506, \"opp_tov_percent\": 14.0, \"opp_drb_percent\": 79.8, \"opp_ft_fga\": 0.19, \"arena\": \"Vivint Smart Home Arena\", \"attend\": 734806.0, \"attend_g\": 17922.0}, {\"Unnamed: 0\": 313, \"abbreviation\": \"UTA\", \"season\": 2019, \"avg_player_height\": 196.28555555555556, \"lg\": \"NBA\", \"team\": \"Utah Jazz\", \"playoffs\": true, \"age\": 27.3, \"w\": 50.0, \"l\": 32.0, \"pw\": 54.0, \"pl\": 28.0, \"mov\": 5.26, \"sos\": 0.03, \"srs\": 5.28, \"o_rtg\": 110.9, \"d_rtg\": 105.7, \"n_rtg\": 5.2, \"pace\": 100.3, \"f_tr\": 0.295, \"x3p_ar\": 0.394, \"ts_percent\": 0.572, \"e_fg_percent\": 0.538, \"tov_percent\": 13.4, \"orb_percent\": 22.9, \"ft_fga\": 0.217, \"opp_e_fg_percent\": 0.507, \"opp_tov_percent\": 12.4, \"opp_drb_percent\": 80.3, \"opp_ft_fga\": 0.189, \"arena\": \"Vivint Smart Home Arena\", \"attend\": 750546.0, \"attend_g\": 18306.0}, {\"Unnamed: 0\": 314, \"abbreviation\": \"UTA\", \"season\": 2020, \"avg_player_height\": 198.26941176470584, \"lg\": \"NBA\", \"team\": \"Utah Jazz\", \"playoffs\": true, \"age\": 27.3, \"w\": 44.0, \"l\": 28.0, \"pw\": 42.0, \"pl\": 30.0, \"mov\": 2.47, \"sos\": 0.05, \"srs\": 2.52, \"o_rtg\": 112.3, \"d_rtg\": 109.9, \"n_rtg\": 2.4, \"pace\": 98.6, \"f_tr\": 0.268, \"x3p_ar\": 0.414, \"ts_percent\": 0.585, \"e_fg_percent\": 0.549, \"tov_percent\": 13.7, \"orb_percent\": 21.6, \"ft_fga\": 0.208, \"opp_e_fg_percent\": 0.518, \"opp_tov_percent\": 11.1, \"opp_drb_percent\": 78.9, \"opp_ft_fga\": 0.185, \"arena\": \"Vivint Smart Home Arena\", \"attend\": 567486.0, \"attend_g\": 18306.0}, {\"Unnamed: 0\": 315, \"abbreviation\": \"UTA\", \"season\": 2021, \"avg_player_height\": 198.755, \"lg\": \"NBA\", \"team\": \"Utah Jazz\", \"playoffs\": true, \"age\": 28.5, \"w\": 52.0, \"l\": 20.0, \"pw\": 55.0, \"pl\": 17.0, \"mov\": 9.25, \"sos\": -0.29, \"srs\": 8.97, \"o_rtg\": 117.6, \"d_rtg\": 108.3, \"n_rtg\": 9.3, \"pace\": 98.5, \"f_tr\": 0.244, \"x3p_ar\": 0.488, \"ts_percent\": 0.597, \"e_fg_percent\": 0.563, \"tov_percent\": 12.7, \"orb_percent\": 24.5, \"ft_fga\": 0.195, \"opp_e_fg_percent\": 0.507, \"opp_tov_percent\": 10.3, \"opp_drb_percent\": 79.3, \"opp_ft_fga\": 0.159, \"arena\": \"Vivint Smart Home Arena\", \"attend\": 151300.0, \"attend_g\": 4203.0}, {\"Unnamed: 0\": 316, \"abbreviation\": \"UTA\", \"season\": 2022, \"avg_player_height\": 201.295, \"lg\": \"NBA\", \"team\": \"Utah Jazz\", \"playoffs\": true, \"age\": 29.3, \"w\": 49.0, \"l\": 33.0, \"pw\": 56.0, \"pl\": 26.0, \"mov\": 6.04, \"sos\": -0.37, \"srs\": 5.67, \"o_rtg\": 116.7, \"d_rtg\": 110.5, \"n_rtg\": 6.2, \"pace\": 97.1, \"f_tr\": 0.271, \"x3p_ar\": 0.468, \"ts_percent\": 0.589, \"e_fg_percent\": 0.555, \"tov_percent\": 12.7, \"orb_percent\": 25.4, \"ft_fga\": 0.208, \"opp_e_fg_percent\": 0.521, \"opp_tov_percent\": 10.9, \"opp_drb_percent\": 78.3, \"opp_ft_fga\": 0.164, \"arena\": \"Vivint Smart Home Arena\", \"attend\": 750546.0, \"attend_g\": 18306.0}, {\"Unnamed: 0\": 317, \"abbreviation\": \"WAS\", \"season\": 2012, \"avg_player_height\": 202.4742857142857, \"lg\": \"NBA\", \"team\": \"Washington Wizards\", \"playoffs\": false, \"age\": 24.2, \"w\": 20.0, \"l\": 46.0, \"pw\": 22.0, \"pl\": 44.0, \"mov\": -4.8, \"sos\": -0.34, \"srs\": -5.14, \"o_rtg\": 101.0, \"d_rtg\": 106.2, \"n_rtg\": -5.2, \"pace\": 92.5, \"f_tr\": 0.253, \"x3p_ar\": 0.196, \"ts_percent\": 0.508, \"e_fg_percent\": 0.472, \"tov_percent\": 14.2, \"orb_percent\": 27.3, \"ft_fga\": 0.184, \"opp_e_fg_percent\": 0.492, \"opp_tov_percent\": 14.2, \"opp_drb_percent\": 70.9, \"opp_ft_fga\": 0.229, \"arena\": \"Verizon Center\", \"attend\": 552038.0, \"attend_g\": 16728.0}, {\"Unnamed: 0\": 318, \"abbreviation\": \"WAS\", \"season\": 2013, \"avg_player_height\": 202.18400000000003, \"lg\": \"NBA\", \"team\": \"Washington Wizards\", \"playoffs\": false, \"age\": 25.4, \"w\": 29.0, \"l\": 53.0, \"pw\": 33.0, \"pl\": 49.0, \"mov\": -2.54, \"sos\": -0.25, \"srs\": -2.78, \"o_rtg\": 100.2, \"d_rtg\": 103.0, \"n_rtg\": -2.8, \"pace\": 92.2, \"f_tr\": 0.261, \"x3p_ar\": 0.223, \"ts_percent\": 0.512, \"e_fg_percent\": 0.475, \"tov_percent\": 14.2, \"orb_percent\": 24.6, \"ft_fga\": 0.191, \"opp_e_fg_percent\": 0.483, \"opp_tov_percent\": 13.7, \"opp_drb_percent\": 74.6, \"opp_ft_fga\": 0.206, \"arena\": \"Verizon Center\", \"attend\": 670070.0, \"attend_g\": 16343.0}, {\"Unnamed: 0\": 319, \"abbreviation\": \"WAS\", \"season\": 2014, \"avg_player_height\": 200.50125, \"lg\": \"NBA\", \"team\": \"Washington Wizards\", \"playoffs\": true, \"age\": 26.3, \"w\": 44.0, \"l\": 38.0, \"pw\": 45.0, \"pl\": 37.0, \"mov\": 1.27, \"sos\": -0.79, \"srs\": 0.48, \"o_rtg\": 106.0, \"d_rtg\": 104.6, \"n_rtg\": 1.4, \"pace\": 93.2, \"f_tr\": 0.248, \"x3p_ar\": 0.246, \"ts_percent\": 0.538, \"e_fg_percent\": 0.506, \"tov_percent\": 13.6, \"orb_percent\": 25.2, \"ft_fga\": 0.181, \"opp_e_fg_percent\": 0.504, \"opp_tov_percent\": 15.0, \"opp_drb_percent\": 75.7, \"opp_ft_fga\": 0.22, \"arena\": \"Verizon Center\", \"attend\": 698068.0, \"attend_g\": 17026.0}, {\"Unnamed: 0\": 320, \"abbreviation\": \"WAS\", \"season\": 2015, \"avg_player_height\": 200.66, \"lg\": \"NBA\", \"team\": \"Washington Wizards\", \"playoffs\": true, \"age\": 28.6, \"w\": 46.0, \"l\": 36.0, \"pw\": 43.0, \"pl\": 39.0, \"mov\": 0.72, \"sos\": -0.55, \"srs\": 0.17, \"o_rtg\": 103.7, \"d_rtg\": 103.0, \"n_rtg\": 0.7, \"pace\": 93.7, \"f_tr\": 0.259, \"x3p_ar\": 0.203, \"ts_percent\": 0.534, \"e_fg_percent\": 0.499, \"tov_percent\": 14.0, \"orb_percent\": 24.9, \"ft_fga\": 0.192, \"opp_e_fg_percent\": 0.481, \"opp_tov_percent\": 12.9, \"opp_drb_percent\": 77.3, \"opp_ft_fga\": 0.21, \"arena\": \"Verizon Center\", \"attend\": 747796.0, \"attend_g\": 18239.0}, {\"Unnamed: 0\": 321, \"abbreviation\": \"WAS\", \"season\": 2016, \"avg_player_height\": 201.1082352941177, \"lg\": \"NBA\", \"team\": \"Washington Wizards\", \"playoffs\": false, \"age\": 27.3, \"w\": 41.0, \"l\": 41.0, \"pw\": 40.0, \"pl\": 42.0, \"mov\": -0.5, \"sos\": 0.0, \"srs\": -0.5, \"o_rtg\": 105.3, \"d_rtg\": 105.8, \"n_rtg\": -0.5, \"pace\": 98.5, \"f_tr\": 0.263, \"x3p_ar\": 0.282, \"ts_percent\": 0.544, \"e_fg_percent\": 0.511, \"tov_percent\": 13.1, \"orb_percent\": 20.6, \"ft_fga\": 0.192, \"opp_e_fg_percent\": 0.515, \"opp_tov_percent\": 14.6, \"opp_drb_percent\": 77.7, \"opp_ft_fga\": 0.218, \"arena\": \"Verizon Center\", \"attend\": 725426.0, \"attend_g\": 17693.0}, {\"Unnamed: 0\": 322, \"abbreviation\": \"WAS\", \"season\": 2017, \"avg_player_height\": 201.168, \"lg\": \"NBA\", \"team\": \"Washington Wizards\", \"playoffs\": true, \"age\": 26.0, \"w\": 49.0, \"l\": 33.0, \"pw\": 46.0, \"pl\": 36.0, \"mov\": 1.8, \"sos\": -0.45, \"srs\": 1.36, \"o_rtg\": 111.2, \"d_rtg\": 109.3, \"n_rtg\": 1.9, \"pace\": 97.4, \"f_tr\": 0.254, \"x3p_ar\": 0.284, \"ts_percent\": 0.564, \"e_fg_percent\": 0.528, \"tov_percent\": 12.8, \"orb_percent\": 24.1, \"ft_fga\": 0.199, \"opp_e_fg_percent\": 0.524, \"opp_tov_percent\": 13.8, \"opp_drb_percent\": 75.5, \"opp_ft_fga\": 0.213, \"arena\": \"Verizon Center\", \"attend\": 697107.0, \"attend_g\": 17003.0}, {\"Unnamed: 0\": 323, \"abbreviation\": \"WAS\", \"season\": 2018, \"avg_player_height\": 201.32842105263157, \"lg\": \"NBA\", \"team\": \"Washington Wizards\", \"playoffs\": true, \"age\": 26.9, \"w\": 43.0, \"l\": 39.0, \"pw\": 43.0, \"pl\": 39.0, \"mov\": 0.59, \"sos\": -0.06, \"srs\": 0.53, \"o_rtg\": 109.3, \"d_rtg\": 108.7, \"n_rtg\": 0.6, \"pace\": 96.6, \"f_tr\": 0.254, \"x3p_ar\": 0.31, \"ts_percent\": 0.56, \"e_fg_percent\": 0.525, \"tov_percent\": 13.3, \"orb_percent\": 23.5, \"ft_fga\": 0.196, \"opp_e_fg_percent\": 0.522, \"opp_tov_percent\": 13.6, \"opp_drb_percent\": 77.1, \"opp_ft_fga\": 0.212, \"arena\": \"Capital One Arena\", \"attend\": 739302.0, \"attend_g\": 18032.0}, {\"Unnamed: 0\": 324, \"abbreviation\": \"WAS\", \"season\": 2019, \"avg_player_height\": 197.87809523809523, \"lg\": \"NBA\", \"team\": \"Washington Wizards\", \"playoffs\": false, \"age\": 26.5, \"w\": 32.0, \"l\": 50.0, \"pw\": 34.0, \"pl\": 48.0, \"mov\": -2.9, \"sos\": -0.4, \"srs\": -3.3, \"o_rtg\": 111.1, \"d_rtg\": 113.9, \"n_rtg\": -2.8, \"pace\": 101.4, \"f_tr\": 0.266, \"x3p_ar\": 0.37, \"ts_percent\": 0.567, \"e_fg_percent\": 0.531, \"tov_percent\": 12.3, \"orb_percent\": 21.3, \"ft_fga\": 0.204, \"opp_e_fg_percent\": 0.546, \"opp_tov_percent\": 13.5, \"opp_drb_percent\": 74.1, \"opp_ft_fga\": 0.199, \"arena\": \"Capital One Arena\", \"attend\": 716996.0, \"attend_g\": 17448.0}, {\"Unnamed: 0\": 325, \"abbreviation\": \"WAS\", \"season\": 2020, \"avg_player_height\": 200.0955555555555, \"lg\": \"NBA\", \"team\": \"Washington Wizards\", \"playoffs\": false, \"age\": 25.1, \"w\": 25.0, \"l\": 47.0, \"pw\": 26.0, \"pl\": 46.0, \"mov\": -4.67, \"sos\": -0.57, \"srs\": -5.24, \"o_rtg\": 110.9, \"d_rtg\": 115.5, \"n_rtg\": -4.6, \"pace\": 102.7, \"f_tr\": 0.27, \"x3p_ar\": 0.358, \"ts_percent\": 0.562, \"e_fg_percent\": 0.523, \"tov_percent\": 12.2, \"orb_percent\": 22.2, \"ft_fga\": 0.213, \"opp_e_fg_percent\": 0.558, \"opp_tov_percent\": 13.9, \"opp_drb_percent\": 75.3, \"opp_ft_fga\": 0.231, \"arena\": \"Capital One Arena\", \"attend\": 532702.0, \"attend_g\": 16647.0}, {\"Unnamed: 0\": 326, \"abbreviation\": \"WAS\", \"season\": 2021, \"avg_player_height\": 198.00956521739133, \"lg\": \"NBA\", \"team\": \"Washington Wizards\", \"playoffs\": true, \"age\": 26.6, \"w\": 34.0, \"l\": 38.0, \"pw\": 32.0, \"pl\": 40.0, \"mov\": -1.83, \"sos\": -0.01, \"srs\": -1.85, \"o_rtg\": 111.2, \"d_rtg\": 113.0, \"n_rtg\": -1.8, \"pace\": 104.1, \"f_tr\": 0.288, \"x3p_ar\": 0.319, \"ts_percent\": 0.569, \"e_fg_percent\": 0.531, \"tov_percent\": 12.3, \"orb_percent\": 21.3, \"ft_fga\": 0.221, \"opp_e_fg_percent\": 0.539, \"opp_tov_percent\": 12.5, \"opp_drb_percent\": 77.6, \"opp_ft_fga\": 0.217, \"arena\": \"Capital One Arena\", \"attend\": 19198.0, \"attend_g\": 533.0}, {\"Unnamed: 0\": 327, \"abbreviation\": \"WAS\", \"season\": 2022, \"avg_player_height\": 199.517, \"lg\": \"NBA\", \"team\": \"Washington Wizards\", \"playoffs\": false, \"age\": 25.9, \"w\": 35.0, \"l\": 47.0, \"pw\": 32.0, \"pl\": 50.0, \"mov\": -3.38, \"sos\": 0.15, \"srs\": -3.23, \"o_rtg\": 111.1, \"d_rtg\": 114.5, \"n_rtg\": -3.4, \"pace\": 97.0, \"f_tr\": 0.252, \"x3p_ar\": 0.356, \"ts_percent\": 0.568, \"e_fg_percent\": 0.532, \"tov_percent\": 12.1, \"orb_percent\": 20.9, \"ft_fga\": 0.197, \"opp_e_fg_percent\": 0.529, \"opp_tov_percent\": 10.7, \"opp_drb_percent\": 76.9, \"opp_ft_fga\": 0.202, \"arena\": \"Capital One Arena\", \"attend\": 641499.0, \"attend_g\": 15646.0}]}}, {\"mode\": \"vega-lite\"});\n",
       "</script>"
      ],
      "text/plain": [
       "alt.Chart(...)"
      ]
     },
     "metadata": {},
     "output_type": "display_data"
    }
   ],
   "source": [
    "height_chart = alt.Chart(merged).mark_circle(size = 80).encode(\n",
    "    x = alt.X('avg_player_height:Q', title = 'Average Height (cm)', scale = alt.Scale(domain = [195, 207])),\n",
    "    y = alt.Y('w:Q', title = 'Number of Wins', scale = alt.Scale(domain = [6, 80])),\n",
    "    tooltip = ['team'], \n",
    "    color = alt.Color('season:O', scale = alt.Scale(scheme = 'viridis'), legend = alt.Legend(title = 'Season'))\n",
    ").properties(\n",
    "    width = 800,  \n",
    "    height = 400,  \n",
    "    title = 'Relationship Between Team Average Height and Wins'\n",
    ").add_selection(\n",
    "    select_season\n",
    ").transform_filter(\n",
    "    select_season\n",
    ")\n",
    "\n",
    "height_chart.display()"
   ]
  },
  {
   "cell_type": "markdown",
   "metadata": {},
   "source": [
    "### Enrique's"
   ]
  },
  {
   "cell_type": "code",
   "execution_count": 11,
   "metadata": {},
   "outputs": [
    {
     "data": {
      "text/html": [
       "\n",
       "<style>\n",
       "  #altair-viz-11b2dcaec48d472dbd9e01d9f278e9ba.vega-embed {\n",
       "    width: 100%;\n",
       "    display: flex;\n",
       "  }\n",
       "\n",
       "  #altair-viz-11b2dcaec48d472dbd9e01d9f278e9ba.vega-embed details,\n",
       "  #altair-viz-11b2dcaec48d472dbd9e01d9f278e9ba.vega-embed details summary {\n",
       "    position: relative;\n",
       "  }\n",
       "</style>\n",
       "<div id=\"altair-viz-11b2dcaec48d472dbd9e01d9f278e9ba\"></div>\n",
       "<script type=\"text/javascript\">\n",
       "  var VEGA_DEBUG = (typeof VEGA_DEBUG == \"undefined\") ? {} : VEGA_DEBUG;\n",
       "  (function(spec, embedOpt){\n",
       "    let outputDiv = document.currentScript.previousElementSibling;\n",
       "    if (outputDiv.id !== \"altair-viz-11b2dcaec48d472dbd9e01d9f278e9ba\") {\n",
       "      outputDiv = document.getElementById(\"altair-viz-11b2dcaec48d472dbd9e01d9f278e9ba\");\n",
       "    }\n",
       "    const paths = {\n",
       "      \"vega\": \"https://cdn.jsdelivr.net/npm/vega@5?noext\",\n",
       "      \"vega-lib\": \"https://cdn.jsdelivr.net/npm/vega-lib?noext\",\n",
       "      \"vega-lite\": \"https://cdn.jsdelivr.net/npm/vega-lite@5.17.0?noext\",\n",
       "      \"vega-embed\": \"https://cdn.jsdelivr.net/npm/vega-embed@6?noext\",\n",
       "    };\n",
       "\n",
       "    function maybeLoadScript(lib, version) {\n",
       "      var key = `${lib.replace(\"-\", \"\")}_version`;\n",
       "      return (VEGA_DEBUG[key] == version) ?\n",
       "        Promise.resolve(paths[lib]) :\n",
       "        new Promise(function(resolve, reject) {\n",
       "          var s = document.createElement('script');\n",
       "          document.getElementsByTagName(\"head\")[0].appendChild(s);\n",
       "          s.async = true;\n",
       "          s.onload = () => {\n",
       "            VEGA_DEBUG[key] = version;\n",
       "            return resolve(paths[lib]);\n",
       "          };\n",
       "          s.onerror = () => reject(`Error loading script: ${paths[lib]}`);\n",
       "          s.src = paths[lib];\n",
       "        });\n",
       "    }\n",
       "\n",
       "    function showError(err) {\n",
       "      outputDiv.innerHTML = `<div class=\"error\" style=\"color:red;\">${err}</div>`;\n",
       "      throw err;\n",
       "    }\n",
       "\n",
       "    function displayChart(vegaEmbed) {\n",
       "      vegaEmbed(outputDiv, spec, embedOpt)\n",
       "        .catch(err => showError(`Javascript Error: ${err.message}<br>This usually means there's a typo in your chart specification. See the javascript console for the full traceback.`));\n",
       "    }\n",
       "\n",
       "    if(typeof define === \"function\" && define.amd) {\n",
       "      requirejs.config({paths});\n",
       "      require([\"vega-embed\"], displayChart, err => showError(`Error loading script: ${err.message}`));\n",
       "    } else {\n",
       "      maybeLoadScript(\"vega\", \"5\")\n",
       "        .then(() => maybeLoadScript(\"vega-lite\", \"5.17.0\"))\n",
       "        .then(() => maybeLoadScript(\"vega-embed\", \"6\"))\n",
       "        .catch(showError)\n",
       "        .then(() => displayChart(vegaEmbed));\n",
       "    }\n",
       "  })({\"config\": {\"view\": {\"continuousWidth\": 300, \"continuousHeight\": 300}}, \"hconcat\": [{\"data\": {\"name\": \"data-10032386e3d0fbb5eb2a45c36069b6a5\"}, \"mark\": {\"type\": \"bar\"}, \"encoding\": {\"color\": {\"field\": \"team_type\", \"scale\": {\"domain\": [\"Home\", \"Away\"], \"range\": [\"blue\", \"red\"]}, \"type\": \"nominal\"}, \"tooltip\": [{\"field\": \"year\", \"type\": \"quantitative\"}, {\"field\": \"stat\", \"type\": \"nominal\"}, {\"field\": \"tov_value\", \"type\": \"quantitative\"}], \"x\": {\"axis\": {\"title\": \"Turnovers\"}, \"field\": \"stat\", \"type\": \"nominal\"}, \"y\": {\"axis\": {\"title\": \"Value\"}, \"field\": \"tov_value\", \"type\": \"quantitative\"}}, \"width\": 200}, {\"data\": {\"name\": \"data-f9b55f63d69c6e47d0518a4db6dfe097\"}, \"mark\": {\"type\": \"bar\"}, \"encoding\": {\"color\": {\"field\": \"team_type\", \"scale\": {\"domain\": [\"Home\", \"Away\"], \"range\": [\"blue\", \"red\"]}, \"type\": \"nominal\"}, \"tooltip\": [{\"field\": \"year\", \"type\": \"quantitative\"}, {\"field\": \"stat\", \"type\": \"nominal\"}, {\"field\": \"fg_pct_value\", \"type\": \"quantitative\"}], \"x\": {\"axis\": {\"title\": \"Field Goal Percentage\"}, \"field\": \"stat\", \"type\": \"nominal\"}, \"y\": {\"axis\": {\"title\": \"Value\"}, \"field\": \"fg_pct_value\", \"type\": \"quantitative\"}}, \"width\": 200}, {\"data\": {\"name\": \"data-45bd0d39ef004b35f4aa1a7ee50f4e1c\"}, \"mark\": {\"type\": \"bar\"}, \"encoding\": {\"color\": {\"field\": \"team_type\", \"scale\": {\"domain\": [\"Home\", \"Away\"], \"range\": [\"blue\", \"red\"]}, \"type\": \"nominal\"}, \"tooltip\": [{\"field\": \"year\", \"type\": \"quantitative\"}, {\"field\": \"stat\", \"type\": \"nominal\"}, {\"field\": \"reb_value\", \"type\": \"quantitative\"}], \"x\": {\"axis\": {\"title\": \"Rebounds\"}, \"field\": \"stat\", \"type\": \"nominal\"}, \"y\": {\"axis\": {\"title\": \"Value\"}, \"field\": \"reb_value\", \"type\": \"quantitative\"}}, \"width\": 200}, {\"data\": {\"name\": \"data-a33329529c6c791342ffee6c14c9a9f5\"}, \"mark\": {\"type\": \"bar\"}, \"encoding\": {\"color\": {\"field\": \"team_type\", \"scale\": {\"domain\": [\"Home\", \"Away\"], \"range\": [\"blue\", \"red\"]}, \"type\": \"nominal\"}, \"tooltip\": [{\"field\": \"year\", \"type\": \"quantitative\"}, {\"field\": \"stat\", \"type\": \"nominal\"}, {\"field\": \"oreb_value\", \"type\": \"quantitative\"}], \"x\": {\"axis\": {\"title\": \"Offesive Rebounds\"}, \"field\": \"stat\", \"type\": \"nominal\"}, \"y\": {\"axis\": {\"title\": \"Value\"}, \"field\": \"oreb_value\", \"type\": \"quantitative\"}}, \"width\": 200}], \"resolve\": {\"scale\": {\"y\": \"independent\"}}, \"title\": \"Average Game Statistics per Year\", \"$schema\": \"https://vega.github.io/schema/vega-lite/v5.17.0.json\", \"datasets\": {\"data-10032386e3d0fbb5eb2a45c36069b6a5\": [{\"year\": 1946, \"stat\": \"tov_home\", \"tov_value\": null, \"team_type\": \"Home\"}, {\"year\": 1947, \"stat\": \"tov_home\", \"tov_value\": null, \"team_type\": \"Home\"}, {\"year\": 1948, \"stat\": \"tov_home\", \"tov_value\": null, \"team_type\": \"Home\"}, {\"year\": 1949, \"stat\": \"tov_home\", \"tov_value\": null, \"team_type\": \"Home\"}, {\"year\": 1950, \"stat\": \"tov_home\", \"tov_value\": null, \"team_type\": \"Home\"}, {\"year\": 1951, \"stat\": \"tov_home\", \"tov_value\": null, \"team_type\": \"Home\"}, {\"year\": 1952, \"stat\": \"tov_home\", \"tov_value\": null, \"team_type\": \"Home\"}, {\"year\": 1953, \"stat\": \"tov_home\", \"tov_value\": null, \"team_type\": \"Home\"}, {\"year\": 1954, \"stat\": \"tov_home\", \"tov_value\": null, \"team_type\": \"Home\"}, {\"year\": 1955, \"stat\": \"tov_home\", \"tov_value\": null, \"team_type\": \"Home\"}, {\"year\": 1956, \"stat\": \"tov_home\", \"tov_value\": null, \"team_type\": \"Home\"}, {\"year\": 1957, \"stat\": \"tov_home\", \"tov_value\": null, \"team_type\": \"Home\"}, {\"year\": 1958, \"stat\": \"tov_home\", \"tov_value\": null, \"team_type\": \"Home\"}, {\"year\": 1959, \"stat\": \"tov_home\", \"tov_value\": null, \"team_type\": \"Home\"}, {\"year\": 1960, \"stat\": \"tov_home\", \"tov_value\": null, \"team_type\": \"Home\"}, {\"year\": 1961, \"stat\": \"tov_home\", \"tov_value\": null, \"team_type\": \"Home\"}, {\"year\": 1962, \"stat\": \"tov_home\", \"tov_value\": null, \"team_type\": \"Home\"}, {\"year\": 1963, \"stat\": \"tov_home\", \"tov_value\": null, \"team_type\": \"Home\"}, {\"year\": 1964, \"stat\": \"tov_home\", \"tov_value\": null, \"team_type\": \"Home\"}, {\"year\": 1965, \"stat\": \"tov_home\", \"tov_value\": null, \"team_type\": \"Home\"}, {\"year\": 1966, \"stat\": \"tov_home\", \"tov_value\": null, \"team_type\": \"Home\"}, {\"year\": 1967, \"stat\": \"tov_home\", \"tov_value\": null, \"team_type\": \"Home\"}, {\"year\": 1968, \"stat\": \"tov_home\", \"tov_value\": null, \"team_type\": \"Home\"}, {\"year\": 1969, \"stat\": \"tov_home\", \"tov_value\": null, \"team_type\": \"Home\"}, {\"year\": 1970, \"stat\": \"tov_home\", \"tov_value\": null, \"team_type\": \"Home\"}, {\"year\": 1971, \"stat\": \"tov_home\", \"tov_value\": null, \"team_type\": \"Home\"}, {\"year\": 1972, \"stat\": \"tov_home\", \"tov_value\": null, \"team_type\": \"Home\"}, {\"year\": 1973, \"stat\": \"tov_home\", \"tov_value\": null, \"team_type\": \"Home\"}, {\"year\": 1974, \"stat\": \"tov_home\", \"tov_value\": null, \"team_type\": \"Home\"}, {\"year\": 1975, \"stat\": \"tov_home\", \"tov_value\": null, \"team_type\": \"Home\"}, {\"year\": 1976, \"stat\": \"tov_home\", \"tov_value\": null, \"team_type\": \"Home\"}, {\"year\": 1977, \"stat\": \"tov_home\", \"tov_value\": 18.444444444444443, \"team_type\": \"Home\"}, {\"year\": 1978, \"stat\": \"tov_home\", \"tov_value\": 18.0, \"team_type\": \"Home\"}, {\"year\": 1979, \"stat\": \"tov_home\", \"tov_value\": 21.125, \"team_type\": \"Home\"}, {\"year\": 1980, \"stat\": \"tov_home\", \"tov_value\": 16.428571428571427, \"team_type\": \"Home\"}, {\"year\": 1981, \"stat\": \"tov_home\", \"tov_value\": 17.360294117647058, \"team_type\": \"Home\"}, {\"year\": 1982, \"stat\": \"tov_home\", \"tov_value\": 18.897959183673468, \"team_type\": \"Home\"}, {\"year\": 1983, \"stat\": \"tov_home\", \"tov_value\": 19.032258064516128, \"team_type\": \"Home\"}, {\"year\": 1984, \"stat\": \"tov_home\", \"tov_value\": 17.16551724137931, \"team_type\": \"Home\"}, {\"year\": 1985, \"stat\": \"tov_home\", \"tov_value\": 17.077986179664364, \"team_type\": \"Home\"}, {\"year\": 1986, \"stat\": \"tov_home\", \"tov_value\": 16.125984251968504, \"team_type\": \"Home\"}, {\"year\": 1987, \"stat\": \"tov_home\", \"tov_value\": 15.678048780487805, \"team_type\": \"Home\"}, {\"year\": 1988, \"stat\": \"tov_home\", \"tov_value\": 16.209366391184574, \"team_type\": \"Home\"}, {\"year\": 1989, \"stat\": \"tov_home\", \"tov_value\": 15.301439458086367, \"team_type\": \"Home\"}, {\"year\": 1990, \"stat\": \"tov_home\", \"tov_value\": 15.237043330501274, \"team_type\": \"Home\"}, {\"year\": 1991, \"stat\": \"tov_home\", \"tov_value\": 14.632825719120135, \"team_type\": \"Home\"}, {\"year\": 1992, \"stat\": \"tov_home\", \"tov_value\": 15.043881856540084, \"team_type\": \"Home\"}, {\"year\": 1993, \"stat\": \"tov_home\", \"tov_value\": 15.116425992779783, \"team_type\": \"Home\"}, {\"year\": 1994, \"stat\": \"tov_home\", \"tov_value\": 15.197123519458545, \"team_type\": \"Home\"}, {\"year\": 1995, \"stat\": \"tov_home\", \"tov_value\": 15.047858942065492, \"team_type\": \"Home\"}, {\"year\": 1996, \"stat\": \"tov_home\", \"tov_value\": 15.288202692003168, \"team_type\": \"Home\"}, {\"year\": 1997, \"stat\": \"tov_home\", \"tov_value\": 15.186360031720856, \"team_type\": \"Home\"}, {\"year\": 1998, \"stat\": \"tov_home\", \"tov_value\": 15.04551201011378, \"team_type\": \"Home\"}, {\"year\": 1999, \"stat\": \"tov_home\", \"tov_value\": 15.263643996641477, \"team_type\": \"Home\"}, {\"year\": 2000, \"stat\": \"tov_home\", \"tov_value\": 14.896907216494846, \"team_type\": \"Home\"}, {\"year\": 2001, \"stat\": \"tov_home\", \"tov_value\": 14.320738874895046, \"team_type\": \"Home\"}, {\"year\": 2002, \"stat\": \"tov_home\", \"tov_value\": 14.620015637216575, \"team_type\": \"Home\"}, {\"year\": 2003, \"stat\": \"tov_home\", \"tov_value\": 14.65593087195601, \"team_type\": \"Home\"}, {\"year\": 2004, \"stat\": \"tov_home\", \"tov_value\": 14.303951367781155, \"team_type\": \"Home\"}, {\"year\": 2005, \"stat\": \"tov_home\", \"tov_value\": 14.483246463142219, \"team_type\": \"Home\"}, {\"year\": 2006, \"stat\": \"tov_home\", \"tov_value\": 15.24178895877009, \"team_type\": \"Home\"}, {\"year\": 2007, \"stat\": \"tov_home\", \"tov_value\": 14.0688202247191, \"team_type\": \"Home\"}, {\"year\": 2008, \"stat\": \"tov_home\", \"tov_value\": 14.086194814295725, \"team_type\": \"Home\"}, {\"year\": 2009, \"stat\": \"tov_home\", \"tov_value\": 14.1731843575419, \"team_type\": \"Home\"}, {\"year\": 2010, \"stat\": \"tov_home\", \"tov_value\": 14.295391061452515, \"team_type\": \"Home\"}, {\"year\": 2011, \"stat\": \"tov_home\", \"tov_value\": 14.42081447963801, \"team_type\": \"Home\"}, {\"year\": 2012, \"stat\": \"tov_home\", \"tov_value\": 15.719211822660098, \"team_type\": \"Home\"}, {\"year\": 2013, \"stat\": \"tov_home\", \"tov_value\": 14.831358885017421, \"team_type\": \"Home\"}, {\"year\": 2014, \"stat\": \"tov_home\", \"tov_value\": 14.510831586303285, \"team_type\": \"Home\"}, {\"year\": 2015, \"stat\": \"tov_home\", \"tov_value\": 14.30063069376314, \"team_type\": \"Home\"}, {\"year\": 2016, \"stat\": \"tov_home\", \"tov_value\": 14.06515580736544, \"team_type\": \"Home\"}, {\"year\": 2017, \"stat\": \"tov_home\", \"tov_value\": 14.339798850574713, \"team_type\": \"Home\"}, {\"year\": 2018, \"stat\": \"tov_home\", \"tov_value\": 13.983257229832573, \"team_type\": \"Home\"}, {\"year\": 2019, \"stat\": \"tov_home\", \"tov_value\": 14.536307961504813, \"team_type\": \"Home\"}, {\"year\": 2020, \"stat\": \"tov_home\", \"tov_value\": 14.037828947368421, \"team_type\": \"Home\"}, {\"year\": 2021, \"stat\": \"tov_home\", \"tov_value\": 13.767341040462428, \"team_type\": \"Home\"}, {\"year\": 2022, \"stat\": \"tov_home\", \"tov_value\": 14.11111111111111, \"team_type\": \"Home\"}, {\"year\": 1946, \"stat\": \"tov_away\", \"tov_value\": null, \"team_type\": \"Away\"}, {\"year\": 1947, \"stat\": \"tov_away\", \"tov_value\": null, \"team_type\": \"Away\"}, {\"year\": 1948, \"stat\": \"tov_away\", \"tov_value\": null, \"team_type\": \"Away\"}, {\"year\": 1949, \"stat\": \"tov_away\", \"tov_value\": null, \"team_type\": \"Away\"}, {\"year\": 1950, \"stat\": \"tov_away\", \"tov_value\": null, \"team_type\": \"Away\"}, {\"year\": 1951, \"stat\": \"tov_away\", \"tov_value\": null, \"team_type\": \"Away\"}, {\"year\": 1952, \"stat\": \"tov_away\", \"tov_value\": null, \"team_type\": \"Away\"}, {\"year\": 1953, \"stat\": \"tov_away\", \"tov_value\": null, \"team_type\": \"Away\"}, {\"year\": 1954, \"stat\": \"tov_away\", \"tov_value\": null, \"team_type\": \"Away\"}, {\"year\": 1955, \"stat\": \"tov_away\", \"tov_value\": null, \"team_type\": \"Away\"}, {\"year\": 1956, \"stat\": \"tov_away\", \"tov_value\": null, \"team_type\": \"Away\"}, {\"year\": 1957, \"stat\": \"tov_away\", \"tov_value\": null, \"team_type\": \"Away\"}, {\"year\": 1958, \"stat\": \"tov_away\", \"tov_value\": null, \"team_type\": \"Away\"}, {\"year\": 1959, \"stat\": \"tov_away\", \"tov_value\": null, \"team_type\": \"Away\"}, {\"year\": 1960, \"stat\": \"tov_away\", \"tov_value\": null, \"team_type\": \"Away\"}, {\"year\": 1961, \"stat\": \"tov_away\", \"tov_value\": null, \"team_type\": \"Away\"}, {\"year\": 1962, \"stat\": \"tov_away\", \"tov_value\": null, \"team_type\": \"Away\"}, {\"year\": 1963, \"stat\": \"tov_away\", \"tov_value\": null, \"team_type\": \"Away\"}, {\"year\": 1964, \"stat\": \"tov_away\", \"tov_value\": null, \"team_type\": \"Away\"}, {\"year\": 1965, \"stat\": \"tov_away\", \"tov_value\": null, \"team_type\": \"Away\"}, {\"year\": 1966, \"stat\": \"tov_away\", \"tov_value\": null, \"team_type\": \"Away\"}, {\"year\": 1967, \"stat\": \"tov_away\", \"tov_value\": null, \"team_type\": \"Away\"}, {\"year\": 1968, \"stat\": \"tov_away\", \"tov_value\": null, \"team_type\": \"Away\"}, {\"year\": 1969, \"stat\": \"tov_away\", \"tov_value\": null, \"team_type\": \"Away\"}, {\"year\": 1970, \"stat\": \"tov_away\", \"tov_value\": null, \"team_type\": \"Away\"}, {\"year\": 1971, \"stat\": \"tov_away\", \"tov_value\": null, \"team_type\": \"Away\"}, {\"year\": 1972, \"stat\": \"tov_away\", \"tov_value\": null, \"team_type\": \"Away\"}, {\"year\": 1973, \"stat\": \"tov_away\", \"tov_value\": null, \"team_type\": \"Away\"}, {\"year\": 1974, \"stat\": \"tov_away\", \"tov_value\": null, \"team_type\": \"Away\"}, {\"year\": 1975, \"stat\": \"tov_away\", \"tov_value\": null, \"team_type\": \"Away\"}, {\"year\": 1976, \"stat\": \"tov_away\", \"tov_value\": null, \"team_type\": \"Away\"}, {\"year\": 1977, \"stat\": \"tov_away\", \"tov_value\": 17.77777777777778, \"team_type\": \"Away\"}, {\"year\": 1978, \"stat\": \"tov_away\", \"tov_value\": 12.833333333333334, \"team_type\": \"Away\"}, {\"year\": 1979, \"stat\": \"tov_away\", \"tov_value\": 20.0, \"team_type\": \"Away\"}, {\"year\": 1980, \"stat\": \"tov_away\", \"tov_value\": 14.857142857142858, \"team_type\": \"Away\"}, {\"year\": 1981, \"stat\": \"tov_away\", \"tov_value\": 18.59259259259259, \"team_type\": \"Away\"}, {\"year\": 1982, \"stat\": \"tov_away\", \"tov_value\": 19.1734693877551, \"team_type\": \"Away\"}, {\"year\": 1983, \"stat\": \"tov_away\", \"tov_value\": 19.516129032258064, \"team_type\": \"Away\"}, {\"year\": 1984, \"stat\": \"tov_away\", \"tov_value\": 18.786206896551725, \"team_type\": \"Away\"}, {\"year\": 1985, \"stat\": \"tov_away\", \"tov_value\": 17.666337611056267, \"team_type\": \"Away\"}, {\"year\": 1986, \"stat\": \"tov_away\", \"tov_value\": 16.999015748031496, \"team_type\": \"Away\"}, {\"year\": 1987, \"stat\": \"tov_away\", \"tov_value\": 16.813658536585365, \"team_type\": \"Away\"}, {\"year\": 1988, \"stat\": \"tov_away\", \"tov_value\": 17.346189164370983, \"team_type\": \"Away\"}, {\"year\": 1989, \"stat\": \"tov_away\", \"tov_value\": 15.84419983065199, \"team_type\": \"Away\"}, {\"year\": 1990, \"stat\": \"tov_away\", \"tov_value\": 15.766355140186915, \"team_type\": \"Away\"}, {\"year\": 1991, \"stat\": \"tov_away\", \"tov_value\": 15.423011844331642, \"team_type\": \"Away\"}, {\"year\": 1992, \"stat\": \"tov_away\", \"tov_value\": 15.643037974683544, \"team_type\": \"Away\"}, {\"year\": 1993, \"stat\": \"tov_away\", \"tov_value\": 15.790613718411553, \"team_type\": \"Away\"}, {\"year\": 1994, \"stat\": \"tov_away\", \"tov_value\": 15.426395939086294, \"team_type\": \"Away\"}, {\"year\": 1995, \"stat\": \"tov_away\", \"tov_value\": 15.4911838790932, \"team_type\": \"Away\"}, {\"year\": 1996, \"stat\": \"tov_away\", \"tov_value\": 15.835312747426762, \"team_type\": \"Away\"}, {\"year\": 1997, \"stat\": \"tov_away\", \"tov_value\": 15.530531324345757, \"team_type\": \"Away\"}, {\"year\": 1998, \"stat\": \"tov_away\", \"tov_value\": 15.355246523388116, \"team_type\": \"Away\"}, {\"year\": 1999, \"stat\": \"tov_away\", \"tov_value\": 15.70193115029387, \"team_type\": \"Away\"}, {\"year\": 2000, \"stat\": \"tov_away\", \"tov_value\": 15.238699444885011, \"team_type\": \"Away\"}, {\"year\": 2001, \"stat\": \"tov_away\", \"tov_value\": 14.602015113350125, \"team_type\": \"Away\"}, {\"year\": 2002, \"stat\": \"tov_away\", \"tov_value\": 15.086786551993745, \"team_type\": \"Away\"}, {\"year\": 2003, \"stat\": \"tov_away\", \"tov_value\": 15.291437549096623, \"team_type\": \"Away\"}, {\"year\": 2004, \"stat\": \"tov_away\", \"tov_value\": 14.616261398176292, \"team_type\": \"Away\"}, {\"year\": 2005, \"stat\": \"tov_away\", \"tov_value\": 14.844378257632167, \"team_type\": \"Away\"}, {\"year\": 2006, \"stat\": \"tov_away\", \"tov_value\": 15.68763102725367, \"team_type\": \"Away\"}, {\"year\": 2007, \"stat\": \"tov_away\", \"tov_value\": 14.652387640449438, \"team_type\": \"Away\"}, {\"year\": 2008, \"stat\": \"tov_away\", \"tov_value\": 14.490539593552908, \"team_type\": \"Away\"}, {\"year\": 2009, \"stat\": \"tov_away\", \"tov_value\": 14.753491620111731, \"team_type\": \"Away\"}, {\"year\": 2010, \"stat\": \"tov_away\", \"tov_value\": 14.817737430167599, \"team_type\": \"Away\"}, {\"year\": 2011, \"stat\": \"tov_away\", \"tov_value\": 14.742986425339366, \"team_type\": \"Away\"}, {\"year\": 2012, \"stat\": \"tov_away\", \"tov_value\": 16.246305418719214, \"team_type\": \"Away\"}, {\"year\": 2013, \"stat\": \"tov_away\", \"tov_value\": 14.938675958188153, \"team_type\": \"Away\"}, {\"year\": 2014, \"stat\": \"tov_away\", \"tov_value\": 14.70649895178197, \"team_type\": \"Away\"}, {\"year\": 2015, \"stat\": \"tov_away\", \"tov_value\": 14.72740014015417, \"team_type\": \"Away\"}, {\"year\": 2016, \"stat\": \"tov_away\", \"tov_value\": 14.259206798866856, \"team_type\": \"Away\"}, {\"year\": 2017, \"stat\": \"tov_away\", \"tov_value\": 14.501436781609195, \"team_type\": \"Away\"}, {\"year\": 2018, \"stat\": \"tov_away\", \"tov_value\": 14.08904109589041, \"team_type\": \"Away\"}, {\"year\": 2019, \"stat\": \"tov_away\", \"tov_value\": 14.47944006999125, \"team_type\": \"Away\"}, {\"year\": 2020, \"stat\": \"tov_away\", \"tov_value\": 13.717927631578947, \"team_type\": \"Away\"}, {\"year\": 2021, \"stat\": \"tov_away\", \"tov_value\": 14.058526011560694, \"team_type\": \"Away\"}, {\"year\": 2022, \"stat\": \"tov_away\", \"tov_value\": 14.240981240981242, \"team_type\": \"Away\"}], \"data-f9b55f63d69c6e47d0518a4db6dfe097\": [{\"year\": 1946, \"stat\": \"fg_pct_home\", \"fg_pct_value\": 0.26048000000000004, \"team_type\": \"Home\"}, {\"year\": 1947, \"stat\": \"fg_pct_home\", \"fg_pct_value\": 0.2714375, \"team_type\": \"Home\"}, {\"year\": 1948, \"stat\": \"fg_pct_home\", \"fg_pct_value\": 0.298, \"team_type\": \"Home\"}, {\"year\": 1949, \"stat\": \"fg_pct_home\", \"fg_pct_value\": 0.37666666666666665, \"team_type\": \"Home\"}, {\"year\": 1950, \"stat\": \"fg_pct_home\", \"fg_pct_value\": 0.40205555555555555, \"team_type\": \"Home\"}, {\"year\": 1951, \"stat\": \"fg_pct_home\", \"fg_pct_value\": 0.38927272727272727, \"team_type\": \"Home\"}, {\"year\": 1952, \"stat\": \"fg_pct_home\", \"fg_pct_value\": 0.382525, \"team_type\": \"Home\"}, {\"year\": 1953, \"stat\": \"fg_pct_home\", \"fg_pct_value\": 0.395531914893617, \"team_type\": \"Home\"}, {\"year\": 1954, \"stat\": \"fg_pct_home\", \"fg_pct_value\": 0.4066923076923077, \"team_type\": \"Home\"}, {\"year\": 1955, \"stat\": \"fg_pct_home\", \"fg_pct_value\": 0.3791851851851852, \"team_type\": \"Home\"}, {\"year\": 1956, \"stat\": \"fg_pct_home\", \"fg_pct_value\": 0.3841428571428572, \"team_type\": \"Home\"}, {\"year\": 1957, \"stat\": \"fg_pct_home\", \"fg_pct_value\": 0.402, \"team_type\": \"Home\"}, {\"year\": 1958, \"stat\": \"fg_pct_home\", \"fg_pct_value\": 0.41183333333333333, \"team_type\": \"Home\"}, {\"year\": 1959, \"stat\": \"fg_pct_home\", \"fg_pct_value\": 0.41105882352941175, \"team_type\": \"Home\"}, {\"year\": 1960, \"stat\": \"fg_pct_home\", \"fg_pct_value\": 0.419, \"team_type\": \"Home\"}, {\"year\": 1961, \"stat\": \"fg_pct_home\", \"fg_pct_value\": 0.4263333333333333, \"team_type\": \"Home\"}, {\"year\": 1962, \"stat\": \"fg_pct_home\", \"fg_pct_value\": 0.47363636363636363, \"team_type\": \"Home\"}, {\"year\": 1963, \"stat\": \"fg_pct_home\", \"fg_pct_value\": 0.46455, \"team_type\": \"Home\"}, {\"year\": 1964, \"stat\": \"fg_pct_home\", \"fg_pct_value\": 0.452, \"team_type\": \"Home\"}, {\"year\": 1965, \"stat\": \"fg_pct_home\", \"fg_pct_value\": 0.4554, \"team_type\": \"Home\"}, {\"year\": 1966, \"stat\": \"fg_pct_home\", \"fg_pct_value\": 0.469, \"team_type\": \"Home\"}, {\"year\": 1967, \"stat\": \"fg_pct_home\", \"fg_pct_value\": 0.586, \"team_type\": \"Home\"}, {\"year\": 1968, \"stat\": \"fg_pct_home\", \"fg_pct_value\": 0.463, \"team_type\": \"Home\"}, {\"year\": 1969, \"stat\": \"fg_pct_home\", \"fg_pct_value\": 0.4897777777777777, \"team_type\": \"Home\"}, {\"year\": 1970, \"stat\": \"fg_pct_home\", \"fg_pct_value\": 0.42733333333333334, \"team_type\": \"Home\"}, {\"year\": 1971, \"stat\": \"fg_pct_home\", \"fg_pct_value\": 0.4468571428571429, \"team_type\": \"Home\"}, {\"year\": 1972, \"stat\": \"fg_pct_home\", \"fg_pct_value\": 0.436375, \"team_type\": \"Home\"}, {\"year\": 1973, \"stat\": \"fg_pct_home\", \"fg_pct_value\": 0.44325000000000003, \"team_type\": \"Home\"}, {\"year\": 1974, \"stat\": \"fg_pct_home\", \"fg_pct_value\": 0.42450000000000004, \"team_type\": \"Home\"}, {\"year\": 1975, \"stat\": \"fg_pct_home\", \"fg_pct_value\": 0.4561428571428571, \"team_type\": \"Home\"}, {\"year\": 1976, \"stat\": \"fg_pct_home\", \"fg_pct_value\": 0.486875, \"team_type\": \"Home\"}, {\"year\": 1977, \"stat\": \"fg_pct_home\", \"fg_pct_value\": 0.4423333333333333, \"team_type\": \"Home\"}, {\"year\": 1978, \"stat\": \"fg_pct_home\", \"fg_pct_value\": 0.46900000000000003, \"team_type\": \"Home\"}, {\"year\": 1979, \"stat\": \"fg_pct_home\", \"fg_pct_value\": 0.49525, \"team_type\": \"Home\"}, {\"year\": 1980, \"stat\": \"fg_pct_home\", \"fg_pct_value\": 0.41800000000000004, \"team_type\": \"Home\"}, {\"year\": 1981, \"stat\": \"fg_pct_home\", \"fg_pct_value\": 0.4975109170305677, \"team_type\": \"Home\"}, {\"year\": 1982, \"stat\": \"fg_pct_home\", \"fg_pct_value\": 0.4936272066458982, \"team_type\": \"Home\"}, {\"year\": 1983, \"stat\": \"fg_pct_home\", \"fg_pct_value\": 0.5004619140625, \"team_type\": \"Home\"}, {\"year\": 1984, \"stat\": \"fg_pct_home\", \"fg_pct_value\": 0.4970938735177866, \"team_type\": \"Home\"}, {\"year\": 1985, \"stat\": \"fg_pct_home\", \"fg_pct_value\": 0.4975932872655479, \"team_type\": \"Home\"}, {\"year\": 1986, \"stat\": \"fg_pct_home\", \"fg_pct_value\": 0.49034448818897636, \"team_type\": \"Home\"}, {\"year\": 1987, \"stat\": \"fg_pct_home\", \"fg_pct_value\": 0.4917639024390244, \"team_type\": \"Home\"}, {\"year\": 1988, \"stat\": \"fg_pct_home\", \"fg_pct_value\": 0.4872405876951332, \"team_type\": \"Home\"}, {\"year\": 1989, \"stat\": \"fg_pct_home\", \"fg_pct_value\": 0.4877307366638442, \"team_type\": \"Home\"}, {\"year\": 1990, \"stat\": \"fg_pct_home\", \"fg_pct_value\": 0.48372387425658453, \"team_type\": \"Home\"}, {\"year\": 1991, \"stat\": \"fg_pct_home\", \"fg_pct_value\": 0.4804805414551607, \"team_type\": \"Home\"}, {\"year\": 1992, \"stat\": \"fg_pct_home\", \"fg_pct_value\": 0.4805940928270042, \"team_type\": \"Home\"}, {\"year\": 1993, \"stat\": \"fg_pct_home\", \"fg_pct_value\": 0.473471119133574, \"team_type\": \"Home\"}, {\"year\": 1994, \"stat\": \"fg_pct_home\", \"fg_pct_value\": 0.4729593908629442, \"team_type\": \"Home\"}, {\"year\": 1995, \"stat\": \"fg_pct_home\", \"fg_pct_value\": 0.46842233417296386, \"team_type\": \"Home\"}, {\"year\": 1996, \"stat\": \"fg_pct_home\", \"fg_pct_value\": 0.45997387173396675, \"team_type\": \"Home\"}, {\"year\": 1997, \"stat\": \"fg_pct_home\", \"fg_pct_value\": 0.457268834258525, \"team_type\": \"Home\"}, {\"year\": 1998, \"stat\": \"fg_pct_home\", \"fg_pct_value\": 0.4441858407079646, \"team_type\": \"Home\"}, {\"year\": 1999, \"stat\": \"fg_pct_home\", \"fg_pct_value\": 0.4567984886649874, \"team_type\": \"Home\"}, {\"year\": 2000, \"stat\": \"fg_pct_home\", \"fg_pct_value\": 0.4493203806502775, \"team_type\": \"Home\"}, {\"year\": 2001, \"stat\": \"fg_pct_home\", \"fg_pct_value\": 0.4531603694374476, \"team_type\": \"Home\"}, {\"year\": 2002, \"stat\": \"fg_pct_home\", \"fg_pct_value\": 0.4515215011727912, \"team_type\": \"Home\"}, {\"year\": 2003, \"stat\": \"fg_pct_home\", \"fg_pct_value\": 0.4454053417124902, \"team_type\": \"Home\"}, {\"year\": 2004, \"stat\": \"fg_pct_home\", \"fg_pct_value\": 0.4547659574468085, \"team_type\": \"Home\"}, {\"year\": 2005, \"stat\": \"fg_pct_home\", \"fg_pct_value\": 0.45921816827997025, \"team_type\": \"Home\"}, {\"year\": 2006, \"stat\": \"fg_pct_home\", \"fg_pct_value\": 0.4635863032844165, \"team_type\": \"Home\"}, {\"year\": 2007, \"stat\": \"fg_pct_home\", \"fg_pct_value\": 0.463059691011236, \"team_type\": \"Home\"}, {\"year\": 2008, \"stat\": \"fg_pct_home\", \"fg_pct_value\": 0.46423055360896986, \"team_type\": \"Home\"}, {\"year\": 2009, \"stat\": \"fg_pct_home\", \"fg_pct_value\": 0.4661319832402234, \"team_type\": \"Home\"}, {\"year\": 2010, \"stat\": \"fg_pct_home\", \"fg_pct_value\": 0.4639727653631285, \"team_type\": \"Home\"}, {\"year\": 2011, \"stat\": \"fg_pct_home\", \"fg_pct_value\": 0.453724886877828, \"team_type\": \"Home\"}, {\"year\": 2012, \"stat\": \"fg_pct_home\", \"fg_pct_value\": 0.44617241379310346, \"team_type\": \"Home\"}, {\"year\": 2013, \"stat\": \"fg_pct_home\", \"fg_pct_value\": 0.4595268292682927, \"team_type\": \"Home\"}, {\"year\": 2014, \"stat\": \"fg_pct_home\", \"fg_pct_value\": 0.4534682040531097, \"team_type\": \"Home\"}, {\"year\": 2015, \"stat\": \"fg_pct_home\", \"fg_pct_value\": 0.4561695865451997, \"team_type\": \"Home\"}, {\"year\": 2016, \"stat\": \"fg_pct_home\", \"fg_pct_value\": 0.46387818696883854, \"team_type\": \"Home\"}, {\"year\": 2017, \"stat\": \"fg_pct_home\", \"fg_pct_value\": 0.46552370689655176, \"team_type\": \"Home\"}, {\"year\": 2018, \"stat\": \"fg_pct_home\", \"fg_pct_value\": 0.46550304414003046, \"team_type\": \"Home\"}, {\"year\": 2019, \"stat\": \"fg_pct_home\", \"fg_pct_value\": 0.46516885389326335, \"team_type\": \"Home\"}, {\"year\": 2020, \"stat\": \"fg_pct_home\", \"fg_pct_value\": 0.4674703947368421, \"team_type\": \"Home\"}, {\"year\": 2021, \"stat\": \"fg_pct_home\", \"fg_pct_value\": 0.46439450867052023, \"team_type\": \"Home\"}, {\"year\": 2022, \"stat\": \"fg_pct_home\", \"fg_pct_value\": 0.4790295815295816, \"team_type\": \"Home\"}, {\"year\": 1946, \"stat\": \"fg_pct_away\", \"fg_pct_value\": 0.25412, \"team_type\": \"Away\"}, {\"year\": 1947, \"stat\": \"fg_pct_away\", \"fg_pct_value\": 0.2838235294117647, \"team_type\": \"Away\"}, {\"year\": 1948, \"stat\": \"fg_pct_away\", \"fg_pct_value\": 0.2936666666666667, \"team_type\": \"Away\"}, {\"year\": 1949, \"stat\": \"fg_pct_away\", \"fg_pct_value\": 0.37766666666666665, \"team_type\": \"Away\"}, {\"year\": 1950, \"stat\": \"fg_pct_away\", \"fg_pct_value\": 0.34705555555555556, \"team_type\": \"Away\"}, {\"year\": 1951, \"stat\": \"fg_pct_away\", \"fg_pct_value\": 0.3538409090909091, \"team_type\": \"Away\"}, {\"year\": 1952, \"stat\": \"fg_pct_away\", \"fg_pct_value\": 0.3548, \"team_type\": \"Away\"}, {\"year\": 1953, \"stat\": \"fg_pct_away\", \"fg_pct_value\": 0.37370212765957445, \"team_type\": \"Away\"}, {\"year\": 1954, \"stat\": \"fg_pct_away\", \"fg_pct_value\": 0.4133076923076923, \"team_type\": \"Away\"}, {\"year\": 1955, \"stat\": \"fg_pct_away\", \"fg_pct_value\": 0.38311111111111107, \"team_type\": \"Away\"}, {\"year\": 1956, \"stat\": \"fg_pct_away\", \"fg_pct_value\": 0.3655714285714286, \"team_type\": \"Away\"}, {\"year\": 1957, \"stat\": \"fg_pct_away\", \"fg_pct_value\": 0.38757142857142857, \"team_type\": \"Away\"}, {\"year\": 1958, \"stat\": \"fg_pct_away\", \"fg_pct_value\": 0.37933333333333336, \"team_type\": \"Away\"}, {\"year\": 1959, \"stat\": \"fg_pct_away\", \"fg_pct_value\": 0.4679411764705882, \"team_type\": \"Away\"}, {\"year\": 1960, \"stat\": \"fg_pct_away\", \"fg_pct_value\": 0.504, \"team_type\": \"Away\"}, {\"year\": 1961, \"stat\": \"fg_pct_away\", \"fg_pct_value\": 0.4736666666666666, \"team_type\": \"Away\"}, {\"year\": 1962, \"stat\": \"fg_pct_away\", \"fg_pct_value\": 0.42590909090909085, \"team_type\": \"Away\"}, {\"year\": 1963, \"stat\": \"fg_pct_away\", \"fg_pct_value\": 0.42565, \"team_type\": \"Away\"}, {\"year\": 1964, \"stat\": \"fg_pct_away\", \"fg_pct_value\": 0.45, \"team_type\": \"Away\"}, {\"year\": 1965, \"stat\": \"fg_pct_away\", \"fg_pct_value\": 0.4325, \"team_type\": \"Away\"}, {\"year\": 1966, \"stat\": \"fg_pct_away\", \"fg_pct_value\": 0.5, \"team_type\": \"Away\"}, {\"year\": 1967, \"stat\": \"fg_pct_away\", \"fg_pct_value\": 0.427, \"team_type\": \"Away\"}, {\"year\": 1968, \"stat\": \"fg_pct_away\", \"fg_pct_value\": 0.419, \"team_type\": \"Away\"}, {\"year\": 1969, \"stat\": \"fg_pct_away\", \"fg_pct_value\": 0.47277777777777774, \"team_type\": \"Away\"}, {\"year\": 1970, \"stat\": \"fg_pct_away\", \"fg_pct_value\": 0.454, \"team_type\": \"Away\"}, {\"year\": 1971, \"stat\": \"fg_pct_away\", \"fg_pct_value\": 0.44642857142857145, \"team_type\": \"Away\"}, {\"year\": 1972, \"stat\": \"fg_pct_away\", \"fg_pct_value\": 0.438875, \"team_type\": \"Away\"}, {\"year\": 1973, \"stat\": \"fg_pct_away\", \"fg_pct_value\": 0.467375, \"team_type\": \"Away\"}, {\"year\": 1974, \"stat\": \"fg_pct_away\", \"fg_pct_value\": 0.45199999999999996, \"team_type\": \"Away\"}, {\"year\": 1975, \"stat\": \"fg_pct_away\", \"fg_pct_value\": 0.41571428571428576, \"team_type\": \"Away\"}, {\"year\": 1976, \"stat\": \"fg_pct_away\", \"fg_pct_value\": 0.458, \"team_type\": \"Away\"}, {\"year\": 1977, \"stat\": \"fg_pct_away\", \"fg_pct_value\": 0.44633333333333336, \"team_type\": \"Away\"}, {\"year\": 1978, \"stat\": \"fg_pct_away\", \"fg_pct_value\": 0.43516666666666665, \"team_type\": \"Away\"}, {\"year\": 1979, \"stat\": \"fg_pct_away\", \"fg_pct_value\": 0.470875, \"team_type\": \"Away\"}, {\"year\": 1980, \"stat\": \"fg_pct_away\", \"fg_pct_value\": 0.4521428571428571, \"team_type\": \"Away\"}, {\"year\": 1981, \"stat\": \"fg_pct_away\", \"fg_pct_value\": 0.4906986899563319, \"team_type\": \"Away\"}, {\"year\": 1982, \"stat\": \"fg_pct_away\", \"fg_pct_value\": 0.479061266874351, \"team_type\": \"Away\"}, {\"year\": 1983, \"stat\": \"fg_pct_away\", \"fg_pct_value\": 0.48478222656250003, \"team_type\": \"Away\"}, {\"year\": 1984, \"stat\": \"fg_pct_away\", \"fg_pct_value\": 0.48761660079051383, \"team_type\": \"Away\"}, {\"year\": 1985, \"stat\": \"fg_pct_away\", \"fg_pct_value\": 0.48025666337611056, \"team_type\": \"Away\"}, {\"year\": 1986, \"stat\": \"fg_pct_away\", \"fg_pct_value\": 0.47382086614173224, \"team_type\": \"Away\"}, {\"year\": 1987, \"stat\": \"fg_pct_away\", \"fg_pct_value\": 0.47130634146341466, \"team_type\": \"Away\"}, {\"year\": 1988, \"stat\": \"fg_pct_away\", \"fg_pct_value\": 0.4696776859504132, \"team_type\": \"Away\"}, {\"year\": 1989, \"stat\": \"fg_pct_away\", \"fg_pct_value\": 0.46779932260795937, \"team_type\": \"Away\"}, {\"year\": 1990, \"stat\": \"fg_pct_away\", \"fg_pct_value\": 0.46772217502124047, \"team_type\": \"Away\"}, {\"year\": 1991, \"stat\": \"fg_pct_away\", \"fg_pct_value\": 0.4674703891708967, \"team_type\": \"Away\"}, {\"year\": 1992, \"stat\": \"fg_pct_away\", \"fg_pct_value\": 0.46769029535864975, \"team_type\": \"Away\"}, {\"year\": 1993, \"stat\": \"fg_pct_away\", \"fg_pct_value\": 0.4600469314079423, \"team_type\": \"Away\"}, {\"year\": 1994, \"stat\": \"fg_pct_away\", \"fg_pct_value\": 0.46139847715736043, \"team_type\": \"Away\"}, {\"year\": 1995, \"stat\": \"fg_pct_away\", \"fg_pct_value\": 0.45872124265323255, \"team_type\": \"Away\"}, {\"year\": 1996, \"stat\": \"fg_pct_away\", \"fg_pct_value\": 0.4503958828186857, \"team_type\": \"Away\"}, {\"year\": 1997, \"stat\": \"fg_pct_away\", \"fg_pct_value\": 0.4464710547184774, \"team_type\": \"Away\"}, {\"year\": 1998, \"stat\": \"fg_pct_away\", \"fg_pct_value\": 0.43066371681415927, \"team_type\": \"Away\"}, {\"year\": 1999, \"stat\": \"fg_pct_away\", \"fg_pct_value\": 0.4430176322418136, \"team_type\": \"Away\"}, {\"year\": 2000, \"stat\": \"fg_pct_away\", \"fg_pct_value\": 0.437355273592387, \"team_type\": \"Away\"}, {\"year\": 2001, \"stat\": \"fg_pct_away\", \"fg_pct_value\": 0.43927371956339206, \"team_type\": \"Away\"}, {\"year\": 2002, \"stat\": \"fg_pct_away\", \"fg_pct_value\": 0.43392650508209535, \"team_type\": \"Away\"}, {\"year\": 2003, \"stat\": \"fg_pct_away\", \"fg_pct_value\": 0.43145797329143754, \"team_type\": \"Away\"}, {\"year\": 2004, \"stat\": \"fg_pct_away\", \"fg_pct_value\": 0.4425, \"team_type\": \"Away\"}, {\"year\": 2005, \"stat\": \"fg_pct_away\", \"fg_pct_value\": 0.4481965748324646, \"team_type\": \"Away\"}, {\"year\": 2006, \"stat\": \"fg_pct_away\", \"fg_pct_value\": 0.45196436058700207, \"team_type\": \"Away\"}, {\"year\": 2007, \"stat\": \"fg_pct_away\", \"fg_pct_value\": 0.4483518258426966, \"team_type\": \"Away\"}, {\"year\": 2008, \"stat\": \"fg_pct_away\", \"fg_pct_value\": 0.4516012613875263, \"team_type\": \"Away\"}, {\"year\": 2009, \"stat\": \"fg_pct_away\", \"fg_pct_value\": 0.45627723463687153, \"team_type\": \"Away\"}, {\"year\": 2010, \"stat\": \"fg_pct_away\", \"fg_pct_value\": 0.4504057262569832, \"team_type\": \"Away\"}, {\"year\": 2011, \"stat\": \"fg_pct_away\", \"fg_pct_value\": 0.44155113122171946, \"team_type\": \"Away\"}, {\"year\": 2012, \"stat\": \"fg_pct_away\", \"fg_pct_value\": 0.43295073891625613, \"team_type\": \"Away\"}, {\"year\": 2013, \"stat\": \"fg_pct_away\", \"fg_pct_value\": 0.4482627177700348, \"team_type\": \"Away\"}, {\"year\": 2014, \"stat\": \"fg_pct_away\", \"fg_pct_value\": 0.44416282320055905, \"team_type\": \"Away\"}, {\"year\": 2015, \"stat\": \"fg_pct_away\", \"fg_pct_value\": 0.44546250875963556, \"team_type\": \"Away\"}, {\"year\": 2016, \"stat\": \"fg_pct_away\", \"fg_pct_value\": 0.4508944759206799, \"team_type\": \"Away\"}, {\"year\": 2017, \"stat\": \"fg_pct_away\", \"fg_pct_value\": 0.4546932471264368, \"team_type\": \"Away\"}, {\"year\": 2018, \"stat\": \"fg_pct_away\", \"fg_pct_value\": 0.455203196347032, \"team_type\": \"Away\"}, {\"year\": 2019, \"stat\": \"fg_pct_away\", \"fg_pct_value\": 0.456846019247594, \"team_type\": \"Away\"}, {\"year\": 2020, \"stat\": \"fg_pct_away\", \"fg_pct_value\": 0.46384539473684216, \"team_type\": \"Away\"}, {\"year\": 2021, \"stat\": \"fg_pct_away\", \"fg_pct_value\": 0.45711705202312136, \"team_type\": \"Away\"}, {\"year\": 2022, \"stat\": \"fg_pct_away\", \"fg_pct_value\": 0.46953823953823953, \"team_type\": \"Away\"}], \"data-45bd0d39ef004b35f4aa1a7ee50f4e1c\": [{\"year\": 1946, \"stat\": \"reb_home\", \"reb_value\": null, \"team_type\": \"Home\"}, {\"year\": 1947, \"stat\": \"reb_home\", \"reb_value\": null, \"team_type\": \"Home\"}, {\"year\": 1948, \"stat\": \"reb_home\", \"reb_value\": null, \"team_type\": \"Home\"}, {\"year\": 1949, \"stat\": \"reb_home\", \"reb_value\": null, \"team_type\": \"Home\"}, {\"year\": 1950, \"stat\": \"reb_home\", \"reb_value\": 55.22222222222222, \"team_type\": \"Home\"}, {\"year\": 1951, \"stat\": \"reb_home\", \"reb_value\": 55.8, \"team_type\": \"Home\"}, {\"year\": 1952, \"stat\": \"reb_home\", \"reb_value\": 58.0, \"team_type\": \"Home\"}, {\"year\": 1953, \"stat\": \"reb_home\", \"reb_value\": 12.909090909090908, \"team_type\": \"Home\"}, {\"year\": 1954, \"stat\": \"reb_home\", \"reb_value\": 40.0, \"team_type\": \"Home\"}, {\"year\": 1955, \"stat\": \"reb_home\", \"reb_value\": 49.0, \"team_type\": \"Home\"}, {\"year\": 1956, \"stat\": \"reb_home\", \"reb_value\": 67.25, \"team_type\": \"Home\"}, {\"year\": 1957, \"stat\": \"reb_home\", \"reb_value\": 69.33333333333333, \"team_type\": \"Home\"}, {\"year\": 1958, \"stat\": \"reb_home\", \"reb_value\": 69.35714285714286, \"team_type\": \"Home\"}, {\"year\": 1959, \"stat\": \"reb_home\", \"reb_value\": 66.65306122448979, \"team_type\": \"Home\"}, {\"year\": 1960, \"stat\": \"reb_home\", \"reb_value\": 63.0, \"team_type\": \"Home\"}, {\"year\": 1961, \"stat\": \"reb_home\", \"reb_value\": 63.666666666666664, \"team_type\": \"Home\"}, {\"year\": 1962, \"stat\": \"reb_home\", \"reb_value\": 56.8, \"team_type\": \"Home\"}, {\"year\": 1963, \"stat\": \"reb_home\", \"reb_value\": 57.61904761904762, \"team_type\": \"Home\"}, {\"year\": 1964, \"stat\": \"reb_home\", \"reb_value\": 66.0, \"team_type\": \"Home\"}, {\"year\": 1965, \"stat\": \"reb_home\", \"reb_value\": 61.7, \"team_type\": \"Home\"}, {\"year\": 1966, \"stat\": \"reb_home\", \"reb_value\": 58.0, \"team_type\": \"Home\"}, {\"year\": 1967, \"stat\": \"reb_home\", \"reb_value\": 53.0, \"team_type\": \"Home\"}, {\"year\": 1968, \"stat\": \"reb_home\", \"reb_value\": 60.0, \"team_type\": \"Home\"}, {\"year\": 1969, \"stat\": \"reb_home\", \"reb_value\": 54.0, \"team_type\": \"Home\"}, {\"year\": 1970, \"stat\": \"reb_home\", \"reb_value\": 57.5, \"team_type\": \"Home\"}, {\"year\": 1971, \"stat\": \"reb_home\", \"reb_value\": 53.857142857142854, \"team_type\": \"Home\"}, {\"year\": 1972, \"stat\": \"reb_home\", \"reb_value\": 52.0, \"team_type\": \"Home\"}, {\"year\": 1973, \"stat\": \"reb_home\", \"reb_value\": 44.625, \"team_type\": \"Home\"}, {\"year\": 1974, \"stat\": \"reb_home\", \"reb_value\": 49.166666666666664, \"team_type\": \"Home\"}, {\"year\": 1975, \"stat\": \"reb_home\", \"reb_value\": 50.42857142857143, \"team_type\": \"Home\"}, {\"year\": 1976, \"stat\": \"reb_home\", \"reb_value\": 47.75, \"team_type\": \"Home\"}, {\"year\": 1977, \"stat\": \"reb_home\", \"reb_value\": 56.0, \"team_type\": \"Home\"}, {\"year\": 1978, \"stat\": \"reb_home\", \"reb_value\": 48.666666666666664, \"team_type\": \"Home\"}, {\"year\": 1979, \"stat\": \"reb_home\", \"reb_value\": 47.75, \"team_type\": \"Home\"}, {\"year\": 1980, \"stat\": \"reb_home\", \"reb_value\": 48.857142857142854, \"team_type\": \"Home\"}, {\"year\": 1981, \"stat\": \"reb_home\", \"reb_value\": 43.991379310344826, \"team_type\": \"Home\"}, {\"year\": 1982, \"stat\": \"reb_home\", \"reb_value\": 45.480789200415366, \"team_type\": \"Home\"}, {\"year\": 1983, \"stat\": \"reb_home\", \"reb_value\": 44.37810945273632, \"team_type\": \"Home\"}, {\"year\": 1984, \"stat\": \"reb_home\", \"reb_value\": 50.222885572139305, \"team_type\": \"Home\"}, {\"year\": 1985, \"stat\": \"reb_home\", \"reb_value\": 44.73050345508391, \"team_type\": \"Home\"}, {\"year\": 1986, \"stat\": \"reb_home\", \"reb_value\": 45.414370078740156, \"team_type\": \"Home\"}, {\"year\": 1987, \"stat\": \"reb_home\", \"reb_value\": 44.44682926829268, \"team_type\": \"Home\"}, {\"year\": 1988, \"stat\": \"reb_home\", \"reb_value\": 45.01836547291093, \"team_type\": \"Home\"}, {\"year\": 1989, \"stat\": \"reb_home\", \"reb_value\": 44.14225232853514, \"team_type\": \"Home\"}, {\"year\": 1990, \"stat\": \"reb_home\", \"reb_value\": 44.1911639762107, \"team_type\": \"Home\"}, {\"year\": 1991, \"stat\": \"reb_home\", \"reb_value\": 44.636209813874785, \"team_type\": \"Home\"}, {\"year\": 1992, \"stat\": \"reb_home\", \"reb_value\": 44.11139240506329, \"team_type\": \"Home\"}, {\"year\": 1993, \"stat\": \"reb_home\", \"reb_value\": 43.93411552346571, \"team_type\": \"Home\"}, {\"year\": 1994, \"stat\": \"reb_home\", \"reb_value\": 42.445008460236885, \"team_type\": \"Home\"}, {\"year\": 1995, \"stat\": \"reb_home\", \"reb_value\": 42.26028547439127, \"team_type\": \"Home\"}, {\"year\": 1996, \"stat\": \"reb_home\", \"reb_value\": 41.888361045130644, \"team_type\": \"Home\"}, {\"year\": 1997, \"stat\": \"reb_home\", \"reb_value\": 42.455194290245835, \"team_type\": \"Home\"}, {\"year\": 1998, \"stat\": \"reb_home\", \"reb_value\": 42.335018963337546, \"team_type\": \"Home\"}, {\"year\": 1999, \"stat\": \"reb_home\", \"reb_value\": 43.82955499580185, \"team_type\": \"Home\"}, {\"year\": 2000, \"stat\": \"reb_home\", \"reb_value\": 43.27279936558287, \"team_type\": \"Home\"}, {\"year\": 2001, \"stat\": \"reb_home\", \"reb_value\": 43.26196473551637, \"team_type\": \"Home\"}, {\"year\": 2002, \"stat\": \"reb_home\", \"reb_value\": 43.098514464425335, \"team_type\": \"Home\"}, {\"year\": 2003, \"stat\": \"reb_home\", \"reb_value\": 43.199528672427334, \"team_type\": \"Home\"}, {\"year\": 2004, \"stat\": \"reb_home\", \"reb_value\": 42.63753799392097, \"team_type\": \"Home\"}, {\"year\": 2005, \"stat\": \"reb_home\", \"reb_value\": 41.895755770662696, \"team_type\": \"Home\"}, {\"year\": 2006, \"stat\": \"reb_home\", \"reb_value\": 41.63941299790356, \"team_type\": \"Home\"}, {\"year\": 2007, \"stat\": \"reb_home\", \"reb_value\": 42.73384831460674, \"team_type\": \"Home\"}, {\"year\": 2008, \"stat\": \"reb_home\", \"reb_value\": 41.96075683251577, \"team_type\": \"Home\"}, {\"year\": 2009, \"stat\": \"reb_home\", \"reb_value\": 42.19134078212291, \"team_type\": \"Home\"}, {\"year\": 2010, \"stat\": \"reb_home\", \"reb_value\": 41.939245810055866, \"team_type\": \"Home\"}, {\"year\": 2011, \"stat\": \"reb_home\", \"reb_value\": 42.86877828054298, \"team_type\": \"Home\"}, {\"year\": 2012, \"stat\": \"reb_home\", \"reb_value\": 43.04433497536946, \"team_type\": \"Home\"}, {\"year\": 2013, \"stat\": \"reb_home\", \"reb_value\": 43.27317073170732, \"team_type\": \"Home\"}, {\"year\": 2014, \"stat\": \"reb_home\", \"reb_value\": 43.91125087351502, \"team_type\": \"Home\"}, {\"year\": 2015, \"stat\": \"reb_home\", \"reb_value\": 44.377715487035736, \"team_type\": \"Home\"}, {\"year\": 2016, \"stat\": \"reb_home\", \"reb_value\": 44.054532577903686, \"team_type\": \"Home\"}, {\"year\": 2017, \"stat\": \"reb_home\", \"reb_value\": 44.16235632183908, \"team_type\": \"Home\"}, {\"year\": 2018, \"stat\": \"reb_home\", \"reb_value\": 45.852359208523595, \"team_type\": \"Home\"}, {\"year\": 2019, \"stat\": \"reb_home\", \"reb_value\": 45.38932633420822, \"team_type\": \"Home\"}, {\"year\": 2020, \"stat\": \"reb_home\", \"reb_value\": 44.76315789473684, \"team_type\": \"Home\"}, {\"year\": 2021, \"stat\": \"reb_home\", \"reb_value\": 44.725433526011564, \"team_type\": \"Home\"}, {\"year\": 2022, \"stat\": \"reb_home\", \"reb_value\": 44.06132756132756, \"team_type\": \"Home\"}, {\"year\": 1946, \"stat\": \"reb_away\", \"reb_value\": null, \"team_type\": \"Away\"}, {\"year\": 1947, \"stat\": \"reb_away\", \"reb_value\": null, \"team_type\": \"Away\"}, {\"year\": 1948, \"stat\": \"reb_away\", \"reb_value\": null, \"team_type\": \"Away\"}, {\"year\": 1949, \"stat\": \"reb_away\", \"reb_value\": null, \"team_type\": \"Away\"}, {\"year\": 1950, \"stat\": \"reb_away\", \"reb_value\": 47.55555555555556, \"team_type\": \"Away\"}, {\"year\": 1951, \"stat\": \"reb_away\", \"reb_value\": 55.0, \"team_type\": \"Away\"}, {\"year\": 1952, \"stat\": \"reb_away\", \"reb_value\": 59.0, \"team_type\": \"Away\"}, {\"year\": 1953, \"stat\": \"reb_away\", \"reb_value\": 8.727272727272727, \"team_type\": \"Away\"}, {\"year\": 1954, \"stat\": \"reb_away\", \"reb_value\": 33.333333333333336, \"team_type\": \"Away\"}, {\"year\": 1955, \"stat\": \"reb_away\", \"reb_value\": 79.0, \"team_type\": \"Away\"}, {\"year\": 1956, \"stat\": \"reb_away\", \"reb_value\": 57.833333333333336, \"team_type\": \"Away\"}, {\"year\": 1957, \"stat\": \"reb_away\", \"reb_value\": 68.66666666666667, \"team_type\": \"Away\"}, {\"year\": 1958, \"stat\": \"reb_away\", \"reb_value\": 57.42857142857143, \"team_type\": \"Away\"}, {\"year\": 1959, \"stat\": \"reb_away\", \"reb_value\": 56.97959183673469, \"team_type\": \"Away\"}, {\"year\": 1960, \"stat\": \"reb_away\", \"reb_value\": 55.0, \"team_type\": \"Away\"}, {\"year\": 1961, \"stat\": \"reb_away\", \"reb_value\": 71.0, \"team_type\": \"Away\"}, {\"year\": 1962, \"stat\": \"reb_away\", \"reb_value\": 56.1, \"team_type\": \"Away\"}, {\"year\": 1963, \"stat\": \"reb_away\", \"reb_value\": 54.904761904761905, \"team_type\": \"Away\"}, {\"year\": 1964, \"stat\": \"reb_away\", \"reb_value\": 49.0, \"team_type\": \"Away\"}, {\"year\": 1965, \"stat\": \"reb_away\", \"reb_value\": 57.2, \"team_type\": \"Away\"}, {\"year\": 1966, \"stat\": \"reb_away\", \"reb_value\": 56.0, \"team_type\": \"Away\"}, {\"year\": 1967, \"stat\": \"reb_away\", \"reb_value\": 61.0, \"team_type\": \"Away\"}, {\"year\": 1968, \"stat\": \"reb_away\", \"reb_value\": 58.0, \"team_type\": \"Away\"}, {\"year\": 1969, \"stat\": \"reb_away\", \"reb_value\": 51.0, \"team_type\": \"Away\"}, {\"year\": 1970, \"stat\": \"reb_away\", \"reb_value\": 51.0, \"team_type\": \"Away\"}, {\"year\": 1971, \"stat\": \"reb_away\", \"reb_value\": 50.42857142857143, \"team_type\": \"Away\"}, {\"year\": 1972, \"stat\": \"reb_away\", \"reb_value\": 50.5, \"team_type\": \"Away\"}, {\"year\": 1973, \"stat\": \"reb_away\", \"reb_value\": 44.25, \"team_type\": \"Away\"}, {\"year\": 1974, \"stat\": \"reb_away\", \"reb_value\": 47.5, \"team_type\": \"Away\"}, {\"year\": 1975, \"stat\": \"reb_away\", \"reb_value\": 49.714285714285715, \"team_type\": \"Away\"}, {\"year\": 1976, \"stat\": \"reb_away\", \"reb_value\": 48.875, \"team_type\": \"Away\"}, {\"year\": 1977, \"stat\": \"reb_away\", \"reb_value\": 44.55555555555556, \"team_type\": \"Away\"}, {\"year\": 1978, \"stat\": \"reb_away\", \"reb_value\": 44.5, \"team_type\": \"Away\"}, {\"year\": 1979, \"stat\": \"reb_away\", \"reb_value\": 47.875, \"team_type\": \"Away\"}, {\"year\": 1980, \"stat\": \"reb_away\", \"reb_value\": 42.42857142857143, \"team_type\": \"Away\"}, {\"year\": 1981, \"stat\": \"reb_away\", \"reb_value\": 42.18103448275862, \"team_type\": \"Away\"}, {\"year\": 1982, \"stat\": \"reb_away\", \"reb_value\": 43.481827622014535, \"team_type\": \"Away\"}, {\"year\": 1983, \"stat\": \"reb_away\", \"reb_value\": 41.821251241310826, \"team_type\": \"Away\"}, {\"year\": 1984, \"stat\": \"reb_away\", \"reb_value\": 48.34061569016882, \"team_type\": \"Away\"}, {\"year\": 1985, \"stat\": \"reb_away\", \"reb_value\": 42.391905231984204, \"team_type\": \"Away\"}, {\"year\": 1986, \"stat\": \"reb_away\", \"reb_value\": 42.44881889763779, \"team_type\": \"Away\"}, {\"year\": 1987, \"stat\": \"reb_away\", \"reb_value\": 42.12682926829268, \"team_type\": \"Away\"}, {\"year\": 1988, \"stat\": \"reb_away\", \"reb_value\": 42.717171717171716, \"team_type\": \"Away\"}, {\"year\": 1989, \"stat\": \"reb_away\", \"reb_value\": 42.03048264182896, \"team_type\": \"Away\"}, {\"year\": 1990, \"stat\": \"reb_away\", \"reb_value\": 42.07221750212405, \"team_type\": \"Away\"}, {\"year\": 1991, \"stat\": \"reb_away\", \"reb_value\": 42.287648054145514, \"team_type\": \"Away\"}, {\"year\": 1992, \"stat\": \"reb_away\", \"reb_value\": 42.01350210970464, \"team_type\": \"Away\"}, {\"year\": 1993, \"stat\": \"reb_away\", \"reb_value\": 42.088447653429604, \"team_type\": \"Away\"}, {\"year\": 1994, \"stat\": \"reb_away\", \"reb_value\": 40.51269035532995, \"team_type\": \"Away\"}, {\"year\": 1995, \"stat\": \"reb_away\", \"reb_value\": 40.27623845507976, \"team_type\": \"Away\"}, {\"year\": 1996, \"stat\": \"reb_away\", \"reb_value\": 40.24703087885986, \"team_type\": \"Away\"}, {\"year\": 1997, \"stat\": \"reb_away\", \"reb_value\": 40.409199048374305, \"team_type\": \"Away\"}, {\"year\": 1998, \"stat\": \"reb_away\", \"reb_value\": 40.714285714285715, \"team_type\": \"Away\"}, {\"year\": 1999, \"stat\": \"reb_away\", \"reb_value\": 42.05625524769101, \"team_type\": \"Away\"}, {\"year\": 2000, \"stat\": \"reb_away\", \"reb_value\": 41.766851704996036, \"team_type\": \"Away\"}, {\"year\": 2001, \"stat\": \"reb_away\", \"reb_value\": 41.58858102434929, \"team_type\": \"Away\"}, {\"year\": 2002, \"stat\": \"reb_away\", \"reb_value\": 41.58483189992182, \"team_type\": \"Away\"}, {\"year\": 2003, \"stat\": \"reb_away\", \"reb_value\": 41.25530243519246, \"team_type\": \"Away\"}, {\"year\": 2004, \"stat\": \"reb_away\", \"reb_value\": 41.06003039513678, \"team_type\": \"Away\"}, {\"year\": 2005, \"stat\": \"reb_away\", \"reb_value\": 40.049143708116155, \"team_type\": \"Away\"}, {\"year\": 2006, \"stat\": \"reb_away\", \"reb_value\": 40.40670859538784, \"team_type\": \"Away\"}, {\"year\": 2007, \"stat\": \"reb_away\", \"reb_value\": 41.168539325842694, \"team_type\": \"Away\"}, {\"year\": 2008, \"stat\": \"reb_away\", \"reb_value\": 40.50595655220743, \"team_type\": \"Away\"}, {\"year\": 2009, \"stat\": \"reb_away\", \"reb_value\": 41.02304469273743, \"team_type\": \"Away\"}, {\"year\": 2010, \"stat\": \"reb_away\", \"reb_value\": 40.85824022346369, \"team_type\": \"Away\"}, {\"year\": 2011, \"stat\": \"reb_away\", \"reb_value\": 41.425339366515836, \"team_type\": \"Away\"}, {\"year\": 2012, \"stat\": \"reb_away\", \"reb_value\": 41.58620689655172, \"team_type\": \"Away\"}, {\"year\": 2013, \"stat\": \"reb_away\", \"reb_value\": 42.1184668989547, \"team_type\": \"Away\"}, {\"year\": 2014, \"stat\": \"reb_away\", \"reb_value\": 42.78266946191474, \"team_type\": \"Away\"}, {\"year\": 2015, \"stat\": \"reb_away\", \"reb_value\": 43.294323756131746, \"team_type\": \"Away\"}, {\"year\": 2016, \"stat\": \"reb_away\", \"reb_value\": 42.95963172804532, \"team_type\": \"Away\"}, {\"year\": 2017, \"stat\": \"reb_away\", \"reb_value\": 42.86997126436781, \"team_type\": \"Away\"}, {\"year\": 2018, \"stat\": \"reb_away\", \"reb_value\": 44.5220700152207, \"team_type\": \"Away\"}, {\"year\": 2019, \"stat\": \"reb_away\", \"reb_value\": 44.05074365704287, \"team_type\": \"Away\"}, {\"year\": 2020, \"stat\": \"reb_away\", \"reb_value\": 43.921052631578945, \"team_type\": \"Away\"}, {\"year\": 2021, \"stat\": \"reb_away\", \"reb_value\": 44.11199421965318, \"team_type\": \"Away\"}, {\"year\": 2022, \"stat\": \"reb_away\", \"reb_value\": 43.052669552669556, \"team_type\": \"Away\"}], \"data-a33329529c6c791342ffee6c14c9a9f5\": [{\"year\": 1946, \"stat\": \"oreb_home\", \"oreb_value\": null, \"team_type\": \"Home\"}, {\"year\": 1947, \"stat\": \"oreb_home\", \"oreb_value\": null, \"team_type\": \"Home\"}, {\"year\": 1948, \"stat\": \"oreb_home\", \"oreb_value\": null, \"team_type\": \"Home\"}, {\"year\": 1949, \"stat\": \"oreb_home\", \"oreb_value\": null, \"team_type\": \"Home\"}, {\"year\": 1950, \"stat\": \"oreb_home\", \"oreb_value\": null, \"team_type\": \"Home\"}, {\"year\": 1951, \"stat\": \"oreb_home\", \"oreb_value\": null, \"team_type\": \"Home\"}, {\"year\": 1952, \"stat\": \"oreb_home\", \"oreb_value\": null, \"team_type\": \"Home\"}, {\"year\": 1953, \"stat\": \"oreb_home\", \"oreb_value\": null, \"team_type\": \"Home\"}, {\"year\": 1954, \"stat\": \"oreb_home\", \"oreb_value\": null, \"team_type\": \"Home\"}, {\"year\": 1955, \"stat\": \"oreb_home\", \"oreb_value\": null, \"team_type\": \"Home\"}, {\"year\": 1956, \"stat\": \"oreb_home\", \"oreb_value\": null, \"team_type\": \"Home\"}, {\"year\": 1957, \"stat\": \"oreb_home\", \"oreb_value\": null, \"team_type\": \"Home\"}, {\"year\": 1958, \"stat\": \"oreb_home\", \"oreb_value\": null, \"team_type\": \"Home\"}, {\"year\": 1959, \"stat\": \"oreb_home\", \"oreb_value\": null, \"team_type\": \"Home\"}, {\"year\": 1960, \"stat\": \"oreb_home\", \"oreb_value\": null, \"team_type\": \"Home\"}, {\"year\": 1961, \"stat\": \"oreb_home\", \"oreb_value\": null, \"team_type\": \"Home\"}, {\"year\": 1962, \"stat\": \"oreb_home\", \"oreb_value\": null, \"team_type\": \"Home\"}, {\"year\": 1963, \"stat\": \"oreb_home\", \"oreb_value\": null, \"team_type\": \"Home\"}, {\"year\": 1964, \"stat\": \"oreb_home\", \"oreb_value\": null, \"team_type\": \"Home\"}, {\"year\": 1965, \"stat\": \"oreb_home\", \"oreb_value\": null, \"team_type\": \"Home\"}, {\"year\": 1966, \"stat\": \"oreb_home\", \"oreb_value\": null, \"team_type\": \"Home\"}, {\"year\": 1967, \"stat\": \"oreb_home\", \"oreb_value\": null, \"team_type\": \"Home\"}, {\"year\": 1968, \"stat\": \"oreb_home\", \"oreb_value\": null, \"team_type\": \"Home\"}, {\"year\": 1969, \"stat\": \"oreb_home\", \"oreb_value\": null, \"team_type\": \"Home\"}, {\"year\": 1970, \"stat\": \"oreb_home\", \"oreb_value\": null, \"team_type\": \"Home\"}, {\"year\": 1971, \"stat\": \"oreb_home\", \"oreb_value\": null, \"team_type\": \"Home\"}, {\"year\": 1972, \"stat\": \"oreb_home\", \"oreb_value\": null, \"team_type\": \"Home\"}, {\"year\": 1973, \"stat\": \"oreb_home\", \"oreb_value\": 13.5, \"team_type\": \"Home\"}, {\"year\": 1974, \"stat\": \"oreb_home\", \"oreb_value\": 16.333333333333332, \"team_type\": \"Home\"}, {\"year\": 1975, \"stat\": \"oreb_home\", \"oreb_value\": 14.0, \"team_type\": \"Home\"}, {\"year\": 1976, \"stat\": \"oreb_home\", \"oreb_value\": 13.0, \"team_type\": \"Home\"}, {\"year\": 1977, \"stat\": \"oreb_home\", \"oreb_value\": 22.77777777777778, \"team_type\": \"Home\"}, {\"year\": 1978, \"stat\": \"oreb_home\", \"oreb_value\": 15.166666666666666, \"team_type\": \"Home\"}, {\"year\": 1979, \"stat\": \"oreb_home\", \"oreb_value\": 16.625, \"team_type\": \"Home\"}, {\"year\": 1980, \"stat\": \"oreb_home\", \"oreb_value\": 20.428571428571427, \"team_type\": \"Home\"}, {\"year\": 1981, \"stat\": \"oreb_home\", \"oreb_value\": 15.545454545454545, \"team_type\": \"Home\"}, {\"year\": 1982, \"stat\": \"oreb_home\", \"oreb_value\": 16.444444444444443, \"team_type\": \"Home\"}, {\"year\": 1983, \"stat\": \"oreb_home\", \"oreb_value\": 16.151515151515152, \"team_type\": \"Home\"}, {\"year\": 1984, \"stat\": \"oreb_home\", \"oreb_value\": 15.205128205128204, \"team_type\": \"Home\"}, {\"year\": 1985, \"stat\": \"oreb_home\", \"oreb_value\": 14.369200394866732, \"team_type\": \"Home\"}, {\"year\": 1986, \"stat\": \"oreb_home\", \"oreb_value\": 15.118110236220472, \"team_type\": \"Home\"}, {\"year\": 1987, \"stat\": \"oreb_home\", \"oreb_value\": 14.4, \"team_type\": \"Home\"}, {\"year\": 1988, \"stat\": \"oreb_home\", \"oreb_value\": 14.738292011019285, \"team_type\": \"Home\"}, {\"year\": 1989, \"stat\": \"oreb_home\", \"oreb_value\": 13.939034716342084, \"team_type\": \"Home\"}, {\"year\": 1990, \"stat\": \"oreb_home\", \"oreb_value\": 14.197111299915038, \"team_type\": \"Home\"}, {\"year\": 1991, \"stat\": \"oreb_home\", \"oreb_value\": 14.643824027072759, \"team_type\": \"Home\"}, {\"year\": 1992, \"stat\": \"oreb_home\", \"oreb_value\": 14.121518987341773, \"team_type\": \"Home\"}, {\"year\": 1993, \"stat\": \"oreb_home\", \"oreb_value\": 14.204873646209386, \"team_type\": \"Home\"}, {\"year\": 1994, \"stat\": \"oreb_home\", \"oreb_value\": 13.298646362098138, \"team_type\": \"Home\"}, {\"year\": 1995, \"stat\": \"oreb_home\", \"oreb_value\": 13.05037783375315, \"team_type\": \"Home\"}, {\"year\": 1996, \"stat\": \"oreb_home\", \"oreb_value\": 13.025336500395882, \"team_type\": \"Home\"}, {\"year\": 1997, \"stat\": \"oreb_home\", \"oreb_value\": 13.337034099920698, \"team_type\": \"Home\"}, {\"year\": 1998, \"stat\": \"oreb_home\", \"oreb_value\": 12.706700379266751, \"team_type\": \"Home\"}, {\"year\": 1999, \"stat\": \"oreb_home\", \"oreb_value\": 12.665827036104114, \"team_type\": \"Home\"}, {\"year\": 2000, \"stat\": \"oreb_home\", \"oreb_value\": 12.23076923076923, \"team_type\": \"Home\"}, {\"year\": 2001, \"stat\": \"oreb_home\", \"oreb_value\": 12.451721242653232, \"team_type\": \"Home\"}, {\"year\": 2002, \"stat\": \"oreb_home\", \"oreb_value\": 12.136825645035184, \"team_type\": \"Home\"}, {\"year\": 2003, \"stat\": \"oreb_home\", \"oreb_value\": 12.374705420267086, \"team_type\": \"Home\"}, {\"year\": 2004, \"stat\": \"oreb_home\", \"oreb_value\": 12.233282674772036, \"team_type\": \"Home\"}, {\"year\": 2005, \"stat\": \"oreb_home\", \"oreb_value\": 11.571109456440805, \"team_type\": \"Home\"}, {\"year\": 2006, \"stat\": \"oreb_home\", \"oreb_value\": 11.329140461215934, \"team_type\": \"Home\"}, {\"year\": 2007, \"stat\": \"oreb_home\", \"oreb_value\": 11.438202247191011, \"team_type\": \"Home\"}, {\"year\": 2008, \"stat\": \"oreb_home\", \"oreb_value\": 11.121233356692361, \"team_type\": \"Home\"}, {\"year\": 2009, \"stat\": \"oreb_home\", \"oreb_value\": 11.14804469273743, \"team_type\": \"Home\"}, {\"year\": 2010, \"stat\": \"oreb_home\", \"oreb_value\": 11.03491620111732, \"team_type\": \"Home\"}, {\"year\": 2011, \"stat\": \"oreb_home\", \"oreb_value\": 11.500452488687783, \"team_type\": \"Home\"}, {\"year\": 2012, \"stat\": \"oreb_home\", \"oreb_value\": 11.216748768472906, \"team_type\": \"Home\"}, {\"year\": 2013, \"stat\": \"oreb_home\", \"oreb_value\": 10.920557491289198, \"team_type\": \"Home\"}, {\"year\": 2014, \"stat\": \"oreb_home\", \"oreb_value\": 11.0104821802935, \"team_type\": \"Home\"}, {\"year\": 2015, \"stat\": \"oreb_home\", \"oreb_value\": 10.557112824106516, \"team_type\": \"Home\"}, {\"year\": 2016, \"stat\": \"oreb_home\", \"oreb_value\": 10.145184135977336, \"team_type\": \"Home\"}, {\"year\": 2017, \"stat\": \"oreb_home\", \"oreb_value\": 9.780172413793103, \"team_type\": \"Home\"}, {\"year\": 2018, \"stat\": \"oreb_home\", \"oreb_value\": 10.508371385083715, \"team_type\": \"Home\"}, {\"year\": 2019, \"stat\": \"oreb_home\", \"oreb_value\": 10.179352580927384, \"team_type\": \"Home\"}, {\"year\": 2020, \"stat\": \"oreb_home\", \"oreb_value\": 9.896381578947368, \"team_type\": \"Home\"}, {\"year\": 2021, \"stat\": \"oreb_home\", \"oreb_value\": 10.309248554913294, \"team_type\": \"Home\"}, {\"year\": 2022, \"stat\": \"oreb_home\", \"oreb_value\": 10.485569985569986, \"team_type\": \"Home\"}, {\"year\": 1946, \"stat\": \"oreb_away\", \"oreb_value\": null, \"team_type\": \"Away\"}, {\"year\": 1947, \"stat\": \"oreb_away\", \"oreb_value\": null, \"team_type\": \"Away\"}, {\"year\": 1948, \"stat\": \"oreb_away\", \"oreb_value\": null, \"team_type\": \"Away\"}, {\"year\": 1949, \"stat\": \"oreb_away\", \"oreb_value\": null, \"team_type\": \"Away\"}, {\"year\": 1950, \"stat\": \"oreb_away\", \"oreb_value\": null, \"team_type\": \"Away\"}, {\"year\": 1951, \"stat\": \"oreb_away\", \"oreb_value\": null, \"team_type\": \"Away\"}, {\"year\": 1952, \"stat\": \"oreb_away\", \"oreb_value\": null, \"team_type\": \"Away\"}, {\"year\": 1953, \"stat\": \"oreb_away\", \"oreb_value\": null, \"team_type\": \"Away\"}, {\"year\": 1954, \"stat\": \"oreb_away\", \"oreb_value\": null, \"team_type\": \"Away\"}, {\"year\": 1955, \"stat\": \"oreb_away\", \"oreb_value\": null, \"team_type\": \"Away\"}, {\"year\": 1956, \"stat\": \"oreb_away\", \"oreb_value\": null, \"team_type\": \"Away\"}, {\"year\": 1957, \"stat\": \"oreb_away\", \"oreb_value\": null, \"team_type\": \"Away\"}, {\"year\": 1958, \"stat\": \"oreb_away\", \"oreb_value\": null, \"team_type\": \"Away\"}, {\"year\": 1959, \"stat\": \"oreb_away\", \"oreb_value\": null, \"team_type\": \"Away\"}, {\"year\": 1960, \"stat\": \"oreb_away\", \"oreb_value\": null, \"team_type\": \"Away\"}, {\"year\": 1961, \"stat\": \"oreb_away\", \"oreb_value\": null, \"team_type\": \"Away\"}, {\"year\": 1962, \"stat\": \"oreb_away\", \"oreb_value\": null, \"team_type\": \"Away\"}, {\"year\": 1963, \"stat\": \"oreb_away\", \"oreb_value\": null, \"team_type\": \"Away\"}, {\"year\": 1964, \"stat\": \"oreb_away\", \"oreb_value\": null, \"team_type\": \"Away\"}, {\"year\": 1965, \"stat\": \"oreb_away\", \"oreb_value\": null, \"team_type\": \"Away\"}, {\"year\": 1966, \"stat\": \"oreb_away\", \"oreb_value\": null, \"team_type\": \"Away\"}, {\"year\": 1967, \"stat\": \"oreb_away\", \"oreb_value\": null, \"team_type\": \"Away\"}, {\"year\": 1968, \"stat\": \"oreb_away\", \"oreb_value\": null, \"team_type\": \"Away\"}, {\"year\": 1969, \"stat\": \"oreb_away\", \"oreb_value\": null, \"team_type\": \"Away\"}, {\"year\": 1970, \"stat\": \"oreb_away\", \"oreb_value\": null, \"team_type\": \"Away\"}, {\"year\": 1971, \"stat\": \"oreb_away\", \"oreb_value\": null, \"team_type\": \"Away\"}, {\"year\": 1972, \"stat\": \"oreb_away\", \"oreb_value\": null, \"team_type\": \"Away\"}, {\"year\": 1973, \"stat\": \"oreb_away\", \"oreb_value\": 12.5, \"team_type\": \"Away\"}, {\"year\": 1974, \"stat\": \"oreb_away\", \"oreb_value\": 13.833333333333334, \"team_type\": \"Away\"}, {\"year\": 1975, \"stat\": \"oreb_away\", \"oreb_value\": 15.571428571428571, \"team_type\": \"Away\"}, {\"year\": 1976, \"stat\": \"oreb_away\", \"oreb_value\": 15.0, \"team_type\": \"Away\"}, {\"year\": 1977, \"stat\": \"oreb_away\", \"oreb_value\": 14.555555555555555, \"team_type\": \"Away\"}, {\"year\": 1978, \"stat\": \"oreb_away\", \"oreb_value\": 15.666666666666666, \"team_type\": \"Away\"}, {\"year\": 1979, \"stat\": \"oreb_away\", \"oreb_value\": 17.125, \"team_type\": \"Away\"}, {\"year\": 1980, \"stat\": \"oreb_away\", \"oreb_value\": 15.142857142857142, \"team_type\": \"Away\"}, {\"year\": 1981, \"stat\": \"oreb_away\", \"oreb_value\": 13.840909090909092, \"team_type\": \"Away\"}, {\"year\": 1982, \"stat\": \"oreb_away\", \"oreb_value\": 16.055555555555557, \"team_type\": \"Away\"}, {\"year\": 1983, \"stat\": \"oreb_away\", \"oreb_value\": 13.242424242424242, \"team_type\": \"Away\"}, {\"year\": 1984, \"stat\": \"oreb_away\", \"oreb_value\": 14.423076923076923, \"team_type\": \"Away\"}, {\"year\": 1985, \"stat\": \"oreb_away\", \"oreb_value\": 13.955577492596248, \"team_type\": \"Away\"}, {\"year\": 1986, \"stat\": \"oreb_away\", \"oreb_value\": 14.213582677165354, \"team_type\": \"Away\"}, {\"year\": 1987, \"stat\": \"oreb_away\", \"oreb_value\": 14.0, \"team_type\": \"Away\"}, {\"year\": 1988, \"stat\": \"oreb_away\", \"oreb_value\": 14.21028466483012, \"team_type\": \"Away\"}, {\"year\": 1989, \"stat\": \"oreb_away\", \"oreb_value\": 13.682472480948348, \"team_type\": \"Away\"}, {\"year\": 1990, \"stat\": \"oreb_away\", \"oreb_value\": 13.617672047578589, \"team_type\": \"Away\"}, {\"year\": 1991, \"stat\": \"oreb_away\", \"oreb_value\": 13.942470389170897, \"team_type\": \"Away\"}, {\"year\": 1992, \"stat\": \"oreb_away\", \"oreb_value\": 13.445569620253165, \"team_type\": \"Away\"}, {\"year\": 1993, \"stat\": \"oreb_away\", \"oreb_value\": 13.53158844765343, \"team_type\": \"Away\"}, {\"year\": 1994, \"stat\": \"oreb_away\", \"oreb_value\": 12.681049069373943, \"team_type\": \"Away\"}, {\"year\": 1995, \"stat\": \"oreb_away\", \"oreb_value\": 12.212426532325777, \"team_type\": \"Away\"}, {\"year\": 1996, \"stat\": \"oreb_away\", \"oreb_value\": 12.22406967537609, \"team_type\": \"Away\"}, {\"year\": 1997, \"stat\": \"oreb_away\", \"oreb_value\": 12.581284694686756, \"team_type\": \"Away\"}, {\"year\": 1998, \"stat\": \"oreb_away\", \"oreb_value\": 12.266750948166877, \"team_type\": \"Away\"}, {\"year\": 1999, \"stat\": \"oreb_away\", \"oreb_value\": 12.193954659949622, \"team_type\": \"Away\"}, {\"year\": 2000, \"stat\": \"oreb_away\", \"oreb_value\": 11.8406026962728, \"team_type\": \"Away\"}, {\"year\": 2001, \"stat\": \"oreb_away\", \"oreb_value\": 12.04701931150294, \"team_type\": \"Away\"}, {\"year\": 2002, \"stat\": \"oreb_away\", \"oreb_value\": 11.956215793588742, \"team_type\": \"Away\"}, {\"year\": 2003, \"stat\": \"oreb_away\", \"oreb_value\": 11.736842105263158, \"team_type\": \"Away\"}, {\"year\": 2004, \"stat\": \"oreb_away\", \"oreb_value\": 11.784954407294833, \"team_type\": \"Away\"}, {\"year\": 2005, \"stat\": \"oreb_away\", \"oreb_value\": 10.856291883842145, \"team_type\": \"Away\"}, {\"year\": 2006, \"stat\": \"oreb_away\", \"oreb_value\": 10.974842767295597, \"team_type\": \"Away\"}, {\"year\": 2007, \"stat\": \"oreb_away\", \"oreb_value\": 11.007022471910112, \"team_type\": \"Away\"}, {\"year\": 2008, \"stat\": \"oreb_away\", \"oreb_value\": 10.793272599859845, \"team_type\": \"Away\"}, {\"year\": 2009, \"stat\": \"oreb_away\", \"oreb_value\": 10.686452513966481, \"team_type\": \"Away\"}, {\"year\": 2010, \"stat\": \"oreb_away\", \"oreb_value\": 10.817039106145252, \"team_type\": \"Away\"}, {\"year\": 2011, \"stat\": \"oreb_away\", \"oreb_value\": 11.134841628959276, \"team_type\": \"Away\"}, {\"year\": 2012, \"stat\": \"oreb_away\", \"oreb_value\": 10.89655172413793, \"team_type\": \"Away\"}, {\"year\": 2013, \"stat\": \"oreb_away\", \"oreb_value\": 10.815331010452962, \"team_type\": \"Away\"}, {\"year\": 2014, \"stat\": \"oreb_away\", \"oreb_value\": 10.705800139762404, \"team_type\": \"Away\"}, {\"year\": 2015, \"stat\": \"oreb_away\", \"oreb_value\": 10.32095304835319, \"team_type\": \"Away\"}, {\"year\": 2016, \"stat\": \"oreb_away\", \"oreb_value\": 10.075070821529746, \"team_type\": \"Away\"}, {\"year\": 2017, \"stat\": \"oreb_away\", \"oreb_value\": 9.535201149425287, \"team_type\": \"Away\"}, {\"year\": 2018, \"stat\": \"oreb_away\", \"oreb_value\": 10.199391171993911, \"team_type\": \"Away\"}, {\"year\": 2019, \"stat\": \"oreb_away\", \"oreb_value\": 9.794400699912511, \"team_type\": \"Away\"}, {\"year\": 2020, \"stat\": \"oreb_away\", \"oreb_value\": 9.742598684210526, \"team_type\": \"Away\"}, {\"year\": 2021, \"stat\": \"oreb_away\", \"oreb_value\": 10.236994219653178, \"team_type\": \"Away\"}, {\"year\": 2022, \"stat\": \"oreb_away\", \"oreb_value\": 10.41991341991342, \"team_type\": \"Away\"}]}}, {\"mode\": \"vega-lite\"});\n",
       "</script>"
      ],
      "text/plain": [
       "alt.HConcatChart(...)"
      ]
     },
     "execution_count": 11,
     "metadata": {},
     "output_type": "execute_result"
    }
   ],
   "source": [
    "import pandas as pd\n",
    "import altair as alt\n",
    "\n",
    "\n",
    "# Sample code to prepare the game_data_filtered if you've not already:\n",
    "game_data_filtered = pd.read_csv('Datasets/NBA Database Datasets/game.csv')\n",
    "\n",
    "\n",
    "# use season year and not game date, season_id is the year of the season. It also has an extra digit in the front we need to remove \n",
    "game_data_filtered['year'] = game_data_filtered['season_id'].astype(str).apply(lambda x: int(x[1:5]))\n",
    "\n",
    "# Group by stats for home and away teams combined\n",
    "tov_data = game_data_filtered.groupby('year').agg({\n",
    "    'tov_home': 'mean',\n",
    "    'tov_away': 'mean'\n",
    "}).reset_index().melt('year', var_name='stat', value_name='tov_value')\n",
    "\n",
    "fg_pct_data = game_data_filtered.groupby('year').agg({\n",
    "    'fg_pct_home': 'mean',\n",
    "    'fg_pct_away': 'mean'\n",
    "}).reset_index().melt('year', var_name='stat', value_name='fg_pct_value')\n",
    "\n",
    "reb_home_data = game_data_filtered.groupby('year').agg({\n",
    "    'reb_home': 'mean',\n",
    "    'reb_away': 'mean'\n",
    "}).reset_index().melt('year', var_name='stat', value_name='reb_value')\n",
    "\n",
    "oreb_data = game_data_filtered.groupby('year').agg({\n",
    "    'oreb_home': 'mean',\n",
    "    'oreb_away': 'mean'\n",
    "}).reset_index().melt('year', var_name='stat', value_name='oreb_value')\n",
    "\n",
    "\n",
    "# Create a slider for year selection\n",
    "# slider = alt.binding_range(min=1990, max=tov_data['year'].max(), step=1, name='Year:')\n",
    "# slider_selection = alt.selection_point(bind=slider, fields=['year'], name='Selector')\n",
    "\n",
    "# Create a 'team_type' column for coloring the bars\n",
    "tov_data['team_type'] = tov_data['stat'].apply(lambda x: 'Home' if 'home' in x else 'Away')\n",
    "fg_pct_data['team_type'] = fg_pct_data['stat'].apply(lambda x: 'Home' if 'home' in x else 'Away')\n",
    "reb_home_data['team_type'] = reb_home_data['stat'].apply(lambda x: 'Home' if 'home' in x else 'Away')\n",
    "oreb_data['team_type'] = oreb_data['stat'].apply(lambda x: 'Home' if 'home' in x else 'Away')\n",
    "\n",
    "# Create the charts with color encoding\n",
    "def create_chart(data, x_title, y_title, tooltip_fields):\n",
    "    return alt.Chart(data).mark_bar().encode(\n",
    "        x=alt.X('stat:N', axis=alt.Axis(title=x_title)),\n",
    "        y=alt.Y(f'{y_title}:Q', axis=alt.Axis(title='Value')),\n",
    "        color=alt.Color('team_type:N', scale=alt.Scale(domain=['Home', 'Away'], range=['blue', 'red'])),\n",
    "        tooltip=tooltip_fields\n",
    "    ).properties(\n",
    "        width=200\n",
    "    )\n",
    "# Creating each chart\n",
    "tov_Chart = create_chart(tov_data, 'Turnovers', 'tov_value', ['year', 'stat', 'tov_value'])\n",
    "fg_pct_Chart = create_chart(fg_pct_data, 'Field Goal Percentage', 'fg_pct_value', ['year', 'stat', 'fg_pct_value'])\n",
    "reb_Chart = create_chart(reb_home_data, 'Rebounds', 'reb_value', ['year', 'stat', 'reb_value'])\n",
    "oreb_Chart = create_chart(oreb_data, 'Offesive Rebounds', 'oreb_value', ['year', 'stat', 'oreb_value'])\n",
    "\n",
    "# Combine the charts\n",
    "combined_charts_stats = alt.hconcat(tov_Chart, fg_pct_Chart, reb_Chart, oreb_Chart).resolve_scale(y='independent').properties(title='Average Game Statistics per Year')\n",
    "\n",
    "# Display the chart\n",
    "combined_charts_stats\n",
    "\n"
   ]
  },
  {
   "cell_type": "markdown",
   "metadata": {},
   "source": [
    "# Model\n",
    "Only the machine learning single nuetral net"
   ]
  },
  {
   "cell_type": "code",
   "execution_count": 12,
   "metadata": {},
   "outputs": [],
   "source": [
    "import pandas as pd\n",
    "from sklearn.linear_model import LogisticRegression\n",
    "import matplotlib.pyplot as plt\n",
    "from sklearn.model_selection import train_test_split, cross_val_score\n",
    "from sklearn import preprocessing \n",
    "from sklearn.metrics import classification_report\n",
    "import plotly.express as px\n",
    "\n",
    "data = pd.read_csv('nbaHomeWinLossModelDataset.csv').drop(['Unnamed: 0'],axis=1)\n",
    "data = data.dropna()\n",
    "\n",
    "data_new = pd.read_csv('gameLogs.csv')"
   ]
  },
  {
   "cell_type": "code",
   "execution_count": 13,
   "metadata": {},
   "outputs": [
    {
     "data": {
      "text/plain": [
       "0.6226158038147139"
      ]
     },
     "execution_count": 13,
     "metadata": {},
     "output_type": "execute_result"
    }
   ],
   "source": [
    "validation = data[data['SEASON'] == '2022-23']\n",
    "modelData = data[data['SEASON'] != '2022-23'].sample(frac=1)\n",
    "\n",
    "X = modelData.drop(['HOME_W','SEASON'],axis=1)\n",
    "y = modelData['HOME_W']\n",
    "\n",
    "# Splitting the data into training and testing sets\n",
    "# training set is 67% of the data and testing set is 33% of the data\n",
    "# X_train is the training data set\n",
    "# X_test is the testing data set \n",
    "# y_train is the set of labels to all the data in X_train\n",
    "# y_test is the set of labels to all the data in X_test\n",
    "\n",
    "X_train, X_test, y_train, y_test = train_test_split(X,y,test_size=.33)\n",
    "\n",
    "# Standard Scaling Prediction Variables\n",
    "scaler = preprocessing.StandardScaler()\n",
    "scaler.fit(X_train)\n",
    "scaled_data_train = scaler.transform(X_train)\n",
    "\n",
    "scaler.fit(X_test)\n",
    "scaled_data_test = scaler.transform(X_test)\n",
    "\n",
    "#Logistic Regression\n",
    "model = LogisticRegression()\n",
    "model.fit(scaled_data_train,y_train)\n",
    "model.score(scaled_data_test,y_test)\n",
    "\n"
   ]
  },
  {
   "cell_type": "code",
   "execution_count": 14,
   "metadata": {},
   "outputs": [
    {
     "name": "stdout",
     "output_type": "stream",
     "text": [
      "Epoch 1/10\n",
      " 1/47 [..............................] - ETA: 7s - loss: 2.6038 - accuracy: 0.4062"
     ]
    },
    {
     "name": "stderr",
     "output_type": "stream",
     "text": [
      "2024-04-21 13:45:04.462101: W tensorflow/tsl/platform/profile_utils/cpu_utils.cc:128] Failed to get CPU frequency: 0 Hz\n"
     ]
    },
    {
     "name": "stdout",
     "output_type": "stream",
     "text": [
      "47/47 [==============================] - 0s 3ms/step - loss: 2.4296 - accuracy: 0.4983 - val_loss: 2.3999 - val_accuracy: 0.4755\n",
      "Epoch 2/10\n",
      "47/47 [==============================] - 0s 998us/step - loss: 2.2291 - accuracy: 0.4956 - val_loss: 2.1943 - val_accuracy: 0.4755\n",
      "Epoch 3/10\n",
      "47/47 [==============================] - 0s 873us/step - loss: 2.0328 - accuracy: 0.4923 - val_loss: 1.9933 - val_accuracy: 0.4700\n",
      "Epoch 4/10\n",
      "47/47 [==============================] - 0s 908us/step - loss: 1.8435 - accuracy: 0.4909 - val_loss: 1.8003 - val_accuracy: 0.4687\n",
      "Epoch 5/10\n",
      "47/47 [==============================] - 0s 1ms/step - loss: 1.6628 - accuracy: 0.4909 - val_loss: 1.6166 - val_accuracy: 0.4632\n",
      "Epoch 6/10\n",
      "47/47 [==============================] - 0s 919us/step - loss: 1.4910 - accuracy: 0.4882 - val_loss: 1.4451 - val_accuracy: 0.4591\n",
      "Epoch 7/10\n",
      "47/47 [==============================] - 0s 901us/step - loss: 1.3303 - accuracy: 0.4882 - val_loss: 1.2836 - val_accuracy: 0.4605\n",
      "Epoch 8/10\n",
      "47/47 [==============================] - 0s 887us/step - loss: 1.1831 - accuracy: 0.4903 - val_loss: 1.1338 - val_accuracy: 0.4632\n",
      "Epoch 9/10\n",
      "47/47 [==============================] - 0s 892us/step - loss: 1.0497 - accuracy: 0.4936 - val_loss: 1.0100 - val_accuracy: 0.4578\n",
      "Epoch 10/10\n",
      "47/47 [==============================] - 0s 903us/step - loss: 0.9401 - accuracy: 0.4909 - val_loss: 0.9001 - val_accuracy: 0.4591\n",
      "23/23 [==============================] - 0s 431us/step - loss: 0.9001 - accuracy: 0.4591\n",
      "Test Loss: 0.9001\n",
      "Test Accuracy: 0.4591\n"
     ]
    }
   ],
   "source": [
    "import tensorflow as tf\n",
    "from tensorflow.keras.models import Sequential # The Sequential model is a linear stack of layers.\n",
    "from tensorflow.keras.layers import Dense # The Dense layer is a fully connected layer.\n",
    "\n",
    "# Define the model architecture, loss function, and optimizer. Uses binary crossentropy as the loss function and the Adam optimizer.\n",
    "model = Sequential()\n",
    "model.add(Dense(1, activation='sigmoid', input_shape=(X_train.shape[1],)))\n",
    "\n",
    "# Compile the model, specifying the Adam optimizer, binary crossentropy loss function, and accuracy as the evaluation metric.\n",
    "# The Adam optimizer is a variant of gradient descent that is widely used in machine learning because it automatically adapts the learning rate during training.\n",
    "# Binary crossentropy is a loss function used for binary classification problems, and accuracy is a common evaluation metric for classification models.\n",
    "# The compile method configures the model for training by specifying the optimizer, loss function, and evaluation metric.\n",
    "# The optimizer is responsible for updating the model's weights during training, the loss function is used to measure the model's performance, and the evaluation metric is used to monitor the model's performance during training.\n",
    "model.compile(optimizer='adam', loss='binary_crossentropy', metrics=['accuracy'])\n",
    "\n",
    "# Train the model, specifying the training data, number of epochs, and batch size.\n",
    "# The fit method trains the model on the training data for a fixed number of epochs (iterations over the entire dataset).\n",
    "# The batch size specifies the number of samples that are used to compute the gradient update during training.\n",
    "history = model.fit(X_train, y_train, epochs=10, validation_data=(X_test, y_test))\n",
    "\n",
    "# Evaluate the model, calculating the loss and accuracy on the test set.\n",
    "test_loss, test_accuracy = model.evaluate(X_test, y_test)\n",
    "print(f'Test Loss: {test_loss:.4f}')\n",
    "print(f'Test Accuracy: {test_accuracy:.4f}')\n",
    "\n",
    "# Plot training and validation loss over epochs, to visualize the model's performance during training."
   ]
  },
  {
   "cell_type": "code",
   "execution_count": 15,
   "metadata": {},
   "outputs": [],
   "source": [
    "# Convert the history object into a pandas DataFrame\n",
    "history_df = pd.DataFrame(history.history)\n",
    "history_df['epoch'] = range(1, len(history_df) + 1)\n",
    "\n",
    "# Plot for Accuracy\n",
    "accuracy_chart = alt.Chart(history_df).mark_line(point=True).encode(\n",
    "    x='epoch:N',\n",
    "    y=alt.Y('accuracy', title='Accuracy', scale=alt.Scale(zero=False)),\n",
    "    color=alt.value('blue')\n",
    ").properties(\n",
    "    title='Training Accuracy over Epochs'\n",
    ") + alt.Chart(history_df).mark_line(point=True).encode(\n",
    "    x='epoch:N',\n",
    "    y=alt.Y('val_accuracy', title='Validation Accuracy', scale=alt.Scale(zero=False)),\n",
    "    color=alt.value('green')\n",
    ").properties(\n",
    "    title='Validation Accuracy over Epochs'\n",
    ")\n",
    "\n",
    "# Plot for Loss\n",
    "loss_chart = alt.Chart(history_df).mark_line(point=True).encode(\n",
    "    x='epoch:N',\n",
    "    y=alt.Y('loss', title='Loss', scale=alt.Scale(zero=False)),\n",
    "    color=alt.value('red')\n",
    ").properties(\n",
    "    title='Training Loss over Epochs'\n",
    ") + alt.Chart(history_df).mark_line(point=True).encode(\n",
    "    x='epoch:N',\n",
    "    y=alt.Y('val_loss', title='Validation Loss', scale=alt.Scale(zero=False)),\n",
    "    color=alt.value('orange')\n",
    ").properties(\n",
    "    title='Validation Loss over Epochs'\n",
    ")\n",
    "\n",
    "# Combine the charts\n",
    "model_performance = alt.vconcat(accuracy_chart, loss_chart).properties(\n",
    "    spacing=30\n",
    ").configure_title(\n",
    "    fontSize=20,\n",
    "    anchor='start',\n",
    "    color='gray'\n",
    ")"
   ]
  },
  {
   "cell_type": "markdown",
   "metadata": {},
   "source": [
    "# DASH\n",
    "### link: http://127.0.0.1:8050/"
   ]
  },
  {
   "cell_type": "code",
   "execution_count": 16,
   "metadata": {},
   "outputs": [
    {
     "data": {
      "text/html": [
       "\n",
       "        <iframe\n",
       "            width=\"100%\"\n",
       "            height=\"650\"\n",
       "            src=\"http://127.0.0.1:8050/\"\n",
       "            frameborder=\"0\"\n",
       "            allowfullscreen\n",
       "            \n",
       "        ></iframe>\n",
       "        "
      ],
      "text/plain": [
       "<IPython.lib.display.IFrame at 0x16c8aaa10>"
      ]
     },
     "metadata": {},
     "output_type": "display_data"
    }
   ],
   "source": [
    "from dash import Dash, html, dcc, callback, Output, Input\n",
    "import plotly.express as px\n",
    "import pandas as pd\n",
    "import altair as alt\n",
    "import dash_vega_components as dvc\n",
    "\n",
    "\n",
    "app = Dash(__name__)\n",
    "\n",
    "app.layout = html.Div([\n",
    "    html.H1(children='NBA Wins Analysis', style={'textAlign':'center'}),\n",
    "    \n",
    "    html.Div([\n",
    "        html.Label('Select Year For all Charts:'),\n",
    "        dcc.Slider(\n",
    "            id='year-slider',\n",
    "            min=1990,\n",
    "            max=2022,\n",
    "            step=1,\n",
    "            value=1990,\n",
    "            marks={i: str(i) for i in range(1990, 2023)}\n",
    "        )\n",
    "    ]),\n",
    "\n",
    "    dvc.Vega(\n",
    "        id='graph-content-combined_charts_stats',\n",
    "        opt={},\n",
    "        spec=combined_charts_stats.to_dict()\n",
    "    ),\n",
    "\n",
    "    dvc.Vega(\n",
    "        id='graph-content-height_chart',\n",
    "        opt={},\n",
    "        spec=height_chart.to_dict()\n",
    "    ),\n",
    "    dvc.Vega(\n",
    "        id='graph-content-attendance_chart',\n",
    "        opt={},\n",
    "        spec=attendance_chart.to_dict()\n",
    "    ),\n",
    "\n",
    "    dvc.Vega(\n",
    "        id='graph-content-model_performance',\n",
    "        opt={},\n",
    "        spec=model_performance.to_dict()\n",
    "    )\n",
    "\n",
    "\n",
    "])\n",
    "\n",
    "@callback(\n",
    "    Output('graph-content-combined_charts_stats', 'spec'),\n",
    "    Input('year-slider', 'value')\n",
    ")\n",
    "def update_graph(value):\n",
    "    return slider_selection.update(value=value)\n",
    "\n",
    "if __name__ == '__main__':\n",
    "    app.run(debug=True)"
   ]
  },
  {
   "cell_type": "code",
   "execution_count": null,
   "metadata": {},
   "outputs": [],
   "source": []
  }
 ],
 "metadata": {
  "kernelspec": {
   "display_name": "base",
   "language": "python",
   "name": "python3"
  },
  "language_info": {
   "codemirror_mode": {
    "name": "ipython",
    "version": 3
   },
   "file_extension": ".py",
   "mimetype": "text/x-python",
   "name": "python",
   "nbconvert_exporter": "python",
   "pygments_lexer": "ipython3",
   "version": "3.11.0"
  }
 },
 "nbformat": 4,
 "nbformat_minor": 2
}
