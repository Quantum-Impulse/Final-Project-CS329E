{
 "cells": [
  {
   "cell_type": "code",
   "execution_count": 3,
   "metadata": {},
   "outputs": [],
   "source": [
    "# import all libraries for data analysis\n",
    "import pandas as pd\n",
    "import numpy as np\n",
    "import matplotlib.pyplot as plt\n",
    "import seaborn as sns\n",
    "import altair as alt\n",
    "import scipy.stats as stats\n"
   ]
  },
  {
   "cell_type": "markdown",
   "metadata": {},
   "source": [
    "## Import all Dataset"
   ]
  },
  {
   "cell_type": "code",
   "execution_count": 6,
   "metadata": {},
   "outputs": [],
   "source": [
    "# import all dataset and organize them\n",
    "\n",
    "# import the dataset from first resource\n",
    "# NBA Players(1996-2022).csv\n",
    "nba_players = pd.read_csv('./Datasets/NBA Players(1996-2022).csv')"
   ]
  },
  {
   "cell_type": "code",
   "execution_count": 8,
   "metadata": {},
   "outputs": [],
   "source": [
    "# import the dataset from 2nd resource\n",
    "# common_players_info.csv, game.csv, etc...\n",
    "\n",
    "common_players_info = pd.read_csv('./Datasets/NBA Database Datasets/common_player_info.csv')\n",
    "game = pd.read_csv('./Datasets/NBA Database Datasets/game.csv')\n",
    "player_2nd = pd.read_csv('./Datasets/NBA Database Datasets/player.csv')"
   ]
  },
  {
   "cell_type": "code",
   "execution_count": 10,
   "metadata": {},
   "outputs": [],
   "source": [
    "# import the dataset from third resource\n",
    "player_3rd = pd.read_csv('./Datasets/Players Since 1950/player_data.csv')\n",
    "Seasons_Stats = pd.read_csv('./Datasets/Players Since 1950/Seasons_Stats.csv')"
   ]
  },
  {
   "cell_type": "code",
   "execution_count": null,
   "metadata": {},
   "outputs": [],
   "source": []
  }
 ],
 "metadata": {
  "kernelspec": {
   "display_name": "base",
   "language": "python",
   "name": "python3"
  },
  "language_info": {
   "codemirror_mode": {
    "name": "ipython",
    "version": 3
   },
   "file_extension": ".py",
   "mimetype": "text/x-python",
   "name": "python",
   "nbconvert_exporter": "python",
   "pygments_lexer": "ipython3",
   "version": "3.11.8"
  }
 },
 "nbformat": 4,
 "nbformat_minor": 2
}
